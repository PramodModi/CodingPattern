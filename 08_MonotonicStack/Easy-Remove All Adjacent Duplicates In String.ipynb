{
 "cells": [
  {
   "cell_type": "markdown",
   "id": "b726e881",
   "metadata": {},
   "source": [
    "## Problem: Remove All Adjacent Duplicates In String\n",
    "LeetCode : 316. Remove Duplicate Letters\n",
    "\n",
    "https://leetcode.com/problems/remove-duplicate-letters/\n",
    "\n",
    "Given a string s, remove duplicate letters so that every letter appears once and only once. You must make sure your result is the smallest in lexicographical order among all possible results.\n",
    "\n",
    "Example 1:\n",
    "\n",
    "    Input: s = \"bcabc\"\n",
    "    Output: \"abc\"\n",
    "Example 2:\n",
    "\n",
    "    Input: s = \"cbacdcbc\"\n",
    "    Output: \"acdb\"\n",
    " \n",
    "\n",
    "Constraints:\n",
    "\n",
    "    1 <= s.length <= 104\n",
    "    s consists of lowercase English letters."
   ]
  },
  {
   "cell_type": "markdown",
   "id": "dc875fc0",
   "metadata": {},
   "source": [
    "### Approach: \n",
    "As the problem states that result should have in lexicographocal order, that means, result should have next greater letter. So, this problem belongs to monotonic stack pattern.\n",
    "\n",
    "We will follow the same approach and create the increasing monotonic stack. For more details: https://github.com/PramodModi/CodingPattern/blob/main/08_MonotonicStack/01-Concept%20of%20Monotonic%20Stack.ipynb\n",
    "\n",
    "Additionaly, as all letters should have visted only once and no missing letter. So, will use set to have visited letter. While pushing the letter in stack, will add the letter in visited set. And while popping from stack, will remove from set.\n",
    "\n",
    "Since all letters should have in the result, so before popping from stack, check if the letter is available at the later. For this we should have final position of each letter in the hashmap."
   ]
  },
  {
   "cell_type": "code",
   "execution_count": 10,
   "id": "366827aa",
   "metadata": {},
   "outputs": [],
   "source": [
    "def removeDuplicateLetters(s):\n",
    "    temp = {}\n",
    "    stack = []\n",
    "    visited = set()\n",
    "    \n",
    "    for i in range(len(s)):\n",
    "        temp[s[i]] = i\n",
    "    \n",
    "    for i in range(len(s)):\n",
    "        if s[i] not in visited:\n",
    "            while stack and s[i] < stack[-1] and temp[stack[-1]] > i:\n",
    "                visited.remove(stack.pop())\n",
    "            stack.append(s[i])\n",
    "            visited.add(s[i])\n",
    "    return \"\".join(stack)                "
   ]
  },
  {
   "cell_type": "code",
   "execution_count": 11,
   "id": "199da77a",
   "metadata": {},
   "outputs": [
    {
     "data": {
      "text/plain": [
       "'abc'"
      ]
     },
     "execution_count": 11,
     "metadata": {},
     "output_type": "execute_result"
    }
   ],
   "source": [
    "removeDuplicateLetters(\"bcabc\")"
   ]
  },
  {
   "cell_type": "code",
   "execution_count": 12,
   "id": "c441aa07",
   "metadata": {},
   "outputs": [
    {
     "data": {
      "text/plain": [
       "'acdb'"
      ]
     },
     "execution_count": 12,
     "metadata": {},
     "output_type": "execute_result"
    }
   ],
   "source": [
    "removeDuplicateLetters(\"cbacdcbc\")"
   ]
  },
  {
   "cell_type": "code",
   "execution_count": null,
   "id": "6822843b",
   "metadata": {},
   "outputs": [],
   "source": []
  }
 ],
 "metadata": {
  "kernelspec": {
   "display_name": "Python 3",
   "language": "python",
   "name": "python3"
  },
  "language_info": {
   "codemirror_mode": {
    "name": "ipython",
    "version": 3
   },
   "file_extension": ".py",
   "mimetype": "text/x-python",
   "name": "python",
   "nbconvert_exporter": "python",
   "pygments_lexer": "ipython3",
   "version": "3.8.8"
  }
 },
 "nbformat": 4,
 "nbformat_minor": 5
}
