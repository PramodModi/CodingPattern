{
 "cells": [
  {
   "cell_type": "markdown",
   "id": "068ee519",
   "metadata": {},
   "source": [
    "## Problem: Daily Temperature\n",
    "LeetCode: 739. Daily Temperatures\n",
    "\n",
    "https://leetcode.com/problems/daily-temperatures/\n",
    "\n",
    "Given an array of integers temperatures represents the daily temperatures, return an array answer such that answer[i] is the number of days you have to wait after the ith day to get a warmer temperature. If there is no future day for which this is possible, keep answer[i] == 0 instead.\n",
    "\n",
    " \n",
    "\n",
    "Example 1:\n",
    "\n",
    "    Input: temperatures = [73,74,75,71,69,72,76,73]\n",
    "    Output: [1,1,4,2,1,1,0,0]\n",
    "Example 2:\n",
    "\n",
    "    Input: temperatures = [30,40,50,60]\n",
    "    Output: [1,1,1,0]\n",
    "Example 3:\n",
    "\n",
    "    Input: temperatures = [30,60,90]\n",
    "    Output: [1,1,0]\n",
    " \n",
    "\n",
    "Constraints:\n",
    "\n",
    "    1 <= temperatures.length <= 105\n",
    "    30 <= temperatures[i] <= 100"
   ]
  },
  {
   "cell_type": "markdown",
   "id": "1b15adf8",
   "metadata": {},
   "source": [
    "### Approach: \n",
    "\n",
    "In this problem, we need to find the next greater temperature, and then take a difference of poistions of both in the array.\n",
    "\n",
    "This problem belongs to Monotonic Stack.\n",
    "\n",
    "a. Since next greater element needs to be populated from left to right. So, we will run the for loop from right to left.\n",
    "\n",
    "b. Create a decreasing monotonic stack (elelements in stack should be in the order of decreasing order from bottom to top. For more details: https://github.com/PramodModi/CodingPattern/blob/main/08_MonotonicStack/01-Concept%20of%20Monotonic%20Stack.ipynb\n",
    "\n",
    "c. If stack is empty, that means no greater number of that particular number, so it should be 0.\n",
    "\n",
    "d. else, next greater number = stack[-1], the top element in stack.\n",
    "e. Stack will have temperature as well as position in the array.\n",
    "f. Once got the next element at step 'd', result will have position of next greater temparature - i (taht is the position of current temperature for which next element is found."
   ]
  },
  {
   "cell_type": "code",
   "execution_count": 3,
   "id": "946f4077",
   "metadata": {},
   "outputs": [],
   "source": [
    "def dailyTemperatures(temperatures):\n",
    "    n = len(temperatures)\n",
    "    stack  = []\n",
    "    answer = [0] * n\n",
    "    \n",
    "    for i in range(n-1, -1,-1):\n",
    "        temp = temperatures[i]\n",
    "        while stack and temp > stack[-1][0]:\n",
    "            stack.pop();\n",
    "        if stack:\n",
    "            answer[i] = stack[-1][1] - i\n",
    "        stack.append((temp, i))\n",
    "    return answer\n"
   ]
  },
  {
   "cell_type": "code",
   "execution_count": 4,
   "id": "954e9d8f",
   "metadata": {},
   "outputs": [
    {
     "data": {
      "text/plain": [
       "[1, 1, 4, 2, 1, 1, 0, 0]"
      ]
     },
     "execution_count": 4,
     "metadata": {},
     "output_type": "execute_result"
    }
   ],
   "source": [
    "temperatures = [73,74,75,71,69,72,76,73]\n",
    "dailyTemperatures(temperatures)"
   ]
  },
  {
   "cell_type": "code",
   "execution_count": 5,
   "id": "df931ed0",
   "metadata": {},
   "outputs": [
    {
     "data": {
      "text/plain": [
       "[1, 1, 1, 0]"
      ]
     },
     "execution_count": 5,
     "metadata": {},
     "output_type": "execute_result"
    }
   ],
   "source": [
    "temperatures = [30,40,50,60]\n",
    "dailyTemperatures(temperatures)"
   ]
  },
  {
   "cell_type": "code",
   "execution_count": 6,
   "id": "a990351a",
   "metadata": {},
   "outputs": [
    {
     "data": {
      "text/plain": [
       "[1, 1, 0]"
      ]
     },
     "execution_count": 6,
     "metadata": {},
     "output_type": "execute_result"
    }
   ],
   "source": [
    "temperatures = [30,60,90]\n",
    "dailyTemperatures(temperatures)"
   ]
  },
  {
   "cell_type": "code",
   "execution_count": null,
   "id": "753473fe",
   "metadata": {},
   "outputs": [],
   "source": []
  }
 ],
 "metadata": {
  "kernelspec": {
   "display_name": "Python 3",
   "language": "python",
   "name": "python3"
  },
  "language_info": {
   "codemirror_mode": {
    "name": "ipython",
    "version": 3
   },
   "file_extension": ".py",
   "mimetype": "text/x-python",
   "name": "python",
   "nbconvert_exporter": "python",
   "pygments_lexer": "ipython3",
   "version": "3.8.8"
  }
 },
 "nbformat": 4,
 "nbformat_minor": 5
}
