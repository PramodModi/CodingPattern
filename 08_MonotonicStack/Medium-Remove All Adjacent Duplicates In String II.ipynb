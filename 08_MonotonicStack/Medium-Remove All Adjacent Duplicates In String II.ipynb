{
 "cells": [
  {
   "cell_type": "markdown",
   "id": "a4f079a3",
   "metadata": {},
   "source": [
    "## Problem: Remove All Adjacent Duplicates In String II\n",
    "LeetCode: 1209. Remove All Adjacent Duplicates in String II\n",
    "\n",
    "https://leetcode.com/problems/remove-all-adjacent-duplicates-in-string-ii/\n",
    "\n",
    "You are given a string s and an integer k, a k duplicate removal consists of choosing k adjacent and equal letters from s and removing them, causing the left and the right side of the deleted substring to concatenate together.\n",
    "\n",
    "We repeatedly make k duplicate removals on s until we no longer can.\n",
    "\n",
    "Return the final string after all such duplicate removals have been made. It is guaranteed that the answer is unique.\n",
    "\n",
    " \n",
    "\n",
    "Example 1:\n",
    "\n",
    "    Input: s = \"abcd\", k = 2\n",
    "    Output: \"abcd\"\n",
    "    Explanation: There's nothing to delete.\n",
    "Example 2:\n",
    "\n",
    "    Input: s = \"deeedbbcccbdaa\", k = 3\n",
    "    Output: \"aa\"\n",
    "    Explanation: \n",
    "    First delete \"eee\" and \"ccc\", get \"ddbbbdaa\"\n",
    "    Then delete \"bbb\", get \"dddaa\"\n",
    "    Finally delete \"ddd\", get \"aa\"\n",
    "Example 3:\n",
    "\n",
    "    Input: s = \"pbbcggttciiippooaais\", k = 2\n",
    "    Output: \"ps\"\n",
    "\n",
    "\n",
    "Constraints:\n",
    "\n",
    "    1 <= s.length <= 105\n",
    "    2 <= k <= 104\n",
    "    s only contains lowercase English letters."
   ]
  },
  {
   "cell_type": "markdown",
   "id": "14125ea3",
   "metadata": {},
   "source": [
    "### Approach:\n",
    "The ask of this problem is to do operation on next element, in place of greater or smaller, ask is on equality. This problem also falls under monotonic stack pattern.\n",
    "Diiferent than typical monotonic problem:\n",
    "\n",
    "    a. we need to compare for equality in place of greateer and smaller\n",
    "    \n",
    "    b. To avoid last entry of duplicate latters which makes duplicate letters of count k, we should first enter then compare\n",
    "    \n",
    "            Ex: s = \"bbcggttciiiooisaa\" \n",
    "            \n",
    "            \n",
    "Steps:\n",
    "\n",
    "1. Stack element wil have letter and its corresponding count\n",
    "2. While appending letters, check if top element's letter in the stack is same as current letter\n",
    "    a. If yes, then increase the count in top element\n",
    "    b. If no, then append the letter with count = 1\n",
    "3. Check the count in top element, if it is K, then pop the top element from stack.\n",
    "4. join the letters in stack and return.\n",
    "5. While joining, consider the number of same letters."
   ]
  },
  {
   "cell_type": "code",
   "execution_count": 44,
   "id": "e2971076",
   "metadata": {},
   "outputs": [],
   "source": [
    "def removeDuplicates(s, k):\n",
    "    stack = []\n",
    "    for i in range(len(s)):\n",
    "        c = s[i]\n",
    "        if stack and c == stack[-1][0]:  \n",
    "            stack[-1][1] +=  1\n",
    "        else:\n",
    "            stack.append([c, 1])\n",
    "        if stack[-1][1] == k:\n",
    "            stack.pop()\n",
    "\n",
    "    return \"\".join(c*cnt for c, cnt in stack)"
   ]
  },
  {
   "cell_type": "code",
   "execution_count": 45,
   "id": "9f56d65b",
   "metadata": {},
   "outputs": [
    {
     "data": {
      "text/plain": [
       "'s'"
      ]
     },
     "execution_count": 45,
     "metadata": {},
     "output_type": "execute_result"
    }
   ],
   "source": [
    "s = \"bbcggttciiiooisaa\"\n",
    "k = 2\n",
    "removeDuplicates(s, k)"
   ]
  },
  {
   "cell_type": "code",
   "execution_count": 46,
   "id": "d51a12b9",
   "metadata": {},
   "outputs": [
    {
     "data": {
      "text/plain": [
       "'ps'"
      ]
     },
     "execution_count": 46,
     "metadata": {},
     "output_type": "execute_result"
    }
   ],
   "source": [
    "s = \"pbbcggttciiippooaais\"\n",
    "k = 2\n",
    "removeDuplicates(s, k)"
   ]
  },
  {
   "cell_type": "code",
   "execution_count": 47,
   "id": "5323248b",
   "metadata": {},
   "outputs": [
    {
     "data": {
      "text/plain": [
       "'abcd'"
      ]
     },
     "execution_count": 47,
     "metadata": {},
     "output_type": "execute_result"
    }
   ],
   "source": [
    "s = \"abcd\"\n",
    "k = 2\n",
    "removeDuplicates(s, k)\n"
   ]
  },
  {
   "cell_type": "code",
   "execution_count": 48,
   "id": "f0e03b0a",
   "metadata": {},
   "outputs": [
    {
     "data": {
      "text/plain": [
       "'aa'"
      ]
     },
     "execution_count": 48,
     "metadata": {},
     "output_type": "execute_result"
    }
   ],
   "source": [
    "s = \"deeedbbcccbdaa\"\n",
    "k = 3\n",
    "removeDuplicates(s, k)"
   ]
  },
  {
   "cell_type": "code",
   "execution_count": 49,
   "id": "78013b75",
   "metadata": {},
   "outputs": [
    {
     "data": {
      "text/plain": [
       "'ybth'"
      ]
     },
     "execution_count": 49,
     "metadata": {},
     "output_type": "execute_result"
    }
   ],
   "source": [
    "s = \"yfttttfbbbbnnnnffbgffffgbbbbgssssgthyyyy\"\n",
    "k = 4\n",
    "removeDuplicates(s, k)"
   ]
  },
  {
   "cell_type": "code",
   "execution_count": null,
   "id": "19bac7c5",
   "metadata": {},
   "outputs": [],
   "source": []
  }
 ],
 "metadata": {
  "kernelspec": {
   "display_name": "Python 3",
   "language": "python",
   "name": "python3"
  },
  "language_info": {
   "codemirror_mode": {
    "name": "ipython",
    "version": 3
   },
   "file_extension": ".py",
   "mimetype": "text/x-python",
   "name": "python",
   "nbconvert_exporter": "python",
   "pygments_lexer": "ipython3",
   "version": "3.8.8"
  }
 },
 "nbformat": 4,
 "nbformat_minor": 5
}
