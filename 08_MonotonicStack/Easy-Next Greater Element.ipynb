{
 "cells": [
  {
   "cell_type": "markdown",
   "id": "fc8aa140",
   "metadata": {},
   "source": [
    "## Problem: Next Greater Element\n",
    "496. Next Greater Element I\n",
    "\n",
    "https://leetcode.com/problems/next-greater-element-i/\n",
    "\n",
    "The next greater element of some element x in an array is the first greater element that is to the right of x in the same array.\n",
    "\n",
    "You are given two distinct 0-indexed integer arrays nums1 and nums2, where nums1 is a subset of nums2.\n",
    "\n",
    "For each 0 <= i < nums1.length, find the index j such that nums1[i] == nums2[j] and determine the next greater element of nums2[j] in nums2. If there is no next greater element, then the answer for this query is -1.\n",
    "\n",
    "Return an array ans of length nums1.length such that ans[i] is the next greater element as described above.\n",
    "\n",
    " \n",
    "\n",
    "Example 1:\n",
    "\n",
    "    Input: nums1 = [4,1,2], nums2 = [1,3,4,2]\n",
    "    Output: [-1,3,-1]\n",
    "    Explanation: The next greater element for each value of nums1 is as follows:\n",
    "    - 4 is underlined in nums2 = [1,3,4,2]. There is no next greater element, so the answer is -1.\n",
    "    - 1 is underlined in nums2 = [1,3,4,2]. The next greater element is 3.\n",
    "    - 2 is underlined in nums2 = [1,3,4,2]. There is no next greater element, so the answer is -1.\n",
    "Example 2:\n",
    "\n",
    "    Input: nums1 = [2,4], nums2 = [1,2,3,4]\n",
    "    Output: [3,-1]\n",
    "    Explanation: The next greater element for each value of nums1 is as follows:\n",
    "    - 2 is underlined in nums2 = [1,2,3,4]. The next greater element is 3.\n",
    "    - 4 is underlined in nums2 = [1,2,3,4]. There is no next greater element, so the answer is -1.\n",
    " \n",
    "\n",
    "Constraints:\n",
    "\n",
    "    1 <= nums1.length <= nums2.length <= 1000\n",
    "    0 <= nums1[i], nums2[i] <= 104\n",
    "    All integers in nums1 and nums2 are unique.\n",
    "    All the integers of nums1 also appear in nums2."
   ]
  },
  {
   "cell_type": "markdown",
   "id": "0374bc26",
   "metadata": {},
   "source": [
    "### Approach:\n",
    "\n",
    "We have to find the next greater element of nums1. So, this problem belongs to Monotonic Stack pattern.\n",
    "Since nums1 is the subset of nums2, so populate the next greater element for all numbers in nums2. We can have temporaray array, at ith position, keep the next greater element of a number from nums2 at position i.\n",
    "To find the next greater element of a number from nums1, need to 1st find the position of that number in nums2 and then get the next greater element from temp array.\n",
    "\n",
    "To avoid the loop while finding the position of a number from nums1 into nums2 array. Better to keep a hashmap of numbers in nums2 as key and its next greater element as value. So, number from nums1 will use the hashmap to get the next element. No extra loop is needed.\n",
    "\n",
    "Step:\n",
    "1. Populate the hashmap with next greater element of nums2 array.\n",
    "    a. Since next greater element needs to be populated from left to right. So, we will run the for loop from right to left.\n",
    "    b. Create a decreasing monotonic stack (elelements in stack should be in the order of decreasing order from bottom to top. For mpre details:  https://github.com/PramodModi/CodingPattern/blob/main/08_MonotonicStack/01-Concept%20of%20Monotonic%20Stack.ipynb\n",
    "    c. If stack is empty, that means no greater number of that particular number, so it should be -1.\n",
    "    d. else, next greater number = stack[-1], the top element in stack.\n",
    "2. Creata a result array of size nums1, with 0 as populated values.\n",
    "3. Iterate the nums1, look at the next greater element in hashmap for each number in nums1.\n",
    "4. Return result array."
   ]
  },
  {
   "cell_type": "code",
   "execution_count": 11,
   "id": "9336e228",
   "metadata": {},
   "outputs": [],
   "source": [
    "def nextGreaterElement(nums1, nums2):\n",
    "    hashmap = {}\n",
    "    stack = []\n",
    "    n = len(nums2)\n",
    "    for i in range(n-1, -1,-1):\n",
    "        while stack and nums2[i] > stack[-1]:\n",
    "            stack.pop()\n",
    "        if stack:\n",
    "            hashmap[nums2[i]]= stack[-1]\n",
    "        else:\n",
    "            hashmap[nums2[i]]= -1\n",
    "        stack.append(nums2[i])\n",
    "    \n",
    "    result = [0]*len(nums1)\n",
    "    \n",
    "    for j in range(len(nums1)):\n",
    "        result[j] = hashmap[nums1[j]]\n",
    "    return result"
   ]
  },
  {
   "cell_type": "code",
   "execution_count": 12,
   "id": "3acc5eab",
   "metadata": {},
   "outputs": [
    {
     "data": {
      "text/plain": [
       "[-1, 3, -1]"
      ]
     },
     "execution_count": 12,
     "metadata": {},
     "output_type": "execute_result"
    }
   ],
   "source": [
    "nums1 = [4,1,2]\n",
    "nums2 = [1,3,4,2]\n",
    "nextGreaterElement(nums1, nums2)"
   ]
  },
  {
   "cell_type": "code",
   "execution_count": 13,
   "id": "1b6e4a61",
   "metadata": {},
   "outputs": [
    {
     "data": {
      "text/plain": [
       "[3, -1]"
      ]
     },
     "execution_count": 13,
     "metadata": {},
     "output_type": "execute_result"
    }
   ],
   "source": [
    "nums1 = [2,4]\n",
    "nums2 = [1,2,3,4]\n",
    "nextGreaterElement(nums1, nums2)"
   ]
  },
  {
   "cell_type": "code",
   "execution_count": null,
   "id": "ca10e53f",
   "metadata": {},
   "outputs": [],
   "source": []
  }
 ],
 "metadata": {
  "kernelspec": {
   "display_name": "Python 3",
   "language": "python",
   "name": "python3"
  },
  "language_info": {
   "codemirror_mode": {
    "name": "ipython",
    "version": 3
   },
   "file_extension": ".py",
   "mimetype": "text/x-python",
   "name": "python",
   "nbconvert_exporter": "python",
   "pygments_lexer": "ipython3",
   "version": "3.8.8"
  }
 },
 "nbformat": 4,
 "nbformat_minor": 5
}
