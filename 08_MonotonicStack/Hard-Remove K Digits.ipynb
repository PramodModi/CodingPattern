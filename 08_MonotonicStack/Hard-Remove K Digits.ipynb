{
 "cells": [
  {
   "cell_type": "markdown",
   "id": "179a8368",
   "metadata": {},
   "source": [
    "### Problem: Remove K Digits\n",
    "LeetCode: 402. Remove K Digits\n",
    "\n",
    "https://leetcode.com/problems/remove-k-digits/\n",
    "\n",
    "Given string num representing a non-negative integer num, and an integer k, return the smallest possible integer after removing k digits from num.\n",
    "\n",
    "Example 1:\n",
    "\n",
    "    Input: num = \"1432219\", k = 3\n",
    "    Output: \"1219\"\n",
    "    Explanation: Remove the three digits 4, 3, and 2 to form the new number 1219 which is the smallest.\n",
    "Example 2:\n",
    "\n",
    "    Input: num = \"10200\", k = 1\n",
    "    Output: \"200\"\n",
    "    Explanation: Remove the leading 1 and the number is 200. Note that the output must not contain leading zeroes.\n",
    "Example 3:\n",
    "\n",
    "    Input: num = \"10\", k = 2\n",
    "    Output: \"0\"\n",
    "    Explanation: Remove all the digits from the number and it is left with nothing which is 0.\n",
    " \n",
    "\n",
    "Constraints:\n",
    "\n",
    "    1 <= k <= num.length <= 105\n",
    "    num consists of only digits.\n",
    "    num does not have any leading zeros except for the zero itself."
   ]
  },
  {
   "cell_type": "markdown",
   "id": "f78463a4",
   "metadata": {},
   "source": [
    "### Approach:\n",
    "To have smaller number, we need to find the next smaller number. So, this problem falls in to Monotonic stack pattern. For more details: https://github.com/PramodModi/CodingPattern/blob/main/08_MonotonicStack/01-Concept%20of%20Monotonic%20Stack.ipynb\n",
    "\n",
    "Steps:\n",
    "1. Find the next smaller number.\n",
    "    a. Add number in stack, however, if top element in stack is greater than current number then pop the element from stack. We can only remove K times, so put extra condition k > 0. Reduce k by one at each pop.\n",
    "2. if k is not zero, that means k element is not removed. \n",
    "    As, stack is increasing monotic stack, so top element is greater element from its preceding elements. So, pop elements till k is greater than zero.\n",
    "    \n",
    "3. Now, while returning, remove leading zero. Also if stack is empty then return '0'."
   ]
  },
  {
   "cell_type": "code",
   "execution_count": 44,
   "id": "2ec38a13",
   "metadata": {},
   "outputs": [],
   "source": [
    "def removeKdigits(num, k):\n",
    "    if len(num) == 1:\n",
    "        return '0'\n",
    "    stack = []\n",
    "    for i in range(len(num)):\n",
    "        while stack and num[i] < stack[-1] and k >0:\n",
    "            stack.pop()\n",
    "            k -= 1\n",
    "        stack.append(num[i])\n",
    "    \n",
    "    while k and stack:\n",
    "        stack.pop()\n",
    "        k -=1\n",
    "    \n",
    "    ret = \"\"\n",
    "    for a in stack:\n",
    "        if a == '0'and len(ret) == 0:\n",
    "            continue\n",
    "        ret += a\n",
    "    if len(ret) == 0:\n",
    "        ret = '0'\n",
    "                \n",
    "    return ret\n",
    "        \n",
    "            "
   ]
  },
  {
   "cell_type": "code",
   "execution_count": 45,
   "id": "b52e78f7",
   "metadata": {},
   "outputs": [
    {
     "data": {
      "text/plain": [
       "'1219'"
      ]
     },
     "execution_count": 45,
     "metadata": {},
     "output_type": "execute_result"
    }
   ],
   "source": [
    "num = \"1432219\"\n",
    "k = 3\n",
    "removeKdigits(num, k)"
   ]
  },
  {
   "cell_type": "code",
   "execution_count": 46,
   "id": "feffa33b",
   "metadata": {},
   "outputs": [
    {
     "data": {
      "text/plain": [
       "'200'"
      ]
     },
     "execution_count": 46,
     "metadata": {},
     "output_type": "execute_result"
    }
   ],
   "source": [
    "num = \"10200\"\n",
    "k = 1\n",
    "removeKdigits(num, k)"
   ]
  },
  {
   "cell_type": "code",
   "execution_count": 47,
   "id": "86b8d14d",
   "metadata": {},
   "outputs": [
    {
     "data": {
      "text/plain": [
       "'0'"
      ]
     },
     "execution_count": 47,
     "metadata": {},
     "output_type": "execute_result"
    }
   ],
   "source": [
    "num = \"10\"\n",
    "k = 2\n",
    "removeKdigits(num, k)"
   ]
  },
  {
   "cell_type": "code",
   "execution_count": 48,
   "id": "3d6b3156",
   "metadata": {},
   "outputs": [
    {
     "data": {
      "text/plain": [
       "'1'"
      ]
     },
     "execution_count": 48,
     "metadata": {},
     "output_type": "execute_result"
    }
   ],
   "source": [
    "num = \"12\"\n",
    "k = 1\n",
    "removeKdigits(num, k)"
   ]
  },
  {
   "cell_type": "code",
   "execution_count": 49,
   "id": "2e55c265",
   "metadata": {},
   "outputs": [
    {
     "data": {
      "text/plain": [
       "'0'"
      ]
     },
     "execution_count": 49,
     "metadata": {},
     "output_type": "execute_result"
    }
   ],
   "source": [
    "num = \"1\"\n",
    "k = 1\n",
    "removeKdigits(num, k)"
   ]
  },
  {
   "cell_type": "code",
   "execution_count": 50,
   "id": "ce83dc6b",
   "metadata": {},
   "outputs": [
    {
     "data": {
      "text/plain": [
       "'0'"
      ]
     },
     "execution_count": 50,
     "metadata": {},
     "output_type": "execute_result"
    }
   ],
   "source": [
    "num = \"1001\"\n",
    "k = 2\n",
    "removeKdigits(num, k)"
   ]
  },
  {
   "cell_type": "code",
   "execution_count": 51,
   "id": "e11d0104",
   "metadata": {},
   "outputs": [
    {
     "data": {
      "text/plain": [
       "'123'"
      ]
     },
     "execution_count": 51,
     "metadata": {},
     "output_type": "execute_result"
    }
   ],
   "source": [
    "num = \"12345\"\n",
    "k = 2\n",
    "removeKdigits(num, k)"
   ]
  },
  {
   "cell_type": "code",
   "execution_count": null,
   "id": "317fe6a1",
   "metadata": {},
   "outputs": [],
   "source": []
  }
 ],
 "metadata": {
  "kernelspec": {
   "display_name": "Python 3",
   "language": "python",
   "name": "python3"
  },
  "language_info": {
   "codemirror_mode": {
    "name": "ipython",
    "version": 3
   },
   "file_extension": ".py",
   "mimetype": "text/x-python",
   "name": "python",
   "nbconvert_exporter": "python",
   "pygments_lexer": "ipython3",
   "version": "3.8.8"
  }
 },
 "nbformat": 4,
 "nbformat_minor": 5
}
