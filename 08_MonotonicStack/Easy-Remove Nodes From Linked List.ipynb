{
 "cells": [
  {
   "cell_type": "markdown",
   "id": "0274dfde",
   "metadata": {},
   "source": [
    "## Problem: Remove Nodes From Linked List\n",
    "\n",
    "Given the head node of a singly linked list, modify the list such that any node that has a node with a greater value to its right gets removed. The function should return the head of the modified list.\n",
    "\n",
    "Example1:\n",
    "\n",
    "    Input: 5 -> 3 -> 7 -> 4 -> 2 -> 1\n",
    "    Output: 7 -> 4 -> 2 -> 1\n",
    "    Explanation: 5 and 3 are removed as they have nodes with larger values to their right.\n",
    "\n",
    "Example2:\n",
    "\n",
    "    Input: 1 -> 2 -> 3 -> 4 -> 5\n",
    "    Output: 5\n",
    "    Explanation: 1, 2, 3, and 4 are removed as they have nodes with larger values to their right.\n",
    "Example3:\n",
    "\n",
    "    Input: 5 -> 4 -> 3 -> 2 -> 1\n",
    "    Output: 5->4->3->2->1"
   ]
  },
  {
   "cell_type": "markdown",
   "id": "c539a01d",
   "metadata": {},
   "source": [
    "### Approach:\n",
    "We need to find next node having greater value than current node's value. If found, then current node should be removed from list. This is monotonic stack problem.\n",
    "\n",
    "1. Create a decreasing monotonic stack. For more info: https://github.com/PramodModi/CodingPattern/blob/main/08_MonotonicStack/01-Concept%20of%20Monotonic%20Stack.ipynb\n",
    "\n",
    "2. Delete the node, if you are poping up node from stack.\n",
    "\n",
    "3. Since previous node is needed to delete a node, so better to have (current, prev) nodes in stack.\n",
    "\n",
    "4. For first node, prev would be None. If deleteing a node having prev is None, that means you are deleting head node, so point head to next node of node which is getting deleted.\n",
    "\n",
    "5. While deleting node, keep updating the prev also, it should always be prev node of node which is getting deleted.\n"
   ]
  },
  {
   "cell_type": "code",
   "execution_count": 6,
   "id": "4ff3b56d",
   "metadata": {},
   "outputs": [],
   "source": [
    "## Create a linked list [This is not part of the solution. Yhis is for testing of solution]\n",
    "\n",
    "class Node:\n",
    "    def __init__(self, val):\n",
    "        self.val = val\n",
    "        self.next = None\n",
    "def insert(head, val):\n",
    "    newNode = Node(val)\n",
    "    if head is None:\n",
    "        head = newNode\n",
    "        return head\n",
    "    temp = head\n",
    "    while temp.next:\n",
    "        temp = temp.next\n",
    "    temp.next = newNode\n",
    "    return head\n",
    "def printList(head):\n",
    "    if head is None:\n",
    "        return head\n",
    "    temp = head\n",
    "    while temp.next:\n",
    "        print(temp.val, end = \"->\")\n",
    "        temp = temp.next\n",
    "    print(temp.val)\n",
    "    \n",
    "\n",
    "        "
   ]
  },
  {
   "cell_type": "code",
   "execution_count": 12,
   "id": "233c75d7",
   "metadata": {},
   "outputs": [],
   "source": [
    "def removeNode(head):\n",
    "    stack = []\n",
    "    temp = head\n",
    "    prev = None\n",
    "    while temp:       \n",
    "        while stack and temp.val > stack[-1][0].val:\n",
    "            node, prevNode = stack.pop()\n",
    "            if prevNode : \n",
    "                prevNode.next = node.next\n",
    "            else:\n",
    "                head = node.next\n",
    "            prev = prevNode \n",
    "            node.next = None\n",
    "            node = None\n",
    "        stack.append((temp, prev))\n",
    "        prev = temp\n",
    "        temp = temp.next\n",
    "    return head\n",
    "            \n"
   ]
  },
  {
   "cell_type": "code",
   "execution_count": 13,
   "id": "9a973001",
   "metadata": {},
   "outputs": [
    {
     "name": "stdout",
     "output_type": "stream",
     "text": [
      "5->3->7->4->2->1\n",
      "7->4->2->1\n"
     ]
    }
   ],
   "source": [
    "head = None\n",
    "head = insert(head, 5)\n",
    "head = insert(head, 3)\n",
    "head = insert(head, 7)\n",
    "head = insert(head, 4)\n",
    "head = insert(head, 2)\n",
    "head = insert(head, 1)\n",
    "printList(head)\n",
    "head = removeNode(head)\n",
    "printList(head)\n"
   ]
  },
  {
   "cell_type": "code",
   "execution_count": 14,
   "id": "99958ff3",
   "metadata": {},
   "outputs": [
    {
     "name": "stdout",
     "output_type": "stream",
     "text": [
      "5->4->3->2->1\n",
      "5->4->3->2->1\n"
     ]
    }
   ],
   "source": [
    "head = None\n",
    "head = insert(head, 5)\n",
    "head = insert(head, 4)\n",
    "head = insert(head, 3)\n",
    "head = insert(head, 2)\n",
    "head = insert(head, 1)\n",
    "printList(head)\n",
    "head = removeNode(head)\n",
    "printList(head)"
   ]
  },
  {
   "cell_type": "code",
   "execution_count": 15,
   "id": "bd46fe54",
   "metadata": {},
   "outputs": [
    {
     "name": "stdout",
     "output_type": "stream",
     "text": [
      "1->2->3->4->5\n",
      "5\n"
     ]
    }
   ],
   "source": [
    "head = None\n",
    "head = insert(head, 1)\n",
    "head = insert(head, 2)\n",
    "head = insert(head, 3)\n",
    "head = insert(head, 4)\n",
    "head = insert(head, 5)\n",
    "printList(head)\n",
    "head = removeNode(head)\n",
    "printList(head)"
   ]
  },
  {
   "cell_type": "code",
   "execution_count": 16,
   "id": "d6c154c1",
   "metadata": {},
   "outputs": [
    {
     "name": "stdout",
     "output_type": "stream",
     "text": [
      "12->15->10->11->5->6->2->3\n",
      "15->11->6->3\n"
     ]
    }
   ],
   "source": [
    "head = None\n",
    "head = insert(head, 12)\n",
    "head = insert(head, 15)\n",
    "head = insert(head, 10)\n",
    "head = insert(head, 11)\n",
    "head = insert(head, 5)\n",
    "head = insert(head, 6)\n",
    "head = insert(head, 2)\n",
    "head = insert(head, 3)\n",
    "printList(head)\n",
    "head = removeNode(head)\n",
    "printList(head)"
   ]
  },
  {
   "cell_type": "code",
   "execution_count": null,
   "id": "d86c0677",
   "metadata": {},
   "outputs": [],
   "source": []
  }
 ],
 "metadata": {
  "kernelspec": {
   "display_name": "Python 3",
   "language": "python",
   "name": "python3"
  },
  "language_info": {
   "codemirror_mode": {
    "name": "ipython",
    "version": 3
   },
   "file_extension": ".py",
   "mimetype": "text/x-python",
   "name": "python",
   "nbconvert_exporter": "python",
   "pygments_lexer": "ipython3",
   "version": "3.8.8"
  }
 },
 "nbformat": 4,
 "nbformat_minor": 5
}
