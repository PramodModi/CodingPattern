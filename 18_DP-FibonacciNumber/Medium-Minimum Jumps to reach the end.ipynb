{
 "cells": [
  {
   "cell_type": "markdown",
   "id": "788eeba7",
   "metadata": {},
   "source": [
    "## Problem: Minimum Jumps to reach the end\n",
    "LeetCode: 45. Jump Game II\n",
    "\n",
    "https://leetcode.com/problems/jump-game-ii/\n",
    "\n",
    "You are given a 0-indexed array of integers nums of length n. You are initially positioned at nums[0].\n",
    "\n",
    "Each element nums[i] represents the maximum length of a forward jump from index i. In other words, if you are at nums[i], you can jump to any nums[i + j] where:\n",
    "\n",
    "0 <= j <= nums[i] and\n",
    "i + j < n\n",
    "Return the minimum number of jumps to reach nums[n - 1]. The test cases are generated such that you can reach nums[n - 1].\n",
    "\n",
    " \n",
    "\n",
    "Example 1:\n",
    "\n",
    "    Input: nums = [2,3,1,1,4]\n",
    "    Output: 2\n",
    "    Explanation: The minimum number of jumps to reach the last index is 2. Jump 1 step from index 0 to 1, then 3 steps to the last index.\n",
    "Example 2:\n",
    "\n",
    "    Input: nums = [2,3,0,1,4]\n",
    "    Output: 2\n",
    "\n",
    "\n",
    "Constraints:\n",
    "\n",
    "    1 <= nums.length <= 104\n",
    "    0 <= nums[i] <= 1000\n",
    "    It's guaranteed that you can reach nums[n - 1]."
   ]
  },
  {
   "cell_type": "markdown",
   "id": "5835287f",
   "metadata": {},
   "source": [
    "### Approach1:\n",
    "Recurssive Approach: Idea is simple will try each possible jump at index i. Means the value of nums at index i = n, then will try each possible jump from i+1 to n. Offcourse, indexes of all jump should be less than length of nums. \n",
    "Base case, if index >= last index of nums, then we have reached to last index so return 0 (number of jump at last index = 0)\n",
    "If nums[index] = 0, that means, we are back to starting position, so return infinity. We will not able to reach last index.\n",
    "\n",
    "To find the minimum jump, lets have variable with value infinity. And keep minimum jump on each each jump."
   ]
  },
  {
   "cell_type": "code",
   "execution_count": 21,
   "id": "6e26fc65",
   "metadata": {},
   "outputs": [],
   "source": [
    "def minimumJump(nums):\n",
    "    return minimumJump_rec(nums, 0)\n",
    "def minimumJump_rec(nums, index):\n",
    "    \n",
    "    if index >= len(nums)-1:\n",
    "        return 0\n",
    "    if nums[index] == 0:\n",
    "        return float(\"inf\")\n",
    "    totalJump = float(\"inf\")\n",
    "    \n",
    "    start = index+1\n",
    "    end = start + nums[index]\n",
    "    \n",
    "    while start <= len(nums)-1 and start <= end:\n",
    "        totalJump = min(totalJump, 1 + minimumJump_rec(nums, start))\n",
    "        start += 1\n",
    "    return totalJump\n",
    "    \n",
    "        "
   ]
  },
  {
   "cell_type": "code",
   "execution_count": 22,
   "id": "bbe5ed7d",
   "metadata": {},
   "outputs": [
    {
     "data": {
      "text/plain": [
       "2"
      ]
     },
     "execution_count": 22,
     "metadata": {},
     "output_type": "execute_result"
    }
   ],
   "source": [
    "nums = [2,3,1,1,4]\n",
    "minimumJump(nums)"
   ]
  },
  {
   "cell_type": "code",
   "execution_count": 23,
   "id": "ca1db3b4",
   "metadata": {},
   "outputs": [
    {
     "data": {
      "text/plain": [
       "2"
      ]
     },
     "execution_count": 23,
     "metadata": {},
     "output_type": "execute_result"
    }
   ],
   "source": [
    "nums = [2,3,0,1,4]\n",
    "minimumJump(nums)"
   ]
  },
  {
   "cell_type": "markdown",
   "id": "174f5f2f",
   "metadata": {},
   "source": [
    "## Memoization"
   ]
  },
  {
   "cell_type": "code",
   "execution_count": 24,
   "id": "5708bef9",
   "metadata": {},
   "outputs": [],
   "source": [
    "def minJump_mem(nums):\n",
    "    n = len(nums)\n",
    "    dp = [-1] * (n+1)\n",
    "    return minJumpRec(nums, 0, dp)\n",
    "\n",
    "def minJumpRec(nums, index, dp):\n",
    "    if index >= len(nums)-1:\n",
    "        return 0\n",
    "    if nums[index] == 0:\n",
    "        return float(\"inf\")\n",
    "    if dp[index] != -1:\n",
    "        return dp[index]\n",
    "    totalCount = float(\"inf\")\n",
    "    start = index + 1\n",
    "    end = index + nums[index]\n",
    "    while start <= len(nums)-1 and start <= end:\n",
    "        totalCount = min(totalCount, 1 + minJumpRec(nums, start, dp))\n",
    "        start += 1\n",
    "    dp[index] = totalCount\n",
    "    return dp[index]"
   ]
  },
  {
   "cell_type": "code",
   "execution_count": 25,
   "id": "35895040",
   "metadata": {},
   "outputs": [
    {
     "data": {
      "text/plain": [
       "2"
      ]
     },
     "execution_count": 25,
     "metadata": {},
     "output_type": "execute_result"
    }
   ],
   "source": [
    "nums = [2,3,1,1,4]\n",
    "minJump_mem(nums)"
   ]
  },
  {
   "cell_type": "code",
   "execution_count": 26,
   "id": "609d5c63",
   "metadata": {},
   "outputs": [
    {
     "data": {
      "text/plain": [
       "2"
      ]
     },
     "execution_count": 26,
     "metadata": {},
     "output_type": "execute_result"
    }
   ],
   "source": [
    "nums = [2,3,0,1,4]\n",
    "minJump_mem(nums)"
   ]
  },
  {
   "cell_type": "markdown",
   "id": "fe66a04a",
   "metadata": {},
   "source": [
    "## DP"
   ]
  },
  {
   "cell_type": "code",
   "execution_count": 27,
   "id": "58e9654a",
   "metadata": {},
   "outputs": [],
   "source": [
    "def minJump_dp(nums):\n",
    "    n = len(nums)\n",
    "    dp = [float(\"inf\")] * n\n",
    "    dp[0] = 0\n",
    "    for i in range(n-1):\n",
    "        for j in range(i+1, i+nums[i]+1):\n",
    "            if j < n:\n",
    "                dp[j] = min(dp[j], dp[i]+1)\n",
    "    return dp[-1]"
   ]
  },
  {
   "cell_type": "code",
   "execution_count": 28,
   "id": "d6f5e55c",
   "metadata": {},
   "outputs": [
    {
     "data": {
      "text/plain": [
       "2"
      ]
     },
     "execution_count": 28,
     "metadata": {},
     "output_type": "execute_result"
    }
   ],
   "source": [
    "nums = [2,3,1,1,4]\n",
    "minJump_dp(nums)"
   ]
  },
  {
   "cell_type": "code",
   "execution_count": 29,
   "id": "f8eed8a6",
   "metadata": {},
   "outputs": [
    {
     "data": {
      "text/plain": [
       "2"
      ]
     },
     "execution_count": 29,
     "metadata": {},
     "output_type": "execute_result"
    }
   ],
   "source": [
    "nums = [2,3,0,1,4]\n",
    "minJump_dp(nums)"
   ]
  },
  {
   "cell_type": "markdown",
   "id": "3f603585",
   "metadata": {},
   "source": [
    "### Approach2:\n",
    "Use two pointers, left and right, both strat from 0. Iterate right till end of nums.\n",
    "For each right index, starting from left till right, find the maximum index from nums. Asssign left to the right + 1 and right = maximum index. This will find the maximum index for all nums value.\n",
    "That maximum value is the next jump position."
   ]
  },
  {
   "cell_type": "code",
   "execution_count": 37,
   "id": "6501730b",
   "metadata": {},
   "outputs": [],
   "source": [
    "def minJum(nums):\n",
    "    left, right, step = 0,0,0\n",
    "    while right < len(nums)-1:\n",
    "        maxIndex = 0\n",
    "        for i in range(left, right +1):\n",
    "            maxIndex = max(maxIndex, nums[i]+i)\n",
    "        left = right+1\n",
    "        right = maxIndex\n",
    "        print(\"left = \", left)\n",
    "        print(\"right = \", right)\n",
    "        step += 1\n",
    "    return step\n",
    "        "
   ]
  },
  {
   "cell_type": "code",
   "execution_count": 38,
   "id": "bd26b39b",
   "metadata": {},
   "outputs": [
    {
     "name": "stdout",
     "output_type": "stream",
     "text": [
      "left =  1\n",
      "right =  2\n",
      "left =  3\n",
      "right =  4\n"
     ]
    },
    {
     "data": {
      "text/plain": [
       "2"
      ]
     },
     "execution_count": 38,
     "metadata": {},
     "output_type": "execute_result"
    }
   ],
   "source": [
    "nums = [2,3,1,1,4]\n",
    "minJum(nums)"
   ]
  },
  {
   "cell_type": "code",
   "execution_count": 42,
   "id": "02f1ce95",
   "metadata": {},
   "outputs": [
    {
     "name": "stdout",
     "output_type": "stream",
     "text": [
      "left =  1\n",
      "right =  2\n",
      "left =  3\n",
      "right =  3\n",
      "left =  4\n",
      "right =  6\n"
     ]
    },
    {
     "data": {
      "text/plain": [
       "3"
      ]
     },
     "execution_count": 42,
     "metadata": {},
     "output_type": "execute_result"
    }
   ],
   "source": [
    "nums = [2,0,1,3,1,1]\n",
    "minJum(nums)"
   ]
  },
  {
   "cell_type": "code",
   "execution_count": null,
   "id": "4add2d11",
   "metadata": {},
   "outputs": [],
   "source": []
  }
 ],
 "metadata": {
  "kernelspec": {
   "display_name": "Python 3",
   "language": "python",
   "name": "python3"
  },
  "language_info": {
   "codemirror_mode": {
    "name": "ipython",
    "version": 3
   },
   "file_extension": ".py",
   "mimetype": "text/x-python",
   "name": "python",
   "nbconvert_exporter": "python",
   "pygments_lexer": "ipython3",
   "version": "3.8.8"
  }
 },
 "nbformat": 4,
 "nbformat_minor": 5
}
