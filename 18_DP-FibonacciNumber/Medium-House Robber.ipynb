{
 "cells": [
  {
   "cell_type": "markdown",
   "id": "955d680a",
   "metadata": {},
   "source": [
    "## Problem: House Robber\n",
    "LeetCode : 198. House Robber\n",
    "\n",
    "https://leetcode.com/problems/house-robber/\n",
    "\n",
    "You are a professional robber planning to rob houses along a street. Each house has a certain amount of money stashed, the only constraint stopping you from robbing each of them is that adjacent houses have security systems connected and it will automatically contact the police if two adjacent houses were broken into on the same night.\n",
    "\n",
    "Given an integer array nums representing the amount of money of each house, return the maximum amount of money you can rob tonight without alerting the police.\n",
    "\n",
    " \n",
    "\n",
    "Example 1:\n",
    "\n",
    "    Input: nums = [1,2,3,1]\n",
    "    Output: 4\n",
    "    Explanation: Rob house 1 (money = 1) and then rob house 3 (money = 3).\n",
    "    Total amount you can rob = 1 + 3 = 4.\n",
    "Example 2:\n",
    "\n",
    "    Input: nums = [2,7,9,3,1]\n",
    "    Output: 12\n",
    "    Explanation: Rob house 1 (money = 2), rob house 3 (money = 9) and rob house 5 (money = 1).\n",
    "    Total amount you can rob = 2 + 9 + 1 = 12.\n",
    " \n",
    "\n",
    "Constraints:\n",
    "\n",
    "    1 <= nums.length <= 100\n",
    "    0 <= nums[i] <= 400"
   ]
  },
  {
   "cell_type": "markdown",
   "id": "3c2c734b",
   "metadata": {},
   "source": [
    "### Approach: Recurrsive Method\n",
    "Call recursive method start with index 0. Roobering can be done either house at index if it is not done in house at index-1. Get the max of (houseRobber(nums, index+2)+ nums[index],houseRobber(nums, index+1))\n",
    "\n"
   ]
  },
  {
   "cell_type": "code",
   "execution_count": 5,
   "id": "5e45fa77",
   "metadata": {},
   "outputs": [],
   "source": [
    "def houseRobber_rec(nums):\n",
    "    return maxAmount(nums, 0)\n",
    "def maxAmount(nums, index):\n",
    "    if index>=len(nums):\n",
    "        return 0\n",
    "    return max(maxAmount(nums, index+2) + nums[index], maxAmount(nums, index+1))\n",
    "        "
   ]
  },
  {
   "cell_type": "code",
   "execution_count": 6,
   "id": "9df019b7",
   "metadata": {},
   "outputs": [
    {
     "data": {
      "text/plain": [
       "4"
      ]
     },
     "execution_count": 6,
     "metadata": {},
     "output_type": "execute_result"
    }
   ],
   "source": [
    "nums = [1,2,3,1]\n",
    "houseRobber_rec(nums)"
   ]
  },
  {
   "cell_type": "code",
   "execution_count": 7,
   "id": "47b0c62b",
   "metadata": {},
   "outputs": [
    {
     "data": {
      "text/plain": [
       "12"
      ]
     },
     "execution_count": 7,
     "metadata": {},
     "output_type": "execute_result"
    }
   ],
   "source": [
    "nums = [2,7,9,3,1]\n",
    "houseRobber_rec(nums)"
   ]
  },
  {
   "cell_type": "markdown",
   "id": "c9ea23a6",
   "metadata": {},
   "source": [
    "### Memoization"
   ]
  },
  {
   "cell_type": "code",
   "execution_count": 9,
   "id": "d8cd5dd5",
   "metadata": {},
   "outputs": [],
   "source": [
    "def houseRobber_mem(nums):\n",
    "    dp = [-1] * (len(nums))\n",
    "    return maxAmount_dp(nums, 0, dp)\n",
    "def maxAmount_dp(nums, index, dp):\n",
    "    if index>=len(nums):\n",
    "        return 0\n",
    "    if dp[index] != -1:\n",
    "        return dp[index]\n",
    "    dp[index] = max(maxAmount_dp(nums, index+2, dp) + nums[index], maxAmount_dp(nums, index+1, dp))\n",
    "    return dp[index]"
   ]
  },
  {
   "cell_type": "code",
   "execution_count": 10,
   "id": "d3e86e57",
   "metadata": {},
   "outputs": [
    {
     "data": {
      "text/plain": [
       "4"
      ]
     },
     "execution_count": 10,
     "metadata": {},
     "output_type": "execute_result"
    }
   ],
   "source": [
    "nums = [1,2,3,1]\n",
    "houseRobber_mem(nums)"
   ]
  },
  {
   "cell_type": "code",
   "execution_count": 11,
   "id": "c335a83e",
   "metadata": {},
   "outputs": [
    {
     "data": {
      "text/plain": [
       "12"
      ]
     },
     "execution_count": 11,
     "metadata": {},
     "output_type": "execute_result"
    }
   ],
   "source": [
    "nums = [2,7,9,3,1]\n",
    "houseRobber_mem(nums)"
   ]
  },
  {
   "cell_type": "markdown",
   "id": "d79f6147",
   "metadata": {},
   "source": [
    "### Dynamic Programming"
   ]
  },
  {
   "cell_type": "code",
   "execution_count": 23,
   "id": "ada73cb6",
   "metadata": {},
   "outputs": [],
   "source": [
    "def houseRobber_dp(nums):\n",
    "    n = len(nums)\n",
    "    if n == 1:\n",
    "        return nums[0]\n",
    "    dp = [float(\"-inf\")] * (n)\n",
    "    dp[0] = nums[0]\n",
    "    dp[1] = max(nums[0], nums[1])\n",
    "    for i in range(2, n):\n",
    "        dp[i] = max(dp[i-2] + nums[i], dp[i-1])\n",
    "    return dp[-1]"
   ]
  },
  {
   "cell_type": "code",
   "execution_count": 24,
   "id": "2f522387",
   "metadata": {},
   "outputs": [
    {
     "data": {
      "text/plain": [
       "4"
      ]
     },
     "execution_count": 24,
     "metadata": {},
     "output_type": "execute_result"
    }
   ],
   "source": [
    "nums = [1,2,3,1]\n",
    "houseRobber_dp(nums)"
   ]
  },
  {
   "cell_type": "code",
   "execution_count": 25,
   "id": "0b7d542d",
   "metadata": {},
   "outputs": [
    {
     "data": {
      "text/plain": [
       "12"
      ]
     },
     "execution_count": 25,
     "metadata": {},
     "output_type": "execute_result"
    }
   ],
   "source": [
    "nums = [2,7,9,3,1]\n",
    "houseRobber_dp(nums)"
   ]
  },
  {
   "cell_type": "markdown",
   "id": "bf670a7b",
   "metadata": {},
   "source": [
    "### Further optimization"
   ]
  },
  {
   "cell_type": "code",
   "execution_count": 20,
   "id": "5af8f430",
   "metadata": {},
   "outputs": [],
   "source": [
    "def houseRobber_opt(nums):\n",
    "    n = len(nums)\n",
    "    prev2 = nums[0]\n",
    "    if n == 1:\n",
    "        return prev2\n",
    "    prev1 = max(nums[0], nums[1])\n",
    "    for i in range(2, n):\n",
    "        current = max(prev2 + nums[i], prev1)\n",
    "        prev2, prev1 = prev1, current\n",
    "    return prev1"
   ]
  },
  {
   "cell_type": "code",
   "execution_count": 21,
   "id": "a474ae57",
   "metadata": {},
   "outputs": [
    {
     "data": {
      "text/plain": [
       "4"
      ]
     },
     "execution_count": 21,
     "metadata": {},
     "output_type": "execute_result"
    }
   ],
   "source": [
    "nums = [1,2,3,1]\n",
    "houseRobber_opt(nums)"
   ]
  },
  {
   "cell_type": "code",
   "execution_count": 22,
   "id": "8a6cb940",
   "metadata": {},
   "outputs": [
    {
     "data": {
      "text/plain": [
       "12"
      ]
     },
     "execution_count": 22,
     "metadata": {},
     "output_type": "execute_result"
    }
   ],
   "source": [
    "nums = [2,7,9,3,1]\n",
    "houseRobber_opt(nums)"
   ]
  },
  {
   "cell_type": "code",
   "execution_count": null,
   "id": "19595606",
   "metadata": {},
   "outputs": [],
   "source": []
  }
 ],
 "metadata": {
  "kernelspec": {
   "display_name": "Python 3",
   "language": "python",
   "name": "python3"
  },
  "language_info": {
   "codemirror_mode": {
    "name": "ipython",
    "version": 3
   },
   "file_extension": ".py",
   "mimetype": "text/x-python",
   "name": "python",
   "nbconvert_exporter": "python",
   "pygments_lexer": "ipython3",
   "version": "3.8.8"
  }
 },
 "nbformat": 4,
 "nbformat_minor": 5
}
