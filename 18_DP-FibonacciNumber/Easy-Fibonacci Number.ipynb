{
 "cells": [
  {
   "cell_type": "markdown",
   "id": "c148e2ad",
   "metadata": {},
   "source": [
    "## Problem: Fibonacci Number\n",
    "LeetCode: 509. Fibonacci Number\n",
    "\n",
    "https://leetcode.com/problems/fibonacci-number/\n",
    "\n",
    "The Fibonacci numbers, commonly denoted F(n) form a sequence, called the Fibonacci sequence, such that each number is the sum of the two preceding ones, starting from 0 and 1. That is,\n",
    "\n",
    "F(0) = 0, F(1) = 1\n",
    "F(n) = F(n - 1) + F(n - 2), for n > 1.\n",
    "Given n, calculate F(n).\n",
    "\n",
    " \n",
    "\n",
    "Example 1:\n",
    "\n",
    "    Input: n = 2\n",
    "    Output: 1\n",
    "    Explanation: F(2) = F(1) + F(0) = 1 + 0 = 1.\n",
    "Example 2:\n",
    "\n",
    "    Input: n = 3\n",
    "    Output: 2\n",
    "    Explanation: F(3) = F(2) + F(1) = 1 + 1 = 2.\n",
    "Example 3:\n",
    "\n",
    "    Input: n = 4\n",
    "    Output: 3\n",
    "    Explanation: F(4) = F(3) + F(2) = 2 + 1 = 3.\n",
    " \n",
    "\n",
    "Constraints:\n",
    "\n",
    "    0 <= n <= 30\n"
   ]
  },
  {
   "cell_type": "markdown",
   "id": "52b72230",
   "metadata": {},
   "source": [
    "### Approach:\n",
    "Fibonacci for ith number is fibonacci of (i-1)th  + fibonacci of (i-2)th numbers. Also, fibonacci of 0th = 0 and fibonacci of 1 = 1.\n",
    "\n",
    "So, the recurrance relationship is fib(i) = fib(i-2) + fib(i-1)"
   ]
  },
  {
   "cell_type": "code",
   "execution_count": 5,
   "id": "537ab7e1",
   "metadata": {},
   "outputs": [],
   "source": [
    "def fib(n):\n",
    "    dp = [0]* (n+1)\n",
    "    dp[0] = 0\n",
    "    dp[1] = 1\n",
    "    for i in range(2, n+1):\n",
    "        dp[i] = dp[i-2] + dp[i-1]\n",
    "    return dp[-1]\n"
   ]
  },
  {
   "cell_type": "code",
   "execution_count": 2,
   "id": "2f94f015",
   "metadata": {},
   "outputs": [
    {
     "data": {
      "text/plain": [
       "2"
      ]
     },
     "execution_count": 2,
     "metadata": {},
     "output_type": "execute_result"
    }
   ],
   "source": [
    "fib(3)"
   ]
  },
  {
   "cell_type": "code",
   "execution_count": 3,
   "id": "448bc7b2",
   "metadata": {},
   "outputs": [
    {
     "data": {
      "text/plain": [
       "3"
      ]
     },
     "execution_count": 3,
     "metadata": {},
     "output_type": "execute_result"
    }
   ],
   "source": [
    "fib(4)"
   ]
  },
  {
   "cell_type": "code",
   "execution_count": 4,
   "id": "e03804c3",
   "metadata": {},
   "outputs": [
    {
     "data": {
      "text/plain": [
       "1"
      ]
     },
     "execution_count": 4,
     "metadata": {},
     "output_type": "execute_result"
    }
   ],
   "source": [
    "fib(2)"
   ]
  },
  {
   "cell_type": "markdown",
   "id": "d7bb2315",
   "metadata": {},
   "source": [
    "### Optimized way: without dp list\n",
    "Observe carefully, the current value is dependent on previous two calculation. So, rather than keeping data for whole list, keep two variables, prev and prevtoPrev and keep updating variables.\n"
   ]
  },
  {
   "cell_type": "code",
   "execution_count": 19,
   "id": "ce1faae8",
   "metadata": {},
   "outputs": [],
   "source": [
    "def fib1(n):\n",
    "    if n < 2:\n",
    "        return n\n",
    "    prevToPrev = 0\n",
    "    prev = 1\n",
    "    for i in range(2, n+1):\n",
    "        prevToPrev, prev = prev, prevToPrev + prev\n",
    "        \n",
    "    return prev\n",
    "        "
   ]
  },
  {
   "cell_type": "code",
   "execution_count": 20,
   "id": "75a3121b",
   "metadata": {},
   "outputs": [
    {
     "data": {
      "text/plain": [
       "2"
      ]
     },
     "execution_count": 20,
     "metadata": {},
     "output_type": "execute_result"
    }
   ],
   "source": [
    "fib1(3)"
   ]
  },
  {
   "cell_type": "code",
   "execution_count": 21,
   "id": "0b3e6363",
   "metadata": {},
   "outputs": [
    {
     "data": {
      "text/plain": [
       "1"
      ]
     },
     "execution_count": 21,
     "metadata": {},
     "output_type": "execute_result"
    }
   ],
   "source": [
    "fib1(2)"
   ]
  },
  {
   "cell_type": "code",
   "execution_count": 18,
   "id": "2c35b750",
   "metadata": {},
   "outputs": [
    {
     "data": {
      "text/plain": [
       "3"
      ]
     },
     "execution_count": 18,
     "metadata": {},
     "output_type": "execute_result"
    }
   ],
   "source": [
    "fib1(4)"
   ]
  },
  {
   "cell_type": "code",
   "execution_count": null,
   "id": "3bcc4ccf",
   "metadata": {},
   "outputs": [],
   "source": []
  }
 ],
 "metadata": {
  "kernelspec": {
   "display_name": "Python 3",
   "language": "python",
   "name": "python3"
  },
  "language_info": {
   "codemirror_mode": {
    "name": "ipython",
    "version": 3
   },
   "file_extension": ".py",
   "mimetype": "text/x-python",
   "name": "python",
   "nbconvert_exporter": "python",
   "pygments_lexer": "ipython3",
   "version": "3.8.8"
  }
 },
 "nbformat": 4,
 "nbformat_minor": 5
}
