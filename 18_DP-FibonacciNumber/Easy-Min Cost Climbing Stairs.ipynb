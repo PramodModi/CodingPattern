{
 "cells": [
  {
   "cell_type": "markdown",
   "id": "325bd094",
   "metadata": {},
   "source": [
    "## Problem: Min Cost Climbing Stairs\n",
    "LeetCode: 746. Min Cost Climbing Stairs\n",
    "\n",
    "https://leetcode.com/problems/min-cost-climbing-stairs/\n",
    "\n",
    "You are given an integer array cost where cost[i] is the cost of ith step on a staircase. Once you pay the cost, you can either climb one or two steps.\n",
    "\n",
    "You can either start from the step with index 0, or the step with index 1.\n",
    "\n",
    "Return the minimum cost to reach the top of the floor.\n",
    "\n",
    " \n",
    "\n",
    "Example 1:\n",
    "\n",
    "    Input: cost = [10,15,20]\n",
    "    Output: 15\n",
    "    Explanation: You will start at index 1.\n",
    "    - Pay 15 and climb two steps to reach the top.\n",
    "    The total cost is 15.\n",
    "Example 2:\n",
    "\n",
    "    Input: cost = [1,100,1,1,1,100,1,1,100,1]\n",
    "    Output: 6\n",
    "    Explanation: You will start at index 0.\n",
    "    - Pay 1 and climb two steps to reach index 2.\n",
    "    - Pay 1 and climb two steps to reach index 4.\n",
    "    - Pay 1 and climb two steps to reach index 6.\n",
    "    - Pay 1 and climb one step to reach index 7.\n",
    "    - Pay 1 and climb two steps to reach index 9.\n",
    "    - Pay 1 and climb one step to reach the top.\n",
    "    The total cost is 6.\n",
    " \n",
    "\n",
    "Constraints:\n",
    "\n",
    "    2 <= cost.length <= 1000\n",
    "    0 <= cost[i] <= 999"
   ]
  },
  {
   "cell_type": "markdown",
   "id": "64517afd",
   "metadata": {},
   "source": [
    "### Approach1: Recursive\n",
    "We will use recursive method with index = 0.\n",
    "Calculate the minimum cost, among the options, when climb take 1 step and when take 2 steps.\n",
    "minCost = min(minCostClimbing(cost, index+1), minCostClimbing(cost, index+2)) + cost[index].\n",
    "Base case = once index >= len(cost)-1, return 0\n",
    "\n",
    "Also given that, you can either start from index 0 or index 1. So, we will have to first start recursion from index 0 and then from index 1 and then take the minimum."
   ]
  },
  {
   "cell_type": "code",
   "execution_count": 25,
   "id": "ac50f592",
   "metadata": {},
   "outputs": [],
   "source": [
    "def minCostClimbing_rec(cost):\n",
    "    return min(minCostClimbing(cost, 0), minCostClimbing(cost, 1))\n",
    "\n",
    "def minCostClimbing(cost, index):\n",
    "    if index > len(cost)-1:\n",
    "        return 0\n",
    "    return min(minCostClimbing(cost, index +1), minCostClimbing(cost, index+2)) + cost[index]"
   ]
  },
  {
   "cell_type": "code",
   "execution_count": 26,
   "id": "364aad8c",
   "metadata": {},
   "outputs": [
    {
     "data": {
      "text/plain": [
       "15"
      ]
     },
     "execution_count": 26,
     "metadata": {},
     "output_type": "execute_result"
    }
   ],
   "source": [
    "cost = [10,15,20]\n",
    "minCostClimbing_rec(cost)"
   ]
  },
  {
   "cell_type": "code",
   "execution_count": 27,
   "id": "84f8a410",
   "metadata": {},
   "outputs": [
    {
     "data": {
      "text/plain": [
       "6"
      ]
     },
     "execution_count": 27,
     "metadata": {},
     "output_type": "execute_result"
    }
   ],
   "source": [
    "cost = [1,100,1,1,1,100,1,1,100,1]\n",
    "minCostClimbing_rec(cost)"
   ]
  },
  {
   "cell_type": "markdown",
   "id": "4bb362f4",
   "metadata": {},
   "source": [
    "### Recursion with Memoization"
   ]
  },
  {
   "cell_type": "code",
   "execution_count": 11,
   "id": "62b879e5",
   "metadata": {},
   "outputs": [],
   "source": [
    "def minCostClimbing_mem(cost):\n",
    "    dp = [-1] * (len(cost)+1)\n",
    "    cost1 = minCostClimbing1(cost, 0, dp)\n",
    "    dp = [-1] * (len(cost)+1)\n",
    "    cost2 = minCostClimbing1(cost, 1,dp)\n",
    "    return min(cost1, cost2)\n",
    "\n",
    "def minCostClimbing1(cost, index, dp):\n",
    "    if index > len(cost)-1:\n",
    "        return 0\n",
    "    if dp[index] != -1:\n",
    "        return dp[index]\n",
    "    dp[index] = min(minCostClimbing1(cost, index +1, dp), minCostClimbing1(cost, index+2, dp)) + cost[index]\n",
    "    return dp[index]"
   ]
  },
  {
   "cell_type": "code",
   "execution_count": 12,
   "id": "129b91dd",
   "metadata": {},
   "outputs": [
    {
     "data": {
      "text/plain": [
       "15"
      ]
     },
     "execution_count": 12,
     "metadata": {},
     "output_type": "execute_result"
    }
   ],
   "source": [
    "cost = [10,15,20]\n",
    "minCostClimbing_mem(cost)"
   ]
  },
  {
   "cell_type": "code",
   "execution_count": 13,
   "id": "1c135bbd",
   "metadata": {},
   "outputs": [
    {
     "data": {
      "text/plain": [
       "6"
      ]
     },
     "execution_count": 13,
     "metadata": {},
     "output_type": "execute_result"
    }
   ],
   "source": [
    "cost = [1,100,1,1,1,100,1,1,100,1]\n",
    "minCostClimbing_mem(cost)"
   ]
  },
  {
   "cell_type": "markdown",
   "id": "9523dfa8",
   "metadata": {},
   "source": [
    "### Dynamic Programming"
   ]
  },
  {
   "cell_type": "code",
   "execution_count": 20,
   "id": "80d78ed0",
   "metadata": {},
   "outputs": [],
   "source": [
    "def minCostClimbing_dp(cost):\n",
    "    n = len(cost)\n",
    "    dp = [float(\"inf\")]*(n+1)\n",
    "    dp[0] = 0\n",
    "    dp[1] = 0\n",
    "    for i in range(2, n+1):\n",
    "        dp[i] = min(dp[i-1] + cost[i-1], dp[i-2] + cost[i-2])\n",
    "    return dp[-1]"
   ]
  },
  {
   "cell_type": "code",
   "execution_count": 21,
   "id": "413554cb",
   "metadata": {},
   "outputs": [
    {
     "data": {
      "text/plain": [
       "15"
      ]
     },
     "execution_count": 21,
     "metadata": {},
     "output_type": "execute_result"
    }
   ],
   "source": [
    "cost = [10,15,20]\n",
    "minCostClimbing_dp(cost)"
   ]
  },
  {
   "cell_type": "code",
   "execution_count": 22,
   "id": "305081f0",
   "metadata": {},
   "outputs": [
    {
     "data": {
      "text/plain": [
       "6"
      ]
     },
     "execution_count": 22,
     "metadata": {},
     "output_type": "execute_result"
    }
   ],
   "source": [
    "cost = [1,100,1,1,1,100,1,1,100,1]\n",
    "minCostClimbing_dp(cost)"
   ]
  },
  {
   "cell_type": "code",
   "execution_count": null,
   "id": "b43c1324",
   "metadata": {},
   "outputs": [],
   "source": []
  }
 ],
 "metadata": {
  "kernelspec": {
   "display_name": "Python 3",
   "language": "python",
   "name": "python3"
  },
  "language_info": {
   "codemirror_mode": {
    "name": "ipython",
    "version": 3
   },
   "file_extension": ".py",
   "mimetype": "text/x-python",
   "name": "python",
   "nbconvert_exporter": "python",
   "pygments_lexer": "ipython3",
   "version": "3.8.8"
  }
 },
 "nbformat": 4,
 "nbformat_minor": 5
}
