{
 "cells": [
  {
   "cell_type": "markdown",
   "id": "24dda36f",
   "metadata": {},
   "source": [
    "## Problem: Number Factors\n",
    "Given a number n, implement a method to count how many possible ways there are to express n as the sum of 1, 3, or 4.\n",
    "\n",
    "Example1:\n",
    "\n",
    "    n : 4\n",
    "    Number of ways = 4\n",
    "    Explanation: Following are the four ways we can express 'n' : {1,1,1,1}, {1,3}, {3,1}, {4}\n",
    "Example 2:\n",
    "\n",
    "    n : 5\n",
    "    Number of ways = 6\n",
    "    Explanation: Following are the six ways we can express 'n' : {1,1,1,1,1}, {1,1,3}, {1,3,1}, {3,1,1},\n",
    "    {1,4}, {4,1}"
   ]
  },
  {
   "cell_type": "markdown",
   "id": "2666017e",
   "metadata": {},
   "source": [
    "### Approach:\n",
    "Similar to Fibanacci series.However, here formula is for 1, 3 and 4 whereas in Fibanacci series it is just two calls 1 and 2.\n",
    "In Recurssive solution, recursive method is getting called for (n-1), (n-3) and (n-4). \n",
    "In DP, just take dp of size four, with having base conditions. As current value is based on only three previous values, so no need to take dp of size(n+1), however, need to handle where n is more than 4, so take modulo of 4 on index of dp in for loop."
   ]
  },
  {
   "cell_type": "code",
   "execution_count": 39,
   "id": "8dcdcb60",
   "metadata": {},
   "outputs": [],
   "source": [
    "def numberFactor(n):\n",
    "    dp = [-1] * (n+1)\n",
    "    return numFact(n, dp)\n",
    "def numFact(n, dp):\n",
    "    if n <=2:\n",
    "        return 1\n",
    "    if n ==3:\n",
    "        return 2\n",
    "    if dp[n] != -1:\n",
    "        return dp[n]\n",
    "    dp[n] = numFact(n-1,dp) + numFact(n-3,dp) + numFact(n-4, dp)\n",
    "    return dp[n]\n",
    "    \n",
    "        "
   ]
  },
  {
   "cell_type": "code",
   "execution_count": 40,
   "id": "59bb62c2",
   "metadata": {},
   "outputs": [
    {
     "data": {
      "text/plain": [
       "6"
      ]
     },
     "execution_count": 40,
     "metadata": {},
     "output_type": "execute_result"
    }
   ],
   "source": [
    "numberFactor(5)"
   ]
  },
  {
   "cell_type": "code",
   "execution_count": 41,
   "id": "80ea688e",
   "metadata": {},
   "outputs": [
    {
     "data": {
      "text/plain": [
       "4"
      ]
     },
     "execution_count": 41,
     "metadata": {},
     "output_type": "execute_result"
    }
   ],
   "source": [
    "numberFactor(4)"
   ]
  },
  {
   "cell_type": "code",
   "execution_count": 42,
   "id": "523feae6",
   "metadata": {},
   "outputs": [
    {
     "data": {
      "text/plain": [
       "9"
      ]
     },
     "execution_count": 42,
     "metadata": {},
     "output_type": "execute_result"
    }
   ],
   "source": [
    "numberFactor(6)"
   ]
  },
  {
   "cell_type": "code",
   "execution_count": 43,
   "id": "df8421f6",
   "metadata": {},
   "outputs": [
    {
     "data": {
      "text/plain": [
       "64"
      ]
     },
     "execution_count": 43,
     "metadata": {},
     "output_type": "execute_result"
    }
   ],
   "source": [
    "numberFactor(10)"
   ]
  },
  {
   "cell_type": "code",
   "execution_count": 34,
   "id": "6c79fc84",
   "metadata": {},
   "outputs": [],
   "source": [
    "def numberFactor_dp(n):\n",
    "    dp =[1,1,1,2]\n",
    "    for i in range(4, n+1):\n",
    "        dp[i%4] = dp[(i-1)%4] + dp[(i-3)%4] + dp[(i-4)%4]\n",
    "    return dp[n%4]"
   ]
  },
  {
   "cell_type": "code",
   "execution_count": 35,
   "id": "8b686c4f",
   "metadata": {},
   "outputs": [
    {
     "data": {
      "text/plain": [
       "6"
      ]
     },
     "execution_count": 35,
     "metadata": {},
     "output_type": "execute_result"
    }
   ],
   "source": [
    "numberFactor_dp(5)"
   ]
  },
  {
   "cell_type": "code",
   "execution_count": 36,
   "id": "3183e681",
   "metadata": {},
   "outputs": [
    {
     "data": {
      "text/plain": [
       "9"
      ]
     },
     "execution_count": 36,
     "metadata": {},
     "output_type": "execute_result"
    }
   ],
   "source": [
    "numberFactor_dp(6)"
   ]
  },
  {
   "cell_type": "code",
   "execution_count": 37,
   "id": "c666e0a2",
   "metadata": {},
   "outputs": [
    {
     "data": {
      "text/plain": [
       "64"
      ]
     },
     "execution_count": 37,
     "metadata": {},
     "output_type": "execute_result"
    }
   ],
   "source": [
    "numberFactor_dp(10)"
   ]
  },
  {
   "cell_type": "code",
   "execution_count": null,
   "id": "85821822",
   "metadata": {},
   "outputs": [],
   "source": []
  }
 ],
 "metadata": {
  "kernelspec": {
   "display_name": "Python 3",
   "language": "python",
   "name": "python3"
  },
  "language_info": {
   "codemirror_mode": {
    "name": "ipython",
    "version": 3
   },
   "file_extension": ".py",
   "mimetype": "text/x-python",
   "name": "python",
   "nbconvert_exporter": "python",
   "pygments_lexer": "ipython3",
   "version": "3.8.8"
  }
 },
 "nbformat": 4,
 "nbformat_minor": 5
}
