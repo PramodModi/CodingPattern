{
 "cells": [
  {
   "cell_type": "markdown",
   "id": "fb8e6cd8",
   "metadata": {},
   "source": [
    "## Problem: Climbing Stairs\n",
    "LeetCode: 70. Climbing Stairs\n",
    "\n",
    "https://leetcode.com/problems/climbing-stairs/\n",
    "\n",
    "You are climbing a staircase. It takes n steps to reach the top.\n",
    "\n",
    "Each time you can either climb 1 or 2 steps. In how many distinct ways can you climb to the top?\n",
    "\n",
    " \n",
    "\n",
    "Example 1:\n",
    "\n",
    "    Input: n = 2\n",
    "    Output: 2\n",
    "    Explanation: There are two ways to climb to the top.\n",
    "    1. 1 step + 1 step\n",
    "    2. 2 steps\n",
    "Example 2:\n",
    "\n",
    "    Input: n = 3\n",
    "    Output: 3\n",
    "    Explanation: There are three ways to climb to the top.\n",
    "    1. 1 step + 1 step + 1 step\n",
    "    2. 1 step + 2 steps\n",
    "    3. 2 steps + 1 step\n",
    " \n",
    "\n",
    "Constraints:\n",
    "\n",
    "    1 <= n <= 45"
   ]
  },
  {
   "cell_type": "markdown",
   "id": "6b7eefa8",
   "metadata": {},
   "source": [
    "### Approach:\n",
    "Similar to Fibonacci series, number of ways to reach to ith stair = no of ways of (i-1)th stair + no of ways of (i-2)th stair.\n",
    "\n",
    "The recurrance relationship = dp[i] = dp[i-2] + dp[i-1]\n",
    "Base case: 0th stair = 0\n",
    "            1st stair = 1\n",
    "            2nd stair = 2"
   ]
  },
  {
   "cell_type": "code",
   "execution_count": 17,
   "id": "aee99d9f",
   "metadata": {},
   "outputs": [],
   "source": [
    "def climbStairs(n):\n",
    "    if n <=2:\n",
    "        return n\n",
    "    dp = [0] * (n+1)\n",
    "    dp[1] = 1\n",
    "    dp[2] = 2\n",
    "    for i in range(3, n+1):\n",
    "        dp[i] = dp[i-2]+dp[i-1]\n",
    "    return dp[-1]"
   ]
  },
  {
   "cell_type": "code",
   "execution_count": 18,
   "id": "67b9a5c6",
   "metadata": {},
   "outputs": [
    {
     "data": {
      "text/plain": [
       "3"
      ]
     },
     "execution_count": 18,
     "metadata": {},
     "output_type": "execute_result"
    }
   ],
   "source": [
    "climbStairs(3)"
   ]
  },
  {
   "cell_type": "code",
   "execution_count": 19,
   "id": "6e13a6d8",
   "metadata": {},
   "outputs": [
    {
     "data": {
      "text/plain": [
       "5"
      ]
     },
     "execution_count": 19,
     "metadata": {},
     "output_type": "execute_result"
    }
   ],
   "source": [
    "climbStairs(4)"
   ]
  },
  {
   "cell_type": "markdown",
   "id": "eb92082a",
   "metadata": {},
   "source": [
    "### Optimized way: without dp list\n",
    "Observe carefully, the current value is dependent on previous two calculation. So, rather than keeping data for whole list, keep two variables, prev and prevtoPrev and keep updating variables.\n"
   ]
  },
  {
   "cell_type": "code",
   "execution_count": 20,
   "id": "5325facf",
   "metadata": {},
   "outputs": [],
   "source": [
    "def climbStairs1(n):\n",
    "    if n <=2:\n",
    "        return n\n",
    "    s1 = 1\n",
    "    s2 = 2\n",
    "    for i in range(3, n+1):\n",
    "        s1, s2 = s2, s1+s2\n",
    "    return s2"
   ]
  },
  {
   "cell_type": "code",
   "execution_count": 22,
   "id": "abf3b4d6",
   "metadata": {},
   "outputs": [
    {
     "data": {
      "text/plain": [
       "3"
      ]
     },
     "execution_count": 22,
     "metadata": {},
     "output_type": "execute_result"
    }
   ],
   "source": [
    "climbStairs1(3)"
   ]
  },
  {
   "cell_type": "code",
   "execution_count": 23,
   "id": "c0026957",
   "metadata": {},
   "outputs": [
    {
     "data": {
      "text/plain": [
       "5"
      ]
     },
     "execution_count": 23,
     "metadata": {},
     "output_type": "execute_result"
    }
   ],
   "source": [
    "climbStairs1(4)"
   ]
  },
  {
   "cell_type": "code",
   "execution_count": null,
   "id": "6ac212f1",
   "metadata": {},
   "outputs": [],
   "source": []
  }
 ],
 "metadata": {
  "kernelspec": {
   "display_name": "Python 3",
   "language": "python",
   "name": "python3"
  },
  "language_info": {
   "codemirror_mode": {
    "name": "ipython",
    "version": 3
   },
   "file_extension": ".py",
   "mimetype": "text/x-python",
   "name": "python",
   "nbconvert_exporter": "python",
   "pygments_lexer": "ipython3",
   "version": "3.8.8"
  }
 },
 "nbformat": 4,
 "nbformat_minor": 5
}
