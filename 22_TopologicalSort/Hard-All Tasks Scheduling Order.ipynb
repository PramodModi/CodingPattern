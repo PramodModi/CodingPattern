{
 "cells": [
  {
   "cell_type": "markdown",
   "id": "57ee01b7",
   "metadata": {},
   "source": [
    "## Problem: All Tasks Scheduling Order\n",
    "Print all possible topological sort.\n",
    "\n",
    "Example1:\n",
    "\n",
    "    tasks = 4\n",
    "    prerequisites = [[3, 2], [3, 0], [2, 0], [2, 1]]\n",
    "    output = [[0, 1, 2, 3], [1, 0, 2, 3]]\n",
    "Example2:\n",
    "\n",
    "    tasks = 3\n",
    "    prerequisites = [[0, 1],[1, 2]]\n",
    "    output = [[2, 1, 0]]\n",
    "\n",
    "    \n"
   ]
  },
  {
   "cell_type": "code",
   "execution_count": 57,
   "id": "222f4ef0",
   "metadata": {},
   "outputs": [],
   "source": [
    "def topologicalSort(tasks, prerequisites):\n",
    "    \n",
    "    temp = []\n",
    "    inorder = [0] * tasks\n",
    "    graph = [[] for _ in range(tasks)]\n",
    "    for u, v in prerequisites:\n",
    "        graph[v].append(u)\n",
    "        inorder[u] += 1   \n",
    "    order = [x for x in range(len(inorder)) if inorder[x] == 0]\n",
    "   \n",
    "    result = []\n",
    "    dfs(graph, inorder, order, temp, result)\n",
    "    return result\n",
    "\n",
    "def dfs(graph, inorder, order, temp, result):\n",
    "\n",
    "    if len(order) > 0:\n",
    "        for i in range(len(order)):\n",
    "            vertex = order[i]\n",
    "            temp.append(vertex)\n",
    "            \n",
    "            # Copy the order for next iteration\n",
    "            nextOrder = order[:]\n",
    "            # Remove the current node\n",
    "            nextOrder = order[:i] + order[i+1:]\n",
    "            \n",
    "            for n in graph[vertex]:\n",
    "                inorder[n] -= 1\n",
    "                if inorder[n] == 0:\n",
    "                    nextOrder.append(n)\n",
    "            dfs(graph, inorder, nextOrder, temp, result)\n",
    "            if len(temp):\n",
    "                temp.pop()\n",
    "            for n in graph[vertex]:\n",
    "                inorder[n] += 1\n",
    "    if len(temp) == len(inorder):\n",
    "        result.append(temp[:])\n",
    "      "
   ]
  },
  {
   "cell_type": "code",
   "execution_count": 58,
   "id": "d0b9b2ed",
   "metadata": {},
   "outputs": [
    {
     "data": {
      "text/plain": [
       "[[0, 1, 2, 3], [1, 0, 2, 3]]"
      ]
     },
     "execution_count": 58,
     "metadata": {},
     "output_type": "execute_result"
    }
   ],
   "source": [
    "tasks = 4\n",
    "prerequisites = [[3, 2], [3, 0], [2, 0], [2, 1]]\n",
    "topologicalSort(tasks, prerequisites)"
   ]
  },
  {
   "cell_type": "code",
   "execution_count": 59,
   "id": "4a6d9391",
   "metadata": {},
   "outputs": [
    {
     "data": {
      "text/plain": [
       "[[2, 1, 0]]"
      ]
     },
     "execution_count": 59,
     "metadata": {},
     "output_type": "execute_result"
    }
   ],
   "source": [
    "tasks =3\n",
    "prerequisites = [[0, 1],[1, 2]]\n",
    "topologicalSort(tasks, prerequisites)"
   ]
  },
  {
   "cell_type": "code",
   "execution_count": 60,
   "id": "37792582",
   "metadata": {},
   "outputs": [
    {
     "data": {
      "text/plain": [
       "[[4, 5, 2, 0, 3, 1],\n",
       " [4, 5, 2, 3, 0, 1],\n",
       " [4, 5, 2, 3, 1, 0],\n",
       " [4, 5, 0, 2, 3, 1],\n",
       " [5, 4, 2, 0, 3, 1],\n",
       " [5, 4, 2, 3, 0, 1],\n",
       " [5, 4, 2, 3, 1, 0],\n",
       " [5, 4, 0, 2, 3, 1],\n",
       " [5, 2, 4, 3, 0, 1],\n",
       " [5, 2, 4, 3, 1, 0],\n",
       " [5, 2, 4, 0, 3, 1],\n",
       " [5, 2, 3, 4, 0, 1],\n",
       " [5, 2, 3, 4, 1, 0]]"
      ]
     },
     "execution_count": 60,
     "metadata": {},
     "output_type": "execute_result"
    }
   ],
   "source": [
    "tasks =6\n",
    "prerequisites = [[2, 5], [0, 5], [0, 4], [1, 4], [3, 2], [1, 3]]\n",
    "topologicalSort(tasks, prerequisites)"
   ]
  },
  {
   "cell_type": "code",
   "execution_count": null,
   "id": "349bec5b",
   "metadata": {},
   "outputs": [],
   "source": []
  }
 ],
 "metadata": {
  "kernelspec": {
   "display_name": "Python 3",
   "language": "python",
   "name": "python3"
  },
  "language_info": {
   "codemirror_mode": {
    "name": "ipython",
    "version": 3
   },
   "file_extension": ".py",
   "mimetype": "text/x-python",
   "name": "python",
   "nbconvert_exporter": "python",
   "pygments_lexer": "ipython3",
   "version": "3.8.8"
  }
 },
 "nbformat": 4,
 "nbformat_minor": 5
}
