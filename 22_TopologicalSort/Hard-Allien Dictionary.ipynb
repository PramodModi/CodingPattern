{
 "cells": [
  {
   "cell_type": "markdown",
   "id": "5d834916",
   "metadata": {},
   "source": [
    "## Problem: Allien Dictionary\n",
    "\n",
    "https://leetcode.com/problems/alien-dictionary/\n",
    "\n",
    "There is a new alien language which uses the latin alphabet. However, the order among letters are unknown to you. You are given a list of words from alien language dictionary, where strings in words are sorted lexicographically by the rules of this new language. Return string of the unique letters in the new alien language sorted in lexicographically increasing order by the rules of this new language. If there is no solution return \"\". If there are multiple solutions return any one.\n",
    "\n",
    "A string s is lexicographically smaller than a string t if at the first letter where they differ, the letter in s comes before letter in t in alien language. If the first min(s.length, t.length) letters are same then s si smaller if and only if s.length < t.length\n",
    "\n",
    "Example1:\n",
    "\n",
    "    words = [\"wrt\", \"wrf\", \"er\", \"ett\", \"rftt\"] \n",
    "    output: wertf\n",
    "    \n",
    "Example2:\n",
    "\n",
    "    words = [\"ywx\", \"wz\", \"xww\", \"xz\", \"zyy\", \"zwz\"]\n",
    "    output = ywxz\n",
    "    \n",
    "Example3:\n",
    "\n",
    "    words = [\"ba\", \"bc\", \"ac\", \"cab\"]\n",
    "    output = bac\n"
   ]
  },
  {
   "cell_type": "markdown",
   "id": "045ceb8c",
   "metadata": {},
   "source": [
    "### Approach:\n",
    "\n",
    "Since the given words are sorted lexicographically by the rules of the alien language, we can always compare two adjacent words to determine the ordering of the characters. Take Example 1 below: [“ba”, “bc”, “ac”, “cab”]\n",
    "\n",
    "Take the first two words “ba” and “bc”. Starting from the beginning of the words, find the first character that is different in both words: it would be a from “ba” and c from “bc”. Because of the sorted order of words (i.e. the dictionary!), we can conclude that a comes before c in the alien language. Similarly, from “bc” and “ac”, we can conclude that b comes before a. These two points tell us that we are actually asked to find the topological ordering of the characters, and that the ordering rules should be inferred from adjacent words from the alien dictionary.\n",
    "\n",
    "This makes the current problem similar to Tasks Scheduling Order, the only difference being that we need to build the graph of the characters by comparing adjacent words first, and then perform the topological sort for the graph to determine the order of the characters."
   ]
  },
  {
   "cell_type": "code",
   "execution_count": 24,
   "id": "b90d6049",
   "metadata": {},
   "outputs": [],
   "source": [
    "def alienDict(words):\n",
    "    graph = {l:set() for word in words for l in word}\n",
    "    for i in range(1, len(words)):\n",
    "        w1 = words[i-1]\n",
    "        w2 = words[i]\n",
    "        minLen = min(len(w1), len(w2))\n",
    "        if w1[:minLen] == w2[:minLen] and len(w1) > len(2):\n",
    "            return \"\"\n",
    "        for j in range(minLen):\n",
    "            if w1[j] != w2[j]:\n",
    "                graph[w1[j]].add(w2[j])\n",
    "                break ## First mimatch letters will give the order\n",
    "    res = topologicalSort(graph)\n",
    "    return \"\".join(res)\n",
    "\n",
    "def topologicalSort(graph):\n",
    "    visited = {}\n",
    "    stack = []\n",
    "    for l in graph:\n",
    "        if dfs(l, graph, visited, stack):\n",
    "            return \"\"\n",
    "    return list(reversed(stack))\n",
    "\n",
    "def dfs(node, graph, visited, stack):\n",
    "    if node in visited:\n",
    "        return visited[node]\n",
    "    visited[node] = True\n",
    "    for c in graph[node]:\n",
    "        if dfs(c, graph, visited, stack):\n",
    "            return True\n",
    "    stack.append(node)\n",
    "    visited[node] = False\n",
    "    return False\n",
    "        "
   ]
  },
  {
   "cell_type": "code",
   "execution_count": 25,
   "id": "2eacdc60",
   "metadata": {},
   "outputs": [
    {
     "data": {
      "text/plain": [
       "'bac'"
      ]
     },
     "execution_count": 25,
     "metadata": {},
     "output_type": "execute_result"
    }
   ],
   "source": [
    "words = [\"ba\", \"bc\", \"ac\", \"cab\"]\n",
    "alienDict(words)"
   ]
  },
  {
   "cell_type": "code",
   "execution_count": 26,
   "id": "f2ff202b",
   "metadata": {},
   "outputs": [
    {
     "data": {
      "text/plain": [
       "'wertf'"
      ]
     },
     "execution_count": 26,
     "metadata": {},
     "output_type": "execute_result"
    }
   ],
   "source": [
    "words = [\"wrt\", \"wrf\", \"er\", \"ett\", \"rftt\"] \n",
    "alienDict(words)"
   ]
  },
  {
   "cell_type": "code",
   "execution_count": 27,
   "id": "a55dbd27",
   "metadata": {},
   "outputs": [
    {
     "data": {
      "text/plain": [
       "'ywxz'"
      ]
     },
     "execution_count": 27,
     "metadata": {},
     "output_type": "execute_result"
    }
   ],
   "source": [
    "words = [\"ywx\", \"wz\", \"xww\", \"xz\", \"zyy\", \"zwz\"]\n",
    "alienDict(words)"
   ]
  },
  {
   "cell_type": "code",
   "execution_count": null,
   "id": "8ccab390",
   "metadata": {},
   "outputs": [],
   "source": []
  }
 ],
 "metadata": {
  "kernelspec": {
   "display_name": "Python 3",
   "language": "python",
   "name": "python3"
  },
  "language_info": {
   "codemirror_mode": {
    "name": "ipython",
    "version": 3
   },
   "file_extension": ".py",
   "mimetype": "text/x-python",
   "name": "python",
   "nbconvert_exporter": "python",
   "pygments_lexer": "ipython3",
   "version": "3.8.8"
  }
 },
 "nbformat": 4,
 "nbformat_minor": 5
}
