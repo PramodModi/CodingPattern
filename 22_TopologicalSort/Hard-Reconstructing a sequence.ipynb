{
 "cells": [
  {
   "cell_type": "markdown",
   "id": "90e843e8",
   "metadata": {},
   "source": [
    "## Problem: Reconstructing a sequence\n",
    "\n",
    "Given a sequence originalSeq and an array of sequences, write a method to find if originalSeq can be uniquely reconstructed from the array of sequences.\n",
    "\n",
    "Unique reconstruction means that we need to find if originalSeq is the only sequence such that all sequences in the array are subsequences of it.\n",
    "\n",
    "Example1: \n",
    "\n",
    "    originalSeq= [1, 2, 3, 4], seqs=[[1, 2], [2, 3], [3, 4]]\n",
    "    Output: True\n",
    "    Explanation: The first sequence tells us that 1 comes before 2; the second sequence tells us that 2 comes before 3; the third sequence tells us that 3 comes before 4. Combining all these sequences will result in a unique sequence: [1, 2, 3, 4].\n",
    "    \n",
    "Example2:\n",
    "    \n",
    "    originalSeq = [1, 2, 3, 4], seqs = [[1, 2], [2, 3], [2, 4]]\n",
    "    output = False\n",
    "    Explanation: Seq can not be uniqely construct [1, 2, 3, 4]. There are two possible sequences [1,2,3,4] and [1,2,4,3]"
   ]
  },
  {
   "cell_type": "markdown",
   "id": "88615a82",
   "metadata": {},
   "source": [
    "### Approach:\n",
    "\n",
    "This is Topological Ordering question. With the condition that sequence shouls be unique.\n",
    "If there are more than one source (that means if there are two nodes having inorder = 0), the unique sequence is not possible.\n",
    "1. For uniqueness : Find the inorder count of all nodes, if more than one node has zero inorder count then return False\n",
    "2. Print topological order from sequence\n"
   ]
  },
  {
   "cell_type": "code",
   "execution_count": 86,
   "id": "a1625ef8",
   "metadata": {},
   "outputs": [],
   "source": [
    "def reconstructungSequence(originalSeq, seqs):\n",
    "    graph = {}\n",
    "    inOrder = {}\n",
    "    \n",
    "    ## Create a graph with keys as all numbers having an empty list as value\n",
    "    ## Also create inOrder hashmap having key as all numbers with initial value 0\n",
    "    for s in seqs:\n",
    "        for e in s:\n",
    "            graph[e] = []\n",
    "            inOrder[e] = 0\n",
    "    \n",
    "    ## Fill the graph with parent and child. Also increase count of inOrder\n",
    "    for s in seqs:\n",
    "        for i in range(1,len(s)):\n",
    "            graph[s[i]].append(s[i-1])\n",
    "            inOrder[s[i-1]] += 1\n",
    "            \n",
    "    ## Find the node having inOrder count zero. This would be the starting node to proceed.\n",
    "    order = [x for x, y in inOrder.items() if y == 0]\n",
    "\n",
    "    ## If there are more starting node, then unique solution is not possible. \n",
    "    if len(order) > 1:\n",
    "        return False\n",
    "        \n",
    "    for k in order:\n",
    "        for j in graph[k]:\n",
    "            inOrder[j] -= 1\n",
    "            if inOrder[j] == 0:\n",
    "                order.append(j)\n",
    "                \n",
    "    \n",
    "    if len(originalSeq) != len(order):\n",
    "        return False\n",
    "    order = list(reversed(order))\n",
    "    for i in range(len(order)):\n",
    "        if originalSeq[i] != order[i]:\n",
    "            return False\n",
    "    return True\n",
    "                \n",
    "        "
   ]
  },
  {
   "cell_type": "code",
   "execution_count": 87,
   "id": "0b07335b",
   "metadata": {},
   "outputs": [
    {
     "data": {
      "text/plain": [
       "True"
      ]
     },
     "execution_count": 87,
     "metadata": {},
     "output_type": "execute_result"
    }
   ],
   "source": [
    "originalSeq= [1, 2, 3, 4]\n",
    "seqs=[[1, 2], [2, 3], [3, 4]]\n",
    "reconstructungSequence(originalSeq, seqs)"
   ]
  },
  {
   "cell_type": "code",
   "execution_count": 88,
   "id": "5f9895b5",
   "metadata": {},
   "outputs": [
    {
     "data": {
      "text/plain": [
       "False"
      ]
     },
     "execution_count": 88,
     "metadata": {},
     "output_type": "execute_result"
    }
   ],
   "source": [
    "originalSeq= [1, 2, 3, 4]\n",
    "seqs=[[1, 2], [2, 3], [2, 4]]\n",
    "reconstructungSequence(originalSeq, seqs)"
   ]
  },
  {
   "cell_type": "code",
   "execution_count": 89,
   "id": "55da1304",
   "metadata": {},
   "outputs": [
    {
     "data": {
      "text/plain": [
       "True"
      ]
     },
     "execution_count": 89,
     "metadata": {},
     "output_type": "execute_result"
    }
   ],
   "source": [
    "originalSeq = [3, 1, 4, 2, 5]\n",
    "seqs = [[3, 1, 5], [1, 4, 2, 5]]\n",
    "reconstructungSequence(originalSeq, seqs)"
   ]
  },
  {
   "cell_type": "code",
   "execution_count": null,
   "id": "a9707f6b",
   "metadata": {},
   "outputs": [],
   "source": []
  }
 ],
 "metadata": {
  "kernelspec": {
   "display_name": "Python 3",
   "language": "python",
   "name": "python3"
  },
  "language_info": {
   "codemirror_mode": {
    "name": "ipython",
    "version": 3
   },
   "file_extension": ".py",
   "mimetype": "text/x-python",
   "name": "python",
   "nbconvert_exporter": "python",
   "pygments_lexer": "ipython3",
   "version": "3.8.8"
  }
 },
 "nbformat": 4,
 "nbformat_minor": 5
}
