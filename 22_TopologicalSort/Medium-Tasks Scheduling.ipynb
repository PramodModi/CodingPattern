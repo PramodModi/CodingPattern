{
 "cells": [
  {
   "cell_type": "markdown",
   "id": "5f0fc2cb",
   "metadata": {},
   "source": [
    "## Problem: Tasks Scheduling\n",
    "LeetCode : 207. Course Schedule\n",
    "\n",
    "https://leetcode.com/problems/course-schedule/\n",
    "\n",
    "There are a total of numCourses courses you have to take, labeled from 0 to numCourses - 1. You are given an array prerequisites where prerequisites[i] = [ai, bi] indicates that you must take course bi first if you want to take course ai.\n",
    "\n",
    "For example, the pair [0, 1], indicates that to take course 0 you have to first take course 1.\n",
    "Return true if you can finish all courses. Otherwise, return false.\n",
    "\n",
    " \n",
    "\n",
    "Example 1:\n",
    "\n",
    "    Input: numCourses = 2, prerequisites = [[1,0]]\n",
    "    Output: true\n",
    "    Explanation: There are a total of 2 courses to take. \n",
    "    To take course 1 you should have finished course 0. So it is possible.\n",
    "Example 2:\n",
    "\n",
    "    Input: numCourses = 2, prerequisites = [[1,0],[0,1]]\n",
    "    Output: false\n",
    "    Explanation: There are a total of 2 courses to take. \n",
    "    To take course 1 you should have finished course 0, and to take course 0 you should also have finished course 1. So it is impossible.\n",
    " \n",
    "\n",
    "Constraints:\n",
    "\n",
    "    1 <= numCourses <= 2000\n",
    "    0 <= prerequisites.length <= 5000\n",
    "    prerequisites[i].length == 2\n",
    "    0 <= ai, bi < numCourses\n",
    "    All the pairs prerequisites[i] are unique."
   ]
  },
  {
   "cell_type": "markdown",
   "id": "0b818ce3",
   "metadata": {},
   "source": [
    "### Approach:\n",
    "\n",
    "All courses can be finished only when there is no cyclic dependencies in courses. If there is cycle found during traversal of all courses, then courses can not be completed. \n",
    "\n",
    "We can use the topological sort technique here. Traverse the nodes with dfs traversal. Keep the nodes in a list visit = \"G\", for which dfs is running. If we encounter the same node with value = \"G\", that means we have already visited the nodes during this dfs, indicating that it is a cycle.\n",
    "Make visit[node] = \"B\" once dfs is completed for that particular node."
   ]
  },
  {
   "cell_type": "code",
   "execution_count": 7,
   "id": "6780ea99",
   "metadata": {},
   "outputs": [],
   "source": [
    "def courseSchedule(numCourses,preReq):\n",
    "    # First make it graph\n",
    "    graph = [[] for _ in range(numCourses)]\n",
    "    for v, u in preReq:\n",
    "        graph[u].append(v)\n",
    "    \n",
    "    # To check for cycle will go with dfs. Keep info about visited and currently visiting node\n",
    "    visit = [\"W\"] * numCourses\n",
    "    \n",
    "    for course in range(numCourses):\n",
    "        if visit[course] == \"W\":\n",
    "            if isCycle(course, graph, visit):\n",
    "                return False\n",
    "    return True\n",
    "\n",
    "def isCycle(course, graph, visit):\n",
    "    if visit[course] == \"G\":\n",
    "        return True\n",
    "    visit[course] = \"G\"\n",
    "    for c in graph[course]:\n",
    "        if visit[c] == \"G\":\n",
    "            return True\n",
    "        if visit[c] == \"W\":\n",
    "            if isCycle(c, graph, visit):\n",
    "                return True\n",
    "    visit[course] = \"B\"      \n",
    "    return False\n",
    "            \n",
    "            "
   ]
  },
  {
   "cell_type": "code",
   "execution_count": 8,
   "id": "06d04426",
   "metadata": {},
   "outputs": [
    {
     "data": {
      "text/plain": [
       "True"
      ]
     },
     "execution_count": 8,
     "metadata": {},
     "output_type": "execute_result"
    }
   ],
   "source": [
    "numCourses = 2\n",
    "prerequisites = [[1,0]]\n",
    "courseSchedule(numCourses,prerequisites)"
   ]
  },
  {
   "cell_type": "code",
   "execution_count": 9,
   "id": "6fa20f7d",
   "metadata": {},
   "outputs": [
    {
     "data": {
      "text/plain": [
       "False"
      ]
     },
     "execution_count": 9,
     "metadata": {},
     "output_type": "execute_result"
    }
   ],
   "source": [
    "numCourses = 2\n",
    "prerequisites = [[1,0],[0,1]]\n",
    "courseSchedule(numCourses,prerequisites)"
   ]
  },
  {
   "cell_type": "code",
   "execution_count": null,
   "id": "07b16a64",
   "metadata": {},
   "outputs": [],
   "source": []
  }
 ],
 "metadata": {
  "kernelspec": {
   "display_name": "Python 3",
   "language": "python",
   "name": "python3"
  },
  "language_info": {
   "codemirror_mode": {
    "name": "ipython",
    "version": 3
   },
   "file_extension": ".py",
   "mimetype": "text/x-python",
   "name": "python",
   "nbconvert_exporter": "python",
   "pygments_lexer": "ipython3",
   "version": "3.8.8"
  }
 },
 "nbformat": 4,
 "nbformat_minor": 5
}
