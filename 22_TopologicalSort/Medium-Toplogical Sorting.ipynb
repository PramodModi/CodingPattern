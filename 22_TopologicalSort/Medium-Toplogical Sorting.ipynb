{
 "cells": [
  {
   "cell_type": "markdown",
   "id": "bee56d71",
   "metadata": {},
   "source": [
    "## Problem: Topological Sorting\n",
    "\n",
    "Topological Sort of a directed acyclic graph (DAG) is a linear ordering of its vertices such that for every directed edge (U, V) from vertex U to vertex V, U comes before V in the ordering.\n",
    "\n",
    "Example 1:\n",
    "\n",
    "    Input: Vertices=4, Edges=[3, 2], [3, 0], [2, 0], [2, 1]\n",
    "    Edge [3,2] => node 3 comes before node 2\n",
    "    Edge [3, 0] => node 3 comes before 0\n",
    "    Edge [2, 0] => node 2 comes before node 0\n",
    "    Edge [2, 1] => node 2 comes before node 1\n",
    "    Output: Following are the two valid topological sorts for the given graph:\n",
    "    1) 3, 2, 0, 1\n",
    "    2) 3, 2, 1, 0\n",
    "    \n",
    "Example 2:\n",
    "\n",
    "    Input: Vertices=5, Edges=[4, 2], [4, 3], [2, 0], [2, 1], [3, 1]\n",
    "    Edge [4,2] => node 4 comes before node 2\n",
    "    Edge [4, 3] => node 4 comes before 3\n",
    "    Edge [2, 0] => node 2 comes before node 0\n",
    "    Edge [2, 1] => node 2 comes before node 1\n",
    "    Edge [3, 1] => node 3 comes before node 1\n",
    "    Output: Following are all valid topological sorts for the given graph:\n",
    "    1) 4, 2, 3, 0, 1\n",
    "    2) 4, 3, 2, 0, 1\n",
    "    3) 4, 3, 2, 1, 0\n",
    "    4) 4, 2, 3, 1, 0\n",
    "    5) 4, 2, 0, 3, 1"
   ]
  },
  {
   "cell_type": "markdown",
   "id": "e16077e8",
   "metadata": {},
   "source": [
    "### Approach: \n",
    "We will be solving it using the DFS traversal technique. Traverses all nodes by going ahead, and when there are no further nodes to traverse in the current path, then it backtracks on the same path and traverses other unvisited nodes.\n",
    "We will keep track of visited nodes in a list, also keep ading nodes whose dfs is done in a stack.\n",
    "Once dfs of all nodes are done, then pull out all nodes from stack. That would be the topological sorted nodes.\n"
   ]
  },
  {
   "cell_type": "code",
   "execution_count": 16,
   "id": "e9b6c02d",
   "metadata": {},
   "outputs": [],
   "source": [
    "def topologicalSort(vertices, edges):\n",
    "    \n",
    "    # Make Graph. Map having key is the node and values would be children list.\n",
    "    # This can be done with list in list.\n",
    "    graph = [[] for _ in range(vertices)]\n",
    "    for u,v in edges:\n",
    "        graph[u].append(v)\n",
    "    \n",
    "    # Algorithm for topological sort   \n",
    "    visited = [0] * (vertices)\n",
    "    stack = []\n",
    "    for node in range(vertices):\n",
    "        if not visited[node]:\n",
    "            dfs(node, graph, visited, stack)\n",
    "            \n",
    "    return list(reversed(stack))\n",
    "\n",
    "def dfs(node, graph, visited, stack):\n",
    "    visited[node] = 1\n",
    "    for v in graph[node]:\n",
    "        if not visited[v]:\n",
    "            dfs(v, graph, visited, stack)\n",
    "    stack.append(node)\n"
   ]
  },
  {
   "cell_type": "code",
   "execution_count": 17,
   "id": "b4cccadb",
   "metadata": {},
   "outputs": [
    {
     "data": {
      "text/plain": [
       "[3, 2, 1, 0]"
      ]
     },
     "execution_count": 17,
     "metadata": {},
     "output_type": "execute_result"
    }
   ],
   "source": [
    "vertices=4\n",
    "edges=[[3, 2], [3, 0], [2, 0], [2, 1]]\n",
    "topologicalSort(vertices, edges)"
   ]
  },
  {
   "cell_type": "code",
   "execution_count": 18,
   "id": "eadab1b3",
   "metadata": {},
   "outputs": [
    {
     "data": {
      "text/plain": [
       "[4, 3, 2, 1, 0]"
      ]
     },
     "execution_count": 18,
     "metadata": {},
     "output_type": "execute_result"
    }
   ],
   "source": [
    "vertices=5\n",
    "edges=[[4, 2], [4, 3], [2, 0], [2, 1], [3, 1]]\n",
    "topologicalSort(vertices, edges)"
   ]
  },
  {
   "cell_type": "markdown",
   "id": "462069a7",
   "metadata": {},
   "source": [
    "### Another approach:\n",
    "Go with the approach of number of incomming link to the node. Node having zero incomming is the node to be chosen first, and then visit all outgoing node. Out going nodes represents the course you should take first before completing the parent node.\n",
    "\n",
    "We will keep inorder list, which will be updated during creation of graph. Then will create a list of nodes where inorder is zero.\n",
    "Start iterating from node (say i) in the order list, and also iterate outgoing nodes of i (say j). Reduce the count of inorder of node j each time. Once inorder count is zero, then append it to order list. \n",
    "\n",
    "If we complete all courses, then return order list in reversed order."
   ]
  },
  {
   "cell_type": "code",
   "execution_count": 36,
   "id": "10b6029c",
   "metadata": {},
   "outputs": [],
   "source": [
    "def topologicalSort1(vertices, edges):\n",
    "    graph = [[] for _ in range(vertices)]\n",
    "    inorder = [0] * vertices\n",
    "\n",
    "    for i, j in edges:\n",
    "        graph[j].append(i)\n",
    "        inorder[i] += 1\n",
    "    print(graph)\n",
    "    order = [x for x in range(len(inorder)) if inorder[x] == 0]\n",
    "    print(order)\n",
    "    for i in order:\n",
    "        for j in graph[i]:\n",
    "            inorder[j] -= 1\n",
    "            if inorder[j] == 0:\n",
    "                order.append(j)\n",
    "\n",
    "    return list(reversed(order))"
   ]
  },
  {
   "cell_type": "code",
   "execution_count": 37,
   "id": "1ca1ede0",
   "metadata": {},
   "outputs": [
    {
     "name": "stdout",
     "output_type": "stream",
     "text": [
      "[[2], [2, 3], [4], [4], []]\n",
      "[0, 1]\n"
     ]
    },
    {
     "data": {
      "text/plain": [
       "[4, 3, 2, 1, 0]"
      ]
     },
     "execution_count": 37,
     "metadata": {},
     "output_type": "execute_result"
    }
   ],
   "source": [
    "vertices=5\n",
    "edges=[[4, 2], [4, 3], [2, 0], [2, 1], [3, 1]]\n",
    "topologicalSort1(vertices, edges)"
   ]
  },
  {
   "cell_type": "code",
   "execution_count": 38,
   "id": "a25f2d7c",
   "metadata": {},
   "outputs": [
    {
     "name": "stdout",
     "output_type": "stream",
     "text": [
      "[[3, 2], [2], [3], []]\n",
      "[0, 1]\n"
     ]
    },
    {
     "data": {
      "text/plain": [
       "[3, 2, 1, 0]"
      ]
     },
     "execution_count": 38,
     "metadata": {},
     "output_type": "execute_result"
    }
   ],
   "source": [
    "vertices=4\n",
    "edges=[[3, 2], [3, 0], [2, 0], [2, 1]]\n",
    "topologicalSort1(vertices, edges)"
   ]
  },
  {
   "cell_type": "code",
   "execution_count": 39,
   "id": "37b3464a",
   "metadata": {},
   "outputs": [
    {
     "name": "stdout",
     "output_type": "stream",
     "text": [
      "[[2], [3, 2], [3], []]\n",
      "[0, 1]\n"
     ]
    },
    {
     "data": {
      "text/plain": [
       "[3, 2, 1, 0]"
      ]
     },
     "execution_count": 39,
     "metadata": {},
     "output_type": "execute_result"
    }
   ],
   "source": [
    "vertices = 4\n",
    "edges = [[3, 2], [3, 1], [2, 0], [2, 1]]\n",
    "topologicalSort1(vertices, edges)"
   ]
  },
  {
   "cell_type": "code",
   "execution_count": null,
   "id": "997a579e",
   "metadata": {},
   "outputs": [],
   "source": []
  }
 ],
 "metadata": {
  "kernelspec": {
   "display_name": "Python 3",
   "language": "python",
   "name": "python3"
  },
  "language_info": {
   "codemirror_mode": {
    "name": "ipython",
    "version": 3
   },
   "file_extension": ".py",
   "mimetype": "text/x-python",
   "name": "python",
   "nbconvert_exporter": "python",
   "pygments_lexer": "ipython3",
   "version": "3.8.8"
  }
 },
 "nbformat": 4,
 "nbformat_minor": 5
}
