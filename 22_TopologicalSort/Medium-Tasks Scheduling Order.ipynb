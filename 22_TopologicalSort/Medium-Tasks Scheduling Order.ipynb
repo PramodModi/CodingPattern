{
 "cells": [
  {
   "cell_type": "markdown",
   "id": "11c0fbde",
   "metadata": {},
   "source": [
    "## Problem: Tasks Scheduling Order\n",
    "LeetCode :210. Course Schedule II\n",
    "\n",
    "https://leetcode.com/problems/course-schedule-ii/\n",
    "\n",
    "There are a total of numCourses courses you have to take, labeled from 0 to numCourses - 1. You are given an array prerequisites where prerequisites[i] = [ai, bi] indicates that you must take course bi first if you want to take course ai.\n",
    "\n",
    "For example, the pair [0, 1], indicates that to take course 0 you have to first take course 1.\n",
    "Return the ordering of courses you should take to finish all courses. If there are many valid answers, return any of them. If it is impossible to finish all courses, return an empty array.\n",
    "\n",
    " \n",
    "\n",
    "Example 1:\n",
    "\n",
    "    Input: numCourses = 2, prerequisites = [[1,0]]\n",
    "    Output: [0,1]\n",
    "    Explanation: There are a total of 2 courses to take. To take course 1 you should have finished course 0. So the correct course order is [0,1].\n",
    "Example 2:\n",
    "\n",
    "    Input: numCourses = 4, prerequisites = [[1,0],[2,0],[3,1],[3,2]]\n",
    "    Output: [0,2,1,3]\n",
    "    Explanation: There are a total of 4 courses to take. To take course 3 you should have finished both courses 1 and 2. Both courses 1 and 2 should be taken after you finished course 0.\n",
    "    So one correct course order is [0,1,2,3]. Another correct ordering is [0,2,1,3].\n",
    "Example 3:\n",
    "\n",
    "    Input: numCourses = 1, prerequisites = []\n",
    "    Output: [0]\n",
    " \n",
    "\n",
    "Constraints:\n",
    "\n",
    "    1 <= numCourses <= 2000\n",
    "    0 <= prerequisites.length <= numCourses * (numCourses - 1)\n",
    "    prerequisites[i].length == 2\n",
    "    0 <= ai, bi < numCourses\n",
    "    ai != bi\n",
    "    All the pairs [ai, bi] are distinct."
   ]
  },
  {
   "cell_type": "markdown",
   "id": "cfe69cf9",
   "metadata": {},
   "source": [
    "### Approach:\n",
    "\n",
    "Basicaly we need to find the Topological sort. However, if there is cycle detected then topological sorting is not possible, so return empty list. That means while creating topological order, need to keep checking the cycle as well.\n",
    "\n",
    "To get the topological order: \n",
    "\n",
    "We will be solving it using the DFS traversal technique. Traverses all nodes by going ahead, and when there are no further nodes to traverse in the current path, then it backtracks on the same path and traverses other unvisited nodes.\n",
    "We will keep track of visited nodes in a list, also keep ading nodes whose dfs is done in a stack.\n",
    "Once dfs of all nodes are done, then pull out all nodes from stack. That would be the topological sorted nodes.\n",
    "\n",
    "As we need to find the loop, so Keep the nodes in a list visit = \"G\", for which current dfs is running. If we encounter the same node with value = \"G\", that means we have already visited the nodes during this dfs, indicating that it is a cycle. Make visit[node] = \"B\" once dfs is completed for that particular node.\n"
   ]
  },
  {
   "cell_type": "code",
   "execution_count": 11,
   "id": "680ff648",
   "metadata": {},
   "outputs": [],
   "source": [
    "def topologicalOrder(numCourses, prerequisites):\n",
    "    graph = [[] for _ in range(numCourses)]\n",
    "    \n",
    "    for v,u in prerequisites:\n",
    "        graph[u].append(v)\n",
    "    \n",
    "    visit = [\"W\"] * numCourses\n",
    "    stack = []\n",
    "    \n",
    "    for i in range(numCourses):\n",
    "        if visit[i] == \"W\" and dfs(i, graph, visit, stack):\n",
    "            return []\n",
    "    return list(reversed(stack))\n",
    "\n",
    "def dfs(node, graph, visit, stack):\n",
    "    visit[node] = \"G\"\n",
    "    for n in graph[node]:\n",
    "        if visit[n] == \"G\":\n",
    "            return True\n",
    "        if visit[n] == \"W\":\n",
    "            if dfs(n, graph, visit, stack):\n",
    "                return True\n",
    "    visit[node] = \"B\"\n",
    "    stack.append(node)\n",
    "    return False\n",
    "            \n",
    "        \n",
    "        "
   ]
  },
  {
   "cell_type": "code",
   "execution_count": 13,
   "id": "93b37619",
   "metadata": {},
   "outputs": [
    {
     "data": {
      "text/plain": [
       "[0, 1]"
      ]
     },
     "execution_count": 13,
     "metadata": {},
     "output_type": "execute_result"
    }
   ],
   "source": [
    "numCourses = 2\n",
    "prerequisites = [[1,0]]\n",
    "topologicalOrder(numCourses, prerequisites)"
   ]
  },
  {
   "cell_type": "code",
   "execution_count": 15,
   "id": "a156ac79",
   "metadata": {},
   "outputs": [
    {
     "data": {
      "text/plain": [
       "[0, 2, 1, 3]"
      ]
     },
     "execution_count": 15,
     "metadata": {},
     "output_type": "execute_result"
    }
   ],
   "source": [
    "numCourses = 4\n",
    "prerequisites = [[1,0],[2,0],[3,1],[3,2]]\n",
    "topologicalOrder(numCourses, prerequisites)"
   ]
  },
  {
   "cell_type": "code",
   "execution_count": 17,
   "id": "0cb86fc2",
   "metadata": {},
   "outputs": [
    {
     "data": {
      "text/plain": [
       "[]"
      ]
     },
     "execution_count": 17,
     "metadata": {},
     "output_type": "execute_result"
    }
   ],
   "source": [
    "numCourses = 2\n",
    "prerequisites = [[1,0], [0,1]]\n",
    "topologicalOrder(numCourses, prerequisites)"
   ]
  },
  {
   "cell_type": "markdown",
   "id": "0b11cfeb",
   "metadata": {},
   "source": [
    "### Another approach:\n",
    "Go with the approach of number of incomming link to the node. Node having zero incomming is the node to be chosen first, and then visit all outgoing node. Out going nodes represents the course you should take first before completing the parent node.\n",
    "\n",
    "We will keep inorder list, which will be updated during creation of graph. Then will create a list of nodes where inorder is zero. Start iterating from node (say i) in the order list, and also iterate outgoing nodes of i (say j). Reduce the count of inorder of node j each time. Once inorder count is zero, then append it to order list.\n",
    "\n",
    "If we complete all courses, then return order list otherwise return empty list."
   ]
  },
  {
   "cell_type": "code",
   "execution_count": 21,
   "id": "2854aaa5",
   "metadata": {},
   "outputs": [],
   "source": [
    "def topologicalSort1(vertices, edges):\n",
    "    graph = [[] for _ in range(numCourses)]\n",
    "    inorder = [0] * numCourses\n",
    "    for u, v in prerequisites:\n",
    "        graph[v].append(u)\n",
    "        inorder[u] += 1\n",
    "    order = [node for node in range(numCourses) if inorder[node] == 0]\n",
    "    for node in order:\n",
    "        for v in graph[node]:\n",
    "            inorder[v] -= 1\n",
    "            if inorder[v] == 0:\n",
    "                order.append(v)\n",
    "    return order if len(order) == numCourses else []"
   ]
  },
  {
   "cell_type": "code",
   "execution_count": 23,
   "id": "6354e054",
   "metadata": {},
   "outputs": [
    {
     "data": {
      "text/plain": [
       "[0, 1]"
      ]
     },
     "execution_count": 23,
     "metadata": {},
     "output_type": "execute_result"
    }
   ],
   "source": [
    "numCourses = 2\n",
    "prerequisites = [[1,0]]\n",
    "topologicalSort1(numCourses, prerequisites)"
   ]
  },
  {
   "cell_type": "code",
   "execution_count": 25,
   "id": "4dd5050c",
   "metadata": {},
   "outputs": [
    {
     "data": {
      "text/plain": [
       "[0, 1, 2, 3]"
      ]
     },
     "execution_count": 25,
     "metadata": {},
     "output_type": "execute_result"
    }
   ],
   "source": [
    "numCourses = 4\n",
    "prerequisites = [[1,0],[2,0],[3,1],[3,2]]\n",
    "topologicalSort1(numCourses, prerequisites)"
   ]
  },
  {
   "cell_type": "code",
   "execution_count": 27,
   "id": "bc541ee1",
   "metadata": {},
   "outputs": [
    {
     "data": {
      "text/plain": [
       "[]"
      ]
     },
     "execution_count": 27,
     "metadata": {},
     "output_type": "execute_result"
    }
   ],
   "source": [
    "numCourses = 2\n",
    "prerequisites = [[1,0], [0,1]]\n",
    "topologicalSort1(numCourses, prerequisites)"
   ]
  },
  {
   "cell_type": "code",
   "execution_count": null,
   "id": "142f7b35",
   "metadata": {},
   "outputs": [],
   "source": []
  }
 ],
 "metadata": {
  "kernelspec": {
   "display_name": "Python 3 (ipykernel)",
   "language": "python",
   "name": "python3"
  },
  "language_info": {
   "codemirror_mode": {
    "name": "ipython",
    "version": 3
   },
   "file_extension": ".py",
   "mimetype": "text/x-python",
   "name": "python",
   "nbconvert_exporter": "python",
   "pygments_lexer": "ipython3",
   "version": "3.12.7"
  }
 },
 "nbformat": 4,
 "nbformat_minor": 5
}
