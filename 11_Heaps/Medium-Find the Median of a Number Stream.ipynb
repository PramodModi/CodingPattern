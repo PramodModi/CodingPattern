{
 "cells": [
  {
   "cell_type": "markdown",
   "id": "d3e68831",
   "metadata": {},
   "source": [
    "## Problem: Find the Median of a Number Stream\n",
    "LeetCode: 295. Find Median from Data Stream\n",
    " \n",
    "https://leetcode.com/problems/find-median-from-data-stream/\n",
    "\n",
    "The median is the middle value in an ordered integer list. If the size of the list is even, there is no middle value, and the median is the mean of the two middle values.\n",
    "\n",
    "    For example, for arr = [2,3,4], the median is 3.\n",
    "    For example, for arr = [2,3], the median is (2 + 3) / 2 = 2.5.\n",
    "    Implement the MedianFinder class:\n",
    "\n",
    "    MedianFinder() initializes the MedianFinder object.\n",
    "    void addNum(int num) adds the integer num from the data stream to the data structure.\n",
    "    double findMedian() returns the median of all elements so far. Answers within 10-5 of the actual answer will be accepted.\n",
    "\n",
    "\n",
    "Example 1:\n",
    "\n",
    "    Input\n",
    "    [\"MedianFinder\", \"addNum\", \"addNum\", \"findMedian\", \"addNum\", \"findMedian\"]\n",
    "    [[], [1], [2], [], [3], []]\n",
    "    Output\n",
    "    [null, null, null, 1.5, null, 2.0]\n",
    "\n",
    "    Explanation\n",
    "    MedianFinder medianFinder = new MedianFinder();\n",
    "    medianFinder.addNum(1);    // arr = [1]\n",
    "    medianFinder.addNum(2);    // arr = [1, 2]\n",
    "    medianFinder.findMedian(); // return 1.5 (i.e., (1 + 2) / 2)\n",
    "    medianFinder.addNum(3);    // arr[1, 2, 3]\n",
    "    medianFinder.findMedian(); // return 2.0\n",
    " \n",
    "\n",
    "Constraints:\n",
    "\n",
    "    -105 <= num <= 105\n",
    "    There will be at least one element in the data structure before calling findMedian.\n",
    "    At most 5 * 104 calls will be made to addNum and findMedian."
   ]
  },
  {
   "cell_type": "markdown",
   "id": "79b0ef7c",
   "metadata": {},
   "source": [
    "### Approach:\n",
    "Median needs middle data in a sorted array. Since it is streaming data, so sorting is not possible.\n",
    "Use two heap for first lower half and upper half. First lower half should have max heap and upper half should have min heap. Medain would be average of first element of max heap (that is the max value of max heap) and first element of min heap (minumum of min heap), if total numbers are even. That is if lower and upper halves are having same length then take avaerage of first elements of both heaps. If numbers are not equal that means, total numbers are odd, then take first element of either lower part or upper part depending on who is having more numbers.heao\n",
    "\n",
    "Since Python does not have max heap, so one option is to use min heap for both max and min haep. If we pass the negative of value in the min heap, then it will start behaving max heap. But this is only possible when number are positive. \n",
    "\n",
    "In this problem range of number is [-100, 100]. Means number can be negative. In that case max heap will not behave correctly. \n",
    "Then will use our own Heap class."
   ]
  },
  {
   "cell_type": "code",
   "execution_count": 39,
   "id": "013bf94e",
   "metadata": {},
   "outputs": [],
   "source": [
    "class MedianFinder:\n",
    "    def __init__(self):\n",
    "        self.lowerHeap = Heap(max) # Max Heap\n",
    "        self.upperHeap = Heap(min) # Min heap\n",
    "        self.median = None\n",
    "    def addNum(self, num):\n",
    "        if self.lowerHeap.length() == 0 or num < self.lowerHeap.peak():\n",
    "            self.lowerHeap.insert(num)\n",
    "        else:\n",
    "            self.upperHeap.insert(num)\n",
    "        self.rebalanceHeap()\n",
    "        self.calculateMedian()\n",
    "    def rebalanceHeap(self):\n",
    "        if self.lowerHeap.length()- self.upperHeap.length() == 2:\n",
    "            self.upperHeap.insert(self.lowerHeap.remove())\n",
    "        if self.upperHeap.length() - self.lowerHeap.length() == 2:\n",
    "            self.lowerHeap.insert(self.upperHeap.remove())\n",
    "    def calculateMedian(self):\n",
    "        if self.lowerHeap.length() == self.upperHeap.length():\n",
    "            self.median =( self.lowerHeap.peak() + self.upperHeap.peak())/2\n",
    "        elif self.lowerHeap.length()  > self.upperHeap.length() :\n",
    "            self.median = self.lowerHeap.peak()\n",
    "        else:\n",
    "            self.median = self.upperHeap.peak()\n",
    "    def findMedian(self):\n",
    "        return self.median\n",
    "            \n",
    "            "
   ]
  },
  {
   "cell_type": "code",
   "execution_count": 40,
   "id": "9c1e705e",
   "metadata": {},
   "outputs": [],
   "source": [
    "class Heap:\n",
    "    def __init__(self, maxmin):\n",
    "        self.maxmin = maxmin\n",
    "        self.heap = []\n",
    "        self.heapify();\n",
    "    def heapify(self):\n",
    "        lastIndex = len(self.heap)-1\n",
    "        firstParentIndex = (lastIndex-1)//2\n",
    "        for i in range(firstParentIndex,-1, -1):\n",
    "            self.shiftDown(i)\n",
    "    def shiftDown(self, pIndex):\n",
    "        firstChild = 2*pIndex + 1\n",
    "        while firstChild < len(self.heap):\n",
    "            secondChild = 2*pIndex + 2\n",
    "            if secondChild >= len(self.heap):\n",
    "                secondChild = -1\n",
    "            if self.maxmin(self.heap[firstChild], self.heap[secondChild]):\n",
    "                currentIndex = firstChild\n",
    "            else:\n",
    "                currentIndex = secondChild\n",
    "            if self.maxmin(self.heap[currentIndex], self.heap[pIndex]):\n",
    "                self.heap[currentIndex], self.heap[pIndex] = self.heap[pIndex], self.heap[currentIndex]\n",
    "                pIndex = currentIndex\n",
    "                currentIndex = 2*pIndex+1\n",
    "            else:\n",
    "                return\n",
    "    def shiftUp(self, cIndex):\n",
    "        pIndex = (cIndex-1)//2\n",
    "        while cIndex >= 0:\n",
    "            if self.maxmin(self.heap[cIndex], self.heap[pIndex]):\n",
    "                self.heap[cIndex], self.heap[pIndex] = self.heap[pIndex], self.heap[cIndex]\n",
    "                cIndex = pIndex\n",
    "                pIndex = (cIndex-1)//2\n",
    "            else:\n",
    "                break\n",
    "    def insert(self, value):\n",
    "        self.heap.append(value)\n",
    "        self.shiftUp(len(self.heap)-1)\n",
    "        \n",
    "    def remove(self):\n",
    "        lastIndex = len(self.heap) - 1\n",
    "        self.heap[0], self.heap[lastIndex] = self.heap[lastIndex], self.heap[0]\n",
    "        value = self.heap.pop()\n",
    "        self.shiftDown(0)\n",
    "        return value\n",
    "    def peak(self):\n",
    "        return self.heap[0]\n",
    "    def length(self):\n",
    "        return len(self.heap)\n",
    "    \n",
    "    \n",
    "def min(a,b):\n",
    "    return a < b\n",
    "\n",
    "def max(a,b):\n",
    "    a>b\n",
    "        "
   ]
  },
  {
   "cell_type": "code",
   "execution_count": 41,
   "id": "d89386e4",
   "metadata": {},
   "outputs": [
    {
     "name": "stdout",
     "output_type": "stream",
     "text": [
      "1.5\n",
      "2\n"
     ]
    }
   ],
   "source": [
    "mf = MedianFinder()\n",
    "mf.addNum(1)\n",
    "mf.addNum(2)\n",
    "print(mf.findMedian())\n",
    "mf.addNum(3)\n",
    "print(mf.findMedian())"
   ]
  },
  {
   "cell_type": "code",
   "execution_count": 43,
   "id": "fbe9f5b6",
   "metadata": {},
   "outputs": [
    {
     "name": "stdout",
     "output_type": "stream",
     "text": [
      "-0.5\n",
      "1\n"
     ]
    }
   ],
   "source": [
    "mf = MedianFinder()\n",
    "mf.addNum(-2)\n",
    "mf.addNum(1)\n",
    "print(mf.findMedian())\n",
    "mf.addNum(2)\n",
    "print(mf.findMedian())"
   ]
  },
  {
   "cell_type": "code",
   "execution_count": null,
   "id": "30e6f7c1",
   "metadata": {},
   "outputs": [],
   "source": []
  }
 ],
 "metadata": {
  "kernelspec": {
   "display_name": "Python 3",
   "language": "python",
   "name": "python3"
  },
  "language_info": {
   "codemirror_mode": {
    "name": "ipython",
    "version": 3
   },
   "file_extension": ".py",
   "mimetype": "text/x-python",
   "name": "python",
   "nbconvert_exporter": "python",
   "pygments_lexer": "ipython3",
   "version": "3.8.8"
  }
 },
 "nbformat": 4,
 "nbformat_minor": 5
}
