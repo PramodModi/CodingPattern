{
 "cells": [
  {
   "cell_type": "markdown",
   "id": "82e0e9a0",
   "metadata": {},
   "source": [
    "## Problem: Happy Number\n",
    "LeetCode: 202. Happy Number\n",
    "https://leetcode.com/problems/happy-number/description/\n",
    "\n",
    "Write an algorithm to determine if a number n is happy.\n",
    "\n",
    "A happy number is a number defined by the following process:\n",
    "\n",
    "Starting with any positive integer, replace the number by the sum of the squares of its digits.\n",
    "Repeat the process until the number equals 1 (where it will stay), or it loops endlessly in a cycle which does not include 1.\n",
    "Those numbers for which this process ends in 1 are happy.\n",
    "Return true if n is a happy number, and false if not.\n",
    "\n",
    " \n",
    "\n",
    "Example 1:\n",
    "\n",
    "    Input: n = 19\n",
    "    Output: true\n",
    "    Explanation:\n",
    "    12 + 92 = 82\n",
    "    82 + 22 = 68\n",
    "    62 + 82 = 100\n",
    "    12 + 02 + 02 = 1\n",
    "Example 2:\n",
    "\n",
    "    Input: n = 2\n",
    "    Output: false\n",
    " \n",
    "\n",
    "Constraints:\n",
    "\n",
    "    1 <= n <= 231 - 1"
   ]
  },
  {
   "cell_type": "markdown",
   "id": "9fcba7b7",
   "metadata": {},
   "source": [
    "### Approach:\n",
    "If number is a happy number, the cycle will endup at 1. If not a happy number, then cycle will stuck with any of previously calculated number. \n",
    "ex: for given number n= 3. Sequence repeats at 37.  9,81,65,61,37,58,89,145,42,20,4,16,37\n",
    "\n",
    "So, in a similar to LinkedList cycle problem we can use Fast & Slow pointers pattern to find a cycle among a set of elements."
   ]
  },
  {
   "cell_type": "code",
   "execution_count": 1,
   "id": "65996b73",
   "metadata": {},
   "outputs": [],
   "source": [
    "def isHappy(n):\n",
    "        slow = n\n",
    "        fast = n\n",
    "        while True:\n",
    "            slow = getNewNumber(slow)\n",
    "            fast = getNewNumber(getNewNumber(fast))\n",
    "            if slow == fast or slow == 1:\n",
    "                break\n",
    "        return slow == 1\n",
    "\n",
    "def getNewNumber(num):\n",
    "    sum = 0\n",
    "    while num:\n",
    "        num, r = divmod(num,10)\n",
    "        sum += r*r\n",
    "    return sum"
   ]
  },
  {
   "cell_type": "code",
   "execution_count": 2,
   "id": "fdccd68d",
   "metadata": {},
   "outputs": [
    {
     "data": {
      "text/plain": [
       "False"
      ]
     },
     "execution_count": 2,
     "metadata": {},
     "output_type": "execute_result"
    }
   ],
   "source": [
    "n =3\n",
    "isHappy(n)"
   ]
  },
  {
   "cell_type": "code",
   "execution_count": 3,
   "id": "758193b1",
   "metadata": {},
   "outputs": [
    {
     "data": {
      "text/plain": [
       "True"
      ]
     },
     "execution_count": 3,
     "metadata": {},
     "output_type": "execute_result"
    }
   ],
   "source": [
    "n =19\n",
    "isHappy(n)"
   ]
  },
  {
   "cell_type": "code",
   "execution_count": null,
   "id": "17c58ad5",
   "metadata": {},
   "outputs": [],
   "source": []
  }
 ],
 "metadata": {
  "kernelspec": {
   "display_name": "Python 3 (ipykernel)",
   "language": "python",
   "name": "python3"
  },
  "language_info": {
   "codemirror_mode": {
    "name": "ipython",
    "version": 3
   },
   "file_extension": ".py",
   "mimetype": "text/x-python",
   "name": "python",
   "nbconvert_exporter": "python",
   "pygments_lexer": "ipython3",
   "version": "3.8.18"
  }
 },
 "nbformat": 4,
 "nbformat_minor": 5
}
