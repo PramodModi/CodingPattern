{
 "cells": [
  {
   "attachments": {
    "image.png": {
     "image/png": "[encoded data removed]"
    }
   },
   "cell_type": "markdown",
   "id": "f01940fd",
   "metadata": {},
   "source": [
    "## Problem: Palindrome Linked List\n",
    "LeetCode: 234. Palindrome Linked List\n",
    "\n",
    "https://leetcode.com/problems/palindrome-linked-list/description/\n",
    "\n",
    "Given the head of a singly linked list, return true if it is a palindrome or false otherwise.\n",
    " \n",
    "Example 1:\n",
    "\n",
    "![image.png](attachment:image.png)\n",
    "    Input: head = [1,2,2,1]\n",
    "    Output: true\n",
    "Example 2:\n",
    "\n",
    "\n",
    "    Input: head = [1,2]\n",
    "    Output: false\n",
    " \n",
    "\n",
    "Constraints:\n",
    "\n",
    "    The number of nodes in the list is in the range [1, 105].\n",
    "    0 <= Node.val <= 9"
   ]
  },
  {
   "cell_type": "raw",
   "id": "8acb0cd4",
   "metadata": {},
   "source": [
    "Approach:\n",
    "To know the palindrome, we need to check if value of first node is equal to value of last node, then value of second node to second last node. Keep checking by moving to next node from start and previous node from last till reach to the middle.\n",
    "As, it is single linkkedlist, so going back (previous node) is not possible. Solution is that:\n",
    "1. Go to the middle node\n",
    "2. Reverse the list from middle to last node.\n",
    "3. Now, have two pointers, from start and mid positions.\n",
    "4. Keep moving forward and compare the values, if not matching then return False. Otherwise, at the end return True."
   ]
  },
  {
   "cell_type": "code",
   "execution_count": 6,
   "id": "fd89f100",
   "metadata": {},
   "outputs": [],
   "source": [
    "# This is to create a link list\n",
    "class Node:\n",
    "    def __init__(self, val):\n",
    "        self.val = val\n",
    "        self.next = None\n",
    "\n",
    "def insertNode(head, val):\n",
    "    newNode = Node(val)\n",
    "    if head == None:\n",
    "        head = newNode\n",
    "        return head\n",
    "    temp = head\n",
    "    while temp.next != None:\n",
    "        temp = temp.next\n",
    "    temp.next = newNode\n",
    "    return head"
   ]
  },
  {
   "cell_type": "code",
   "execution_count": 7,
   "id": "e0c355ff",
   "metadata": {},
   "outputs": [],
   "source": [
    "def isPalindrome(head):\n",
    "    if head.next is None:\n",
    "        return True\n",
    "    mid = getMiddleNode(head)\n",
    "    midHead = reverse(mid)\n",
    "    \n",
    "    temp1 = head\n",
    "    temp2 = midHead\n",
    "    \n",
    "    while temp2:\n",
    "        if temp1.val != temp2.val:\n",
    "            return False\n",
    "        temp1 =  temp1.next\n",
    "        temp2 = temp2.next\n",
    "    return True\n",
    "\n",
    "def getMiddleNode(head):\n",
    "    if head.next is None:\n",
    "        return head\n",
    "    slow = head\n",
    "    fast = head\n",
    "    while fast and fast.next:\n",
    "        slow = slow.next\n",
    "        fast = fast.next.next\n",
    "    return slow\n",
    "\n",
    "def reverse(head):\n",
    "    cur = head\n",
    "    prev = None\n",
    "    \n",
    "    while cur:\n",
    "        temp = cur\n",
    "        cur = cur.next\n",
    "        temp.next = prev\n",
    "        prev = temp\n",
    "    return prev\n"
   ]
  },
  {
   "cell_type": "code",
   "execution_count": 8,
   "id": "8ecbc412",
   "metadata": {},
   "outputs": [
    {
     "data": {
      "text/plain": [
       "True"
      ]
     },
     "execution_count": 8,
     "metadata": {},
     "output_type": "execute_result"
    }
   ],
   "source": [
    "## Example 1\n",
    "# Craete link list\n",
    "\n",
    "head = None\n",
    "head = insertNode(head, 1)\n",
    "head = insertNode(head, 2)\n",
    "head = insertNode(head, 2)\n",
    "head = insertNode(head, 1)\n",
    "\n",
    "# Check Palindrome\n",
    "isPalindrome(head)"
   ]
  },
  {
   "cell_type": "code",
   "execution_count": 9,
   "id": "5547bc5a",
   "metadata": {},
   "outputs": [
    {
     "data": {
      "text/plain": [
       "False"
      ]
     },
     "execution_count": 9,
     "metadata": {},
     "output_type": "execute_result"
    }
   ],
   "source": [
    "## Example 2\n",
    "# Craete link list\n",
    "\n",
    "head = None\n",
    "head = insertNode(head, 1)\n",
    "head = insertNode(head, 2)\n",
    "\n",
    "# Check Palindrome\n",
    "isPalindrome(head)"
   ]
  },
  {
   "cell_type": "code",
   "execution_count": null,
   "id": "908e7897",
   "metadata": {},
   "outputs": [],
   "source": []
  }
 ],
 "metadata": {
  "kernelspec": {
   "display_name": "Python 3",
   "language": "python",
   "name": "python3"
  },
  "language_info": {
   "codemirror_mode": {
    "name": "ipython",
    "version": 3
   },
   "file_extension": ".py",
   "mimetype": "text/x-python",
   "name": "python",
   "nbconvert_exporter": "python",
   "pygments_lexer": "ipython3",
   "version": "3.8.8"
  }
 },
 "nbformat": 4,
 "nbformat_minor": 5
}
