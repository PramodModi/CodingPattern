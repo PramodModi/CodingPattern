{
 "cells": [
  {
   "cell_type": "markdown",
   "id": "6292bfc7",
   "metadata": {},
   "source": [
    "## Problem: Combination Sum\n",
    "LeetCode: 39. Combination Sum\n",
    "\n",
    "https://leetcode.com/problems/combination-sum/\n",
    "\n",
    "Given an array of distinct integers candidates and a target integer target, return a list of all unique combinations of candidates where the chosen numbers sum to target. You may return the combinations in any order.\n",
    "\n",
    "The same number may be chosen from candidates an unlimited number of times. Two combinations are unique if the \n",
    "frequency of at least one of the chosen numbers is different.\n",
    "\n",
    "The test cases are generated such that the number of unique combinations that sum up to target is less than 150 combinations for the given input.\n",
    "\n",
    " \n",
    "\n",
    "Example 1:\n",
    "\n",
    "    Input: candidates = [2,3,6,7], target = 7\n",
    "    Output: [[2,2,3],[7]]\n",
    "    Explanation:\n",
    "    2 and 3 are candidates, and 2 + 2 + 3 = 7. Note that 2 can be used multiple times.\n",
    "    7 is a candidate, and 7 = 7.\n",
    "    These are the only two combinations.\n",
    "Example 2:\n",
    "\n",
    "    Input: candidates = [2,3,5], target = 8\n",
    "    Output: [[2,2,2,2],[2,3,3],[3,5]]\n",
    "Example 3:\n",
    "\n",
    "    Input: candidates = [2], target = 1\n",
    "    Output: []\n",
    " \n",
    "\n",
    "Constraints:\n",
    "\n",
    "    1 <= candidates.length <= 30\n",
    "    2 <= candidates[i] <= 40\n",
    "    All elements of candidates are distinct.\n",
    "    1 <= target <= 40"
   ]
  },
  {
   "cell_type": "markdown",
   "id": "9de25d15",
   "metadata": {},
   "source": [
    "### Approach: \n",
    "In Genral for this lind of problem, We can start with number at index 0, keep adding next numbers till either sum  is equal to target or sum is greater than target. Keep storing the numbers in temporary list, once sum is equal to target, then copy the temp list data to result. Then remove the last number from temp list and add next number. If sum is more than target, remove the number (backtracking) and take another number. Repeat this process till you reach end of the array.\n",
    "\n",
    "Here for simplicity, rather than maintaining sum, we can reduce target with selected number. So, we have to check if target ==0 or target < 0.\n",
    "\n",
    "For this specific problem:\n",
    "1. We can take same number as many times. So, keep adding the same number unless either target = 0 or target < 0. Then do the backtracking and add next number.\n",
    "2. Resultant lists should be unique. As numbers are unique in the given array, so no extra effort is needed.\n"
   ]
  },
  {
   "cell_type": "code",
   "execution_count": 3,
   "id": "4a378ad8",
   "metadata": {},
   "outputs": [],
   "source": [
    "def combinationSum(candidates, target):\n",
    "    result = []\n",
    "    targetSum(candidates, target, result,0, [])\n",
    "    return result\n",
    "\n",
    "def targetSum(candidates, target, result, index, temp):\n",
    "    if index == len(candidates) or target < 0:\n",
    "        return\n",
    "    if target == 0:\n",
    "        result.append(temp[:])\n",
    "        return\n",
    "    for i in range(index, len(candidates)):\n",
    "        targetSum(candidates, target-candidates[i], result, i, temp + [candidates[i]])\n",
    "    "
   ]
  },
  {
   "cell_type": "code",
   "execution_count": 4,
   "id": "7a53a8cb",
   "metadata": {},
   "outputs": [
    {
     "data": {
      "text/plain": [
       "[[2, 2, 3], [7]]"
      ]
     },
     "execution_count": 4,
     "metadata": {},
     "output_type": "execute_result"
    }
   ],
   "source": [
    "candidates = [2,3,6,7]\n",
    "target = 7\n",
    "combinationSum(candidates, target)"
   ]
  },
  {
   "cell_type": "code",
   "execution_count": 5,
   "id": "67c541ae",
   "metadata": {},
   "outputs": [
    {
     "data": {
      "text/plain": [
       "[[2, 2, 2, 2], [2, 3, 3], [3, 5]]"
      ]
     },
     "execution_count": 5,
     "metadata": {},
     "output_type": "execute_result"
    }
   ],
   "source": [
    "candidates = [2,3,5]\n",
    "target = 8\n",
    "combinationSum(candidates, target)"
   ]
  },
  {
   "cell_type": "code",
   "execution_count": 6,
   "id": "521e5325",
   "metadata": {},
   "outputs": [
    {
     "data": {
      "text/plain": [
       "[]"
      ]
     },
     "execution_count": 6,
     "metadata": {},
     "output_type": "execute_result"
    }
   ],
   "source": [
    "candidates = [2]\n",
    "target = 1\n",
    "combinationSum(candidates, target)"
   ]
  },
  {
   "cell_type": "markdown",
   "id": "10a0d425",
   "metadata": {},
   "source": [
    "## Just for understanding"
   ]
  },
  {
   "cell_type": "code",
   "execution_count": 8,
   "id": "a23bfa97",
   "metadata": {},
   "outputs": [],
   "source": [
    "def combinationSum1(candidates, target):\n",
    "    result = []\n",
    "    temp = []\n",
    "    targetSum1(candidates, target, result,0, temp)\n",
    "    return result\n",
    "\n",
    "def targetSum1(candidates, target, result, index, temp):\n",
    "    if index == len(candidates) or target < 0:\n",
    "        return\n",
    "    if target == 0:\n",
    "        result.append(temp[:])\n",
    "        return\n",
    "    for i in range(index, len(candidates)):\n",
    "        num = candidates[i]\n",
    "        temp.append(num)\n",
    "        targetSum1(candidates, target-num, result, i, temp)\n",
    "        temp.pop()\n",
    "    "
   ]
  },
  {
   "cell_type": "code",
   "execution_count": 9,
   "id": "7d1cb1d4",
   "metadata": {},
   "outputs": [
    {
     "data": {
      "text/plain": [
       "[[2, 2, 3], [7]]"
      ]
     },
     "execution_count": 9,
     "metadata": {},
     "output_type": "execute_result"
    }
   ],
   "source": [
    "candidates = [2,3,6,7]\n",
    "target = 7\n",
    "combinationSum1(candidates, target)"
   ]
  },
  {
   "cell_type": "code",
   "execution_count": 10,
   "id": "76f65712",
   "metadata": {},
   "outputs": [
    {
     "data": {
      "text/plain": [
       "[[2, 2, 2, 2], [2, 3, 3], [3, 5]]"
      ]
     },
     "execution_count": 10,
     "metadata": {},
     "output_type": "execute_result"
    }
   ],
   "source": [
    "candidates = [2,3,5]\n",
    "target = 8\n",
    "combinationSum1(candidates, target)"
   ]
  },
  {
   "cell_type": "code",
   "execution_count": 11,
   "id": "325bb593",
   "metadata": {},
   "outputs": [
    {
     "data": {
      "text/plain": [
       "[]"
      ]
     },
     "execution_count": 11,
     "metadata": {},
     "output_type": "execute_result"
    }
   ],
   "source": [
    "candidates = [2]\n",
    "target = 1\n",
    "combinationSum1(candidates, target)"
   ]
  },
  {
   "cell_type": "code",
   "execution_count": null,
   "id": "11878088",
   "metadata": {},
   "outputs": [],
   "source": []
  }
 ],
 "metadata": {
  "kernelspec": {
   "display_name": "Python 3",
   "language": "python",
   "name": "python3"
  },
  "language_info": {
   "codemirror_mode": {
    "name": "ipython",
    "version": 3
   },
   "file_extension": ".py",
   "mimetype": "text/x-python",
   "name": "python",
   "nbconvert_exporter": "python",
   "pygments_lexer": "ipython3",
   "version": "3.8.8"
  }
 },
 "nbformat": 4,
 "nbformat_minor": 5
}
