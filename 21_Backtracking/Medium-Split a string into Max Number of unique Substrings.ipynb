{
 "cells": [
  {
   "cell_type": "markdown",
   "id": "d0d10da6",
   "metadata": {},
   "source": [
    "## Problem: Split a String Into the Max Number of Unique Substrings\n",
    "LeetCode: 1593. Split a String Into the Max Number of Unique Substrings\n",
    "\n",
    "https://leetcode.com/problems/split-a-string-into-the-max-number-of-unique-substrings/\n",
    "\n",
    "Given a string s, return the maximum number of unique substrings that the given string can be split into.\n",
    "\n",
    "You can split string s into any list of non-empty substrings, where the concatenation of the substrings forms the original string. However, you must split the substrings such that all of them are unique.\n",
    "\n",
    "A substring is a contiguous sequence of characters within a string.\n",
    "\n",
    " \n",
    "\n",
    "Example 1:\n",
    "\n",
    "    Input: s = \"ababccc\"\n",
    "    Output: 5\n",
    "    Explanation: One way to split maximally is ['a', 'b', 'ab', 'c', 'cc']. Splitting like ['a', 'b', 'a', 'b', 'c', 'cc'] is not valid as you have 'a' and 'b' multiple times.\n",
    "Example 2:\n",
    "\n",
    "    Input: s = \"aba\"\n",
    "    Output: 2\n",
    "    Explanation: One way to split maximally is ['a', 'ba'].\n",
    "Example 3:\n",
    "\n",
    "    Input: s = \"aa\"\n",
    "    Output: 1\n",
    "    Explanation: It is impossible to split the string any further.\n",
    " \n",
    "\n",
    "Constraints:\n",
    "\n",
    "    1 <= s.length <= 16\n",
    "\n",
    "    s contains only lower case English letters."
   ]
  },
  {
   "cell_type": "markdown",
   "id": "df780bb5",
   "metadata": {},
   "source": [
    "### Approach:\n",
    "Start from index 0. Check if string at this index is available in the set, if yes then take the string = s[i:i+1], if this string is also available then go for next string = s[i:i+2] and so on till last character of string.\n",
    "If string is available at index i, then we can split it here, so count will be increased by 1, add the string in set and check for next string.\n",
    "Define max count = 0 and always check maxCount = max(maxCount, 1 + later part of string)\n",
    "\n",
    "As it is same logic for rest of the strings, so better to have recursive call. \n",
    "As stated earlier, we have started splitting from first character of the string, what if max split is possible when we start from two characters or three character etc...\n",
    "So, to achieve that we will do backtracking.\n",
    "On each completion of count, will remove the string from set and always take the maximum.\n"
   ]
  },
  {
   "cell_type": "code",
   "execution_count": 35,
   "id": "2dee4dd9",
   "metadata": {},
   "outputs": [],
   "source": [
    "def maxSplitString(s):\n",
    "    result = set()\n",
    "    count = splitString(s, 0, result)\n",
    "    return count\n",
    "\n",
    "def splitString(s, index, result):\n",
    "    if index >= len(s):\n",
    "        return 0\n",
    "    maxCount = 0\n",
    "    for i in range(index, len(s)):\n",
    "        temp = s[index:i+1]\n",
    "        if temp not in result:\n",
    "            result.add(temp)\n",
    "            maxCount = max(maxCount, 1 + splitString(s, i+1, result))\n",
    "            result.remove(temp)\n",
    "    return maxCount\n",
    "    \n",
    "        \n",
    "        "
   ]
  },
  {
   "cell_type": "code",
   "execution_count": 36,
   "id": "17580e42",
   "metadata": {},
   "outputs": [
    {
     "data": {
      "text/plain": [
       "5"
      ]
     },
     "execution_count": 36,
     "metadata": {},
     "output_type": "execute_result"
    }
   ],
   "source": [
    "s = \"ababccc\"\n",
    "maxSplitString(s)"
   ]
  },
  {
   "cell_type": "code",
   "execution_count": 37,
   "id": "8abcd730",
   "metadata": {},
   "outputs": [
    {
     "data": {
      "text/plain": [
       "2"
      ]
     },
     "execution_count": 37,
     "metadata": {},
     "output_type": "execute_result"
    }
   ],
   "source": [
    "s = \"aba\"\n",
    "maxSplitString(s)"
   ]
  },
  {
   "cell_type": "code",
   "execution_count": 38,
   "id": "6d5880fc",
   "metadata": {},
   "outputs": [
    {
     "data": {
      "text/plain": [
       "1"
      ]
     },
     "execution_count": 38,
     "metadata": {},
     "output_type": "execute_result"
    }
   ],
   "source": [
    "s = \"aa\"\n",
    "maxSplitString(s)"
   ]
  },
  {
   "cell_type": "code",
   "execution_count": 39,
   "id": "f6ded0b0",
   "metadata": {},
   "outputs": [
    {
     "data": {
      "text/plain": [
       "11"
      ]
     },
     "execution_count": 39,
     "metadata": {},
     "output_type": "execute_result"
    }
   ],
   "source": [
    "## Expected output = 11\n",
    "s = \"wwwzfvedwfvhsww\"\n",
    "maxSplitString(s)"
   ]
  },
  {
   "cell_type": "code",
   "execution_count": null,
   "id": "6ad3cd85",
   "metadata": {},
   "outputs": [],
   "source": []
  }
 ],
 "metadata": {
  "kernelspec": {
   "display_name": "Python 3",
   "language": "python",
   "name": "python3"
  },
  "language_info": {
   "codemirror_mode": {
    "name": "ipython",
    "version": 3
   },
   "file_extension": ".py",
   "mimetype": "text/x-python",
   "name": "python",
   "nbconvert_exporter": "python",
   "pygments_lexer": "ipython3",
   "version": "3.8.8"
  }
 },
 "nbformat": 4,
 "nbformat_minor": 5
}
