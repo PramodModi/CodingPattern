{
 "cells": [
  {
   "cell_type": "markdown",
   "id": "4527adb4",
   "metadata": {},
   "source": [
    "## Problem: Factor Combinations\n",
    "\n",
    "Numbers can be regarded as the product of their factors.\n",
    "\n",
    "For example, 8 = 2 x 2 x 2 = 2 x 4.\n",
    "\n",
    "Given an integer n, return all possible combinations of its factors. You may return the answer in any order.\n",
    "\n",
    "Example 1:\n",
    "\n",
    "    Input: n = 8  \n",
    "    Output: [[2, 2, 2], [2, 4]]   \n",
    "Example 2:\n",
    "\n",
    "    Input: n = 20  \n",
    "    Output: [[2, 2, 5], [2, 10], [4, 5]]  \n",
    "    \n",
    "Example 3:\n",
    "\n",
    "    Input: n = 16  \n",
    "    Output: [[2, 2, 2, 2], [2, 2, 4], [2, 8], [4,4]]\n",
    "    \n",
    "Example 4:\n",
    "\n",
    "    Input: n = 12  \n",
    "    Output: [[2, 2, 3], [2, 6], [3,4]]\n"
   ]
  },
  {
   "cell_type": "markdown",
   "id": "8d89668d",
   "metadata": {},
   "source": [
    "### Approach:\n",
    "Start factorization by 2 say curNumber. Keep multiplying the curNumber with previous product (start product =1 ) on each iteration. Store each curNumber in temprary list (temp list). if product == n then copy the numbers form temp list to result. And then do the back tracking by curNumber + 1."
   ]
  },
  {
   "cell_type": "code",
   "execution_count": 1,
   "id": "0cacb3de",
   "metadata": {},
   "outputs": [],
   "source": [
    "def factors_combination(n):\n",
    "    result = []\n",
    "    combination(n, 2, 1, [], result)\n",
    "    return result\n",
    "\n",
    "def combination(n, curNumber, product, temp, result):\n",
    "    if curNumber > n//2 or product > n:\n",
    "        return\n",
    "    if product == n:\n",
    "        result.append(temp[:])\n",
    "        return\n",
    "    combination(n, curNumber, product*curNumber, temp+[curNumber], result)\n",
    "    combination(n, curNumber+1, product, temp, result)\n",
    "        "
   ]
  },
  {
   "cell_type": "code",
   "execution_count": 2,
   "id": "a01c914f",
   "metadata": {},
   "outputs": [
    {
     "data": {
      "text/plain": [
       "[[2, 2, 2], [2, 4]]"
      ]
     },
     "execution_count": 2,
     "metadata": {},
     "output_type": "execute_result"
    }
   ],
   "source": [
    "n  = 8\n",
    "factors_combination(n)"
   ]
  },
  {
   "cell_type": "code",
   "execution_count": 3,
   "id": "d32b9020",
   "metadata": {},
   "outputs": [
    {
     "data": {
      "text/plain": [
       "[[2, 2, 5], [2, 10], [4, 5]]"
      ]
     },
     "execution_count": 3,
     "metadata": {},
     "output_type": "execute_result"
    }
   ],
   "source": [
    "n  = 20\n",
    "factors_combination(n)"
   ]
  },
  {
   "cell_type": "code",
   "execution_count": 4,
   "id": "0f0cc94b",
   "metadata": {},
   "outputs": [
    {
     "data": {
      "text/plain": [
       "[[2, 2, 2, 2], [2, 2, 4], [2, 8], [4, 4]]"
      ]
     },
     "execution_count": 4,
     "metadata": {},
     "output_type": "execute_result"
    }
   ],
   "source": [
    "n  = 16\n",
    "factors_combination(n)"
   ]
  },
  {
   "cell_type": "code",
   "execution_count": null,
   "id": "d391dd5b",
   "metadata": {},
   "outputs": [],
   "source": []
  }
 ],
 "metadata": {
  "kernelspec": {
   "display_name": "Python 3",
   "language": "python",
   "name": "python3"
  },
  "language_info": {
   "codemirror_mode": {
    "name": "ipython",
    "version": 3
   },
   "file_extension": ".py",
   "mimetype": "text/x-python",
   "name": "python",
   "nbconvert_exporter": "python",
   "pygments_lexer": "ipython3",
   "version": "3.8.8"
  }
 },
 "nbformat": 4,
 "nbformat_minor": 5
}
