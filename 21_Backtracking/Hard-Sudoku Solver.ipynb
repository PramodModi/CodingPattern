{
 "cells": [
  {
   "cell_type": "markdown",
   "id": "441e9347",
   "metadata": {},
   "source": [
    "## Problem: Sudoku Solver\n",
    "LeetCode: 37. Sudoku Solver\n",
    "\n",
    "https://leetcode.com/problems/sudoku-solver/\n",
    "\n",
    "Write a program to solve a Sudoku puzzle by filling the empty cells.\n",
    "\n",
    "A sudoku solution must satisfy all of the following rules:\n",
    "\n",
    "    Each of the digits 1-9 must occur exactly once in each row.\n",
    "    Each of the digits 1-9 must occur exactly once in each column.\n",
    "    Each of the digits 1-9 must occur exactly once in each of the 9 3x3 sub-boxes of the grid.\n",
    "    The '.' character indicates empty cells.\n",
    "\n",
    " \n",
    "\n",
    "Example 1:\n",
    "\n",
    "\n",
    "    Input: board = [[\"5\",\"3\",\".\",\".\",\"7\",\".\",\".\",\".\",\".\"],[\"6\",\".\",\".\",\"1\",\"9\",\"5\",\".\",\".\",\".\"],[\".\",\"9\",\"8\",\".\",\".\",\".\",\".\",\"6\",\".\"],[\"8\",\".\",\".\",\".\",\"6\",\".\",\".\",\".\",\"3\"],[\"4\",\".\",\".\",\"8\",\".\",\"3\",\".\",\".\",\"1\"],[\"7\",\".\",\".\",\".\",\"2\",\".\",\".\",\".\",\"6\"],[\".\",\"6\",\".\",\".\",\".\",\".\",\"2\",\"8\",\".\"],[\".\",\".\",\".\",\"4\",\"1\",\"9\",\".\",\".\",\"5\"],[\".\",\".\",\".\",\".\",\"8\",\".\",\".\",\"7\",\"9\"]]\n",
    "    \n",
    "    Output: [[\"5\",\"3\",\"4\",\"6\",\"7\",\"8\",\"9\",\"1\",\"2\"],[\"6\",\"7\",\"2\",\"1\",\"9\",\"5\",\"3\",\"4\",\"8\"],[\"1\",\"9\",\"8\",\"3\",\"4\",\"2\",\"5\",\"6\",\"7\"],[\"8\",\"5\",\"9\",\"7\",\"6\",\"1\",\"4\",\"2\",\"3\"],[\"4\",\"2\",\"6\",\"8\",\"5\",\"3\",\"7\",\"9\",\"1\"],[\"7\",\"1\",\"3\",\"9\",\"2\",\"4\",\"8\",\"5\",\"6\"],[\"9\",\"6\",\"1\",\"5\",\"3\",\"7\",\"2\",\"8\",\"4\"],[\"2\",\"8\",\"7\",\"4\",\"1\",\"9\",\"6\",\"3\",\"5\"],[\"3\",\"4\",\"5\",\"2\",\"8\",\"6\",\"1\",\"7\",\"9\"]]\n",
    "    Explanation: The input board is shown above and the only valid solution is shown below:\n",
    "\n",
    "\n",
    " \n",
    "\n",
    "Constraints:\n",
    "\n",
    "    board.length == 9\n",
    "    board[i].length == 9\n",
    "    board[i][j] is a digit or '.'.\n",
    "    It is guaranteed that the input board has only one solution.\n"
   ]
  },
  {
   "cell_type": "markdown",
   "id": "370af3d7",
   "metadata": {},
   "source": [
    "### Approach:\n",
    "Start from cell(i, j) at (0, 0).\n",
    "If cell is empty, try to put the value from 1 to 9. Put the 1 and check if 1 is violating rule, if yes, then put 2 and so on. Once correct digit is placed, then recursively call the same method for next column in the same row. If the return is from recursive call for next column is True then return True. If it the recursive call return False, then try to put next digit. \n",
    "If all digits are exhausted, and return value is False, that means then wrong digit is placed in some of recrsion, bactrack. Remove the digit from cell.\n",
    "If digit is not empty, then check for next column.\n",
    "\n",
    "Base condition: if all row is exhausted that means board is covered fully then return True.\n",
    "\n",
    "Also, since we are increasing columuns in each recurssive call, so check if column is more than board column, if yes, then make the column zero and move to the next row."
   ]
  },
  {
   "cell_type": "code",
   "execution_count": 4,
   "id": "9b44ff51",
   "metadata": {},
   "outputs": [],
   "source": [
    "def SudokuSolver(board):\n",
    "    solver(board, 0,0)\n",
    "    return board\n",
    "\n",
    "def solver(board, row, col):\n",
    "    if col == len(board[0]):\n",
    "        col = 0\n",
    "        row += 1\n",
    "    if row == len(board):\n",
    "        return True\n",
    "    if board[row][col] == \".\":\n",
    "        for i in range(1, 10):\n",
    "            if isValid(board, i, row, col):\n",
    "                board[row][col] = str(i)\n",
    "                if solver(board, row, col+1):\n",
    "                    return True\n",
    "        board[row][col] = \".\"\n",
    "        return False\n",
    "    return solver(board, row, col+1)\n",
    "\n",
    "def isValid(board, num, row, col):\n",
    "    if num in board[row]:\n",
    "        return False\n",
    "    for i in range(len(board)):\n",
    "        if num == board[i][col]:\n",
    "            return False\n",
    "    r = (row//3) *3\n",
    "    c = (col//3) *3\n",
    "    for i in range(3):\n",
    "        for j in range(3):\n",
    "            if board[r + i][c + j] == str(num):\n",
    "                return False\n",
    "    return True\n",
    "            \n",
    "    "
   ]
  },
  {
   "cell_type": "code",
   "execution_count": 5,
   "id": "1ef0f9b4",
   "metadata": {},
   "outputs": [
    {
     "data": {
      "text/plain": [
       "[['5', '3', '1', '2', '7', '3', '1', '2', '3'],\n",
       " ['6', '2', '4', '1', '9', '5', '4', '5', '7'],\n",
       " ['7', '9', '8', '4', '6', '8', '8', '6', '9'],\n",
       " ['8', '1', '2', '1', '6', '4', '2', '4', '3'],\n",
       " ['4', '3', '5', '8', '5', '3', '5', '7', '1'],\n",
       " ['7', '6', '9', '7', '2', '9', '8', '9', '6'],\n",
       " ['1', '6', '2', '2', '3', '5', '2', '8', '1'],\n",
       " ['3', '4', '5', '4', '1', '9', '3', '4', '5'],\n",
       " ['7', '8', '9', '6', '8', '7', '6', '7', '9']]"
      ]
     },
     "execution_count": 5,
     "metadata": {},
     "output_type": "execute_result"
    }
   ],
   "source": [
    "board = [[\"5\",\"3\",\".\",\".\",\"7\",\".\",\".\",\".\",\".\"],\n",
    "         [\"6\",\".\",\".\",\"1\",\"9\",\"5\",\".\",\".\",\".\"],\n",
    "         [\".\",\"9\",\"8\",\".\",\".\",\".\",\".\",\"6\",\".\"],\n",
    "         [\"8\",\".\",\".\",\".\",\"6\",\".\",\".\",\".\",\"3\"],\n",
    "         [\"4\",\".\",\".\",\"8\",\".\",\"3\",\".\",\".\",\"1\"],\n",
    "         [\"7\",\".\",\".\",\".\",\"2\",\".\",\".\",\".\",\"6\"],\n",
    "         [\".\",\"6\",\".\",\".\",\".\",\".\",\"2\",\"8\",\".\"],\n",
    "         [\".\",\".\",\".\",\"4\",\"1\",\"9\",\".\",\".\",\"5\"],\n",
    "         [\".\",\".\",\".\",\".\",\"8\",\".\",\".\",\"7\",\"9\"]]\n",
    "SudokuSolver(board)"
   ]
  },
  {
   "cell_type": "code",
   "execution_count": null,
   "id": "6635aa56",
   "metadata": {},
   "outputs": [],
   "source": []
  }
 ],
 "metadata": {
  "kernelspec": {
   "display_name": "Python 3",
   "language": "python",
   "name": "python3"
  },
  "language_info": {
   "codemirror_mode": {
    "name": "ipython",
    "version": 3
   },
   "file_extension": ".py",
   "mimetype": "text/x-python",
   "name": "python",
   "nbconvert_exporter": "python",
   "pygments_lexer": "ipython3",
   "version": "3.8.8"
  }
 },
 "nbformat": 4,
 "nbformat_minor": 5
}
