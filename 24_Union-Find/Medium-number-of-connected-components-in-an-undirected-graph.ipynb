{
 "cells": [
  {
   "attachments": {
    "5c120afa-7e24-4bbc-9e06-651b509b4e2c.png": {
     "image/png": "[encoded data removed]"
    }
   },
   "cell_type": "markdown",
   "id": "16b19629-7b38-4ee6-b4b7-d14c301faa0d",
   "metadata": {},
   "source": [
    "## Problem:Number of connected components in an undirected graph\n",
    "LeetCode: 323\n",
    "https://leetcode.com/problems/number-of-connected-components-in-an-undirected-graph/description/\n",
    "\n",
    "\n",
    "You have a graph of n nodes. You are given an integer n and an array edges where edges[i] = [ai, bi] indicates that there is an edge between ai and bi in the graph.\n",
    "\n",
    "Return the number of connected components in the graph.\n",
    "\n",
    " \n",
    "\n",
    "Example 1:\n",
    "\n",
    "![image.png](attachment:5c120afa-7e24-4bbc-9e06-651b509b4e2c.png)\n",
    "\n",
    "    Input: n = 5, edges = [[0,1],[1,2],[3,4]]\n",
    "    Output: 2\n",
    "Example 2:\n",
    "\n",
    "\n",
    "    Input: n = 5, edges = [[0,1],[1,2],[2,3],[3,4]]\n",
    "    Output: 1\n",
    " \n",
    "\n",
    "Constraints:\n",
    "\n",
    "    1 <= n <= 2000\n",
    "    1 <= edges.length <= 5000\n",
    "    edges[i].length == 2\n",
    "    0 <= ai <= bi < n\n",
    "    ai != bi\n",
    "    There are no repeated edges."
   ]
  },
  {
   "cell_type": "markdown",
   "id": "b4345e93-ca79-4d27-a13b-3ceb0d3f61df",
   "metadata": {},
   "source": [
    "## Approach: \n",
    "This is based on UnionFind data structure. For more details look DisjointSets page. <DisjointSets url link>"
   ]
  },
  {
   "cell_type": "code",
   "execution_count": 5,
   "id": "57630311-d3c0-4693-9e16-49d93cffb81e",
   "metadata": {},
   "outputs": [],
   "source": [
    "def countComponents(n, edges):\n",
    "        uf = UnionFind(n)\n",
    "        for e in edges:\n",
    "            uf.union(e[0], e[1])\n",
    "        return uf.getCount()\n",
    "    \n",
    "class UnionFind:\n",
    "    def __init__(self, size):\n",
    "        self.root = [i for i in range(size)]\n",
    "        self.rank = [1]*size\n",
    "        self.count = size\n",
    "    def find(self, x):\n",
    "        if x == self.root[x]:\n",
    "            return x\n",
    "        self.root[x] = self.find(self.root[x])\n",
    "        return self.root[x]\n",
    "    def union(self, x, y):\n",
    "        rootX = self.find(x)\n",
    "        rootY = self.find(y)\n",
    "        if rootX != rootY:\n",
    "            if self.rank[rootX] > self.rank[rootY]:\n",
    "                self.root[rootY] =  rootX\n",
    "            elif self.rank[rootX] < self.rank[rootY]:\n",
    "                self.root[rootX] = rootY\n",
    "            else:\n",
    "                self.root[rootY] = rootX\n",
    "                self.rank[rootX] += 1\n",
    "            self.count -= 1\n",
    "    def getCount(self):\n",
    "        return self.count\n",
    "    def getRoot(self):\n",
    "        return self.root\n",
    "        "
   ]
  },
  {
   "cell_type": "code",
   "execution_count": 6,
   "id": "6f45b132-1ee6-472c-b6e6-9cf1117c1455",
   "metadata": {},
   "outputs": [
    {
     "name": "stdout",
     "output_type": "stream",
     "text": [
      "[0, 0, 0, 3, 3]\n"
     ]
    },
    {
     "data": {
      "text/plain": [
       "2"
      ]
     },
     "execution_count": 6,
     "metadata": {},
     "output_type": "execute_result"
    }
   ],
   "source": [
    "n = 5\n",
    "edges = [[0,1],[1,2],[3,4]]\n",
    "countComponents(n, edges)"
   ]
  },
  {
   "cell_type": "code",
   "execution_count": 3,
   "id": "210d9d24-634d-4073-9602-12b9ddc3dc52",
   "metadata": {},
   "outputs": [
    {
     "data": {
      "text/plain": [
       "1"
      ]
     },
     "execution_count": 3,
     "metadata": {},
     "output_type": "execute_result"
    }
   ],
   "source": [
    "n = 5\n",
    "edges = [[0,1],[1,2],[2,3],[3,4]]\n",
    "countComponents(n, edges)"
   ]
  },
  {
   "cell_type": "code",
   "execution_count": null,
   "id": "ecd1b8c6-1c47-454b-b4bc-1b191955b194",
   "metadata": {},
   "outputs": [],
   "source": []
  }
 ],
 "metadata": {
  "kernelspec": {
   "display_name": "Python 3 (ipykernel)",
   "language": "python",
   "name": "python3"
  },
  "language_info": {
   "codemirror_mode": {
    "name": "ipython",
    "version": 3
   },
   "file_extension": ".py",
   "mimetype": "text/x-python",
   "name": "python",
   "nbconvert_exporter": "python",
   "pygments_lexer": "ipython3",
   "version": "3.8.18"
  }
 },
 "nbformat": 4,
 "nbformat_minor": 5
}
