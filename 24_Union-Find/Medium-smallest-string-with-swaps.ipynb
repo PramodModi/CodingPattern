{
 "cells": [
  {
   "cell_type": "markdown",
   "id": "cab6999f-efb6-45d4-a806-013a6f80edcf",
   "metadata": {},
   "source": [
    "## Problem: Smallest string with swaps\n",
    "LeetCode: 1202\n",
    "https://leetcode.com/problems/smallest-string-with-swaps/description/\n",
    "\n",
    "You are given a string s, and an array of pairs of indices in the string pairs where pairs[i] = [a, b] indicates 2 indices(0-indexed) of the string.\n",
    "\n",
    "You can swap the characters at any pair of indices in the given pairs any number of times.\n",
    "\n",
    "Return the lexicographically smallest string that s can be changed to after using the swaps.\n",
    "\n",
    " \n",
    "\n",
    "Example 1:\n",
    "\n",
    "    Input: s = \"dcab\", pairs = [[0,3],[1,2]]\n",
    "    Output: \"bacd\"\n",
    "    Explaination: \n",
    "    Swap s[0] and s[3], s = \"bcad\"\n",
    "    Swap s[1] and s[2], s = \"bacd\"\n",
    "Example 2:\n",
    "\n",
    "    Input: s = \"dcab\", pairs = [[0,3],[1,2],[0,2]]\n",
    "    Output: \"abcd\"\n",
    "    Explaination: \n",
    "    Swap s[0] and s[3], s = \"bcad\"\n",
    "    Swap s[0] and s[2], s = \"acbd\"\n",
    "    Swap s[1] and s[2], s = \"abcd\"\n",
    "Example 3:\n",
    "\n",
    "    Input: s = \"cba\", pairs = [[0,1],[1,2]]\n",
    "    Output: \"abc\"\n",
    "    Explaination: \n",
    "    Swap s[0] and s[1], s = \"bca\"\n",
    "    Swap s[1] and s[2], s = \"bac\"\n",
    "    Swap s[0] and s[1], s = \"abc\"\n",
    " \n",
    "\n",
    "Constraints:\n",
    "\n",
    "    1 <= s.length <= 10^5\n",
    "    0 <= pairs.length <= 10^5\n",
    "    0 <= pairs[i][0], pairs[i][1] < s.length\n",
    "    s only contains lower case English letters."
   ]
  },
  {
   "cell_type": "markdown",
   "id": "261fe2cb-2dca-485d-b230-442950e5c4eb",
   "metadata": {},
   "source": [
    "### Approach:\n",
    "This is based on UnionFind data structure. For more details look DisjointSets page. <DisjointSets url link>"
   ]
  },
  {
   "cell_type": "code",
   "execution_count": 1,
   "id": "31aa9b88-a81c-4054-81af-0dc7b607bfc3",
   "metadata": {},
   "outputs": [],
   "source": [
    "def smallestStringWithSwaps(s, pairs):\n",
    "    uf = UnionFind(len(s))\n",
    "    for pair in pairs:\n",
    "        uf.union(pair[0], pair[1])\n",
    "    temp = {}\n",
    "    for i in range(len(s)):\n",
    "        root = uf.find(i)\n",
    "        if root in temp:\n",
    "            temp[root].append(i)\n",
    "        else:\n",
    "            temp[root] = [i]\n",
    "    \n",
    "    finalList = [\"\"]*len(s)\n",
    "    for u in temp.values():\n",
    "        tempList = []\n",
    "        for index in u:\n",
    "            tempList.append(s[index])\n",
    "        tempList.sort()\n",
    "        for j in range(len(tempList)):\n",
    "            finalList[u[j]] = tempList[j]\n",
    "    return \"\".join(finalList)\n",
    "\n",
    "class UnionFind:\n",
    "    def __init__(self, size):\n",
    "        self.root = [i for i in range(size)]\n",
    "        self.rank = [1]*size\n",
    "    def find(self, x):\n",
    "        if x == self.root[x]:\n",
    "            return x\n",
    "        self.root[x] = self.find(self.root[x])\n",
    "        return self.root[x]\n",
    "    def union(self, x, y):\n",
    "        rootX = self.find(x)\n",
    "        rootY = self.find(y)\n",
    "        if rootX != rootY:\n",
    "            if self.rank[rootX] >= self.rank[rootY]:\n",
    "                self.root[rootY] = rootX\n",
    "                self.rank[rootX] += self.rank[rootY]\n",
    "            elif self.rank[rootX] < self.rank[rootY]:\n",
    "                self.root[rootX] = rootY\n",
    "                self.rank[rootY] += self.rank[rootX]"
   ]
  },
  {
   "cell_type": "code",
   "execution_count": 2,
   "id": "06b17421-1d27-4836-83f0-5e300ff84f88",
   "metadata": {},
   "outputs": [
    {
     "data": {
      "text/plain": [
       "'abcd'"
      ]
     },
     "execution_count": 2,
     "metadata": {},
     "output_type": "execute_result"
    }
   ],
   "source": [
    "s = \"dcab\"\n",
    "pairs = [[0,3],[1,2],[0,2]]\n",
    "smallestStringWithSwaps(s, pairs)"
   ]
  },
  {
   "cell_type": "code",
   "execution_count": 3,
   "id": "e249a65a-cc19-4152-8d2c-5cba710bd602",
   "metadata": {},
   "outputs": [
    {
     "data": {
      "text/plain": [
       "'bacd'"
      ]
     },
     "execution_count": 3,
     "metadata": {},
     "output_type": "execute_result"
    }
   ],
   "source": [
    "s = \"dcab\"\n",
    "pairs = [[0,3],[1,2]]\n",
    "smallestStringWithSwaps(s, pairs)"
   ]
  },
  {
   "cell_type": "code",
   "execution_count": null,
   "id": "a4188335-8b62-4ba9-9065-bdcee2cdfbbd",
   "metadata": {},
   "outputs": [],
   "source": []
  }
 ],
 "metadata": {
  "kernelspec": {
   "display_name": "Python 3 (ipykernel)",
   "language": "python",
   "name": "python3"
  },
  "language_info": {
   "codemirror_mode": {
    "name": "ipython",
    "version": 3
   },
   "file_extension": ".py",
   "mimetype": "text/x-python",
   "name": "python",
   "nbconvert_exporter": "python",
   "pygments_lexer": "ipython3",
   "version": "3.8.18"
  }
 },
 "nbformat": 4,
 "nbformat_minor": 5
}
