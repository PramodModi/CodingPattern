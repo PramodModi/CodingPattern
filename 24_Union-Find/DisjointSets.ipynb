{
 "cells": [
  {
   "cell_type": "markdown",
   "id": "1ffbc696-7dde-4e48-8130-116882f51ae8",
   "metadata": {},
   "source": [
    "## About Disjoint Set:\n",
    "\n",
    "The two important functions of a “disjoint set.”\n",
    "\n",
    "The <B> find </B> function finds the root node of a given vertex. For example, If vertex 3 and Vertex 0 are in the same set with 0 as the parent, then , the output of the find function for vertex 3 is 0.\n",
    "\n",
    "The <b>union</b> function unions two vertices and makes their root nodes the same. if we union vertex 4 and vertex 5, their root node will become the same, which means the union function will modify the root node of vertex 4 or vertex 5 to the same root node.\n",
    "\n",
    "\n",
    "### There are two ways to implement a “disjoint set”.\n",
    "\n",
    "Implementation with <b>Quick Find</b>: in this case, the time complexity of the find function will be O(1). However, the union function will take more time with the time complexity of O(N).\n",
    "\n",
    "Implementation with <b>Quick Union</b>: compared with the Quick Find implementation, the time complexity of the union function is better. Meanwhile, the find function will take more time in this case."
   ]
  },
  {
   "cell_type": "markdown",
   "id": "aff454fc-4cb0-4490-8a0c-deb785c05b4f",
   "metadata": {},
   "source": [
    "## 1. Quick Find Approach\n",
    "Here, find() function will have O(1) complexity, however union() function will have O(N) complexity.\n",
    "The Idea is very simple. While adding a number(vertex) into a set, parent of new vertex would be the parent of set.\n",
    "While adding two sets: suppose set s1 has parent p1 and set s2 has parent p2. Either P1 or P2 will be the parent of combined set. Let P1 would be the parent of new set. So, will have to set the P1 as parent of all elements in s2."
   ]
  },
  {
   "cell_type": "code",
   "execution_count": 4,
   "id": "08942a9f-be71-465c-8778-8c87deacff91",
   "metadata": {},
   "outputs": [],
   "source": [
    "class UnionFind:\n",
    "    def __init__(self, size):\n",
    "        self.root = [i for i in range(size)]\n",
    "    def find(self, x):\n",
    "        return self.root[x]\n",
    "    def union(self, x, y):\n",
    "        rootX = self.find(x)\n",
    "        rootY = self.find(y)\n",
    "        if rootX != rootY:\n",
    "            for i in range(len(self.root)):\n",
    "                if self.root[i] == rootY:\n",
    "                    self.root[i] = rootX\n",
    "    def connected(self, x, y):\n",
    "        return self.find(x) == self.find(y)\n",
    "        "
   ]
  },
  {
   "cell_type": "code",
   "execution_count": 5,
   "id": "e5b7aaae-922b-4777-aec2-5e700cd51f54",
   "metadata": {},
   "outputs": [
    {
     "name": "stdout",
     "output_type": "stream",
     "text": [
      "True\n",
      "True\n",
      "False\n",
      "True\n"
     ]
    }
   ],
   "source": [
    "# Test Case\n",
    "uf = UnionFind(10)\n",
    "# 1-2-5-6-7 3-8-9 4\n",
    "uf.union(1, 2)\n",
    "uf.union(2, 5)\n",
    "uf.union(5, 6)\n",
    "uf.union(6, 7)\n",
    "uf.union(3, 8)\n",
    "uf.union(8, 9)\n",
    "print(uf.connected(1, 5))  # true\n",
    "print(uf.connected(5, 7))  # true\n",
    "print(uf.connected(4, 9))  # false\n",
    "# 1-2-5-6-7 3-8-9-4\n",
    "uf.union(9, 4)\n",
    "print(uf.connected(4, 9))  # true"
   ]
  },
  {
   "cell_type": "markdown",
   "id": "3cdb1760-54ef-4f6a-a803-93fe3dddaf89",
   "metadata": {},
   "source": [
    "## 2. Quick Union Approach\n",
    "Here, find() function will have O(N) complexity as well as unioin() function will have O(N) complexity."
   ]
  },
  {
   "cell_type": "code",
   "execution_count": 10,
   "id": "5d9c8a5a-366b-4186-a6e5-85461411480e",
   "metadata": {},
   "outputs": [],
   "source": [
    "class UnioinFind2:\n",
    "    def __init__(self, size):\n",
    "        self.root = [i for i in range(size)]\n",
    "    def find(self, x):\n",
    "        while x != self.root[x]:\n",
    "            x = self.root[x]\n",
    "        return self.root[x]\n",
    "    def union(self, x, y):\n",
    "        rootX = self.find(x)\n",
    "        rootY = self.find(y)\n",
    "        if rootX != rootY:\n",
    "            self.root[rootY] = rootX\n",
    "    def connected(self, x, y):\n",
    "        return self.find(x) == self.find(y)\n",
    "    "
   ]
  },
  {
   "cell_type": "code",
   "execution_count": 11,
   "id": "4a267c6f-ed14-4186-b07b-4955d00d1eb4",
   "metadata": {},
   "outputs": [
    {
     "name": "stdout",
     "output_type": "stream",
     "text": [
      "True\n",
      "True\n",
      "False\n",
      "True\n"
     ]
    }
   ],
   "source": [
    "# Test Case\n",
    "uf2 = UnioinFind2(10)\n",
    "# 1-2-5-6-7 3-8-9 4\n",
    "uf2.union(1, 2)\n",
    "uf2.union(2, 5)\n",
    "uf2.union(5, 6)\n",
    "uf2.union(6, 7)\n",
    "uf2.union(3, 8)\n",
    "uf2.union(8, 9)\n",
    "print(uf2.connected(1, 5))  # true\n",
    "print(uf2.connected(5, 7))  # true\n",
    "print(uf2.connected(4, 9))  # false\n",
    "# 1-2-5-6-7 3-8-9-4\n",
    "uf2.union(9, 4)\n",
    "print(uf2.connected(4, 9))  # true"
   ]
  },
  {
   "cell_type": "markdown",
   "id": "c0bc1ead-144c-48fd-8cba-556d71e9a589",
   "metadata": {},
   "source": [
    "## 3. Union by Rank Approach:\n",
    "This is another and optimized variation of quickUnion approach. The idea is to reduce the tree size based on selection of \n",
    "parent between s1 and s2. This is being done based on the height of tree. If s1 has height h1 and s2 has height h2, and if h1 > h2, then \n",
    "parent of new set is p1 (parent of set1). \n",
    "So, we will have to modify the union function code.\n",
    "\n",
    "Time complexity for find(), union() and connected() would be O(logN)"
   ]
  },
  {
   "cell_type": "code",
   "execution_count": 13,
   "id": "c08e341e-07ed-4436-984d-41a2698a56c5",
   "metadata": {},
   "outputs": [],
   "source": [
    "class UnionFindByRank:\n",
    "    def __init__(self, size):\n",
    "        self.root = [i for i in range(size)]\n",
    "        self.rank = [1] * size\n",
    "    def find(self, x):\n",
    "        while x != self.root[x]:\n",
    "            x = self.root[x]\n",
    "        return x\n",
    "\n",
    "    def union(self, x, y):\n",
    "        rootX = self.find(x)\n",
    "        rootY = self.find(y)\n",
    "        if rootX != rootY:\n",
    "            if self.rank[rootX] > self.rank[rootY]:\n",
    "                self.root[rootY] = rootX\n",
    "            elif self.rank[rootX] < self.rank[rootY]:\n",
    "                self.root[rootX] = rootY\n",
    "            else:\n",
    "                self.root[rootY] = rootX\n",
    "                self.rank[rootX] += 1\n",
    "    def connected(self, x, y):\n",
    "        return self.find(x) == self.find(y)\n",
    "\n"
   ]
  },
  {
   "cell_type": "code",
   "execution_count": 14,
   "id": "85d257b1-e495-45aa-a4e6-b69c505a64f8",
   "metadata": {},
   "outputs": [
    {
     "name": "stdout",
     "output_type": "stream",
     "text": [
      "True\n",
      "True\n",
      "False\n",
      "True\n"
     ]
    }
   ],
   "source": [
    "# Test Case\n",
    "ufr = UnionFindByRank(10)\n",
    "# 1-2-5-6-7 3-8-9 4\n",
    "ufr.union(1, 2)\n",
    "ufr.union(2, 5)\n",
    "ufr.union(5, 6)\n",
    "ufr.union(6, 7)\n",
    "ufr.union(3, 8)\n",
    "ufr.union(8, 9)\n",
    "print(ufr.connected(1, 5))  # true\n",
    "print(ufr.connected(5, 7))  # true\n",
    "print(ufr.connected(4, 9))  # false\n",
    "# 1-2-5-6-7 3-8-9-4\n",
    "ufr.union(9, 4)\n",
    "print(ufr.connected(4, 9))  # true"
   ]
  },
  {
   "cell_type": "markdown",
   "id": "41931c4e-1590-4899-80a6-75871b292e3d",
   "metadata": {},
   "source": [
    "## 4. Path Compression approach:\n",
    "In quick union approach, find function traverse node to find the parent of set. This can be optimized if we updat the \n",
    "traverse node with parent node. So, that next time, find function needs not to travese the nodes.\n",
    "This can be done by using recurssion.\n",
    "Time complexity: find(), union() and connected() would be logN."
   ]
  },
  {
   "cell_type": "code",
   "execution_count": 17,
   "id": "a1ec4f41-65fd-4620-9edf-842bce7476b8",
   "metadata": {},
   "outputs": [],
   "source": [
    "class UnionFindRec:\n",
    "    def __init__(self, size):\n",
    "        self.root = [i for i in range(size)]\n",
    "    def find(self, x):\n",
    "        if x == self.root[x]:\n",
    "            return x\n",
    "        self.root[x] = self.find(self.root[x])\n",
    "        return self.root[x]\n",
    "    def union(self, x, y):\n",
    "        rootX = self.find(x)\n",
    "        rootY = self.find(y)\n",
    "        if rootX != rootY:\n",
    "            self.root[rootY] = rootX\n",
    "    def connected(self, x, y):\n",
    "        return self.find(x) == self.find(y)\n",
    "    "
   ]
  },
  {
   "cell_type": "code",
   "execution_count": 18,
   "id": "9946c431-a4f1-43ee-8190-827914d82fe6",
   "metadata": {},
   "outputs": [
    {
     "name": "stdout",
     "output_type": "stream",
     "text": [
      "True\n",
      "True\n",
      "False\n",
      "True\n"
     ]
    }
   ],
   "source": [
    "# Test Case\n",
    "ufre = UnionFindRec(10)\n",
    "# 1-2-5-6-7 3-8-9 4\n",
    "ufre.union(1, 2)\n",
    "ufre.union(2, 5)\n",
    "ufre.union(5, 6)\n",
    "ufre.union(6, 7)\n",
    "ufre.union(3, 8)\n",
    "ufre.union(8, 9)\n",
    "print(ufre.connected(1, 5))  # true\n",
    "print(ufre.connected(5, 7))  # true\n",
    "print(ufre.connected(4, 9))  # false\n",
    "# 1-2-5-6-7 3-8-9-4\n",
    "ufre.union(9, 4)\n",
    "print(ufre.connected(4, 9))  # true"
   ]
  },
  {
   "cell_type": "markdown",
   "id": "145a6c7b-094a-4588-b8f4-bf7ec6e781a8",
   "metadata": {},
   "source": [
    "## 5. Path Compression with union by rank\n",
    "Time complexity for find() function and hence for union and connected functions are O(α(N)). α refers to the Inverse Ackermann function.\n",
    "O(α(N)) can be considered as O(1) on average."
   ]
  },
  {
   "cell_type": "code",
   "execution_count": 20,
   "id": "67a72819-c926-48c0-94bf-1368ef7c8a6b",
   "metadata": {},
   "outputs": [],
   "source": [
    "class UnionRankFindRec:\n",
    "    def __init__(self, size):\n",
    "        self.root = [i for i in range(size)]\n",
    "        self.rank = [1] * size\n",
    "\n",
    "    def find(self, x):\n",
    "        if x == self.root[x]:\n",
    "            return x\n",
    "        self.root[x] = self.find(self.root[x])\n",
    "        return self.root[x]\n",
    "    def union(self, x, y):\n",
    "        rootX = self.find(x)\n",
    "        rootY = self.find(y)\n",
    "        if rootX != rootY:\n",
    "            if self.rank[rootX] > self.rank[rootY]:\n",
    "                self.root[rootY] = rootX\n",
    "            elif self.rank[rootX] < self.rank[rootY]:\n",
    "                self.root[rootX] = rootY\n",
    "            else:\n",
    "                self.root[rootY] = rootX\n",
    "                self.rank[rootX] += 1\n",
    "\n",
    "    def connected(self, x, y):\n",
    "        return self.find(x) == self.find(y)\n",
    "\n",
    "\n",
    "                \n",
    "        "
   ]
  },
  {
   "cell_type": "code",
   "execution_count": 21,
   "id": "61d40a61-a0dc-4397-a1d9-1a380bd7c0d7",
   "metadata": {},
   "outputs": [
    {
     "name": "stdout",
     "output_type": "stream",
     "text": [
      "True\n",
      "True\n",
      "False\n",
      "True\n"
     ]
    }
   ],
   "source": [
    "# Test Case\n",
    "urfre = UnionRankFindRec(10)\n",
    "# 1-2-5-6-7 3-8-9 4\n",
    "urfre.union(1, 2)\n",
    "urfre.union(2, 5)\n",
    "urfre.union(5, 6)\n",
    "urfre.union(6, 7)\n",
    "urfre.union(3, 8)\n",
    "urfre.union(8, 9)\n",
    "print(urfre.connected(1, 5))  # true\n",
    "print(urfre.connected(5, 7))  # true\n",
    "print(urfre.connected(4, 9))  # false\n",
    "# 1-2-5-6-7 3-8-9-4\n",
    "urfre.union(9, 4)\n",
    "print(urfre.connected(4, 9))  # true"
   ]
  },
  {
   "cell_type": "code",
   "execution_count": null,
   "id": "32c2c0de-a230-4522-bf9c-b07f13bafbea",
   "metadata": {},
   "outputs": [],
   "source": []
  }
 ],
 "metadata": {
  "kernelspec": {
   "display_name": "Python 3 (ipykernel)",
   "language": "python",
   "name": "python3"
  },
  "language_info": {
   "codemirror_mode": {
    "name": "ipython",
    "version": 3
   },
   "file_extension": ".py",
   "mimetype": "text/x-python",
   "name": "python",
   "nbconvert_exporter": "python",
   "pygments_lexer": "ipython3",
   "version": "3.8.18"
  }
 },
 "nbformat": 4,
 "nbformat_minor": 5
}
