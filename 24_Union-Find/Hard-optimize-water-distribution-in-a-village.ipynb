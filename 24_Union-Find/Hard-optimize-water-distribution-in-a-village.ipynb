{
 "cells": [
  {
   "cell_type": "markdown",
   "id": "952aea3d-80a5-4e65-90a4-df64dda6140d",
   "metadata": {},
   "source": [
    "## Problem: Optimize water distribution in a village\n",
    "LeetCode: 1168\n",
    "https://leetcode.com/problems/optimize-water-distribution-in-a-village/description/\n",
    "\n",
    "There are n houses in a village. We want to supply water for all the houses by building wells and laying pipes.\n",
    "\n",
    "For each house i, we can either build a well inside it directly with cost wells[i - 1] (note the -1 due to 0-indexing), or pipe in water from another well to it. The costs to lay pipes between houses are given by the array pipes where each pipes[j] = [house1j, house2j, costj] represents the cost to connect house1j and house2j together using a pipe. Connections are bidirectional, and there could be multiple valid connections between the same two houses with different costs.\n",
    "\n",
    "Return the minimum total cost to supply water to all houses.\n",
    "\n",
    " \n",
    "\n",
    "Example 1:\n",
    "\n",
    "\n",
    "    Input: n = 3, wells = [1,2,2], pipes = [[1,2,1],[2,3,1]]\n",
    "    Output: 3\n",
    "    Explanation: The image shows the costs of connecting houses using pipes.\n",
    "    The best strategy is to build a well in the first house with cost 1 and connect the other houses to it with cost 2 so the total cost is 3.\n",
    "Example 2:\n",
    "\n",
    "    Input: n = 2, wells = [1,1], pipes = [[1,2,1],[1,2,2]]\n",
    "    Output: 2\n",
    "    Explanation: We can supply water with cost two using one of the three options:\n",
    "    Option 1:\n",
    "      - Build a well inside house 1 with cost 1.\n",
    "      - Build a well inside house 2 with cost 1.\n",
    "    The total cost will be 2.\n",
    "    Option 2:\n",
    "      - Build a well inside house 1 with cost 1.\n",
    "      - Connect house 2 with house 1 with cost 1.\n",
    "    The total cost will be 2.\n",
    "    Option 3:\n",
    "      - Build a well inside house 2 with cost 1.\n",
    "      - Connect house 1 with house 2 with cost 1.\n",
    "    The total cost will be 2.\n",
    "    Note that we can connect houses 1 and 2 with cost 1 or with cost 2 but we will always choose the cheapest option. \n",
    "     \n",
    "\n",
    "Constraints:\n",
    "\n",
    "    2 <= n <= 104\n",
    "    wells.length == n\n",
    "    0 <= wells[i] <= 105\n",
    "    1 <= pipes.length <= 104\n",
    "    pipes[j].length == 3\n",
    "    1 <= house1j, house2j <= n\n",
    "    0 <= costj <= 105\n",
    "    house1j != house2j"
   ]
  },
  {
   "cell_type": "code",
   "execution_count": 1,
   "id": "3cd0aa2f-f691-43f3-9a6a-d8047c3a7f48",
   "metadata": {},
   "outputs": [],
   "source": [
    "def minCostToSupplyWater(n, wells, pipes):\n",
    "                \n",
    "        edges = []\n",
    "        for i in range(len(wells)):\n",
    "            edges.append((wells[i], 0, i+1 ))\n",
    "        for pipe in pipes:\n",
    "            edges.append((pipe[2], pipe[0], pipe[1]))\n",
    "        edges.sort(key = lambda x: x[0])\n",
    "\n",
    "        cost = 0\n",
    "        uf = UnionFind(n+1)\n",
    "        for edge in edges:\n",
    "            if uf.union(edge[1], edge[2]):\n",
    "                cost += edge[0]\n",
    "        return cost\n",
    "\n",
    "class UnionFind:\n",
    "    def __init__(self, size):\n",
    "        self.root = [i for i in range(size)]\n",
    "        self.rank = [1] * (size)\n",
    "    def find(self, x):\n",
    "        if x == self.root[x]:\n",
    "            return x\n",
    "        self.root[x] = self.find(self.root[x])\n",
    "        return self.root[x]\n",
    "    def union(self, x, y):\n",
    "        idX = self.find(x)\n",
    "        idY = self.find(y)\n",
    "        if idX == idY:\n",
    "            return False\n",
    "        if self.rank[idX] > self.rank[idY]:\n",
    "            self.root[idY] = idX\n",
    "        elif self.rank[idX] < self.rank[idY]:\n",
    "            self.root[idX] = idY\n",
    "        else:\n",
    "            self.root[idY] = idX\n",
    "            self.rank[idX] += 1\n",
    "        return True"
   ]
  },
  {
   "cell_type": "code",
   "execution_count": 3,
   "id": "ead38bc6-3b98-4fee-b57e-78376db124ad",
   "metadata": {},
   "outputs": [
    {
     "data": {
      "text/plain": [
       "3"
      ]
     },
     "execution_count": 3,
     "metadata": {},
     "output_type": "execute_result"
    }
   ],
   "source": [
    "n = 3\n",
    "wells = [1,2,2]\n",
    "pipes = [[1,2,1],[2,3,1]]\n",
    "minCostToSupplyWater(n, wells, pipes)"
   ]
  },
  {
   "cell_type": "code",
   "execution_count": 4,
   "id": "48d56a21-2e9b-4c91-b128-0df0bf2cd06b",
   "metadata": {},
   "outputs": [
    {
     "data": {
      "text/plain": [
       "2"
      ]
     },
     "execution_count": 4,
     "metadata": {},
     "output_type": "execute_result"
    }
   ],
   "source": [
    "n = 2\n",
    "wells = [1,1]\n",
    "pipes = [[1,2,1],[1,2,2]]\n",
    "minCostToSupplyWater(n, wells, pipes)"
   ]
  },
  {
   "cell_type": "code",
   "execution_count": null,
   "id": "93c2e851-6788-4ddd-8d51-f8cb4d5df9b2",
   "metadata": {},
   "outputs": [],
   "source": []
  }
 ],
 "metadata": {
  "kernelspec": {
   "display_name": "Python 3 (ipykernel)",
   "language": "python",
   "name": "python3"
  },
  "language_info": {
   "codemirror_mode": {
    "name": "ipython",
    "version": 3
   },
   "file_extension": ".py",
   "mimetype": "text/x-python",
   "name": "python",
   "nbconvert_exporter": "python",
   "pygments_lexer": "ipython3",
   "version": "3.8.18"
  }
 },
 "nbformat": 4,
 "nbformat_minor": 5
}
