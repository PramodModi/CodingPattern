{
 "cells": [
  {
   "cell_type": "markdown",
   "id": "4e766cc2-b8e0-4559-b983-876d23285838",
   "metadata": {},
   "source": [
    "## Problem: Evaluate division\n",
    "LeetCode: 399\n",
    "https://leetcode.com/problems/evaluate-division/description/\n",
    "\n",
    "You are given an array of variable pairs equations and an array of real numbers values, where equations[i] = [Ai, Bi] and values[i] represent the equation Ai / Bi = values[i]. Each Ai or Bi is a string that represents a single variable.\n",
    "\n",
    "You are also given some queries, where queries[j] = [Cj, Dj] represents the jth query where you must find the answer for Cj / Dj = ?.\n",
    "\n",
    "Return the answers to all queries. If a single answer cannot be determined, return -1.0.\n",
    "\n",
    "Note: The input is always valid. You may assume that evaluating the queries will not result in division by zero and that there is no contradiction.\n",
    "\n",
    "Note: The variables that do not occur in the list of equations are undefined, so the answer cannot be determined for them.\n",
    "\n",
    " \n",
    "\n",
    "Example 1:\n",
    "\n",
    "    Input: equations = [[\"a\",\"b\"],[\"b\",\"c\"]], values = [2.0,3.0], queries = [[\"a\",\"c\"],[\"b\",\"a\"],[\"a\",\"e\"],[\"a\",\"a\"],[\"x\",\"x\"]]\n",
    "    Output: [6.00000,0.50000,-1.00000,1.00000,-1.00000]\n",
    "    Explanation: \n",
    "    Given: a / b = 2.0, b / c = 3.0\n",
    "    queries are: a / c = ?, b / a = ?, a / e = ?, a / a = ?, x / x = ? \n",
    "    return: [6.0, 0.5, -1.0, 1.0, -1.0 ]\n",
    "    note: x is undefined => -1.0\n",
    "Example 2:\n",
    "\n",
    "    Input: equations = [[\"a\",\"b\"],[\"b\",\"c\"],[\"bc\",\"cd\"]], values = [1.5,2.5,5.0], queries = [[\"a\",\"c\"],[\"c\",\"b\"],[\"bc\",\"cd\"],[\"cd\",\"bc\"]]\n",
    "    Output: [3.75000,0.40000,5.00000,0.20000]\n",
    "Example 3:\n",
    "\n",
    "    Input: equations = [[\"a\",\"b\"]], values = [0.5], queries = [[\"a\",\"b\"],[\"b\",\"a\"],[\"a\",\"c\"],[\"x\",\"y\"]]\n",
    "    Output: [0.50000,2.00000,-1.00000,-1.00000]\n",
    " \n",
    "\n",
    "Constraints:\n",
    "\n",
    "    1 <= equations.length <= 20\n",
    "    equations[i].length == 2\n",
    "    1 <= Ai.length, Bi.length <= 5\n",
    "    values.length == equations.length\n",
    "    0.0 < values[i] <= 20.0\n",
    "    1 <= queries.length <= 20\n",
    "    queries[i].length == 2\n",
    "    1 <= Cj.length, Dj.length <= 5\n",
    "    Ai, Bi, Cj, Dj consist of lower case English letters and digits."
   ]
  },
  {
   "cell_type": "markdown",
   "id": "8a3d6e01-49a1-48d4-9832-c61c7b83ca31",
   "metadata": {},
   "source": [
    "### Approach:\n",
    "This is based on UnionFind data structure. For more details look DisjointSets page. <DisjointSets url link>"
   ]
  },
  {
   "cell_type": "code",
   "execution_count": 1,
   "id": "c5b3cfe4-8f7d-40a8-8bac-aa0a822a8ecf",
   "metadata": {},
   "outputs": [],
   "source": [
    "def calcEquation(equations, values, queries):\n",
    "        uf = UnionFind()\n",
    "        for i in range(len(equations)):\n",
    "            uf.union(equations[i][0], equations[i][1], values[i])\n",
    "        \n",
    "        result = []\n",
    "        for query in queries:\n",
    "            dividend = query[0]\n",
    "            divisor = query[1]\n",
    "            if not uf.isVailable(dividend) or not uf.isVailable(divisor):\n",
    "                result.append(-1.0)\n",
    "                continue\n",
    "            rootX, weightX = uf.find(dividend)\n",
    "            rootY, weightY = uf.find(divisor)\n",
    "            if rootX != rootY:\n",
    "                result.append(-1.0)\n",
    "                continue\n",
    "            result.append(weightY/weightX)\n",
    "        return result\n",
    "\n",
    "class UnionFind:\n",
    "    def __init__(self):\n",
    "        self.root = {}\n",
    "    def find(self, x):\n",
    "        if x not in self.root:\n",
    "            self.root[x] = (x, 1)\n",
    "        grId, weight = self.root[x]\n",
    "        if grId == x:\n",
    "            return (x, weight)\n",
    "        newGrId, newWeight = self.find(grId)\n",
    "        self.root[x] = (newGrId, newWeight * weight)\n",
    "        return self.root[x]\n",
    "\n",
    "    def union(self, x, y, weight):\n",
    "        grIdX, wX = self.find(x)\n",
    "        grIdY, wY = self.find(y)\n",
    "        if grIdX != grIdY:\n",
    "            self.root[grIdY] = (grIdX, wX*weight/wY)\n",
    "\n",
    "    def isVailable(self, x):\n",
    "        return x in self.root"
   ]
  },
  {
   "cell_type": "code",
   "execution_count": 2,
   "id": "7baf3615-9903-43cb-9bf5-55572e1a7ca0",
   "metadata": {},
   "outputs": [
    {
     "data": {
      "text/plain": [
       "[6.0, 0.5, -1.0, 1.0, -1.0]"
      ]
     },
     "execution_count": 2,
     "metadata": {},
     "output_type": "execute_result"
    }
   ],
   "source": [
    "equations = [[\"a\",\"b\"],[\"b\",\"c\"]]\n",
    "values = [2.0,3.0]\n",
    "queries = [[\"a\",\"c\"],[\"b\",\"a\"],[\"a\",\"e\"],[\"a\",\"a\"],[\"x\",\"x\"]]\n",
    "calcEquation(equations, values, queries)"
   ]
  },
  {
   "cell_type": "code",
   "execution_count": 3,
   "id": "bc8be356-2be5-40d6-b240-a1ee7661bcc0",
   "metadata": {},
   "outputs": [
    {
     "data": {
      "text/plain": [
       "[3.75, 0.4, 5.0, 0.2]"
      ]
     },
     "execution_count": 3,
     "metadata": {},
     "output_type": "execute_result"
    }
   ],
   "source": [
    "equations = [[\"a\",\"b\"],[\"b\",\"c\"],[\"bc\",\"cd\"]]\n",
    "values = [1.5,2.5,5.0]\n",
    "queries = [[\"a\",\"c\"],[\"c\",\"b\"],[\"bc\",\"cd\"],[\"cd\",\"bc\"]]\n",
    "calcEquation(equations, values, queries)"
   ]
  },
  {
   "cell_type": "code",
   "execution_count": null,
   "id": "65b6fa17-844b-4eca-b317-5791c82f4de5",
   "metadata": {},
   "outputs": [],
   "source": []
  }
 ],
 "metadata": {
  "kernelspec": {
   "display_name": "Python 3 (ipykernel)",
   "language": "python",
   "name": "python3"
  },
  "language_info": {
   "codemirror_mode": {
    "name": "ipython",
    "version": 3
   },
   "file_extension": ".py",
   "mimetype": "text/x-python",
   "name": "python",
   "nbconvert_exporter": "python",
   "pygments_lexer": "ipython3",
   "version": "3.8.18"
  }
 },
 "nbformat": 4,
 "nbformat_minor": 5
}
