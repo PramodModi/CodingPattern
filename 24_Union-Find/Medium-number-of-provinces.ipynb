{
 "cells": [
  {
   "cell_type": "markdown",
   "id": "086a022a-d57f-498a-b178-67fff8f4afde",
   "metadata": {},
   "source": [
    "## Problem: Number of provinces\n",
    "LeetCode: 547\n",
    "https://leetcode.com/problems/number-of-provinces/description/\n",
    "\n",
    "\n",
    "There are n cities. Some of them are connected, while some are not. If city a is connected directly with city b, and city b is connected directly with city c, then city a is connected indirectly with city c.\n",
    "\n",
    "A province is a group of directly or indirectly connected cities and no other cities outside of the group.\n",
    "\n",
    "You are given an n x n matrix isConnected where isConnected[i][j] = 1 if the ith city and the jth city are directly connected, and isConnected[i][j] = 0 otherwise.\n",
    "\n",
    "Return the total number of provinces.\n",
    "\n",
    " \n",
    "\n",
    "Example 1:\n",
    "\n",
    "\n",
    "    Input: isConnected = [[1,1,0],[1,1,0],[0,0,1]]\n",
    "    Output: 2\n",
    "Example 2:\n",
    "\n",
    "\n",
    "    Input: isConnected = [[1,0,0],[0,1,0],[0,0,1]]\n",
    "    Output: 3\n",
    " \n",
    "\n",
    "Constraints:\n",
    "\n",
    "    1 <= n <= 200\n",
    "    n == isConnected.length\n",
    "    n == isConnected[i].length\n",
    "    isConnected[i][j] is 1 or 0.\n",
    "    isConnected[i][i] == 1\n",
    "    isConnected[i][j] == isConnected[j][i]"
   ]
  },
  {
   "cell_type": "markdown",
   "id": "8bb65ab9-beff-41a8-b6cc-6300e420018e",
   "metadata": {},
   "source": [
    "### Approach:\n",
    "This is based on UnionFind data structure. For more details look DisjointSets page. <DisjointSets url link>"
   ]
  },
  {
   "cell_type": "code",
   "execution_count": 4,
   "id": "53056c0a-c76f-4dd3-b6d3-e37ec42cbb1d",
   "metadata": {},
   "outputs": [],
   "source": [
    "def findCircleNum(isConnected):\n",
    "    n = len(isConnected)\n",
    "    uf = UnionFind(n)\n",
    "    for i in range(n):\n",
    "        for j in range(n):\n",
    "            if isConnected[i][j] == 1:\n",
    "                uf.union(i, j)\n",
    "    return uf.getProvince()\n",
    "        \n",
    "        \n",
    "class UnionFind:\n",
    "    def __init__(self, size):\n",
    "        self.root = [i for i in range(size)]\n",
    "        self.rank = [1]*size\n",
    "        self.count = size\n",
    "    def find(self, x):\n",
    "        if x == self.root[x]:\n",
    "            return x\n",
    "        self.root[x] = self.find(self.root[x])\n",
    "        return self.root[x]\n",
    "    \n",
    "    def union(self, x, y):\n",
    "        rootX = self.find(x)\n",
    "        rootY = self.find(y)\n",
    "        if rootX != rootY:\n",
    "            if self.rank[rootX] > self.rank[rootY]:\n",
    "                self.root[rootY] = rootX\n",
    "            elif self.rank[rootX] < self.rank[rootY]:\n",
    "                self.root[rootX] = rootY\n",
    "            else:\n",
    "                self.root[rootY] = rootX\n",
    "                self.rank[rootX] += 1\n",
    "            self.count -= 1\n",
    "    def getProvince(self):\n",
    "        return self.count\n",
    "        "
   ]
  },
  {
   "cell_type": "code",
   "execution_count": 5,
   "id": "065a704a-4c7e-47b6-84c8-e97bb4d5df3d",
   "metadata": {},
   "outputs": [
    {
     "data": {
      "text/plain": [
       "2"
      ]
     },
     "execution_count": 5,
     "metadata": {},
     "output_type": "execute_result"
    }
   ],
   "source": [
    "isConnected = [[1,1,0],[1,1,0],[0,0,1]]\n",
    "findCircleNum(isConnected)"
   ]
  },
  {
   "cell_type": "code",
   "execution_count": 6,
   "id": "f9270040-6261-4d46-9588-95de4f4d3cd1",
   "metadata": {},
   "outputs": [
    {
     "data": {
      "text/plain": [
       "3"
      ]
     },
     "execution_count": 6,
     "metadata": {},
     "output_type": "execute_result"
    }
   ],
   "source": [
    "isConnected = [[1,0,0],[0,1,0],[0,0,1]]\n",
    "findCircleNum(isConnected)"
   ]
  },
  {
   "cell_type": "code",
   "execution_count": null,
   "id": "d204ef2c-0f09-4067-96f7-0ba70646b5ad",
   "metadata": {},
   "outputs": [],
   "source": []
  }
 ],
 "metadata": {
  "kernelspec": {
   "display_name": "Python 3 (ipykernel)",
   "language": "python",
   "name": "python3"
  },
  "language_info": {
   "codemirror_mode": {
    "name": "ipython",
    "version": 3
   },
   "file_extension": ".py",
   "mimetype": "text/x-python",
   "name": "python",
   "nbconvert_exporter": "python",
   "pygments_lexer": "ipython3",
   "version": "3.8.18"
  }
 },
 "nbformat": 4,
 "nbformat_minor": 5
}
