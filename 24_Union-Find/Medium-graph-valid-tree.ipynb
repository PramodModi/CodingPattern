{
 "cells": [
  {
   "cell_type": "markdown",
   "id": "d4811b42-c3f8-4889-a058-37b501d2b6cf",
   "metadata": {},
   "source": [
    "## Problem: Graph-valid-tree\n",
    "LeetCode: 261\n",
    "https://leetcode.com/problems/graph-valid-tree/description/\n",
    "\n",
    "You have a graph of n nodes labeled from 0 to n - 1. You are given an integer n and a list of edges where edges[i] = [ai, bi] indicates that there is an undirected edge between nodes ai and bi in the graph.\n",
    "\n",
    "Return true if the edges of the given graph make up a valid tree, and false otherwise.\n",
    "\n",
    " \n",
    "\n",
    "Example 1:\n",
    "\n",
    "\n",
    "    Input: n = 5, edges = [[0,1],[0,2],[0,3],[1,4]]\n",
    "    Output: true\n",
    "Example 2:\n",
    "\n",
    "\n",
    "    Input: n = 5, edges = [[0,1],[1,2],[2,3],[1,3],[1,4]]\n",
    "    Output: false\n",
    " \n",
    "\n",
    "Constraints:\n",
    "\n",
    "    1 <= n <= 2000\n",
    "    0 <= edges.length <= 5000\n",
    "    edges[i].length == 2\n",
    "    0 <= ai, bi < n\n",
    "    ai != bi\n",
    "    There are no self-loops or repeated edges.\n"
   ]
  },
  {
   "cell_type": "markdown",
   "id": "eddd09fc-1ca1-4d08-b971-ccaed6b90d8b",
   "metadata": {},
   "source": [
    "### Approach:\n",
    "This is based on UnionFind data structure. For more details look DisjointSets page. <DisjointSets url link>"
   ]
  },
  {
   "cell_type": "code",
   "execution_count": 2,
   "id": "f6e48fad-f535-4723-8b9d-6ad31faceb4a",
   "metadata": {},
   "outputs": [],
   "source": [
    "def validTree(n, edges):\n",
    "        if len(edges) != n -1: return False\n",
    "        uf = UnionFind(n)\n",
    "        for e in edges:\n",
    "            if False == uf.union(e[0], e[1]):\n",
    "                return False\n",
    "        return True\n",
    "    \n",
    "class UnionFind:\n",
    "    def __init__(self, size):\n",
    "        self.root = [i for i in range(size)]\n",
    "        self.rank = [1]*size\n",
    "        \n",
    "    def find(self, x):\n",
    "        if x == self.root[x]:\n",
    "            return x\n",
    "        self.root[x] = self.find(self.root[x])\n",
    "        return self.root[x]\n",
    "        \n",
    "    def union(self, x, y):\n",
    "        rootX = self.find(x)\n",
    "        rootY = self.find(y)\n",
    "        if rootX == rootY:\n",
    "            return False\n",
    "        if self.rank[rootX] > self.rank[rootY]:\n",
    "            self.root[rootY] = rootX\n",
    "        elif self.rank[rootX] < self.rank[rootY]:\n",
    "            self.root[rootX] = rootY\n",
    "        else:\n",
    "            self.root[rootY]  = rootX\n",
    "            self.rank[rootX] += 1\n",
    "        return True"
   ]
  },
  {
   "cell_type": "code",
   "execution_count": 5,
   "id": "da4a6d2f-d8b5-42c0-a3b7-840773b01500",
   "metadata": {},
   "outputs": [
    {
     "data": {
      "text/plain": [
       "True"
      ]
     },
     "execution_count": 5,
     "metadata": {},
     "output_type": "execute_result"
    }
   ],
   "source": [
    "n = 5\n",
    "edges = [[0,1],[0,2],[0,3],[1,4]]\n",
    "validTree(n, edges)"
   ]
  },
  {
   "cell_type": "code",
   "execution_count": 6,
   "id": "545000d8-a2b1-44b5-b127-34839fce3dbc",
   "metadata": {},
   "outputs": [
    {
     "data": {
      "text/plain": [
       "False"
      ]
     },
     "execution_count": 6,
     "metadata": {},
     "output_type": "execute_result"
    }
   ],
   "source": [
    "n = 5\n",
    "edges = [[0,1],[1,2],[2,3],[1,3],[1,4]]\n",
    "validTree(n, edges)"
   ]
  },
  {
   "cell_type": "code",
   "execution_count": null,
   "id": "e9658860-4865-4c16-a5e8-1c9d357161da",
   "metadata": {},
   "outputs": [],
   "source": []
  }
 ],
 "metadata": {
  "kernelspec": {
   "display_name": "Python 3 (ipykernel)",
   "language": "python",
   "name": "python3"
  },
  "language_info": {
   "codemirror_mode": {
    "name": "ipython",
    "version": 3
   },
   "file_extension": ".py",
   "mimetype": "text/x-python",
   "name": "python",
   "nbconvert_exporter": "python",
   "pygments_lexer": "ipython3",
   "version": "3.8.18"
  }
 },
 "nbformat": 4,
 "nbformat_minor": 5
}
