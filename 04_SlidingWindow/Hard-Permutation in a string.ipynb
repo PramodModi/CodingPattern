{
 "cells": [
  {
   "cell_type": "markdown",
   "id": "7ff367b7",
   "metadata": {},
   "source": [
    "## Problem: Permutation in a string\n",
    "LeetCode: 567. Permutation in String\n",
    "\n",
    "https://leetcode.com/problems/permutation-in-string/\n",
    "\n",
    "Given two strings s1 and s2, return true if s2 contains a permutation of s1, or false otherwise.\n",
    "\n",
    "In other words, return true if one of s1's permutations is the substring of s2.\n",
    "\n",
    " \n",
    "Example 1:\n",
    "\n",
    "    Input: s1 = \"ab\", s2 = \"eidbaooo\"\n",
    "    Output: true\n",
    "    Explanation: s2 contains one permutation of s1 (\"ba\").\n",
    "Example 2:\n",
    "\n",
    "    Input: s1 = \"ab\", s2 = \"eidboaoo\"\n",
    "    Output: false\n",
    " \n",
    "\n",
    "Constraints:\n",
    "\n",
    "    1 <= s1.length, s2.length <= 104\n",
    "    s1 and s2 consist of lowercase English letters.\n"
   ]
  },
  {
   "cell_type": "markdown",
   "id": "08de65ba",
   "metadata": {},
   "source": [
    "### Approach: \n",
    "Keep in mind, whenever we have to find permutation of string, first step to keep frequency of characters in hash map. While matching character with other strings, keep removing the characters from hashmap, if those are available in other string. \n",
    "\n",
    "Also, to keep the number of unique characters, we should keep one variable, if frequency of any character becomes zero, then reduce the uniqe character by 1. When unique character is zero, that means all characters are available in other string.\n",
    "\n",
    "Steps:\n",
    "\n",
    "Once hash map is populated, calculate the unique Charcater length, which equal to len(hashmap). Then will go through sliding window pattern.\n",
    "If character at right pointer is available in hashmap, reduce the frequency, if frequency is zero, then reduce the unique character count.\n",
    "If window length is greater than length of pattern, then move the left pointer. If character at left pointer is available in the hashmap then increase the frequency, and accordingly update the unique character count.\n",
    "This condition is needed because we need the permutation of exact pattern means length of window shold be same as the length of pattern.\n",
    "Finally, if unique character length is Zero, that means all character got matched, return True."
   ]
  },
  {
   "cell_type": "code",
   "execution_count": 2,
   "id": "0a073725",
   "metadata": {},
   "outputs": [],
   "source": [
    "def checkInclusion(s1, s2):\n",
    "    if len(s1) > len(s2):\n",
    "        return False\n",
    "    temp = {}\n",
    "    for c in s1:\n",
    "        temp[c] = temp.get(c, 0) + 1\n",
    "    uniqueChars = len(temp)\n",
    "    left, right = 0, 0\n",
    "\n",
    "    while right< len(s2):\n",
    "        c = s2[right]\n",
    "        if c in temp:\n",
    "            temp[c] -= 1\n",
    "            if temp[c] == 0:\n",
    "                uniqueChars -= 1\n",
    "        while right - left + 1 > len(s1):\n",
    "            c = s2[left]\n",
    "            if c in temp:\n",
    "                temp[c] += 1\n",
    "                if temp[c] == 1:\n",
    "                    uniqueChars += 1\n",
    "            left += 1\n",
    "        if uniqueChars == 0:\n",
    "            return True\n",
    "        right += 1\n",
    "    return False"
   ]
  },
  {
   "cell_type": "code",
   "execution_count": 3,
   "id": "60a2e892",
   "metadata": {},
   "outputs": [
    {
     "data": {
      "text/plain": [
       "True"
      ]
     },
     "execution_count": 3,
     "metadata": {},
     "output_type": "execute_result"
    }
   ],
   "source": [
    "s1 = \"ab\"\n",
    "s2 = \"eidbaooo\"\n",
    "checkInclusion(s1, s2)"
   ]
  },
  {
   "cell_type": "code",
   "execution_count": 4,
   "id": "16b4b886",
   "metadata": {},
   "outputs": [
    {
     "data": {
      "text/plain": [
       "False"
      ]
     },
     "execution_count": 4,
     "metadata": {},
     "output_type": "execute_result"
    }
   ],
   "source": [
    "s1 = \"ab\"\n",
    "s2 = \"eidboaoo\"\n",
    "checkInclusion(s1, s2)"
   ]
  },
  {
   "cell_type": "code",
   "execution_count": null,
   "id": "1667d628",
   "metadata": {},
   "outputs": [],
   "source": []
  }
 ],
 "metadata": {
  "kernelspec": {
   "display_name": "Python 3",
   "language": "python",
   "name": "python3"
  },
  "language_info": {
   "codemirror_mode": {
    "name": "ipython",
    "version": 3
   },
   "file_extension": ".py",
   "mimetype": "text/x-python",
   "name": "python",
   "nbconvert_exporter": "python",
   "pygments_lexer": "ipython3",
   "version": "3.8.8"
  }
 },
 "nbformat": 4,
 "nbformat_minor": 5
}
