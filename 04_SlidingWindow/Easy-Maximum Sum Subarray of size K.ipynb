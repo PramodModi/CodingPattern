{
 "cells": [
  {
   "cell_type": "markdown",
   "id": "6bbfd066",
   "metadata": {},
   "source": [
    "## Problem: Maximum Sum Subarray of size K\n",
    "https://www.geeksforgeeks.org/find-maximum-minimum-sum-subarray-size-k/\n",
    "\n",
    "Given an array of integers and a number k, find the maximum sum of a subarray of size k. \n",
    "\n",
    "Example1: \n",
    "\n",
    "    Input  : arr = [100, 200, 300, 400],  k = 2\n",
    "    Output : 700\n",
    "Example2:\n",
    "\n",
    "    Input  : arr = [1, 4, 2, 10, 23, 3, 1, 0, 20], k = 4 \n",
    "    Output : 39\n",
    "    Explanation: We get maximum sum by adding subarray {4, 2, 10, 23} of size 4.\n",
    "\n",
    "Example3:\n",
    "\n",
    "    Input  : arr = [2, 3], k = 3\n",
    "    Output : Invalid\n",
    "    Explanation: There is no subarray of size 3 as size of whole array is 2. "
   ]
  },
  {
   "cell_type": "markdown",
   "id": "623d25ef",
   "metadata": {},
   "source": [
    "### Approach:\n",
    "We have to llok at subarray, means contiguous elements in the array, also size is fixed to K. So, it belongs to Sliding window problem.\n",
    "First, calculate the sum of subarray of size K.\n",
    "Second, slide the k size window and calculate the sum, means move right ans left pointers forward and add number at right index and subtract number at left index from the calculated sum. Because when k size window is moved then number at right index is added in the window while number at the left is moving out from window.\n",
    "At each slide, update the maxSum.\n",
    "Once right pointer reaches to the end of array, return the maxSum.\n"
   ]
  },
  {
   "cell_type": "code",
   "execution_count": 3,
   "id": "b687f229",
   "metadata": {},
   "outputs": [],
   "source": [
    "def maxSumOfSubarray(arr, k):\n",
    "    n = len(arr)\n",
    "    if k > n:\n",
    "        return \"Invalid\"\n",
    "    maxSum = s = sum(arr[:k])\n",
    "    \n",
    "    left, right = 0, k\n",
    "    while right < n:\n",
    "        s += arr[right]-arr[left]\n",
    "        maxSum = max(maxSum, s)\n",
    "        right += 1\n",
    "        left += 1\n",
    "    \n",
    "    return maxSum  "
   ]
  },
  {
   "cell_type": "code",
   "execution_count": 4,
   "id": "5d37edb8",
   "metadata": {},
   "outputs": [
    {
     "data": {
      "text/plain": [
       "700"
      ]
     },
     "execution_count": 4,
     "metadata": {},
     "output_type": "execute_result"
    }
   ],
   "source": [
    "arr = [100, 200, 300, 400]\n",
    "k = 2\n",
    "maxSumOfSubarray(arr, k)"
   ]
  },
  {
   "cell_type": "code",
   "execution_count": 5,
   "id": "8f8ce874",
   "metadata": {},
   "outputs": [
    {
     "data": {
      "text/plain": [
       "39"
      ]
     },
     "execution_count": 5,
     "metadata": {},
     "output_type": "execute_result"
    }
   ],
   "source": [
    "arr = [1, 4, 2, 10, 23, 3, 1, 0, 20]\n",
    "k = 4\n",
    "maxSumOfSubarray(arr, k)"
   ]
  },
  {
   "cell_type": "code",
   "execution_count": null,
   "id": "80fe1f55",
   "metadata": {},
   "outputs": [],
   "source": []
  }
 ],
 "metadata": {
  "kernelspec": {
   "display_name": "Python 3",
   "language": "python",
   "name": "python3"
  },
  "language_info": {
   "codemirror_mode": {
    "name": "ipython",
    "version": 3
   },
   "file_extension": ".py",
   "mimetype": "text/x-python",
   "name": "python",
   "nbconvert_exporter": "python",
   "pygments_lexer": "ipython3",
   "version": "3.8.8"
  }
 },
 "nbformat": 4,
 "nbformat_minor": 5
}
