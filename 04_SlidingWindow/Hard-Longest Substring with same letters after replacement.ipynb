{
 "cells": [
  {
   "cell_type": "markdown",
   "id": "a1c035d3",
   "metadata": {},
   "source": [
    "## Problem: Longest Substring with same letters after replacement\n",
    "LeetCode: 424. Longest Repeating Character Replacement\n",
    "\n",
    "https://leetcode.com/problems/longest-repeating-character-replacement/\n",
    "\n",
    "You are given a string s and an integer k. You can choose any character of the string and change it to any other uppercase English character. You can perform this operation at most k times.\n",
    "\n",
    "Return the length of the longest substring containing the same letter you can get after performing the above operations.\n",
    "\n",
    " \n",
    "\n",
    "Example 1:\n",
    "\n",
    "    Input: s = \"ABAB\", k = 2\n",
    "    Output: 4\n",
    "    Explanation: Replace the two 'A's with two 'B's or vice versa.\n",
    "Example 2:\n",
    "\n",
    "    Input: s = \"AABABBA\", k = 1\n",
    "    Output: 4\n",
    "    Explanation: Replace the one 'A' in the middle with 'B' and form \"AABBBBA\".\n",
    "    The substring \"BBBB\" has the longest repeating letters, which is 4.\n",
    "    There may exists other ways to achive this answer too.\n",
    " \n",
    "\n",
    "Constraints:\n",
    "\n",
    "    1 <= s.length <= 105\n",
    "    s consists of only uppercase English letters.\n",
    "    0 <= k <= s.length"
   ]
  },
  {
   "cell_type": "markdown",
   "id": "4b78bb4a",
   "metadata": {},
   "source": [
    "## Approach: \n",
    "We have to return the longest substring as an output. Since substring is a window, so we can think sliding window pattern.\n",
    "We also have to keep the frequency of the letter, so that longest substring should have maximum number of same letter.\n",
    "The idea here is that, suppose, we have substring/window size is 5 where we have 3 'A' and 2 'B' and K =2. Then definately we will replace less frequent item that is B to A.\n",
    "\n",
    "Ex1:\n",
    "\n",
    "    At any time, window has \"ABABA\" and K =2, will replace 2 'B' to make window 'AAAAA'.\n",
    "Another Ex2: \n",
    "\n",
    "    At any time, window has \"AABAA\" and K = 2, will replace 'B' to make window 'AAAAA'\n",
    "however, for this Ex3: \n",
    "\n",
    "    window has 'AAABB' and K = 1, although will replace one B, but window will not have all same characters, it will have 'AAAAB' that is invalid.\n",
    "Conclusion: window length - maxFrequencyElement <= K for valid condition.  Look at again examples:\n",
    "\n",
    "    Ex1: windowLength = 5, maxFrequencyElement = 3 (count of A is 3), K = 2\n",
    "        Apply condition: 5-3 = 2 which is equal to k =2, so it is valid\n",
    "    Ex2: windowLength = 5, maxFrequencyElement = 4 (count of A is 4), K = 2\n",
    "        Apply condition: 5-4 = 1 which is less than k =2, so it is valid\n",
    "    Ex3: windowLength = 5, maxFrequencyElement = 3 (count of A is 3), K = 1\n",
    "        Apply condition: 5-3 = 2 which is greater than k =1, so it is not valid.\n",
    "    \n",
    "For invalid condition, we have to reduce the window length, by moving left pointer.\n",
    "\n",
    "Steps:\n",
    "\n",
    "    Two pointers, left and right start from zero position.\n",
    "    while right pointer moving, store the letter in hashmap and its frequence, and always store the maxFrequency.\n",
    "    Check the condition, windowLength - maxFrequency > K, then move the left pointer to reduce the window length.\n",
    "    return the length of window.\n",
    "    \n",
    "Please note, while reducing the window length, no need to update the maxFrequency, as in some window it was maximum and giving the maximum length. If we reduce the maxFrequency, then will loose the window, which was having maximum length."
   ]
  },
  {
   "cell_type": "code",
   "execution_count": 12,
   "id": "d04200f1",
   "metadata": {},
   "outputs": [],
   "source": [
    "def characterReplacement(s,k):\n",
    "    temp = {}\n",
    "    left, right = 0,0\n",
    "    maxFreq = 0\n",
    "    \n",
    "    while right<len(s):\n",
    "        c = s[right]\n",
    "        temp[c] = temp.get(c, 0) + 1\n",
    "        maxFreq = max(maxFreq, temp[c])\n",
    "        if (right - left +1) - maxFreq > k:\n",
    "            c = s[left]\n",
    "            temp[c] -= 1\n",
    "            left += 1\n",
    "        right += 1\n",
    "    return right-left"
   ]
  },
  {
   "cell_type": "code",
   "execution_count": 13,
   "id": "fc3359fa",
   "metadata": {},
   "outputs": [
    {
     "data": {
      "text/plain": [
       "4"
      ]
     },
     "execution_count": 13,
     "metadata": {},
     "output_type": "execute_result"
    }
   ],
   "source": [
    "s = \"AABABBA\"\n",
    "k =1\n",
    "characterReplacement(s,k)"
   ]
  },
  {
   "cell_type": "code",
   "execution_count": 14,
   "id": "d38ab9ee",
   "metadata": {},
   "outputs": [
    {
     "data": {
      "text/plain": [
       "4"
      ]
     },
     "execution_count": 14,
     "metadata": {},
     "output_type": "execute_result"
    }
   ],
   "source": [
    "s = \"ABAB\"\n",
    "k =2\n",
    "characterReplacement(s,k)"
   ]
  },
  {
   "cell_type": "code",
   "execution_count": null,
   "id": "2cbfb4bc",
   "metadata": {},
   "outputs": [],
   "source": []
  }
 ],
 "metadata": {
  "kernelspec": {
   "display_name": "Python 3",
   "language": "python",
   "name": "python3"
  },
  "language_info": {
   "codemirror_mode": {
    "name": "ipython",
    "version": 3
   },
   "file_extension": ".py",
   "mimetype": "text/x-python",
   "name": "python",
   "nbconvert_exporter": "python",
   "pygments_lexer": "ipython3",
   "version": "3.8.8"
  }
 },
 "nbformat": 4,
 "nbformat_minor": 5
}
