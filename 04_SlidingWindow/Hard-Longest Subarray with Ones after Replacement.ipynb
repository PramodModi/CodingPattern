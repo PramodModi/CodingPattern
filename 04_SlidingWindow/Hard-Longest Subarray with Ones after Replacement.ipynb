{
 "cells": [
  {
   "cell_type": "markdown",
   "id": "e205d90a",
   "metadata": {},
   "source": [
    "## Problem: Longest Subarray with Ones after Replacement\n",
    "LeetCode: 1004. Max Consecutive Ones III\n",
    "\n",
    "https://leetcode.com/problems/max-consecutive-ones-iii/description/\n",
    "\n",
    "Given a binary array nums and an integer k, return the maximum number of consecutive 1's in the array if you can flip at most k 0's.\n",
    "\n",
    " \n",
    "\n",
    "Example 1:\n",
    "\n",
    "    Input: nums = [1,1,1,0,0,0,1,1,1,1,0], k = 2\n",
    "    Output: 6\n",
    "    Explanation: [1,1,1,0,0,1,1,1,1,1,1]\n",
    "    Bolded numbers were flipped from 0 to 1. The longest subarray is underlined.\n",
    "Example 2:\n",
    "\n",
    "    Input: nums = [0,0,1,1,0,0,1,1,1,0,1,1,0,0,0,1,1,1,1], k = 3\n",
    "    Output: 10\n",
    "    Explanation: [0,0,1,1,1,1,1,1,1,1,1,1,0,0,0,1,1,1,1]\n",
    "    Bolded numbers were flipped from 0 to 1. The longest subarray is underlined.\n",
    " \n",
    "\n",
    "Constraints:\n",
    "\n",
    "    1 <= nums.length <= 105\n",
    "    nums[i] is either 0 or 1.\n",
    "    0 <= k <= nums.length"
   ]
  },
  {
   "cell_type": "markdown",
   "id": "05a4e811",
   "metadata": {},
   "source": [
    "### Approach: \n",
    "This problem is very much similar to \"https://github.com/PramodModi/CodingPattern/blob/main/04_SlidingWindow/Hard-Longest%20Substring%20with%20same%20letters%20after%20replacement.ipynb\"\n",
    "\n",
    "Approach and steps are almost similar. The only changes here is, in place of any letter replacement, it is asking to replace 0 with 1. So, it actually makes the problem easy.\n",
    "Now, we do not have to keep frequency in hash table, rather we can keep the frequency of 0 and 1 in 2 size array.\n",
    "Use the same condition: windowLength - maxFreq > k , then need to reduce the window length."
   ]
  },
  {
   "cell_type": "code",
   "execution_count": 1,
   "id": "e73fa570",
   "metadata": {},
   "outputs": [],
   "source": [
    "def longestOnes(nums, k):\n",
    "    maxLen = 0\n",
    "    temp = [0, 0]\n",
    "    left, right = 0,0\n",
    "    while right < len(nums):\n",
    "        temp[nums[right]] += 1\n",
    "        maxFreq = temp[1]\n",
    "        if (right-left + 1) - maxFreq > k:\n",
    "            temp[nums[left]] -= 1\n",
    "            left += 1\n",
    "        right += 1\n",
    "    return right-left"
   ]
  },
  {
   "cell_type": "code",
   "execution_count": 2,
   "id": "d6cf361a",
   "metadata": {},
   "outputs": [
    {
     "data": {
      "text/plain": [
       "6"
      ]
     },
     "execution_count": 2,
     "metadata": {},
     "output_type": "execute_result"
    }
   ],
   "source": [
    "nums = [1,1,1,0,0,0,1,1,1,1,0]\n",
    "k = 2\n",
    "longestOnes(nums, k)"
   ]
  },
  {
   "cell_type": "code",
   "execution_count": 3,
   "id": "584a25f0",
   "metadata": {},
   "outputs": [
    {
     "data": {
      "text/plain": [
       "10"
      ]
     },
     "execution_count": 3,
     "metadata": {},
     "output_type": "execute_result"
    }
   ],
   "source": [
    "nums = [0,0,1,1,0,0,1,1,1,0,1,1,0,0,0,1,1,1,1]\n",
    "k = 3\n",
    "longestOnes(nums, k)"
   ]
  },
  {
   "cell_type": "code",
   "execution_count": null,
   "id": "f883a487",
   "metadata": {},
   "outputs": [],
   "source": []
  }
 ],
 "metadata": {
  "kernelspec": {
   "display_name": "Python 3",
   "language": "python",
   "name": "python3"
  },
  "language_info": {
   "codemirror_mode": {
    "name": "ipython",
    "version": 3
   },
   "file_extension": ".py",
   "mimetype": "text/x-python",
   "name": "python",
   "nbconvert_exporter": "python",
   "pygments_lexer": "ipython3",
   "version": "3.8.8"
  }
 },
 "nbformat": 4,
 "nbformat_minor": 5
}
