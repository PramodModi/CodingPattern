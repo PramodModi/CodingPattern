{
 "cells": [
  {
   "cell_type": "markdown",
   "id": "3cf19a6f",
   "metadata": {},
   "source": [
    "## Problem: String Anagram\n",
    "LeetCode: 438. Find All Anagrams in a String\n",
    "\n",
    "https://leetcode.com/problems/find-all-anagrams-in-a-string/description/\n",
    "\n",
    "Given two strings s and p, return an array of all the start indices of p's anagrams in s. You may return the answer in any order.\n",
    "\n",
    "An Anagram is a word or phrase formed by rearranging the letters of a different word or phrase, typically using all the original letters exactly once.\n",
    "\n",
    " \n",
    "\n",
    "Example 1:\n",
    "\n",
    "    Input: s = \"cbaebabacd\", p = \"abc\"\n",
    "    Output: [0,6]\n",
    "    Explanation:\n",
    "    The substring with start index = 0 is \"cba\", which is an anagram of \"abc\".\n",
    "    The substring with start index = 6 is \"bac\", which is an anagram of \"abc\".\n",
    "Example 2:\n",
    "\n",
    "    Input: s = \"abab\", p = \"ab\"\n",
    "    Output: [0,1,2]\n",
    "    Explanation:\n",
    "    The substring with start index = 0 is \"ab\", which is an anagram of \"ab\".\n",
    "    The substring with start index = 1 is \"ba\", which is an anagram of \"ab\".\n",
    "    The substring with start index = 2 is \"ab\", which is an anagram of \"ab\".\n",
    " \n",
    "\n",
    "Constraints:\n",
    "\n",
    "    1 <= s.length, p.length <= 3 * 104\n",
    "    s and p consist of lowercase English letters."
   ]
  },
  {
   "cell_type": "markdown",
   "id": "7fa569fb",
   "metadata": {},
   "source": [
    "### Approach:\n",
    "\n",
    "This is exactly the same problem \"https://github.com/PramodModi/CodingPattern/blob/main/04_SlidingWindow/Hard-Permutation%20in%20a%20string.ipynb\", with small changes.\n",
    "\n",
    "In earlier problem, we return True, once the pattern matches. However, in this problem, we will store the starting postion, that is left pointer, and loop will continue to look at the next anagram.\n",
    "\n",
    "At the end, will return list of starting positions stored."
   ]
  },
  {
   "cell_type": "code",
   "execution_count": 1,
   "id": "e3b2b72f",
   "metadata": {},
   "outputs": [],
   "source": [
    "def findAnagrams(s, p):\n",
    "    if len(p) > len(s):\n",
    "        return []\n",
    "    temp = {}\n",
    "    for c in p:\n",
    "        temp[c] = temp.get(c, 0) + 1\n",
    "    uniqueChars = len(temp)\n",
    "    result = []\n",
    "    left, right =0,0\n",
    "    while right < len(s):\n",
    "        c = s[right]\n",
    "        if c in temp:\n",
    "            temp[c] -= 1\n",
    "            if temp[c] == 0:\n",
    "                uniqueChars -= 1\n",
    "        while right-left+1 > len(p):\n",
    "            c  = s[left]\n",
    "            if c in temp:\n",
    "                temp[c] += 1\n",
    "                if temp[c] == 1:\n",
    "                    uniqueChars += 1\n",
    "            left += 1\n",
    "        if uniqueChars == 0:\n",
    "            result.append(left)\n",
    "        right += 1\n",
    "    return result"
   ]
  },
  {
   "cell_type": "code",
   "execution_count": 2,
   "id": "ca5917c2",
   "metadata": {},
   "outputs": [
    {
     "data": {
      "text/plain": [
       "[0, 6]"
      ]
     },
     "execution_count": 2,
     "metadata": {},
     "output_type": "execute_result"
    }
   ],
   "source": [
    "s = \"cbaebabacd\"\n",
    "p = \"abc\"\n",
    "findAnagrams(s, p)"
   ]
  },
  {
   "cell_type": "code",
   "execution_count": 3,
   "id": "37bac04a",
   "metadata": {},
   "outputs": [
    {
     "data": {
      "text/plain": [
       "[0, 1, 2]"
      ]
     },
     "execution_count": 3,
     "metadata": {},
     "output_type": "execute_result"
    }
   ],
   "source": [
    "s = \"abab\"\n",
    "p = \"ab\"\n",
    "findAnagrams(s, p)"
   ]
  },
  {
   "cell_type": "code",
   "execution_count": null,
   "id": "a52ae11c",
   "metadata": {},
   "outputs": [],
   "source": []
  }
 ],
 "metadata": {
  "kernelspec": {
   "display_name": "Python 3",
   "language": "python",
   "name": "python3"
  },
  "language_info": {
   "codemirror_mode": {
    "name": "ipython",
    "version": 3
   },
   "file_extension": ".py",
   "mimetype": "text/x-python",
   "name": "python",
   "nbconvert_exporter": "python",
   "pygments_lexer": "ipython3",
   "version": "3.8.8"
  }
 },
 "nbformat": 4,
 "nbformat_minor": 5
}
