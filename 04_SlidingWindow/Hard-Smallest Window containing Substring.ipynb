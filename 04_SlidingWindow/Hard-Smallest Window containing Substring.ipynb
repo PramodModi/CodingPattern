{
 "cells": [
  {
   "cell_type": "markdown",
   "id": "61702bee",
   "metadata": {},
   "source": [
    "## Problem: Smallest Window containing Substring\n",
    "LeetCode: 76. Minimum Window Substring\n",
    "\n",
    "https://leetcode.com/problems/minimum-window-substring/description/\n",
    "\n",
    "Given two strings s and t of lengths m and n respectively, return the minimum window \n",
    "substring of s such that every character in t (including duplicates) is included in the window. If there is no such substring, return the empty string \"\".\n",
    "\n",
    "The testcases will be generated such that the answer is unique.\n",
    "\n",
    " \n",
    "\n",
    "Example 1:\n",
    "\n",
    "    Input: s = \"ADOBECODEBANC\", t = \"ABC\"\n",
    "    Output: \"BANC\"\n",
    "    Explanation: The minimum window substring \"BANC\" includes 'A', 'B', and 'C' from string t.\n",
    "Example 2:\n",
    "\n",
    "    Input: s = \"a\", t = \"a\"\n",
    "    Output: \"a\"\n",
    "    Explanation: The entire string s is the minimum window.\n",
    "Example 3:\n",
    "\n",
    "    Input: s = \"a\", t = \"aa\"\n",
    "    Output: \"\"\n",
    "    Explanation: Both 'a's from t must be included in the window.\n",
    "    Since the largest window of s only has one 'a', return empty string.\n",
    " \n",
    "\n",
    "Constraints:\n",
    "\n",
    "    m == s.length\n",
    "    n == t.length\n",
    "    1 <= m, n <= 105\n",
    "    s and t consist of uppercase and lowercase English letters.\n"
   ]
  },
  {
   "cell_type": "markdown",
   "id": "c9fc4fd1",
   "metadata": {},
   "source": [
    "### Approach:\n",
    "\n",
    "This is exactly the same problem \"https://github.com/PramodModi/CodingPattern/blob/main/04_SlidingWindow/Hard-Permutation%20in%20a%20string.ipynb\", with small changes.\n",
    "\n",
    "Here, it is not asking the pattern substring should be available, it asking every characters should be available in the string. It gives flexibility to not worry on the length of window that window length should be same as pattern length.\n",
    "\n",
    "However, we have to just check  when uniqueChars are equal to Zero, then just reduce the window length till uniqueChars is equal to zero.\n",
    "\n",
    "We need to return the exact string, so keep the left and right index when window length is minimum."
   ]
  },
  {
   "cell_type": "code",
   "execution_count": 9,
   "id": "efbae0b6",
   "metadata": {},
   "outputs": [],
   "source": [
    "def minWindow(s, t):\n",
    "    if len(t) > len(s):\n",
    "        return \"\"\n",
    "    rightIndex, leftIndex = 0, 0\n",
    "    temp = {}\n",
    "    for c in t:\n",
    "        temp[c] = temp.get(c, 0) + 1\n",
    "    uniqueChars = len(temp)\n",
    "    left, right = 0,0\n",
    "    length = float(\"inf\")\n",
    "    \n",
    "    while right < len(s):\n",
    "        c = s[right]\n",
    "        if c in temp:\n",
    "            temp[c] -= 1\n",
    "            if temp[c] == 0:\n",
    "                uniqueChars -= 1\n",
    "        while uniqueChars == 0:\n",
    "            c = s[left]\n",
    "            if c in temp:\n",
    "                temp[c] += 1\n",
    "                if temp[c] == 1:\n",
    "                    uniqueChars += 1\n",
    "            if length > right -left + 1:\n",
    "                length = right -left+1\n",
    "                leftIndex = left\n",
    "                rightIndex = right + 1\n",
    "            left += 1\n",
    "        right += 1\n",
    "        \n",
    "    return s[leftIndex : rightIndex]\n",
    "                \n",
    "    \n",
    "    "
   ]
  },
  {
   "cell_type": "code",
   "execution_count": 10,
   "id": "b7b0b8e7",
   "metadata": {},
   "outputs": [
    {
     "data": {
      "text/plain": [
       "'BANC'"
      ]
     },
     "execution_count": 10,
     "metadata": {},
     "output_type": "execute_result"
    }
   ],
   "source": [
    "s = \"ADOBECODEBANC\"\n",
    "t = \"ABC\"\n",
    "minWindow(s, t)"
   ]
  },
  {
   "cell_type": "code",
   "execution_count": 11,
   "id": "228e3048",
   "metadata": {},
   "outputs": [
    {
     "data": {
      "text/plain": [
       "'a'"
      ]
     },
     "execution_count": 11,
     "metadata": {},
     "output_type": "execute_result"
    }
   ],
   "source": [
    "s = \"a\"\n",
    "t = \"a\"\n",
    "minWindow(s, t)"
   ]
  },
  {
   "cell_type": "code",
   "execution_count": null,
   "id": "6dda59b3",
   "metadata": {},
   "outputs": [],
   "source": []
  }
 ],
 "metadata": {
  "kernelspec": {
   "display_name": "Python 3",
   "language": "python",
   "name": "python3"
  },
  "language_info": {
   "codemirror_mode": {
    "name": "ipython",
    "version": 3
   },
   "file_extension": ".py",
   "mimetype": "text/x-python",
   "name": "python",
   "nbconvert_exporter": "python",
   "pygments_lexer": "ipython3",
   "version": "3.8.8"
  }
 },
 "nbformat": 4,
 "nbformat_minor": 5
}
