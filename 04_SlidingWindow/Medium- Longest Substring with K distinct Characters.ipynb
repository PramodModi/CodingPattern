{
 "cells": [
  {
   "cell_type": "markdown",
   "id": "1a27f2d2",
   "metadata": {},
   "source": [
    "## Problem: Longest Substring with K distinct Characters\n",
    "https://www.geeksforgeeks.org/find-the-longest-substring-with-k-unique-characters-in-a-given-string/\n",
    "\n",
    "Given a string you need to print longest possible substring that has exactly M unique characters. If there is more than one substring of longest possible length, then print any one of them.\n",
    "\n",
    "Example1: \n",
    "\n",
    "    Input: Str = “aabbcc”, k = 1\n",
    "    Output: 2\n",
    "    Explanation: Max substring can be any one from {“aa” , “bb” , “cc”}.\n",
    "\n",
    "Example2:\n",
    "\n",
    "    Input: Str = “aabbcc”, k = 2\n",
    "    Output: 4\n",
    "    Explanation: Max substring can be any one from {“aabb” , “bbcc”}.\n",
    "\n",
    "Example3:\n",
    "\n",
    "    Input: Str = “aabbcc”, k = 3\n",
    "    Output: 6\n",
    "    Explanation: \n",
    "    There are substrings with exactly 3 unique characters\n",
    "    {“aabbcc” , “abbcc” , “aabbc” , “abbc” }\n",
    "    Max is “aabbcc” with length 6.\n",
    "\n",
    "Example4:\n",
    "\n",
    "    Input: Str = “aaabbb”, k = 3\n",
    "    Output: Not enough unique characters\n",
    "    Explanation: There are only two unique characters, thus show error message. "
   ]
  },
  {
   "cell_type": "markdown",
   "id": "7ece97b0",
   "metadata": {},
   "source": [
    "### Approach:\n",
    "This problem is for substring that is set of contiguous elements in a string. Size of distinct character is given K. Need to find the window size based on the given condition.\n",
    "The coding template would be very much similar with some changes to satisfy the condition.\n",
    "1. Two pointers, both start from position zero. Left would be fixed and right would be moving till condition is not satisfied, that is window should have more than K unique characters.\n",
    "2. Now, move left pointer, till condition is satisfied that is window should have exactly K unique characters or less.\n",
    "3. Keep the maximum length of substring if unqique charcaters is exactly equal to k.\n",
    "4. Return the maximum window length.\n",
    "\n",
    "In this specific problem, we need to check the number of unique characters, so will us hashmap to get the number of unique characters. While right pointer moves, will keep adding characters in the hashmap and while left pointer moves, remove elements from hashmap.\n",
    "As removal of element from hashmap is costly, so will not exactly remove the character from hashmap, rather keep a variable to have number of unique characters, which will incremented or decremented based on addition and removal of characters from hashmap."
   ]
  },
  {
   "cell_type": "code",
   "execution_count": 10,
   "id": "45769fab",
   "metadata": {},
   "outputs": [],
   "source": [
    "def longestKSubstr(string, k):\n",
    "    maxLength = 0\n",
    "    temp = {}\n",
    "    uniqueChar = 0\n",
    "    left, right = 0, 0\n",
    "    \n",
    "    while right < len(string):\n",
    "        c = string[right]\n",
    "        temp[c] = temp.get(c, 0) + 1\n",
    "        if temp[c] == 1:\n",
    "            uniqueChar += 1\n",
    "        while uniqueChar > k:\n",
    "            c = string[left]\n",
    "            if c in temp:\n",
    "                temp[c] -= 1\n",
    "                if temp[c] == 0:\n",
    "                    uniqueChar -= 1\n",
    "            left += 1\n",
    "        if uniqueChar == k:\n",
    "            maxLength = max(maxLength, right - left + 1)\n",
    "        right += 1\n",
    "    return maxLength"
   ]
  },
  {
   "cell_type": "code",
   "execution_count": 11,
   "id": "4c5da42e",
   "metadata": {},
   "outputs": [
    {
     "data": {
      "text/plain": [
       "2"
      ]
     },
     "execution_count": 11,
     "metadata": {},
     "output_type": "execute_result"
    }
   ],
   "source": [
    "string = \"aabbcc\"\n",
    "k = 1\n",
    "longestKSubstr(string, k)"
   ]
  },
  {
   "cell_type": "code",
   "execution_count": 12,
   "id": "265e2bfa",
   "metadata": {},
   "outputs": [
    {
     "data": {
      "text/plain": [
       "4"
      ]
     },
     "execution_count": 12,
     "metadata": {},
     "output_type": "execute_result"
    }
   ],
   "source": [
    "string = \"aabbcc\"\n",
    "k = 2\n",
    "longestKSubstr(string, k)"
   ]
  },
  {
   "cell_type": "code",
   "execution_count": 13,
   "id": "cfa43260",
   "metadata": {},
   "outputs": [
    {
     "data": {
      "text/plain": [
       "6"
      ]
     },
     "execution_count": 13,
     "metadata": {},
     "output_type": "execute_result"
    }
   ],
   "source": [
    "string = \"aabbcc\"\n",
    "k = 3\n",
    "longestKSubstr(string, k)"
   ]
  },
  {
   "cell_type": "code",
   "execution_count": 14,
   "id": "442efc7a",
   "metadata": {},
   "outputs": [
    {
     "data": {
      "text/plain": [
       "0"
      ]
     },
     "execution_count": 14,
     "metadata": {},
     "output_type": "execute_result"
    }
   ],
   "source": [
    "string = \"aaabbb\"\n",
    "k = 3\n",
    "longestKSubstr(string, k)"
   ]
  },
  {
   "cell_type": "code",
   "execution_count": null,
   "id": "e09c35be",
   "metadata": {},
   "outputs": [],
   "source": []
  }
 ],
 "metadata": {
  "kernelspec": {
   "display_name": "Python 3",
   "language": "python",
   "name": "python3"
  },
  "language_info": {
   "codemirror_mode": {
    "name": "ipython",
    "version": 3
   },
   "file_extension": ".py",
   "mimetype": "text/x-python",
   "name": "python",
   "nbconvert_exporter": "python",
   "pygments_lexer": "ipython3",
   "version": "3.8.8"
  }
 },
 "nbformat": 4,
 "nbformat_minor": 5
}
