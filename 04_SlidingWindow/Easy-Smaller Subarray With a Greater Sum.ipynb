{
 "cells": [
  {
   "cell_type": "markdown",
   "id": "59a87d83",
   "metadata": {},
   "source": [
    "## Problem : Smaller Subarray With a Greater Sum\n",
    "LeetCode: 209. Minimum Size Subarray Sum\n",
    "\n",
    "https://leetcode.com/problems/minimum-size-subarray-sum/\n",
    "\n",
    "Given an array of positive integers nums and a positive integer target, return the minimal length of a \n",
    "subarray whose sum is greater than or equal to target. If there is no such subarray, return 0 instead.\n",
    "\n",
    " \n",
    "\n",
    "Example 1:\n",
    "\n",
    "    Input: target = 7, nums = [2,3,1,2,4,3]\n",
    "    Output: 2\n",
    "    Explanation: The subarray [4,3] has the minimal length under the problem constraint.\n",
    "Example 2:\n",
    "\n",
    "    Input: target = 4, nums = [1,4,4]\n",
    "    Output: 1\n",
    "Example 3:\n",
    "\n",
    "    Input: target = 11, nums = [1,1,1,1,1,1,1,1]\n",
    "    Output: 0\n",
    " \n",
    "\n",
    "Constraints:\n",
    "\n",
    "    1 <= target <= 109\n",
    "    1 <= nums.length <= 105\n",
    "    1 <= nums[i] <= 104"
   ]
  },
  {
   "cell_type": "markdown",
   "id": "c22a85b9",
   "metadata": {},
   "source": [
    "### Approach: \n",
    "This problem is for subarray that is set of contiguous elements in a array. Here, size of window needs to be find based on given condition. This is another variant of sliding window pattern problem, where size of window needs to find.\n",
    "The coding template would be very much similar.\n",
    "1. Two pointers, both start from position zero. Left would be fixed and right would be moving till condition is not satisfied, that is sum of elements should not be greater than target.\n",
    "2. Now, move left pointer, till condition is satisfied and keep minimum length.\n",
    "3. When right pointer moves, window size increases, when left pointer move window size decreases.\n",
    "4. Return the minimum window length."
   ]
  },
  {
   "cell_type": "code",
   "execution_count": 5,
   "id": "0be0ce62",
   "metadata": {},
   "outputs": [],
   "source": [
    "def minSubArrayLength(target, nums):\n",
    "    minLength = float(\"inf\")\n",
    "    left, right, sum = 0, 0, 0\n",
    "    while right < len(nums):\n",
    "        sum += nums[right]\n",
    "        while sum >= target and left<=right:\n",
    "            sum -= nums[left]\n",
    "            minLength = min(minLength, right-left + 1)\n",
    "            left += 1\n",
    "        right += 1\n",
    "    return minLength if minLength != float(\"inf\") else 0\n",
    "        \n",
    "        "
   ]
  },
  {
   "cell_type": "code",
   "execution_count": 6,
   "id": "5a8eee79",
   "metadata": {},
   "outputs": [
    {
     "data": {
      "text/plain": [
       "2"
      ]
     },
     "execution_count": 6,
     "metadata": {},
     "output_type": "execute_result"
    }
   ],
   "source": [
    "target = 7\n",
    "nums = [2,3,1,2,4,3]\n",
    "minSubArrayLength(target, nums)"
   ]
  },
  {
   "cell_type": "code",
   "execution_count": 7,
   "id": "f1cbee00",
   "metadata": {},
   "outputs": [
    {
     "data": {
      "text/plain": [
       "1"
      ]
     },
     "execution_count": 7,
     "metadata": {},
     "output_type": "execute_result"
    }
   ],
   "source": [
    "target = 4\n",
    "nums = [1,4,4]\n",
    "minSubArrayLength(target, nums)"
   ]
  },
  {
   "cell_type": "code",
   "execution_count": 8,
   "id": "dec78b0f",
   "metadata": {},
   "outputs": [
    {
     "data": {
      "text/plain": [
       "0"
      ]
     },
     "execution_count": 8,
     "metadata": {},
     "output_type": "execute_result"
    }
   ],
   "source": [
    "target = 11\n",
    "nums = [1,1,1,1,1,1,1,1]\n",
    "minSubArrayLength(target, nums)"
   ]
  },
  {
   "cell_type": "code",
   "execution_count": null,
   "id": "bef88be3",
   "metadata": {},
   "outputs": [],
   "source": []
  }
 ],
 "metadata": {
  "kernelspec": {
   "display_name": "Python 3",
   "language": "python",
   "name": "python3"
  },
  "language_info": {
   "codemirror_mode": {
    "name": "ipython",
    "version": 3
   },
   "file_extension": ".py",
   "mimetype": "text/x-python",
   "name": "python",
   "nbconvert_exporter": "python",
   "pygments_lexer": "ipython3",
   "version": "3.8.8"
  }
 },
 "nbformat": 4,
 "nbformat_minor": 5
}
