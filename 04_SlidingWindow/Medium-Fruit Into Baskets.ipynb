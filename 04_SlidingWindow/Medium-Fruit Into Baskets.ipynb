{
 "cells": [
  {
   "cell_type": "markdown",
   "id": "48d984ae",
   "metadata": {},
   "source": [
    "## Problem: Fruit Into Baskets\n",
    "LeetCode: 904. Fruit Into Baskets\n",
    "\n",
    "https://leetcode.com/problems/fruit-into-baskets/\n",
    "\n",
    "You are visiting a farm that has a single row of fruit trees arranged from left to right. The trees are represented by an integer array fruits where fruits[i] is the type of fruit the ith tree produces.\n",
    "\n",
    "You want to collect as much fruit as possible. However, the owner has some strict rules that you must follow:\n",
    "\n",
    "You only have two baskets, and each basket can only hold a single type of fruit. There is no limit on the amount of fruit each basket can hold.\n",
    "Starting from any tree of your choice, you must pick exactly one fruit from every tree (including the start tree) while moving to the right. The picked fruits must fit in one of your baskets.\n",
    "Once you reach a tree with fruit that cannot fit in your baskets, you must stop.\n",
    "Given the integer array fruits, return the maximum number of fruits you can pick.\n",
    "\n",
    " \n",
    "\n",
    "Example 1:\n",
    "\n",
    "    Input: fruits = [1,2,1]\n",
    "    Output: 3\n",
    "    Explanation: We can pick from all 3 trees.\n",
    "Example 2:\n",
    "\n",
    "    Input: fruits = [0,1,2,2]\n",
    "    Output: 3\n",
    "    Explanation: We can pick from trees [1,2,2].\n",
    "    If we had started at the first tree, we would only pick from trees [0,1].\n",
    "Example 3:\n",
    "\n",
    "    Input: fruits = [1,2,3,2,2]\n",
    "    Output: 4\n",
    "    Explanation: We can pick from trees [2,3,2,2].\n",
    "    If we had started at the first tree, we would only pick from trees [1,2].\n",
    " \n",
    "\n",
    "Constraints:\n",
    "\n",
    "    1 <= fruits.length <= 105\n",
    "    0 <= fruits[i] < fruits.length"
   ]
  },
  {
   "cell_type": "markdown",
   "id": "18b62415",
   "metadata": {},
   "source": [
    "### Approach: \n",
    "Problem statement tells, if you reach a tree with fruit that cannot fit in your baskets, you must stop, that means it is talking about considering only contiguous trees. This gives hint of using sliding window pattern.\n",
    "Also, number of basket is fixed, so consider it as number of unique character and we need to find the maximum number of fruits means maximum length of window, it is simlar to \" K distinct character problem\" (https://github.com/PramodModi/CodingPattern/blob/main/04_SlidingWindow/Medium-%20Longest%20Substring%20with%20K%20distinct%20Characters.ipynb)\n",
    "\n",
    "We will exactly follow the same steps."
   ]
  },
  {
   "cell_type": "code",
   "execution_count": 2,
   "id": "ea26981d",
   "metadata": {},
   "outputs": [],
   "source": [
    "def totalFruit(fruits):\n",
    "    maxFruits = 0\n",
    "    baskets = 2\n",
    "    uniqueFruits = 0\n",
    "    temp = {}\n",
    "    left, right = 0,0\n",
    "    while right < len(fruits):\n",
    "        fruitType = fruits[right]\n",
    "        temp[fruitType] = temp.get(fruitType, 0) + 1\n",
    "        if temp[fruitType] == 1:\n",
    "            uniqueFruits += 1\n",
    "        while uniqueFruits > baskets :\n",
    "            fruitType = fruits[left]\n",
    "            if fruitType in temp:\n",
    "                temp[fruitType] -= 1\n",
    "                if temp[fruitType] == 0:\n",
    "                    uniqueFruits -= 1\n",
    "            left += 1\n",
    "            \n",
    "        maxFruits = max(maxFruits, right-left +1)\n",
    "        right += 1\n",
    "        \n",
    "    return maxFruits\n",
    "            \n",
    "        "
   ]
  },
  {
   "cell_type": "code",
   "execution_count": 3,
   "id": "aa56218c",
   "metadata": {},
   "outputs": [
    {
     "data": {
      "text/plain": [
       "3"
      ]
     },
     "execution_count": 3,
     "metadata": {},
     "output_type": "execute_result"
    }
   ],
   "source": [
    "fruits = [1,2,1]\n",
    "totalFruit(fruits)"
   ]
  },
  {
   "cell_type": "code",
   "execution_count": 4,
   "id": "a6eb5d8d",
   "metadata": {},
   "outputs": [
    {
     "data": {
      "text/plain": [
       "3"
      ]
     },
     "execution_count": 4,
     "metadata": {},
     "output_type": "execute_result"
    }
   ],
   "source": [
    "fruits = [0,1,2,2]\n",
    "totalFruit(fruits)"
   ]
  },
  {
   "cell_type": "code",
   "execution_count": 5,
   "id": "55caab9f",
   "metadata": {},
   "outputs": [
    {
     "data": {
      "text/plain": [
       "4"
      ]
     },
     "execution_count": 5,
     "metadata": {},
     "output_type": "execute_result"
    }
   ],
   "source": [
    "fruits = [1,2,3,2,2]\n",
    "totalFruit(fruits)"
   ]
  },
  {
   "cell_type": "code",
   "execution_count": null,
   "id": "c8690035",
   "metadata": {},
   "outputs": [],
   "source": []
  }
 ],
 "metadata": {
  "kernelspec": {
   "display_name": "Python 3",
   "language": "python",
   "name": "python3"
  },
  "language_info": {
   "codemirror_mode": {
    "name": "ipython",
    "version": 3
   },
   "file_extension": ".py",
   "mimetype": "text/x-python",
   "name": "python",
   "nbconvert_exporter": "python",
   "pygments_lexer": "ipython3",
   "version": "3.8.8"
  }
 },
 "nbformat": 4,
 "nbformat_minor": 5
}
