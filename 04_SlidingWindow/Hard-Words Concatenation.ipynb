{
 "cells": [
  {
   "cell_type": "markdown",
   "id": "6d4cfc98",
   "metadata": {},
   "source": [
    "## Problem: Words Concatenation\n",
    "LeetCode : 30. Substring with Concatenation of All Words\n",
    "\n",
    "https://leetcode.com/problems/substring-with-concatenation-of-all-words/description/\n",
    "\n",
    "You are given a string s and an array of strings words. All the strings of words are of the same length.\n",
    "\n",
    "A concatenated substring in s is a substring that contains all the strings of any permutation of words concatenated.\n",
    "\n",
    "For example, if words = [\"ab\",\"cd\",\"ef\"], then \"abcdef\", \"abefcd\", \"cdabef\", \"cdefab\", \"efabcd\", and \"efcdab\" are all concatenated strings. \"acdbef\" is not a concatenated substring because it is not the concatenation of any permutation of words.\n",
    "Return the starting indices of all the concatenated substrings in s. You can return the answer in any order.\n",
    "\n",
    " \n",
    "\n",
    "Example 1:\n",
    "\n",
    "    Input: s = \"barfoothefoobarman\", words = [\"foo\",\"bar\"]\n",
    "    Output: [0,9]\n",
    "    Explanation: Since words.length == 2 and words[i].length == 3, the concatenated substring has to be of length 6.\n",
    "    The substring starting at 0 is \"barfoo\". It is the concatenation of [\"bar\",\"foo\"] which is a permutation of words.\n",
    "    The substring starting at 9 is \"foobar\". It is the concatenation of [\"foo\",\"bar\"] which is a permutation of words.\n",
    "    The output order does not matter. Returning [9,0] is fine too.\n",
    "Example 2:\n",
    "\n",
    "    Input: s = \"wordgoodgoodgoodbestword\", words = [\"word\",\"good\",\"best\",\"word\"]\n",
    "    Output: []\n",
    "    Explanation: Since words.length == 4 and words[i].length == 4, the concatenated substring has to be of length 16.\n",
    "    There is no substring of length 16 in s that is equal to the concatenation of any permutation of words.\n",
    "    We return an empty array.\n",
    "Example 3:\n",
    "\n",
    "    Input: s = \"barfoofoobarthefoobarman\", words = [\"bar\",\"foo\",\"the\"]\n",
    "    Output: [6,9,12]\n",
    "    Explanation: Since words.length == 3 and words[i].length == 3, the concatenated substring has to be of length 9.\n",
    "    The substring starting at 6 is \"foobarthe\". It is the concatenation of [\"foo\",\"bar\",\"the\"] which is a permutation of words.\n",
    "    The substring starting at 9 is \"barthefoo\". It is the concatenation of [\"bar\",\"the\",\"foo\"] which is a permutation of words.\n",
    "    The substring starting at 12 is \"thefoobar\". It is the concatenation of [\"the\",\"foo\",\"bar\"] which is a permutation of words.\n",
    " \n",
    "\n",
    "Constraints:\n",
    "\n",
    "    1 <= s.length <= 104\n",
    "    1 <= words.length <= 5000\n",
    "    1 <= words[i].length <= 30\n",
    "    s and words[i] consist of lowercase English letters."
   ]
  },
  {
   "cell_type": "markdown",
   "id": "1f28cc5f",
   "metadata": {},
   "source": [
    "### Approach:\n",
    "\n",
    "As we neeed to find the substring in a given string, so, this is a sliding window pattaern problem.\n",
    "Concept is similar as finding the anagram in string (https://github.com/PramodModi/CodingPattern/blob/main/04_SlidingWindow/Hard-String%20Anagrams.ipynb)\n",
    "\n",
    "Here, in place of charcaters we have to look for words. Coding steps would be different, especially for one use case, where each charcter position can create a word, and hence need to stroe their position. \n",
    "Example: \n",
    "\n",
    "    s = \"aaaaaaaaaa\"\n",
    "    words = [\"aa\", \"aa\"]\n",
    "    output = [0,1,2,3,4,5,6]\n",
    "    \n",
    "    In this example, each character position is starting of word \"aa\", so output contains, each position.\n",
    "    \n",
    "Hence, left pointer shold move to one step to check all character, and right pointer should move to one word, and then should restart again from the left position, after checking the condition. Irrespective of condition result, right will again start fom left position. Left position will keep moving next position till the total number of character left.\n",
    "\n",
    "In each step of left, need to assign left position to right position, have copy of hashmap and unique words. Because, right pointers movement update the hashmap and unique words. And in next iteration of left, hashmap and unique words should have unchanged data.\n"
   ]
  },
  {
   "cell_type": "code",
   "execution_count": 24,
   "id": "145d093a",
   "metadata": {},
   "outputs": [],
   "source": [
    "def findSubstring(s, words):\n",
    "        result = []\n",
    "        temp = {}\n",
    "        for w in words:\n",
    "            temp[w] = temp.get(w, 0) + 1\n",
    "        uniqueWords = len(temp)\n",
    "        left, right = 0, 0\n",
    "        wordLen = len(words[0])\n",
    "        totalChar = wordLen * len(words)\n",
    "        while left < len(s) - totalChar+1:\n",
    "            right = left\n",
    "            temp_copy = temp.copy()\n",
    "            uniqueWords_copy = uniqueWords\n",
    "            while right < len(s):\n",
    "                w = s[right : right+wordLen]\n",
    "                if w not in temp_copy or temp_copy[w] == 0:\n",
    "                    break\n",
    "                \n",
    "                temp_copy[w] -= 1\n",
    "                if temp_copy[w] == 0:\n",
    "                    uniqueWords_copy -= 1\n",
    "                right = right + wordLen\n",
    "            if uniqueWords_copy == 0:\n",
    "                result.append(left)\n",
    "            left += 1\n",
    "            \n",
    "        return result"
   ]
  },
  {
   "cell_type": "code",
   "execution_count": 25,
   "id": "c5587231",
   "metadata": {},
   "outputs": [
    {
     "data": {
      "text/plain": [
       "[0, 9]"
      ]
     },
     "execution_count": 25,
     "metadata": {},
     "output_type": "execute_result"
    }
   ],
   "source": [
    "s = \"barfoothefoobarman\"\n",
    "words = [\"foo\",\"bar\"]\n",
    "findSubstring(s, words)"
   ]
  },
  {
   "cell_type": "code",
   "execution_count": 26,
   "id": "f3dc3d43",
   "metadata": {},
   "outputs": [
    {
     "data": {
      "text/plain": [
       "[8]"
      ]
     },
     "execution_count": 26,
     "metadata": {},
     "output_type": "execute_result"
    }
   ],
   "source": [
    "s = \"wordgoodgoodgoodbestword\"\n",
    "words = [\"word\",\"good\",\"best\",\"good\"]\n",
    "findSubstring(s, words)"
   ]
  },
  {
   "cell_type": "code",
   "execution_count": 27,
   "id": "94e0415d",
   "metadata": {},
   "outputs": [
    {
     "data": {
      "text/plain": [
       "[0, 1, 2, 3, 4, 5, 6]"
      ]
     },
     "execution_count": 27,
     "metadata": {},
     "output_type": "execute_result"
    }
   ],
   "source": [
    "s = \"aaaaaaaaaa\"\n",
    "words = [\"aa\", \"aa\"]\n",
    "findSubstring(s, words)"
   ]
  },
  {
   "cell_type": "code",
   "execution_count": null,
   "id": "dac0f277",
   "metadata": {},
   "outputs": [],
   "source": []
  }
 ],
 "metadata": {
  "kernelspec": {
   "display_name": "Python 3",
   "language": "python",
   "name": "python3"
  },
  "language_info": {
   "codemirror_mode": {
    "name": "ipython",
    "version": 3
   },
   "file_extension": ".py",
   "mimetype": "text/x-python",
   "name": "python",
   "nbconvert_exporter": "python",
   "pygments_lexer": "ipython3",
   "version": "3.8.8"
  }
 },
 "nbformat": 4,
 "nbformat_minor": 5
}
