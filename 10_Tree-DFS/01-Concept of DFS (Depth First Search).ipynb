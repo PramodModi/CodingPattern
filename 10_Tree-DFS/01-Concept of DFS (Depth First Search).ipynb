{
 "cells": [
  {
   "cell_type": "markdown",
   "id": "58f155ae",
   "metadata": {},
   "source": [
    "## Depth First Search (DFS)"
   ]
  },
  {
   "cell_type": "markdown",
   "id": "ce356c54",
   "metadata": {},
   "source": [
    "### Concept\n",
    "\n",
    "Depth-First Search (DFS) is an algorithm used to explore and traverse tree structures.\n",
    "    \n",
    "    It starts at the root node (or any other specified node) and explores as far as possible along each branch before backtracking. In essence, DFS goes deep down a branch before exploring its siblings. DFS can be implemented using recursion or an explicit stack data structure.\n"
   ]
  },
  {
   "cell_type": "markdown",
   "id": "5d93650c",
   "metadata": {},
   "source": [
    "### Here's how to use DFS in a tree:\n",
    "\n",
    "    Basic DFS Algorithm (Using Recursion):\n",
    "    Start at the root node.\n",
    "    Process the current node (e.g., print its value, perform some operation).\n",
    "    Recursively apply the DFS algorithm to the left subtree (if it exists).\n",
    "    Recursively apply the DFS algorithm to the right subtree (if it exists).\n",
    "    Here's a simple Python example of DFS in a binary tree using recursion:"
   ]
  },
  {
   "cell_type": "code",
   "execution_count": 2,
   "id": "1eeabd4a",
   "metadata": {},
   "outputs": [
    {
     "name": "stdout",
     "output_type": "stream",
     "text": [
      "1\n",
      "2\n",
      "4\n",
      "5\n",
      "3\n"
     ]
    }
   ],
   "source": [
    "class TreeNode:\n",
    "    def __init__(self, val=0, left=None, right=None):\n",
    "        self.val = val\n",
    "        self.left = left\n",
    "        self.right = right\n",
    "\n",
    "def dfs(tree_node):\n",
    "    if tree_node is None:\n",
    "        return\n",
    "    # Process the current node (e.g., print its value)\n",
    "    print(tree_node.val)\n",
    "    # Recursively apply DFS to the left and right subtrees\n",
    "    dfs(tree_node.left)\n",
    "    dfs(tree_node.right)\n",
    "\n",
    "# Example usage:\n",
    "root = TreeNode(1)\n",
    "root.left = TreeNode(2)\n",
    "root.right = TreeNode(3)\n",
    "root.left.left = TreeNode(4)\n",
    "root.left.right = TreeNode(5)\n",
    "\n",
    "dfs(root)"
   ]
  },
  {
   "cell_type": "markdown",
   "id": "2bcb1e5c",
   "metadata": {},
   "source": [
    "### Applications where DFS is used:\n",
    "1. Binary Tree Path Sum\n",
    "2. All paths for a sum\n",
    "3. Sum of path numbers\n",
    "4. Tree depth, height and diameter\n",
    "5. Path with maximum sum"
   ]
  },
  {
   "cell_type": "code",
   "execution_count": null,
   "id": "e08e891f",
   "metadata": {},
   "outputs": [],
   "source": []
  }
 ],
 "metadata": {
  "kernelspec": {
   "display_name": "Python 3",
   "language": "python",
   "name": "python3"
  },
  "language_info": {
   "codemirror_mode": {
    "name": "ipython",
    "version": 3
   },
   "file_extension": ".py",
   "mimetype": "text/x-python",
   "name": "python",
   "nbconvert_exporter": "python",
   "pygments_lexer": "ipython3",
   "version": "3.8.8"
  }
 },
 "nbformat": 4,
 "nbformat_minor": 5
}
