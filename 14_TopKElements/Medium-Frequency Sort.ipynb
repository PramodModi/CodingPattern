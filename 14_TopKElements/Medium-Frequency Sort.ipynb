{
 "cells": [
  {
   "cell_type": "markdown",
   "id": "bd093e92",
   "metadata": {},
   "source": [
    "## Problem: Frequency Sort\n",
    "LeetCode: 451. Sort Characters By Frequency\n",
    "\n",
    "https://leetcode.com/problems/sort-characters-by-frequency/description/\n",
    "\n",
    "Given a string s, sort it in decreasing order based on the frequency of the characters. The frequency of a character is the number of times it appears in the string.\n",
    "\n",
    "Return the sorted string. If there are multiple answers, return any of them.\n",
    "\n",
    " \n",
    "\n",
    "Example 1:\n",
    "\n",
    "    Input: s = \"tree\"\n",
    "    Output: \"eert\"\n",
    "    Explanation: 'e' appears twice while 'r' and 't' both appear once.\n",
    "    So 'e' must appear before both 'r' and 't'. Therefore \"eetr\" is also a valid answer.\n",
    "Example 2:\n",
    "\n",
    "    Input: s = \"cccaaa\"\n",
    "    Output: \"aaaccc\"\n",
    "    Explanation: Both 'c' and 'a' appear three times, so both \"cccaaa\" and \"aaaccc\" are valid answers.\n",
    "    Note that \"cacaca\" is incorrect, as the same characters must be together.\n",
    "Example 3:\n",
    "\n",
    "    Input: s = \"Aabb\"\n",
    "    Output: \"bbAa\"\n",
    "    Explanation: \"bbaA\" is also a valid answer, but \"Aabb\" is incorrect.\n",
    "    Note that 'A' and 'a' are treated as two different characters.\n",
    " \n",
    "\n",
    "Constraints:\n",
    "\n",
    "    1 <= s.length <= 5 * 105\n",
    "    s consists of uppercase and lowercase English letters and digits."
   ]
  },
  {
   "cell_type": "markdown",
   "id": "74aac884",
   "metadata": {},
   "source": [
    "### Approach:\n",
    "Take the frequency of each character by using hashmap. Carete a list with frequency and character. Sort the list in reverse order. Create an output string by iterating the list and by using the frequency of each character."
   ]
  },
  {
   "cell_type": "code",
   "execution_count": 6,
   "id": "4cce54c7",
   "metadata": {},
   "outputs": [],
   "source": [
    "def frequencySort(s):\n",
    "    temp  = {}\n",
    "    for c in s:\n",
    "        temp[c] = temp.get(c, 0) + 1\n",
    "\n",
    "    tempList = [(freq, c) for c, freq in temp.items()]\n",
    "    tempList.sort(reverse=True)\n",
    "    output = \"\"\n",
    "    for freq, c in tempList:\n",
    "        while freq:\n",
    "            output += c\n",
    "            freq -= 1\n",
    "    return output"
   ]
  },
  {
   "cell_type": "code",
   "execution_count": 7,
   "id": "6e69a305",
   "metadata": {},
   "outputs": [
    {
     "data": {
      "text/plain": [
       "'cccaaa'"
      ]
     },
     "execution_count": 7,
     "metadata": {},
     "output_type": "execute_result"
    }
   ],
   "source": [
    "s = \"cccaaa\"\n",
    "frequencySort(s)"
   ]
  },
  {
   "cell_type": "code",
   "execution_count": 8,
   "id": "26304eb3",
   "metadata": {},
   "outputs": [
    {
     "data": {
      "text/plain": [
       "'bbaA'"
      ]
     },
     "execution_count": 8,
     "metadata": {},
     "output_type": "execute_result"
    }
   ],
   "source": [
    "s = \"Aabb\"\n",
    "frequencySort(s)"
   ]
  },
  {
   "cell_type": "code",
   "execution_count": null,
   "id": "481b3e29",
   "metadata": {},
   "outputs": [],
   "source": []
  }
 ],
 "metadata": {
  "kernelspec": {
   "display_name": "Python 3",
   "language": "python",
   "name": "python3"
  },
  "language_info": {
   "codemirror_mode": {
    "name": "ipython",
    "version": 3
   },
   "file_extension": ".py",
   "mimetype": "text/x-python",
   "name": "python",
   "nbconvert_exporter": "python",
   "pygments_lexer": "ipython3",
   "version": "3.8.8"
  }
 },
 "nbformat": 4,
 "nbformat_minor": 5
}
