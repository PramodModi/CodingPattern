{
 "cells": [
  {
   "cell_type": "markdown",
   "id": "b8119282",
   "metadata": {},
   "source": [
    "## Problem: Rearrange String\n",
    "\n",
    "Given a string, find if its letters can be rearranged in such a way that no two same characters come next to each other.\n",
    "\n",
    "Example 1:\n",
    "\n",
    "    Input: \"aappp\"\n",
    "    Output: \"papap\"\n",
    "    Explanation: In \"papap\", none of the repeating characters come next to each other.\n",
    "Example 2:\n",
    "\n",
    "    Input: \"Programming\"\n",
    "    Output: \"rgmrgmPiano\" or \"gmringmrPoa\" or \"gmrPagimnor\", etc.\n",
    "    Explanation: None of the repeating characters come next to each other.\n",
    "Example 3:\n",
    "\n",
    "    Input: \"aapa\"\n",
    "    Output: \"\"\n",
    "    Explanation: In all arrangements of \"aapa\", atleast two 'a' will come together e.g"
   ]
  },
  {
   "cell_type": "markdown",
   "id": "40d0f167",
   "metadata": {},
   "source": [
    "### Approach:\n",
    "First of all calculate the frequency of each letter. Now start placing each letter 1 distance apart. For that, we will start from highest frequency element. So, create a list having frequency and letter, sort the list in reverse order. Create output list with length of given string. Iterate the list, run while loop till frequency of letter, and insert it in the output list at the position index (start from zero), new position = index + 2. Before inserting in to output list, check if previous letter is same as inserting letter, if yes, then return empty string. Once index reaches to length of string, then reset the index to 1. Index will start from 0 at the begining, so it will reset to 1 when index reaches to end of string. Return the output as a string.\n"
   ]
  },
  {
   "cell_type": "code",
   "execution_count": 38,
   "id": "0ed6e75d",
   "metadata": {},
   "outputs": [],
   "source": [
    "def rearrangeString(string):\n",
    "    temp = {}\n",
    "    for c in string:\n",
    "        temp[c] = temp.get(c, 0) + 1\n",
    "    tempList = [(freq, c) for c, freq in temp.items()]\n",
    "    tempList.sort(reverse=True)\n",
    "    \n",
    "    output = [\"\"]* len(string)\n",
    "    index = 0\n",
    "    for freq, c in tempList:\n",
    "        while freq>0:\n",
    "            if index > 0 and output[index-1] == c:\n",
    "                return \"\"\n",
    "            output[index] = c\n",
    "            freq -= 1\n",
    "            index += 2\n",
    "            if index >= len(string): index = 1\n",
    "    return \"\".join(output)\n",
    "    \n",
    "        "
   ]
  },
  {
   "cell_type": "code",
   "execution_count": 27,
   "id": "658f664d",
   "metadata": {},
   "outputs": [
    {
     "data": {
      "text/plain": [
       "'papap'"
      ]
     },
     "execution_count": 27,
     "metadata": {},
     "output_type": "execute_result"
    }
   ],
   "source": [
    "rearrangeString(\"aappp\")"
   ]
  },
  {
   "cell_type": "code",
   "execution_count": 28,
   "id": "34b512c6",
   "metadata": {},
   "outputs": [
    {
     "data": {
      "text/plain": [
       "'rornmimagPg'"
      ]
     },
     "execution_count": 28,
     "metadata": {},
     "output_type": "execute_result"
    }
   ],
   "source": [
    "rearrangeString(\"Programming\")"
   ]
  },
  {
   "cell_type": "code",
   "execution_count": 29,
   "id": "c4c01567",
   "metadata": {},
   "outputs": [
    {
     "data": {
      "text/plain": [
       "'vovlv'"
      ]
     },
     "execution_count": 29,
     "metadata": {},
     "output_type": "execute_result"
    }
   ],
   "source": [
    "rearrangeString(\"vvvlo\")"
   ]
  },
  {
   "cell_type": "code",
   "execution_count": 30,
   "id": "a52b4e15",
   "metadata": {},
   "outputs": [
    {
     "data": {
      "text/plain": [
       "''"
      ]
     },
     "execution_count": 30,
     "metadata": {},
     "output_type": "execute_result"
    }
   ],
   "source": [
    "rearrangeString(\"vvvl\")"
   ]
  },
  {
   "cell_type": "code",
   "execution_count": null,
   "id": "f2fa5b19",
   "metadata": {},
   "outputs": [],
   "source": []
  }
 ],
 "metadata": {
  "kernelspec": {
   "display_name": "Python 3",
   "language": "python",
   "name": "python3"
  },
  "language_info": {
   "codemirror_mode": {
    "name": "ipython",
    "version": 3
   },
   "file_extension": ".py",
   "mimetype": "text/x-python",
   "name": "python",
   "nbconvert_exporter": "python",
   "pygments_lexer": "ipython3",
   "version": "3.8.8"
  }
 },
 "nbformat": 4,
 "nbformat_minor": 5
}
