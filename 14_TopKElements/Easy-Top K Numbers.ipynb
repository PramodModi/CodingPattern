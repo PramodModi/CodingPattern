{
 "cells": [
  {
   "cell_type": "markdown",
   "id": "25d70bc5",
   "metadata": {},
   "source": [
    "## Problem: Top K Numbers\n",
    "Given an unsorted array of numbers, find the ‘K’ largest numbers in it.\n",
    "\n",
    "\n",
    "Example 1:\n",
    "\n",
    "    Input: [3, 1, 5, 12, 2, 11], K = 3\n",
    "    Output: [5, 12, 11]\n",
    "Example 2:\n",
    "\n",
    "    Input: [5, 12, 11, -1, 12], K = 3\n",
    "    Output: [12, 11, 12]"
   ]
  },
  {
   "cell_type": "markdown",
   "id": "b37a952a",
   "metadata": {},
   "source": [
    "### Approach:\n",
    "Use min heap. Push the elements from array to min heap. Once min heap size is greater than k, remove the element from heap, it will pop minimum elelment. At the end top k element would be in the heap."
   ]
  },
  {
   "cell_type": "code",
   "execution_count": 9,
   "id": "289b4212",
   "metadata": {},
   "outputs": [],
   "source": [
    "import heapq\n",
    "def topKNmber(nums, k):\n",
    "    heap = []\n",
    "    for i in range(len(nums)):\n",
    "        heapq.heappush(heap, nums[i])\n",
    "        if len(heap) > k:\n",
    "            heapq.heappop(heap)\n",
    "    result = []\n",
    "    while heap:\n",
    "        result.append(heapq.heappop(heap))\n",
    "        \n",
    "    return result\n",
    "        \n",
    "    "
   ]
  },
  {
   "cell_type": "code",
   "execution_count": 10,
   "id": "032f35e0",
   "metadata": {},
   "outputs": [
    {
     "data": {
      "text/plain": [
       "[5, 11, 12]"
      ]
     },
     "execution_count": 10,
     "metadata": {},
     "output_type": "execute_result"
    }
   ],
   "source": [
    "nums = [3, 1, 5, 12, 2, 11]\n",
    "k = 3\n",
    "topKNmber(nums, k)\n"
   ]
  },
  {
   "cell_type": "code",
   "execution_count": 11,
   "id": "d17de769",
   "metadata": {},
   "outputs": [
    {
     "data": {
      "text/plain": [
       "[11, 12, 12]"
      ]
     },
     "execution_count": 11,
     "metadata": {},
     "output_type": "execute_result"
    }
   ],
   "source": [
    "nums = [5, 12, 11, -1, 12]\n",
    "k = 3\n",
    "topKNmber(nums, k)"
   ]
  },
  {
   "cell_type": "code",
   "execution_count": null,
   "id": "875124d9",
   "metadata": {},
   "outputs": [],
   "source": []
  }
 ],
 "metadata": {
  "kernelspec": {
   "display_name": "Python 3",
   "language": "python",
   "name": "python3"
  },
  "language_info": {
   "codemirror_mode": {
    "name": "ipython",
    "version": 3
   },
   "file_extension": ".py",
   "mimetype": "text/x-python",
   "name": "python",
   "nbconvert_exporter": "python",
   "pygments_lexer": "ipython3",
   "version": "3.8.8"
  }
 },
 "nbformat": 4,
 "nbformat_minor": 5
}
