{
 "cells": [
  {
   "cell_type": "markdown",
   "id": "9695b462",
   "metadata": {},
   "source": [
    "## Problem: Kth Smallest Number\n",
    "\n",
    "Given an unsorted array of numbers, find Kth smallest number in it.\n",
    "\n",
    "Please note that it is the Kth smallest number in the sorted order, not the Kth distinct element.\n",
    "\n",
    "Note: For a detailed discussion about different approaches to solve this problem, take a look at Kth Smallest Number.\n",
    "\n",
    "Example 1:\n",
    "\n",
    "    Input: [1, 5, 12, 2, 11, 5], K = 3\n",
    "    Output: 5\n",
    "    Explanation: The 3rd smallest number is '5', as the first two smaller numbers are [1, 2].\n",
    "Example 2:\n",
    "\n",
    "    Input: [1, 5, 12, 2, 11, 5], K = 4\n",
    "    Output: 5"
   ]
  },
  {
   "cell_type": "markdown",
   "id": "ddad50bb",
   "metadata": {},
   "source": [
    "### Approach: Quick Select Approach\n",
    "We will take quick select approach. O(n)\n",
    "First, we need to choose so-called pivot and partition element of nums into 3 parts: elements, smaller than pivot (left part), equal to pivot (middle part) and greater than pivot (right part). (sometimes two groups enough: less and more or equal)\n",
    "Next step is to see how many elements we have in each group: if k <= L, where L is size of left, than we can be sure that we need to look into the left part. If k > L + M, where M is size of mid group, than we can be sure, that we need to look into the right part. Finally, if none of these two condition holds, we need to look in the mid part, but because all elements there are equal, we can immedietly return mid[0]."
   ]
  },
  {
   "cell_type": "code",
   "execution_count": 12,
   "id": "81f07ffb",
   "metadata": {},
   "outputs": [],
   "source": [
    "def kthSmallestNumber(nums, k):\n",
    "    if not nums:\n",
    "        return -1\n",
    "    p = nums[0]\n",
    "    left = [n for n in nums if n < p ]\n",
    "    mid = [n for n in nums if n == p]\n",
    "    right = [n for n in nums if n >p]\n",
    "    \n",
    "    l = len(left)\n",
    "    m = len(mid)\n",
    "     \n",
    "    if k <= l:\n",
    "        return kthSmallestNumber(left, k)\n",
    "    if k > (l+m):\n",
    "        return kthSmallestNumber(right, k - (l+m))\n",
    "    return mid[0]\n",
    "        \n",
    "    \n",
    "    "
   ]
  },
  {
   "cell_type": "code",
   "execution_count": 10,
   "id": "f943eb83",
   "metadata": {},
   "outputs": [
    {
     "data": {
      "text/plain": [
       "5"
      ]
     },
     "execution_count": 10,
     "metadata": {},
     "output_type": "execute_result"
    }
   ],
   "source": [
    "nums = [1, 5, 12, 2, 11, 5]\n",
    "k = 3\n",
    "kthSmallestNumber(nums, k)"
   ]
  },
  {
   "cell_type": "code",
   "execution_count": 11,
   "id": "593c526a",
   "metadata": {},
   "outputs": [
    {
     "data": {
      "text/plain": [
       "5"
      ]
     },
     "execution_count": 11,
     "metadata": {},
     "output_type": "execute_result"
    }
   ],
   "source": [
    "nums = [1, 5, 12, 2, 11, 5]\n",
    "k = 4\n",
    "kthSmallestNumber(nums, k)"
   ]
  },
  {
   "cell_type": "code",
   "execution_count": null,
   "id": "e0f42717",
   "metadata": {},
   "outputs": [],
   "source": []
  }
 ],
 "metadata": {
  "kernelspec": {
   "display_name": "Python 3",
   "language": "python",
   "name": "python3"
  },
  "language_info": {
   "codemirror_mode": {
    "name": "ipython",
    "version": 3
   },
   "file_extension": ".py",
   "mimetype": "text/x-python",
   "name": "python",
   "nbconvert_exporter": "python",
   "pygments_lexer": "ipython3",
   "version": "3.8.8"
  }
 },
 "nbformat": 4,
 "nbformat_minor": 5
}
