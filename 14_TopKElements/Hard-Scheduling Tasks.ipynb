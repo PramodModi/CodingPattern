{
 "cells": [
  {
   "cell_type": "markdown",
   "id": "70b05a78",
   "metadata": {},
   "source": [
    "## Program: Scheduling Tasks\n",
    "621. Task Scheduler\n",
    "\n",
    "https://leetcode.com/problems/task-scheduler/\n",
    "\n",
    "Given a characters array tasks, representing the tasks a CPU needs to do, where each letter represents a different task. Tasks could be done in any order. Each task is done in one unit of time. For each unit of time, the CPU could complete either one task or just be idle.\n",
    "\n",
    "However, there is a non-negative integer n that represents the cooldown period between two same tasks (the same letter in the array), that is that there must be at least n units of time between any two same tasks.\n",
    "\n",
    "Return the least number of units of times that the CPU will take to finish all the given tasks.\n",
    "\n",
    " \n",
    "\n",
    "Example 1:\n",
    "\n",
    "    Input: tasks = [\"A\",\"A\",\"A\",\"B\",\"B\",\"B\"], n = 2\n",
    "    Output: 8\n",
    "    Explanation: \n",
    "    A -> B -> idle -> A -> B -> idle -> A -> B\n",
    "    There is at least 2 units of time between any two same tasks.\n",
    "Example 2:\n",
    "\n",
    "    Input: tasks = [\"A\",\"A\",\"A\",\"B\",\"B\",\"B\"], n = 0\n",
    "    Output: 6\n",
    "    Explanation: On this case any permutation of size 6 would work since n = 0.\n",
    "    [\"A\",\"A\",\"A\",\"B\",\"B\",\"B\"]\n",
    "    [\"A\",\"B\",\"A\",\"B\",\"A\",\"B\"]\n",
    "    [\"B\",\"B\",\"B\",\"A\",\"A\",\"A\"]\n",
    "    ...\n",
    "    And so on.\n",
    "Example 3:\n",
    "\n",
    "    Input: tasks = [\"A\",\"A\",\"A\",\"A\",\"A\",\"A\",\"B\",\"C\",\"D\",\"E\",\"F\",\"G\"], n = 2\n",
    "    Output: 16\n",
    "    Explanation: \n",
    "    One possible solution is\n",
    "    A -> B -> C -> A -> D -> E -> A -> F -> G -> A -> idle -> idle -> A -> idle -> idle -> A\n",
    " \n",
    "\n",
    "Constraints:\n",
    "\n",
    "    1 <= task.length <= 104\n",
    "    tasks[i] is upper-case English letter.\n",
    "    The integer n is in the range [0, 100]."
   ]
  },
  {
   "cell_type": "markdown",
   "id": "5b117c09",
   "metadata": {},
   "source": [
    "### Approach:\n",
    "The idea is to run the heighest frequency task first. So, will calculate the requency of each task.\n",
    "Put in max heap, based on the frequency. Pull out highest frequency task first, reduce the frequency.\n",
    "Now, since it has to wait till cooling period, so keep in queue with additional attribute that is time. Time = current time + cooling period. Here currrent time is iteration count.\n",
    "Once iteration count is equal to time of task in queue, remove it and put back into max heap."
   ]
  },
  {
   "cell_type": "code",
   "execution_count": 4,
   "id": "1b55480d",
   "metadata": {},
   "outputs": [],
   "source": [
    "from collections import Counter\n",
    "from collections import deque\n",
    "import heapq as hq\n",
    "def taskScheduling(tasks, n):\n",
    "    \n",
    "    totalTime = 0\n",
    "    temp = Counter(tasks)\n",
    "    maxHeap = [-value for value in temp.values()]\n",
    "    hq.heapify(maxHeap)\n",
    "    q = deque()\n",
    "    \n",
    "    while q or maxHeap:\n",
    "        totalTime += 1\n",
    "        if maxHeap:\n",
    "            task = hq.heappop(maxHeap)\n",
    "            task = 1 + task # Reduce by 1, as heap will return negative value so added 1.\n",
    "            if task:\n",
    "                q.append((task, totalTime+n))\n",
    "        if q and q[0][1] == totalTime:\n",
    "            hq.heappush(maxHeap, q.popleft()[0])\n",
    "    return totalTime"
   ]
  },
  {
   "cell_type": "code",
   "execution_count": 5,
   "id": "053bcf11",
   "metadata": {},
   "outputs": [
    {
     "data": {
      "text/plain": [
       "8"
      ]
     },
     "execution_count": 5,
     "metadata": {},
     "output_type": "execute_result"
    }
   ],
   "source": [
    "tasks = [\"A\",\"A\",\"A\",\"B\",\"B\",\"B\"]\n",
    "n = 2\n",
    "taskScheduling(tasks, n)"
   ]
  },
  {
   "cell_type": "code",
   "execution_count": null,
   "id": "5e628be8",
   "metadata": {},
   "outputs": [],
   "source": []
  }
 ],
 "metadata": {
  "kernelspec": {
   "display_name": "Python 3",
   "language": "python",
   "name": "python3"
  },
  "language_info": {
   "codemirror_mode": {
    "name": "ipython",
    "version": 3
   },
   "file_extension": ".py",
   "mimetype": "text/x-python",
   "name": "python",
   "nbconvert_exporter": "python",
   "pygments_lexer": "ipython3",
   "version": "3.8.8"
  }
 },
 "nbformat": 4,
 "nbformat_minor": 5
}
