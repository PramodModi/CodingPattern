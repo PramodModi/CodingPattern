{
 "cells": [
  {
   "cell_type": "markdown",
   "id": "d979326d",
   "metadata": {},
   "source": [
    "## Problem: Find K Closest Elements\n",
    "LeetCode: 658. Find K Closest Elements\n",
    "\n",
    "https://leetcode.com/problems/find-k-closest-elements/description/\n",
    "\n",
    "Given a sorted integer array arr, two integers k and x, return the k closest integers to x in the array. The result should also be sorted in ascending order.\n",
    "\n",
    "An integer a is closer to x than an integer b if:\n",
    "\n",
    "    |a - x| < |b - x|, or\n",
    "    |a - x| == |b - x| and a < b\n",
    "\n",
    "\n",
    "Example 1:\n",
    "\n",
    "    Input: arr = [1,2,3,4,5], k = 4, x = 3\n",
    "    Output: [1,2,3,4]\n",
    "Example 2:\n",
    "\n",
    "    Input: arr = [1,2,3,4,5], k = 4, x = -1\n",
    "    Output: [1,2,3,4]\n",
    " \n",
    "\n",
    "Constraints:\n",
    "\n",
    "    1 <= k <= arr.length\n",
    "    1 <= arr.length <= 104\n",
    "    arr is sorted in ascending order.\n",
    "    -104 <= arr[i], x <= 104"
   ]
  },
  {
   "cell_type": "markdown",
   "id": "bed138c3",
   "metadata": {},
   "source": [
    "### Approach:\n",
    "Since array is sorted, we will use two pointers, left will start from 0 and right = len(arr)-k.\n",
    "The idea here is to find the start index (left) and end index (left+k).\n",
    "\n",
    "On each iteration, check if the (x- arr[mid]) is greater than (arr[mid+k]-x), that means right side of mid is closer than x, so move left to mid+1, otherwise left side of mid is closer to x so move right to mid.\n",
    "\n",
    "Return arr[left, left+k]"
   ]
  },
  {
   "cell_type": "code",
   "execution_count": 13,
   "id": "456ddf39",
   "metadata": {},
   "outputs": [],
   "source": [
    "def findClosestElements(arr, k, x):\n",
    "    l, r = 0, len(arr)-k\n",
    "    \n",
    "    while l < r:\n",
    "        mid = l+(r-l)//2\n",
    "        if x-arr[mid] >arr[mid+k] - x:\n",
    "            l = mid+1\n",
    "        else:\n",
    "            r = mid\n",
    "    return arr[l:l+k]\n",
    "    "
   ]
  },
  {
   "cell_type": "code",
   "execution_count": 14,
   "id": "fda40412",
   "metadata": {},
   "outputs": [
    {
     "data": {
      "text/plain": [
       "[1, 2, 3, 4]"
      ]
     },
     "execution_count": 14,
     "metadata": {},
     "output_type": "execute_result"
    }
   ],
   "source": [
    "arr = [1,2,3,4,5]\n",
    "k = 4\n",
    "x = 3\n",
    "findClosestElements(arr, k, x)"
   ]
  },
  {
   "cell_type": "code",
   "execution_count": null,
   "id": "6103f208",
   "metadata": {},
   "outputs": [],
   "source": []
  }
 ],
 "metadata": {
  "kernelspec": {
   "display_name": "Python 3",
   "language": "python",
   "name": "python3"
  },
  "language_info": {
   "codemirror_mode": {
    "name": "ipython",
    "version": 3
   },
   "file_extension": ".py",
   "mimetype": "text/x-python",
   "name": "python",
   "nbconvert_exporter": "python",
   "pygments_lexer": "ipython3",
   "version": "3.8.8"
  }
 },
 "nbformat": 4,
 "nbformat_minor": 5
}
