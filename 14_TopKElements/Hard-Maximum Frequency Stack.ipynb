{
 "cells": [
  {
   "cell_type": "markdown",
   "id": "b1ab4a7d",
   "metadata": {},
   "source": [
    "## Problem: Maximum Frequency Stack\n",
    "LeetCode: 895. Maximum Frequency Stack\n",
    "\n",
    "Design a stack-like data structure to push elements to the stack and pop the most frequent element from the stack.\n",
    "\n",
    "Implement the FreqStack class:\n",
    "\n",
    "    FreqStack() constructs an empty frequency stack.\n",
    "    void push(int val) pushes an integer val onto the top of the stack.\n",
    "    int pop() removes and returns the most frequent element in the stack.\n",
    "    If there is a tie for the most frequent element, the element closest to the stack's top is removed and returned.\n",
    " \n",
    "\n",
    "Example 1:\n",
    "\n",
    "    Input\n",
    "    [\"FreqStack\", \"push\", \"push\", \"push\", \"push\", \"push\", \"push\", \"pop\", \"pop\", \"pop\", \"pop\"]\n",
    "    [[], [5], [7], [5], [7], [4], [5], [], [], [], []]\n",
    "    Output\n",
    "    [null, null, null, null, null, null, null, 5, 7, 5, 4]\n",
    "\n",
    "    Explanation\n",
    "    FreqStack freqStack = new FreqStack();\n",
    "    freqStack.push(5); // The stack is [5]\n",
    "    freqStack.push(7); // The stack is [5,7]\n",
    "    freqStack.push(5); // The stack is [5,7,5]\n",
    "    freqStack.push(7); // The stack is [5,7,5,7]\n",
    "    freqStack.push(4); // The stack is [5,7,5,7,4]\n",
    "    freqStack.push(5); // The stack is [5,7,5,7,4,5]\n",
    "    freqStack.pop();   // return 5, as 5 is the most frequent. The stack becomes [5,7,5,7,4].\n",
    "    freqStack.pop();   // return 7, as 5 and 7 is the most frequent, but 7 is closest to the top. The stack becomes [5,7,5,4].\n",
    "    freqStack.pop();   // return 5, as 5 is the most frequent. The stack becomes [5,7,4].\n",
    "    freqStack.pop();   // return 4, as 4, 5 and 7 is the most frequent, but 4 is closest to the top. The stack becomes [5,7]."
   ]
  },
  {
   "cell_type": "markdown",
   "id": "746c79ac",
   "metadata": {},
   "source": [
    "### Approach:\n",
    "\n",
    "First of all we have to have frequency of comming number. Use hash map to keep the frequency.\n",
    "Use list for stacking the frequencies, so that heighest frequency should be on top of stack.\n",
    "So, initialize hashmap and a list in the constructor.\n",
    "\n",
    "In push method: Keep track of frequency by usinh hashmap. We will use frequency as the index of stack, as frequency will start from 1 then 2, 3 and so on. At the 0th position will put 0 during list initialization.\n",
    "Insert the value in the stack at position of frequency. If length of frequency is less than length of stack, that means some number is already inserted at this position. So, append the new number at the same frequency. Yes, we will insert list at every position in the stack (2-D stack). If number with existing frequency comes, it will be appended in exsting frequency position, otherwise insert a list with number.\n",
    "\n",
    "In pop method: Take the top element from stack (do not pop). You will get list of numbers, popout last number. if the list size is zero then pop the list from stack, if not then no need to pop.\n",
    "Reduce the frequency of number from hashmap.\n",
    "Return the number."
   ]
  },
  {
   "cell_type": "code",
   "execution_count": 1,
   "id": "7be2f364",
   "metadata": {},
   "outputs": [],
   "source": [
    "class FreqStack:\n",
    "\n",
    "    def __init__(self):\n",
    "        self.counter = {}\n",
    "        self.stack = [0]\n",
    "        \n",
    "\n",
    "    def push(self, val: int) -> None:\n",
    "        self.counter[val] = self.counter.get(val, 0) + 1\n",
    "        freq = self.counter[val]\n",
    "        if freq == len(self.stack):\n",
    "            self.stack.append([val])\n",
    "        else:\n",
    "            self.stack[freq].append(val)\n",
    "        \n",
    "\n",
    "    def pop(self) -> int:\n",
    "        valList = self.stack[-1]\n",
    "        val = valList.pop();\n",
    "        if not valList : self.stack.pop()\n",
    "        freq = self.counter[val]\n",
    "        self.counter[val] = freq - 1\n",
    "        return val"
   ]
  },
  {
   "cell_type": "code",
   "execution_count": 3,
   "id": "fdf4d14e",
   "metadata": {},
   "outputs": [
    {
     "name": "stdout",
     "output_type": "stream",
     "text": [
      "5\n",
      "7\n"
     ]
    }
   ],
   "source": [
    "obj = FreqStack()\n",
    "obj.push(5)\n",
    "obj.push(7)\n",
    "obj.push(5)\n",
    "obj.push(7)\n",
    "obj.push(4)\n",
    "obj.push(5)\n",
    "print(obj.pop())\n",
    "print(obj.pop())"
   ]
  },
  {
   "cell_type": "code",
   "execution_count": null,
   "id": "8c02b2fc",
   "metadata": {},
   "outputs": [],
   "source": []
  }
 ],
 "metadata": {
  "kernelspec": {
   "display_name": "Python 3",
   "language": "python",
   "name": "python3"
  },
  "language_info": {
   "codemirror_mode": {
    "name": "ipython",
    "version": 3
   },
   "file_extension": ".py",
   "mimetype": "text/x-python",
   "name": "python",
   "nbconvert_exporter": "python",
   "pygments_lexer": "ipython3",
   "version": "3.8.8"
  }
 },
 "nbformat": 4,
 "nbformat_minor": 5
}
