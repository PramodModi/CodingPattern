{
 "cells": [
  {
   "cell_type": "markdown",
   "id": "684cdebe",
   "metadata": {},
   "source": [
    "## Problem: Top K Frequent Numbers\n",
    "LeetCode: 347. Top K Frequent Elements\n",
    "\n",
    "https://leetcode.com/problems/top-k-frequent-elements/\n",
    "\n",
    "Given an integer array nums and an integer k, return the k most frequent elements. You may return the answer in any order.\n",
    "\n",
    " \n",
    "\n",
    "Example 1:\n",
    "\n",
    "    Input: nums = [1,1,1,2,2,3], k = 2\n",
    "    Output: [1,2]\n",
    "Example 2:\n",
    "\n",
    "    Input: nums = [1], k = 1\n",
    "    Output: [1]\n",
    " \n",
    "\n",
    "Constraints:\n",
    "\n",
    "    1 <= nums.length <= 105\n",
    "    -104 <= nums[i] <= 104\n",
    "    k is in the range [1, the number of unique elements in the array].\n",
    "    It is guaranteed that the answer is unique."
   ]
  },
  {
   "cell_type": "markdown",
   "id": "c502ada5",
   "metadata": {},
   "source": [
    "### Approach:\n",
    "\n",
    "This problems falls in Top K pattern. \n",
    "First of all, we need to find the frequency of each number. Use hashmap for calculating the frequency.\n",
    "Push frequency and number in the min heap. Heap will be populated based on the frequency.\n",
    "\n",
    "While pushing frequency in min heap, check the heap size. Once min heap size is greater than k, remove the element from heap, it will pop minimum elelment. At the end top k element would be in the heap.\n",
    "\n",
    "Output the top k frequent number, by returning numbers from heap."
   ]
  },
  {
   "cell_type": "code",
   "execution_count": 10,
   "id": "6b12f036",
   "metadata": {},
   "outputs": [],
   "source": [
    "import heapq\n",
    "def topKFrequent(nums, k):\n",
    "    temp = {}\n",
    "    for n in nums:\n",
    "        temp[n] = temp.get(n, 0) + 1\n",
    "    \n",
    "    heap = []\n",
    "    for n in temp.keys():\n",
    "        heapq.heappush(heap, (temp[n], n))\n",
    "        if len(heap) > k:\n",
    "            heapq.heappop(heap)\n",
    "    result = []\n",
    "    while heap:\n",
    "        result.append(heapq.heappop(heap)[1])\n",
    "    return result\n",
    "    "
   ]
  },
  {
   "cell_type": "code",
   "execution_count": 11,
   "id": "9c198cec",
   "metadata": {},
   "outputs": [
    {
     "data": {
      "text/plain": [
       "[2, 1]"
      ]
     },
     "execution_count": 11,
     "metadata": {},
     "output_type": "execute_result"
    }
   ],
   "source": [
    "nums = [1,1,1,2,2,3]\n",
    "k = 2\n",
    "topKFrequent(nums, k)"
   ]
  },
  {
   "cell_type": "code",
   "execution_count": 9,
   "id": "453edf80",
   "metadata": {},
   "outputs": [
    {
     "data": {
      "text/plain": [
       "[1]"
      ]
     },
     "execution_count": 9,
     "metadata": {},
     "output_type": "execute_result"
    }
   ],
   "source": [
    "nums = [1]\n",
    "k = 1\n",
    "topKFrequent(nums, k)"
   ]
  },
  {
   "cell_type": "code",
   "execution_count": null,
   "id": "aecfd018",
   "metadata": {},
   "outputs": [],
   "source": []
  }
 ],
 "metadata": {
  "kernelspec": {
   "display_name": "Python 3",
   "language": "python",
   "name": "python3"
  },
  "language_info": {
   "codemirror_mode": {
    "name": "ipython",
    "version": 3
   },
   "file_extension": ".py",
   "mimetype": "text/x-python",
   "name": "python",
   "nbconvert_exporter": "python",
   "pygments_lexer": "ipython3",
   "version": "3.8.8"
  }
 },
 "nbformat": 4,
 "nbformat_minor": 5
}
