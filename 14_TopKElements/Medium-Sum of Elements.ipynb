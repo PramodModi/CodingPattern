{
 "cells": [
  {
   "cell_type": "markdown",
   "id": "9b881f32",
   "metadata": {},
   "source": [
    "## Problem: Sum of Elements\n",
    "\n",
    "Given an array, find the sum of all numbers between the K1’th and K2’th smallest elements of that array.\n",
    "\n",
    "Example 1:\n",
    "\n",
    "    Input: [1, 3, 12, 5, 15, 11], and K1=3, K2=6\n",
    "    Output: 23\n",
    "    Explanation: The 3rd smallest number is 5 and 6th smallest number 15. The sum of numbers coming\n",
    "    between 5 and 15 is 23 (11+12).\n",
    "Example 2:\n",
    "\n",
    "    Input: [3, 5, 8, 7], and K1=1, K2=4\n",
    "    Output: 12\n",
    "    Explanation: The sum of the numbers between the 1st smallest number (3) and the 4th smallest \n",
    "    number (8) is 12 (5+7).\n"
   ]
  },
  {
   "cell_type": "markdown",
   "id": "97ff66b8",
   "metadata": {},
   "source": [
    "### Approach:\n",
    "The idea is to have k2 minimum elements in heap. pop elements from k2 to k1 from heap and add those.\n",
    "Will use maxHeap, keep adding elelments in heap. Pop out the element from heap, if heap size is more than k2.\n",
    "Now, we have heap having k2 minimum elements.\n",
    "\n",
    "Since we have to add elements between k1 to k2. That means we do not have to add element at K2 and at K1. So, first pop out k2 element from heap. Now we have po out k2-k1-1 elelments from heap and keep adding."
   ]
  },
  {
   "cell_type": "code",
   "execution_count": 17,
   "id": "b7507ecf",
   "metadata": {},
   "outputs": [],
   "source": [
    "import heapq\n",
    "def sumOfElements(nums, k1, k2):\n",
    "    heap = []\n",
    "    for n in nums:\n",
    "        heapq.heappush(heap, -n)\n",
    "        if len(heap) > k2:\n",
    "            heapq.heappop(heap)\n",
    "    heapq.heappop(heap)\n",
    "    elementSum = 0\n",
    "    numberOfElements = k2-k1-1\n",
    "    while heap and numberOfElements:\n",
    "        elementSum += (-heapq.heappop(heap))\n",
    "        numberOfElements -= 1\n",
    "    return elementSum\n",
    "        \n",
    "        \n",
    "        \n",
    "        \n",
    "    "
   ]
  },
  {
   "cell_type": "code",
   "execution_count": 18,
   "id": "cbab1549",
   "metadata": {},
   "outputs": [
    {
     "data": {
      "text/plain": [
       "23"
      ]
     },
     "execution_count": 18,
     "metadata": {},
     "output_type": "execute_result"
    }
   ],
   "source": [
    "nums = [1, 3, 12, 5, 15, 11]\n",
    "k1=3\n",
    "k2=6\n",
    "sumOfElements(nums, k1, k2)"
   ]
  },
  {
   "cell_type": "code",
   "execution_count": 19,
   "id": "a7f8f173",
   "metadata": {},
   "outputs": [
    {
     "data": {
      "text/plain": [
       "12"
      ]
     },
     "execution_count": 19,
     "metadata": {},
     "output_type": "execute_result"
    }
   ],
   "source": [
    "nums = [3, 5, 8, 7]\n",
    "k1=1\n",
    "k2=4\n",
    "sumOfElements(nums, k1, k2)"
   ]
  },
  {
   "cell_type": "code",
   "execution_count": 20,
   "id": "0b42431a",
   "metadata": {},
   "outputs": [
    {
     "data": {
      "text/plain": [
       "26"
      ]
     },
     "execution_count": 20,
     "metadata": {},
     "output_type": "execute_result"
    }
   ],
   "source": [
    "nums = [20, 8, 22, 4, 12, 10, 14]\n",
    "k1=3\n",
    "k2=6\n",
    "sumOfElements(nums, k1, k2)"
   ]
  },
  {
   "cell_type": "code",
   "execution_count": 21,
   "id": "3ba756a4",
   "metadata": {},
   "outputs": [
    {
     "data": {
      "text/plain": [
       "73"
      ]
     },
     "execution_count": 21,
     "metadata": {},
     "output_type": "execute_result"
    }
   ],
   "source": [
    "nums = [10, 2, 50, 12, 48, 13]\n",
    "k1=2\n",
    "k2=6\n",
    "sumOfElements(nums, k1, k2)"
   ]
  },
  {
   "cell_type": "code",
   "execution_count": null,
   "id": "4e0bb549",
   "metadata": {},
   "outputs": [],
   "source": []
  }
 ],
 "metadata": {
  "kernelspec": {
   "display_name": "Python 3",
   "language": "python",
   "name": "python3"
  },
  "language_info": {
   "codemirror_mode": {
    "name": "ipython",
    "version": 3
   },
   "file_extension": ".py",
   "mimetype": "text/x-python",
   "name": "python",
   "nbconvert_exporter": "python",
   "pygments_lexer": "ipython3",
   "version": "3.8.8"
  }
 },
 "nbformat": 4,
 "nbformat_minor": 5
}
