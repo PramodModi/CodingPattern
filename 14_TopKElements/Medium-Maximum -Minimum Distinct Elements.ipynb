{
 "cells": [
  {
   "cell_type": "markdown",
   "id": "e581e7a4",
   "metadata": {},
   "source": [
    "## Problem: Maximum Distinct Elements\n",
    "\n",
    "Given an array of numbers and a number ‘K’, we need to remove ‘K’ numbers from the array such that we are left with maximum distinct numbers.\n",
    "\n",
    "Example 1:\n",
    "\n",
    "    Input: [7, 3, 5, 8, 5, 3, 3], and K=2\n",
    "    Output: 3\n",
    "    Explanation: We can remove two occurrences of 3 to be left with 3 distinct numbers [7, 3, 8], we have \n",
    "    to skip 5 because it is not distinct and occurred twice. \n",
    "    Another solution could be to remove one instance of '5' and '3' each to be left with three distinct numbers [7, 5, 8], in this case, we have to skip 3 because it occurred twice."
   ]
  },
  {
   "cell_type": "markdown",
   "id": "6bf3b72e",
   "metadata": {},
   "source": [
    "### Approach:\n",
    "\n",
    "We need to have maximum distinct elements, with condition that, if there is an element having frequency more than one, that will not be considered distinct.\n",
    "So, to have maximum distinct element, we shold not remove element having frequency 1. Also, start removing elements whose frequency is smaller (more than 1). It will help to keep maximize number of distince element.\n",
    "\n",
    "Steps:\n",
    "\n",
    "    First calculate the frequency by using hashmap. \n",
    "    Create a tempList with frequency of a number and number itself as a pair.\n",
    "    Sort the tempList, based on Frequency\n",
    "    Iterate the tempList:\n",
    "        Keep removing the elements, whose frequency is greater than one and K is greater than zero.\n",
    "        Increase the count, if frequency is one.\n",
    "    return count."
   ]
  },
  {
   "cell_type": "code",
   "execution_count": 18,
   "id": "3b3e2465",
   "metadata": {},
   "outputs": [],
   "source": [
    "def maximumDistinctEelements(nums, k):\n",
    "    temp = {}\n",
    "    for n in nums:\n",
    "        temp[n] = temp.get(n, 0) + 1\n",
    "    \n",
    "    tempList = [(freq, n) for n, freq in temp.items()]\n",
    "    tempList.sort()\n",
    "    \n",
    "    count = 0\n",
    "    for freq, n in tempList:\n",
    "        while k and freq > 1:\n",
    "            freq -= 1\n",
    "            k -=1\n",
    "        if freq == 1:\n",
    "            count += 1\n",
    "    return count\n",
    "    \n",
    "            "
   ]
  },
  {
   "cell_type": "code",
   "execution_count": 19,
   "id": "9a24a057",
   "metadata": {},
   "outputs": [
    {
     "data": {
      "text/plain": [
       "3"
      ]
     },
     "execution_count": 19,
     "metadata": {},
     "output_type": "execute_result"
    }
   ],
   "source": [
    "nums = [7, 3, 5, 8, 5, 3, 3]\n",
    "k=2\n",
    "maximumDistinctEelements(nums, k)"
   ]
  },
  {
   "cell_type": "code",
   "execution_count": 20,
   "id": "b4e9db74",
   "metadata": {},
   "outputs": [
    {
     "data": {
      "text/plain": [
       "3"
      ]
     },
     "execution_count": 20,
     "metadata": {},
     "output_type": "execute_result"
    }
   ],
   "source": [
    "nums = [7, 3, 5, 8, 5,5, 3, 3]\n",
    "k=2\n",
    "maximumDistinctEelements(nums, k)"
   ]
  },
  {
   "cell_type": "markdown",
   "id": "442bc220",
   "metadata": {},
   "source": [
    "## Problem: Minimum Distinct Elements\n",
    "1481. Least Number of Unique Integers after K Removals\n",
    "\n",
    "https://leetcode.com/problems/least-number-of-unique-integers-after-k-removals/\n",
    "\n",
    "Given an array of integers arr and an integer k. Find the least number of unique integers after removing exactly k elements.\n",
    "\n",
    " \n",
    "\n",
    "Example 1:\n",
    "\n",
    "    Input: arr = [5,5,4], k = 1\n",
    "    Output: 1\n",
    "    Explanation: Remove the single 4, only 5 is left.\n",
    "Example 2:\n",
    "\n",
    "    Input: arr = [4,3,1,1,3,3,2], k = 3\n",
    "    Output: 2\n",
    "    Explanation: Remove 4, 2 and either one of the two 1s or three 3s. 1 and 3 will be left.\n",
    " \n",
    "\n",
    "Constraints:\n",
    "\n",
    "    1 <= arr.length <= 10^5\n",
    "    1 <= arr[i] <= 10^9\n",
    "    0 <= k <= arr.length"
   ]
  },
  {
   "cell_type": "markdown",
   "id": "77c2dee9",
   "metadata": {},
   "source": [
    "### Approach:\n",
    "\n",
    "We need to have maximum distinct elements, with condition that, if there is an element having frequency more than one, then count it only once. <b>(This is different then above)</b>\n",
    "So, to have maximum distinct element, we shold not remove element having frequency 1. Also, start removing elements whose frequency is smaller (more than 1). It will help to keep maximize number of distince element.\n",
    "\n",
    "Steps:\n",
    "\n",
    "    First calculate the frequency by using hashmap. \n",
    "    Create a tempList with frequency of a number and number itself as a pair.\n",
    "    Sort the tempList, based on Frequency\n",
    "    Iterate the tempList:\n",
    "        Keep removing the elements, whose frequency is greater than one and K is greater than zero.\n",
    "        Increase the count, if frequency is greater than zero.\n",
    "    return count."
   ]
  },
  {
   "cell_type": "code",
   "execution_count": 21,
   "id": "a2abfde8",
   "metadata": {},
   "outputs": [],
   "source": [
    "def minimumDistinctEelements(nums, k):\n",
    "    temp = {}\n",
    "    for n in nums:\n",
    "        temp[n] = temp.get(n, 0) + 1\n",
    "\n",
    "    tempList = [(freq, n) for n, freq in temp.items()]\n",
    "    tempList.sort()\n",
    "\n",
    "    count = 0\n",
    "    for f, n in tempList:\n",
    "        while f > 0 and k > 0:\n",
    "            f -= 1\n",
    "            k -=1 \n",
    "        if f > 0:\n",
    "            count += 1\n",
    "    return count"
   ]
  },
  {
   "cell_type": "code",
   "execution_count": 10,
   "id": "5993dbd0",
   "metadata": {},
   "outputs": [
    {
     "data": {
      "text/plain": [
       "1"
      ]
     },
     "execution_count": 10,
     "metadata": {},
     "output_type": "execute_result"
    }
   ],
   "source": [
    "nums =[5,5,4]\n",
    "k = 1\n",
    "minimumDistinctEelements(nums, k)"
   ]
  },
  {
   "cell_type": "code",
   "execution_count": 11,
   "id": "3d6c42a9",
   "metadata": {},
   "outputs": [
    {
     "data": {
      "text/plain": [
       "2"
      ]
     },
     "execution_count": 11,
     "metadata": {},
     "output_type": "execute_result"
    }
   ],
   "source": [
    "nums = [4,3,1,1,3,3,2]\n",
    "k = 3\n",
    "minimumDistinctEelements(nums, k)"
   ]
  },
  {
   "cell_type": "code",
   "execution_count": 12,
   "id": "d3380f1c",
   "metadata": {},
   "outputs": [
    {
     "data": {
      "text/plain": [
       "1"
      ]
     },
     "execution_count": 12,
     "metadata": {},
     "output_type": "execute_result"
    }
   ],
   "source": [
    "nums = [4,3,1,1,3,3,3]\n",
    "k = 4\n",
    "minimumDistinctEelements(nums, k)"
   ]
  },
  {
   "cell_type": "code",
   "execution_count": null,
   "id": "c54e1f19",
   "metadata": {},
   "outputs": [],
   "source": []
  }
 ],
 "metadata": {
  "kernelspec": {
   "display_name": "Python 3",
   "language": "python",
   "name": "python3"
  },
  "language_info": {
   "codemirror_mode": {
    "name": "ipython",
    "version": 3
   },
   "file_extension": ".py",
   "mimetype": "text/x-python",
   "name": "python",
   "nbconvert_exporter": "python",
   "pygments_lexer": "ipython3",
   "version": "3.8.8"
  }
 },
 "nbformat": 4,
 "nbformat_minor": 5
}
