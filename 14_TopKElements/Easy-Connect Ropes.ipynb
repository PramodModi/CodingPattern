{
 "cells": [
  {
   "cell_type": "markdown",
   "id": "cdc44bb7",
   "metadata": {},
   "source": [
    "## Problem: Connect Ropes\n",
    "https://leetcode.com/problems/minimum-cost-to-connect-sticks/\n",
    "\n",
    "Given ‘N’ ropes with different lengths, we need to connect these ropes into one big rope with minimum cost. The cost of connecting two ropes is equal to the sum of their lengths.\n",
    "\n",
    "Example 1:\n",
    "\n",
    "    Input: [1, 3, 11, 5]\n",
    "    Output: 33\n",
    "    Explanation: First connect 1+3(=4), then 4+5(=9), and then 9+11(=20). So the total cost is 33 (4+9+20)\n",
    "Example 2:\n",
    "\n",
    "    Input: [3, 4, 5, 6]\n",
    "    Output: 36\n",
    "    Explanation: First connect 3+4(=7), then 5+6(=11), 7+11(=18). Total cost is 36 (7+11+18)\n",
    "Example 3:\n",
    "\n",
    "    Input: [1, 3, 11, 5, 2]\n",
    "    Output: 42"
   ]
  },
  {
   "cell_type": "markdown",
   "id": "7194035a",
   "metadata": {},
   "source": [
    "### Approach: \n",
    "Minimum cost is possible only when minmum length of ropes are conneted. Important, after conneting two ropes, consider the new length of connected ropes, while connecting again two ropes.\n",
    "\n",
    "We will use min heap. Push all lengths to min heap. Take two ropes, connect and then push it back again to heap. Again take two ropes, repeat it till heap is empty.\n",
    "\n",
    "Add the cost after connecting each ropes. Also, before taking out second rope from heap, check if heap is not empty."
   ]
  },
  {
   "cell_type": "code",
   "execution_count": 15,
   "id": "8faa6eb3",
   "metadata": {},
   "outputs": [],
   "source": [
    "import heapq\n",
    "def minimumCostToConnectRopes(lengths):\n",
    "    heap = []\n",
    "    for l in lengths:\n",
    "        heapq.heappush(heap, l)\n",
    "    \n",
    "    \n",
    "    totalCost = 0\n",
    "    while heap:\n",
    "        cost = 0\n",
    "        firstRope = heapq.heappop(heap)\n",
    "        cost += firstRope\n",
    "        if heap:\n",
    "            secondRope = heapq.heappop(heap)\n",
    "            cost += secondRope    \n",
    "            heapq.heappush(heap,cost)\n",
    "            totalCost += cost\n",
    "    return totalCost\n",
    "        \n",
    "    "
   ]
  },
  {
   "cell_type": "code",
   "execution_count": 16,
   "id": "3daba0cb",
   "metadata": {},
   "outputs": [
    {
     "data": {
      "text/plain": [
       "33"
      ]
     },
     "execution_count": 16,
     "metadata": {},
     "output_type": "execute_result"
    }
   ],
   "source": [
    "lengths = [1, 3, 11, 5]\n",
    "minimumCostToConnectRopes(lengths)"
   ]
  },
  {
   "cell_type": "code",
   "execution_count": 17,
   "id": "a4422388",
   "metadata": {},
   "outputs": [
    {
     "data": {
      "text/plain": [
       "36"
      ]
     },
     "execution_count": 17,
     "metadata": {},
     "output_type": "execute_result"
    }
   ],
   "source": [
    "lengths = [3, 4, 5, 6]\n",
    "minimumCostToConnectRopes(lengths)"
   ]
  },
  {
   "cell_type": "code",
   "execution_count": 18,
   "id": "eaec8bc6",
   "metadata": {},
   "outputs": [
    {
     "data": {
      "text/plain": [
       "42"
      ]
     },
     "execution_count": 18,
     "metadata": {},
     "output_type": "execute_result"
    }
   ],
   "source": [
    "lengths = [1, 3, 11, 5, 2]\n",
    "minimumCostToConnectRopes(lengths)"
   ]
  },
  {
   "cell_type": "code",
   "execution_count": null,
   "id": "1db4f131",
   "metadata": {},
   "outputs": [],
   "source": []
  }
 ],
 "metadata": {
  "kernelspec": {
   "display_name": "Python 3",
   "language": "python",
   "name": "python3"
  },
  "language_info": {
   "codemirror_mode": {
    "name": "ipython",
    "version": 3
   },
   "file_extension": ".py",
   "mimetype": "text/x-python",
   "name": "python",
   "nbconvert_exporter": "python",
   "pygments_lexer": "ipython3",
   "version": "3.8.8"
  }
 },
 "nbformat": 4,
 "nbformat_minor": 5
}
