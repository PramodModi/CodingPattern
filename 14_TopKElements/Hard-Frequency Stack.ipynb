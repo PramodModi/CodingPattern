{
 "cells": [
  {
   "cell_type": "markdown",
   "id": "26a82f68",
   "metadata": {},
   "source": [
    "## Problem: Frequency Stack\n",
    "LeetCode: 895. Maximum Frequency Stack\n",
    "\n",
    "https://leetcode.com/problems/maximum-frequency-stack/description/\n",
    "\n",
    "Design a stack-like data structure to push elements to the stack and pop the most frequent element from the stack.\n",
    "\n",
    "Implement the FreqStack class:\n",
    "\n",
    "FreqStack() constructs an empty frequency stack.\n",
    "void push(int val) pushes an integer val onto the top of the stack.\n",
    "int pop() removes and returns the most frequent element in the stack.\n",
    "If there is a tie for the most frequent element, the element closest to the stack's top is removed and returned.\n",
    " \n",
    "\n",
    "Example 1:\n",
    "\n",
    "    Input\n",
    "    [\"FreqStack\", \"push\", \"push\", \"push\", \"push\", \"push\", \"push\", \"pop\", \"pop\", \"pop\", \"pop\"]\n",
    "    [[], [5], [7], [5], [7], [4], [5], [], [], [], []]\n",
    "    Output\n",
    "    [null, null, null, null, null, null, null, 5, 7, 5, 4]\n",
    "\n",
    "    Explanation\n",
    "    FreqStack freqStack = new FreqStack();\n",
    "    freqStack.push(5); // The stack is [5]\n",
    "    freqStack.push(7); // The stack is [5,7]\n",
    "    freqStack.push(5); // The stack is [5,7,5]\n",
    "    freqStack.push(7); // The stack is [5,7,5,7]\n",
    "    freqStack.push(4); // The stack is [5,7,5,7,4]\n",
    "    freqStack.push(5); // The stack is [5,7,5,7,4,5]\n",
    "    freqStack.pop();   // return 5, as 5 is the most frequent. The stack becomes [5,7,5,7,4].\n",
    "    freqStack.pop();   // return 7, as 5 and 7 is the most frequent, but 7 is closest to the top. The stack becomes [5,7,5,4].\n",
    "    freqStack.pop();   // return 5, as 5 is the most frequent. The stack becomes [5,7,4].\n",
    "    freqStack.pop();   // return 4, as 4, 5 and 7 is the most frequent, but 4 is closest to the top. The stack becomes [5,7].\n",
    "\n",
    "\n",
    "Constraints:\n",
    "\n",
    "    0 <= val <= 109\n",
    "    At most 2 * 104 calls will be made to push and pop.\n",
    "    It is guaranteed that there will be at least one element in the stack before calling pop."
   ]
  },
  {
   "cell_type": "markdown",
   "id": "503a84f2",
   "metadata": {},
   "source": [
    "### Approach: \n",
    "\n",
    "To calculate frequency, will use Hahsmap. Whenever, a value will come for stack, map will return the frequency of that value. \n",
    "Store the value in stack at the position of frequency. Since frequency start from 1, so let the first frequency be zero. Frequency will start from 1, 2, 3 ... That means, new heighest frequency will be new entry in the stack, that means if frequency is equal to length of stack, that means it is new highest frequency, will be appended in stack. If not, means some value would be there in the stack for that frequency, so append this value against existing frequency.\n",
    "\n",
    "Stack will have two dimensional list. Value will be stored at index of frequency.\n",
    "\n",
    "While retrieving, get the value from top of stack (do not pop). It will return list of values at heighest frequency. Pop out the value from list. If list size is zero after popping out, then remove the list from stack as well (pop out). \n",
    "Reduce the frequency by 1 from map for that value.\n"
   ]
  },
  {
   "cell_type": "code",
   "execution_count": 1,
   "id": "7f01036d",
   "metadata": {},
   "outputs": [],
   "source": [
    "class FreqStack:\n",
    "\n",
    "    def __init__(self):\n",
    "        self.counter = {}\n",
    "        self.stack = [0]\n",
    "        \n",
    "\n",
    "    def push(self, val: int) -> None:\n",
    "        self.counter[val] = self.counter.get(val, 0) + 1\n",
    "        freq = self.counter[val]\n",
    "        if freq == len(self.stack):\n",
    "            self.stack.append([val])\n",
    "        else:\n",
    "            self.stack[freq].append(val)\n",
    "        \n",
    "\n",
    "    def pop(self) -> int:\n",
    "        valList = self.stack[-1]\n",
    "        val = valList.pop();\n",
    "        if not valList : self.stack.pop()\n",
    "        freq = self.counter[val]\n",
    "        self.counter[val] = freq - 1\n",
    "        return val\n",
    "        "
   ]
  },
  {
   "cell_type": "code",
   "execution_count": 3,
   "id": "b2e6b3f5",
   "metadata": {},
   "outputs": [
    {
     "name": "stdout",
     "output_type": "stream",
     "text": [
      "5\n",
      "7\n"
     ]
    }
   ],
   "source": [
    "obj = FreqStack()\n",
    "obj.push(5)\n",
    "obj.push(7)\n",
    "obj.push(5)\n",
    "obj.push(7)\n",
    "obj.push(4)\n",
    "obj.push(5)\n",
    "print(obj.pop())\n",
    "print(obj.pop())"
   ]
  },
  {
   "cell_type": "code",
   "execution_count": null,
   "id": "3d8f1483",
   "metadata": {},
   "outputs": [],
   "source": []
  }
 ],
 "metadata": {
  "kernelspec": {
   "display_name": "Python 3",
   "language": "python",
   "name": "python3"
  },
  "language_info": {
   "codemirror_mode": {
    "name": "ipython",
    "version": 3
   },
   "file_extension": ".py",
   "mimetype": "text/x-python",
   "name": "python",
   "nbconvert_exporter": "python",
   "pygments_lexer": "ipython3",
   "version": "3.8.8"
  }
 },
 "nbformat": 4,
 "nbformat_minor": 5
}
