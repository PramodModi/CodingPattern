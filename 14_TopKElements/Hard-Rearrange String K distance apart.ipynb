{
 "cells": [
  {
   "cell_type": "markdown",
   "id": "7062aa43",
   "metadata": {},
   "source": [
    "## Problem: Rearrange String K distance apart\n",
    "\n",
    "https://leetcode.com/problems/rearrange-string-k-distance-apart/\n",
    "\n",
    "Given a string and a number ‘K’, find if the string can be rearranged such that the same characters are at least ‘K’ distance apart from each other.\n",
    "\n",
    "Example 1:\n",
    "\n",
    "    Input: \"mmpp\", K=2\n",
    "    Output: \"mpmp\" or \"pmpm\"\n",
    "    Explanation: All same characters are 2 distance apart.\n",
    "Example 2:\n",
    "\n",
    "    Input: \"Programming\", K=3\n",
    "    Output: \"rgmPrgmiano\" or \"gmringmrPoa\" or \"gmrPagimnor\" and a few more  \n",
    "    Explanation: All same characters are 3 distance apart.\n",
    "Example 3:\n",
    "\n",
    "    Input: \"aab\", K=2\n",
    "    Output: \"aba\"\n",
    "    Explanation: All same characters are 2 distance apart."
   ]
  },
  {
   "cell_type": "markdown",
   "id": "75a0ec5a",
   "metadata": {},
   "source": [
    "### Approach:\n",
    "\n",
    "First of all calculate the frequency of each letter. Now start placing each letter k distance apart. For that, we will start from highest frequency element. So, create a list having frequency and letter, sort the list in reverse order. \n",
    "Create output list with length of given string.\n",
    "Iterate the list, run while loop till frequency of letter, and insert it in the output list at the position index (start from zero), new position = index + k.  Before inserting in to output list, check if previous letter is same as inserting letter, if yes, then return  empty string.\n",
    "Once index reaches to length of string, then reset the index by increasing it by one where it started last time. Index will start from 0 at the begining, so it will reset to 1, on next it will reset to 2 and so on.\n",
    "Return the output as a string.\n",
    "\n",
    "Note, index is getting increamented tow ways, first it is increamented by K. index += k. When index == len(string), it is reset to next next start position."
   ]
  },
  {
   "cell_type": "code",
   "execution_count": 7,
   "id": "dcf23432",
   "metadata": {},
   "outputs": [],
   "source": [
    "def rearrangeStringk(string,k):\n",
    "    temp = {}\n",
    "    for c in string:\n",
    "        temp[c] = temp.get(c, 0) + 1\n",
    "    tempList = [(freq, c) for c, freq in temp.items()]\n",
    "    tempList.sort(reverse=True)\n",
    "    \n",
    "    output = [\"\"]* len(string)\n",
    "    index = 0\n",
    "    i = 1\n",
    "    for freq, c in tempList:\n",
    "        while freq>0:\n",
    "            if index > 0 and output[index-1] == c:\n",
    "                return \"\"\n",
    "            output[index] = c\n",
    "            freq -= 1\n",
    "            index += k\n",
    "            if index >= len(string): \n",
    "                index = i\n",
    "                i += 1\n",
    "    return \"\".join(output)"
   ]
  },
  {
   "cell_type": "code",
   "execution_count": 8,
   "id": "8fbc7caa",
   "metadata": {},
   "outputs": [
    {
     "data": {
      "text/plain": [
       "'cbacba'"
      ]
     },
     "execution_count": 8,
     "metadata": {},
     "output_type": "execute_result"
    }
   ],
   "source": [
    "string = \"aabbcc\"\n",
    "k = 3\n",
    "rearrangeStringk(string,k)"
   ]
  },
  {
   "cell_type": "code",
   "execution_count": 9,
   "id": "a2dad890",
   "metadata": {},
   "outputs": [
    {
     "data": {
      "text/plain": [
       "'aba'"
      ]
     },
     "execution_count": 9,
     "metadata": {},
     "output_type": "execute_result"
    }
   ],
   "source": [
    "string = \"aab\"\n",
    "k = 2\n",
    "rearrangeStringk(string,k)"
   ]
  },
  {
   "cell_type": "code",
   "execution_count": 5,
   "id": "8ac004e8",
   "metadata": {},
   "outputs": [
    {
     "data": {
      "text/plain": [
       "'rgirgamoPmn'"
      ]
     },
     "execution_count": 5,
     "metadata": {},
     "output_type": "execute_result"
    }
   ],
   "source": [
    "string = \"Programming\"\n",
    "k = 3\n",
    "rearrangeStringk(string,k)"
   ]
  },
  {
   "cell_type": "code",
   "execution_count": 6,
   "id": "44f2de67",
   "metadata": {},
   "outputs": [
    {
     "data": {
      "text/plain": [
       "'pmpm'"
      ]
     },
     "execution_count": 6,
     "metadata": {},
     "output_type": "execute_result"
    }
   ],
   "source": [
    "string = \"mmpp\"\n",
    "k = 2\n",
    "rearrangeStringk(string,k)"
   ]
  },
  {
   "cell_type": "markdown",
   "id": "7d54bfb2",
   "metadata": {},
   "source": [
    "### Approach:\n",
    "This is the another method, where you do not have to sort based on frequency, rather you use maxHeap.\n",
    "This is similar to Task Scheduler problem.\n",
    "The idea is to place the heighest frequency letter first. So, will calculate the requency of each task.\n",
    "Put in max heap, based on the frequency. Pull out highest frequency letter, reduce the frequency.\n",
    "Now, since it has to be placed till after K times, so keep it in queue with additional attribute position. Position = current position + k.\n",
    "Once iteration count is equal to position of task in queue, remove it and put back into max heap.\n",
    "\n",
    "While returning, if len(output) is not as len(string), that means all letters could not placed, so return empty string otherwise return output."
   ]
  },
  {
   "cell_type": "code",
   "execution_count": 48,
   "id": "e7c14990",
   "metadata": {},
   "outputs": [],
   "source": [
    "import heapq\n",
    "from collections import deque\n",
    "def rearrangeStringk_heap(string,k):\n",
    "    temp = {}\n",
    "    for c in string:\n",
    "        temp[c] = temp.get(c, 0) + 1\n",
    "    maxHeap = [(-freq, c) for c, freq in temp.items()]\n",
    "    heapq.heapify(maxHeap)\n",
    "    \n",
    "    output = \"\"\n",
    "    q = deque()\n",
    "    position = 0\n",
    "    while maxHeap:\n",
    "        position += 1 #position where current character is inserted.\n",
    "        f, c = heapq.heappop(maxHeap)\n",
    "        output += c\n",
    "        f = 1+f # reduce the count by 1. Note, f is negative.\n",
    "        if f:\n",
    "            q.append((f,c,position+k-1)) # Append the character with reduced frequency for next turn. \n",
    "        if q and q[0][2] == position:\n",
    "            f,c,_= q.popleft()\n",
    "            heapq.heappush(maxHeap,(f,c)) # Put back into heap, as next turn arrived\n",
    "    return output if len(output) == len(string) else \"\"\n",
    "        \n",
    "    "
   ]
  },
  {
   "cell_type": "code",
   "execution_count": 49,
   "id": "b2287e61",
   "metadata": {},
   "outputs": [
    {
     "data": {
      "text/plain": [
       "'abcabc'"
      ]
     },
     "execution_count": 49,
     "metadata": {},
     "output_type": "execute_result"
    }
   ],
   "source": [
    "string = \"aabbcc\"\n",
    "k = 3\n",
    "rearrangeStringk_heap(string,k)"
   ]
  },
  {
   "cell_type": "code",
   "execution_count": 50,
   "id": "0cc6a7f0",
   "metadata": {},
   "outputs": [
    {
     "data": {
      "text/plain": [
       "''"
      ]
     },
     "execution_count": 50,
     "metadata": {},
     "output_type": "execute_result"
    }
   ],
   "source": [
    "string = \"aabb\"\n",
    "k = 3\n",
    "rearrangeStringk_heap(string,k)"
   ]
  },
  {
   "cell_type": "code",
   "execution_count": 51,
   "id": "aa47d544",
   "metadata": {},
   "outputs": [
    {
     "data": {
      "text/plain": [
       "'mpmp'"
      ]
     },
     "execution_count": 51,
     "metadata": {},
     "output_type": "execute_result"
    }
   ],
   "source": [
    "string = \"mmpp\"\n",
    "k = 2\n",
    "rearrangeStringk_heap(string,k)"
   ]
  },
  {
   "cell_type": "code",
   "execution_count": 52,
   "id": "8220b5a3",
   "metadata": {},
   "outputs": [
    {
     "data": {
      "text/plain": [
       "'gmrPagimnor'"
      ]
     },
     "execution_count": 52,
     "metadata": {},
     "output_type": "execute_result"
    }
   ],
   "source": [
    "string = \"Programming\"\n",
    "k = 3\n",
    "rearrangeStringk_heap(string,k)"
   ]
  },
  {
   "cell_type": "code",
   "execution_count": null,
   "id": "87121871",
   "metadata": {},
   "outputs": [],
   "source": []
  }
 ],
 "metadata": {
  "kernelspec": {
   "display_name": "Python 3",
   "language": "python",
   "name": "python3"
  },
  "language_info": {
   "codemirror_mode": {
    "name": "ipython",
    "version": 3
   },
   "file_extension": ".py",
   "mimetype": "text/x-python",
   "name": "python",
   "nbconvert_exporter": "python",
   "pygments_lexer": "ipython3",
   "version": "3.8.8"
  }
 },
 "nbformat": 4,
 "nbformat_minor": 5
}
