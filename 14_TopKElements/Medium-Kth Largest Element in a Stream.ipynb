{
 "cells": [
  {
   "cell_type": "markdown",
   "id": "ba5b7654",
   "metadata": {},
   "source": [
    "## Problem: 703. Kth Largest Element in a Stream\n",
    "LeetCode: 703. Kth Largest Element in a Stream\n",
    "\n",
    "Design a class to find the kth largest element in a stream. Note that it is the kth largest element in the sorted order, not the kth distinct element.\n",
    "\n",
    "Implement KthLargest class:\n",
    "\n",
    "KthLargest(int k, int[] nums) Initializes the object with the integer k and the stream of integers nums.\n",
    "int add(int val) Appends the integer val to the stream and returns the element representing the kth largest element in the stream.\n",
    " \n",
    "\n",
    "Example 1:\n",
    "\n",
    "    Input\n",
    "    [\"KthLargest\", \"add\", \"add\", \"add\", \"add\", \"add\"]\n",
    "    [[3, [4, 5, 8, 2]], [3], [5], [10], [9], [4]]\n",
    "    Output\n",
    "    [null, 4, 5, 5, 8, 8]\n",
    "\n",
    "    Explanation\n",
    "    KthLargest kthLargest = new KthLargest(3, [4, 5, 8, 2]);\n",
    "    kthLargest.add(3);   // return 4\n",
    "    kthLargest.add(5);   // return 5\n",
    "    kthLargest.add(10);  // return 5\n",
    "    kthLargest.add(9);   // return 8\n",
    "    kthLargest.add(4);   // return 8\n",
    " \n",
    "\n",
    "Constraints:\n",
    "\n",
    "    1 <= k <= 104\n",
    "    0 <= nums.length <= 104\n",
    "    -104 <= nums[i] <= 104\n",
    "    -104 <= val <= 104\n",
    "    At most 104 calls will be made to add.\n",
    "    It is guaranteed that there will be at least k elements in the array when you search for the kth element."
   ]
  },
  {
   "cell_type": "markdown",
   "id": "6a0f532d",
   "metadata": {},
   "source": [
    "### Approach:\n",
    "Use mean heap to have k largest number. While adding the number in heap, check the size of heap. If it is greater than k, then pop out the element. So, heap will always have k elements.\n",
    "The first element in the heap will be returned, that is the kth largest elelments."
   ]
  },
  {
   "cell_type": "code",
   "execution_count": 4,
   "id": "9c6bbcbf",
   "metadata": {},
   "outputs": [],
   "source": [
    "import heapq\n",
    "class KthLargest:\n",
    "\n",
    "    def __init__(self, k, nums):\n",
    "        self._heap = []\n",
    "        self._k = k\n",
    "        for n in nums:\n",
    "            heapq.heappush(self._heap, n)\n",
    "            if len(self._heap) > self._k:\n",
    "                heapq.heappop(self._heap)\n",
    "\n",
    "\n",
    "    def add(self, val):\n",
    "        heapq.heappush(self._heap, val)\n",
    "        if len(self._heap) > self._k:\n",
    "            heapq.heappop(self._heap)\n",
    "\n",
    "        return self._heap[0]"
   ]
  },
  {
   "cell_type": "code",
   "execution_count": 5,
   "id": "9045115b",
   "metadata": {},
   "outputs": [
    {
     "name": "stdout",
     "output_type": "stream",
     "text": [
      "4\n",
      "5\n",
      "5\n",
      "8\n",
      "8\n"
     ]
    }
   ],
   "source": [
    "nums = [4, 5, 8, 2]\n",
    "k = 3\n",
    "obj = KthLargest(k, nums)\n",
    "print(obj.add(3))\n",
    "print(obj.add(5))\n",
    "print(obj.add(10))\n",
    "print(obj.add(9))\n",
    "print(obj.add(4))"
   ]
  },
  {
   "cell_type": "code",
   "execution_count": null,
   "id": "2786675b",
   "metadata": {},
   "outputs": [],
   "source": []
  }
 ],
 "metadata": {
  "kernelspec": {
   "display_name": "Python 3",
   "language": "python",
   "name": "python3"
  },
  "language_info": {
   "codemirror_mode": {
    "name": "ipython",
    "version": 3
   },
   "file_extension": ".py",
   "mimetype": "text/x-python",
   "name": "python",
   "nbconvert_exporter": "python",
   "pygments_lexer": "ipython3",
   "version": "3.8.8"
  }
 },
 "nbformat": 4,
 "nbformat_minor": 5
}
