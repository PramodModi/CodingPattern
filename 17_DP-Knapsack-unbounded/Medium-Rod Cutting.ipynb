{
 "cells": [
  {
   "cell_type": "markdown",
   "id": "ae1603f5",
   "metadata": {},
   "source": [
    "## Problem: \n",
    "Given a rod of length n, we are asked to cut the rod and sell the pieces in a way that will maximize the profit. We are also given the price of every piece of length i where 1 <= i <= n.\n",
    "\n",
    "    Lengths: [1, 2, 3, 4, 5]\n",
    "    Prices: [2, 6, 7, 10, 13]\n",
    "    Rod Length: 5\n",
    "Let’s try different combinations of cutting the rod:\n",
    "\n",
    "    Five pieces of length 1 => 10 price\n",
    "    Two pieces of length 2 and one piece of length 1 => 14 price\n",
    "    One piece of length 3 and two pieces of length 1 => 11 price\n",
    "    One piece of length 3 and one piece of length 2 => 13 price\n",
    "    One piece of length 4 and one piece of length 1 => 12 price\n",
    "    One piece of length 5 => 13 price\n",
    "This shows that we get the maximum price (14) by cutting the rod into two pieces of length 2 and one piece of length 1."
   ]
  },
  {
   "cell_type": "markdown",
   "id": "471eaf84",
   "metadata": {},
   "source": [
    "### Approach: \n",
    "This problem can be mapped to the Unbounded Knapsack pattern. The Weights array of the Unbounded Knapsack pattern problem is equivalent to the Lengths array, and Profits is equivalent to Prices, and rod length is equivalent to capacity."
   ]
  },
  {
   "cell_type": "code",
   "execution_count": 1,
   "id": "f95eae4d",
   "metadata": {},
   "outputs": [],
   "source": [
    "def rodCutting(lengths, prices, rodlength):\n",
    "    n = len(lengths)\n",
    "    dp = [0] * (rodlength + 1)\n",
    "    for i,l in enumerate(lengths):\n",
    "        for j in range(1, rodlength+1):\n",
    "            if l <= j:\n",
    "                dp[j] = max(prices[i] + dp[j-l], dp[j])\n",
    "    return dp[-1]\n",
    "                "
   ]
  },
  {
   "cell_type": "code",
   "execution_count": 2,
   "id": "55d02810",
   "metadata": {},
   "outputs": [
    {
     "data": {
      "text/plain": [
       "14"
      ]
     },
     "execution_count": 2,
     "metadata": {},
     "output_type": "execute_result"
    }
   ],
   "source": [
    "lengths = [1, 2, 3, 4, 5]\n",
    "prices = [2, 6, 7, 10, 13]\n",
    "rodlength = 5\n",
    "rodCutting(lengths, prices, rodlength)"
   ]
  },
  {
   "cell_type": "code",
   "execution_count": null,
   "id": "c353034b",
   "metadata": {},
   "outputs": [],
   "source": []
  }
 ],
 "metadata": {
  "kernelspec": {
   "display_name": "Python 3",
   "language": "python",
   "name": "python3"
  },
  "language_info": {
   "codemirror_mode": {
    "name": "ipython",
    "version": 3
   },
   "file_extension": ".py",
   "mimetype": "text/x-python",
   "name": "python",
   "nbconvert_exporter": "python",
   "pygments_lexer": "ipython3",
   "version": "3.8.8"
  }
 },
 "nbformat": 4,
 "nbformat_minor": 5
}
