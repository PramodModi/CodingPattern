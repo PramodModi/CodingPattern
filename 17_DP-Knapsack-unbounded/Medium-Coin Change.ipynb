{
 "cells": [
  {
   "cell_type": "markdown",
   "id": "88b01c3d",
   "metadata": {},
   "source": [
    "## Problem: Coin Change II\n",
    "LeeCode: 518. Coin Change II\n",
    "\n",
    "https://leetcode.com/problems/coin-change-ii/\n",
    "\n",
    "You are given an integer array coins representing coins of different denominations and an integer amount representing a total amount of money.\n",
    "\n",
    "Return the number of combinations that make up that amount. If that amount of money cannot be made up by any combination of the coins, return 0.\n",
    "\n",
    "You may assume that you have an infinite number of each kind of coin.\n",
    "\n",
    "The answer is guaranteed to fit into a signed 32-bit integer.\n",
    "\n",
    " \n",
    "\n",
    "Example 1:\n",
    "\n",
    "    Input: amount = 5, coins = [1,2,5]\n",
    "    Output: 4\n",
    "    Explanation: there are four ways to make up the amount:\n",
    "    5=5\n",
    "    5=2+2+1\n",
    "    5=2+1+1+1\n",
    "    5=1+1+1+1+1\n",
    "Example 2:\n",
    "\n",
    "    Input: amount = 3, coins = [2]\n",
    "    Output: 0\n",
    "    Explanation: the amount of 3 cannot be made up just with coins of 2.\n",
    "Example 3:\n",
    "\n",
    "    Input: amount = 10, coins = [10]\n",
    "    Output: 1\n",
    " \n",
    "\n",
    "Constraints:\n",
    "\n",
    "    1 <= coins.length <= 300\n",
    "    1 <= coins[i] <= 5000\n",
    "    All the values of coins are unique.\n",
    "    0 <= amount <= 5000"
   ]
  },
  {
   "cell_type": "markdown",
   "id": "8f8da3cd",
   "metadata": {},
   "source": [
    "### Approach:\n",
    "This is simlar to unbounded knapsack problem, now we have count the number of ways. So, we will add the possible ways. When we choose and when we will not choose.\n",
    "Also, base condition, when amount = 0, then number of ways = 1"
   ]
  },
  {
   "cell_type": "code",
   "execution_count": 7,
   "id": "948db434",
   "metadata": {},
   "outputs": [],
   "source": [
    "def numberCoinChange(coins, amount):\n",
    "    dp = [0]* (amount + 1)\n",
    "    dp [0] = 1\n",
    "    \n",
    "    for c in coins:\n",
    "        for j in range(1, amount+1):\n",
    "            if c <= j:\n",
    "                dp[j] = dp[j-c] + dp[j]\n",
    "    return dp[-1]\n",
    "            "
   ]
  },
  {
   "cell_type": "code",
   "execution_count": 8,
   "id": "6182d957",
   "metadata": {},
   "outputs": [
    {
     "data": {
      "text/plain": [
       "4"
      ]
     },
     "execution_count": 8,
     "metadata": {},
     "output_type": "execute_result"
    }
   ],
   "source": [
    "amount = 5\n",
    "coins = [1,2,5]\n",
    "numberCoinChange(coins, amount)"
   ]
  },
  {
   "cell_type": "code",
   "execution_count": 9,
   "id": "2d1b079a",
   "metadata": {},
   "outputs": [
    {
     "data": {
      "text/plain": [
       "1"
      ]
     },
     "execution_count": 9,
     "metadata": {},
     "output_type": "execute_result"
    }
   ],
   "source": [
    "amount = 10\n",
    "coins = [10]\n",
    "numberCoinChange(coins, amount)"
   ]
  },
  {
   "cell_type": "code",
   "execution_count": 14,
   "id": "444459c2",
   "metadata": {},
   "outputs": [],
   "source": [
    "## Recurssion\n",
    "def numberCoinChange_rec(coins, amount):\n",
    "    n = len(coins)-1\n",
    "    return coinChange(coins, amount, n)\n",
    "def coinChange(coins, amount, index):\n",
    "    if amount == 0:\n",
    "        return 1\n",
    "    if index < 0:\n",
    "        return 0\n",
    "    if coins[index] <= amount:\n",
    "        return coinChange(coins, amount- coins[index], index) + coinChange(coins, amount, index-1)\n",
    "    else:\n",
    "        return coinChange(coins, amount, index-1)"
   ]
  },
  {
   "cell_type": "code",
   "execution_count": 15,
   "id": "67dc9dc0",
   "metadata": {},
   "outputs": [
    {
     "data": {
      "text/plain": [
       "4"
      ]
     },
     "execution_count": 15,
     "metadata": {},
     "output_type": "execute_result"
    }
   ],
   "source": [
    "amount = 5\n",
    "coins = [1,2,5]\n",
    "numberCoinChange_rec(coins, amount)"
   ]
  },
  {
   "cell_type": "code",
   "execution_count": 16,
   "id": "adcc92dc",
   "metadata": {},
   "outputs": [
    {
     "data": {
      "text/plain": [
       "1"
      ]
     },
     "execution_count": 16,
     "metadata": {},
     "output_type": "execute_result"
    }
   ],
   "source": [
    "amount = 10\n",
    "coins = [10]\n",
    "numberCoinChange_rec(coins, amount)"
   ]
  },
  {
   "cell_type": "code",
   "execution_count": 20,
   "id": "ccd1f147",
   "metadata": {},
   "outputs": [],
   "source": [
    "## Memoization\n",
    "def numberCoinChange_mem(coins, amount):\n",
    "    n = len(coins)\n",
    "    mem = [[-1] * (amount+1) for _ in range(n+1)]\n",
    "    return coinChange_mem(coins, amount, n-1, mem)\n",
    "def coinChange_mem(coins, amount, index, mem):\n",
    "    if amount == 0:\n",
    "        return 1\n",
    "    if index < 0:\n",
    "        return 0\n",
    "    if mem[index][amount] != -1:\n",
    "        return mem[index][amount]\n",
    "    if coins[index] <= amount:\n",
    "        mem[index][amount] = coinChange_mem(coins, amount- coins[index], index, mem) + coinChange_mem(coins, amount, index-1, mem)\n",
    "    else:\n",
    "        mem[index][amount] =  coinChange_mem(coins, amount, index-1, mem)\n",
    "    return mem[index][amount]"
   ]
  },
  {
   "cell_type": "code",
   "execution_count": 21,
   "id": "51e906f5",
   "metadata": {},
   "outputs": [
    {
     "data": {
      "text/plain": [
       "4"
      ]
     },
     "execution_count": 21,
     "metadata": {},
     "output_type": "execute_result"
    }
   ],
   "source": [
    "amount = 5\n",
    "coins = [1,2,5]\n",
    "numberCoinChange_mem(coins, amount)"
   ]
  },
  {
   "cell_type": "code",
   "execution_count": 22,
   "id": "c6bfb576",
   "metadata": {},
   "outputs": [
    {
     "data": {
      "text/plain": [
       "1"
      ]
     },
     "execution_count": 22,
     "metadata": {},
     "output_type": "execute_result"
    }
   ],
   "source": [
    "amount = 10\n",
    "coins = [10]\n",
    "numberCoinChange_mem(coins, amount)"
   ]
  },
  {
   "cell_type": "code",
   "execution_count": null,
   "id": "20fb7b2e",
   "metadata": {},
   "outputs": [],
   "source": []
  }
 ],
 "metadata": {
  "kernelspec": {
   "display_name": "Python 3",
   "language": "python",
   "name": "python3"
  },
  "language_info": {
   "codemirror_mode": {
    "name": "ipython",
    "version": 3
   },
   "file_extension": ".py",
   "mimetype": "text/x-python",
   "name": "python",
   "nbconvert_exporter": "python",
   "pygments_lexer": "ipython3",
   "version": "3.8.8"
  }
 },
 "nbformat": 4,
 "nbformat_minor": 5
}
