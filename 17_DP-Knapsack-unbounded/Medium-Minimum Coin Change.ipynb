{
 "cells": [
  {
   "cell_type": "markdown",
   "id": "6b54d870",
   "metadata": {},
   "source": [
    "## Problem: Minimum Coin Change\n",
    "LeetCode: 322. Coin Change\n",
    "\n",
    "https://leetcode.com/problems/coin-change/\n",
    "\n",
    "You are given an integer array coins representing coins of different denominations and an integer amount representing a total amount of money.\n",
    "\n",
    "Return the fewest number of coins that you need to make up that amount. If that amount of money cannot be made up by any combination of the coins, return -1.\n",
    "\n",
    "You may assume that you have an infinite number of each kind of coin.\n",
    "\n",
    " \n",
    "\n",
    "Example 1:\n",
    "\n",
    "    Input: coins = [1,2,5], amount = 11\n",
    "    Output: 3\n",
    "    Explanation: 11 = 5 + 5 + 1\n",
    "Example 2:\n",
    "\n",
    "    Input: coins = [2], amount = 3\n",
    "    Output: -1\n",
    "Example 3:\n",
    "\n",
    "    Input: coins = [1], amount = 0\n",
    "    Output: 0\n",
    " \n",
    "\n",
    "Constraints:\n",
    "\n",
    "    1 <= coins.length <= 12\n",
    "    1 <= coins[i] <= 231 - 1\n",
    "    0 <= amount <= 104"
   ]
  },
  {
   "cell_type": "markdown",
   "id": "7cb797a2",
   "metadata": {},
   "source": [
    "### Approach: \n",
    "This is similar to unbounded knapsack problem. Here in place of weight, we have coins array. In place of capacity, we have amount. In place of value addition for each weight, we have to add as number of coin increament on coin selection."
   ]
  },
  {
   "cell_type": "code",
   "execution_count": 20,
   "id": "25a6256f",
   "metadata": {},
   "outputs": [],
   "source": [
    "def coinChange(coins, amount):\n",
    "    n = len(coins)\n",
    "    dp = [float(\"inf\")] * (amount +1)\n",
    "    dp[0] = 0\n",
    "    for c in coins:\n",
    "        for j in range(1, amount+1):\n",
    "            if c <= j:\n",
    "                dp[j] = min(1+dp[j-c], dp[j])\n",
    "    return -1 if dp[-1] == float(\"inf\")else dp[-1]\n",
    "                "
   ]
  },
  {
   "cell_type": "code",
   "execution_count": 21,
   "id": "9e1629f7",
   "metadata": {},
   "outputs": [
    {
     "data": {
      "text/plain": [
       "3"
      ]
     },
     "execution_count": 21,
     "metadata": {},
     "output_type": "execute_result"
    }
   ],
   "source": [
    "coins = [1,2,5]\n",
    "amount = 11\n",
    "coinChange(coins, amount)"
   ]
  },
  {
   "cell_type": "code",
   "execution_count": 22,
   "id": "43ff7642",
   "metadata": {},
   "outputs": [
    {
     "data": {
      "text/plain": [
       "-1"
      ]
     },
     "execution_count": 22,
     "metadata": {},
     "output_type": "execute_result"
    }
   ],
   "source": [
    "coins = [2]\n",
    "amount = 3\n",
    "coinChange(coins, amount)"
   ]
  },
  {
   "cell_type": "code",
   "execution_count": 23,
   "id": "a7e5eef7",
   "metadata": {},
   "outputs": [],
   "source": [
    "## Recursive method\n",
    "def coinChange_rec(coins, amount):\n",
    "    ans = minCoinChange(coins, amount, len(coins)-1)\n",
    "    return ans if ans != float(\"inf\") else -1\n",
    "def minCoinChange(coins, amount, index):\n",
    "    if amount == 0:\n",
    "        return 0\n",
    "    if index < 0:\n",
    "        return float(\"inf\")\n",
    "    if coins[index] <= amount:\n",
    "        return min(1 + minCoinChange(coins, amount-coins[index], index), minCoinChange(coins, amount, index-1))\n",
    "    return minCoinChange(coins, amount, index-1)"
   ]
  },
  {
   "cell_type": "code",
   "execution_count": 24,
   "id": "4ed45e6c",
   "metadata": {},
   "outputs": [
    {
     "data": {
      "text/plain": [
       "3"
      ]
     },
     "execution_count": 24,
     "metadata": {},
     "output_type": "execute_result"
    }
   ],
   "source": [
    "coins = [1,2,5]\n",
    "amount = 11\n",
    "coinChange_rec(coins, amount)"
   ]
  },
  {
   "cell_type": "code",
   "execution_count": 25,
   "id": "eb7f9176",
   "metadata": {},
   "outputs": [
    {
     "data": {
      "text/plain": [
       "-1"
      ]
     },
     "execution_count": 25,
     "metadata": {},
     "output_type": "execute_result"
    }
   ],
   "source": [
    "coins = [2]\n",
    "amount = 3\n",
    "coinChange_rec(coins, amount)"
   ]
  },
  {
   "cell_type": "code",
   "execution_count": 26,
   "id": "6643d990",
   "metadata": {},
   "outputs": [],
   "source": [
    "## Recursive method with Memoization\n",
    "def coinChange_mem(coins, amount):\n",
    "    n = len(coins)\n",
    "    mem = [[-1] *(amount+1) for _ in range(n+1)]\n",
    "    ans = minCoinChange_mem(coins, amount, len(coins)-1, mem)\n",
    "    return ans if ans != float(\"inf\") else -1\n",
    "def minCoinChange_mem(coins, amount, index, mem):\n",
    "    if amount == 0:\n",
    "        return 0\n",
    "    if index < 0:\n",
    "        return float(\"inf\")\n",
    "    if mem[index][amount] != -1:\n",
    "        return mem[index][amount]\n",
    "    if coins[index] <= amount:\n",
    "        mem[index][amount] =  min(1 + minCoinChange_mem(coins, amount-coins[index], index, mem), minCoinChange_mem(coins, amount, index-1, mem))\n",
    "    else:\n",
    "        mem[index][amount] = minCoinChange_mem(coins, amount, index-1, mem)\n",
    "    return mem[index][amount]"
   ]
  },
  {
   "cell_type": "code",
   "execution_count": 27,
   "id": "682be50c",
   "metadata": {},
   "outputs": [
    {
     "data": {
      "text/plain": [
       "3"
      ]
     },
     "execution_count": 27,
     "metadata": {},
     "output_type": "execute_result"
    }
   ],
   "source": [
    "coins = [1,2,5]\n",
    "amount = 11\n",
    "coinChange_mem(coins, amount)"
   ]
  },
  {
   "cell_type": "code",
   "execution_count": 28,
   "id": "84eab3d4",
   "metadata": {},
   "outputs": [
    {
     "data": {
      "text/plain": [
       "-1"
      ]
     },
     "execution_count": 28,
     "metadata": {},
     "output_type": "execute_result"
    }
   ],
   "source": [
    "coins = [2]\n",
    "amount = 3\n",
    "coinChange_mem(coins, amount)"
   ]
  },
  {
   "cell_type": "code",
   "execution_count": null,
   "id": "683734b7",
   "metadata": {},
   "outputs": [],
   "source": []
  }
 ],
 "metadata": {
  "kernelspec": {
   "display_name": "Python 3",
   "language": "python",
   "name": "python3"
  },
  "language_info": {
   "codemirror_mode": {
    "name": "ipython",
    "version": 3
   },
   "file_extension": ".py",
   "mimetype": "text/x-python",
   "name": "python",
   "nbconvert_exporter": "python",
   "pygments_lexer": "ipython3",
   "version": "3.8.8"
  }
 },
 "nbformat": 4,
 "nbformat_minor": 5
}
