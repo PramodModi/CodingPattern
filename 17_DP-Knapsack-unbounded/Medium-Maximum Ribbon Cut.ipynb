{
 "cells": [
  {
   "cell_type": "markdown",
   "id": "0563719c",
   "metadata": {},
   "source": [
    "## Problem: Maximum Ribbon Cut\n",
    "Given a number array to represent possible ribbonLengths and a total ribbon length n, we need to find the maximum number of pieces that the ribbon can be cut into.\n",
    "\n",
    "Example 1:\n",
    "\n",
    "    n: 5\n",
    "    Ribbon Lengths: {2,3,5}\n",
    "    Output: 2\n",
    "    Explanation: Ribbon pieces will be {2,3}.\n",
    "Example 2:\n",
    "\n",
    "    n: 7\n",
    "    Ribbon Lengths: {2,3}\n",
    "    Output: 3\n",
    "    Explanation: Ribbon pieces will be {2,2,3}.\n",
    "Example 3:\n",
    "\n",
    "    n: 13\n",
    "    Ribbon Lengths: {3,5,7}\n",
    "    Output: 3\n",
    "    Explanation: Ribbon pieces will be {3,3,7}."
   ]
  },
  {
   "cell_type": "markdown",
   "id": "dccb984f",
   "metadata": {},
   "source": [
    "### Approach: \n",
    "We are given a ribbon of length n and a set of possible ribbonLengths. We need to cut the ribbon into the maximum number of pieces that comply with the above-mentioned possible lengths. There can be same pieces any number of times.\n",
    "This problem follows the Unbounded Knapsack pattern and is quite similar to Minimum Coin Change (MCC). The only difference is that in Minimum Coin Change (MCC), we were asked to find the minimum number of coin changes, whereas, in this problem, we need to find the maximum number of pieces."
   ]
  },
  {
   "cell_type": "code",
   "execution_count": 3,
   "id": "c34a69ac",
   "metadata": {},
   "outputs": [],
   "source": [
    "def countRibbonPieces(n, lengths):\n",
    "    dp = [float(\"-inf\")] * (n + 1)\n",
    "    dp[0] = 0\n",
    "    for l in lengths:\n",
    "        for j in range(1, n+1):\n",
    "            if l <= j:\n",
    "                dp[j] = max(1 + dp[j-l], dp[j])\n",
    "    return dp[-1]"
   ]
  },
  {
   "cell_type": "code",
   "execution_count": 4,
   "id": "94fcd1f3",
   "metadata": {},
   "outputs": [
    {
     "data": {
      "text/plain": [
       "3"
      ]
     },
     "execution_count": 4,
     "metadata": {},
     "output_type": "execute_result"
    }
   ],
   "source": [
    "n = 13\n",
    "lengths = [3,5,7]\n",
    "countRibbonPieces(n, lengths)"
   ]
  },
  {
   "cell_type": "code",
   "execution_count": 5,
   "id": "f0e4eb1c",
   "metadata": {},
   "outputs": [
    {
     "data": {
      "text/plain": [
       "2"
      ]
     },
     "execution_count": 5,
     "metadata": {},
     "output_type": "execute_result"
    }
   ],
   "source": [
    "n = 5\n",
    "lengths = [2,3,5]\n",
    "countRibbonPieces(n, lengths)"
   ]
  },
  {
   "cell_type": "code",
   "execution_count": 6,
   "id": "48ec1434",
   "metadata": {},
   "outputs": [
    {
     "data": {
      "text/plain": [
       "3"
      ]
     },
     "execution_count": 6,
     "metadata": {},
     "output_type": "execute_result"
    }
   ],
   "source": [
    "n = 7\n",
    "lengths = [2,3]\n",
    "countRibbonPieces(n, lengths)"
   ]
  },
  {
   "cell_type": "code",
   "execution_count": 10,
   "id": "425b6b40",
   "metadata": {},
   "outputs": [],
   "source": [
    "## Recurssion\n",
    "def countRibbonPieces_rec(n, lengths):\n",
    "    return ribbonPieces(n, lengths, len(lengths)-1)\n",
    "def ribbonPieces(n, lengths, index):\n",
    "    if n == 0:\n",
    "        return 0\n",
    "    if index < 0:\n",
    "        return float(\"-inf\")\n",
    "    if lengths[index] <= n:\n",
    "        return max(1 + ribbonPieces(n-lengths[index], lengths,index), ribbonPieces(n, lengths, index-1))\n",
    "    else:\n",
    "        return ribbonPieces(n, lengths, index-1)\n",
    "        "
   ]
  },
  {
   "cell_type": "code",
   "execution_count": 11,
   "id": "0f3c5d83",
   "metadata": {},
   "outputs": [
    {
     "data": {
      "text/plain": [
       "3"
      ]
     },
     "execution_count": 11,
     "metadata": {},
     "output_type": "execute_result"
    }
   ],
   "source": [
    "n = 13\n",
    "lengths = [3,5,7]\n",
    "countRibbonPieces_rec(n, lengths)"
   ]
  },
  {
   "cell_type": "code",
   "execution_count": 12,
   "id": "2c33f45f",
   "metadata": {},
   "outputs": [
    {
     "data": {
      "text/plain": [
       "2"
      ]
     },
     "execution_count": 12,
     "metadata": {},
     "output_type": "execute_result"
    }
   ],
   "source": [
    "n = 5\n",
    "lengths = [2,3,5]\n",
    "countRibbonPieces_rec(n, lengths)"
   ]
  },
  {
   "cell_type": "code",
   "execution_count": 13,
   "id": "ccf9d7d0",
   "metadata": {},
   "outputs": [],
   "source": [
    "## Memoization\n",
    "def countRibbonPieces_mem(n, length):\n",
    "    m = len(lengths)\n",
    "    mem = [[-1]*(n+1) for _ in range(m+1)]\n",
    "    \n",
    "    return ribbonPieces_mem(n, lengths, m-1, mem)\n",
    "\n",
    "def ribbonPieces_mem(n, lengths, index, mem):\n",
    "    if n == 0:\n",
    "        return 0\n",
    "    if index < 0:\n",
    "        return float(\"-inf\")\n",
    "    if mem[index][n] != -1:\n",
    "        return mem[index][n]\n",
    "    if lengths[index] <= n:\n",
    "        mem[index][n] = max(1 + ribbonPieces_mem(n-lengths[index], lengths, index, mem), ribbonPieces_mem(n, lengths, index-1, mem))\n",
    "    else:\n",
    "        mem[index][n] = ribbonPieces_mem(n, lengths, index-1, mem)\n",
    "    return mem[index][n]\n",
    "    "
   ]
  },
  {
   "cell_type": "code",
   "execution_count": 14,
   "id": "4a011d40",
   "metadata": {},
   "outputs": [
    {
     "data": {
      "text/plain": [
       "2"
      ]
     },
     "execution_count": 14,
     "metadata": {},
     "output_type": "execute_result"
    }
   ],
   "source": [
    "n = 5\n",
    "lengths = [2,3,5]\n",
    "countRibbonPieces_mem(n, lengths)"
   ]
  },
  {
   "cell_type": "code",
   "execution_count": 15,
   "id": "c51a4b6a",
   "metadata": {},
   "outputs": [
    {
     "data": {
      "text/plain": [
       "3"
      ]
     },
     "execution_count": 15,
     "metadata": {},
     "output_type": "execute_result"
    }
   ],
   "source": [
    "n = 13\n",
    "lengths = [3,5,7]\n",
    "countRibbonPieces_mem(n, lengths)"
   ]
  },
  {
   "cell_type": "code",
   "execution_count": null,
   "id": "fe5724dd",
   "metadata": {},
   "outputs": [],
   "source": []
  }
 ],
 "metadata": {
  "kernelspec": {
   "display_name": "Python 3",
   "language": "python",
   "name": "python3"
  },
  "language_info": {
   "codemirror_mode": {
    "name": "ipython",
    "version": 3
   },
   "file_extension": ".py",
   "mimetype": "text/x-python",
   "name": "python",
   "nbconvert_exporter": "python",
   "pygments_lexer": "ipython3",
   "version": "3.8.8"
  }
 },
 "nbformat": 4,
 "nbformat_minor": 5
}
