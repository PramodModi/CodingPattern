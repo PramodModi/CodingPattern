{
 "cells": [
  {
   "cell_type": "markdown",
   "id": "bb8b34de",
   "metadata": {},
   "source": [
    "## Problem: Level Order Successor\n",
    "\n",
    "Given a binary tree and a node in the binary tree, find Levelorder successor of the given node. That is, the node that appears after the given node in the level order traversal of the tree.\n",
    "\n",
    "Note: The task is not just to print the data of the node, you have to return the complete node from the tree.\n",
    "\n",
    "Examples: \n",
    "\n",
    "    Consider the following binary tree\n",
    "                  20            \n",
    "               /      \\         \n",
    "              10       26       \n",
    "             /  \\     /   \\     \n",
    "           4     18  24    27   \n",
    "                /  \\\n",
    "               14   19\n",
    "              /  \\\n",
    "             13  15\n",
    "\n",
    "    Levelorder traversal of given tree is:\n",
    "    20, 10, 26, 4, 18, 24, 27, 14, 19, 13, 15\n",
    "\n",
    "    Input : 24\n",
    "    Output : 27\n",
    "\n",
    "    Input : 4\n",
    "    Output : 18 "
   ]
  },
  {
   "cell_type": "markdown",
   "id": "4fca9ea9",
   "metadata": {},
   "source": [
    "### Approach\n",
    "Since this problem is asking for level order succesor. We will traverse level order, we get the given key, will return the first element from q. We use \"BFS Pattern\". For more details: https://github.com/PramodModi/CodingPattern/blob/main/09_Tree-BFS/01-Concept%20of%20BFS%20(Level%20Order%20Traversal).ipynb\n",
    "\n",
    "Will use queue to track of each level.\n",
    "\n",
    "Steps:\n",
    "\n",
    "1. Start with root. Enqueue root in the queue\n",
    "2. Run the loop till queue is empty\n",
    "3. Dequeue the node from queue. \n",
    "4. Enqueue the left child node and right child node, if they are available.\n",
    "5. If given key is equal to value of dequed node, then return the first node from queue, if queue is not empty. Return None, if q is empty.\n"
   ]
  },
  {
   "cell_type": "code",
   "execution_count": 31,
   "id": "34a89a9b",
   "metadata": {},
   "outputs": [],
   "source": [
    "from collections import deque\n",
    "class Node:\n",
    "    def __init__(self, val, left, right):\n",
    "        self.val = val\n",
    "        self.left = left\n",
    "        self.right = right\n",
    "        \n",
    "def levelOrderSuccessor(root, key):\n",
    "    if root is None:\n",
    "        return None\n",
    "    q = deque([root])\n",
    "    while q:\n",
    "        node = q.popleft()\n",
    "        if node.left: q.append(node.left)\n",
    "        if node.right: q.append(node.right)\n",
    "        if node.val == key:\n",
    "            if q: return q[0]\n",
    "            else:\n",
    "                return None\n",
    "    return None\n",
    "    "
   ]
  },
  {
   "cell_type": "code",
   "execution_count": 32,
   "id": "71749e91",
   "metadata": {},
   "outputs": [
    {
     "name": "stdout",
     "output_type": "stream",
     "text": [
      "18\n"
     ]
    }
   ],
   "source": [
    "root = Node(20, Node(10, Node(4, None, None),Node(18,Node(14, Node(13, None,None), Node(15, None,None)), Node(19, None,None))), Node(26, Node(24, None, None), Node(27, None, None)))\n",
    "print(levelOrderSuccessor(root, 4).val)"
   ]
  },
  {
   "cell_type": "code",
   "execution_count": 33,
   "id": "dec960cc",
   "metadata": {},
   "outputs": [
    {
     "name": "stdout",
     "output_type": "stream",
     "text": [
      "27\n"
     ]
    }
   ],
   "source": [
    "print(levelOrderSuccessor(root, 24).val)"
   ]
  },
  {
   "cell_type": "code",
   "execution_count": 34,
   "id": "9acb3dc2",
   "metadata": {},
   "outputs": [
    {
     "name": "stdout",
     "output_type": "stream",
     "text": [
      "10\n"
     ]
    }
   ],
   "source": [
    "print(levelOrderSuccessor(root, 20).val)"
   ]
  },
  {
   "cell_type": "code",
   "execution_count": null,
   "id": "f76e8de2",
   "metadata": {},
   "outputs": [],
   "source": []
  }
 ],
 "metadata": {
  "kernelspec": {
   "display_name": "Python 3",
   "language": "python",
   "name": "python3"
  },
  "language_info": {
   "codemirror_mode": {
    "name": "ipython",
    "version": 3
   },
   "file_extension": ".py",
   "mimetype": "text/x-python",
   "name": "python",
   "nbconvert_exporter": "python",
   "pygments_lexer": "ipython3",
   "version": "3.8.8"
  }
 },
 "nbformat": 4,
 "nbformat_minor": 5
}
