{
 "cells": [
  {
   "cell_type": "markdown",
   "id": "06d5f202",
   "metadata": {},
   "source": [
    "## Breadth First Search in Tree (Level Order Traversal)"
   ]
  },
  {
   "cell_type": "markdown",
   "id": "33dbd242",
   "metadata": {},
   "source": [
    "### Concept:\n",
    "\n",
    "Breadth First Search (BFS) in Tree is also known as Level Order Traversal.\n",
    "\n",
    "    BFS is a tree traversal algorithm that visits all nodes at a given level before moving on to the next level.\n",
    "    It starts at the root node and adds all of its child nodes to a queue.\n",
    "    Then, it dequeues a node from the queue and visits it.\n",
    "    If the node has any child nodes, they are added to the queue.\n",
    "    This process is repeated until the queue is empty.\n",
    "    \n",
    "BFS ensures that nodes at level 0 are visited first, followed by nodes at level 1, then level 2, and so on. This guarantees that nodes at the same level are visited before moving to the next level.\n",
    "\n",
    "BFS is a versatile and powerful algorithm for traversing trees. It is used in a wide variety of applications, from routing in networks to finding the best move in a game.\n"
   ]
  },
  {
   "cell_type": "markdown",
   "id": "4032eab8",
   "metadata": {},
   "source": [
    "### Applications where BFS is used:\n",
    "1. Right View of a Binary tree\n",
    "2. Connect all level order siblings\n",
    "3. Minimum Depth of Binary Tree\n",
    "4. Vertical Order display of Binary Tree\n",
    "5. Zig Zag Traversal of Binary Tree\n",
    "6. Shortest path between two nodes in a tree\n",
    "7. Finding all nodes at a given level in a tree\n",
    "8. Finding all nodes within a certain distance from a given node in a tree\n",
    "9. Checking if tree is complete\n",
    "10. Checking if tree is balanced"
   ]
  },
  {
   "cell_type": "markdown",
   "id": "e4fce36c",
   "metadata": {},
   "source": [
    "\n",
    "### Sample Code:\n",
    "\n",
    "    queue = Queue()\n",
    "    queue.enqueue(root)\n",
    "    while not queue.isEmpty():\n",
    "        currentNode = queue.dequeue()\n",
    "        process(current)\n",
    "        if currentNode.left:\n",
    "            queue.enqueue(currentNode.left)\n",
    "        if currentNode.right:\n",
    "            queue.enqueue(currentNode.right)"
   ]
  },
  {
   "cell_type": "code",
   "execution_count": null,
   "id": "65968628",
   "metadata": {},
   "outputs": [],
   "source": []
  }
 ],
 "metadata": {
  "kernelspec": {
   "display_name": "Python 3",
   "language": "python",
   "name": "python3"
  },
  "language_info": {
   "codemirror_mode": {
    "name": "ipython",
    "version": 3
   },
   "file_extension": ".py",
   "mimetype": "text/x-python",
   "name": "python",
   "nbconvert_exporter": "python",
   "pygments_lexer": "ipython3",
   "version": "3.8.8"
  }
 },
 "nbformat": 4,
 "nbformat_minor": 5
}
