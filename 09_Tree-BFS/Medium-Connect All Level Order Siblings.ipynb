{
 "cells": [
  {
   "cell_type": "markdown",
   "id": "d1e077f1",
   "metadata": {},
   "source": [
    "## Problem: Connect All Level Order Siblings\n",
    "\n",
    "Given a binary tree, connect each node with its level order successor. The last node of each level should point to the first node of the next level.\n",
    "\n"
   ]
  },
  {
   "cell_type": "markdown",
   "id": "05d239e6",
   "metadata": {},
   "source": [
    "### Approach: \n",
    "This problem follows the Binary Tree Level Order Traversal pattern. We can follow the same BFS approach. The only difference will be that while traversing we will remember (irrespective of the level) the previous node to connect it with the current node."
   ]
  },
  {
   "cell_type": "code",
   "execution_count": 8,
   "id": "98213b78",
   "metadata": {},
   "outputs": [],
   "source": [
    "from collections import deque\n",
    "\n",
    "class Node:\n",
    "    def __init__(self, val, left = None, right= None, next= None):\n",
    "        self.val = val\n",
    "        self.left = left\n",
    "        self.right = right\n",
    "        self.next = next\n",
    "def connectAllSiblings(root):\n",
    "    if root is None:\n",
    "        return None\n",
    "    q = deque([root])\n",
    "    prevNode = None\n",
    "    while q:\n",
    "        node = q.popleft();\n",
    "        if prevNode:\n",
    "            prevNode.next = node\n",
    "        prevNode = node\n",
    "        if node.left : q.append(node.left)\n",
    "        if node.right: q.append(node.right)\n",
    "    return root\n",
    "\n",
    "def printTree(root):\n",
    "    if root is None:\n",
    "        return []\n",
    "    temp = root\n",
    "    while temp.next:\n",
    "        print(temp.val, end = \"->\")\n",
    "        temp = temp.next\n",
    "    print(temp.val)\n",
    "    \n",
    "def levelOrder(root):\n",
    "    if root is None:\n",
    "        return []\n",
    "    q = deque([root])\n",
    "    while q:\n",
    "        node = q.popleft()\n",
    "        print(node.val, end = \" \")\n",
    "        if node.left: q.append(node.left)\n",
    "        if node.right: q.append(node.right)\n",
    "    "
   ]
  },
  {
   "cell_type": "code",
   "execution_count": 9,
   "id": "d4693ace",
   "metadata": {},
   "outputs": [
    {
     "name": "stdout",
     "output_type": "stream",
     "text": [
      "Level order Tree\n",
      "2 7 1 9 10 5 \n",
      "After connected with sibling\n",
      "2->7->1->9->10->5\n"
     ]
    }
   ],
   "source": [
    "root = Node(2, Node(7, Node(9)), Node(1,Node(10), Node(5)))\n",
    "print(\"Level order Tree\")\n",
    "levelOrder(root)\n",
    "print(\"\\nAfter connected with sibling\")\n",
    "root = connectAllSiblings(root)\n",
    "printTree(root)"
   ]
  },
  {
   "cell_type": "code",
   "execution_count": null,
   "id": "f86d4bd1",
   "metadata": {},
   "outputs": [],
   "source": []
  }
 ],
 "metadata": {
  "kernelspec": {
   "display_name": "Python 3",
   "language": "python",
   "name": "python3"
  },
  "language_info": {
   "codemirror_mode": {
    "name": "ipython",
    "version": 3
   },
   "file_extension": ".py",
   "mimetype": "text/x-python",
   "name": "python",
   "nbconvert_exporter": "python",
   "pygments_lexer": "ipython3",
   "version": "3.8.8"
  }
 },
 "nbformat": 4,
 "nbformat_minor": 5
}
