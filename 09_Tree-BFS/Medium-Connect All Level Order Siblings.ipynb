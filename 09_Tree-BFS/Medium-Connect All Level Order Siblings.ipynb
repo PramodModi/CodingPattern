{
 "cells": [
  {
   "cell_type": "markdown",
   "id": "280457dd",
   "metadata": {},
   "source": [
    "## Problem: Connect All Level Order Siblings\n",
    "\n",
    "Given a binary tree, connect each node with its level order successor. The last node of each level should point to the first node of the next level.\n",
    "\n"
   ]
  },
  {
   "cell_type": "markdown",
   "id": "7bccf20b",
   "metadata": {},
   "source": [
    "### Approach: \n",
    "This problem follows the Binary Tree Level Order Traversal pattern. We can follow the same BFS approach. \n",
    "For more details: https://github.com/PramodModi/CodingPattern/blob/main/09_Tree-BFS/01-Concept%20of%20BFS%20(Level%20Order%20Traversal).ipynb\n",
    "\n",
    "The only difference will be that while traversing we will remember (irrespective of the level) the previous node to connect it with the current node.\n",
    "\n",
    "Steps:\n",
    "\n",
    "1. Start with root. Enqueue root in the queue\n",
    "2. Define a variable say prevNode, to remember previous node.\n",
    "3. Run the loop till queue is empty\n",
    "4. Dequeue the node from queue, say currentNode\n",
    "5. If rightNode is not None (It would be None at the begining), then prevNode.next will point to currentNode.\n",
    "6. Enqueue the left child node and right child node, if they are available.\n",
    "7. Return root."
   ]
  },
  {
   "cell_type": "code",
   "execution_count": 8,
   "id": "0aac9ed8",
   "metadata": {},
   "outputs": [],
   "source": [
    "from collections import deque\n",
    "\n",
    "class Node:\n",
    "    def __init__(self, val, left = None, right= None, next= None):\n",
    "        self.val = val\n",
    "        self.left = left\n",
    "        self.right = right\n",
    "        self.next = next\n",
    "def connectAllSiblings(root):\n",
    "    if root is None:\n",
    "        return None\n",
    "    q = deque([root])\n",
    "    prevNode = None\n",
    "    while q:\n",
    "        node = q.popleft();\n",
    "        if prevNode:\n",
    "            prevNode.next = node\n",
    "        prevNode = node\n",
    "        if node.left : q.append(node.left)\n",
    "        if node.right: q.append(node.right)\n",
    "    return root\n",
    "\n",
    "def printTree(root):\n",
    "    if root is None:\n",
    "        return []\n",
    "    temp = root\n",
    "    while temp.next:\n",
    "        print(temp.val, end = \"->\")\n",
    "        temp = temp.next\n",
    "    print(temp.val)\n",
    "    \n",
    "def levelOrder(root):\n",
    "    if root is None:\n",
    "        return []\n",
    "    q = deque([root])\n",
    "    while q:\n",
    "        node = q.popleft()\n",
    "        print(node.val, end = \" \")\n",
    "        if node.left: q.append(node.left)\n",
    "        if node.right: q.append(node.right)\n",
    "    "
   ]
  },
  {
   "cell_type": "code",
   "execution_count": 9,
   "id": "acc84898",
   "metadata": {},
   "outputs": [
    {
     "name": "stdout",
     "output_type": "stream",
     "text": [
      "Level order Tree\n",
      "2 7 1 9 10 5 \n",
      "After connected with sibling\n",
      "2->7->1->9->10->5\n"
     ]
    }
   ],
   "source": [
    "root = Node(2, Node(7, Node(9)), Node(1,Node(10), Node(5)))\n",
    "print(\"Level order Tree\")\n",
    "levelOrder(root)\n",
    "print(\"\\nAfter connected with sibling\")\n",
    "root = connectAllSiblings(root)\n",
    "printTree(root)"
   ]
  },
  {
   "cell_type": "code",
   "execution_count": null,
   "id": "0ce34b3d",
   "metadata": {},
   "outputs": [],
   "source": []
  }
 ],
 "metadata": {
  "kernelspec": {
   "display_name": "Python 3",
   "language": "python",
   "name": "python3"
  },
  "language_info": {
   "codemirror_mode": {
    "name": "ipython",
    "version": 3
   },
   "file_extension": ".py",
   "mimetype": "text/x-python",
   "name": "python",
   "nbconvert_exporter": "python",
   "pygments_lexer": "ipython3",
   "version": "3.8.8"
  }
 },
 "nbformat": 4,
 "nbformat_minor": 5
}
