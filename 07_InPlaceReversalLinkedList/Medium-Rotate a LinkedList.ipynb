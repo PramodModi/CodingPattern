{
 "cells": [
  {
   "cell_type": "markdown",
   "id": "a2f498f3",
   "metadata": {},
   "source": [
    "## Problem: Rotate a LinkedList\n",
    "LeetCode: 61. Rotate List\n",
    "https://leetcode.com/problems/rotate-list/description/\n",
    " \n",
    "Given the head of a linked list, rotate the list to the right by k places.\n",
    "\n",
    "Example 1:\n",
    "\n",
    "\n",
    "    Input: head = [1,2,3,4,5], k = 2\n",
    "    Output: [4,5,1,2,3]\n",
    "Example 2:\n",
    "\n",
    "\n",
    "    Input: head = [0,1,2], k = 4\n",
    "    Output: [2,0,1]\n",
    " \n",
    "\n",
    "Constraints:\n",
    "\n",
    "    The number of nodes in the list is in the range [0, 500].\n",
    "    -100 <= Node.val <= 100\n",
    "    0 <= k <= 2 * 109"
   ]
  },
  {
   "cell_type": "markdown",
   "id": "402cade6",
   "metadata": {},
   "source": [
    "### Approach:\n",
    "If K is less than number of nodes in the list then use two pointers. First move one pointer to k times, then move next pointer till the first pointer to reach to the end. Now, first pointer will point to end node and second pointer will point to kth node from end.\n",
    "However, if K is more than number of nodes, then take the modulo. If k is equal to number of nodes in the list then no need to rotate.\n",
    "\n",
    "Step:\n",
    "1. Find the number of nodes\n",
    "2. If list does not have a node return head\n",
    "3. Get the modulo of k\n",
    "4. Find the sublist of size K from the end. Use two pointers to reach kth node from end. Say two piinters as neaHead and endNode.\n",
    "5. endPoint should move k times first\n",
    "6. Now both pointers should move till the endPoint reach to the end node.\n",
    "7. A temporary node prevNode = neHead and move the newHead to next node.\n",
    "8. Assign prevNode.next to None. Becuase prevNode would be the last node of new List, hence prevNode.next must be None.\n",
    "9. endPoint will point to the head of original list and newHead would be new head.\n",
    "10. Return newHead"
   ]
  },
  {
   "cell_type": "code",
   "execution_count": 18,
   "id": "b70b672f",
   "metadata": {},
   "outputs": [],
   "source": [
    "# This is to create a link list\n",
    "class Node:\n",
    "    def __init__(self, val):\n",
    "        self.val = val\n",
    "        self.next = None\n",
    "\n",
    "def insertNode(head, val):\n",
    "    newNode = Node(val)\n",
    "    if head == None:\n",
    "        head = newNode\n",
    "        \n",
    "        return head\n",
    "    temp = head\n",
    "    while temp.next != None:\n",
    "        temp = temp.next\n",
    "    temp.next = newNode\n",
    "    return head\n",
    "\n",
    "\n",
    "def printLinkedList(head):\n",
    "    if not head:\n",
    "        print(\"Empty Linked list\")\n",
    "    temp = head\n",
    "    while temp.next:\n",
    "        print(temp.val, end = \"->\")\n",
    "        temp = temp.next\n",
    "    print(temp.val)"
   ]
  },
  {
   "cell_type": "code",
   "execution_count": 19,
   "id": "c4df0592",
   "metadata": {},
   "outputs": [],
   "source": [
    "def rotateRight(head, k):\n",
    "    numOfNodes = 0\n",
    "    temp = head\n",
    "    while temp:\n",
    "        numOfNodes += 1\n",
    "        temp = temp.next\n",
    "    k = k % numOfNodes\n",
    "\n",
    "    if k == 0:\n",
    "        return head\n",
    "    endNode = head\n",
    "    newHead = head\n",
    "    while k:\n",
    "        k -= 1\n",
    "        endNode = endNode.next\n",
    "        \n",
    "    while endNode.next:\n",
    "        endNode = endNode.next\n",
    "        newHead = newHead.next\n",
    "    prevNode = newHead\n",
    "    newHead = newHead.next\n",
    "    prevNode.next = None\n",
    "    endNode.next = head\n",
    "    return newHead"
   ]
  },
  {
   "cell_type": "code",
   "execution_count": 20,
   "id": "0952b88d",
   "metadata": {},
   "outputs": [
    {
     "name": "stdout",
     "output_type": "stream",
     "text": [
      "1->2->3->4->5\n",
      "4->5->1->2->3\n"
     ]
    }
   ],
   "source": [
    "head = None\n",
    "head = insertNode(head, 1)\n",
    "head = insertNode(head, 2)\n",
    "head = insertNode(head, 3)\n",
    "head = insertNode(head, 4)\n",
    "head = insertNode(head, 5)\n",
    "printLinkedList(head)\n",
    "head = rotateRight(head, 2)\n",
    "printLinkedList(head)"
   ]
  },
  {
   "cell_type": "code",
   "execution_count": 21,
   "id": "996bc901",
   "metadata": {},
   "outputs": [
    {
     "name": "stdout",
     "output_type": "stream",
     "text": [
      "0->1->2\n",
      "2->0->1\n"
     ]
    }
   ],
   "source": [
    "head = None\n",
    "head = insertNode(head, 0)\n",
    "head = insertNode(head, 1)\n",
    "head = insertNode(head, 2)\n",
    "printLinkedList(head)\n",
    "head = rotateRight(head, 4)\n",
    "printLinkedList(head)"
   ]
  },
  {
   "cell_type": "code",
   "execution_count": null,
   "id": "c2e09712",
   "metadata": {},
   "outputs": [],
   "source": []
  }
 ],
 "metadata": {
  "kernelspec": {
   "display_name": "Python 3",
   "language": "python",
   "name": "python3"
  },
  "language_info": {
   "codemirror_mode": {
    "name": "ipython",
    "version": 3
   },
   "file_extension": ".py",
   "mimetype": "text/x-python",
   "name": "python",
   "nbconvert_exporter": "python",
   "pygments_lexer": "ipython3",
   "version": "3.8.8"
  }
 },
 "nbformat": 4,
 "nbformat_minor": 5
}
