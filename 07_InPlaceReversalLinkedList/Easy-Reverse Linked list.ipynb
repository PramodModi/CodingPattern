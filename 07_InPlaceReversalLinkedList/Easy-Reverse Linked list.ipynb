{
 "cells": [
  {
   "cell_type": "markdown",
   "id": "ca21e6ae",
   "metadata": {},
   "source": [
    "## Problem: Reverse Linked List\n",
    "LeetCode: 206. Reverse Linked List\n",
    "\n",
    "https://leetcode.com/problems/reverse-linked-list/\n",
    "\n",
    "Given the head of a singly linked list, reverse the list, and return the reversed list.\n",
    "\n",
    " \n",
    "\n",
    "Example 1:\n",
    "\n",
    "\n",
    "    Input: head = [1,2,3,4,5]\n",
    "    Output: [5,4,3,2,1]\n",
    "Example 2:\n",
    "\n",
    "\n",
    "    Input: head = [1,2]\n",
    "    Output: [2,1]\n",
    "Example 3:\n",
    "\n",
    "    Input: head = []\n",
    "    Output: []\n",
    " \n",
    "\n",
    "Constraints:\n",
    "\n",
    "    The number of nodes in the list is the range [0, 5000].\n",
    "    -5000 <= Node.val <= 5000\n"
   ]
  },
  {
   "cell_type": "code",
   "execution_count": 22,
   "id": "7a004411",
   "metadata": {},
   "outputs": [],
   "source": [
    "# This is to create a link list\n",
    "class Node:\n",
    "    def __init__(self, val):\n",
    "        self.val = val\n",
    "        self.next = None\n",
    "\n",
    "def insertNode(head, val):\n",
    "    newNode = Node(val)\n",
    "    if head == None:\n",
    "        head = newNode\n",
    "        return head\n",
    "    temp = head\n",
    "    while temp.next != None:\n",
    "        temp = temp.next\n",
    "    temp.next = newNode\n",
    "    return head\n",
    "\n",
    "\n",
    "def printLinkedList(head):\n",
    "    if not head:\n",
    "        print(\"Empty Linked list\")\n",
    "    temp = head\n",
    "    while temp.next:\n",
    "        print(temp.val, end = \"->\")\n",
    "        temp = temp.next\n",
    "    print(temp.val)"
   ]
  },
  {
   "cell_type": "code",
   "execution_count": 23,
   "id": "eead4921",
   "metadata": {},
   "outputs": [],
   "source": [
    "def reverseLinkedList(head):\n",
    "    prev, cur = None, head\n",
    "    while cur:\n",
    "        temp = cur\n",
    "        cur = cur.next\n",
    "        temp.next = prev\n",
    "        prev = temp\n",
    "    return prev"
   ]
  },
  {
   "cell_type": "code",
   "execution_count": 24,
   "id": "5f58a0df",
   "metadata": {},
   "outputs": [
    {
     "name": "stdout",
     "output_type": "stream",
     "text": [
      "1->2->3->4\n",
      "4->3->2->1\n"
     ]
    }
   ],
   "source": [
    "## Example 1\n",
    "# Craete link list\n",
    "\n",
    "head = None\n",
    "head = insertNode(head, 1)\n",
    "head = insertNode(head, 2)\n",
    "head = insertNode(head, 3)\n",
    "head = insertNode(head, 4)\n",
    "\n",
    "# Check Palindrome\n",
    "printLinkedList(head)\n",
    "head = reverseLinkedList(head)\n",
    "printLinkedList(head)"
   ]
  },
  {
   "cell_type": "code",
   "execution_count": null,
   "id": "38277fe9",
   "metadata": {},
   "outputs": [],
   "source": []
  }
 ],
 "metadata": {
  "kernelspec": {
   "display_name": "Python 3",
   "language": "python",
   "name": "python3"
  },
  "language_info": {
   "codemirror_mode": {
    "name": "ipython",
    "version": 3
   },
   "file_extension": ".py",
   "mimetype": "text/x-python",
   "name": "python",
   "nbconvert_exporter": "python",
   "pygments_lexer": "ipython3",
   "version": "3.8.8"
  }
 },
 "nbformat": 4,
 "nbformat_minor": 5
}
