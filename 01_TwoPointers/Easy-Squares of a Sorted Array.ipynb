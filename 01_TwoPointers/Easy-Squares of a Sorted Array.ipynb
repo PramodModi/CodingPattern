{
 "cells": [
  {
   "cell_type": "markdown",
   "id": "364df7cd",
   "metadata": {},
   "source": [
    "## Problem: 977. Squares of a Sorted Array\n",
    "https://leetcode.com/problems/squares-of-a-sorted-array/description/\n",
    "\n",
    "Given an integer array nums sorted in non-decreasing order, return an array of the squares of each number sorted in non-decreasing order.\n",
    "\n",
    " \n",
    "\n",
    "Example 1:\n",
    "\n",
    "    Input: nums = [-4,-1,0,3,10]\n",
    "    Output: [0,1,9,16,100]\n",
    "    Explanation: After squaring, the array becomes [16,1,0,9,100].\n",
    "    After sorting, it becomes [0,1,9,16,100].\n",
    "Example 2:\n",
    "\n",
    "    Input: nums = [-7,-3,2,3,11]\n",
    "    Output: [4,9,9,49,121]\n",
    "\n",
    "\n",
    "Constraints:\n",
    "\n",
    "    1 <= nums.length <= 104\n",
    "    -104 <= nums[i] <= 104\n",
    "    nums is sorted in non-decreasing order."
   ]
  },
  {
   "cell_type": "markdown",
   "id": "412aa018",
   "metadata": {},
   "source": [
    "### Approach:\n",
    "As array can have negative numbers, so simply square of each numbers will not work here. Example: in non decresing order, -3 come before 2, but after squre -3 will become 9 and 2 will become 4. Hence, 9 should come after 4.So, simply square at the same position will give wrong ordering.\n",
    "1. Since data is sorted, so we can apply Two pointers approach. Left at position 0 and right at position end.\n",
    "2. Compare the square value of numbers at both position.\n",
    "3. If sqaure value of number at right position is greater than square value of number at left position then take the square value of number at right position and append it to result list and decrese the right position. \n",
    "4. Else, do the same for square value of left position number and increase the left position.\n",
    "5. Since we are looking for larger value, so insertion of value in result list should be from back side.\n",
    "6. Keep an index, starting with last position (len(nums)-1) and keep decresing on each time value is inserted.\n"
   ]
  },
  {
   "cell_type": "code",
   "execution_count": 1,
   "id": "a01b72f6",
   "metadata": {},
   "outputs": [],
   "source": [
    "def sortedSquares(nums):\n",
    "    left, right = 0, len(nums)-1\n",
    "    result = [0] * len(nums)\n",
    "    index = len(nums)-1\n",
    "    \n",
    "    while left <= right:\n",
    "        l = nums[left]\n",
    "        l = l*l\n",
    "        r = nums[right]\n",
    "        r = r*r\n",
    "        \n",
    "        if r>= l:\n",
    "            result[index] = r\n",
    "            right -= 1\n",
    "        else:\n",
    "            result[index] = l\n",
    "            left += 1\n",
    "        index -= 1\n",
    "    return result\n",
    "            \n",
    "        "
   ]
  },
  {
   "cell_type": "code",
   "execution_count": 2,
   "id": "772019e1",
   "metadata": {},
   "outputs": [
    {
     "data": {
      "text/plain": [
       "[0, 1, 9, 16, 100]"
      ]
     },
     "execution_count": 2,
     "metadata": {},
     "output_type": "execute_result"
    }
   ],
   "source": [
    "nums = [-4,-1,0,3,10]\n",
    "sortedSquares(nums)"
   ]
  },
  {
   "cell_type": "code",
   "execution_count": 4,
   "id": "a1915fd9",
   "metadata": {},
   "outputs": [
    {
     "data": {
      "text/plain": [
       "[4, 9, 9, 49, 121]"
      ]
     },
     "execution_count": 4,
     "metadata": {},
     "output_type": "execute_result"
    }
   ],
   "source": [
    "nums = [-7,-3,2,3,11]\n",
    "sortedSquares(nums)"
   ]
  },
  {
   "cell_type": "code",
   "execution_count": 5,
   "id": "8d77cf7b",
   "metadata": {},
   "outputs": [
    {
     "data": {
      "text/plain": [
       "[1, 4, 9, 16, 49]"
      ]
     },
     "execution_count": 5,
     "metadata": {},
     "output_type": "execute_result"
    }
   ],
   "source": [
    "nums = [-7,-4,-3,-2,-1]\n",
    "sortedSquares(nums)"
   ]
  },
  {
   "cell_type": "code",
   "execution_count": null,
   "id": "5d477e95",
   "metadata": {},
   "outputs": [],
   "source": []
  }
 ],
 "metadata": {
  "kernelspec": {
   "display_name": "Python 3",
   "language": "python",
   "name": "python3"
  },
  "language_info": {
   "codemirror_mode": {
    "name": "ipython",
    "version": 3
   },
   "file_extension": ".py",
   "mimetype": "text/x-python",
   "name": "python",
   "nbconvert_exporter": "python",
   "pygments_lexer": "ipython3",
   "version": "3.8.8"
  }
 },
 "nbformat": 4,
 "nbformat_minor": 5
}
