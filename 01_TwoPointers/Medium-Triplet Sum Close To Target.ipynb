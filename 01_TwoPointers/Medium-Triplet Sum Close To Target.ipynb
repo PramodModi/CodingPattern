{
 "cells": [
  {
   "cell_type": "markdown",
   "id": "9991c5d8",
   "metadata": {},
   "source": [
    "## Problem : Trplet Sum close to Target. 16. 3Sum Closest\n",
    "https://leetcode.com/problems/3sum-closest/description/\n",
    "\n",
    "Given an integer array nums of length n and an integer target, find three integers in nums such that the sum is closest to target.\n",
    "\n",
    "Return the sum of the three integers.\n",
    "\n",
    "You may assume that each input would have exactly one solution.\n",
    "\n",
    " \n",
    "\n",
    "Example 1:\n",
    "\n",
    "    Input: nums = [-1,2,1,-4], target = 1\n",
    "    Output: 2\n",
    "    Explanation: The sum that is closest to the target is 2. (-1 + 2 + 1 = 2).\n",
    "Example 2:\n",
    "\n",
    "    Input: nums = [0,0,0], target = 1\n",
    "    Output: 0\n",
    "    Explanation: The sum that is closest to the target is 0. (0 + 0 + 0 = 0).\n",
    " \n",
    "\n",
    "Constraints:\n",
    "\n",
    "    3 <= nums.length <= 500\n",
    "    -1000 <= nums[i] <= 1000\n",
    "    -104 <= target <= 104"
   ]
  },
  {
   "cell_type": "markdown",
   "id": "8d3cd434",
   "metadata": {},
   "source": [
    "### Approach:\n",
    "    This is simlar to Triplet sum to zero problem. Iteration woould be same with Two pointers approach with for loop above.\n",
    "    Here, need to check the difference of sum with Target in each iteration. \n",
    "    If diff is smaller then that sum is the answer."
   ]
  },
  {
   "cell_type": "code",
   "execution_count": 3,
   "id": "7e1ae6f0",
   "metadata": {},
   "outputs": [],
   "source": [
    "def threeSumClosest(nums, target):\n",
    "    closeToTarget = nums[0] + nums[1] + nums[2]\n",
    "    if closeToTarget - target == 0:\n",
    "        return target\n",
    "    nums.sort()\n",
    "    for i in range(len(nums)-2):\n",
    "        left = i+1\n",
    "        right = len(nums)-1\n",
    "        while left < right:\n",
    "            n = nums[i] + nums[left] + nums[right]\n",
    "            diff = abs(n-target)\n",
    "            if diff == 0:\n",
    "                return target\n",
    "            if diff < abs(closeToTarget - target):\n",
    "                closeToTarget = n\n",
    "            if n > target:\n",
    "                right -= 1\n",
    "            else:\n",
    "                left += 1\n",
    "    return closeToTarget\n"
   ]
  },
  {
   "cell_type": "code",
   "execution_count": 4,
   "id": "20523d6e",
   "metadata": {},
   "outputs": [
    {
     "data": {
      "text/plain": [
       "2"
      ]
     },
     "execution_count": 4,
     "metadata": {},
     "output_type": "execute_result"
    }
   ],
   "source": [
    "nums = [-1,2,1,-4]\n",
    "target = 1\n",
    "threeSumClosest(nums, target)"
   ]
  },
  {
   "cell_type": "code",
   "execution_count": 5,
   "id": "956deb0b",
   "metadata": {},
   "outputs": [
    {
     "data": {
      "text/plain": [
       "0"
      ]
     },
     "execution_count": 5,
     "metadata": {},
     "output_type": "execute_result"
    }
   ],
   "source": [
    "nums = [0,0,0,0]\n",
    "target = 1\n",
    "threeSumClosest(nums, target)"
   ]
  },
  {
   "cell_type": "code",
   "execution_count": null,
   "id": "c9647628",
   "metadata": {},
   "outputs": [],
   "source": []
  }
 ],
 "metadata": {
  "kernelspec": {
   "display_name": "Python 3",
   "language": "python",
   "name": "python3"
  },
  "language_info": {
   "codemirror_mode": {
    "name": "ipython",
    "version": 3
   },
   "file_extension": ".py",
   "mimetype": "text/x-python",
   "name": "python",
   "nbconvert_exporter": "python",
   "pygments_lexer": "ipython3",
   "version": "3.8.8"
  }
 },
 "nbformat": 4,
 "nbformat_minor": 5
}
