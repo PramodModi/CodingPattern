{
 "cells": [
  {
   "cell_type": "markdown",
   "id": "60eb7dff",
   "metadata": {},
   "source": [
    "## Problem: 713. Subarray Product Less Than K\n",
    "https://leetcode.com/problems/subarray-product-less-than-k/description/\n",
    "\n",
    "Given an array of integers nums and an integer k, return the number of contiguous subarrays where the product of all the elements in the subarray is strictly less than k.\n",
    "\n",
    " \n",
    "\n",
    "Example 1:\n",
    "\n",
    "    Input: nums = [10,5,2,6], k = 100\n",
    "    Output: 8\n",
    "    Explanation: The 8 subarrays that have product less than 100 are:\n",
    "    [10], [5], [2], [6], [10, 5], [5, 2], [2, 6], [5, 2, 6]\n",
    "    Note that [10, 5, 2] is not included as the product of 100 is not strictly less than k.\n",
    "Example 2:\n",
    "\n",
    "    Input: nums = [1,2,3], k = 0\n",
    "    Output: 0\n",
    " \n",
    "\n",
    "Constraints:\n",
    "\n",
    "    1 <= nums.length <= 3 * 104\n",
    "    1 <= nums[i] <= 1000\n",
    "    0 <= k <= 106"
   ]
  },
  {
   "cell_type": "raw",
   "id": "12cfe6bd",
   "metadata": {},
   "source": [
    "Approach:\n",
    "    This is the combination of Sliding Window and Two pointers pattern problem.\n",
    "    As, array is not sorted and answer needs in contiguous subarray (so can not sort the array).\n",
    "    Idea here is to take two pointers, left and right. Both start from zero. keep moving the right pointer with product of each number and keep checking if product is less tha K.\n",
    "    If product is less than K, then increase the count, by (left-right+1).\n",
    "    If product is greater than K, then remove the number at left index (divide the product by the number) and move left to next position, untill product is less than K."
   ]
  },
  {
   "cell_type": "code",
   "execution_count": 3,
   "id": "20cc8423",
   "metadata": {},
   "outputs": [],
   "source": [
    "def numSubarrayProductLessThanK(nums, k):\n",
    "    product = 1\n",
    "    left, right =0, 0\n",
    "    count = 0\n",
    "    while right < len(nums):\n",
    "        product *= nums[right]\n",
    "        \n",
    "        while product >= k and left<= right:\n",
    "            product = product//nums[left]\n",
    "            left += 1\n",
    "        if product < k:\n",
    "            count += (right -left + 1)\n",
    "        right += 1\n",
    "    return count\n",
    "            \n",
    "            "
   ]
  },
  {
   "cell_type": "code",
   "execution_count": 4,
   "id": "a8f7f044",
   "metadata": {},
   "outputs": [
    {
     "data": {
      "text/plain": [
       "8"
      ]
     },
     "execution_count": 4,
     "metadata": {},
     "output_type": "execute_result"
    }
   ],
   "source": [
    "nums = [10,5,2,6]\n",
    "k = 100\n",
    "numSubarrayProductLessThanK(nums, k)"
   ]
  },
  {
   "cell_type": "code",
   "execution_count": 5,
   "id": "0057f056",
   "metadata": {},
   "outputs": [
    {
     "data": {
      "text/plain": [
       "0"
      ]
     },
     "execution_count": 5,
     "metadata": {},
     "output_type": "execute_result"
    }
   ],
   "source": [
    "nums =[1,2,3]\n",
    "k = 0\n",
    "numSubarrayProductLessThanK(nums, k)"
   ]
  },
  {
   "cell_type": "code",
   "execution_count": null,
   "id": "1f98c4ec",
   "metadata": {},
   "outputs": [],
   "source": []
  }
 ],
 "metadata": {
  "kernelspec": {
   "display_name": "Python 3",
   "language": "python",
   "name": "python3"
  },
  "language_info": {
   "codemirror_mode": {
    "name": "ipython",
    "version": 3
   },
   "file_extension": ".py",
   "mimetype": "text/x-python",
   "name": "python",
   "nbconvert_exporter": "python",
   "pygments_lexer": "ipython3",
   "version": "3.8.8"
  }
 },
 "nbformat": 4,
 "nbformat_minor": 5
}
