{
 "cells": [
  {
   "cell_type": "markdown",
   "id": "6122afc3",
   "metadata": {},
   "source": [
    "## Problem: Minimum Window Sort\n",
    "LeetCode: 581. Shortest Unsorted Continuous Subarray\n",
    "https://leetcode.com/problems/shortest-unsorted-continuous-subarray/description/\n",
    "\n",
    "Given an integer array nums, you need to find one continuous subarray such that if you only sort this subarray in non-decreasing order, then the whole array will be sorted in non-decreasing order.\n",
    "\n",
    "Return the shortest such subarray and output its length.\n",
    "\n",
    " \n",
    "\n",
    "Example 1:\n",
    "\n",
    "    Input: nums = [2,6,4,8,10,9,15]\n",
    "    Output: 5\n",
    "    Explanation: You need to sort [6, 4, 8, 10, 9] in ascending order to make the whole array sorted in ascending order.\n",
    "Example 2:\n",
    "\n",
    "    Input: nums = [1,2,3,4]\n",
    "    Output: 0\n",
    "Example 3:\n",
    "\n",
    "    Input: nums = [1]\n",
    "    Output: 0\n",
    " \n",
    "\n",
    "Constraints:\n",
    "\n",
    "    1 <= nums.length <= 104\n",
    "    -105 <= nums[i] <= 105"
   ]
  },
  {
   "cell_type": "markdown",
   "id": "c1764515",
   "metadata": {},
   "source": [
    "### Approach:\n",
    "    Find out the item when ordering is broken.Means when earlier number is greater than next number. To kow the positions from where ordering should restore, we must know the minimum number and maximum number in broken order. \n",
    "    So, get minimum number and maximum number whenever ordering is broken in a for loop.\n",
    " If no orderig is broken, then return zero.\n",
    " Now, we have minimum number and maximum number, find the index of minimum number and maximum number:\n",
    "     Index of minimum number: Start from zero (leftIndex), keep moving to next element till minimum number is greater than number at leftIndex\n",
    "     Index of maximum number: Start from last position (len(nums)-1), keep moving to previous element till maximum number is less than number at right index.\n",
    " return diffrence of left and right index.\n",
    "     "
   ]
  },
  {
   "cell_type": "code",
   "execution_count": 4,
   "id": "60e9ba90",
   "metadata": {},
   "outputs": [],
   "source": [
    "def findUnsortedSubarray(nums):\n",
    "    leftItem = float(\"inf\")\n",
    "    rightItem = float(\"-inf\")\n",
    "    \n",
    "    for i in range(1, len(nums)):\n",
    "        if nums[i] < nums[i-1]:\n",
    "            leftItem = min(leftItem, nums[i])\n",
    "            rightItem = max(rightItem, nums[i-1])\n",
    "    if leftItem == float(\"inf\"):\n",
    "        return 0\n",
    "    left = 0\n",
    "    right = len(nums)-1\n",
    "    \n",
    "    while leftItem >= nums[left]:\n",
    "        left +=1\n",
    "    while rightItem <= nums[right]:\n",
    "        right -=1 \n",
    "    return right - left +1"
   ]
  },
  {
   "cell_type": "code",
   "execution_count": 5,
   "id": "ca756b09",
   "metadata": {},
   "outputs": [
    {
     "data": {
      "text/plain": [
       "5"
      ]
     },
     "execution_count": 5,
     "metadata": {},
     "output_type": "execute_result"
    }
   ],
   "source": [
    "nums = [2,6,4,8,10,9,15]\n",
    "findUnsortedSubarray(nums)"
   ]
  },
  {
   "cell_type": "code",
   "execution_count": 6,
   "id": "3a3c83b1",
   "metadata": {},
   "outputs": [
    {
     "data": {
      "text/plain": [
       "0"
      ]
     },
     "execution_count": 6,
     "metadata": {},
     "output_type": "execute_result"
    }
   ],
   "source": [
    "nums = [1,2,3,4]\n",
    "findUnsortedSubarray(nums)"
   ]
  },
  {
   "cell_type": "code",
   "execution_count": null,
   "id": "35bb624f",
   "metadata": {},
   "outputs": [],
   "source": []
  }
 ],
 "metadata": {
  "kernelspec": {
   "display_name": "Python 3",
   "language": "python",
   "name": "python3"
  },
  "language_info": {
   "codemirror_mode": {
    "name": "ipython",
    "version": 3
   },
   "file_extension": ".py",
   "mimetype": "text/x-python",
   "name": "python",
   "nbconvert_exporter": "python",
   "pygments_lexer": "ipython3",
   "version": "3.8.8"
  }
 },
 "nbformat": 4,
 "nbformat_minor": 5
}
