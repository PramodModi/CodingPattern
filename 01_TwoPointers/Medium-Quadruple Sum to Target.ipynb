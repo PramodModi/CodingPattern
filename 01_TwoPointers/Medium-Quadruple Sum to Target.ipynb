{
 "cells": [
  {
   "cell_type": "markdown",
   "id": "a42983c5",
   "metadata": {},
   "source": [
    "## Problem: Quadruple Sum to Target\n",
    "LeetCode: https://leetcode.com/problems/4sum/\n",
    "\n",
    "Given an array of unsorted numbers and a target number, find all unique quadruplets in it, whose sum is equal to the target number.\n",
    "unique quadruplets [nums[a], nums[b], nums[c], nums[d]] such that:\n",
    "\n",
    "0 <= a, b, c, d < n\n",
    "a, b, c, and d are distinct.\n",
    "nums[a] + nums[b] + nums[c] + nums[d] == target\n",
    "You may return the answer in any order.\n",
    "\n",
    "Example 1:\n",
    "\n",
    "    Input: [4, 1, 2, -1, 1, -3], target=1\n",
    "    Output: [-3, -1, 1, 4], [-3, 1, 1, 2]\n",
    "    Explanation: Both the quadruplets add up to the target.\n",
    "Example 2:\n",
    "\n",
    "    Input: [2, 0, -1, 1, -2, 2], target=2\n",
    "    Output: [-2, 0, 2, 2], [-1, 0, 1, 2]\n",
    "    Explanation: Both the quadruplets add up to the target.\n",
    "    \n",
    "    \n",
    "Constraints:\n",
    "\n",
    "    1 <= nums.length <= 200\n",
    "    -109 <= nums[i] <= 109\n",
    "    -109 <= target <= 109"
   ]
  },
  {
   "cell_type": "markdown",
   "id": "e7fbc319",
   "metadata": {},
   "source": [
    "### Approach:\n",
    "The approach is similar to Three sum problem. Only need to add extra loop. "
   ]
  },
  {
   "cell_type": "code",
   "execution_count": 1,
   "id": "0dc7d41a",
   "metadata": {},
   "outputs": [],
   "source": [
    "def fourSum(nums, target):\n",
    "    result = set()\n",
    "    nums.sort()\n",
    "    for i in range(len(nums)-3):\n",
    "        for j in range(i+1, len(nums)-2):\n",
    "            left = j+1\n",
    "            right = len(nums)-1\n",
    "            while left < right:\n",
    "                sum = nums[i]+ nums[j]+ nums[left] + nums[right]\n",
    "                if sum == target:\n",
    "                    result.add((nums[i], nums[j], nums[left], nums[right]))\n",
    "                    left += 1\n",
    "                    right -= 1\n",
    "                elif sum > target:\n",
    "                    right -= 1\n",
    "                else:\n",
    "                    left += 1\n",
    "    return result"
   ]
  },
  {
   "cell_type": "code",
   "execution_count": 4,
   "id": "3c53b19b",
   "metadata": {},
   "outputs": [
    {
     "data": {
      "text/plain": [
       "{(-3, -1, 1, 4), (-3, 1, 1, 2)}"
      ]
     },
     "execution_count": 4,
     "metadata": {},
     "output_type": "execute_result"
    }
   ],
   "source": [
    "nums = [4, 1, 2, -1, 1, -3]\n",
    "target=1\n",
    "fourSum(nums, target)"
   ]
  },
  {
   "cell_type": "code",
   "execution_count": 5,
   "id": "3a84bc3e",
   "metadata": {},
   "outputs": [
    {
     "data": {
      "text/plain": [
       "{(-2, 0, 2, 2), (-1, 0, 1, 2)}"
      ]
     },
     "execution_count": 5,
     "metadata": {},
     "output_type": "execute_result"
    }
   ],
   "source": [
    "nums = [2, 0, -1, 1, -2, 2]\n",
    "target=2\n",
    "fourSum(nums, target)"
   ]
  },
  {
   "cell_type": "code",
   "execution_count": null,
   "id": "5f9bd92c",
   "metadata": {},
   "outputs": [],
   "source": []
  }
 ],
 "metadata": {
  "kernelspec": {
   "display_name": "Python 3",
   "language": "python",
   "name": "python3"
  },
  "language_info": {
   "codemirror_mode": {
    "name": "ipython",
    "version": 3
   },
   "file_extension": ".py",
   "mimetype": "text/x-python",
   "name": "python",
   "nbconvert_exporter": "python",
   "pygments_lexer": "ipython3",
   "version": "3.8.8"
  }
 },
 "nbformat": 4,
 "nbformat_minor": 5
}
