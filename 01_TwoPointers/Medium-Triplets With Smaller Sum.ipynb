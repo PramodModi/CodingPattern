{
 "cells": [
  {
   "cell_type": "markdown",
   "id": "89e65f65",
   "metadata": {},
   "source": [
    "## Problem: Triplets with Smaller Sum\n",
    "https://www.geeksforgeeks.org/count-triplets-with-sum-smaller-that-a-given-value/\n",
    "\n",
    "Given an array of distinct integers and a target value. Find count of triplets with sum smaller than given target value. The expected Time Complexity is O(n2).\n",
    "Example1: \n",
    " \n",
    "    Input : nums = [-2, 0, 1, 3]\n",
    "    target = 2.\n",
    "    Output : 2\n",
    "    Explanation :  Below are triplets with sum less than 2\n",
    "               (-2, 0, 1) and (-2, 0, 3) \n",
    "Example2:\n",
    "\n",
    "    Input : nums = [5, 1, 3, 4, 7]\n",
    "    target = 12.\n",
    "    Output : 4\n",
    "    Explanation :  Below are triplets with sum less than 12\n",
    "                   (1, 3, 4), (1, 3, 5), (1, 3, 7) and \n",
    "                   (1, 4, 5)"
   ]
  },
  {
   "cell_type": "raw",
   "id": "15293e99",
   "metadata": {},
   "source": [
    "Approach:\n",
    "    The approach is same as Triplet Sum, Two pointers approach. \n",
    "    Take a count varaible, which will be updated whenever, sum is less than Target. \n",
    "    The trick here is, count += (right -left), becuase there can be (right-left) possibility of addition."
   ]
  },
  {
   "cell_type": "code",
   "execution_count": 6,
   "id": "dfa70ce7",
   "metadata": {},
   "outputs": [],
   "source": [
    "def countTriplets(nums, target):\n",
    "    count = 0\n",
    "    nums.sort()\n",
    "    for i in range(len(nums)-2):\n",
    "        left = i + 1\n",
    "        right = len(nums)-1\n",
    "        while left < right:\n",
    "            sum = nums[i] + nums[left] + nums[right]\n",
    "            if sum >= target:\n",
    "                right -= 1\n",
    "            else:\n",
    "                count += (right -left)\n",
    "                left += 1\n",
    "        return count\n",
    "            "
   ]
  },
  {
   "cell_type": "code",
   "execution_count": 7,
   "id": "c65db18c",
   "metadata": {},
   "outputs": [
    {
     "data": {
      "text/plain": [
       "2"
      ]
     },
     "execution_count": 7,
     "metadata": {},
     "output_type": "execute_result"
    }
   ],
   "source": [
    "nums = [-2, 0, 1, 3]\n",
    "target = 2\n",
    "countTriplets(nums, target)"
   ]
  },
  {
   "cell_type": "code",
   "execution_count": 8,
   "id": "0f73aa3f",
   "metadata": {},
   "outputs": [
    {
     "data": {
      "text/plain": [
       "4"
      ]
     },
     "execution_count": 8,
     "metadata": {},
     "output_type": "execute_result"
    }
   ],
   "source": [
    "nums = [5, 1, 3, 4, 7]\n",
    "target = 12\n",
    "countTriplets(nums, target)"
   ]
  },
  {
   "cell_type": "code",
   "execution_count": null,
   "id": "30e58a49",
   "metadata": {},
   "outputs": [],
   "source": []
  }
 ],
 "metadata": {
  "kernelspec": {
   "display_name": "Python 3",
   "language": "python",
   "name": "python3"
  },
  "language_info": {
   "codemirror_mode": {
    "name": "ipython",
    "version": 3
   },
   "file_extension": ".py",
   "mimetype": "text/x-python",
   "name": "python",
   "nbconvert_exporter": "python",
   "pygments_lexer": "ipython3",
   "version": "3.8.8"
  }
 },
 "nbformat": 4,
 "nbformat_minor": 5
}
