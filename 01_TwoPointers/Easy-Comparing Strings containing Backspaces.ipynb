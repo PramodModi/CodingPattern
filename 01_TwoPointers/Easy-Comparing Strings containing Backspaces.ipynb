{
 "cells": [
  {
   "cell_type": "markdown",
   "id": "36e78044",
   "metadata": {},
   "source": [
    "## Problem: Comparing Strings containing Backspaces\n",
    "LeetCode: 844. Backspace String Compare\n",
    "https://leetcode.com/problems/backspace-string-compare/description/\n",
    "\n",
    "Given two strings s and t, return true if they are equal when both are typed into empty text editors. '#' means a backspace character.\n",
    "\n",
    "Note that after backspacing an empty text, the text will continue empty.\n",
    "\n",
    " \n",
    "\n",
    "Example 1:\n",
    "\n",
    "    Input: s = \"ab#c\", t = \"ad#c\"\n",
    "    Output: true\n",
    "    Explanation: Both s and t become \"ac\".\n",
    "Example 2:\n",
    "\n",
    "    Input: s = \"ab##\", t = \"c#d#\"\n",
    "    Output: true\n",
    "    Explanation: Both s and t become \"\".\n",
    "Example 3:\n",
    "\n",
    "    Input: s = \"a#c\", t = \"b\"\n",
    "    Output: false\n",
    "    Explanation: s becomes \"c\" while t becomes \"b\".\n",
    " \n",
    "\n",
    "Constraints:\n",
    "\n",
    "    1 <= s.length, t.length <= 200\n",
    "    s and t only contain lowercase letters and '#' characters."
   ]
  },
  {
   "cell_type": "raw",
   "id": "4f682579",
   "metadata": {},
   "source": [
    "Approach: \n",
    "It does not follow the template so far of Two pointers pattern.\n",
    "Start from last index, move index with number of backspaces, compare letters from both string at that position and return True or False.\n",
    "1. Two pointers each for each strings, set position to last character of string.\n",
    "2. Get the index of next real character, after removing backspaces from both string\n",
    "    1. Call separate method to remove backspace, by passing string and pointer.\n",
    "    2. Define a placeholder for count of backspaces.\n",
    "    3. In while loop:\n",
    "    4. Check if backspace is there at pointer\n",
    "    5. If yes, then increase the count of backspace by 1\n",
    "    6. If not, then check if backspace > 0, then reduce the backspace. Will kep decreasing the pointer, so that once backspace is zero, then pointer will be pointing to real character.\n",
    "    7. Break the loop, if no character at position pointer is neither # nor backspace > 0.\n",
    "    8. Return pointer.\n",
    "3. Return True, if index of both strings are less than zero. (Both are empty strings)\n",
    "4. Return False, if index of one string is positive and another is negative.\n",
    "5. Return False, if characters at index from both string are different.\n",
    "6. Pointers will be assigned to index-1 position.\n",
    "7. At the end return True."
   ]
  },
  {
   "cell_type": "code",
   "execution_count": 5,
   "id": "97c9558e",
   "metadata": {},
   "outputs": [],
   "source": [
    "def backspaceCompare(s,t):\n",
    "    pointer1 = len(s)-1\n",
    "    pointer2 = len(t)-1\n",
    "    \n",
    "    while pointer1 >= 0 or pointer2 >= 0:\n",
    "        index1 = getCharacterIndex(s, pointer1)\n",
    "        index2 = getCharacterIndex(t, pointer2)\n",
    "        if index1 < 0 and index2 < 0:\n",
    "            return True\n",
    "        if index1 < 0 or index2 < 0:\n",
    "            return False\n",
    "        if s[index1] != t[index2]:\n",
    "            return False\n",
    "        pointer1 = index1-1\n",
    "        pointer2 = index2-1\n",
    "    return True\n",
    "\n",
    "def getCharacterIndex(string, pointer):\n",
    "    backSpace = 0\n",
    "    while pointer >= 0:\n",
    "        if string[pointer] == \"#\":\n",
    "            backSpace += 1\n",
    "        elif backSpace > 0:\n",
    "            backSpace -= 1\n",
    "        else:\n",
    "            break\n",
    "        pointer -= 1\n",
    "    return pointer"
   ]
  },
  {
   "cell_type": "code",
   "execution_count": 6,
   "id": "52dcec8f",
   "metadata": {},
   "outputs": [
    {
     "data": {
      "text/plain": [
       "True"
      ]
     },
     "execution_count": 6,
     "metadata": {},
     "output_type": "execute_result"
    }
   ],
   "source": [
    "s = \"ab#c\"\n",
    "t = \"ad#c\"\n",
    "backspaceCompare(s,t)"
   ]
  },
  {
   "cell_type": "code",
   "execution_count": 7,
   "id": "ae2a1664",
   "metadata": {},
   "outputs": [
    {
     "data": {
      "text/plain": [
       "True"
      ]
     },
     "execution_count": 7,
     "metadata": {},
     "output_type": "execute_result"
    }
   ],
   "source": [
    "s =\"ab##\"\n",
    "t = \"c#d#\"\n",
    "backspaceCompare(s,t)"
   ]
  },
  {
   "cell_type": "code",
   "execution_count": 8,
   "id": "8b6faa37",
   "metadata": {},
   "outputs": [
    {
     "data": {
      "text/plain": [
       "False"
      ]
     },
     "execution_count": 8,
     "metadata": {},
     "output_type": "execute_result"
    }
   ],
   "source": [
    "s = \"a#c\"\n",
    "t = \"b\"\n",
    "backspaceCompare(s,t)"
   ]
  },
  {
   "cell_type": "code",
   "execution_count": null,
   "id": "6a91111c",
   "metadata": {},
   "outputs": [],
   "source": []
  }
 ],
 "metadata": {
  "kernelspec": {
   "display_name": "Python 3",
   "language": "python",
   "name": "python3"
  },
  "language_info": {
   "codemirror_mode": {
    "name": "ipython",
    "version": 3
   },
   "file_extension": ".py",
   "mimetype": "text/x-python",
   "name": "python",
   "nbconvert_exporter": "python",
   "pygments_lexer": "ipython3",
   "version": "3.8.8"
  }
 },
 "nbformat": 4,
 "nbformat_minor": 5
}
