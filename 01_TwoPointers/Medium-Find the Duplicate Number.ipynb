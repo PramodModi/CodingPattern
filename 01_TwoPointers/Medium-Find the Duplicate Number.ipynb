{
 "cells": [
  {
   "cell_type": "markdown",
   "id": "844ec175",
   "metadata": {},
   "source": [
    "## Problems: Find the Duplicate Number\n",
    "LeetCode: 287. Find the Duplicate Number\n",
    "\n",
    "https://leetcode.com/problems/find-the-duplicate-number/description/\n",
    "\n",
    "Given an array of integers nums containing n + 1 integers where each integer is in the range [1, n] inclusive.\n",
    "\n",
    "There is only one repeated number in nums, return this repeated number.\n",
    "\n",
    "You must solve the problem without modifying the array nums and uses only constant extra space.\n",
    "\n",
    " \n",
    "\n",
    "Example 1:\n",
    "\n",
    "    Input: nums = [1,3,4,2,2]\n",
    "    Output: 2\n",
    "Example 2:\n",
    "\n",
    "    Input: nums = [3,1,3,4,2]\n",
    "    Output: 3\n",
    " \n",
    "\n",
    "Constraints:\n",
    "\n",
    "    1 <= n <= 105\n",
    "    nums.length == n + 1\n",
    "    1 <= nums[i] <= n\n",
    "    All the integers in nums appear only once except for precisely one integer which appears two or more times."
   ]
  },
  {
   "cell_type": "markdown",
   "id": "5ad3301a",
   "metadata": {},
   "source": [
    "### Approach:\n",
    "This is the two pointers problem, slow and fast pointer. \n",
    "\n",
    "Recall the Floyd's algorithm. If 2nd pointer moves double speed than 1st pointer then both will meet each other if it is cyclic.\n",
    "\n",
    "In this problem, as number is in the range of [1,n], so, if one number os more than once then movement of pointer makes circle. slow =  nums[slow] and fast = nums[nums[fast]] .\n",
    "\n",
    "Once both meet at some point, then you start one pointer from beginning, while another from meeting point one step at a time only. Both will meet at the start point. That is the duplicate number."
   ]
  },
  {
   "cell_type": "code",
   "execution_count": 1,
   "id": "13ec70cb",
   "metadata": {},
   "outputs": [],
   "source": [
    "def findDuplicate(nums):\n",
    "    slow, fast = 0,0\n",
    "    while True:\n",
    "        slow = nums[slow]\n",
    "        fast = nums[nums[fast]]\n",
    "        if slow == fast:\n",
    "            break\n",
    "    slow  = 0\n",
    "    while True:\n",
    "        fast = nums[fast]\n",
    "        slow = nums[slow]\n",
    "        if slow == fast:\n",
    "            return slow"
   ]
  },
  {
   "cell_type": "code",
   "execution_count": 3,
   "id": "3a10c330",
   "metadata": {},
   "outputs": [
    {
     "data": {
      "text/plain": [
       "2"
      ]
     },
     "execution_count": 3,
     "metadata": {},
     "output_type": "execute_result"
    }
   ],
   "source": [
    "nums = [1,3,4,2,2]\n",
    "findDuplicate(nums)"
   ]
  },
  {
   "cell_type": "code",
   "execution_count": 4,
   "id": "da346bf6",
   "metadata": {},
   "outputs": [
    {
     "data": {
      "text/plain": [
       "3"
      ]
     },
     "execution_count": 4,
     "metadata": {},
     "output_type": "execute_result"
    }
   ],
   "source": [
    "nums = [3,1,3,4,2]\n",
    "findDuplicate(nums)"
   ]
  },
  {
   "cell_type": "code",
   "execution_count": null,
   "id": "a4819488",
   "metadata": {},
   "outputs": [],
   "source": []
  }
 ],
 "metadata": {
  "kernelspec": {
   "display_name": "Python 3",
   "language": "python",
   "name": "python3"
  },
  "language_info": {
   "codemirror_mode": {
    "name": "ipython",
    "version": 3
   },
   "file_extension": ".py",
   "mimetype": "text/x-python",
   "name": "python",
   "nbconvert_exporter": "python",
   "pygments_lexer": "ipython3",
   "version": "3.8.8"
  }
 },
 "nbformat": 4,
 "nbformat_minor": 5
}
