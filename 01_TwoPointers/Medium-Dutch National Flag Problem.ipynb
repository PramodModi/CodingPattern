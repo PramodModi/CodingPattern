{
 "cells": [
  {
   "cell_type": "markdown",
   "id": "8d48c761",
   "metadata": {},
   "source": [
    "## Problem: Dutch National Flag Problem\n",
    "LeetCode: https://leetcode.com/problems/sort-colors/description/\n",
    "\n",
    "Given an array containing 0s, 1s and 2s, sort the array in-place. You should treat numbers of the array as objects, hence, we can’t count 0s, 1s, and 2s to recreate the array.\n",
    "\n",
    "The flag of the Netherlands consists of three colors: red, white and blue; and since our input array also consists of three different numbers that is why it is called Dutch National Flag problem.\n",
    "\n",
    "You must solve this problem without using the library's sort function.\n",
    "\n",
    " \n",
    "\n",
    "Example 1:\n",
    "\n",
    "    Input: nums = [2,0,2,1,1,0]\n",
    "    Output: [0,0,1,1,2,2]\n",
    "Example 2:\n",
    "\n",
    "    Input: nums = [2,0,1]\n",
    "    Output: [0,1,2]\n",
    " \n",
    "\n",
    "Constraints:\n",
    "\n",
    "    n == nums.length\n",
    "    1 <= n <= 300\n",
    "    nums[i] is either 0, 1, or 2."
   ]
  },
  {
   "cell_type": "raw",
   "id": "ebed7310",
   "metadata": {},
   "source": [
    "# Approach:\n",
    "    Take two pointers, left and right starting at zero and last position respectively.\n",
    "    Run a loop with i as iteration position starting from 0 to right position.\n",
    "    Check, if number at i is 0, then swap it with left position and increase left to next position.\n",
    "    If number at i is 2, then swap it with right position and decrease right to previous position. One trick here is that now, number at i (after swapping from right) again check with left and right. So, do not increase the i after swapping with right.\n",
    "    \n",
    "    "
   ]
  },
  {
   "cell_type": "code",
   "execution_count": 14,
   "id": "f4655b90",
   "metadata": {},
   "outputs": [],
   "source": [
    "def setColors(nums):\n",
    "    left, right = 0, len(nums)-1\n",
    "    i = 0\n",
    "    while i<= right:\n",
    "        if nums[i] == 0:\n",
    "            nums[i], nums[left] = nums[left], nums[i]\n",
    "            left += 1\n",
    "        elif nums[i] == 2:\n",
    "            nums[i], nums[right] = nums[right], nums[i]\n",
    "            right -= 1\n",
    "            i -= 1 # This is to stop increasing i after swapping with right position.As i increase in below line.\n",
    "        i += 1\n",
    "    return nums\n",
    "    \n",
    "    "
   ]
  },
  {
   "cell_type": "code",
   "execution_count": 15,
   "id": "4ab1f871",
   "metadata": {},
   "outputs": [
    {
     "data": {
      "text/plain": [
       "[0, 0, 1, 1, 2, 2]"
      ]
     },
     "execution_count": 15,
     "metadata": {},
     "output_type": "execute_result"
    }
   ],
   "source": [
    "nums = [2,0,2,1,1,0]\n",
    "setColors(nums)"
   ]
  },
  {
   "cell_type": "code",
   "execution_count": 16,
   "id": "0594acc8",
   "metadata": {},
   "outputs": [
    {
     "data": {
      "text/plain": [
       "[0, 1, 2]"
      ]
     },
     "execution_count": 16,
     "metadata": {},
     "output_type": "execute_result"
    }
   ],
   "source": [
    "nums = [2,0,1]\n",
    "setColors(nums)"
   ]
  },
  {
   "cell_type": "code",
   "execution_count": null,
   "id": "87a3e21c",
   "metadata": {},
   "outputs": [],
   "source": []
  }
 ],
 "metadata": {
  "kernelspec": {
   "display_name": "Python 3",
   "language": "python",
   "name": "python3"
  },
  "language_info": {
   "codemirror_mode": {
    "name": "ipython",
    "version": 3
   },
   "file_extension": ".py",
   "mimetype": "text/x-python",
   "name": "python",
   "nbconvert_exporter": "python",
   "pygments_lexer": "ipython3",
   "version": "3.8.8"
  }
 },
 "nbformat": 4,
 "nbformat_minor": 5
}
