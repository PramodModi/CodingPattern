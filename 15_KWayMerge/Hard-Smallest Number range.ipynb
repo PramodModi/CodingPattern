{
 "cells": [
  {
   "cell_type": "markdown",
   "id": "41db8f11",
   "metadata": {},
   "source": [
    "## Problem: Smallest Number range\n",
    "LeetCode: 632. Smallest Range Covering Elements from K Lists\n",
    "\n",
    "https://leetcode.com/problems/smallest-range-covering-elements-from-k-lists/\n",
    "\n",
    "You have k lists of sorted integers in non-decreasing order. Find the smallest range that includes at least one number from each of the k lists.\n",
    "\n",
    "We define the range [a, b] is smaller than range [c, d] if b - a < d - c or a < c if b - a == d - c.\n",
    "\n",
    " \n",
    "\n",
    "Example 1:\n",
    "\n",
    "    Input: nums = [[4,10,15,24,26],[0,9,12,20],[5,18,22,30]]\n",
    "    Output: [20,24]\n",
    "    Explanation: \n",
    "    List 1: [4, 10, 15, 24,26], 24 is in range [20,24].\n",
    "    List 2: [0, 9, 12, 20], 20 is in range [20,24].\n",
    "    List 3: [5, 18, 22, 30], 22 is in range [20,24].\n",
    "Example 2:\n",
    "\n",
    "    Input: nums = [[1,2,3],[1,2,3],[1,2,3]]\n",
    "    Output: [1,1]\n",
    " \n",
    "\n",
    "Constraints:\n",
    "\n",
    "    nums.length == k\n",
    "    1 <= k <= 3500\n",
    "    1 <= nums[i].length <= 50\n",
    "    -105 <= nums[i][j] <= 105\n",
    "    nums[i] is sorted in non-decreasing order."
   ]
  },
  {
   "cell_type": "markdown",
   "id": "555143b4",
   "metadata": {},
   "source": [
    "### Approach:\n",
    "We have to find the minimum range and lists are sorted in ascending order.\n",
    "\n",
    "This is similar to K-Way merge approach.\n",
    "\n",
    "We will go with first element of each list, and create range.\n",
    "Put on first number of all lists in minHeap, so that we can get the minimum one out of all first numbers, also keep a variable having maximum number. Maximum number variable can be updated while pushing the data in min heap.\n",
    "\n",
    "Now, run the while loop, get the minimum number from heap. Now, we have maximum and minimum number, so have the range (maxNumber - minNumber).\n",
    "Create two more variable, rangeStart = 0 and rangeEnd = inf. These two variables will hold the minimum range.\n",
    "If (rangeEnd = rangeStart) > (maxNunber - minNumber), then update the rangeEnd with maxNumber and rangeStart with minNumber. \n",
    "Take the next number from current list, update the maxNumber, push it in minheap and continue, till heap is empty or we finish one list.\n",
    "\n",
    "Return (rangeStart and rangeEnd)."
   ]
  },
  {
   "cell_type": "code",
   "execution_count": 10,
   "id": "c10a1117",
   "metadata": {},
   "outputs": [],
   "source": [
    "import heapq\n",
    "def smallestNumberRange(nums):\n",
    "    minHeap = []\n",
    "    maxNumber = float(\"-inf\")\n",
    "    for i in range(len(nums)):\n",
    "        heapq.heappush(minHeap, (nums[i][0], 0, i))\n",
    "        maxNumber = max(maxNumber, nums[i][0])\n",
    "\n",
    "    rangeStart = 0\n",
    "    rangeEnd = float(\"inf\")\n",
    "\n",
    "    while minHeap:\n",
    "        minNumber, position, index = heapq.heappop(minHeap)\n",
    "        if maxNumber - minNumber < rangeEnd - rangeStart:\n",
    "            rangeEnd = maxNumber\n",
    "            rangeStart = minNumber\n",
    "        position += 1\n",
    "\n",
    "        if position >= len(nums[index]):\n",
    "            break\n",
    "        number = nums[index][position]\n",
    "        maxNumber = max(maxNumber, number)\n",
    "        heapq.heappush(minHeap, (number, position, index))\n",
    "\n",
    "    return (rangeStart, rangeEnd)\n",
    "        \n",
    "        \n",
    "    "
   ]
  },
  {
   "cell_type": "code",
   "execution_count": 11,
   "id": "8d4f9072",
   "metadata": {},
   "outputs": [
    {
     "data": {
      "text/plain": [
       "(20, 24)"
      ]
     },
     "execution_count": 11,
     "metadata": {},
     "output_type": "execute_result"
    }
   ],
   "source": [
    "nums = [[4,10,15,24,26],[0,9,12,20],[5,18,22,30]]\n",
    "smallestNumberRange(nums)"
   ]
  },
  {
   "cell_type": "code",
   "execution_count": 12,
   "id": "4ad86542",
   "metadata": {},
   "outputs": [
    {
     "data": {
      "text/plain": [
       "(1, 1)"
      ]
     },
     "execution_count": 12,
     "metadata": {},
     "output_type": "execute_result"
    }
   ],
   "source": [
    "nums = [[1,2,3],[1,2,3],[1,2,3]]\n",
    "smallestNumberRange(nums)"
   ]
  },
  {
   "cell_type": "code",
   "execution_count": null,
   "id": "6e463d66",
   "metadata": {},
   "outputs": [],
   "source": []
  }
 ],
 "metadata": {
  "kernelspec": {
   "display_name": "Python 3",
   "language": "python",
   "name": "python3"
  },
  "language_info": {
   "codemirror_mode": {
    "name": "ipython",
    "version": 3
   },
   "file_extension": ".py",
   "mimetype": "text/x-python",
   "name": "python",
   "nbconvert_exporter": "python",
   "pygments_lexer": "ipython3",
   "version": "3.8.8"
  }
 },
 "nbformat": 4,
 "nbformat_minor": 5
}
