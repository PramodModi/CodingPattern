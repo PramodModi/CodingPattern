{
 "cells": [
  {
   "cell_type": "markdown",
   "id": "bfcd208f",
   "metadata": {},
   "source": [
    "## Problem: K Pair with Largest Sums\n",
    "\n",
    "Given two sorted arrays in descending order, find ‘K’ pairs with the largest sum where each pair consists of numbers from both the arrays.\n",
    "\n",
    "Example 1:\n",
    "\n",
    "    Input: L1=[9, 8, 2], L2=[6, 3, 1], K=3\n",
    "    Output: [9, 3], [9, 6], [8, 6] \n",
    "    Explanation: These 3 pairs have the largest sum. No other pair has a sum larger than any of these.\n",
    "Example 2:\n",
    "\n",
    "    Input: L1=[5, 2, 1], L2=[2, -1], K=3\n",
    "    Output: [5, 2], [5, -1], [2, 2]"
   ]
  },
  {
   "cell_type": "markdown",
   "id": "42c564b6",
   "metadata": {},
   "source": [
    "### Approach:\n",
    "As both lists are sorted in descending order, so to have largest sum, better to start from first number from both lists. Then either next number from list1 and first number from list2 or first number from list1 and next number from list2 would be minimum. \n",
    "Use max heap, to know the larger sum.\n",
    "We can run a loop on list1, loop will end maximum K times, as we have to have larger sum of k size and list is in descending order.\n",
    "Keep adding the list1[i] + list2[0] in heap along with index of both list1 and list2 (index = 0 for list2).\n",
    "\n",
    "Run a while loop K times or till heap is not empty, pop out the largest sum from max heap. Update the result by using indexes.\n",
    "\n",
    "Now, start pushing list2 with increasing index, by keeping the same value from list1. If index is more than either length of k or length of list2, then popup next item from heap."
   ]
  },
  {
   "cell_type": "code",
   "execution_count": 24,
   "id": "fbee0bad",
   "metadata": {},
   "outputs": [],
   "source": [
    "import heapq\n",
    "def findKLargestPairs1(nums1, nums2, k):\n",
    "    maxHeap = []\n",
    "    for i in range(min(k,len(nums1))):\n",
    "        heapq.heappush(maxHeap, (-(nums1[i]+nums2[0]), i,0))\n",
    "    result = []\n",
    "    count = k\n",
    "    while maxHeap and count:\n",
    "        count -= 1\n",
    "        _, i,index = heapq.heappop(maxHeap)\n",
    "        result.append([nums1[i], nums2[index]])\n",
    "        index += 1\n",
    "        if index >= k or index >= len(nums2):\n",
    "            continue\n",
    "        heapq.heappush(maxHeap, (-(nums1[i]+nums2[index]), i, index))\n",
    "    return result"
   ]
  },
  {
   "cell_type": "code",
   "execution_count": 25,
   "id": "4f322311",
   "metadata": {},
   "outputs": [
    {
     "data": {
      "text/plain": [
       "[[9, 6], [8, 6], [9, 3]]"
      ]
     },
     "execution_count": 25,
     "metadata": {},
     "output_type": "execute_result"
    }
   ],
   "source": [
    "nums1=[9, 8, 2]\n",
    "nums2=[6, 3, 1]\n",
    "k=3\n",
    "findKLargestPairs1(nums1, nums2, k)"
   ]
  },
  {
   "cell_type": "code",
   "execution_count": 26,
   "id": "dcb79ad8",
   "metadata": {},
   "outputs": [
    {
     "data": {
      "text/plain": [
       "[[5, 2], [5, -1], [2, 2]]"
      ]
     },
     "execution_count": 26,
     "metadata": {},
     "output_type": "execute_result"
    }
   ],
   "source": [
    "nums1=[5, 2, 1]\n",
    "nums2=[2, -1]\n",
    "k=3\n",
    "findKLargestPairs1(nums1, nums2, k)"
   ]
  },
  {
   "cell_type": "code",
   "execution_count": null,
   "id": "274215e1",
   "metadata": {},
   "outputs": [],
   "source": []
  }
 ],
 "metadata": {
  "kernelspec": {
   "display_name": "Python 3",
   "language": "python",
   "name": "python3"
  },
  "language_info": {
   "codemirror_mode": {
    "name": "ipython",
    "version": 3
   },
   "file_extension": ".py",
   "mimetype": "text/x-python",
   "name": "python",
   "nbconvert_exporter": "python",
   "pygments_lexer": "ipython3",
   "version": "3.8.8"
  }
 },
 "nbformat": 4,
 "nbformat_minor": 5
}
