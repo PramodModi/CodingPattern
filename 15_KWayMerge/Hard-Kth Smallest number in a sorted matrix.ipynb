{
 "cells": [
  {
   "cell_type": "markdown",
   "id": "299d0028",
   "metadata": {},
   "source": [
    "## Problem: Kth Smallest number in a sorted matrix\n",
    "378. Kth Smallest Element in a Sorted Matrix\n",
    "\n",
    "https://leetcode.com/problems/kth-smallest-element-in-a-sorted-matrix/\n",
    "\n",
    "Given an n x n matrix where each of the rows and columns is sorted in ascending order, return the kth smallest element in the matrix.\n",
    "\n",
    "Note that it is the kth smallest element in the sorted order, not the kth distinct element.\n",
    "\n",
    "You must find a solution with a memory complexity better than O(n2).\n",
    "\n",
    " \n",
    "\n",
    "Example 1:\n",
    "\n",
    "    Input: matrix = [[1,5,9],[10,11,13],[12,13,15]], k = 8\n",
    "    Output: 13\n",
    "    Explanation: The elements in the matrix are [1,5,9,10,11,12,13,13,15], and the 8th smallest number is 13\n",
    "Example 2:\n",
    "\n",
    "    Input: matrix = [[-5]], k = 1\n",
    "    Output: -5\n",
    " \n",
    "\n",
    "Constraints:\n",
    "\n",
    "    n == matrix.length == matrix[i].length\n",
    "    1 <= n <= 300\n",
    "    -109 <= matrix[i][j] <= 109\n",
    "    All the rows and columns of matrix are guaranteed to be sorted in non-decreasing order.\n",
    "    1 <= k <= n2"
   ]
  },
  {
   "cell_type": "markdown",
   "id": "d6c3870f",
   "metadata": {},
   "source": [
    "### Approach1: \n",
    "Complexity: O(N*log(max-min)) where, max and min are maximum and minimum number in matrix\n",
    "and O(1) space.\n",
    "\n",
    "The idea is to follow Quick selection approach. FInd the middle element, all smaller element on one side and all bigger elements on another side.\n",
    "If K is smaller than count of smaller elements, then serach in smaller elements otherwise search in bigger elements.\n",
    "\n",
    "Here, mid value maight not be in the matrix. For smaller range, need to find maximum and amller than mid value. And for largr range, find minimum and greater than mid value.\n",
    "\n",
    "To find the smaller and larger numbers from mid number, will start from last row and first column or first col and last row. How it will help. Suppose, we have started from last row and first column. Then if you need smaller element, then move up and if you need bigger element then move right, as matrix is sorted.\n",
    "\n",
    "Keep the counting of number of smaller elements, this will be used to find the kth smaller element.\n"
   ]
  },
  {
   "cell_type": "code",
   "execution_count": 35,
   "id": "73879f1d",
   "metadata": {},
   "outputs": [],
   "source": [
    "def kthSmallestInMatrix(matrix, k):\n",
    "    n = len(matrix)\n",
    "    m = len(matrix[0])\n",
    "    start = matrix[0][0]\n",
    "    end = matrix[n-1][m-1]\n",
    "    while start < end:\n",
    "        mid = (start + end)//2\n",
    "        \n",
    "        count, larger, smaller = countLessGreater(matrix, mid, start, end)\n",
    "        \n",
    "        if count == k:\n",
    "            return smaller\n",
    "        if count < k:\n",
    "            start = larger\n",
    "        else:\n",
    "            end = smaller\n",
    "    return start\n",
    "\n",
    "def countLessGreater(matrix, mid, smaller, larger):\n",
    "    \n",
    "    row = len(matrix)-1\n",
    "    col = 0\n",
    "    count = 0\n",
    "    while row >= 0 and col < len(matrix[0]):\n",
    "        if matrix[row][col] > mid:\n",
    "            larger = min(larger, matrix[row][col])\n",
    "            row -= 1 # Need to find smaller number, so moving up as columns are ascending order\n",
    "        else:\n",
    "            smaller = max(smaller,  matrix[row][col])\n",
    "            col += 1 # Need larger number, so moving to next column as data is in ascending order.\n",
    "            count += row+1\n",
    "            \n",
    "    return (count, larger, smaller)"
   ]
  },
  {
   "cell_type": "code",
   "execution_count": 36,
   "id": "cd687d11",
   "metadata": {},
   "outputs": [
    {
     "data": {
      "text/plain": [
       "13"
      ]
     },
     "execution_count": 36,
     "metadata": {},
     "output_type": "execute_result"
    }
   ],
   "source": [
    "matrix = [[1,5,9],[10,11,13],[12,13,15]]\n",
    "k =8\n",
    "kthSmallestInMatrix(matrix, k)"
   ]
  },
  {
   "cell_type": "code",
   "execution_count": 37,
   "id": "703ef7f5",
   "metadata": {},
   "outputs": [
    {
     "data": {
      "text/plain": [
       "2"
      ]
     },
     "execution_count": 37,
     "metadata": {},
     "output_type": "execute_result"
    }
   ],
   "source": [
    "matrix = [[1,2],[1,3]]\n",
    "k =3\n",
    "kthSmallestInMatrix(matrix, k)"
   ]
  },
  {
   "cell_type": "markdown",
   "id": "31aadb4f",
   "metadata": {},
   "source": [
    "### Approach2:\n",
    "\n",
    "COnsider matrix as list of sorted lists and use minHeap approach to find the kth smaller number."
   ]
  },
  {
   "cell_type": "code",
   "execution_count": 38,
   "id": "fd8b1bcd",
   "metadata": {},
   "outputs": [],
   "source": [
    "import heapq\n",
    "def kthSmallest(matrix, k):\n",
    "    n = len(matrix[0])\n",
    "    m = len(matrix)\n",
    "    \n",
    "    minHeap = []\n",
    "    for i in range(m):\n",
    "        number = matrix[i][0]\n",
    "        heapq.heappush(minHeap,(number, 0, i))\n",
    "    \n",
    "    count = 0\n",
    "    while minHeap:\n",
    "        number, position, index = heapq.heappop(minHeap)\n",
    "        count += 1\n",
    "        if count == k:\n",
    "            break\n",
    "        position += 1\n",
    "        if position >= len(matrix[index]):\n",
    "            continue\n",
    "        number = matrix[index][position]\n",
    "        heapq.heappush(minHeap, (number, position, index))\n",
    "    return number\n",
    "        \n",
    "        \n",
    "        \n",
    "    "
   ]
  },
  {
   "cell_type": "code",
   "execution_count": 33,
   "id": "7fb5c98e",
   "metadata": {},
   "outputs": [
    {
     "data": {
      "text/plain": [
       "13"
      ]
     },
     "execution_count": 33,
     "metadata": {},
     "output_type": "execute_result"
    }
   ],
   "source": [
    "matrix = [[1,5,9],[10,11,13],[12,13,15]]\n",
    "k =8\n",
    "kthSmallest(matrix, k)"
   ]
  },
  {
   "cell_type": "code",
   "execution_count": 34,
   "id": "2b042f65",
   "metadata": {},
   "outputs": [
    {
     "data": {
      "text/plain": [
       "-5"
      ]
     },
     "execution_count": 34,
     "metadata": {},
     "output_type": "execute_result"
    }
   ],
   "source": [
    "matrix = [[-5]]\n",
    "k = 1\n",
    "kthSmallest(matrix, k)"
   ]
  },
  {
   "cell_type": "code",
   "execution_count": null,
   "id": "a287718a",
   "metadata": {},
   "outputs": [],
   "source": []
  }
 ],
 "metadata": {
  "kernelspec": {
   "display_name": "Python 3",
   "language": "python",
   "name": "python3"
  },
  "language_info": {
   "codemirror_mode": {
    "name": "ipython",
    "version": 3
   },
   "file_extension": ".py",
   "mimetype": "text/x-python",
   "name": "python",
   "nbconvert_exporter": "python",
   "pygments_lexer": "ipython3",
   "version": "3.8.8"
  }
 },
 "nbformat": 4,
 "nbformat_minor": 5
}
