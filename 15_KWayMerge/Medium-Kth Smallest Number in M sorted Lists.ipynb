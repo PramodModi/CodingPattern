{
 "cells": [
  {
   "cell_type": "markdown",
   "id": "8e8205e1",
   "metadata": {},
   "source": [
    "## Problem: Kth Smallest Number in M sorted Lists\n",
    "\n",
    "Given ‘M’ sorted arrays, find the K’th smallest number among all the arrays.\n",
    "\n",
    "Example 1:\n",
    "\n",
    "    Input: L1=[2, 6, 8], L2=[3, 6, 7], L3=[1, 3, 4], K=5\n",
    "    Output: 4\n",
    "    Explanation: The 5th smallest number among all the arrays is 4, this can be verified from \n",
    "    the merged list of all the arrays: [1, 2, 3, 3, 4, 6, 6, 7, 8]\n",
    "Example 2:\n",
    "\n",
    "    Input: L1=[5, 8, 9], L2=[1, 7], K=3\n",
    "    Output: 7\n",
    "    Explanation: The 3rd smallest number among all the arrays is 7."
   ]
  },
  {
   "cell_type": "markdown",
   "id": "d8fb4151",
   "metadata": {},
   "source": [
    "### Approach:\n",
    "\n",
    "This problem is based on K-Way merge pattern.\n",
    "Use min Heap.\n",
    "\n",
    "Put first number of all lists in minHeap. While pushing the first number, push position of number in list also index of list in lists.\n",
    "Run a while loop till minHeap or k >0 (we do not need to go futher as we have to find kth smallest number).\n",
    "pop the minimum number, reduce k by 1. Push the next number from the current list to heap. However, first check if next position should not go out of range of current list, if yes then pop the another element from min heap and repeat the same."
   ]
  },
  {
   "cell_type": "code",
   "execution_count": 3,
   "id": "b25ed451",
   "metadata": {},
   "outputs": [],
   "source": [
    "import heapq\n",
    "def findKthSmallest(lists, k):\n",
    "    minHeap = []\n",
    "    for i in range(len(lists)):\n",
    "        l = lists[i]\n",
    "        heapq.heappush(minHeap, (l[0], 0, i))\n",
    "    \n",
    "    number = 0\n",
    "    \n",
    "    while minHeap and k>0:\n",
    "        number, position, index = heapq.heappop(minHeap)\n",
    "        k -= 1\n",
    "        position +=1\n",
    "        if position >= len(lists[index]):\n",
    "            continue\n",
    "        number = lists[index][position]\n",
    "        heapq.heappush(minHeap, (number, position, index))\n",
    "    return number"
   ]
  },
  {
   "cell_type": "code",
   "execution_count": 4,
   "id": "ef82543e",
   "metadata": {},
   "outputs": [
    {
     "data": {
      "text/plain": [
       "4"
      ]
     },
     "execution_count": 4,
     "metadata": {},
     "output_type": "execute_result"
    }
   ],
   "source": [
    "lists = [[2, 6, 8],[3, 6, 7],[1, 3, 4]]\n",
    "k = 5\n",
    "findKthSmallest(lists, k)"
   ]
  },
  {
   "cell_type": "code",
   "execution_count": 5,
   "id": "43f5600d",
   "metadata": {},
   "outputs": [
    {
     "data": {
      "text/plain": [
       "7"
      ]
     },
     "execution_count": 5,
     "metadata": {},
     "output_type": "execute_result"
    }
   ],
   "source": [
    "lists = [[5, 8, 9],[1, 7]]\n",
    "k = 3\n",
    "findKthSmallest(lists, k)"
   ]
  },
  {
   "cell_type": "code",
   "execution_count": null,
   "id": "3c47b2ab",
   "metadata": {},
   "outputs": [],
   "source": []
  }
 ],
 "metadata": {
  "kernelspec": {
   "display_name": "Python 3",
   "language": "python",
   "name": "python3"
  },
  "language_info": {
   "codemirror_mode": {
    "name": "ipython",
    "version": 3
   },
   "file_extension": ".py",
   "mimetype": "text/x-python",
   "name": "python",
   "nbconvert_exporter": "python",
   "pygments_lexer": "ipython3",
   "version": "3.8.8"
  }
 },
 "nbformat": 4,
 "nbformat_minor": 5
}
