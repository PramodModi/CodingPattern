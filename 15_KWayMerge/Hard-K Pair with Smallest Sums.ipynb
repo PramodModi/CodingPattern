{
 "cells": [
  {
   "cell_type": "markdown",
   "id": "e195605a",
   "metadata": {},
   "source": [
    "## Problem: K Pair with smallest Sums\n",
    "LeetCode: 373. Find K Pairs with Smallest Sums\n",
    "\n",
    "https://leetcode.com/problems/find-k-pairs-with-smallest-sums/\n",
    "\n",
    "You are given two integer arrays nums1 and nums2 sorted in non-decreasing order and an integer k.\n",
    "\n",
    "Define a pair (u, v) which consists of one element from the first array and one element from the second array.\n",
    "\n",
    "Return the k pairs (u1, v1), (u2, v2), ..., (uk, vk) with the smallest sums.\n",
    "\n",
    " \n",
    "\n",
    "Example 1:\n",
    "\n",
    "    Input: nums1 = [1,7,11], nums2 = [2,4,6], k = 3\n",
    "    Output: [[1,2],[1,4],[1,6]]\n",
    "    Explanation: The first 3 pairs are returned from the sequence: [1,2],[1,4],[1,6],[7,2],[7,4],[11,2],[7,6],[11,4],[11,6]\n",
    "Example 2:\n",
    "\n",
    "    Input: nums1 = [1,1,2], nums2 = [1,2,3], k = 2\n",
    "    Output: [[1,1],[1,1]]\n",
    "    Explanation: The first 2 pairs are returned from the sequence: [1,1],[1,1],[1,2],[2,1],[1,2],[2,2],[1,3],[1,3],[2,3]\n",
    "Example 3:\n",
    "\n",
    "    Input: nums1 = [1,2], nums2 = [3], k = 3\n",
    "    Output: [[1,3],[2,3]]\n",
    "    Explanation: All possible pairs are returned from the sequence: [1,3],[2,3]\n",
    " \n",
    "\n",
    "Constraints:\n",
    "\n",
    "    1 <= nums1.length, nums2.length <= 105\n",
    "    -109 <= nums1[i], nums2[i] <= 109\n",
    "    nums1 and nums2 both are sorted in non-decreasing order.\n",
    "    1 <= k <= 104"
   ]
  },
  {
   "cell_type": "markdown",
   "id": "f07c4653",
   "metadata": {},
   "source": [
    "### Approach:\n",
    "As both lists are sorted, so to have smallest sum, better to start from first number from both lists. Then either next number from list1 and first number from list2 or first number from list1 and next number from list2 would be minimum. \n",
    "Use min heap, to know the smaller sum.\n",
    "We can run a loop on list1, loop will end maximum K times, as we have to have smaller sum of k size and list is in ascending order.\n",
    "Keep adding the list1[i] + list2[0] in heap along with index of both list1 and list2 (index = 0 for list2).\n",
    "\n",
    "Run a while loop K times or till heap is not empty, pop out the minimum sum from min heap. Update the result by using indexes.\n",
    "\n",
    "Now, start pushing list2 with increasing index, by keeping the same value from list1. If index is more than either length of k or length of list2, then popup next item from heap.\n",
    "\n",
    "\n"
   ]
  },
  {
   "cell_type": "code",
   "execution_count": 57,
   "id": "9b292123",
   "metadata": {},
   "outputs": [],
   "source": [
    "import heapq\n",
    "def findKSmallestPairs(nums1, nums2, k):\n",
    "    minHeap = []\n",
    "    for i in range(min(k,len(nums1))):\n",
    "        heapq.heappush(minHeap, (nums1[i]+nums2[0], i,0))\n",
    "    result = []\n",
    "    count = k\n",
    "    while minHeap and count:\n",
    "        count -= 1\n",
    "        _, i,index = heapq.heappop(minHeap)\n",
    "        result.append([nums1[i], nums2[index]])\n",
    "        index += 1\n",
    "        if index >= k or index >= len(nums2):\n",
    "            continue\n",
    "        heapq.heappush(minHeap, (nums1[i]+nums2[index], i, index))\n",
    "    return result"
   ]
  },
  {
   "cell_type": "code",
   "execution_count": 58,
   "id": "dd773215",
   "metadata": {},
   "outputs": [
    {
     "data": {
      "text/plain": [
       "[[1, 2], [1, 4], [1, 6]]"
      ]
     },
     "execution_count": 58,
     "metadata": {},
     "output_type": "execute_result"
    }
   ],
   "source": [
    "nums1 = [1,7,11]\n",
    "nums2 = [2,4,6]\n",
    "k = 3\n",
    "findKSmallestPairs(nums1, nums2, k)"
   ]
  },
  {
   "cell_type": "code",
   "execution_count": 59,
   "id": "8c81aafb",
   "metadata": {},
   "outputs": [
    {
     "data": {
      "text/plain": [
       "[[1, 1], [1, 1]]"
      ]
     },
     "execution_count": 59,
     "metadata": {},
     "output_type": "execute_result"
    }
   ],
   "source": [
    "nums1 = [1,1,2]\n",
    "nums2 = [1,2,3]\n",
    "k = 2\n",
    "findKSmallestPairs(nums1, nums2, k)"
   ]
  },
  {
   "cell_type": "code",
   "execution_count": null,
   "id": "90e804a6",
   "metadata": {},
   "outputs": [],
   "source": []
  }
 ],
 "metadata": {
  "kernelspec": {
   "display_name": "Python 3",
   "language": "python",
   "name": "python3"
  },
  "language_info": {
   "codemirror_mode": {
    "name": "ipython",
    "version": 3
   },
   "file_extension": ".py",
   "mimetype": "text/x-python",
   "name": "python",
   "nbconvert_exporter": "python",
   "pygments_lexer": "ipython3",
   "version": "3.8.8"
  }
 },
 "nbformat": 4,
 "nbformat_minor": 5
}
