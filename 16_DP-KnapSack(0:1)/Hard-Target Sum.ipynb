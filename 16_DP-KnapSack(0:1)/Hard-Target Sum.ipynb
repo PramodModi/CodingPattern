{
 "cells": [
  {
   "cell_type": "markdown",
   "id": "e5448e65",
   "metadata": {},
   "source": [
    "## Problem: Target Sum\n",
    "LeetCode: 494. Target Sum\n",
    "\n",
    "https://leetcode.com/problems/target-sum/\n",
    "\n",
    "\n",
    "You are given an integer array nums and an integer target.\n",
    "\n",
    "You want to build an expression out of nums by adding one of the symbols '+' and '-' before each integer in nums and then concatenate all the integers.\n",
    "\n",
    "For example, if nums = [2, 1], you can add a '+' before 2 and a '-' before 1 and concatenate them to build the expression \"+2-1\".\n",
    "Return the number of different expressions that you can build, which evaluates to target.\n",
    "\n",
    " \n",
    "\n",
    "Example 1:\n",
    "\n",
    "    Input: nums = [1,1,1,1,1], target = 3\n",
    "    Output: 5\n",
    "    Explanation: There are 5 ways to assign symbols to make the sum of nums be target 3.\n",
    "    -1 + 1 + 1 + 1 + 1 = 3\n",
    "    +1 - 1 + 1 + 1 + 1 = 3\n",
    "    +1 + 1 - 1 + 1 + 1 = 3\n",
    "    +1 + 1 + 1 - 1 + 1 = 3\n",
    "    +1 + 1 + 1 + 1 - 1 = 3\n",
    "Example 2:\n",
    "\n",
    "    Input: nums = [1], target = 1\n",
    "    Output: 1\n",
    " \n",
    "\n",
    "Constraints:\n",
    "\n",
    "    1 <= nums.length <= 20\n",
    "    0 <= nums[i] <= 1000\n",
    "    0 <= sum(nums[i]) <= 1000\n",
    "    -1000 <= target <= 1000"
   ]
  },
  {
   "cell_type": "markdown",
   "id": "cc98236d",
   "metadata": {},
   "source": [
    "### Approach:\n",
    "This is simlar to \"count of subset sum\" problem. Trick: we have to find the target.\n",
    "Suppose having positive elements sum = sum1 and all negative elements sum = sum2.\n",
    "Then sum1-sum2 = target and sum1+sum2 = arraySum.\n",
    "target + arraySum = (sum1-sum2) + (sum1+sum2) = 2 * sum1, henece sum1 = (target + arraySum)/2\n",
    "\n",
    "now, we have \"count of subset sum\" problem with target = sum1.\n",
    "\n",
    "For counting the subset, we will add all possible ways of creating subset. \n",
    "The initial condition, dp[0][0] = 1, means, when target is zero, the number of subset = 1.\n",
    "Here, target can be zero, so, inner for loop will start from zero."
   ]
  },
  {
   "cell_type": "code",
   "execution_count": 97,
   "id": "c726c3f8",
   "metadata": {},
   "outputs": [],
   "source": [
    "# DP solution\n",
    "def targetSum(nums, target):\n",
    "    totalSum = sum(nums)\n",
    "    if target > totalSum:\n",
    "        return 0\n",
    "    target = (totalSum + target)\n",
    "    if target < 0 or target %2 != 0:\n",
    "        return 0\n",
    "    target = target//2\n",
    "    \n",
    "    dp = [[0]* (target + 1)for _ in range(len(nums)+1)]\n",
    "    dp[0][0] = 1\n",
    "    \n",
    "    for i in range(1, len(nums)+1):\n",
    "        for j in range(target+1):\n",
    "            if nums[i-1] <= j:\n",
    "                dp[i][j] = dp[i-1][j-nums[i-1]] + dp[i-1][j]\n",
    "            else:\n",
    "                dp[i][j] = dp[i-1][j]\n",
    "    return dp[-1][-1]"
   ]
  },
  {
   "cell_type": "code",
   "execution_count": 98,
   "id": "7354c76a",
   "metadata": {},
   "outputs": [
    {
     "data": {
      "text/plain": [
       "5"
      ]
     },
     "execution_count": 98,
     "metadata": {},
     "output_type": "execute_result"
    }
   ],
   "source": [
    "nums = [1,1,1,1,1]\n",
    "target = 3\n",
    "targetSum(nums, target)"
   ]
  },
  {
   "cell_type": "code",
   "execution_count": 99,
   "id": "cb1ccd6a",
   "metadata": {},
   "outputs": [
    {
     "data": {
      "text/plain": [
       "1"
      ]
     },
     "execution_count": 99,
     "metadata": {},
     "output_type": "execute_result"
    }
   ],
   "source": [
    "nums = [1]\n",
    "target = 1\n",
    "targetSum(nums, target)"
   ]
  },
  {
   "cell_type": "code",
   "execution_count": 100,
   "id": "f98033f8",
   "metadata": {},
   "outputs": [
    {
     "data": {
      "text/plain": [
       "0"
      ]
     },
     "execution_count": 100,
     "metadata": {},
     "output_type": "execute_result"
    }
   ],
   "source": [
    "nums = [1]\n",
    "target = 2\n",
    "targetSum(nums, target)"
   ]
  },
  {
   "cell_type": "code",
   "execution_count": 101,
   "id": "782b40df",
   "metadata": {},
   "outputs": [
    {
     "data": {
      "text/plain": [
       "512"
      ]
     },
     "execution_count": 101,
     "metadata": {},
     "output_type": "execute_result"
    }
   ],
   "source": [
    "nums = [0,0,0,0,0,0,0,0,0,1]\n",
    "target = 1\n",
    "targetSum(nums, target)"
   ]
  },
  {
   "cell_type": "code",
   "execution_count": 102,
   "id": "a97f1ad2",
   "metadata": {},
   "outputs": [
    {
     "data": {
      "text/plain": [
       "4"
      ]
     },
     "execution_count": 102,
     "metadata": {},
     "output_type": "execute_result"
    }
   ],
   "source": [
    "nums = [0,0,1]\n",
    "target = 1\n",
    "targetSum(nums, target)"
   ]
  },
  {
   "cell_type": "code",
   "execution_count": 60,
   "id": "9e648f09",
   "metadata": {},
   "outputs": [],
   "source": [
    "# Space optimized Dp solution\n",
    "\n",
    "def targetSum1(nums, target):\n",
    "    totalSum = sum(nums)\n",
    "    if target > totalSum:\n",
    "        return 0\n",
    "    target = (totalSum + target)\n",
    "    if target < 0 or target %2 != 0:\n",
    "        return 0\n",
    "    target = target//2\n",
    "    \n",
    "    dp = [0]* (target + 1)\n",
    "    \n",
    "    dp[0] = 1\n",
    "    \n",
    "    for i in range(1, len(nums)+1):\n",
    "        for j in range(target, -1, -1):\n",
    "            if nums[i-1] <= j:\n",
    "                dp[j] = dp[j-nums[i-1]] + dp[j]\n",
    "    return dp[-1]"
   ]
  },
  {
   "cell_type": "code",
   "execution_count": 61,
   "id": "676c4c41",
   "metadata": {},
   "outputs": [
    {
     "data": {
      "text/plain": [
       "512"
      ]
     },
     "execution_count": 61,
     "metadata": {},
     "output_type": "execute_result"
    }
   ],
   "source": [
    "nums = [0,0,0,0,0,0,0,0,0,1]\n",
    "target = 1\n",
    "targetSum1(nums, target)"
   ]
  },
  {
   "cell_type": "code",
   "execution_count": 104,
   "id": "d1856013",
   "metadata": {},
   "outputs": [
    {
     "data": {
      "text/plain": [
       "512"
      ]
     },
     "execution_count": 104,
     "metadata": {},
     "output_type": "execute_result"
    }
   ],
   "source": [
    "nums = [1,0,0,0,0,0,0,0,0,0]\n",
    "target = 1\n",
    "targetSum1(nums, target)"
   ]
  },
  {
   "cell_type": "code",
   "execution_count": 113,
   "id": "d6061423",
   "metadata": {},
   "outputs": [],
   "source": [
    "## This solution is failing for below test.\n",
    "## nums = [0,0,0,0,0,0,0,0,0,1]\n",
    "## target = 1\n",
    "def targetSum_rec(nums, target):\n",
    "    totalSum = sum(nums)\n",
    "    if target > totalSum:\n",
    "        return 0\n",
    "    target = (totalSum + target)\n",
    "    if target < 0 or target %2 != 0:\n",
    "        return 0\n",
    "    target = target//2\n",
    "    mem = [[-1] * (target+1) for _ in range(len(nums) + 1)]\n",
    "    return target_rec(nums, target, len(nums)-1, mem)\n",
    "    \n",
    "def target_rec(nums, target, index, mem):\n",
    "    if target == 0:\n",
    "        return 1\n",
    "    if index < 0 or target<0:\n",
    "        return 0\n",
    "    \n",
    "    if mem[index][target] != -1:\n",
    "        return mem[index][target]\n",
    "    sum = 0\n",
    "    if nums[index] <= target:\n",
    "        sum += target_rec(nums, target-nums[index], index-1, mem) + target_rec(nums, target, index-1, mem)\n",
    "    else:\n",
    "        sum += target_rec(nums, target, index-1, mem)\n",
    "    mem[index][target] = sum\n",
    "    return mem[index][target]\n",
    "    "
   ]
  },
  {
   "cell_type": "code",
   "execution_count": 114,
   "id": "e0c56ce9",
   "metadata": {},
   "outputs": [
    {
     "data": {
      "text/plain": [
       "5"
      ]
     },
     "execution_count": 114,
     "metadata": {},
     "output_type": "execute_result"
    }
   ],
   "source": [
    "nums = [1,1,1,1,1]\n",
    "target = 3\n",
    "targetSum_rec(nums, target)"
   ]
  },
  {
   "cell_type": "code",
   "execution_count": 115,
   "id": "6becdc61",
   "metadata": {},
   "outputs": [
    {
     "data": {
      "text/plain": [
       "1"
      ]
     },
     "execution_count": 115,
     "metadata": {},
     "output_type": "execute_result"
    }
   ],
   "source": [
    "nums = [1]\n",
    "target = 1\n",
    "targetSum_rec(nums, target)"
   ]
  },
  {
   "cell_type": "code",
   "execution_count": 116,
   "id": "f8fa34e6",
   "metadata": {},
   "outputs": [
    {
     "data": {
      "text/plain": [
       "512"
      ]
     },
     "execution_count": 116,
     "metadata": {},
     "output_type": "execute_result"
    }
   ],
   "source": [
    "nums = [1,0,0,0,0,0,0,0,0,0]\n",
    "target = 1\n",
    "targetSum_rec(nums, target)"
   ]
  },
  {
   "cell_type": "code",
   "execution_count": 117,
   "id": "3ec02532",
   "metadata": {},
   "outputs": [
    {
     "data": {
      "text/plain": [
       "1"
      ]
     },
     "execution_count": 117,
     "metadata": {},
     "output_type": "execute_result"
    }
   ],
   "source": [
    "nums = [0,0,0,0,0,0,0,0,0,1]\n",
    "target = 1\n",
    "targetSum_rec(nums, target)"
   ]
  },
  {
   "cell_type": "code",
   "execution_count": null,
   "id": "1ca2394f",
   "metadata": {},
   "outputs": [],
   "source": []
  }
 ],
 "metadata": {
  "kernelspec": {
   "display_name": "Python 3",
   "language": "python",
   "name": "python3"
  },
  "language_info": {
   "codemirror_mode": {
    "name": "ipython",
    "version": 3
   },
   "file_extension": ".py",
   "mimetype": "text/x-python",
   "name": "python",
   "nbconvert_exporter": "python",
   "pygments_lexer": "ipython3",
   "version": "3.8.8"
  }
 },
 "nbformat": 4,
 "nbformat_minor": 5
}
