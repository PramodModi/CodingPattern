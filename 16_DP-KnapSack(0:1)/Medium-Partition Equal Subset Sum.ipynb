{
 "cells": [
  {
   "cell_type": "markdown",
   "id": "5b974130",
   "metadata": {},
   "source": [
    "## Problem: Partition Equal Subset Sum\n",
    "LeetCode: 416. Partition Equal Subset Sum\n",
    "\n",
    "https://leetcode.com/problems/partition-equal-subset-sum/description/\n",
    "\n",
    "Given an integer array nums, return true if you can partition the array into two subsets such that the sum of the elements in both subsets is equal or false otherwise.\n",
    "\n",
    " \n",
    "\n",
    "Example 1:\n",
    "\n",
    "    Input: nums = [1,5,11,5]\n",
    "    Output: true\n",
    "    Explanation: The array can be partitioned as [1, 5, 5] and [11].\n",
    "Example 2:\n",
    "\n",
    "    Input: nums = [1,2,3,5]\n",
    "    Output: false\n",
    "Explanation: The array cannot be partitioned into equal sum subsets.\n",
    " \n",
    "\n",
    "Constraints:\n",
    "\n",
    "    1 <= nums.length <= 200\n",
    "    1 <= nums[i] <= 100"
   ]
  },
  {
   "cell_type": "markdown",
   "id": "bd9bd1f7",
   "metadata": {},
   "source": [
    "### Approach: \n",
    "This is simlar to subset sum problem. Here \"sum value\" for subset problem is sum of given array divided by 2. In above example, total sum of numbers in array =22. Divide it by two, as we need equal partition, value = sum/2 = 22/2 = 11. If there is subset in the array whose sum is 11, then rest items would be part of another partition and whose sum will be 11. So, basically this is also same subset sum problem with sum value = (sum of numbers in array/2)."
   ]
  },
  {
   "cell_type": "code",
   "execution_count": 3,
   "id": "9e25619b",
   "metadata": {},
   "outputs": [],
   "source": [
    "## Recursion based : Top Down approach\n",
    "def canPartition(nums):\n",
    "    \n",
    "    total = sum(nums)\n",
    "    if total%2 != 0:\n",
    "        return False\n",
    "    total = total//2\n",
    "    return isSubsetSum(nums, total)\n",
    "\n",
    "def isSubsetSum(nums, total):\n",
    "    n = len(nums)\n",
    "    return subsetSum(nums, total, n-1)\n",
    "\n",
    "def subsetSum(nums, total, index):\n",
    "    if total == 0:\n",
    "        return True\n",
    "    if total < 0 or index < 0  : return False\n",
    "    \n",
    "    return subsetSum(nums, total-nums[index], index-1) or subsetSum(nums, total, index-1)\n",
    "\n",
    "        \n",
    "    "
   ]
  },
  {
   "cell_type": "code",
   "execution_count": 4,
   "id": "56b03cf6",
   "metadata": {},
   "outputs": [
    {
     "data": {
      "text/plain": [
       "True"
      ]
     },
     "execution_count": 4,
     "metadata": {},
     "output_type": "execute_result"
    }
   ],
   "source": [
    "nums = [1,5,11,5]\n",
    "canPartition(nums)"
   ]
  },
  {
   "cell_type": "code",
   "execution_count": 5,
   "id": "456115bc",
   "metadata": {},
   "outputs": [
    {
     "data": {
      "text/plain": [
       "False"
      ]
     },
     "execution_count": 5,
     "metadata": {},
     "output_type": "execute_result"
    }
   ],
   "source": [
    "nums = [1,2,3,5]\n",
    "canPartition(nums)"
   ]
  },
  {
   "cell_type": "code",
   "execution_count": 25,
   "id": "269d5b60",
   "metadata": {},
   "outputs": [],
   "source": [
    "## Dynamic Programming : Bottom up approach\n",
    "def canPartition_dp(nums):\n",
    "    \n",
    "    total = sum(nums)\n",
    "    if total%2 != 0:\n",
    "        return False\n",
    "    total = total//2\n",
    "    return isSubsetSum_dp(nums, total)\n",
    "\n",
    "def isSubsetSum_dp(nums, total):\n",
    "    n = len(nums)\n",
    "    dp = [[False] * (total + 1) for _ in range(n +1)]\n",
    "    \n",
    "    for i in range(n+1):\n",
    "        dp[i][0] = True\n",
    "        \n",
    "    for i in range(1, n+1):\n",
    "        for j in range(1, total +1 ):\n",
    "            if nums[i-1] <= j:\n",
    "                dp[i][j] = dp[i-1][j-nums[i-1]] or dp[i-1][j]\n",
    "    return dp[-1][-1]"
   ]
  },
  {
   "cell_type": "code",
   "execution_count": 26,
   "id": "94d384b1",
   "metadata": {},
   "outputs": [
    {
     "data": {
      "text/plain": [
       "True"
      ]
     },
     "execution_count": 26,
     "metadata": {},
     "output_type": "execute_result"
    }
   ],
   "source": [
    "nums = [1,5,11,5]\n",
    "canPartition_dp(nums)"
   ]
  },
  {
   "cell_type": "code",
   "execution_count": 27,
   "id": "591edda0",
   "metadata": {},
   "outputs": [
    {
     "data": {
      "text/plain": [
       "False"
      ]
     },
     "execution_count": 27,
     "metadata": {},
     "output_type": "execute_result"
    }
   ],
   "source": [
    "nums = [1,2,3,5]\n",
    "canPartition_dp(nums)"
   ]
  },
  {
   "cell_type": "code",
   "execution_count": 40,
   "id": "bf9efd4d",
   "metadata": {},
   "outputs": [],
   "source": [
    "## Space complexity optimization\n",
    "## Dynamic Programming : Bottom up approach\n",
    "\n",
    "def canPartition_dp1(nums):\n",
    "    \n",
    "    total = sum(nums)\n",
    "    if total%2 != 0:\n",
    "        return False\n",
    "    total = total//2\n",
    "    return isSubsetSum_dp1(nums, total)\n",
    "\n",
    "def isSubsetSum_dp1(nums, total):\n",
    "    n = len(nums)\n",
    "    dp = [False] * (total + 1)\n",
    "    \n",
    "    dp [0] = True\n",
    "        \n",
    "    for i in range(1, n+1):\n",
    "        for j in range(total, 0, -1 ):\n",
    "            if nums[i-1] <= j:\n",
    "                dp[j] = dp[j-nums[i-1]] or dp[j]\n",
    "    return dp[total]"
   ]
  },
  {
   "cell_type": "code",
   "execution_count": 41,
   "id": "f109e5d0",
   "metadata": {},
   "outputs": [
    {
     "data": {
      "text/plain": [
       "True"
      ]
     },
     "execution_count": 41,
     "metadata": {},
     "output_type": "execute_result"
    }
   ],
   "source": [
    "nums = [1,5,11,5]\n",
    "canPartition_dp1(nums)"
   ]
  },
  {
   "cell_type": "code",
   "execution_count": 42,
   "id": "2411b709",
   "metadata": {},
   "outputs": [
    {
     "data": {
      "text/plain": [
       "False"
      ]
     },
     "execution_count": 42,
     "metadata": {},
     "output_type": "execute_result"
    }
   ],
   "source": [
    "nums = [1,2,3,5]\n",
    "canPartition_dp1(nums)"
   ]
  },
  {
   "cell_type": "code",
   "execution_count": null,
   "id": "de553be0",
   "metadata": {},
   "outputs": [],
   "source": []
  }
 ],
 "metadata": {
  "kernelspec": {
   "display_name": "Python 3",
   "language": "python",
   "name": "python3"
  },
  "language_info": {
   "codemirror_mode": {
    "name": "ipython",
    "version": 3
   },
   "file_extension": ".py",
   "mimetype": "text/x-python",
   "name": "python",
   "nbconvert_exporter": "python",
   "pygments_lexer": "ipython3",
   "version": "3.8.8"
  }
 },
 "nbformat": 4,
 "nbformat_minor": 5
}
