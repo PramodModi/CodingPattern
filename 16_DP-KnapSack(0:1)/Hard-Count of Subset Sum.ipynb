{
 "cells": [
  {
   "cell_type": "markdown",
   "id": "4fc53974",
   "metadata": {},
   "source": [
    "## Problem: Count of Subset Sum\n",
    "\n",
    "Given a set of positive numbers, find the total number of subsets whose sum is equal to a given number ‘S’.\n",
    "\n",
    "Example 1:\n",
    "\n",
    "    Input: {1, 1, 2, 3}, S=4\n",
    "    Output: 3\n",
    "    The given set has '3' subsets whose sum is '4': {1, 1, 2}, {1, 3}, {1, 3}\n",
    "    Note that we have two similar sets {1, 3}, because we have two '1' in our input.\n",
    "Example 2:\n",
    "\n",
    "    Input: {1, 2, 7, 1, 5}, S=9\n",
    "    Output: 3\n",
    "    The given set has '3' subsets whose sum is '9': {2, 7}, {1, 7, 1}, {1, 2, 1, 5}"
   ]
  },
  {
   "cell_type": "markdown",
   "id": "9606b9e0",
   "metadata": {},
   "source": [
    "### Approach:\n",
    "For counting the subset, we will add all possible ways of creating subset. In subset sum problem, we are doing logical or between all possible subset.\n",
    "Here, we will add all subset to have count of subset.\n",
    "The initial condition, dp[0][0] = 1, means, when target is zero, the number of subset = 1."
   ]
  },
  {
   "cell_type": "code",
   "execution_count": 1,
   "id": "8de4bbc4",
   "metadata": {},
   "outputs": [],
   "source": [
    "def countOfSubsetSum(array, target):\n",
    "    n = len(array)\n",
    "    dp = [[0]* (target+1) for _ in range(n+1) ]\n",
    "    for i in range(n+1):\n",
    "        dp[i][0] = 1\n",
    "    \n",
    "    for i in range(1, n+1):\n",
    "        num = array[i-1]\n",
    "        for j in range(1, target+1):\n",
    "            if num <= j:\n",
    "                dp[i][j] = dp[i-1][j-num] + dp[i-1][j]\n",
    "            else:\n",
    "                dp[i][j] = dp[i-1][j]\n",
    "    return dp[-1][-1]"
   ]
  },
  {
   "cell_type": "code",
   "execution_count": 2,
   "id": "43e049e9",
   "metadata": {},
   "outputs": [
    {
     "data": {
      "text/plain": [
       "3"
      ]
     },
     "execution_count": 2,
     "metadata": {},
     "output_type": "execute_result"
    }
   ],
   "source": [
    "array = [1,1,2,3]\n",
    "target= 4\n",
    "countOfSubsetSum(array, target)"
   ]
  },
  {
   "cell_type": "code",
   "execution_count": 3,
   "id": "bce52473",
   "metadata": {},
   "outputs": [
    {
     "data": {
      "text/plain": [
       "3"
      ]
     },
     "execution_count": 3,
     "metadata": {},
     "output_type": "execute_result"
    }
   ],
   "source": [
    "array = [1, 2, 7, 1, 5]\n",
    "target= 9\n",
    "countOfSubsetSum(array, target)"
   ]
  },
  {
   "cell_type": "code",
   "execution_count": 16,
   "id": "d2bb4161",
   "metadata": {},
   "outputs": [],
   "source": [
    "## When number includes 0 (zero) as well. Then we will have to start target from 0.\n",
    "\n",
    "def countOfSubsetSum_zero(array, target):\n",
    "    n = len(array)\n",
    "    dp = [[0]* (target+1) for _ in range(n+1) ]\n",
    "    for i in range(n+1):\n",
    "        dp[i][0] = 1\n",
    "    \n",
    "    for i in range(1, n+1):\n",
    "        num = array[i-1]\n",
    "        for j in range(target+1):\n",
    "            if num <= j:\n",
    "                dp[i][j] = dp[i-1][j-num] + dp[i-1][j]\n",
    "            else:\n",
    "                dp[i][j] = dp[i-1][j]\n",
    "    return dp[-1][-1]"
   ]
  },
  {
   "cell_type": "code",
   "execution_count": 17,
   "id": "5f9f4f20",
   "metadata": {},
   "outputs": [
    {
     "data": {
      "text/plain": [
       "8"
      ]
     },
     "execution_count": 17,
     "metadata": {},
     "output_type": "execute_result"
    }
   ],
   "source": [
    "array = [0,0,0,1]\n",
    "target= 1\n",
    "countOfSubsetSum_zero(array, target)"
   ]
  },
  {
   "cell_type": "code",
   "execution_count": 18,
   "id": "9949be26",
   "metadata": {},
   "outputs": [
    {
     "data": {
      "text/plain": [
       "3"
      ]
     },
     "execution_count": 18,
     "metadata": {},
     "output_type": "execute_result"
    }
   ],
   "source": [
    "array = [1,1,2,3]\n",
    "target= 4\n",
    "countOfSubsetSum_zero(array, target)"
   ]
  },
  {
   "cell_type": "code",
   "execution_count": null,
   "id": "8179ef9c",
   "metadata": {},
   "outputs": [],
   "source": []
  }
 ],
 "metadata": {
  "kernelspec": {
   "display_name": "Python 3",
   "language": "python",
   "name": "python3"
  },
  "language_info": {
   "codemirror_mode": {
    "name": "ipython",
    "version": 3
   },
   "file_extension": ".py",
   "mimetype": "text/x-python",
   "name": "python",
   "nbconvert_exporter": "python",
   "pygments_lexer": "ipython3",
   "version": "3.8.8"
  }
 },
 "nbformat": 4,
 "nbformat_minor": 5
}
