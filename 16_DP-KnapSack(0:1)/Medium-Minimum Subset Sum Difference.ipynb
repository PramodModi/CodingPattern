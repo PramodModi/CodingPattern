{
 "cells": [
  {
   "cell_type": "markdown",
   "id": "f0843e55",
   "metadata": {},
   "source": [
    "## Problem:Minimum Subset Sum Difference\n",
    "\n",
    "Given a set of positive numbers, partition the set into two subsets with minimum difference between their subset sums.\n",
    "\n",
    "Example 1:\n",
    "\n",
    "    Input: [1, 2, 3, 9]\n",
    "    Output: 3\n",
    "    Explanation: We can partition the given set into two subsets where minimum absolute difference \n",
    "    between the sum of numbers is '3'. Following are the two subsets: {1, 2, 3} & {9}.\n",
    "Example 2:\n",
    "\n",
    "    Input: [1, 2, 7, 1, 5]\n",
    "    Output: 0\n",
    "    Explanation: We can partition the given set into two subsets where minimum absolute difference \n",
    "    between the sum of number is '0'"
   ]
  },
  {
   "cell_type": "markdown",
   "id": "ce249f85",
   "metadata": {},
   "source": [
    "### Approach:\n",
    "This is similar to 0-1 Knapsack problem. You have to either choose the element or not to choose the element.\n",
    "If chosen, then reduce the index by 1.\n",
    "### Approach 1: Recursive:\n",
    "Pass two varaible, sum1 and sum2 in recursive method. sum1 and sum2 represents sum of items in two subset.\n",
    "If we choose the element for subset1, then sum1 += array[index] and no changes in sum2 and vice versa.\n",
    "Then return the minimum of abs(sum1-sum2).\n",
    "Base case would be, once index < = 0, that means all elements are exhausted. Return the abs(sum1-sum2).\n",
    "We will use the memoization technique to save the number of recursive calls.\n",
    "\n",
    "### Approach2: DP:\n",
    "Similar to equal partition subset problem, at the last row of dp, each target number (0 to target) will have true or false, if the target number(0, 1, ...) will be part of subset, then true otherwise false. \n",
    "As we have to find the minimum difference, so consider minimum difference may be 0, that is equal partition , hence, target = sum of array/2. However, that may not be the case. Then we have follow the below technique.\n",
    "\n",
    "To have minimum difference, find out the maximum number in the last row of dp, which can be part of subset.This is the sum1 (subset1 sum). Start from the right index of last row of dp, the first True value would be highest number can go into subset1.\n",
    "Find sum2, sum2 = S-sum1, where S = sum of element of array.\n",
    "\n",
    "Returm abs(sum1-sum2).\n"
   ]
  },
  {
   "cell_type": "code",
   "execution_count": 34,
   "id": "586a94c5",
   "metadata": {},
   "outputs": [],
   "source": [
    "## Top down: Recurrsive approach. \n",
    "## Meomization space complexity = O(ns), where n = array length and s = sum of all elements in array\n",
    "\n",
    "def minimumSubsetSumDifference(array):\n",
    "    n = len(array)-1\n",
    "    m = sum(array)\n",
    "    mem = [[-1] *(m) for _ in range(n+1)]\n",
    "    return minimumSumDifference(array, n, 0, 0, mem)\n",
    "def minimumSumDifference(array, index, sum1, sum2, mem):\n",
    "    if index < 0:\n",
    "        return abs(sum1-sum2)\n",
    "    if mem[index][sum1] != -1:\n",
    "        return mem[index][sum1]\n",
    "    diff1 = minimumSumDifference(array, index-1, sum1 + array[index], sum2, mem)\n",
    "    diff2  = minimumSumDifference(array, index-1, sum1, sum2+array[index], mem)\n",
    "    mem[index][sum1] =  min(diff1, diff2)\n",
    "    return mem[index][sum1]\n"
   ]
  },
  {
   "cell_type": "code",
   "execution_count": 35,
   "id": "dcc06cf4",
   "metadata": {},
   "outputs": [
    {
     "data": {
      "text/plain": [
       "3"
      ]
     },
     "execution_count": 35,
     "metadata": {},
     "output_type": "execute_result"
    }
   ],
   "source": [
    "array = [1, 2, 3, 9]\n",
    "minimumSubsetSumDifference(array)"
   ]
  },
  {
   "cell_type": "code",
   "execution_count": 36,
   "id": "aafac3a6",
   "metadata": {},
   "outputs": [
    {
     "data": {
      "text/plain": [
       "0"
      ]
     },
     "execution_count": 36,
     "metadata": {},
     "output_type": "execute_result"
    }
   ],
   "source": [
    "array = [1, 2, 7, 1, 5]\n",
    "minimumSubsetSumDifference(array)"
   ]
  },
  {
   "cell_type": "code",
   "execution_count": 1,
   "id": "cf2a1647",
   "metadata": {},
   "outputs": [],
   "source": [
    "def minimumSubsetSumDifference1(array):\n",
    "    n = len(array)-1\n",
    "    m = sum(array)\n",
    "    mem = {} # Hash map, reduced size of memoization.\n",
    "    return minimumSumDifference1(array, n, 0, 0, mem)\n",
    "def minimumSumDifference1(array, index, sum1, sum2, mem):\n",
    "    if index < 0:\n",
    "        return abs(sum1-sum2)\n",
    "    key = str(index) + str(sum1)\n",
    "    if key in mem:\n",
    "        return mem[key]\n",
    "    diff1 = minimumSumDifference1(array, index-1, sum1 + array[index], sum2, mem)\n",
    "    diff2  = minimumSumDifference1(array, index-1, sum1, sum2+array[index], mem)\n",
    "    mem[key] =  min(diff1, diff2)\n",
    "    return mem[key]"
   ]
  },
  {
   "cell_type": "code",
   "execution_count": 2,
   "id": "23f69f28",
   "metadata": {},
   "outputs": [
    {
     "data": {
      "text/plain": [
       "3"
      ]
     },
     "execution_count": 2,
     "metadata": {},
     "output_type": "execute_result"
    }
   ],
   "source": [
    "array = [1, 2, 3, 9]\n",
    "minimumSubsetSumDifference1(array)"
   ]
  },
  {
   "cell_type": "code",
   "execution_count": 3,
   "id": "47129aeb",
   "metadata": {},
   "outputs": [
    {
     "data": {
      "text/plain": [
       "0"
      ]
     },
     "execution_count": 3,
     "metadata": {},
     "output_type": "execute_result"
    }
   ],
   "source": [
    "array = [1, 2, 7, 1, 5]\n",
    "minimumSubsetSumDifference1(array)"
   ]
  },
  {
   "cell_type": "code",
   "execution_count": 40,
   "id": "156f2790",
   "metadata": {},
   "outputs": [],
   "source": [
    "def minimumSubsetSumDifference_dp(array):\n",
    "    n = len(array)\n",
    "    arraySum = sum(array)\n",
    "    s = arraySum//2\n",
    "    dp = [[False]*(s+1) for _ in range(n+1)]\n",
    "    \n",
    "    for i in range(n+1):\n",
    "        dp[i][0] = True\n",
    "        \n",
    "    for i in range(1, n+1):\n",
    "        num = array[i-1]\n",
    "        for j in range(1, s+1):\n",
    "            if num <= j:\n",
    "                dp[i][j] = dp[i-1][j-num] or dp[i-1][j]\n",
    "            else:\n",
    "                dp[i][j] = dp[i-1][j]\n",
    "   # Now last row of dp will have information about probable sum possibility.\n",
    "    # start from right side to get the maximum value which will be part of subset\n",
    "    for i in range(s, -1, -1):\n",
    "        if dp[n][i] == True:\n",
    "            break\n",
    "    sum1 = i\n",
    "    sum2 = arraySum - sum1\n",
    "    return abs(sum1-sum2)"
   ]
  },
  {
   "cell_type": "code",
   "execution_count": 41,
   "id": "4defadc0",
   "metadata": {},
   "outputs": [
    {
     "data": {
      "text/plain": [
       "3"
      ]
     },
     "execution_count": 41,
     "metadata": {},
     "output_type": "execute_result"
    }
   ],
   "source": [
    "array = [1, 2, 3, 9]\n",
    "minimumSubsetSumDifference_dp(array)"
   ]
  },
  {
   "cell_type": "code",
   "execution_count": 42,
   "id": "fc0b7147",
   "metadata": {},
   "outputs": [
    {
     "data": {
      "text/plain": [
       "0"
      ]
     },
     "execution_count": 42,
     "metadata": {},
     "output_type": "execute_result"
    }
   ],
   "source": [
    "array = [1, 2, 7, 1, 5]\n",
    "minimumSubsetSumDifference_dp(array)"
   ]
  },
  {
   "cell_type": "code",
   "execution_count": null,
   "id": "cc8365a3",
   "metadata": {},
   "outputs": [],
   "source": []
  }
 ],
 "metadata": {
  "kernelspec": {
   "display_name": "Python 3 (ipykernel)",
   "language": "python",
   "name": "python3"
  },
  "language_info": {
   "codemirror_mode": {
    "name": "ipython",
    "version": 3
   },
   "file_extension": ".py",
   "mimetype": "text/x-python",
   "name": "python",
   "nbconvert_exporter": "python",
   "pygments_lexer": "ipython3",
   "version": "3.8.18"
  }
 },
 "nbformat": 4,
 "nbformat_minor": 5
}
