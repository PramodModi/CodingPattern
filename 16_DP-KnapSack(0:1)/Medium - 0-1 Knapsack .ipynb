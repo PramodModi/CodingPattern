{
 "cells": [
  {
   "cell_type": "markdown",
   "id": "259ad3ce",
   "metadata": {},
   "source": [
    "## Problem:\n",
    "Given items wieghts and value, given maximum capacity of knapsack. Return the maximum value of all items packed in the knapscak. Items can not be fraction also, you can not take same item again.\n"
   ]
  },
  {
   "cell_type": "markdown",
   "id": "5494f79f",
   "metadata": {},
   "source": [
    "### Top Down Approach: Start from top and reach to base case\n",
    "recursive method, without memoization\n",
    "\n",
    "Idea is to choose the item or not to choose the item, if its weight is less the capacity. Suppose we have chosen the item and put in the bag, then one item is reduced (index will be reduce by 1) and capacity of bag will also reduce by items weight . Capacity = capacity - weights[index]. We have value = value + value[index]\n",
    "\n",
    "If we did not chose the item, capacity of weight will remain same as previous capacity and value will also remain as same. However, number of items will reduce by 1 (index-1).\n",
    "\n",
    "In the condition where, weight of item is more than capacity of weight, then it will fall under not to choose the item.\n",
    "\n",
    "In recursive approach, we will start from last index, and will keep calling method recursively, and will adjust the capacity of bag and index of item, if we choose or not to choose.\n",
    "\n",
    "Return the max value."
   ]
  },
  {
   "cell_type": "code",
   "execution_count": 2,
   "id": "fbd6ff8b",
   "metadata": {},
   "outputs": [],
   "source": [
    "def knapsack(weights, values, capacity):\n",
    "    n = len(weights)\n",
    "    # Start recursive method with last index\n",
    "    return maxValue_knapsack(weights, values, capacity, n)\n",
    "\n",
    "def maxValue_knapsack(weights, values, capacity, n):\n",
    "    # Base case\n",
    "    if n == 0 or capacity == 0:\n",
    "        return 0\n",
    "    if weights[n-1]<= capacity:\n",
    "        return max(values[n-1] + maxValue_knapsack(weights, values, capacity-weights[n-1], n-1), \n",
    "                   maxValue_knapsack(weights, values, capacity, n-1))\n",
    "    else:\n",
    "        return maxValue_knapsack(weights, values, capacity, n-1)"
   ]
  },
  {
   "cell_type": "code",
   "execution_count": 3,
   "id": "27765c19",
   "metadata": {},
   "outputs": [
    {
     "data": {
      "text/plain": [
       "55"
      ]
     },
     "execution_count": 3,
     "metadata": {},
     "output_type": "execute_result"
    }
   ],
   "source": [
    "weights = [1,2,3,4,5]\n",
    "values = [20, 8, 15,10,12]\n",
    "capacity =12\n",
    "knapsack(weights, values, capacity)"
   ]
  },
  {
   "cell_type": "markdown",
   "id": "a63ee6b9",
   "metadata": {},
   "source": [
    "### Recursive method, with memoization\n",
    "Since calculation is repeating for same number, so complexity of above solution is O(2^n).\n",
    "We will store the calculated value. If calculation has been already made, then will return the stored value. So, it will reduce the number of calculation. Complexity will reduce to O(n^2)."
   ]
  },
  {
   "cell_type": "code",
   "execution_count": 6,
   "id": "d65b1299",
   "metadata": {},
   "outputs": [],
   "source": [
    "def knapsack_memoization(weights, values, capacity):\n",
    "    n = len(weights)\n",
    "    mem = [[-1 for _ in range(capacity + 1)] for _ in range(n+1)]\n",
    "    return maxValue_knapsack(weights, values, capacity, n, mem)\n",
    "\n",
    "def maxValue_knapsack(weights, values, capacity, n, mem):\n",
    "    # Base case\n",
    "    if n == 0 or capacity == 0:\n",
    "        return 0\n",
    "    if mem[n][capacity]!= -1:\n",
    "        return mem[n][capacity]\n",
    "    if weights[n-1]<= capacity:\n",
    "        mem[n][capacity] = max(values[n-1] + maxValue_knapsack(weights, values, capacity-weights[n-1], n-1,mem), \n",
    "                   maxValue_knapsack(weights, values, capacity, n-1,mem))\n",
    "    else:\n",
    "        mem[n][capacity] = maxValue_knapsack(weights, values, capacity, n-1,value)\n",
    "    return mem[n][capacity]"
   ]
  },
  {
   "cell_type": "code",
   "execution_count": 7,
   "id": "60562dd7",
   "metadata": {},
   "outputs": [
    {
     "data": {
      "text/plain": [
       "55"
      ]
     },
     "execution_count": 7,
     "metadata": {},
     "output_type": "execute_result"
    }
   ],
   "source": [
    "weights = [1,2,3,4,5]\n",
    "values = [20, 8, 15,10,12]\n",
    "capacity =12\n",
    "knapsack_memoization(weights, values, capacity)"
   ]
  },
  {
   "cell_type": "markdown",
   "id": "db045ed2",
   "metadata": {},
   "source": [
    "### Bottom Up approach : Start from base case and go up\n",
    "Tabulation is the opposite of the top-down approach and avoids recursion. In this approach, we solve the problem “bottom-up” (i.e. by solving all the related sub-problems first). This is typically done by filling up an n-dimensional table. Based on the results in the table, the solution to the top/original problem is then computed.\n",
    "\n",
    "Tabulation is the opposite of Memoization, as in Memoization we solve the problem and maintain a map of already solved sub-problems. In other words, in memoization , we do it top-down in the sense that we solve the top problem first (which typically recurses down to solve the sub-problems).\n",
    "\n",
    "Let’s try to populate our mem[][] array from the above solution by working in a bottom-up fashion. Essentially, we want to find the maximum profit for every sub-array and every possible capacity. This means that dp[i][c] will represent the maximum knapsack profit for capacity c calculated from the first i items.\n",
    "\n",
    "So, for each item at index i (0 <= i < len(items)) and capacity c (0 <= c <= capacity), we have two options:\n",
    "\n",
    "Exclude the item at index i. In this case, we will take whatever profit we get from the sub-array excluding this item => dp[i-1][c]\n",
    "Include the item at index i if its weight is not more than the capacity. In this case, we include its profit plus whatever profit we get from the remaining capacity and from remaining items => values[i] + dp[i-1][c-weight[i]]\n",
    "Finally, our optimal solution will be maximum of the above two values:\n",
    "\n",
    "dp[i][c] = max (dp[i-1][c], values[i] + dp[i-1][c-weight[i]])"
   ]
  },
  {
   "cell_type": "code",
   "execution_count": 8,
   "id": "f2d8f454",
   "metadata": {},
   "outputs": [],
   "source": [
    "def knapsack_DP(weights, values, capacity):\n",
    "    n = len(weights)\n",
    "    dp = [[0 for _ in range(capacity + 1)] for _ in range(n+1)]\n",
    "    for i in range(1, n+1):\n",
    "        for j in range(1, capacity + 1):\n",
    "            if weights[i-1] <= j:\n",
    "                dp[i][j] = max(values[i-1] + dp[i-1][j-weights[i-1]], dp[i-1][j])\n",
    "            else:\n",
    "                dp[i][j] = dp[i-1][j]\n",
    "    \n",
    "    return dp[n][capacity]"
   ]
  },
  {
   "cell_type": "code",
   "execution_count": 9,
   "id": "eb6dc2cc",
   "metadata": {},
   "outputs": [
    {
     "data": {
      "text/plain": [
       "55"
      ]
     },
     "execution_count": 9,
     "metadata": {},
     "output_type": "execute_result"
    }
   ],
   "source": [
    "weights = [1,2,3,4,5]\n",
    "values = [20, 8, 15,10,12]\n",
    "capacity =12\n",
    "knapsack_DP(weights, values, capacity)"
   ]
  },
  {
   "cell_type": "code",
   "execution_count": 10,
   "id": "daeebe91",
   "metadata": {},
   "outputs": [],
   "source": [
    "# As there are two rows only involved, so reduced dp size to 2 rows only.\n",
    "def knapsack_optimized(weights, values, capacity):\n",
    "    n = len(weights)\n",
    "    dp = [[0 for _ in range(capacity+1)] for _ in range(2)]\n",
    "    for i in range(1, n+1):\n",
    "        for j in range(1, capacity +1):\n",
    "            w = weights[i-1]\n",
    "            if w <= j:\n",
    "                dp[i%2][j] = max(values[i-1] + dp[(i-1)%2][j-w], dp[(i-1)%2][j])\n",
    "            else:\n",
    "                dp[i%2][j] = dp[(i-1)%2][j]\n",
    "    return dp[n%2][-1]"
   ]
  },
  {
   "cell_type": "code",
   "execution_count": 12,
   "id": "73ac3a97",
   "metadata": {},
   "outputs": [
    {
     "data": {
      "text/plain": [
       "55"
      ]
     },
     "execution_count": 12,
     "metadata": {},
     "output_type": "execute_result"
    }
   ],
   "source": [
    "weights = [1,2,3,4,5]\n",
    "values = [20, 8, 15,10,12]\n",
    "capacity =12\n",
    "knapsack_optimized(weights, values, capacity)"
   ]
  },
  {
   "cell_type": "code",
   "execution_count": 13,
   "id": "ca5c4a64",
   "metadata": {},
   "outputs": [],
   "source": [
    "# Further optimization, we need previous row to know the previous value in dp. \n",
    "# This can be done, if we travers the row from righ to left.\n",
    "# optimized with 1 row only. 1-D dp.\n",
    "\n",
    "def knapsack_1D (weights, values, capacity):\n",
    "    n = len(weights)\n",
    "    dp = [0] * (capacity +1)\n",
    "    \n",
    "    for i in range(1, n+1):\n",
    "        for j in range(capacity, 0, -1): # start from last column\n",
    "            w = weights[i-1]\n",
    "            if w <= j:\n",
    "                dp[j] = max(values[i-1] + dp[j-w], dp[j])\n",
    "    return dp[-1]"
   ]
  },
  {
   "cell_type": "code",
   "execution_count": 14,
   "id": "e3f7520e",
   "metadata": {},
   "outputs": [
    {
     "data": {
      "text/plain": [
       "55"
      ]
     },
     "execution_count": 14,
     "metadata": {},
     "output_type": "execute_result"
    }
   ],
   "source": [
    "weights = [1,2,3,4,5]\n",
    "values = [20, 8, 15,10,12]\n",
    "capacity =12\n",
    "knapsack_1D(weights, values, capacity)"
   ]
  },
  {
   "cell_type": "code",
   "execution_count": null,
   "id": "0b9382a6",
   "metadata": {},
   "outputs": [],
   "source": []
  }
 ],
 "metadata": {
  "kernelspec": {
   "display_name": "Python 3",
   "language": "python",
   "name": "python3"
  },
  "language_info": {
   "codemirror_mode": {
    "name": "ipython",
    "version": 3
   },
   "file_extension": ".py",
   "mimetype": "text/x-python",
   "name": "python",
   "nbconvert_exporter": "python",
   "pygments_lexer": "ipython3",
   "version": "3.8.8"
  }
 },
 "nbformat": 4,
 "nbformat_minor": 5
}
