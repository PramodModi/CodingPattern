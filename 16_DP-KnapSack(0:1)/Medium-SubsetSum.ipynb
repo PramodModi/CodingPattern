{
 "cells": [
  {
   "cell_type": "markdown",
   "id": "7e85e5f7",
   "metadata": {},
   "source": [
    "## Problem: Subset Sum\n",
    "\n",
    "Given array of numbers and one vlaue. Return True or False, if value is possible by adding subsets of array. subset of array [1,2,3] are [],[1],[2],[3],[1,2],[1,3],[2,3],[1,2,3].\n",
    "\n",
    "Example1:\n",
    "\n",
    "    array = [1,2,3,7,8,10]\n",
    "\n",
    "    value = 11\n",
    "\n",
    "    output = True // 11= 3+8\n",
    "\n",
    "Example2:\n",
    "\n",
    "    array = [1,2,3,7,8,10]\n",
    "\n",
    "    value = 6\n",
    "\n",
    "    output = True // 11= 1+2+3\n",
    "\n",
    "\n",
    "Example3:\n",
    "\n",
    "    array: [1, 2, 3, 7], \n",
    "    value = 6\n",
    "    Output: True\n",
    "    The given set has a subset whose sum is '6': [1, 2, 3]\n",
    "    \n",
    " "
   ]
  },
  {
   "cell_type": "markdown",
   "id": "9be7927c",
   "metadata": {},
   "source": [
    "### Approach:\n",
    "It is simlar to knapsack 0-1 problem. We have to choose number to be included in answer or not. If number is bigger than given value then it can not be included. If value is less than given value, then two choices, include or not include. If included then reduce the value by chosen number and remove that number from array (reduce the size), if not included then just remove the number from array."
   ]
  },
  {
   "cell_type": "code",
   "execution_count": 27,
   "id": "6337c1a8",
   "metadata": {},
   "outputs": [],
   "source": [
    "## Bottom up approach: Recursive with Memoization\n",
    "\n",
    "def subseSum(array, value):\n",
    "    mem = [-1] * (len(array))\n",
    "    return subsetSumRec(array, value, len(array)-1, mem)\n",
    "\n",
    "def subsetSumRec(array, value, index, mem):\n",
    "    if value == 0:\n",
    "        return True\n",
    "    if index < 0 or value<0:\n",
    "        return False\n",
    "    if mem[index] != -1:\n",
    "        return mem[index]\n",
    "    if array[index] <= value:\n",
    "        mem[index] =  subsetSumRec(array, value- array[index], index-1, mem) or subsetSumRec(array, value, index-1, mem)\n",
    "    else:\n",
    "        mem[index] =  subsetSumRec(array, value, index-1, mem)\n",
    "    return mem[index]\n",
    "        \n",
    "  "
   ]
  },
  {
   "cell_type": "code",
   "execution_count": 18,
   "id": "59f8e53d",
   "metadata": {},
   "outputs": [
    {
     "data": {
      "text/plain": [
       "True"
      ]
     },
     "execution_count": 18,
     "metadata": {},
     "output_type": "execute_result"
    }
   ],
   "source": [
    "array = [1,2,3,7,8,10]\n",
    "value = 11\n",
    "subseSum(array, value)"
   ]
  },
  {
   "cell_type": "code",
   "execution_count": 19,
   "id": "55592238",
   "metadata": {},
   "outputs": [
    {
     "data": {
      "text/plain": [
       "True"
      ]
     },
     "execution_count": 19,
     "metadata": {},
     "output_type": "execute_result"
    }
   ],
   "source": [
    "array = [1,2,3,7,8,10]\n",
    "value = 6\n",
    "subseSum(array, value)"
   ]
  },
  {
   "cell_type": "code",
   "execution_count": 20,
   "id": "8f1b14de",
   "metadata": {},
   "outputs": [
    {
     "data": {
      "text/plain": [
       "True"
      ]
     },
     "execution_count": 20,
     "metadata": {},
     "output_type": "execute_result"
    }
   ],
   "source": [
    "array = [1,2,3,7,8,10]\n",
    "value = 7\n",
    "subseSum(array, value)"
   ]
  },
  {
   "cell_type": "code",
   "execution_count": 21,
   "id": "8dee04cd",
   "metadata": {},
   "outputs": [
    {
     "data": {
      "text/plain": [
       "False"
      ]
     },
     "execution_count": 21,
     "metadata": {},
     "output_type": "execute_result"
    }
   ],
   "source": [
    "array = [1, 3, 4, 8]\n",
    "value =6\n",
    "subseSum(array, value)"
   ]
  },
  {
   "cell_type": "code",
   "execution_count": 22,
   "id": "8f618254",
   "metadata": {},
   "outputs": [],
   "source": [
    "## Top down approach\n",
    "def subsetSum_DP(array, value):\n",
    "    n = len(array)\n",
    "    dp = [[False] * (value + 1)  for _ in range(n+1)]\n",
    "    \n",
    "    for i in range(n+1):\n",
    "        dp[i][0] = True\n",
    "    for i in range(1, n+1):\n",
    "        for j in range(1, value+1):\n",
    "            num = array[i-1]\n",
    "            if num <= j:\n",
    "                dp[i][j] = dp[i-1][j-num] or dp[i-1][j]\n",
    "            else:\n",
    "                dp[i][j] = dp[i-1][j]\n",
    "    return dp[-1][-1]\n",
    "    "
   ]
  },
  {
   "cell_type": "code",
   "execution_count": 23,
   "id": "4cde99b4",
   "metadata": {},
   "outputs": [
    {
     "data": {
      "text/plain": [
       "True"
      ]
     },
     "execution_count": 23,
     "metadata": {},
     "output_type": "execute_result"
    }
   ],
   "source": [
    "array = [1,2,3,7,8,10]\n",
    "value = 11\n",
    "subsetSum_DP(array, value)"
   ]
  },
  {
   "cell_type": "code",
   "execution_count": 24,
   "id": "5142880c",
   "metadata": {},
   "outputs": [
    {
     "data": {
      "text/plain": [
       "True"
      ]
     },
     "execution_count": 24,
     "metadata": {},
     "output_type": "execute_result"
    }
   ],
   "source": [
    "array = [1,2,3,7,8,10]\n",
    "value = 6\n",
    "subsetSum_DP(array, value)"
   ]
  },
  {
   "cell_type": "code",
   "execution_count": 25,
   "id": "8bd381ca",
   "metadata": {},
   "outputs": [
    {
     "data": {
      "text/plain": [
       "False"
      ]
     },
     "execution_count": 25,
     "metadata": {},
     "output_type": "execute_result"
    }
   ],
   "source": [
    "array = [1, 3, 4, 8]\n",
    "value =6\n",
    "subsetSum_DP(array, value)"
   ]
  },
  {
   "cell_type": "code",
   "execution_count": 26,
   "id": "6e3d9063",
   "metadata": {},
   "outputs": [
    {
     "data": {
      "text/plain": [
       "True"
      ]
     },
     "execution_count": 26,
     "metadata": {},
     "output_type": "execute_result"
    }
   ],
   "source": [
    "array = [1,2,3,7,8,10]\n",
    "value = 7\n",
    "subsetSum_DP(array, value)"
   ]
  },
  {
   "cell_type": "code",
   "execution_count": null,
   "id": "8280755f",
   "metadata": {},
   "outputs": [],
   "source": []
  }
 ],
 "metadata": {
  "kernelspec": {
   "display_name": "Python 3",
   "language": "python",
   "name": "python3"
  },
  "language_info": {
   "codemirror_mode": {
    "name": "ipython",
    "version": 3
   },
   "file_extension": ".py",
   "mimetype": "text/x-python",
   "name": "python",
   "nbconvert_exporter": "python",
   "pygments_lexer": "ipython3",
   "version": "3.8.8"
  }
 },
 "nbformat": 4,
 "nbformat_minor": 5
}
