{
 "cells": [
  {
   "cell_type": "markdown",
   "id": "3dbfb1a9",
   "metadata": {},
   "source": [
    "## Problem: Order-agnostic Binary Search\n",
    "\n",
    "The actual problem: \n",
    "\n",
    "    Given a sorted array of numbers, find if a given number ‘target’ is present in the array. Though we know that the array is sorted, we don’t know if it’s sorted in ascending or descending order. You should assume that the array can have duplicates.\n",
    "\n",
    "    Write a function to return the index of the ‘taret’ if it is present in the array, otherwise return -1.\n",
    "    \n",
    "Example 1:\n",
    "\n",
    "    Input: nums = [1, 2, 3, 4, 5, 6, 7], target = 5\n",
    "    Output: 4\n",
    "Example 2:\n",
    "\n",
    "    Input: nums = [10, 6, 4], target = 10\n",
    "    Output: 0\n",
    "\n",
    "LeetCode: 704. Binary Search (This is the simlar problem but not exactly the same)\n",
    "\n",
    "https://leetcode.com/problems/binary-search/\n",
    "\n",
    "Given an array of integers nums which is sorted in ascending order, and an integer target, write a function to search target in nums. If target exists, then return its index. Otherwise, return -1.\n",
    "\n",
    "You must write an algorithm with O(log n) runtime complexity.\n",
    "\n",
    " \n",
    "Example 3:\n",
    "\n",
    "    Input: nums = [-1,0,3,5,9,12], target = 9\n",
    "    Output: 4\n",
    "    Explanation: 9 exists in nums and its index is 4\n",
    "Example 4:\n",
    "\n",
    "    Input: nums = [-1,0,3,5,9,12], target = 2\n",
    "    Output: -1\n",
    "    Explanation: 2 does not exist in nums so return -1\n",
    " \n",
    "\n",
    "Constraints:\n",
    "\n",
    "    1 <= nums.length <= 104\n",
    "    -104 < nums[i], target < 104\n",
    "    All the integers in nums are unique.\n",
    "    nums is sorted in ascending order."
   ]
  },
  {
   "cell_type": "markdown",
   "id": "170a0251",
   "metadata": {},
   "source": [
    "### Approach:\n",
    "\n",
    "This is the pure binary search problem as numbers are in sorted order. However, we do not know the sorting order, it may be ascending or descending which will impact the movement of left and right pointers. So, the very first step is to find what is the sorting order and based on that we can decide the pointers movement.\n"
   ]
  },
  {
   "cell_type": "code",
   "execution_count": 14,
   "id": "242877b0",
   "metadata": {},
   "outputs": [],
   "source": [
    "def search(nums, target):\n",
    "    l, r = 0, len(nums)-1\n",
    "    \n",
    "    ascendingOrder = nums[l]<nums[r]\n",
    "    \n",
    "    while l<=r:\n",
    "        mid = (l+r)//2\n",
    "        if target == nums[mid]:\n",
    "            return mid\n",
    "        if ascendingOrder:\n",
    "            if target> nums[mid]:\n",
    "                l = mid+1\n",
    "            else:\n",
    "                r = mid-1\n",
    "        else:\n",
    "            if target > nums[mid]:\n",
    "                r = mid-1\n",
    "            else:\n",
    "                l = mid+1\n",
    "    return -1"
   ]
  },
  {
   "cell_type": "code",
   "execution_count": 15,
   "id": "0eb163d4",
   "metadata": {},
   "outputs": [
    {
     "data": {
      "text/plain": [
       "4"
      ]
     },
     "execution_count": 15,
     "metadata": {},
     "output_type": "execute_result"
    }
   ],
   "source": [
    "nums = [-1,0,3,5,9,12]\n",
    "target = 9\n",
    "search(nums, target)"
   ]
  },
  {
   "cell_type": "code",
   "execution_count": 16,
   "id": "8a37ef19",
   "metadata": {},
   "outputs": [
    {
     "data": {
      "text/plain": [
       "0"
      ]
     },
     "execution_count": 16,
     "metadata": {},
     "output_type": "execute_result"
    }
   ],
   "source": [
    "nums = [10, 6, 4]\n",
    "target = 10\n",
    "search(nums, target)"
   ]
  },
  {
   "cell_type": "code",
   "execution_count": 17,
   "id": "8a16f1ca",
   "metadata": {},
   "outputs": [
    {
     "data": {
      "text/plain": [
       "-1"
      ]
     },
     "execution_count": 17,
     "metadata": {},
     "output_type": "execute_result"
    }
   ],
   "source": [
    "nums = [-1,0,3,5,9,12]\n",
    "target = 2\n",
    "search(nums, target)"
   ]
  },
  {
   "cell_type": "code",
   "execution_count": null,
   "id": "0f5eae9b",
   "metadata": {},
   "outputs": [],
   "source": []
  }
 ],
 "metadata": {
  "kernelspec": {
   "display_name": "Python 3",
   "language": "python",
   "name": "python3"
  },
  "language_info": {
   "codemirror_mode": {
    "name": "ipython",
    "version": 3
   },
   "file_extension": ".py",
   "mimetype": "text/x-python",
   "name": "python",
   "nbconvert_exporter": "python",
   "pygments_lexer": "ipython3",
   "version": "3.8.8"
  }
 },
 "nbformat": 4,
 "nbformat_minor": 5
}
