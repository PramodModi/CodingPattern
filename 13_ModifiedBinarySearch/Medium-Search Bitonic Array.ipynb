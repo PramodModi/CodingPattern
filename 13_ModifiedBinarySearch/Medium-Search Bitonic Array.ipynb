{
 "cells": [
  {
   "cell_type": "markdown",
   "id": "bcc2db00",
   "metadata": {},
   "source": [
    "## Problrm: Search Bitonic Array\n",
    "\n",
    "Given a Bitonic array, find if a given ‘key’ is present in it. An array is considered bitonic if it is monotonically increasing and then monotonically decreasing. Monotonically increasing or decreasing means that for any index i in the array arr[i] != arr[i+1].\n",
    "\n",
    "Write a function to return the index of the ‘key’. If the 'key' appears more than once, return the smaller index. If the ‘key’ is not present, return -1.\n",
    "\n",
    "Example 1:\n",
    "\n",
    "    Input: [1, 3, 8, 4, 3], key=4\n",
    "    Output: 3\n",
    "Example 2:\n",
    "\n",
    "    Input: [3, 8, 3, 1], key=8\n",
    "    Output: 1"
   ]
  },
  {
   "cell_type": "markdown",
   "id": "963c2300",
   "metadata": {},
   "source": [
    "### Approach:\n",
    "\n",
    "First find the maximum key in the bitonic array. Max key index is the last position for increasing order. Very next index of Max key undex would be the start of decreasing order.\n",
    "\n",
    "Once we have range of increasing and decreasing order of array, then run the binary search algorithm to find the index of given key."
   ]
  },
  {
   "cell_type": "code",
   "execution_count": 6,
   "id": "17aefef3",
   "metadata": {},
   "outputs": [],
   "source": [
    "def searchKey(array, key):\n",
    "    maxIndex = getMaxIndex(array)\n",
    "    keyIndex = binarySearch(array, 0, maxIndex, key)\n",
    "    if keyIndex == -1:\n",
    "        keyIndex = binarySearch(array, maxIndex+1,len(array)-1, key)\n",
    "    return keyIndex\n",
    "\n",
    "def getMaxIndex(array):\n",
    "    l, r = 0, len(array)-1\n",
    "    \n",
    "    while l < r:\n",
    "        mid = (l+r)//2\n",
    "        if array[mid] > array[mid+1]:\n",
    "            r = mid\n",
    "        else:\n",
    "            l = mid+1\n",
    "    return l\n",
    "\n",
    "def binarySearch(array, start, end, key):\n",
    "    ascending = True\n",
    "    if array[start] > array[end]:\n",
    "        ascending = False\n",
    "    \n",
    "    l = start\n",
    "    r = end\n",
    "    while l <= r:\n",
    "        mid = (l+r)//2\n",
    "        if array[mid] == key:\n",
    "            return mid\n",
    "        if ascending:\n",
    "            if array[mid] > key:\n",
    "                r = mid-1\n",
    "            else:\n",
    "                l = mid+1\n",
    "        else:\n",
    "            if array[mid] > key:\n",
    "                l = mid + 1\n",
    "            else:\n",
    "                r = mid-1\n",
    "    return -1\n",
    "                "
   ]
  },
  {
   "cell_type": "code",
   "execution_count": 7,
   "id": "056eb004",
   "metadata": {},
   "outputs": [
    {
     "data": {
      "text/plain": [
       "3"
      ]
     },
     "execution_count": 7,
     "metadata": {},
     "output_type": "execute_result"
    }
   ],
   "source": [
    "array = [1, 3, 8, 4, 3]\n",
    "key=4\n",
    "searchKey(array, key)"
   ]
  },
  {
   "cell_type": "code",
   "execution_count": 8,
   "id": "ce84d5d7",
   "metadata": {},
   "outputs": [
    {
     "data": {
      "text/plain": [
       "1"
      ]
     },
     "execution_count": 8,
     "metadata": {},
     "output_type": "execute_result"
    }
   ],
   "source": [
    "array = [3, 8, 3, 1]\n",
    "key=8\n",
    "searchKey(array, key)"
   ]
  },
  {
   "cell_type": "code",
   "execution_count": 9,
   "id": "e903cc79",
   "metadata": {},
   "outputs": [
    {
     "data": {
      "text/plain": [
       "0"
      ]
     },
     "execution_count": 9,
     "metadata": {},
     "output_type": "execute_result"
    }
   ],
   "source": [
    "array = [8,9,10,11,12,7,6,5,4]\n",
    "key=8\n",
    "searchKey(array, key)"
   ]
  },
  {
   "cell_type": "code",
   "execution_count": 10,
   "id": "b7ce3224",
   "metadata": {},
   "outputs": [
    {
     "data": {
      "text/plain": [
       "5"
      ]
     },
     "execution_count": 10,
     "metadata": {},
     "output_type": "execute_result"
    }
   ],
   "source": [
    "array = [8,9,10,11,12,7,6,5,4]\n",
    "key=7\n",
    "searchKey(array, key)"
   ]
  },
  {
   "cell_type": "code",
   "execution_count": null,
   "id": "5f283e0d",
   "metadata": {},
   "outputs": [],
   "source": []
  }
 ],
 "metadata": {
  "kernelspec": {
   "display_name": "Python 3",
   "language": "python",
   "name": "python3"
  },
  "language_info": {
   "codemirror_mode": {
    "name": "ipython",
    "version": 3
   },
   "file_extension": ".py",
   "mimetype": "text/x-python",
   "name": "python",
   "nbconvert_exporter": "python",
   "pygments_lexer": "ipython3",
   "version": "3.8.8"
  }
 },
 "nbformat": 4,
 "nbformat_minor": 5
}
