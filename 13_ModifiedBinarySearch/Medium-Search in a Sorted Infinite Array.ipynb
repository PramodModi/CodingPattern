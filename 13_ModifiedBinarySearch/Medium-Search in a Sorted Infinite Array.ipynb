{
 "cells": [
  {
   "cell_type": "markdown",
   "id": "813e29ee",
   "metadata": {},
   "source": [
    "## Problem: Search in a Sorted Infinite Array\n",
    "LeetCode: Prime membership is needed.\n",
    "\n",
    "https://leetcode.com/problems/search-in-a-sorted-array-of-unknown-size/\n",
    "\n",
    "Given an infinite sorted array (or an array with unknown size), find if a given number ‘key’ is present in the array. Write a function to return the index of the ‘key’ if it is present in the array, otherwise return -1.\n",
    "\n",
    "Since it is not possible to define an array with infinite (unknown) size, you will be provided with an interface ArrayReader to read elements of the array. ArrayReader.get(index) will return the number at index; if the array’s size is smaller than the index, it will return Integer.MAX_VALUE.\n",
    "\n",
    "Example1:\n",
    " \n",
    "     input: nums = [4, 6, 8, 10, 12, 14, 16, 18, 20, 22, 24, 26, 28, 30], target = 11\n",
    "     output: -1\n",
    " \n",
    "Example2:\n",
    "\n",
    "    input: nums = [4, 6, 8, 10, 12, 14, 16, 18, 20, 22, 24, 26, 28, 30], target = 16\n",
    "    output: 6\n",
    "    "
   ]
  },
  {
   "cell_type": "markdown",
   "id": "01bacec0",
   "metadata": {},
   "source": [
    "### Approach:\n",
    "The problem follows the Binary Search pattern. Since Binary Search helps us find a number in a sorted array efficiently, we can use a modified version of the Binary Search to find the key in an infinite sorted array.\n",
    "\n",
    "The only issue with applying binary search in this problem is that we don’t know the bounds of the array. To handle this situation, we will first find the proper bounds of the array where we can perform a binary search.\n",
    "\n",
    "An efficient way to find the proper bounds is to start at the beginning of the array with the bound’s size as 1 and exponentially increase the bound’s size (i.e., double it) until we find the bounds that can have the key."
   ]
  },
  {
   "cell_type": "code",
   "execution_count": 13,
   "id": "851c5f1a",
   "metadata": {},
   "outputs": [],
   "source": [
    "def searchInInfiniteArray(nums, target):\n",
    "    start = 0\n",
    "    end = 1\n",
    "    \n",
    "    while end < len(nums) and nums[end] < target:\n",
    "        newStart = end +1\n",
    "        end += (end -start + 1)*2\n",
    "        start = newStart\n",
    "        \n",
    "    if end > len(nums):\n",
    "        return -1\n",
    "    while start <= end:\n",
    "        mid = (start + end)//2\n",
    "        \n",
    "        if target == nums[mid]:\n",
    "            return mid\n",
    "        if target > nums[mid]:\n",
    "            start = mid+1\n",
    "        else:\n",
    "            end = mid-1\n",
    "    return -1"
   ]
  },
  {
   "cell_type": "code",
   "execution_count": 14,
   "id": "f1fe8eec",
   "metadata": {},
   "outputs": [
    {
     "data": {
      "text/plain": [
       "-1"
      ]
     },
     "execution_count": 14,
     "metadata": {},
     "output_type": "execute_result"
    }
   ],
   "source": [
    "nums = [4, 6, 8, 10, 12, 14, 16, 18, 20, 22, 24, 26, 28, 30]\n",
    "target = 11\n",
    "searchInInfiniteArray(nums, target)"
   ]
  },
  {
   "cell_type": "code",
   "execution_count": 15,
   "id": "f1b04561",
   "metadata": {},
   "outputs": [
    {
     "data": {
      "text/plain": [
       "6"
      ]
     },
     "execution_count": 15,
     "metadata": {},
     "output_type": "execute_result"
    }
   ],
   "source": [
    "nums = [4, 6, 8, 10, 12, 14, 16, 18, 20, 22, 24, 26, 28, 30]\n",
    "target = 16\n",
    "searchInInfiniteArray(nums, target)"
   ]
  },
  {
   "cell_type": "code",
   "execution_count": 16,
   "id": "56a391f4",
   "metadata": {},
   "outputs": [
    {
     "data": {
      "text/plain": [
       "-1"
      ]
     },
     "execution_count": 16,
     "metadata": {},
     "output_type": "execute_result"
    }
   ],
   "source": [
    "nums = [4, 6, 8, 10, 12, 14, 16, 18, 20, 22, 24, 26, 28, 30]\n",
    "target = 31\n",
    "searchInInfiniteArray(nums, target)"
   ]
  },
  {
   "cell_type": "code",
   "execution_count": 17,
   "id": "14a1a85a",
   "metadata": {},
   "outputs": [
    {
     "data": {
      "text/plain": [
       "-1"
      ]
     },
     "execution_count": 17,
     "metadata": {},
     "output_type": "execute_result"
    }
   ],
   "source": [
    "nums = [4, 6, 8, 10, 12, 14, 16, 18, 20, 22, 24, 26, 28, 30]\n",
    "target = 3\n",
    "searchInInfiniteArray(nums, target)"
   ]
  },
  {
   "cell_type": "code",
   "execution_count": 18,
   "id": "9c2d5352",
   "metadata": {},
   "outputs": [
    {
     "data": {
      "text/plain": [
       "0"
      ]
     },
     "execution_count": 18,
     "metadata": {},
     "output_type": "execute_result"
    }
   ],
   "source": [
    "nums = [4, 6, 8, 10, 12, 14, 16, 18, 20, 22, 24, 26, 28, 30]\n",
    "target = 4\n",
    "searchInInfiniteArray(nums, target)"
   ]
  },
  {
   "cell_type": "code",
   "execution_count": 19,
   "id": "84a6844c",
   "metadata": {},
   "outputs": [
    {
     "data": {
      "text/plain": [
       "13"
      ]
     },
     "execution_count": 19,
     "metadata": {},
     "output_type": "execute_result"
    }
   ],
   "source": [
    "nums = [4, 6, 8, 10, 12, 14, 16, 18, 20, 22, 24, 26, 28, 30]\n",
    "target = 30\n",
    "searchInInfiniteArray(nums, target)"
   ]
  },
  {
   "cell_type": "code",
   "execution_count": null,
   "id": "a1c1ec67",
   "metadata": {},
   "outputs": [],
   "source": []
  }
 ],
 "metadata": {
  "kernelspec": {
   "display_name": "Python 3",
   "language": "python",
   "name": "python3"
  },
  "language_info": {
   "codemirror_mode": {
    "name": "ipython",
    "version": 3
   },
   "file_extension": ".py",
   "mimetype": "text/x-python",
   "name": "python",
   "nbconvert_exporter": "python",
   "pygments_lexer": "ipython3",
   "version": "3.8.8"
  }
 },
 "nbformat": 4,
 "nbformat_minor": 5
}
