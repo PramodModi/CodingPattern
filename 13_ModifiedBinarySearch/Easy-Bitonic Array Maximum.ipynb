{
 "cells": [
  {
   "cell_type": "markdown",
   "id": "4516bdcd",
   "metadata": {},
   "source": [
    "## Problem: Bitonic Array Maximum\n",
    "\n",
    "Find the maximum value in a given Bitonic array. An array is considered bitonic if it is monotonically increasing and then monotonically decreasing. Monotonically increasing or decreasing means that for any index i in the array arr[i] != arr[i+1].\n",
    "\n",
    "Example 1:\n",
    "\n",
    "    Input: [1, 3, 8, 12, 4, 2]\n",
    "    Output: 12\n",
    "    Explanation: The maximum number in the input bitonic array is '12'.\n",
    "Example 2:\n",
    "\n",
    "    Input: [3, 8, 3, 1]\n",
    "    Output: 8\n",
    "Example 3:\n",
    "\n",
    "    Input: [1, 3, 8, 12]\n",
    "    Output: 12\n",
    "Example 4:\n",
    "\n",
    "    Input: [10, 9, 8]\n",
    "    Output: 10"
   ]
  },
  {
   "cell_type": "markdown",
   "id": "69f775c5",
   "metadata": {},
   "source": [
    "### Approach:\n",
    "A bitonic array is a sorted array; the only difference is that its first part is sorted in ascending order and the second part is sorted in descending order. Since no two consecutive numbers are same (as the array is monotonically increasing or decreasing), whenever we calculate the middle, we can compare the numbers pointed out by the index middle and middle+1 to find if we are in the ascending or the descending part. So:\n",
    "\n",
    "If arr[middle] > arr[middle + 1], we are in the second (descending) part of the bitonic array. Therefore, our required number could either be pointed out by middle or will be before middle. This means we will be doing: end = middle.\n",
    "\n",
    "If arr[middle] < arr[middle + 1], we are in the first (ascending) part of the bitonic array. Therefore, the required number will be after middle. This means we will be doing: start = middle + 1.\n",
    "\n",
    "We can break when start == end. Due to the two points mentioned above, both start and end will be pointing at the maximum number of the bitonic array."
   ]
  },
  {
   "cell_type": "code",
   "execution_count": 12,
   "id": "480f0cbd",
   "metadata": {},
   "outputs": [],
   "source": [
    "def findMaximum(array):\n",
    "    l, r = 0, len(array)-1\n",
    "    \n",
    "    while l < r:\n",
    "        mid = (l+r)//2\n",
    "        \n",
    "        if array[mid] > array[mid+1]:\n",
    "            r = mid\n",
    "        else:\n",
    "            l = mid+1\n",
    "    return array[l]\n",
    "            "
   ]
  },
  {
   "cell_type": "code",
   "execution_count": 13,
   "id": "9112ada6",
   "metadata": {},
   "outputs": [
    {
     "data": {
      "text/plain": [
       "12"
      ]
     },
     "execution_count": 13,
     "metadata": {},
     "output_type": "execute_result"
    }
   ],
   "source": [
    "array = [1, 3, 8, 12, 4, 2]\n",
    "findMaximum(array)"
   ]
  },
  {
   "cell_type": "code",
   "execution_count": 14,
   "id": "d0bafe46",
   "metadata": {},
   "outputs": [
    {
     "data": {
      "text/plain": [
       "8"
      ]
     },
     "execution_count": 14,
     "metadata": {},
     "output_type": "execute_result"
    }
   ],
   "source": [
    "array = [3, 8, 3, 1]\n",
    "findMaximum(array)"
   ]
  },
  {
   "cell_type": "code",
   "execution_count": 15,
   "id": "862c7e4e",
   "metadata": {},
   "outputs": [
    {
     "data": {
      "text/plain": [
       "10"
      ]
     },
     "execution_count": 15,
     "metadata": {},
     "output_type": "execute_result"
    }
   ],
   "source": [
    "array = [10, 9, 8]\n",
    "findMaximum(array)"
   ]
  },
  {
   "cell_type": "code",
   "execution_count": 16,
   "id": "b3553e11",
   "metadata": {},
   "outputs": [
    {
     "data": {
      "text/plain": [
       "12"
      ]
     },
     "execution_count": 16,
     "metadata": {},
     "output_type": "execute_result"
    }
   ],
   "source": [
    "array = [1, 3, 8, 12]\n",
    "findMaximum(array)"
   ]
  },
  {
   "cell_type": "code",
   "execution_count": null,
   "id": "0a45f240",
   "metadata": {},
   "outputs": [],
   "source": []
  }
 ],
 "metadata": {
  "kernelspec": {
   "display_name": "Python 3",
   "language": "python",
   "name": "python3"
  },
  "language_info": {
   "codemirror_mode": {
    "name": "ipython",
    "version": 3
   },
   "file_extension": ".py",
   "mimetype": "text/x-python",
   "name": "python",
   "nbconvert_exporter": "python",
   "pygments_lexer": "ipython3",
   "version": "3.8.8"
  }
 },
 "nbformat": 4,
 "nbformat_minor": 5
}
