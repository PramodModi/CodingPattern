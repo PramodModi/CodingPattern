{
 "cells": [
  {
   "cell_type": "markdown",
   "id": "321e258c",
   "metadata": {},
   "source": [
    "## Problem: Minimum Difference element\n",
    "\n",
    "Given an array of numbers sorted in ascending order, find the element in the array that has the minimum difference with the given ‘key’.\n",
    "\n",
    "Example 1:\n",
    "\n",
    "    Input: [4, 6, 10], key = 7\n",
    "    Output: 6\n",
    "    Explanation: The difference between the key '7' and '6' is minimum than any other number in the array \n",
    "Example 2:\n",
    "\n",
    "    Input: [4, 6, 10], key = 4\n",
    "    Output: 4\n",
    "Example 3:\n",
    "\n",
    "    Input: [1, 3, 8, 10, 15], key = 12\n",
    "    Output: 10\n",
    "Example 4:\n",
    "\n",
    "    Input: [4, 6, 10], key = 17\n",
    "    Output: 10\n"
   ]
  },
  {
   "cell_type": "code",
   "execution_count": 8,
   "id": "7eecdd11",
   "metadata": {},
   "outputs": [],
   "source": [
    "def minimumDiference(input, key):\n",
    "    l, r = 0,len(input)-1\n",
    "    \n",
    "    while l <= r:\n",
    "        mid = (r+r)//2\n",
    "        if key == input[mid]:\n",
    "            return input[mid]\n",
    "        if key > input[mid]:\n",
    "            l = mid+1\n",
    "        else:\n",
    "            r = mid-1\n",
    "    return input[l] if abs(input[l] - key) < abs(input[l-1] -key) else input[l-1]"
   ]
  },
  {
   "cell_type": "code",
   "execution_count": 9,
   "id": "d472ade5",
   "metadata": {},
   "outputs": [
    {
     "data": {
      "text/plain": [
       "6"
      ]
     },
     "execution_count": 9,
     "metadata": {},
     "output_type": "execute_result"
    }
   ],
   "source": [
    "Input= [4, 6, 10]\n",
    "key = 7\n",
    "minimumDiference(Input, key)"
   ]
  },
  {
   "cell_type": "code",
   "execution_count": 10,
   "id": "162cdf87",
   "metadata": {},
   "outputs": [
    {
     "data": {
      "text/plain": [
       "4"
      ]
     },
     "execution_count": 10,
     "metadata": {},
     "output_type": "execute_result"
    }
   ],
   "source": [
    "Input= [4, 6, 10]\n",
    "key = 4\n",
    "minimumDiference(Input, key)"
   ]
  },
  {
   "cell_type": "code",
   "execution_count": 11,
   "id": "9cf35288",
   "metadata": {},
   "outputs": [
    {
     "data": {
      "text/plain": [
       "10"
      ]
     },
     "execution_count": 11,
     "metadata": {},
     "output_type": "execute_result"
    }
   ],
   "source": [
    "Input= [1, 3, 8, 10, 15]\n",
    "key = 12\n",
    "minimumDiference(Input, key)"
   ]
  },
  {
   "cell_type": "code",
   "execution_count": null,
   "id": "b13820d1",
   "metadata": {},
   "outputs": [],
   "source": []
  }
 ],
 "metadata": {
  "kernelspec": {
   "display_name": "Python 3",
   "language": "python",
   "name": "python3"
  },
  "language_info": {
   "codemirror_mode": {
    "name": "ipython",
    "version": 3
   },
   "file_extension": ".py",
   "mimetype": "text/x-python",
   "name": "python",
   "nbconvert_exporter": "python",
   "pygments_lexer": "ipython3",
   "version": "3.8.8"
  }
 },
 "nbformat": 4,
 "nbformat_minor": 5
}
