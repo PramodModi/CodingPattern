{
 "cells": [
  {
   "cell_type": "markdown",
   "id": "4e07f05a",
   "metadata": {},
   "source": [
    "## Problem: Next Letter\n",
    "LeetCode : 744. Find Smallest Letter Greater Than Target\n",
    "\n",
    "https://leetcode.com/problems/find-smallest-letter-greater-than-target/\n",
    "\n",
    "You are given an array of characters letters that is sorted in non-decreasing order, and a character target. There are at least two different characters in letters.\n",
    "\n",
    "Return the smallest character in letters that is lexicographically greater than target. If such a character does not exist, return the first character in letters.\n",
    "\n",
    " \n",
    "\n",
    "Example 1:\n",
    "\n",
    "    Input: letters = [\"c\",\"f\",\"j\"], target = \"a\"\n",
    "    Output: \"c\"\n",
    "    Explanation: The smallest character that is lexicographically greater than 'a' in letters is 'c'.\n",
    "Example 2:\n",
    "\n",
    "    Input: letters = [\"c\",\"f\",\"j\"], target = \"c\"\n",
    "    Output: \"f\"\n",
    "    Explanation: The smallest character that is lexicographically greater than 'c' in letters is 'f'.\n",
    "Example 3:\n",
    "\n",
    "    Input: letters = [\"x\",\"x\",\"y\",\"y\"], target = \"z\"\n",
    "    Output: \"x\"\n",
    "    Explanation: There are no characters in letters that is lexicographically greater than 'z' so we return letters[0].\n",
    "\n",
    "Constraints:\n",
    "\n",
    "    2 <= letters.length <= 104\n",
    "    letters[i] is a lowercase English letter.\n",
    "    letters is sorted in non-decreasing order.\n",
    "    letters contains at least two different characters.\n",
    "    target is a lowercase English letter."
   ]
  },
  {
   "cell_type": "code",
   "execution_count": 22,
   "id": "4baa02a0",
   "metadata": {},
   "outputs": [],
   "source": [
    "def nextGreatestLetter(letters, target):\n",
    "    l, r = 0, len(letters)-1\n",
    "    \n",
    "    while l <= r:\n",
    "        mid = (l+r)//2\n",
    "\n",
    "        if target >= letters[mid]:\n",
    "            l = mid+1\n",
    "        else:\n",
    "            r = mid-1\n",
    "    if l>= len(letters) or letters[l] < target:\n",
    "        return letters[0]\n",
    "    else:\n",
    "        return letters[l]"
   ]
  },
  {
   "cell_type": "code",
   "execution_count": 23,
   "id": "74454c43",
   "metadata": {},
   "outputs": [
    {
     "data": {
      "text/plain": [
       "'c'"
      ]
     },
     "execution_count": 23,
     "metadata": {},
     "output_type": "execute_result"
    }
   ],
   "source": [
    "letters = [\"c\",\"f\",\"j\"]\n",
    "target = \"a\"\n",
    "nextGreatestLetter(letters, target)"
   ]
  },
  {
   "cell_type": "code",
   "execution_count": 24,
   "id": "aa49ef58",
   "metadata": {},
   "outputs": [
    {
     "data": {
      "text/plain": [
       "'f'"
      ]
     },
     "execution_count": 24,
     "metadata": {},
     "output_type": "execute_result"
    }
   ],
   "source": [
    "letters = [\"c\",\"f\",\"j\"]\n",
    "target = \"c\"\n",
    "nextGreatestLetter(letters, target)"
   ]
  },
  {
   "cell_type": "code",
   "execution_count": 25,
   "id": "b7d4c380",
   "metadata": {},
   "outputs": [
    {
     "data": {
      "text/plain": [
       "'x'"
      ]
     },
     "execution_count": 25,
     "metadata": {},
     "output_type": "execute_result"
    }
   ],
   "source": [
    "letters = [\"x\",\"x\",\"y\",\"y\"]\n",
    "target = \"z\"\n",
    "nextGreatestLetter(letters, target)"
   ]
  },
  {
   "cell_type": "code",
   "execution_count": null,
   "id": "4c2208e8",
   "metadata": {},
   "outputs": [],
   "source": []
  }
 ],
 "metadata": {
  "kernelspec": {
   "display_name": "Python 3",
   "language": "python",
   "name": "python3"
  },
  "language_info": {
   "codemirror_mode": {
    "name": "ipython",
    "version": 3
   },
   "file_extension": ".py",
   "mimetype": "text/x-python",
   "name": "python",
   "nbconvert_exporter": "python",
   "pygments_lexer": "ipython3",
   "version": "3.8.8"
  }
 },
 "nbformat": 4,
 "nbformat_minor": 5
}
