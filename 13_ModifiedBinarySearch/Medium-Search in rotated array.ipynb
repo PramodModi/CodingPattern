{
 "cells": [
  {
   "cell_type": "markdown",
   "id": "1e1bb28f",
   "metadata": {},
   "source": [
    "## Problem: Search in rotated array\n",
    "LeeCode : 33. Search in Rotated Sorted Array\n",
    "\n",
    "https://leetcode.com/problems/search-in-rotated-sorted-array/\n",
    "\n",
    "There is an integer array nums sorted in ascending order (with distinct values).\n",
    "\n",
    "Prior to being passed to your function, nums is possibly rotated at an unknown pivot index k (1 <= k < nums.length) such that the resulting array is [nums[k], nums[k+1], ..., nums[n-1], nums[0], nums[1], ..., nums[k-1]] (0-indexed). For example, [0,1,2,4,5,6,7] might be rotated at pivot index 3 and become [4,5,6,7,0,1,2].\n",
    "\n",
    "Given the array nums after the possible rotation and an integer target, return the index of target if it is in nums, or -1 if it is not in nums.\n",
    "\n",
    "You must write an algorithm with O(log n) runtime complexity.\n",
    "\n",
    " \n",
    "\n",
    "Example 1:\n",
    "\n",
    "    Input: nums = [4,5,6,7,0,1,2], target = 0\n",
    "    Output: 4\n",
    "Example 2:\n",
    "\n",
    "    Input: nums = [4,5,6,7,0,1,2], target = 3\n",
    "    Output: -1\n",
    "Example 3:\n",
    "\n",
    "    Input: nums = [1], target = 0\n",
    "    Output: -1\n",
    "\n",
    "Constraints:\n",
    "\n",
    "    1 <= nums.length <= 5000\n",
    "    -104 <= nums[i] <= 104\n",
    "    All values of nums are unique.\n",
    "    nums is an ascending array that is possibly rotated.\n",
    "    -104 <= target <= 104"
   ]
  },
  {
   "cell_type": "code",
   "execution_count": 1,
   "id": "71eb081d",
   "metadata": {},
   "outputs": [],
   "source": [
    "def searchRotatedArray(nums, target):\n",
    "    l, r = 0, len(nums)-1\n",
    "    while l <=r:\n",
    "        mid = (l+r)//2\n",
    "        if target == nums[mid]:\n",
    "            return mid\n",
    "        if nums[l] <= nums[mid]:\n",
    "            if target >= nums[l] and target < nums[mid]:\n",
    "                r = mid-1\n",
    "            else:\n",
    "                l = mid+1\n",
    "        else:\n",
    "            if target > nums[mid] and target <= nums[r]:\n",
    "                l = mid+1\n",
    "            else:\n",
    "                r = mid-1\n",
    "                \n",
    "    return -1\n",
    "            \n",
    "    "
   ]
  },
  {
   "cell_type": "code",
   "execution_count": 2,
   "id": "aec62a1a",
   "metadata": {},
   "outputs": [
    {
     "data": {
      "text/plain": [
       "4"
      ]
     },
     "execution_count": 2,
     "metadata": {},
     "output_type": "execute_result"
    }
   ],
   "source": [
    "nums = [4,5,6,7,0,1,2]\n",
    "target = 0\n",
    "searchRotatedArray(nums, target)"
   ]
  },
  {
   "cell_type": "code",
   "execution_count": 3,
   "id": "04158964",
   "metadata": {},
   "outputs": [
    {
     "data": {
      "text/plain": [
       "-1"
      ]
     },
     "execution_count": 3,
     "metadata": {},
     "output_type": "execute_result"
    }
   ],
   "source": [
    "nums = [4,5,6,7,0,1,2]\n",
    "target = 3\n",
    "searchRotatedArray(nums, target)"
   ]
  },
  {
   "cell_type": "code",
   "execution_count": 4,
   "id": "a10f885c",
   "metadata": {},
   "outputs": [
    {
     "data": {
      "text/plain": [
       "-1"
      ]
     },
     "execution_count": 4,
     "metadata": {},
     "output_type": "execute_result"
    }
   ],
   "source": [
    "nums = [1]\n",
    "target = 0\n",
    "searchRotatedArray(nums, target)"
   ]
  },
  {
   "cell_type": "markdown",
   "id": "a9c078dd",
   "metadata": {},
   "source": [
    "## When array contains duplicate\n",
    "\n",
    "https://leetcode.com/problems/search-in-rotated-sorted-array-ii/\n",
    "\n",
    "### Approach: \n",
    "Since finding the range is dependent on comparision of left with mid and comparision of right with mid. So, to avoid duplicate, if number at left and mid are same also number at mid and right are same, then increase left and decrease right by 1."
   ]
  },
  {
   "cell_type": "code",
   "execution_count": 5,
   "id": "5fa0ce38",
   "metadata": {},
   "outputs": [],
   "source": [
    "def searchRotatedArray2(nums, target):\n",
    "    l, r = 0, len(nums)-1\n",
    "    while l <=r:\n",
    "        mid = (l+r)//2\n",
    "        if target == nums[mid]:\n",
    "            return mid\n",
    "        if nums[l] == nums[mid] and nums[r] == nums[mid]:\n",
    "            l += 1\n",
    "            r -= 1\n",
    "        elif nums[l] <= nums[mid]:\n",
    "            if target >= nums[l] and target < nums[mid]:\n",
    "                r = mid-1\n",
    "            else:\n",
    "                l = mid+1\n",
    "        else:\n",
    "            if target > nums[mid] and target <= nums[r]:\n",
    "                l = mid+1\n",
    "            else:\n",
    "                r = mid-1\n",
    "                \n",
    "    return -1"
   ]
  },
  {
   "cell_type": "code",
   "execution_count": 6,
   "id": "fc7c0f85",
   "metadata": {},
   "outputs": [
    {
     "data": {
      "text/plain": [
       "4"
      ]
     },
     "execution_count": 6,
     "metadata": {},
     "output_type": "execute_result"
    }
   ],
   "source": [
    "nums = [4,5,6,7,0,1,2]\n",
    "target = 0\n",
    "searchRotatedArray2(nums, target)"
   ]
  },
  {
   "cell_type": "code",
   "execution_count": null,
   "id": "9b73b0ec",
   "metadata": {},
   "outputs": [],
   "source": []
  }
 ],
 "metadata": {
  "kernelspec": {
   "display_name": "Python 3",
   "language": "python",
   "name": "python3"
  },
  "language_info": {
   "codemirror_mode": {
    "name": "ipython",
    "version": 3
   },
   "file_extension": ".py",
   "mimetype": "text/x-python",
   "name": "python",
   "nbconvert_exporter": "python",
   "pygments_lexer": "ipython3",
   "version": "3.8.8"
  }
 },
 "nbformat": 4,
 "nbformat_minor": 5
}
