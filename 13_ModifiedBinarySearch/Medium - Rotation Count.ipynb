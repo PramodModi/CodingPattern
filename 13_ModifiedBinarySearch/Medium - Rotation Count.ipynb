{
 "cells": [
  {
   "cell_type": "markdown",
   "id": "8adf87e4",
   "metadata": {},
   "source": [
    "## Problem: Rotation Count\n",
    "LeetCode: 153. Find Minimum in Rotated Sorted Array\n",
    "\n",
    "https://leetcode.com/problems/find-minimum-in-rotated-sorted-array/\n",
    "\n",
    "Suppose an array of length n sorted in ascending order is rotated between 1 and n times. For example, the array nums = [0,1,2,4,5,6,7] might become:\n",
    "\n",
    "    [4,5,6,7,0,1,2] if it was rotated 4 times.\n",
    "    [0,1,2,4,5,6,7] if it was rotated 7 times.\n",
    "    Notice that rotating an array [a[0], a[1], a[2], ..., a[n-1]] 1 time results in the array [a[n-1], a[0], a[1], a[2], ..., a[n-2]].\n",
    "\n",
    "Given the sorted rotated array nums of unique elements, return the minimum element of this array.\n",
    "\n",
    "You must write an algorithm that runs in O(log n) time.\n",
    "\n",
    " \n",
    "\n",
    "Example 1:\n",
    "\n",
    "    Input: nums = [3,4,5,1,2]\n",
    "    Output: 1\n",
    "    Explanation: The original array was [1,2,3,4,5] rotated 3 times.\n",
    "Example 2:\n",
    "\n",
    "    Input: nums = [4,5,6,7,0,1,2]\n",
    "    Output: 0\n",
    "    Explanation: The original array was [0,1,2,4,5,6,7] and it was rotated 4 times.\n",
    "Example 3:\n",
    "\n",
    "    Input: nums = [11,13,15,17]\n",
    "    Output: 11\n",
    "    Explanation: The original array was [11,13,15,17] and it was rotated 4 times. \n",
    " \n",
    "\n",
    "Constraints:\n",
    "\n",
    "    n == nums.length\n",
    "    1 <= n <= 5000\n",
    "    -5000 <= nums[i] <= 5000\n",
    "    All the integers of nums are unique.\n",
    "    nums is sorted and rotated between 1 and n times."
   ]
  },
  {
   "cell_type": "markdown",
   "id": "800cc60d",
   "metadata": {},
   "source": [
    "### Approach : \n",
    "In this problem, actually, we are asked to find the rotation count, which is index of the minimum element. The number of times the minimum element is moved to the right will be equal to the number of rotations.\n",
    "\n",
    "Now our aim os to find the minimum number in the array.\n",
    "\n",
    "Since it is sorted and rotated array, so minimum number is the at the index of left, if number at left is smaller than number at right. Also, if left = right, then number at left = number at right.\n",
    "\n",
    "To adujust the range, if number at left is smaller or equal to middle, then first half is sorted so check in the next half, left = mid + 1\n",
    "Otherwise, check in the firsr half, right = mid."
   ]
  },
  {
   "cell_type": "code",
   "execution_count": 44,
   "id": "f81cebd1",
   "metadata": {},
   "outputs": [],
   "source": [
    "def finMinimumRotatedArray(nums):\n",
    "    l, r = 0, len(nums)-1\n",
    "    \n",
    "    while l < r:\n",
    "        if nums[l] < nums[r]:\n",
    "            return nums[l]\n",
    "        mid = (l+r)//2\n",
    "        \n",
    "        if nums[l] <= nums[mid]:\n",
    "            l = mid+1\n",
    "        else:\n",
    "            r = mid\n",
    "    return nums[l]"
   ]
  },
  {
   "cell_type": "code",
   "execution_count": 45,
   "id": "7ae14cb2",
   "metadata": {},
   "outputs": [
    {
     "data": {
      "text/plain": [
       "1"
      ]
     },
     "execution_count": 45,
     "metadata": {},
     "output_type": "execute_result"
    }
   ],
   "source": [
    "nums = [3,4,5,1,2]\n",
    "finMinimumRotatedArray(nums)"
   ]
  },
  {
   "cell_type": "code",
   "execution_count": 46,
   "id": "80eee6ab",
   "metadata": {},
   "outputs": [
    {
     "data": {
      "text/plain": [
       "0"
      ]
     },
     "execution_count": 46,
     "metadata": {},
     "output_type": "execute_result"
    }
   ],
   "source": [
    "nums = [4,5,6,7,0,1,2]\n",
    "finMinimumRotatedArray(nums)"
   ]
  },
  {
   "cell_type": "code",
   "execution_count": 47,
   "id": "0fef42c6",
   "metadata": {},
   "outputs": [
    {
     "data": {
      "text/plain": [
       "11"
      ]
     },
     "execution_count": 47,
     "metadata": {},
     "output_type": "execute_result"
    }
   ],
   "source": [
    "nums = [11,13,15,17]\n",
    "finMinimumRotatedArray(nums)"
   ]
  },
  {
   "cell_type": "code",
   "execution_count": 48,
   "id": "5c20872f",
   "metadata": {},
   "outputs": [
    {
     "data": {
      "text/plain": [
       "1"
      ]
     },
     "execution_count": 48,
     "metadata": {},
     "output_type": "execute_result"
    }
   ],
   "source": [
    "nums = [2,3,4,5,1]\n",
    "finMinimumRotatedArray(nums)"
   ]
  },
  {
   "cell_type": "markdown",
   "id": "4e1a2723",
   "metadata": {},
   "source": [
    "## If array contains duplicates\n",
    "https://leetcode.com/problems/find-minimum-in-rotated-sorted-array-ii/\n",
    "\n",
    "\n",
    "### Approach:\n",
    "Since finding the range is dependent on comparision of left with mid and comparision of right with mid. So, to avoid duplicate, if number at left and mid are same also number at mid and right are same, then increase left and decrease right by 1."
   ]
  },
  {
   "cell_type": "code",
   "execution_count": 55,
   "id": "53f28539",
   "metadata": {},
   "outputs": [],
   "source": [
    "def finMinimumRotatedArray2(nums):\n",
    "    l, r = 0, len(nums)-1\n",
    "    \n",
    "    while l < r:\n",
    "        if nums[l] < nums[r]:\n",
    "            return nums[l]\n",
    "        mid = (l+r)//2\n",
    "        if nums[l] == nums[mid] and nums[r] == nums[mid]:\n",
    "            l += 1\n",
    "            r -= 1\n",
    "        elif nums[l] <= nums[mid]:\n",
    "            l = mid+1\n",
    "        else:\n",
    "            r = mid\n",
    "    return nums[l]"
   ]
  },
  {
   "cell_type": "code",
   "execution_count": 56,
   "id": "50658e37",
   "metadata": {},
   "outputs": [
    {
     "data": {
      "text/plain": [
       "1"
      ]
     },
     "execution_count": 56,
     "metadata": {},
     "output_type": "execute_result"
    }
   ],
   "source": [
    "nums = [1,2,1]\n",
    "finMinimumRotatedArray2(nums)"
   ]
  },
  {
   "cell_type": "code",
   "execution_count": 57,
   "id": "5f56ecec",
   "metadata": {},
   "outputs": [
    {
     "data": {
      "text/plain": [
       "1"
      ]
     },
     "execution_count": 57,
     "metadata": {},
     "output_type": "execute_result"
    }
   ],
   "source": [
    "nums = [3,1,3]\n",
    "finMinimumRotatedArray2(nums)"
   ]
  },
  {
   "cell_type": "code",
   "execution_count": 58,
   "id": "e4513489",
   "metadata": {},
   "outputs": [
    {
     "data": {
      "text/plain": [
       "1"
      ]
     },
     "execution_count": 58,
     "metadata": {},
     "output_type": "execute_result"
    }
   ],
   "source": [
    "nums = [10,1,10,10,10]\n",
    "finMinimumRotatedArray2(nums)"
   ]
  },
  {
   "cell_type": "code",
   "execution_count": 59,
   "id": "482ba88a",
   "metadata": {},
   "outputs": [
    {
     "data": {
      "text/plain": [
       "1"
      ]
     },
     "execution_count": 59,
     "metadata": {},
     "output_type": "execute_result"
    }
   ],
   "source": [
    "nums = [10,1]\n",
    "finMinimumRotatedArray2(nums)"
   ]
  },
  {
   "cell_type": "code",
   "execution_count": 60,
   "id": "f7249394",
   "metadata": {},
   "outputs": [
    {
     "data": {
      "text/plain": [
       "1"
      ]
     },
     "execution_count": 60,
     "metadata": {},
     "output_type": "execute_result"
    }
   ],
   "source": [
    "nums = [1,1,3,1]\n",
    "finMinimumRotatedArray2(nums)"
   ]
  },
  {
   "cell_type": "code",
   "execution_count": 61,
   "id": "6d76f366",
   "metadata": {},
   "outputs": [
    {
     "data": {
      "text/plain": [
       "1"
      ]
     },
     "execution_count": 61,
     "metadata": {},
     "output_type": "execute_result"
    }
   ],
   "source": [
    "nums = [1,1,1,1]\n",
    "finMinimumRotatedArray2(nums)"
   ]
  },
  {
   "cell_type": "code",
   "execution_count": null,
   "id": "0b8263a8",
   "metadata": {},
   "outputs": [],
   "source": []
  }
 ],
 "metadata": {
  "kernelspec": {
   "display_name": "Python 3",
   "language": "python",
   "name": "python3"
  },
  "language_info": {
   "codemirror_mode": {
    "name": "ipython",
    "version": 3
   },
   "file_extension": ".py",
   "mimetype": "text/x-python",
   "name": "python",
   "nbconvert_exporter": "python",
   "pygments_lexer": "ipython3",
   "version": "3.8.8"
  }
 },
 "nbformat": 4,
 "nbformat_minor": 5
}
