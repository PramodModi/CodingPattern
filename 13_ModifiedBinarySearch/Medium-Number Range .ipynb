{
 "cells": [
  {
   "cell_type": "markdown",
   "id": "df6e5dbb",
   "metadata": {},
   "source": [
    "## Problem: Number Range \n",
    "LeetCode: 34. Find First and Last Position of Element in Sorted Array\n",
    "\n",
    "https://leetcode.com/problems/find-first-and-last-position-of-element-in-sorted-array/description/\n",
    "\n",
    "Given an array of integers nums sorted in non-decreasing order, find the starting and ending position of a given target value.\n",
    "\n",
    "If target is not found in the array, return [-1, -1].\n",
    "\n",
    "You must write an algorithm with O(log n) runtime complexity.\n",
    "\n",
    " \n",
    "\n",
    "Example 1:\n",
    "\n",
    "    Input: nums = [5,7,7,8,8,10], target = 8\n",
    "    Output: [3,4]\n",
    "Example 2:\n",
    "\n",
    "    Input: nums = [5,7,7,8,8,10], target = 6\n",
    "    Output: [-1,-1]\n",
    "Example 3:\n",
    "\n",
    "    Input: nums = [], target = 0\n",
    "    Output: [-1,-1]\n",
    " \n",
    "\n",
    "Constraints:\n",
    "\n",
    "    0 <= nums.length <= 105\n",
    "    -109 <= nums[i] <= 109\n",
    "    nums is a non-decreasing array.\n",
    "    -109 <= target <= 109"
   ]
  },
  {
   "cell_type": "code",
   "execution_count": 1,
   "id": "fc359abf",
   "metadata": {},
   "outputs": [],
   "source": [
    "def searchRange(nums, target):\n",
    "    l, r = 0, len(nums)-1\n",
    "    index = -1\n",
    "    while l <= r:\n",
    "        mid = (l+r)//2\n",
    "        if target == nums[mid]:\n",
    "            index = mid\n",
    "            break\n",
    "        if target > nums[mid]:\n",
    "            l = mid+1\n",
    "        else:\n",
    "            r = mid-1\n",
    "    startIndex = index\n",
    "    while startIndex-1 >= 0 and target == nums[startIndex-1]:\n",
    "        startIndex -= 1\n",
    "\n",
    "    endIndex = index\n",
    "    while endIndex+1 < len(nums) and target == nums[endIndex+1]:\n",
    "        endIndex += 1\n",
    "\n",
    "    return [startIndex, endIndex]"
   ]
  },
  {
   "cell_type": "code",
   "execution_count": null,
   "id": "c4438b23",
   "metadata": {},
   "outputs": [],
   "source": []
  }
 ],
 "metadata": {
  "kernelspec": {
   "display_name": "Python 3",
   "language": "python",
   "name": "python3"
  },
  "language_info": {
   "codemirror_mode": {
    "name": "ipython",
    "version": 3
   },
   "file_extension": ".py",
   "mimetype": "text/x-python",
   "name": "python",
   "nbconvert_exporter": "python",
   "pygments_lexer": "ipython3",
   "version": "3.8.8"
  }
 },
 "nbformat": 4,
 "nbformat_minor": 5
}
