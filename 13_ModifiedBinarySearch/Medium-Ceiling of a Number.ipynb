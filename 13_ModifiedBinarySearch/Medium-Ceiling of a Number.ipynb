{
 "cells": [
  {
   "cell_type": "markdown",
   "id": "69ef0abe",
   "metadata": {},
   "source": [
    "## Problem: Ceiling of a Number\n",
    "\n",
    "Leet Code 35. Search Insert Position\n",
    "\n",
    "https://leetcode.com/problems/search-insert-position/\n",
    "\n",
    "\n",
    "Given an array of numbers sorted in an ascending order, find the ceiling of a given number ‘key’. The ceiling of the ‘key’ will be the smallest element in the given array greater than or equal to the ‘key’.\n",
    "\n",
    "Write a function to return the index of the ceiling of the ‘key’. If there isn’t any ceiling return -1.\n",
    "\n",
    "Example 1:\n",
    "\n",
    "    Input: [4, 6, 10], key = 6\n",
    "    Output: 1\n",
    "    Explanation: The smallest number greater than or equal to '6' is '6' having index '1'.\n",
    "Example 2:\n",
    "\n",
    "    Input: [1, 3, 8, 10, 15], key = 12\n",
    "    Output: 4\n",
    "    \n",
    "    \n"
   ]
  },
  {
   "cell_type": "code",
   "execution_count": 5,
   "id": "b6bc223e",
   "metadata": {},
   "outputs": [],
   "source": [
    "def ceilingNumber(nums, key):\n",
    "    l, r = 0, len(nums)-1\n",
    "    while l <= r:\n",
    "        mid = (l+r)//2\n",
    "        if key == nums[mid]:\n",
    "            return mid\n",
    "        if key > nums[mid]:\n",
    "            l = mid+1\n",
    "        else:\n",
    "            r = mid-1\n",
    "    return l"
   ]
  },
  {
   "cell_type": "code",
   "execution_count": 6,
   "id": "55d4e60e",
   "metadata": {},
   "outputs": [
    {
     "data": {
      "text/plain": [
       "1"
      ]
     },
     "execution_count": 6,
     "metadata": {},
     "output_type": "execute_result"
    }
   ],
   "source": [
    "nums = [4, 6, 10]\n",
    "key = 6\n",
    "ceilingNumber(nums, key)"
   ]
  },
  {
   "cell_type": "code",
   "execution_count": 7,
   "id": "09240a06",
   "metadata": {},
   "outputs": [
    {
     "data": {
      "text/plain": [
       "4"
      ]
     },
     "execution_count": 7,
     "metadata": {},
     "output_type": "execute_result"
    }
   ],
   "source": [
    "nums = [1, 3, 8, 10, 15]\n",
    "key = 12\n",
    "ceilingNumber(nums, key)"
   ]
  },
  {
   "cell_type": "code",
   "execution_count": null,
   "id": "e993a90f",
   "metadata": {},
   "outputs": [],
   "source": []
  }
 ],
 "metadata": {
  "kernelspec": {
   "display_name": "Python 3",
   "language": "python",
   "name": "python3"
  },
  "language_info": {
   "codemirror_mode": {
    "name": "ipython",
    "version": 3
   },
   "file_extension": ".py",
   "mimetype": "text/x-python",
   "name": "python",
   "nbconvert_exporter": "python",
   "pygments_lexer": "ipython3",
   "version": "3.8.8"
  }
 },
 "nbformat": 4,
 "nbformat_minor": 5
}
