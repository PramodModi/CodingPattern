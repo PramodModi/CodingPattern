{
 "cells": [
  {
   "cell_type": "markdown",
   "id": "c709bc30",
   "metadata": {},
   "source": [
    "## Problem: Length of Shortest Common Supersequence\n",
    "LeetCode: Similar problem : 1092. Shortest Common Supersequence\n",
    "\n",
    "https://leetcode.com/problems/shortest-common-supersequence/\n",
    "\n",
    "Given two sequences s1 and s2, write a method to find the length of the shortest sequence which has s1 and s2 as subsequences.\n",
    "\n",
    "Example 1:\n",
    "\n",
    "    Input: s1: \"abcf\" s2:\"bdcf\"\n",
    "    Output: 5\n",
    "    Explanation: The shortest common super-sequence (SCS) is \"abdcf\".\n",
    "Example 2:\n",
    "\n",
    "    Input: s1: \"dynamic\" s2:\"programming\"\n",
    "    Output: 15\n",
    "    Explanation: The SCS is \"dynprogrammicng\"."
   ]
  },
  {
   "cell_type": "markdown",
   "id": "ff06f4d2",
   "metadata": {},
   "source": [
    "### Approach:\n",
    "This is similar to Longest Common Subsequence (LCS). We can add both strings and remove common characters. Removing of common characters will basically remove the addition of same character twice.\n",
    "So find the longest common subsequence to know the number of common characters.\n",
    "Return len(string1+ string2) - number of common characters."
   ]
  },
  {
   "cell_type": "code",
   "execution_count": 5,
   "id": "4fa9c8b5",
   "metadata": {},
   "outputs": [],
   "source": [
    "def shortestCommonSupersequence(s1, s2):\n",
    "    totalLength = len(s1) + len(s2)\n",
    "    \n",
    "    dp = [0]* len(s2)\n",
    "    \n",
    "    for s in s1:\n",
    "        prev = 0\n",
    "        for i in range(len(s2)):\n",
    "            if s == s2[i]:\n",
    "                prev, dp[i] = dp[i], 1+prev\n",
    "            else:\n",
    "                prev, dp[i] = dp[i], max(dp[i], dp[i-1])\n",
    "    return totalLength - dp[-1]"
   ]
  },
  {
   "cell_type": "code",
   "execution_count": 6,
   "id": "0f7fcead",
   "metadata": {},
   "outputs": [
    {
     "data": {
      "text/plain": [
       "5"
      ]
     },
     "execution_count": 6,
     "metadata": {},
     "output_type": "execute_result"
    }
   ],
   "source": [
    "s1 = \"abcf\" \n",
    "s2 = \"bdcf\"\n",
    "shortestCommonSupersequence(s1, s2)"
   ]
  },
  {
   "cell_type": "code",
   "execution_count": 7,
   "id": "4054296d",
   "metadata": {},
   "outputs": [
    {
     "data": {
      "text/plain": [
       "15"
      ]
     },
     "execution_count": 7,
     "metadata": {},
     "output_type": "execute_result"
    }
   ],
   "source": [
    "s1 = \"dynamic\" \n",
    "s2 = \"programming\"\n",
    "shortestCommonSupersequence(s1, s2)"
   ]
  },
  {
   "cell_type": "code",
   "execution_count": null,
   "id": "d24146ad",
   "metadata": {},
   "outputs": [],
   "source": []
  }
 ],
 "metadata": {
  "kernelspec": {
   "display_name": "Python 3",
   "language": "python",
   "name": "python3"
  },
  "language_info": {
   "codemirror_mode": {
    "name": "ipython",
    "version": 3
   },
   "file_extension": ".py",
   "mimetype": "text/x-python",
   "name": "python",
   "nbconvert_exporter": "python",
   "pygments_lexer": "ipython3",
   "version": "3.8.8"
  }
 },
 "nbformat": 4,
 "nbformat_minor": 5
}
