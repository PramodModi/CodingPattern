{
 "cells": [
  {
   "cell_type": "markdown",
   "id": "9f039d26",
   "metadata": {},
   "source": [
    "## Problem: Maximum Sum Increasing Subsequence\n",
    "\n",
    "Given a number sequence, find the increasing subsequence with the highest sum. Write a method that returns the highest sum.\n",
    "\n",
    "Example 1:\n",
    "\n",
    "    Input: [4,1,2,6,10,1,12]\n",
    "    Output: 32\n",
    "    Explanation: The increaseing sequence is {4,6,10,12}.\n",
    "    Please note the difference, as the LIS is {1,2,6,10,12} which has a sum of '31'.\n",
    "Example 2:\n",
    "\n",
    "    Input: [-4,10,3,7,15]\n",
    "    Output: 25\n",
    "    Explanation: The increaseing sequences are {10, 15} and {3,7,15}.\n"
   ]
  },
  {
   "cell_type": "markdown",
   "id": "d6acd725",
   "metadata": {},
   "source": [
    "### Approach: Recursive\n",
    "This is simlar to Longest Inceasing subsequence problem, with slight difference. In this problem, we need to calculate the sum rarher than longest length.\n",
    "\n",
    "If current number is greater than previous number, then add the number and call recursively for next current and previous numbers.\n",
    "Otherwise, call recursively for next current number for same previous number. Also do not add the current number.\n",
    "\n",
    "Return 0 when index exceed the length of numbers."
   ]
  },
  {
   "cell_type": "code",
   "execution_count": 12,
   "id": "dbfb32d7",
   "metadata": {},
   "outputs": [],
   "source": [
    "def MaxSumIncreasingSubsequence_rec(nums):\n",
    "    return MSIS_rec(nums, 0, -1)\n",
    "\n",
    "def MSIS_rec(nums, cur, prev):\n",
    "    if cur >= len(nums):\n",
    "        return 0\n",
    "    maxSum  = 0\n",
    "    if prev == -1 or nums[cur] > nums[prev]:\n",
    "        maxSum += nums[cur] + MSIS_rec(nums, cur+1, cur)\n",
    "    maxSum = max(maxSum, MSIS_rec(nums, cur+1, prev))\n",
    "    return maxSum\n",
    "        \n",
    "    "
   ]
  },
  {
   "cell_type": "code",
   "execution_count": 13,
   "id": "4f35da24",
   "metadata": {},
   "outputs": [
    {
     "data": {
      "text/plain": [
       "32"
      ]
     },
     "execution_count": 13,
     "metadata": {},
     "output_type": "execute_result"
    }
   ],
   "source": [
    "nums = [4,1,2,6,10,1,12]\n",
    "MaxSumIncreasingSubsequence_rec(nums)"
   ]
  },
  {
   "cell_type": "code",
   "execution_count": 14,
   "id": "ac9dd197",
   "metadata": {},
   "outputs": [
    {
     "data": {
      "text/plain": [
       "25"
      ]
     },
     "execution_count": 14,
     "metadata": {},
     "output_type": "execute_result"
    }
   ],
   "source": [
    "nums = [-4,10,3,7,15]\n",
    "MaxSumIncreasingSubsequence_rec(nums)"
   ]
  },
  {
   "cell_type": "markdown",
   "id": "9572110c",
   "metadata": {},
   "source": [
    "## Memoization"
   ]
  },
  {
   "cell_type": "code",
   "execution_count": 25,
   "id": "901fec33",
   "metadata": {},
   "outputs": [],
   "source": [
    "def MaxSumIncreasingSubsequence_mem(nums):\n",
    "    mem = [-1] * len(nums)\n",
    "    return MSIS_mem(nums, 0, -1, mem)\n",
    "\n",
    "def MSIS_mem(nums, cur, prev, mem):\n",
    "    if cur >= len(nums):\n",
    "        return 0\n",
    "    if mem[cur] != -1:\n",
    "        return mem[cur]\n",
    "    maxSum  = 0\n",
    "    if prev == -1 or nums[cur] > nums[prev]:\n",
    "        maxSum += nums[cur] + MSIS_mem(nums, cur+1, cur,mem)\n",
    "    maxSum = max(maxSum, MSIS_mem(nums, cur+1, prev, mem))\n",
    "    mem[cur] = maxSum\n",
    "    return mem[cur]"
   ]
  },
  {
   "cell_type": "code",
   "execution_count": 26,
   "id": "988c3740",
   "metadata": {},
   "outputs": [
    {
     "data": {
      "text/plain": [
       "25"
      ]
     },
     "execution_count": 26,
     "metadata": {},
     "output_type": "execute_result"
    }
   ],
   "source": [
    "nums = [-4,10,3,7,15]\n",
    "MaxSumIncreasingSubsequence_mem(nums)"
   ]
  },
  {
   "cell_type": "code",
   "execution_count": 27,
   "id": "a1a9edf8",
   "metadata": {},
   "outputs": [
    {
     "data": {
      "text/plain": [
       "32"
      ]
     },
     "execution_count": 27,
     "metadata": {},
     "output_type": "execute_result"
    }
   ],
   "source": [
    "nums = [4,1,2,6,10,1,12]\n",
    "MaxSumIncreasingSubsequence_mem(nums)"
   ]
  },
  {
   "cell_type": "markdown",
   "id": "0b0e49cb",
   "metadata": {},
   "source": [
    "## DP\n",
    "The above algorithm tells us two things:\n",
    "\n",
    "If the number at the currIndex is bigger than the number at the prevIndex, we include that number in the sum for an increasing sequence up to the currIndex.\n",
    "But if there is a maximum sum increasing subsequence (MSIS), without including the number at the currIndex, we take that.\n",
    "So we need to find all the increasing subsequences for a number at index i, from all the previous numbers (i.e. numbers until index i-1), to find MSIS.\n",
    "\n",
    "If i represents the currIndex and j represents the prevIndex, our recursive formula would look like:\n",
    "\n",
    "    if num[i] > num[j] => dp[i] = dp[j] + num[i] if there is no bigger MSIS for 'i'"
   ]
  },
  {
   "cell_type": "code",
   "execution_count": 39,
   "id": "3e417525",
   "metadata": {},
   "outputs": [],
   "source": [
    "def MaxSumIncreasingSubsequence_dp(nums):\n",
    "    dp = nums[:]\n",
    "    maxSum =0\n",
    "    for i in range(len(nums)):\n",
    "        for j in range(i):\n",
    "            if nums[i] > nums[j] and dp[i] < dp[j] + nums[i]:\n",
    "                dp[i] = dp[j] + nums[i]\n",
    "        maxSum = max(maxSum, dp[i])\n",
    "    return maxSum"
   ]
  },
  {
   "cell_type": "code",
   "execution_count": 40,
   "id": "2213f6fc",
   "metadata": {},
   "outputs": [
    {
     "data": {
      "text/plain": [
       "32"
      ]
     },
     "execution_count": 40,
     "metadata": {},
     "output_type": "execute_result"
    }
   ],
   "source": [
    "nums = [4,1,2,6,10,1,12]\n",
    "MaxSumIncreasingSubsequence_dp(nums)"
   ]
  },
  {
   "cell_type": "code",
   "execution_count": 41,
   "id": "caa8ccee",
   "metadata": {},
   "outputs": [
    {
     "data": {
      "text/plain": [
       "25"
      ]
     },
     "execution_count": 41,
     "metadata": {},
     "output_type": "execute_result"
    }
   ],
   "source": [
    "nums = [-4,10,3,7,15]\n",
    "MaxSumIncreasingSubsequence_dp(nums)"
   ]
  },
  {
   "cell_type": "code",
   "execution_count": null,
   "id": "7bab0c3c",
   "metadata": {},
   "outputs": [],
   "source": []
  }
 ],
 "metadata": {
  "kernelspec": {
   "display_name": "Python 3",
   "language": "python",
   "name": "python3"
  },
  "language_info": {
   "codemirror_mode": {
    "name": "ipython",
    "version": 3
   },
   "file_extension": ".py",
   "mimetype": "text/x-python",
   "name": "python",
   "nbconvert_exporter": "python",
   "pygments_lexer": "ipython3",
   "version": "3.8.8"
  }
 },
 "nbformat": 4,
 "nbformat_minor": 5
}
