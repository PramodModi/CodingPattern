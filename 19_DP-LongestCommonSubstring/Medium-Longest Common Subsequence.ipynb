{
 "cells": [
  {
   "cell_type": "markdown",
   "id": "dcbd8b2f",
   "metadata": {},
   "source": [
    "## Problem: Longest Common Subsequence\n",
    "1143. Longest Common Subsequence\n",
    "\n",
    "https://leetcode.com/problems/longest-common-subsequence/\n",
    "\n",
    "Given two strings text1 and text2, return the length of their longest common subsequence. If there is no common subsequence, return 0.\n",
    "\n",
    "A subsequence of a string is a new string generated from the original string with some characters (can be none) deleted without changing the relative order of the remaining characters.\n",
    "\n",
    "For example, \"ace\" is a subsequence of \"abcde\".\n",
    "A common subsequence of two strings is a subsequence that is common to both strings.\n",
    "\n",
    " \n",
    "\n",
    "Example 1:\n",
    "\n",
    "    Input: text1 = \"abcde\", text2 = \"ace\" \n",
    "    Output: 3  \n",
    "    Explanation: The longest common subsequence is \"ace\" and its length is 3.\n",
    "Example 2:\n",
    "\n",
    "    Input: text1 = \"abc\", text2 = \"abc\"\n",
    "    Output: 3\n",
    "    Explanation: The longest common subsequence is \"abc\" and its length is 3.\n",
    "Example 3:\n",
    "\n",
    "    Input: text1 = \"abc\", text2 = \"def\"\n",
    "    Output: 0\n",
    "    Explanation: There is no such common subsequence, so the result is 0.\n",
    " \n",
    "\n",
    "Constraints:\n",
    "\n",
    "    1 <= text1.length, text2.length <= 1000\n",
    "    text1 and text2 consist of only lowercase English characters."
   ]
  },
  {
   "cell_type": "markdown",
   "id": "7b6d79b3",
   "metadata": {},
   "source": [
    "### Approach: Recursive Method\n",
    "\n",
    "Longest common Subsequence and Longest common string are almost same problem with little trick. In substring, common elements should be continuous. However, in subsequence, continuity is not a problem.\n",
    "\n",
    "So, in the recursive method, if elements of both strings at respective indexes are same, then increase the count by 1 and call recusive method with next indexes of respective strings.\n",
    "If elements are not same, then increase index of either of strings, so two recursive calls one for each string. Here, count will not increase.\n",
    "Return the maximum count obtained from both scenario."
   ]
  },
  {
   "cell_type": "code",
   "execution_count": 2,
   "id": "813ee161",
   "metadata": {},
   "outputs": [],
   "source": [
    "def longestCommonSubsequence_rec(text1, text2):\n",
    "    return lcs_rec(text1, text2, 0, 0)\n",
    "\n",
    "def lcs_rec(text1, text2, index1, index2):\n",
    "    if index1>=len(text1) or index2 >= len(text2):\n",
    "        return 0\n",
    "    if text1[index1] == text2[index2]:\n",
    "        return 1 + lcs_rec(text1, text2, index1+1, index2+1)\n",
    "    else:\n",
    "        return max(lcs_rec(text1, text2, index1, index2+1), lcs_rec(text1, text2, index1+1, index2))\n",
    " \n",
    "    "
   ]
  },
  {
   "cell_type": "code",
   "execution_count": 3,
   "id": "fcb53620",
   "metadata": {},
   "outputs": [
    {
     "data": {
      "text/plain": [
       "3"
      ]
     },
     "execution_count": 3,
     "metadata": {},
     "output_type": "execute_result"
    }
   ],
   "source": [
    "text1 = \"abc\"\n",
    "text2 = \"abc\"\n",
    "longestCommonSubsequence_rec(text1, text2)"
   ]
  },
  {
   "cell_type": "code",
   "execution_count": 4,
   "id": "a05b489f",
   "metadata": {},
   "outputs": [
    {
     "data": {
      "text/plain": [
       "3"
      ]
     },
     "execution_count": 4,
     "metadata": {},
     "output_type": "execute_result"
    }
   ],
   "source": [
    "text1 = \"abcde\"\n",
    "text2 = \"ace\" \n",
    "longestCommonSubsequence_rec(text1, text2)"
   ]
  },
  {
   "cell_type": "code",
   "execution_count": 5,
   "id": "96f854f1",
   "metadata": {},
   "outputs": [
    {
     "data": {
      "text/plain": [
       "0"
      ]
     },
     "execution_count": 5,
     "metadata": {},
     "output_type": "execute_result"
    }
   ],
   "source": [
    "text1 = \"abc\"\n",
    "text2 = \"def\"\n",
    "longestCommonSubsequence_rec(text1, text2)"
   ]
  },
  {
   "cell_type": "markdown",
   "id": "f077f001",
   "metadata": {},
   "source": [
    "### Memoization"
   ]
  },
  {
   "cell_type": "code",
   "execution_count": 8,
   "id": "97b9c11e",
   "metadata": {},
   "outputs": [],
   "source": [
    "def longestCommonSubsequence_mem(text1, text2):\n",
    "    n = len(text1)\n",
    "    m = len(text2)\n",
    "    \n",
    "    mem = [[-1]*(m) for _ in range (n)]\n",
    "    return lcs_mem(text1, text2, 0, 0, mem)\n",
    "\n",
    "def lcs_mem(text1, text2, index1, index2, mem):\n",
    "    if index1 >= len(text1) or index2 >= len(text2):\n",
    "        return 0\n",
    "    if mem[index1][index2] != -1:\n",
    "        return mem[index1][index2]\n",
    "    if text1[index1] == text2[index2]:\n",
    "        mem[index1][index2] = 1 + lcs_mem(text1, text2, index1 + 1, index2+1, mem)\n",
    "    else:\n",
    "        mem[index1][index2] = max(lcs_mem(text1, text2, index1, index2+1,mem), lcs_mem(text1, text2, index1 + 1, index2, mem))\n",
    "    return mem[index1][index2]\n",
    "    "
   ]
  },
  {
   "cell_type": "code",
   "execution_count": 9,
   "id": "2c9ad4b7",
   "metadata": {},
   "outputs": [
    {
     "data": {
      "text/plain": [
       "3"
      ]
     },
     "execution_count": 9,
     "metadata": {},
     "output_type": "execute_result"
    }
   ],
   "source": [
    "text1 = \"abcde\"\n",
    "text2 = \"ace\" \n",
    "longestCommonSubsequence_mem(text1, text2)"
   ]
  },
  {
   "cell_type": "code",
   "execution_count": 10,
   "id": "c987e39d",
   "metadata": {},
   "outputs": [
    {
     "data": {
      "text/plain": [
       "3"
      ]
     },
     "execution_count": 10,
     "metadata": {},
     "output_type": "execute_result"
    }
   ],
   "source": [
    "text1 = \"abc\"\n",
    "text2 = \"abc\" \n",
    "longestCommonSubsequence_mem(text1, text2)"
   ]
  },
  {
   "cell_type": "code",
   "execution_count": 11,
   "id": "5970fa15",
   "metadata": {},
   "outputs": [
    {
     "data": {
      "text/plain": [
       "0"
      ]
     },
     "execution_count": 11,
     "metadata": {},
     "output_type": "execute_result"
    }
   ],
   "source": [
    "text1 = \"abc\"\n",
    "text2 = \"def\"\n",
    "longestCommonSubsequence_mem(text1, text2)"
   ]
  },
  {
   "cell_type": "markdown",
   "id": "a096b20f",
   "metadata": {},
   "source": [
    "## Dynamic Programming"
   ]
  },
  {
   "cell_type": "code",
   "execution_count": 21,
   "id": "f09dd6e1",
   "metadata": {},
   "outputs": [],
   "source": [
    "def longestCommonSubsequence_dp(text1, text2):\n",
    "    n = len(text1)\n",
    "    m = len(text2)\n",
    "    dp = [[0] * (m+1) for _ in range(n+1)]\n",
    "    \n",
    "    for i in range(1, n+1):\n",
    "        for j in range(1, m+1):\n",
    "            if text1[i-1] == text2[j-1]:\n",
    "                dp[i][j] = 1 + dp[i-1][j-1]\n",
    "            else:\n",
    "                dp[i][j] = max(dp[i][j-1], dp[i-1][j])\n",
    "    return dp[-1][-1]"
   ]
  },
  {
   "cell_type": "code",
   "execution_count": 22,
   "id": "35ecd016",
   "metadata": {},
   "outputs": [
    {
     "data": {
      "text/plain": [
       "0"
      ]
     },
     "execution_count": 22,
     "metadata": {},
     "output_type": "execute_result"
    }
   ],
   "source": [
    "text1 = \"abc\"\n",
    "text2 = \"def\"\n",
    "longestCommonSubsequence_dp(text1, text2)"
   ]
  },
  {
   "cell_type": "code",
   "execution_count": 23,
   "id": "15bff1f4",
   "metadata": {},
   "outputs": [
    {
     "data": {
      "text/plain": [
       "3"
      ]
     },
     "execution_count": 23,
     "metadata": {},
     "output_type": "execute_result"
    }
   ],
   "source": [
    "text1 = \"abcde\"\n",
    "text2 = \"ace\" \n",
    "longestCommonSubsequence_dp(text1, text2)"
   ]
  },
  {
   "cell_type": "markdown",
   "id": "4830886f",
   "metadata": {},
   "source": [
    "## Optmization"
   ]
  },
  {
   "cell_type": "code",
   "execution_count": 24,
   "id": "ce7ab660",
   "metadata": {},
   "outputs": [],
   "source": [
    "def longestCommonSubsequence_opt(text1, text2):\n",
    "    m = len(text2)\n",
    "    dp = [0] * (m+1)\n",
    "    \n",
    "    for s in text1:\n",
    "        prev = 0\n",
    "        for j in range(1, m+1):\n",
    "            if s == text2[j-1]:\n",
    "                prev, dp[j] = dp[j], 1 + prev\n",
    "            else:\n",
    "                prev, dp[j] = dp[j], max(dp[j], dp[j-1])\n",
    "    return dp[-1]"
   ]
  },
  {
   "cell_type": "code",
   "execution_count": 25,
   "id": "8ba01087",
   "metadata": {},
   "outputs": [
    {
     "data": {
      "text/plain": [
       "3"
      ]
     },
     "execution_count": 25,
     "metadata": {},
     "output_type": "execute_result"
    }
   ],
   "source": [
    "text1 = \"abcde\"\n",
    "text2 = \"ace\" \n",
    "longestCommonSubsequence_opt(text1, text2)"
   ]
  },
  {
   "cell_type": "code",
   "execution_count": 26,
   "id": "49155786",
   "metadata": {},
   "outputs": [
    {
     "data": {
      "text/plain": [
       "0"
      ]
     },
     "execution_count": 26,
     "metadata": {},
     "output_type": "execute_result"
    }
   ],
   "source": [
    "text1 = \"abc\"\n",
    "text2 = \"def\"\n",
    "longestCommonSubsequence_opt(text1, text2)"
   ]
  },
  {
   "cell_type": "code",
   "execution_count": 27,
   "id": "0cc8c2ea",
   "metadata": {},
   "outputs": [
    {
     "data": {
      "text/plain": [
       "3"
      ]
     },
     "execution_count": 27,
     "metadata": {},
     "output_type": "execute_result"
    }
   ],
   "source": [
    "text1 = \"abc\"\n",
    "text2 = \"abc\" \n",
    "longestCommonSubsequence_opt(text1, text2)"
   ]
  },
  {
   "cell_type": "code",
   "execution_count": null,
   "id": "fc1b829e",
   "metadata": {},
   "outputs": [],
   "source": []
  }
 ],
 "metadata": {
  "kernelspec": {
   "display_name": "Python 3",
   "language": "python",
   "name": "python3"
  },
  "language_info": {
   "codemirror_mode": {
    "name": "ipython",
    "version": 3
   },
   "file_extension": ".py",
   "mimetype": "text/x-python",
   "name": "python",
   "nbconvert_exporter": "python",
   "pygments_lexer": "ipython3",
   "version": "3.8.8"
  }
 },
 "nbformat": 4,
 "nbformat_minor": 5
}
