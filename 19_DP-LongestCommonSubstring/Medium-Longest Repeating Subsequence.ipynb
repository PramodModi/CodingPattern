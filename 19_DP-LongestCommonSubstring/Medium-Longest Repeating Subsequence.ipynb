{
 "cells": [
  {
   "cell_type": "markdown",
   "id": "8511726e",
   "metadata": {},
   "source": [
    "## Problem: Longest Repeating Subsequence\n",
    "Given a sequence, find the length of its longest repeating subsequence (LRS). A repeating subsequence will be the one that appears at least twice in the original sequence and is not overlapping (i.e. none of the corresponding characters in the repeating subsequences have the same index).\n",
    "\n",
    "Example 1:\n",
    "\n",
    "    Input: “t o m o r r o w”\n",
    "    Output: 2\n",
    "    Explanation: The longest repeating subsequence is “or” {tomorrow}.\n",
    "Example 2:\n",
    "\n",
    "    Input: “a a b d b c e c”\n",
    "    Output: 3\n",
    "    Explanation: The longest repeating subsequence is “a b c” {a a b d b c e c}.\n",
    "Example 3:\n",
    "\n",
    "    Input: “f m f f”\n",
    "    Output: 2\n",
    "    Explanation: The longest repeating subsequence is “f f” {f m f f, f m f f}.\n",
    "    Please note the second last character is shared in LRS.\n"
   ]
  },
  {
   "cell_type": "markdown",
   "id": "6748432b",
   "metadata": {},
   "source": [
    "### Approach:\n",
    "This is similar to LCS with some variation. Here, will find the LCS of same string excluding the letter at same location. Two strings are str1 and str2, with i and j are location of each letter in str1 and str2 respectively. a : i =0 and j =0, then will not consider it, but a: i =0 and j =1 or i=1 and j =0 will be considered for repeating sequence. What is happening here, repeating subsequnce will have letters repeating more than once, means they are available at more than one location, so while considering LCS for str1 and str2, will not consider letters which are at same location i ==j . However, letters which are same but at i !=j will be considered.¶\n",
    "\n",
    "#### Optimization:\n",
    "We can optimize it further by taking dp as 1 dimension array, and use prev variable.\n",
    "Also, rather than making str2 by copying the str1, we can go with str1. Place the str1 at the place of str2 as both have the same elements."
   ]
  },
  {
   "cell_type": "code",
   "execution_count": 35,
   "id": "213ec07a",
   "metadata": {},
   "outputs": [],
   "source": [
    "def LongestRepeatingSubseq_lcs(seq):\n",
    "    n = len(seq)\n",
    "    #seq1 = seq[:]\n",
    "    \n",
    "    dp = [0] * (n+1)\n",
    "    \n",
    "    for i in range(1, n+1):\n",
    "        prev = 0\n",
    "        for j in range(1, n+1):\n",
    "            if seq[i-1] == seq[j-1] and i != j:\n",
    "                prev, dp[j] = dp[j], 1 + prev\n",
    "            else:                 \n",
    "                prev, dp[j] = dp[j], max(dp[j], dp[j-1])\n",
    "    return dp[-1]\n",
    "            "
   ]
  },
  {
   "cell_type": "code",
   "execution_count": 36,
   "id": "8b017422",
   "metadata": {},
   "outputs": [
    {
     "data": {
      "text/plain": [
       "3"
      ]
     },
     "execution_count": 36,
     "metadata": {},
     "output_type": "execute_result"
    }
   ],
   "source": [
    "seq = \"aabdbcec\"\n",
    "LongestRepeatingSubseq_lcs(seq)"
   ]
  },
  {
   "cell_type": "code",
   "execution_count": 37,
   "id": "00155b9f",
   "metadata": {},
   "outputs": [
    {
     "data": {
      "text/plain": [
       "2"
      ]
     },
     "execution_count": 37,
     "metadata": {},
     "output_type": "execute_result"
    }
   ],
   "source": [
    "seq = \"tomorrow\"\n",
    "LongestRepeatingSubseq_lcs(seq)"
   ]
  },
  {
   "cell_type": "code",
   "execution_count": 38,
   "id": "aaa4fbac",
   "metadata": {},
   "outputs": [
    {
     "data": {
      "text/plain": [
       "3"
      ]
     },
     "execution_count": 38,
     "metadata": {},
     "output_type": "execute_result"
    }
   ],
   "source": [
    "seq = \"abcabc\"\n",
    "LongestRepeatingSubseq_lcs(seq)"
   ]
  },
  {
   "cell_type": "code",
   "execution_count": 39,
   "id": "32e5d49c",
   "metadata": {},
   "outputs": [
    {
     "data": {
      "text/plain": [
       "2"
      ]
     },
     "execution_count": 39,
     "metadata": {},
     "output_type": "execute_result"
    }
   ],
   "source": [
    "seq = \"fmff\"\n",
    "LongestRepeatingSubseq_lcs(seq)"
   ]
  },
  {
   "cell_type": "code",
   "execution_count": 40,
   "id": "b8f91fb1",
   "metadata": {},
   "outputs": [],
   "source": [
    "def LongestRepeatingSubseq(seq):\n",
    "    temp = {}\n",
    "    for c in seq:\n",
    "        temp[c] = temp.get(c, 0) + 1\n",
    "    count = 0\n",
    "    for k, v in temp.items():\n",
    "        if v >1:\n",
    "            count += 1\n",
    "    return count\n",
    "            "
   ]
  },
  {
   "cell_type": "code",
   "execution_count": 41,
   "id": "f2247a09",
   "metadata": {},
   "outputs": [
    {
     "data": {
      "text/plain": [
       "2"
      ]
     },
     "execution_count": 41,
     "metadata": {},
     "output_type": "execute_result"
    }
   ],
   "source": [
    "seq = \"tomorrow\"\n",
    "LongestRepeatingSubseq(seq)"
   ]
  },
  {
   "cell_type": "code",
   "execution_count": 42,
   "id": "107349fa",
   "metadata": {},
   "outputs": [
    {
     "data": {
      "text/plain": [
       "3"
      ]
     },
     "execution_count": 42,
     "metadata": {},
     "output_type": "execute_result"
    }
   ],
   "source": [
    "seq = \"aabdbcec\"\n",
    "LongestRepeatingSubseq(seq)"
   ]
  },
  {
   "cell_type": "code",
   "execution_count": 43,
   "id": "22f6b95b",
   "metadata": {},
   "outputs": [
    {
     "data": {
      "text/plain": [
       "3"
      ]
     },
     "execution_count": 43,
     "metadata": {},
     "output_type": "execute_result"
    }
   ],
   "source": [
    "seq = \"abcabc\"\n",
    "LongestRepeatingSubseq(seq)"
   ]
  },
  {
   "cell_type": "code",
   "execution_count": null,
   "id": "6ce6909c",
   "metadata": {},
   "outputs": [],
   "source": []
  }
 ],
 "metadata": {
  "kernelspec": {
   "display_name": "Python 3",
   "language": "python",
   "name": "python3"
  },
  "language_info": {
   "codemirror_mode": {
    "name": "ipython",
    "version": 3
   },
   "file_extension": ".py",
   "mimetype": "text/x-python",
   "name": "python",
   "nbconvert_exporter": "python",
   "pygments_lexer": "ipython3",
   "version": "3.8.8"
  }
 },
 "nbformat": 4,
 "nbformat_minor": 5
}
