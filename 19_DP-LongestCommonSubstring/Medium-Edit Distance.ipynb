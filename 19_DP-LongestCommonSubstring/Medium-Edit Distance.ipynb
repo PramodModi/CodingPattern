{
 "cells": [
  {
   "cell_type": "markdown",
   "id": "07ffc3ee",
   "metadata": {},
   "source": [
    "## Problem: Edit Distace\n",
    "LeetCode: 72. Edit Distance\n",
    "\n",
    "https://leetcode.com/problems/edit-distance/\n",
    "\n",
    "Given two strings word1 and word2, return the minimum number of operations required to convert word1 to word2.\n",
    "\n",
    "You have the following three operations permitted on a word:\n",
    "\n",
    "Insert a character\n",
    "Delete a character\n",
    "Replace a character\n",
    " \n",
    "\n",
    "Example 1:\n",
    "\n",
    "    Input: word1 = \"horse\", word2 = \"ros\"\n",
    "    Output: 3\n",
    "    Explanation: \n",
    "    horse -> rorse (replace 'h' with 'r')\n",
    "    rorse -> rose (remove 'r')\n",
    "    rose -> ros (remove 'e')\n",
    "Example 2:\n",
    "\n",
    "    Input: word1 = \"intention\", word2 = \"execution\"\n",
    "    Output: 5\n",
    "    Explanation: \n",
    "    intention -> inention (remove 't')\n",
    "    inention -> enention (replace 'i' with 'e')\n",
    "    enention -> exention (replace 'n' with 'x')\n",
    "    exention -> exection (replace 'n' with 'c')\n",
    "    exection -> execution (insert 'u')\n",
    " \n",
    "\n",
    "Constraints:\n",
    "\n",
    "    0 <= word1.length, word2.length <= 500\n",
    "    word1 and word2 consist of lowercase English letters."
   ]
  },
  {
   "cell_type": "markdown",
   "id": "19d6cb08",
   "metadata": {},
   "source": [
    "### Approach:\n",
    "### Recurssive:\n",
    "Approach is to check letters from word1 and word2. If at index1 of word1 is same as letter at index2 at word2. Then recurssively call method for index1+1 and index2+1.\n",
    "Otherwise, take minimum of either deletion (call recurssive method with input, index1+1) or insertion (call recusrssive method with input , index2+1) or replacement (call recurssive method with index1+1 and index2+1) + 1.\n"
   ]
  },
  {
   "cell_type": "code",
   "execution_count": 36,
   "id": "2736d092",
   "metadata": {},
   "outputs": [],
   "source": [
    "def editDistance(word1, word2):\n",
    "    return editDistance_rec(word1,word2, 0, 0)\n",
    "\n",
    "def editDistance_rec(word1, word2, index1, index2):\n",
    "    if index1 == len(word1):\n",
    "        return len(word2) - index2\n",
    "    if index2 == len(word2):\n",
    "        return len(word1)-index1\n",
    "    \n",
    "    if word1[index1] != word2[index2]:\n",
    "        return 1 + min(editDistance_rec(word1, word2, index1+1,index2), # deletion\n",
    "                       editDistance_rec(word1, word2, index1,index2 +1), # insertion\n",
    "                      editDistance_rec(word1, word2, index1+1,index2 + 1)) # replacement\n",
    "    else:\n",
    "        return editDistance_rec(word1, word2, index1+1,index2 + 1)\n",
    "    "
   ]
  },
  {
   "cell_type": "code",
   "execution_count": 37,
   "id": "571d1b92",
   "metadata": {},
   "outputs": [
    {
     "data": {
      "text/plain": [
       "3"
      ]
     },
     "execution_count": 37,
     "metadata": {},
     "output_type": "execute_result"
    }
   ],
   "source": [
    "word1 = \"horse\"\n",
    "word2 = \"ros\"\n",
    "editDistance(word1, word2)"
   ]
  },
  {
   "cell_type": "code",
   "execution_count": 38,
   "id": "c85945b2",
   "metadata": {},
   "outputs": [
    {
     "data": {
      "text/plain": [
       "5"
      ]
     },
     "execution_count": 38,
     "metadata": {},
     "output_type": "execute_result"
    }
   ],
   "source": [
    "word1 = \"intention\"\n",
    "word2 = \"execution\"\n",
    "editDistance(word1, word2)"
   ]
  },
  {
   "cell_type": "markdown",
   "id": "9369684f",
   "metadata": {},
   "source": [
    "### Memoization"
   ]
  },
  {
   "cell_type": "code",
   "execution_count": 40,
   "id": "9548fccc",
   "metadata": {},
   "outputs": [],
   "source": [
    "def editDistance_mem(word1, word2):\n",
    "    n = len(word1)\n",
    "    m = len(word2)\n",
    "    mem = [[-1] * m for _ in range(n)]\n",
    "    \n",
    "    return edit_dist(word1, word2, 0, 0, mem)\n",
    "\n",
    "def edit_dist(word1, word2, index1, index2, mem):\n",
    "    if index1 == len(word1):\n",
    "        return len(word2) - index2\n",
    "    if index2 == len(word2):\n",
    "        return len(word1) - index1\n",
    "    if mem[index1][index2] != -1:\n",
    "        return mem[index1][index2]\n",
    "    \n",
    "    if word1[index1] != word2[index2]:\n",
    "         mem[index1][index2] = 1 + min(edit_dist(word1, word2, index1+1, index2, mem),\n",
    "                      edit_dist(word1, word2, index1, index2+1, mem),\n",
    "                      edit_dist(word1, word2, index1+1, index2+1, mem))\n",
    "    else:\n",
    "        mem[index1][index2] = edit_dist(word1, word2, index1+1, index2+1, mem)\n",
    "    return mem[index1][index2]"
   ]
  },
  {
   "cell_type": "code",
   "execution_count": 41,
   "id": "8fe5a371",
   "metadata": {},
   "outputs": [
    {
     "data": {
      "text/plain": [
       "3"
      ]
     },
     "execution_count": 41,
     "metadata": {},
     "output_type": "execute_result"
    }
   ],
   "source": [
    "word1 = \"horse\"\n",
    "word2 = \"ros\"\n",
    "editDistance_mem(word1, word2)"
   ]
  },
  {
   "cell_type": "code",
   "execution_count": 42,
   "id": "f041e73e",
   "metadata": {},
   "outputs": [
    {
     "data": {
      "text/plain": [
       "5"
      ]
     },
     "execution_count": 42,
     "metadata": {},
     "output_type": "execute_result"
    }
   ],
   "source": [
    "word1 = \"intention\"\n",
    "word2 = \"execution\"\n",
    "editDistance_mem(word1, word2)"
   ]
  },
  {
   "cell_type": "markdown",
   "id": "6cd6fd62",
   "metadata": {},
   "source": [
    "### DP\n",
    "\n",
    "Base case : if size of word2 is zero then need to delete all letters of word1 to make it word2. Or if size of word1 is zero then to make word1 to word2, mneed to insert all letters of word2.\n"
   ]
  },
  {
   "cell_type": "code",
   "execution_count": 45,
   "id": "582c56f4",
   "metadata": {},
   "outputs": [],
   "source": [
    "def editDistance_dp(word1, word2):\n",
    "    n = len(word1)\n",
    "    m = len(word2)\n",
    "    dp = [[0] * (m+1) for _ in range(n+1)]\n",
    "    for i in range(n+1):\n",
    "        dp[i][0] = i\n",
    "    for i in range(m+1):\n",
    "        dp[0][i] = i\n",
    "    for i in range (1, n+1):\n",
    "        for j in range(1, m+1):\n",
    "            if word1[i-1] == word2[j-1]:\n",
    "                dp[i][j] = dp[i-1][j-1]\n",
    "            else:\n",
    "                dp[i][j] = 1 + min(dp[i-1][j], dp[i][j-1], dp[i-1][j-1])\n",
    "    return dp[-1][-1]\n",
    "                "
   ]
  },
  {
   "cell_type": "code",
   "execution_count": 46,
   "id": "cf0fb63c",
   "metadata": {},
   "outputs": [
    {
     "data": {
      "text/plain": [
       "3"
      ]
     },
     "execution_count": 46,
     "metadata": {},
     "output_type": "execute_result"
    }
   ],
   "source": [
    "word1 = \"horse\"\n",
    "word2 = \"ros\"\n",
    "editDistance_dp(word1, word2)"
   ]
  },
  {
   "cell_type": "code",
   "execution_count": 47,
   "id": "2d3fcf82",
   "metadata": {},
   "outputs": [
    {
     "data": {
      "text/plain": [
       "5"
      ]
     },
     "execution_count": 47,
     "metadata": {},
     "output_type": "execute_result"
    }
   ],
   "source": [
    "word1 = \"intention\"\n",
    "word2 = \"execution\"\n",
    "editDistance_dp(word1, word2)"
   ]
  },
  {
   "cell_type": "code",
   "execution_count": null,
   "id": "b761ea45",
   "metadata": {},
   "outputs": [],
   "source": []
  }
 ],
 "metadata": {
  "kernelspec": {
   "display_name": "Python 3",
   "language": "python",
   "name": "python3"
  },
  "language_info": {
   "codemirror_mode": {
    "name": "ipython",
    "version": 3
   },
   "file_extension": ".py",
   "mimetype": "text/x-python",
   "name": "python",
   "nbconvert_exporter": "python",
   "pygments_lexer": "ipython3",
   "version": "3.8.8"
  }
 },
 "nbformat": 4,
 "nbformat_minor": 5
}
