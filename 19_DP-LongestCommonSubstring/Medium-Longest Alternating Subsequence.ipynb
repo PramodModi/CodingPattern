{
 "cells": [
  {
   "cell_type": "markdown",
   "id": "94b0ce68",
   "metadata": {},
   "source": [
    "## Problem: Longest Alternating Subsequence\n",
    "\n",
    "Given a number sequence, find the length of its Longest Alternating Subsequence (LAS). A subsequence is considered alternating if its elements are in alternating order.\n",
    "\n",
    "A three element sequence (a1, a2, a3) will be an alternating sequence if its elements hold one of the following conditions:\n",
    "\n",
    "{a1 > a2 < a3 } or { a1 < a2 > a3}.\n",
    "\n",
    "Example 1:\n",
    "\n",
    "    Input: {1,2,3,4}\n",
    "    Output: 2\n",
    "    Explanation: There are many LAS: {1,2}, {3,4}, {1,3}, {1,4}\n",
    "Example 2:\n",
    "\n",
    "    Input: {3,2,1,4}\n",
    "    Output: 3\n",
    "    Explanation: The LAS are {3,2,4} and {2,1,4}.\n",
    "\n",
    "Example 3:\n",
    "\n",
    "    Input: {1,3,2,4}\n",
    "    Output: 4\n",
    "    Explanation: The LAS is {1,3,2,4}.\n"
   ]
  },
  {
   "cell_type": "markdown",
   "id": "245881bb",
   "metadata": {},
   "source": [
    "### Approach:\n",
    "For number at index i, find the ascending sequence and then find the descending sequence for the nmber at i+1th index.\n",
    "Ascendnig sequence means, number at index i should be greater than previous number.\n",
    "Descending sequence means, number at index i should be smaller than previous number.\n",
    "\n",
    "If not then let the prev number as it is and then look at the next number.\n",
    "\n",
    "Start with -1 and 0 previuos and current index respectively with ascending and descendnig and then take the maximum."
   ]
  },
  {
   "cell_type": "code",
   "execution_count": 16,
   "id": "95ade2ad",
   "metadata": {},
   "outputs": [],
   "source": [
    "def longestAlternatingSubsequence(nums):\n",
    "    return max(LAS(nums, -1, 0, True), LAS(nums, -1, 0, False))\n",
    "\n",
    "def LAS(nums, prev, current, isAscending):\n",
    "    if current >= len(nums):\n",
    "        return 0\n",
    "    maxCount = 0\n",
    "    if isAscending:\n",
    "        if prev == -1 or nums[current] > nums[prev]:\n",
    "            maxCount = 1 + LAS(nums, current, current+1, not isAscending)\n",
    "    else:\n",
    "        if prev == -1 or nums[current] < nums[prev]:\n",
    "            maxCount = 1 + LAS(nums, current, current+1, not isAscending)\n",
    "    maxCount = max(maxCount, LAS(nums, prev, current+1, isAscending))\n",
    "    return maxCount"
   ]
  },
  {
   "cell_type": "code",
   "execution_count": 17,
   "id": "ab521a4d",
   "metadata": {},
   "outputs": [
    {
     "data": {
      "text/plain": [
       "3"
      ]
     },
     "execution_count": 17,
     "metadata": {},
     "output_type": "execute_result"
    }
   ],
   "source": [
    "nums = [3,2,1,4]\n",
    "longestAlternatingSubsequence(nums)"
   ]
  },
  {
   "cell_type": "code",
   "execution_count": 18,
   "id": "bf8df242",
   "metadata": {},
   "outputs": [
    {
     "data": {
      "text/plain": [
       "4"
      ]
     },
     "execution_count": 18,
     "metadata": {},
     "output_type": "execute_result"
    }
   ],
   "source": [
    "nums = [1,3,2,4]\n",
    "longestAlternatingSubsequence(nums)"
   ]
  },
  {
   "cell_type": "code",
   "execution_count": 19,
   "id": "ab05479c",
   "metadata": {},
   "outputs": [
    {
     "data": {
      "text/plain": [
       "2"
      ]
     },
     "execution_count": 19,
     "metadata": {},
     "output_type": "execute_result"
    }
   ],
   "source": [
    "nums = [1,2,3,4]\n",
    "longestAlternatingSubsequence(nums)"
   ]
  },
  {
   "cell_type": "markdown",
   "id": "2fedd1c1",
   "metadata": {},
   "source": [
    "### Memoization\n"
   ]
  },
  {
   "cell_type": "code",
   "execution_count": 26,
   "id": "5bf236d6",
   "metadata": {},
   "outputs": [],
   "source": [
    "def longestAlternatingSubsequence_mem(nums):\n",
    "    n = len(nums)\n",
    "    mem = {}\n",
    "    return max(LAS_mem(nums, -1, 0, True, mem), LAS_mem(nums, -1, 0, False, mem))\n",
    "\n",
    "def LAS_mem(nums, prev, current, isAscending, mem):\n",
    "    \n",
    "    if current >= len(nums):\n",
    "        return 0\n",
    "    key = getKey(prev, current, isAscending)\n",
    "    if key in mem:\n",
    "        return mem[key]\n",
    "    \n",
    "    maxCount = 0\n",
    "    if isAscending:\n",
    "        if prev == -1 or nums[current] > nums[prev]:\n",
    "            maxCount = 1 + LAS_mem(nums, current, current+1, not isAscending, mem)\n",
    "    else:\n",
    "        if prev == -1 or nums[current] < nums[prev]:\n",
    "            maxCount = 1 + LAS_mem(nums, current, current+1, not isAscending, mem)\n",
    "    maxCount = max(maxCount, LAS_mem(nums, prev, current+1, isAscending, mem))\n",
    "    mem[key] = maxCount\n",
    "    return mem[key]\n",
    "\n",
    "def getKey(i,j, isAscending):\n",
    "    key = \"asc\" if isAscending else \"desc\"\n",
    "    return key + str(i)+ str(j)\n",
    "    "
   ]
  },
  {
   "cell_type": "code",
   "execution_count": 27,
   "id": "20697eb1",
   "metadata": {},
   "outputs": [
    {
     "data": {
      "text/plain": [
       "3"
      ]
     },
     "execution_count": 27,
     "metadata": {},
     "output_type": "execute_result"
    }
   ],
   "source": [
    "nums = [3,2,1,4]\n",
    "longestAlternatingSubsequence_mem(nums)"
   ]
  },
  {
   "cell_type": "code",
   "execution_count": 28,
   "id": "c8c5326d",
   "metadata": {},
   "outputs": [
    {
     "data": {
      "text/plain": [
       "4"
      ]
     },
     "execution_count": 28,
     "metadata": {},
     "output_type": "execute_result"
    }
   ],
   "source": [
    "nums = [1,3,2,4]\n",
    "longestAlternatingSubsequence_mem(nums)"
   ]
  },
  {
   "cell_type": "code",
   "execution_count": 29,
   "id": "72eaeaa2",
   "metadata": {},
   "outputs": [
    {
     "data": {
      "text/plain": [
       "2"
      ]
     },
     "execution_count": 29,
     "metadata": {},
     "output_type": "execute_result"
    }
   ],
   "source": [
    "nums = [1,2,3,4]\n",
    "longestAlternatingSubsequence_mem(nums)"
   ]
  },
  {
   "cell_type": "markdown",
   "id": "700a44ed",
   "metadata": {},
   "source": [
    "### DP"
   ]
  },
  {
   "cell_type": "code",
   "execution_count": null,
   "id": "6f353a3d",
   "metadata": {},
   "outputs": [],
   "source": []
  }
 ],
 "metadata": {
  "kernelspec": {
   "display_name": "Python 3",
   "language": "python",
   "name": "python3"
  },
  "language_info": {
   "codemirror_mode": {
    "name": "ipython",
    "version": 3
   },
   "file_extension": ".py",
   "mimetype": "text/x-python",
   "name": "python",
   "nbconvert_exporter": "python",
   "pygments_lexer": "ipython3",
   "version": "3.8.8"
  }
 },
 "nbformat": 4,
 "nbformat_minor": 5
}
