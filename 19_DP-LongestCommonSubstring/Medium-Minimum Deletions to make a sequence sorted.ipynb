{
 "cells": [
  {
   "cell_type": "markdown",
   "id": "b7c3e5d9",
   "metadata": {},
   "source": [
    "## Problem: Minimum Deletions to make a sequence sorted\n",
    "\n",
    "Given a number sequence, find the minimum number of elements that should be deleted to make the remaining sequence sorted.\n",
    "\n",
    "Example 1:\n",
    "\n",
    "    Input: {4,2,3,6,10,1,12}\n",
    "    Output: 2\n",
    "    Explanation: We need to delete {4,1} to make the remaing sequence sorted {2,3,6,10,12}.\n",
    "Example 2:\n",
    "\n",
    "    Input: {-4,10,3,7,15}\n",
    "    Output: 1\n",
    "    Explanation: We need to delete {10} to make the remaing sequence sorted {-4,3,7,15}.\n",
    "Example 3:\n",
    "\n",
    "    Input: {3,2,1,0}\n",
    "    Output: 3\n",
    "    Explanation: Since the elements are in reverse order, we have to delete all except one to get a\n",
    "    sorted sequence. Sorted sequences are {3}, {2}, {1}, and {0}"
   ]
  },
  {
   "cell_type": "markdown",
   "id": "6c71040a",
   "metadata": {},
   "source": [
    "### Approach:\n",
    "To find the minimum number of deletion, we should find longest increasing sub sequence, that is nothing but sorted number in increasing order. Hence to minimum number of deletion = length of nums - longest increassing subsequence."
   ]
  },
  {
   "cell_type": "code",
   "execution_count": 11,
   "id": "c400224f",
   "metadata": {},
   "outputs": [],
   "source": [
    "def MinDeletion(nums):\n",
    "    n = len(nums)\n",
    "    return n - LIS(nums)\n",
    "\n",
    "def LIS(nums):\n",
    "    n = len(nums)\n",
    "    maxLength = 0\n",
    "    dp = [1] * n\n",
    "    for i in range(n):\n",
    "        for j in range(i):\n",
    "            if nums[i] > nums[j] and dp[i] <= dp[j]:\n",
    "                dp[i] = 1 + dp[j]\n",
    "        maxLength = max(maxLength, dp[i])\n",
    "    return maxLength\n",
    "    \n",
    "    "
   ]
  },
  {
   "cell_type": "code",
   "execution_count": 12,
   "id": "965dfeb8",
   "metadata": {},
   "outputs": [
    {
     "data": {
      "text/plain": [
       "1"
      ]
     },
     "execution_count": 12,
     "metadata": {},
     "output_type": "execute_result"
    }
   ],
   "source": [
    "nums = [-4,10,3,7,15]\n",
    "MinDeletion(nums)"
   ]
  },
  {
   "cell_type": "code",
   "execution_count": 13,
   "id": "4c98a600",
   "metadata": {},
   "outputs": [
    {
     "data": {
      "text/plain": [
       "3"
      ]
     },
     "execution_count": 13,
     "metadata": {},
     "output_type": "execute_result"
    }
   ],
   "source": [
    "nums = [3,2,1,0]\n",
    "MinDeletion(nums)"
   ]
  },
  {
   "cell_type": "code",
   "execution_count": 14,
   "id": "cf5f3adc",
   "metadata": {},
   "outputs": [
    {
     "data": {
      "text/plain": [
       "2"
      ]
     },
     "execution_count": 14,
     "metadata": {},
     "output_type": "execute_result"
    }
   ],
   "source": [
    "nums = [4,2,3,6,10,1,12]\n",
    "MinDeletion(nums)"
   ]
  },
  {
   "cell_type": "code",
   "execution_count": null,
   "id": "6c0b15d9",
   "metadata": {},
   "outputs": [],
   "source": []
  }
 ],
 "metadata": {
  "kernelspec": {
   "display_name": "Python 3",
   "language": "python",
   "name": "python3"
  },
  "language_info": {
   "codemirror_mode": {
    "name": "ipython",
    "version": 3
   },
   "file_extension": ".py",
   "mimetype": "text/x-python",
   "name": "python",
   "nbconvert_exporter": "python",
   "pygments_lexer": "ipython3",
   "version": "3.8.8"
  }
 },
 "nbformat": 4,
 "nbformat_minor": 5
}
