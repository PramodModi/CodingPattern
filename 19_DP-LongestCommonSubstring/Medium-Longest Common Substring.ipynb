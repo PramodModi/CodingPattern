{
 "cells": [
  {
   "cell_type": "markdown",
   "id": "c56ea25a",
   "metadata": {},
   "source": [
    "## Problem:\n",
    "\n",
    "Given two strings str1 and str2, find the length of the longest substring which is common in both the strings.\n",
    "\n",
    "Example 1:\n",
    "\n",
    "    Input: string1 = \"abdca\"\n",
    "           string2 = \"cbda\"\n",
    "    Output: 2\n",
    "    Explanation: The longest common substring is \"bd\".\n",
    "Example 2:\n",
    "\n",
    "    Input: str1 = \"passport\"\n",
    "           str2 = \"ppsspt\"\n",
    "    Output: 3\n",
    "    Explanation: The longest common substring is \"ssp\"."
   ]
  },
  {
   "cell_type": "markdown",
   "id": "9a99c76f",
   "metadata": {},
   "source": [
    "### Approach: Recurssive\n",
    "The idea is to compare elements at each index from both strings. If elements are same then move to next index in both strings. Also increase the count of matched element by 1.\n",
    "If elements do not match, then we have two choices, go to the next element of either of strings. And take the maximum count of either call. Here, count of common string is zero, as elements do not match.\n",
    "return maximum count."
   ]
  },
  {
   "cell_type": "code",
   "execution_count": 27,
   "id": "6e4c31a3",
   "metadata": {},
   "outputs": [],
   "source": [
    "def longestComonSubstring_rec(string1, string2):\n",
    "    return lcs_rec(string1, string2, 0, 0, 0)\n",
    "def lcs_rec(string1, string2, index1, index2, count):\n",
    "    if index1 >= len(string1) or index2 >= len(string2):\n",
    "        return count\n",
    "    \n",
    "    if string1[index1] == string2[index2]:\n",
    "        count = lcs_rec(string1, string2, index1+1, index2+1, count+1)\n",
    "    count1 = max(count, lcs_rec(string1, string2, index1+1, index2, 0), lcs_rec(string1, string2, index1, index2+1, 0))\n",
    "    count = max(count1, count)\n",
    "    return count\n",
    "    "
   ]
  },
  {
   "cell_type": "code",
   "execution_count": 28,
   "id": "fa406bad",
   "metadata": {},
   "outputs": [
    {
     "data": {
      "text/plain": [
       "2"
      ]
     },
     "execution_count": 28,
     "metadata": {},
     "output_type": "execute_result"
    }
   ],
   "source": [
    "string1 = \"abdca\"\n",
    "string2 = \"cbda\"\n",
    "longestComonSubstring_rec(string1, string2)"
   ]
  },
  {
   "cell_type": "code",
   "execution_count": 29,
   "id": "d477347e",
   "metadata": {},
   "outputs": [
    {
     "data": {
      "text/plain": [
       "3"
      ]
     },
     "execution_count": 29,
     "metadata": {},
     "output_type": "execute_result"
    }
   ],
   "source": [
    "string1 = \"passport\"\n",
    "string2 = \"ppsspt\"\n",
    "longestComonSubstring_rec(string1, string2)"
   ]
  },
  {
   "cell_type": "markdown",
   "id": "8fe745e9",
   "metadata": {},
   "source": [
    "### Memoization : There are three variables , index1, index2 and count. So, we need three dimensional memoization.\n",
    "\n",
    "### DP method:\n",
    "DP is based on only index1 and index2."
   ]
  },
  {
   "cell_type": "code",
   "execution_count": 24,
   "id": "4c638ed8",
   "metadata": {},
   "outputs": [],
   "source": [
    "def longestComonSubstring_dp(string1, string2):\n",
    "    n = len(string1)\n",
    "    m = len(string2)\n",
    "    dp = [[0]*(m+1)for _ in range(n+1)]\n",
    "    maxCount = 0\n",
    "    for i in range(1, n+1):\n",
    "        for j in range(1, m+1):\n",
    "            if string1[i-1] == string2[j-1]:\n",
    "                dp[i][j] = 1 + dp[i-1][j-1]\n",
    "            else:\n",
    "                dp[i][j] = 0\n",
    "            maxCount = max(maxCount, dp[i][j])\n",
    "    return maxCount\n",
    "    "
   ]
  },
  {
   "cell_type": "code",
   "execution_count": 25,
   "id": "d205c262",
   "metadata": {},
   "outputs": [
    {
     "data": {
      "text/plain": [
       "3"
      ]
     },
     "execution_count": 25,
     "metadata": {},
     "output_type": "execute_result"
    }
   ],
   "source": [
    "string1 = \"passport\"\n",
    "string2 = \"ppsspt\"\n",
    "longestComonSubstring_dp(string1, string2)"
   ]
  },
  {
   "cell_type": "code",
   "execution_count": 26,
   "id": "482b4b22",
   "metadata": {},
   "outputs": [
    {
     "data": {
      "text/plain": [
       "2"
      ]
     },
     "execution_count": 26,
     "metadata": {},
     "output_type": "execute_result"
    }
   ],
   "source": [
    "string1 = \"abdca\"\n",
    "string2 = \"cbda\"\n",
    "longestComonSubstring_dp(string1, string2)"
   ]
  },
  {
   "cell_type": "code",
   "execution_count": 46,
   "id": "b709f884",
   "metadata": {},
   "outputs": [],
   "source": [
    "## Optimized\n",
    "def longestComonSubstring_opt(string1, string2):\n",
    "    n = len(string1)\n",
    "    m = len(string2)\n",
    "    cur = [0] * (m+1)\n",
    "    maxCount = 0\n",
    "    for i in range(1, n+1):\n",
    "        prev = 0\n",
    "        for j in range(1, m+1):\n",
    "            if string1[i-1] == string2[j-1]:\n",
    "                prev, cur[j] = cur[j], 1 + prev\n",
    "            else:\n",
    "                prev, cur[j]  = cur[j], 0\n",
    "            maxCount = max(maxCount, cur[j])\n",
    "    return maxCount"
   ]
  },
  {
   "cell_type": "code",
   "execution_count": 47,
   "id": "361215e2",
   "metadata": {},
   "outputs": [
    {
     "data": {
      "text/plain": [
       "2"
      ]
     },
     "execution_count": 47,
     "metadata": {},
     "output_type": "execute_result"
    }
   ],
   "source": [
    "string1 = \"abdca\"\n",
    "string2 = \"cbda\"\n",
    "longestComonSubstring_opt(string1, string2)"
   ]
  },
  {
   "cell_type": "code",
   "execution_count": 48,
   "id": "7b2924bd",
   "metadata": {},
   "outputs": [
    {
     "data": {
      "text/plain": [
       "3"
      ]
     },
     "execution_count": 48,
     "metadata": {},
     "output_type": "execute_result"
    }
   ],
   "source": [
    "string1 = \"passport\"\n",
    "string2 = \"ppsspt\"\n",
    "longestComonSubstring_opt(string1, string2)"
   ]
  },
  {
   "cell_type": "code",
   "execution_count": null,
   "id": "01e6784f",
   "metadata": {},
   "outputs": [],
   "source": []
  }
 ],
 "metadata": {
  "kernelspec": {
   "display_name": "Python 3",
   "language": "python",
   "name": "python3"
  },
  "language_info": {
   "codemirror_mode": {
    "name": "ipython",
    "version": 3
   },
   "file_extension": ".py",
   "mimetype": "text/x-python",
   "name": "python",
   "nbconvert_exporter": "python",
   "pygments_lexer": "ipython3",
   "version": "3.8.8"
  }
 },
 "nbformat": 4,
 "nbformat_minor": 5
}
