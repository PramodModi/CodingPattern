{
 "cells": [
  {
   "cell_type": "markdown",
   "id": "fe72ca1d",
   "metadata": {},
   "source": [
    "## Problem:\n",
    "\n",
    "Given strings str1 and str2, we need to transform str1 into str2 by deleting and inserting characters. Write a function to calculate the count of the minimum number of deletion and insertion operations.\n",
    "\n",
    "Example 1:\n",
    "\n",
    "    Input: str1 = \"abc\"\n",
    "           str2 = \"fbc\"\n",
    "    Output: 1 deletion and 1 insertion.\n",
    "    Explanation: We need to delete {'a'} and insert {'f'} to str1 to transform it into str2.\n",
    "Example 2:\n",
    "\n",
    "    Input: str1 = \"abdca\"\n",
    "           str2 = \"cbda\"\n",
    "    Output: 2 deletions and 1 insertion.\n",
    "    Explanation: We need to delete {'a', 'c'} and insert {'c'} to str1 to transform it into str2.\n",
    "Example 3:\n",
    "\n",
    "    Input: str1 = \"passport\"\n",
    "           str2 = \"ppsspt\"\n",
    "    Output: 3 deletions and 1 insertion\n",
    "    Explanation: We need to delete {'a', 'o', 'r'} and insert {'p'} to str1 to transform it into str2."
   ]
  },
  {
   "cell_type": "markdown",
   "id": "fdec5e7d",
   "metadata": {},
   "source": [
    "### Approach:\n",
    "This will use LCS problem. Here, first find longest common subsequence, delete remaining letters (number of deletion = len(str1) - lcs) and then insert missing item (number of insertion = len(str2) - lcs."
   ]
  },
  {
   "cell_type": "code",
   "execution_count": 2,
   "id": "0b4e12da",
   "metadata": {},
   "outputs": [],
   "source": [
    "def deleteInsertChars(str1, str2):\n",
    "    n = len(str1)\n",
    "    m = len(str2)\n",
    "    #Find LCS\n",
    "    dp = [0]*(m+1)\n",
    "    for s in str1:\n",
    "        prev = 0\n",
    "        for j in range(1, m+1):\n",
    "            if s == str2[j-1]:\n",
    "                prev, dp[j] = dp[j], 1 + prev\n",
    "            else:\n",
    "                prev, dp[j] = dp[j], max(dp[j], dp[j-1])\n",
    "    l = dp[-1]\n",
    "    \n",
    "    deletion = n - l\n",
    "    insertion = m-l\n",
    "    return [insertion, deletion]\n",
    "    \n",
    "    \n",
    "    "
   ]
  },
  {
   "cell_type": "code",
   "execution_count": 4,
   "id": "84d4ebb0",
   "metadata": {},
   "outputs": [
    {
     "data": {
      "text/plain": [
       "[1, 3]"
      ]
     },
     "execution_count": 4,
     "metadata": {},
     "output_type": "execute_result"
    }
   ],
   "source": [
    "str1 = \"passport\"\n",
    "str2 = \"ppsspt\"\n",
    "deleteInsertChars(str1, str2)"
   ]
  },
  {
   "cell_type": "code",
   "execution_count": 5,
   "id": "2ab865fe",
   "metadata": {},
   "outputs": [
    {
     "data": {
      "text/plain": [
       "[1, 2]"
      ]
     },
     "execution_count": 5,
     "metadata": {},
     "output_type": "execute_result"
    }
   ],
   "source": [
    "str1 = \"abdca\"\n",
    "str2 = \"cbda\"\n",
    "deleteInsertChars(str1, str2)"
   ]
  },
  {
   "cell_type": "code",
   "execution_count": null,
   "id": "8a26fa7a",
   "metadata": {},
   "outputs": [],
   "source": []
  }
 ],
 "metadata": {
  "kernelspec": {
   "display_name": "Python 3",
   "language": "python",
   "name": "python3"
  },
  "language_info": {
   "codemirror_mode": {
    "name": "ipython",
    "version": 3
   },
   "file_extension": ".py",
   "mimetype": "text/x-python",
   "name": "python",
   "nbconvert_exporter": "python",
   "pygments_lexer": "ipython3",
   "version": "3.8.8"
  }
 },
 "nbformat": 4,
 "nbformat_minor": 5
}
