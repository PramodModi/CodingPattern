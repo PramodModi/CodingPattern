{
 "cells": [
  {
   "cell_type": "markdown",
   "id": "66ad0244",
   "metadata": {},
   "source": [
    "## Problem: Shortest Common Supersequence\n",
    "LeetCode: 1092. Shortest Common Supersequence\n",
    "\n",
    "https://leetcode.com/problems/shortest-common-supersequence/\n",
    "\n",
    "Given two strings str1 and str2, return the shortest string that has both str1 and str2 as subsequences. If there are multiple valid strings, return any of them.\n",
    "\n",
    "A string s is a subsequence of string t if deleting some number of characters from t (possibly 0) results in the string s.\n",
    "\n",
    " \n",
    "\n",
    "Example 1:\n",
    "\n",
    "    Input: str1 = \"abac\", str2 = \"cab\"\n",
    "    Output: \"cabac\"\n",
    "    Explanation: \n",
    "    str1 = \"abac\" is a subsequence of \"cabac\" because we can delete the first \"c\".\n",
    "    str2 = \"cab\" is a subsequence of \"cabac\" because we can delete the last \"ac\".\n",
    "    The answer provided is the shortest such string that satisfies these properties.\n",
    "Example 2:\n",
    "\n",
    "    Input: str1 = \"aaaaaaaa\", str2 = \"aaaaaaaa\"\n",
    "    Output: \"aaaaaaaa\"\n",
    "\n",
    "\n",
    "Constraints:\n",
    "\n",
    "    1 <= str1.length, str2.length <= 1000\n",
    "    str1 and str2 consist of lowercase English letters."
   ]
  },
  {
   "cell_type": "markdown",
   "id": "8c2dd5f1",
   "metadata": {},
   "source": [
    "### Approach:\n",
    "dp stores characters common charactes and also the characters of str1 and str2.\n",
    "We need to print charcters of str1 and str2 which are not common and common characters from either of str1 or str2.\n",
    "\n",
    "When current row and prev row of a column have same character that means, that is not a common character from str1. Similarly, when current col and prev column have same character that means, that is not a common character from str2. Otherwise characters are common.\n",
    "\n",
    "Hence to print the super sequence, add characters which are not common from str1 and str2 and then common character from one of the string.\n"
   ]
  },
  {
   "cell_type": "code",
   "execution_count": 18,
   "id": "5c3f6353",
   "metadata": {},
   "outputs": [],
   "source": [
    "def shortestCommonSupersequence(str1, str2):\n",
    "    n = len(str1)\n",
    "    m = len(str2)\n",
    "    \n",
    "    dp = [[0]*(m+1) for _ in range(n+1)]\n",
    "    \n",
    "    for i in range(1, n+1):\n",
    "        for j in range(1, m+1):\n",
    "            if str1[i-1] == str2[j-1]:\n",
    "                dp[i][j] = 1 + dp[i-1][j-1]\n",
    "            else:\n",
    "                dp[i][j] = max(dp[i-1][j], dp[i][j-1])\n",
    "    \n",
    "    ## Print the common characters\n",
    "    n = len(dp)-1\n",
    "    m = len(dp[0])-1\n",
    "    seq = []\n",
    "    while n > 0 and m >0:\n",
    "        if dp[n][m] == dp[n-1][m]: # Character is not common, and it has come from str1\n",
    "            seq.append(str1[n-1])\n",
    "            n -= 1\n",
    "        elif dp[n][m] == dp[n][m-1]:# Character is not common, and it has come from str2\n",
    "            seq.append(str2[m-1])\n",
    "            m -= 1\n",
    "        else:\n",
    "            seq.append(str1[n-1])# Common Character, storing from str1. This can be taken from str2 as well.\n",
    "            n -=1 \n",
    "            m -=1\n",
    "    ## Append remaining charactres available in str1 and str2\n",
    "    while n> 0:\n",
    "        seq.append(str1[n-1])\n",
    "        n -=1\n",
    "    while m > 0:\n",
    "        seq.append(str2[m-1])\n",
    "        m -= 1\n",
    "        \n",
    "    seq = list(reversed(seq))\n",
    "    return \"\".join(seq)\n",
    "        "
   ]
  },
  {
   "cell_type": "code",
   "execution_count": 19,
   "id": "95abd405",
   "metadata": {},
   "outputs": [
    {
     "data": {
      "text/plain": [
       "'cabac'"
      ]
     },
     "execution_count": 19,
     "metadata": {},
     "output_type": "execute_result"
    }
   ],
   "source": [
    "str1 = \"abac\"\n",
    "str2 = \"cab\"\n",
    "shortestCommonSupersequence(str1, str2)"
   ]
  },
  {
   "cell_type": "code",
   "execution_count": 20,
   "id": "6af11039",
   "metadata": {},
   "outputs": [
    {
     "data": {
      "text/plain": [
       "'aaaaaaaa'"
      ]
     },
     "execution_count": 20,
     "metadata": {},
     "output_type": "execute_result"
    }
   ],
   "source": [
    "str1 = \"aaaaaaaa\"\n",
    "str2 = \"aaaaaaaa\"\n",
    "shortestCommonSupersequence(str1, str2)"
   ]
  },
  {
   "cell_type": "code",
   "execution_count": null,
   "id": "cfdf367e",
   "metadata": {},
   "outputs": [],
   "source": []
  }
 ],
 "metadata": {
  "kernelspec": {
   "display_name": "Python 3",
   "language": "python",
   "name": "python3"
  },
  "language_info": {
   "codemirror_mode": {
    "name": "ipython",
    "version": 3
   },
   "file_extension": ".py",
   "mimetype": "text/x-python",
   "name": "python",
   "nbconvert_exporter": "python",
   "pygments_lexer": "ipython3",
   "version": "3.8.8"
  }
 },
 "nbformat": 4,
 "nbformat_minor": 5
}
