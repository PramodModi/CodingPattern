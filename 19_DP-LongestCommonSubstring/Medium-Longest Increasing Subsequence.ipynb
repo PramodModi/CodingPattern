{
 "cells": [
  {
   "cell_type": "markdown",
   "id": "36862f80",
   "metadata": {},
   "source": [
    "## Problem: Longest Increasing Subsequence\n",
    "LeetCode : 300. Longest Increasing Subsequence\n",
    "\n",
    "https://leetcode.com/problems/longest-increasing-subsequence/\n",
    "\n",
    "Given an integer array nums, return the length of the longest strictly increasing \n",
    "subsequence\n",
    ".\n",
    "\n",
    " \n",
    "\n",
    "Example 1:\n",
    "\n",
    "    Input: nums = [10,9,2,5,3,7,101,18]\n",
    "    Output: 4\n",
    "    Explanation: The longest increasing subsequence is [2,3,7,101], therefore the length is 4.\n",
    "Example 2:\n",
    "\n",
    "    Input: nums = [0,1,0,3,2,3]\n",
    "    Output: 4\n",
    "Example 3:\n",
    "\n",
    "    Input: nums = [7,7,7,7,7,7,7]\n",
    "    Output: 1\n",
    " \n",
    "\n",
    "Constraints:\n",
    "\n",
    "    1 <= nums.length <= 2500\n",
    "    -104 <= nums[i] <= 104\n"
   ]
  },
  {
   "cell_type": "markdown",
   "id": "1f73a110",
   "metadata": {},
   "source": [
    "### Approach:\n",
    "To get the longest increasing subsequence, if current number is greater than previous number, then increase the count and recursively call for rest of the array.\n",
    "Elase, compare the previous number with next number in the array.\n",
    "Recursive method will take current Inex and previous index. Start with current Index = 0, and previous Index = -1.\n",
    "Return the maximum count."
   ]
  },
  {
   "cell_type": "code",
   "execution_count": 55,
   "id": "a797c85a",
   "metadata": {},
   "outputs": [],
   "source": [
    "def longestIncreasingSubsequence_rec(nums):\n",
    "    return LIS_rec(nums, 0, -1)\n",
    "\n",
    "def LIS_rec(nums, cur, prev):\n",
    "    if cur >= len(nums):return 0\n",
    "    count = 0\n",
    "    if prev == -1 or nums[cur]> nums[prev]:\n",
    "        count =  1 + LIS_rec(nums, cur+1, cur)\n",
    "    count = max(count, LIS_rec(nums, cur+1, prev))\n",
    "    return count\n",
    "    \n",
    "        "
   ]
  },
  {
   "cell_type": "code",
   "execution_count": 56,
   "id": "c2210a88",
   "metadata": {},
   "outputs": [
    {
     "data": {
      "text/plain": [
       "4"
      ]
     },
     "execution_count": 56,
     "metadata": {},
     "output_type": "execute_result"
    }
   ],
   "source": [
    "nums = [10,9,2,5,3,7,101,18]\n",
    "longestIncreasingSubsequence_rec(nums)"
   ]
  },
  {
   "cell_type": "code",
   "execution_count": 57,
   "id": "0d16cee1",
   "metadata": {},
   "outputs": [
    {
     "data": {
      "text/plain": [
       "1"
      ]
     },
     "execution_count": 57,
     "metadata": {},
     "output_type": "execute_result"
    }
   ],
   "source": [
    "nums = [7,7,7,7,7,7,7]\n",
    "longestIncreasingSubsequence_rec(nums)"
   ]
  },
  {
   "cell_type": "markdown",
   "id": "6ff19e3d",
   "metadata": {},
   "source": [
    "## Memoization"
   ]
  },
  {
   "cell_type": "code",
   "execution_count": 58,
   "id": "365836a8",
   "metadata": {},
   "outputs": [],
   "source": [
    "def longestIncreasingSubsequence_mem(nums):\n",
    "    n = len(nums)\n",
    "    mem = [[-1]* n for _ in range(n)]\n",
    "    return LIS_mem(nums, 0, -1, mem)\n",
    "\n",
    "def LIS_mem(nums, cur, prev, mem):\n",
    "    if cur >= len(nums):return 0\n",
    "    if mem[cur][prev+1] != -1:\n",
    "        return mem[cur][prev+1]\n",
    "    count = 0\n",
    "    if prev == -1 or nums[cur]> nums[prev]:\n",
    "        count =  1 + LIS_mem(nums, cur+1, cur, mem)\n",
    "    count = max(count, LIS_mem(nums, cur+1, prev, mem))\n",
    "    mem[cur][prev+1] = count\n",
    "    return mem[cur][prev+1]"
   ]
  },
  {
   "cell_type": "code",
   "execution_count": 59,
   "id": "f2f11c33",
   "metadata": {},
   "outputs": [
    {
     "data": {
      "text/plain": [
       "4"
      ]
     },
     "execution_count": 59,
     "metadata": {},
     "output_type": "execute_result"
    }
   ],
   "source": [
    "nums = [10,9,2,5,3,7,101,18]\n",
    "longestIncreasingSubsequence_mem(nums)"
   ]
  },
  {
   "cell_type": "code",
   "execution_count": 60,
   "id": "499de4ce",
   "metadata": {},
   "outputs": [
    {
     "data": {
      "text/plain": [
       "1"
      ]
     },
     "execution_count": 60,
     "metadata": {},
     "output_type": "execute_result"
    }
   ],
   "source": [
    "nums = [7,7,7,7,7,7,7]\n",
    "longestIncreasingSubsequence_mem(nums)"
   ]
  },
  {
   "cell_type": "markdown",
   "id": "0a9a7800",
   "metadata": {},
   "source": [
    "## DP\n",
    "\n",
    "The above algorithm tells us two things:\n",
    "\n",
    "If the number at the currIndex is bigger than the number at the prevIndex, we increment the count for LIS up to the currIndex.\n",
    "\n",
    "But if there is a bigger LIS without including the number at the currIndex, we take that. \n",
    "\n",
    "So we need to find all the increasing subsequences for the number at index i, from all the previous numbers (i.e. number until index i-1), to eventually find the longest increasing subsequence.\n",
    "\n",
    "If i represents the currIndex and j represents the prevIndex, our recursive formula would look like:\n",
    "\n",
    "    if num[i] > num[j] => dp[i] = dp[j] + 1 if there is no bigger LIS for 'i'"
   ]
  },
  {
   "cell_type": "code",
   "execution_count": 63,
   "id": "5890bc69",
   "metadata": {},
   "outputs": [],
   "source": [
    "def longestIncreasingSubsequence_dp(nums):\n",
    "    n = len(nums)\n",
    "    dp = [1] * n\n",
    "    maxLen = 1\n",
    "    for i in range(n): #Current number\n",
    "        for j in range(i): # Prev number\n",
    "            if nums[i]> nums[j] and dp[i] <= dp[j]:\n",
    "                dp[i] = dp[j] + 1\n",
    "            maxLen = max(maxLen, dp[i])\n",
    "    return maxLen\n",
    "           \n",
    "    \n",
    "                "
   ]
  },
  {
   "cell_type": "code",
   "execution_count": 64,
   "id": "064ff631",
   "metadata": {},
   "outputs": [
    {
     "data": {
      "text/plain": [
       "4"
      ]
     },
     "execution_count": 64,
     "metadata": {},
     "output_type": "execute_result"
    }
   ],
   "source": [
    "nums = [10,9,2,5,3,7,101,18]\n",
    "longestIncreasingSubsequence_dp(nums)"
   ]
  },
  {
   "cell_type": "markdown",
   "id": "e9fb0917",
   "metadata": {},
   "source": [
    "## Binary Search : O(nlogn)\n",
    "Let's construct the idea from following example.\n",
    "\n",
    "Consider the example nums = [2, 6, 8, 3, 4, 5, 1], let's try to build the increasing subsequences starting with an empty one: sub1 = [].\n",
    "\n",
    "Let pick the first element, sub1 = [2].\n",
    "\n",
    "6 is greater than previous number, sub1 = [2, 6]\n",
    "\n",
    "8 is greater than previous number, sub1 = [2, 6, 8]\n",
    "\n",
    "3 is less than previous number, we can't extend the subsequence sub1, but we must keep 3 because in the future there may have the longest subsequence start with [2, 3], sub1 = [2, 6, 8], sub2 = [2, 3].\n",
    "\n",
    "With 4, we can't extend sub1, but we can extend sub2, so sub1 = [2, 6, 8], sub2 = [2, 3, 4].\n",
    "\n",
    "With 5, we can't extend sub1, but we can extend sub2, so sub1 = [2, 6, 8], sub2 = [2, 3, 4, 5].\n",
    "\n",
    "With 1, we can't extend neighter sub1 nor sub2, but we need to keep 1, so sub1 = [2, 6, 8], sub2 = [2, 3, 4, 5], sub3 = [1].\n",
    "\n",
    "Finally, length of longest increase subsequence = len(sub2) = 4.\n",
    "\n",
    "In the above steps, we need to keep different sub arrays (sub1, sub2..., subk) which causes poor performance. \n",
    "\n",
    "But we notice that we can just keep one sub array, when new number x is not greater than the last element of the subsequence sub, we do binary search to find the smallest element >= x in sub, and replace with number x.\n",
    "\n",
    "Let's run that example nums = [2, 6, 8, 3, 4, 5, 1] again:\n",
    "\n",
    "Let pick the first element, sub = [2].\n",
    "\n",
    "6 is greater than previous number, sub = [2, 6]\n",
    "\n",
    "8 is greater than previous number, sub = [2, 6, 8]\n",
    "\n",
    "3 is less than previous number, so we can't extend the subsequence sub. We need to find the smallest number >= \n",
    "3 in sub, it's 6. Then we overwrite it, now sub = [2, 3, 8].\n",
    "\n",
    "4 is less than previous number, so we can't extend the subsequence sub. We overwrite 8 by 4, so sub = [2, 3, 4].\n",
    "\n",
    "5 is greater than previous number, sub = [2, 3, 4, 5].\n",
    "\n",
    "1 is less than previous number, so we can't extend the subsequence sub. We overwrite 2 by 1, so sub = [1, 3, 4, 5].\n",
    "\n",
    "Finally, length of longest increase subsequence = len(sub) = 4."
   ]
  },
  {
   "cell_type": "code",
   "execution_count": 71,
   "id": "935d57be",
   "metadata": {},
   "outputs": [],
   "source": [
    "## It will give you the corrrect length, but it wont give you the right set of increasing numbers.\n",
    "## Look at Longest Increasing Subsequence print problem to print the correct set of numbers.\n",
    "def longestIncreasingSubsequence_bs(nums):\n",
    "    sub = []\n",
    "    for n in nums:\n",
    "        if len(sub)==0 or sub[-1]<n:\n",
    "            sub.append(n)\n",
    "        else:\n",
    "            idx = binarySearch(sub, n) # find smallest number in sub which is greater than n\n",
    "            if sub[idx] < n:\n",
    "                sub[idx + 1] = n\n",
    "            else:\n",
    "                sub[idx] = n\n",
    "    return len(sub)\n",
    "\n",
    "def binarySearch(array, num):\n",
    "    left, right = 0, len(array)-1\n",
    "    while left<= right:\n",
    "        mid = left + (right-left)//2\n",
    "        if array[mid]>num:\n",
    "            right = mid-1\n",
    "        elif array[mid] < num:\n",
    "            left = mid+1\n",
    "        else:\n",
    "            left = mid\n",
    "            break\n",
    "    return left\n",
    "    "
   ]
  },
  {
   "cell_type": "code",
   "execution_count": 72,
   "id": "efc0da4d",
   "metadata": {},
   "outputs": [
    {
     "data": {
      "text/plain": [
       "4"
      ]
     },
     "execution_count": 72,
     "metadata": {},
     "output_type": "execute_result"
    }
   ],
   "source": [
    "nums = [10,9,2,5,3,7,101,18]\n",
    "longestIncreasingSubsequence_bs(nums)"
   ]
  },
  {
   "cell_type": "code",
   "execution_count": 73,
   "id": "8b7c25a8",
   "metadata": {},
   "outputs": [
    {
     "data": {
      "text/plain": [
       "1"
      ]
     },
     "execution_count": 73,
     "metadata": {},
     "output_type": "execute_result"
    }
   ],
   "source": [
    "nums = [7,7,7,7,7,7,7]\n",
    "longestIncreasingSubsequence_bs(nums)"
   ]
  },
  {
   "cell_type": "code",
   "execution_count": 74,
   "id": "a744cbf4",
   "metadata": {},
   "outputs": [
    {
     "data": {
      "text/plain": [
       "4"
      ]
     },
     "execution_count": 74,
     "metadata": {},
     "output_type": "execute_result"
    }
   ],
   "source": [
    "nums = [1,3,5,4,7]\n",
    "longestIncreasingSubsequence_bs(nums)"
   ]
  },
  {
   "cell_type": "code",
   "execution_count": null,
   "id": "382d0661",
   "metadata": {},
   "outputs": [],
   "source": []
  }
 ],
 "metadata": {
  "kernelspec": {
   "display_name": "Python 3",
   "language": "python",
   "name": "python3"
  },
  "language_info": {
   "codemirror_mode": {
    "name": "ipython",
    "version": 3
   },
   "file_extension": ".py",
   "mimetype": "text/x-python",
   "name": "python",
   "nbconvert_exporter": "python",
   "pygments_lexer": "ipython3",
   "version": "3.8.8"
  }
 },
 "nbformat": 4,
 "nbformat_minor": 5
}
