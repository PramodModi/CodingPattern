{
 "cells": [
  {
   "cell_type": "markdown",
   "id": "6fe937cb",
   "metadata": {},
   "source": [
    "## Problem: Subseqence pattern matching\n",
    "\n",
    "Given a string and a pattern, write a method to count the number of times the pattern appears in the string as a subsequence.\n",
    "\n",
    "Example 1:\n",
    "\n",
    "    Input: string: “baxmx”, pattern: “ax”\n",
    "    Output: 2\n",
    "    Explanation: {baxmx, baxmx}.\n",
    "Example 2:\n",
    "\n",
    "    Input: string: “tomorrow”, pattern: “tor”\n",
    "    Output: 4\n",
    "    Explanation: Following are the four occurences: {tomorrow, tomorrow, tomorrow, tomorrow}."
   ]
  },
  {
   "cell_type": "markdown",
   "id": "b494afc8",
   "metadata": {},
   "source": [
    "### Approach:\n",
    "At any index i and j for string and pattern respectively, if letters matches for string and pattern then look at the next indexes of both. Otherwise, just move the next index of string."
   ]
  },
  {
   "cell_type": "code",
   "execution_count": 22,
   "id": "0061d350",
   "metadata": {},
   "outputs": [],
   "source": [
    "def subsequencePatternMatching_rec(string, pattern):\n",
    "    if len(string) < len(pattern):\n",
    "        return 0\n",
    "    return patternMatching_rec(string, pattern , 0, 0)\n",
    "\n",
    "def patternMatching_rec(string, pattern, index1, index2):\n",
    "    if index2 == len(pattern):\n",
    "        return 1\n",
    "    if index1 == len(string):\n",
    "        return 0\n",
    "    count = 0\n",
    "    if string[index1] == pattern[index2]:\n",
    "        count = patternMatching_rec(string, pattern, index1+1, index2+1)\n",
    "    count += patternMatching_rec(string, pattern, index1+1, index2)\n",
    "    return count\n",
    "        "
   ]
  },
  {
   "cell_type": "code",
   "execution_count": 23,
   "id": "cc7212a2",
   "metadata": {},
   "outputs": [
    {
     "data": {
      "text/plain": [
       "2"
      ]
     },
     "execution_count": 23,
     "metadata": {},
     "output_type": "execute_result"
    }
   ],
   "source": [
    "string = \"baxmx\"\n",
    "pattern= \"ax\"\n",
    "subsequencePatternMatching_rec(string, pattern)"
   ]
  },
  {
   "cell_type": "code",
   "execution_count": 24,
   "id": "21150a77",
   "metadata": {},
   "outputs": [
    {
     "data": {
      "text/plain": [
       "4"
      ]
     },
     "execution_count": 24,
     "metadata": {},
     "output_type": "execute_result"
    }
   ],
   "source": [
    "string = \"tomorrow\"\n",
    "pattern= \"tor\"\n",
    "subsequencePatternMatching_rec(string, pattern)"
   ]
  },
  {
   "cell_type": "markdown",
   "id": "0ca4321f",
   "metadata": {},
   "source": [
    "### Memoization"
   ]
  },
  {
   "cell_type": "code",
   "execution_count": 27,
   "id": "3edcfb7b",
   "metadata": {},
   "outputs": [],
   "source": [
    "def subsequencePatternMatching_mem(string, pattern):\n",
    "    if len(string) < len(pattern):\n",
    "        return 0\n",
    "    mem = {}\n",
    "    return patternMatching_mem(string, pattern , 0, 0, mem)\n",
    "\n",
    "def patternMatching_mem(string, pattern, index1, index2,mem):\n",
    "    if index2 == len(pattern):\n",
    "        return 1\n",
    "    if index1 == len(string):\n",
    "        return 0\n",
    "    key = str(index1) + str(index2)\n",
    "    if key in mem:\n",
    "        return mem[key]\n",
    "    count = 0\n",
    "    if string[index1] == pattern[index2]:\n",
    "        count = patternMatching_mem(string, pattern, index1+1, index2+1, mem)\n",
    "    count += patternMatching_mem(string, pattern, index1+1, index2, mem)\n",
    "    mem[key] = count\n",
    "    return mem[key]"
   ]
  },
  {
   "cell_type": "code",
   "execution_count": 28,
   "id": "d9df635d",
   "metadata": {},
   "outputs": [
    {
     "data": {
      "text/plain": [
       "2"
      ]
     },
     "execution_count": 28,
     "metadata": {},
     "output_type": "execute_result"
    }
   ],
   "source": [
    "string = \"baxmx\"\n",
    "pattern= \"ax\"\n",
    "subsequencePatternMatching_mem(string, pattern)"
   ]
  },
  {
   "cell_type": "code",
   "execution_count": 29,
   "id": "30ccc457",
   "metadata": {},
   "outputs": [
    {
     "data": {
      "text/plain": [
       "4"
      ]
     },
     "execution_count": 29,
     "metadata": {},
     "output_type": "execute_result"
    }
   ],
   "source": [
    "string = \"tomorrow\"\n",
    "pattern= \"tor\"\n",
    "subsequencePatternMatching_mem(string, pattern)"
   ]
  },
  {
   "cell_type": "markdown",
   "id": "8d9c167d",
   "metadata": {},
   "source": [
    "## DP"
   ]
  },
  {
   "cell_type": "code",
   "execution_count": 15,
   "id": "c10ee137",
   "metadata": {},
   "outputs": [],
   "source": [
    "def subsequencePatternMatching(string, pattern):\n",
    "    n = len(string)\n",
    "    m = len(pattern)\n",
    "    \n",
    "    dp = [[0]*(m+1) for _ in range(n+1)]\n",
    "    \n",
    "    for i in range(n+1):\n",
    "        dp[i][0] = 1\n",
    "    \n",
    "    for i in range(1, n+1):\n",
    "        for j in range(1, m+1):\n",
    "            if string[i-1] == pattern[j-1]:\n",
    "                dp[i][j] = dp[i-1][j-1]\n",
    "            dp[i][j] += dp[i-1][j]\n",
    "    return dp[-1][-1]\n",
    "    "
   ]
  },
  {
   "cell_type": "code",
   "execution_count": 16,
   "id": "717105c4",
   "metadata": {},
   "outputs": [
    {
     "data": {
      "text/plain": [
       "2"
      ]
     },
     "execution_count": 16,
     "metadata": {},
     "output_type": "execute_result"
    }
   ],
   "source": [
    "string = \"baxmx\"\n",
    "pattern= \"ax\"\n",
    "subsequencePatternMatching(string, pattern)"
   ]
  },
  {
   "cell_type": "code",
   "execution_count": 17,
   "id": "79c784f5",
   "metadata": {},
   "outputs": [
    {
     "data": {
      "text/plain": [
       "4"
      ]
     },
     "execution_count": 17,
     "metadata": {},
     "output_type": "execute_result"
    }
   ],
   "source": [
    "string = \"tomorrow\"\n",
    "pattern= \"tor\"\n",
    "subsequencePatternMatching(string, pattern)"
   ]
  },
  {
   "cell_type": "code",
   "execution_count": null,
   "id": "938fe7c5",
   "metadata": {},
   "outputs": [],
   "source": []
  }
 ],
 "metadata": {
  "kernelspec": {
   "display_name": "Python 3",
   "language": "python",
   "name": "python3"
  },
  "language_info": {
   "codemirror_mode": {
    "name": "ipython",
    "version": 3
   },
   "file_extension": ".py",
   "mimetype": "text/x-python",
   "name": "python",
   "nbconvert_exporter": "python",
   "pygments_lexer": "ipython3",
   "version": "3.8.8"
  }
 },
 "nbformat": 4,
 "nbformat_minor": 5
}
