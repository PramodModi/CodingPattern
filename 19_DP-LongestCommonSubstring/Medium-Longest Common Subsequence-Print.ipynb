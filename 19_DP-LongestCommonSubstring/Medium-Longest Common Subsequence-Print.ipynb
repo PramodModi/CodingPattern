{
 "cells": [
  {
   "cell_type": "markdown",
   "id": "22cc72cf",
   "metadata": {},
   "source": [
    "## Problem: Print Longest Common Subsequence\n",
    "1143. Longest Common Subsequence\n",
    "\n",
    "https://leetcode.com/problems/longest-common-subsequence/\n",
    "\n",
    "Given two strings text1 and text2, return the length of their longest common subsequence. If there is no common subsequence, return 0.\n",
    "\n",
    "A subsequence of a string is a new string generated from the original string with some characters (can be none) deleted without changing the relative order of the remaining characters.\n",
    "\n",
    "For example, \"ace\" is a subsequence of \"abcde\".\n",
    "A common subsequence of two strings is a subsequence that is common to both strings.\n",
    "\n",
    " \n",
    "\n",
    "Example 1:\n",
    "\n",
    "    Input: text1 = \"abcde\", text2 = \"ace\" \n",
    "    Output: ace\n",
    "    Explanation: The longest common subsequence is \"ace\" and its length is 3.\n",
    "Example 2:\n",
    "\n",
    "    Input: text1 = \"abc\", text2 = \"abc\"\n",
    "    Output: abc\n",
    "    Explanation: The longest common subsequence is \"abc\" and its length is 3.\n",
    "Example 3:\n",
    "\n",
    "    Input: text1 = \"abc\", text2 = \"def\"\n",
    "    Output: \"\"\n",
    "    Explanation: There is no such common subsequence, so the result is 0.\n",
    " \n",
    "\n",
    "Constraints:\n",
    "\n",
    "    1 <= text1.length, text2.length <= 1000\n",
    "    text1 and text2 consist of only lowercase English characters."
   ]
  },
  {
   "cell_type": "markdown",
   "id": "edf4a8cb",
   "metadata": {},
   "source": [
    "### Approach:\n",
    "\n",
    "dp stores common as well not common characters from both strings. \n",
    "\n",
    "if current and prev row of a column have same character, then it is not a common character.\n",
    "\n",
    "If current and prev column in a row have same character, then it is not a common character.\n",
    "\n",
    "Otherwise character is a common character.\n",
    "\n",
    "To print the common character, add all common characters in a list then print it.\n"
   ]
  },
  {
   "cell_type": "code",
   "execution_count": 7,
   "id": "3f20ea75",
   "metadata": {},
   "outputs": [],
   "source": [
    "def longestCommonSubsequence_dp(text1, text2):\n",
    "    n = len(text1)\n",
    "    m = len(text2)\n",
    "    dp = [[0] * (m+1) for _ in range(n+1)]\n",
    "    \n",
    "    for i in range(1, n+1):\n",
    "        for j in range(1, m+1):\n",
    "            if text1[i-1] == text2[j-1]:\n",
    "                dp[i][j] = 1 + dp[i-1][j-1]\n",
    "            else:\n",
    "                dp[i][j] = max(dp[i][j-1], dp[i-1][j])\n",
    "    \n",
    "    ## Print the common characters\n",
    "    seq = []\n",
    "    n = len(dp)-1\n",
    "    m = len(dp[0])-1\n",
    "    \n",
    "    while n >0 and m >0:\n",
    "        if dp[n][m] == dp[n-1][m]: # Not a common character. Character belongs to string1\n",
    "            n -= 1\n",
    "        elif dp[n][m] == dp[n][m-1]: # Not a common character. Character belongs to string2\n",
    "            m -=1\n",
    "        else:\n",
    "            seq.append(text1[n-1]) # common character. Character belongs to string1 and string2\n",
    "            n -= 1\n",
    "            m -= 1\n",
    "    seq = list(reversed(seq))\n",
    "    return \"\".join(seq)"
   ]
  },
  {
   "cell_type": "code",
   "execution_count": 8,
   "id": "cec065ec",
   "metadata": {},
   "outputs": [
    {
     "data": {
      "text/plain": [
       "'ace'"
      ]
     },
     "execution_count": 8,
     "metadata": {},
     "output_type": "execute_result"
    }
   ],
   "source": [
    "text1 = \"abcde\"\n",
    "text2 = \"ace\" \n",
    "longestCommonSubsequence_dp(text1, text2)"
   ]
  },
  {
   "cell_type": "code",
   "execution_count": 9,
   "id": "00d01f5e",
   "metadata": {},
   "outputs": [
    {
     "data": {
      "text/plain": [
       "'abc'"
      ]
     },
     "execution_count": 9,
     "metadata": {},
     "output_type": "execute_result"
    }
   ],
   "source": [
    "text1 = \"abc\"\n",
    "text2 = \"abc\"\n",
    "longestCommonSubsequence_dp(text1, text2)"
   ]
  },
  {
   "cell_type": "code",
   "execution_count": 6,
   "id": "a3b51c94",
   "metadata": {},
   "outputs": [
    {
     "data": {
      "text/plain": [
       "''"
      ]
     },
     "execution_count": 6,
     "metadata": {},
     "output_type": "execute_result"
    }
   ],
   "source": [
    "text1 = \"abc\"\n",
    "text2 = \"def\"\n",
    "longestCommonSubsequence_dp(text1, text2)"
   ]
  },
  {
   "cell_type": "code",
   "execution_count": null,
   "id": "98c04d5e",
   "metadata": {},
   "outputs": [],
   "source": []
  }
 ],
 "metadata": {
  "kernelspec": {
   "display_name": "Python 3",
   "language": "python",
   "name": "python3"
  },
  "language_info": {
   "codemirror_mode": {
    "name": "ipython",
    "version": 3
   },
   "file_extension": ".py",
   "mimetype": "text/x-python",
   "name": "python",
   "nbconvert_exporter": "python",
   "pygments_lexer": "ipython3",
   "version": "3.8.8"
  }
 },
 "nbformat": 4,
 "nbformat_minor": 5
}
