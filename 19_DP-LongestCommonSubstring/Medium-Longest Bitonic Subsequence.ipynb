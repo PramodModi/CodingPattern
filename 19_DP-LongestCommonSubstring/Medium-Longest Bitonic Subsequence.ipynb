{
 "cells": [
  {
   "cell_type": "markdown",
   "id": "004f4e6e",
   "metadata": {},
   "source": [
    "## Problem: Longest Bitonic Subsequence\n",
    "\n",
    "Given a number sequence, find the length of its Longest Bitonic Subsequence (LBS). A subsequence is considered bitonic if it is monotonically increasing and then monotonically decreasing.\n",
    "\n",
    "Example 1:\n",
    "\n",
    "    Input: {4,2,3,6,10,1,12}\n",
    "    Output: 5\n",
    "    Explanation: The LBS is {2,3,6,10,1}.\n",
    "Example 2:\n",
    "\n",
    "    Input: {4,2,5,9,7,6,10,3,1}\n",
    "    Output: 7\n",
    "    Explanation: The LBS is {4,5,9,7,6,3,1}."
   ]
  },
  {
   "cell_type": "markdown",
   "id": "6c61176a",
   "metadata": {},
   "source": [
    "### Approach.\n",
    "For each index i, we need to find Longest decreasing subsequence(LDS) in both direction. And then add those lengths. Maximum length would be the output.\n",
    "\n",
    "LDS is very much similar to LIS, only difference is to check current number  < prev number.\n",
    "\n"
   ]
  },
  {
   "cell_type": "markdown",
   "id": "f6add2aa",
   "metadata": {},
   "source": [
    "### Recursion"
   ]
  },
  {
   "cell_type": "code",
   "execution_count": 4,
   "id": "ac55db19",
   "metadata": {},
   "outputs": [],
   "source": [
    "def longestBitonicSubsequence(nums):\n",
    "    maxLen = 0\n",
    "    for i in range(len(nums)):\n",
    "        ldsFwd = longestDecreasingSubsequence_fwd(nums, i, -1)\n",
    "        ldsbackwd = longestDecreasingSubsequence_bckwd(nums, i, -1)\n",
    "        maxLen = max(maxLen, ldsFwd + ldsbackwd-1)\n",
    "    return maxLen\n",
    "\n",
    "\n",
    "def longestDecreasingSubsequence_fwd(nums, current, prev):\n",
    "    if current >= len(nums):\n",
    "        return 0\n",
    "    count = 0\n",
    "    if prev == -1 or nums[current] < nums[prev]:\n",
    "        count = 1 + longestDecreasingSubsequence_fwd(nums, current+1, current)\n",
    "    count = max(count,longestDecreasingSubsequence_fwd(nums, current+1, prev) )\n",
    "    return count\n",
    "\n",
    "def longestDecreasingSubsequence_bckwd(nums, current, prev):\n",
    "    if current < 0:\n",
    "        return 0\n",
    "    count =0\n",
    "    if prev == -1 or nums[current] < nums[prev]:\n",
    "        count = 1 + longestDecreasingSubsequence_bckwd(nums, current-1, current)\n",
    "    count = max(count, longestDecreasingSubsequence_bckwd(nums, current-1, prev))\n",
    "    return count\n",
    "        \n",
    "        "
   ]
  },
  {
   "cell_type": "code",
   "execution_count": 5,
   "id": "5ca7b46a",
   "metadata": {},
   "outputs": [
    {
     "data": {
      "text/plain": [
       "5"
      ]
     },
     "execution_count": 5,
     "metadata": {},
     "output_type": "execute_result"
    }
   ],
   "source": [
    "nums = [4,2,3,6,10,1,12]\n",
    "longestBitonicSubsequence(nums)"
   ]
  },
  {
   "cell_type": "code",
   "execution_count": 6,
   "id": "bd121958",
   "metadata": {},
   "outputs": [
    {
     "data": {
      "text/plain": [
       "7"
      ]
     },
     "execution_count": 6,
     "metadata": {},
     "output_type": "execute_result"
    }
   ],
   "source": [
    "nums = [4,2,5,9,7,6,10,3,1]\n",
    "longestBitonicSubsequence(nums)"
   ]
  },
  {
   "cell_type": "code",
   "execution_count": 11,
   "id": "e357dedd",
   "metadata": {},
   "outputs": [
    {
     "data": {
      "text/plain": [
       "6"
      ]
     },
     "execution_count": 11,
     "metadata": {},
     "output_type": "execute_result"
    }
   ],
   "source": [
    "nums = [1, 11, 2, 10, 4, 5, 2, 1]\n",
    "longestBitonicSubsequence(nums)"
   ]
  },
  {
   "cell_type": "code",
   "execution_count": 13,
   "id": "bb967e43",
   "metadata": {},
   "outputs": [
    {
     "data": {
      "text/plain": [
       "5"
      ]
     },
     "execution_count": 13,
     "metadata": {},
     "output_type": "execute_result"
    }
   ],
   "source": [
    "nums = [80, 60, 30, 40, 20, 10]\n",
    "longestBitonicSubsequence(nums)"
   ]
  },
  {
   "cell_type": "code",
   "execution_count": 16,
   "id": "11eb5b70",
   "metadata": {},
   "outputs": [
    {
     "data": {
      "text/plain": [
       "5"
      ]
     },
     "execution_count": 16,
     "metadata": {},
     "output_type": "execute_result"
    }
   ],
   "source": [
    "nums = [12, 11, 40, 5, 3, 1]\n",
    "longestBitonicSubsequence(nums)"
   ]
  },
  {
   "cell_type": "markdown",
   "id": "437f333a",
   "metadata": {},
   "source": [
    "### Dynamic Programming"
   ]
  },
  {
   "cell_type": "code",
   "execution_count": 40,
   "id": "06221b5d",
   "metadata": {},
   "outputs": [],
   "source": [
    "def longestBitonicSubsequence_dp(nums):\n",
    "    maxLen = 0\n",
    "    for i in range(len(nums)):\n",
    "        ldsFwd = longestDecreasingSubsequence_fdp(nums, i)\n",
    "        ldsbackwd = longestDecreasingSubsequence_bdp(nums, i)\n",
    "        maxLen = max(maxLen, ldsFwd + ldsbackwd-1)\n",
    "    return maxLen\n",
    "\n",
    "def longestDecreasingSubsequence_fdp(nums, index):\n",
    "    n = len(nums)\n",
    "    dp = [1]* n\n",
    "    maxLen =0\n",
    "    for i in range(index,n):\n",
    "        for j in range(i):\n",
    "            if nums[i] < nums[j] and dp[i] <= dp[j]:\n",
    "                dp[i] = 1 + dp[j]\n",
    "        maxLen = max(maxLen, dp[i])\n",
    "    return maxLen\n",
    "\n",
    "def longestDecreasingSubsequence_bdp(nums, index):\n",
    "    n = len(nums)\n",
    "    dp = [1]*n\n",
    "    maxLen = 0\n",
    "    for i in range(index, -1, -1):\n",
    "        for j in range(index-1, i, -1):\n",
    "            if nums[i] < nums[j] and dp[i] <= dp[j]:\n",
    "                dp[i] = 1 + dp[j]\n",
    "        maxLen = max(maxLen, dp[i])\n",
    "    return maxLen\n",
    "                \n",
    "            "
   ]
  },
  {
   "cell_type": "code",
   "execution_count": 41,
   "id": "23ba9123",
   "metadata": {},
   "outputs": [
    {
     "data": {
      "text/plain": [
       "5"
      ]
     },
     "execution_count": 41,
     "metadata": {},
     "output_type": "execute_result"
    }
   ],
   "source": [
    "nums = [4,2,3,6,10,1,12]\n",
    "longestBitonicSubsequence_dp(nums)"
   ]
  },
  {
   "cell_type": "code",
   "execution_count": 42,
   "id": "6a6c27ba",
   "metadata": {},
   "outputs": [
    {
     "data": {
      "text/plain": [
       "7"
      ]
     },
     "execution_count": 42,
     "metadata": {},
     "output_type": "execute_result"
    }
   ],
   "source": [
    "nums = [4,2,5,9,7,6,10,3,1]\n",
    "longestBitonicSubsequence_dp(nums)"
   ]
  },
  {
   "cell_type": "code",
   "execution_count": 43,
   "id": "f6475ff0",
   "metadata": {},
   "outputs": [
    {
     "data": {
      "text/plain": [
       "6"
      ]
     },
     "execution_count": 43,
     "metadata": {},
     "output_type": "execute_result"
    }
   ],
   "source": [
    "nums = [1, 11, 2, 10, 4, 5, 2, 1]\n",
    "longestBitonicSubsequence_dp(nums)"
   ]
  },
  {
   "cell_type": "code",
   "execution_count": 44,
   "id": "f447ff8a",
   "metadata": {},
   "outputs": [
    {
     "data": {
      "text/plain": [
       "5"
      ]
     },
     "execution_count": 44,
     "metadata": {},
     "output_type": "execute_result"
    }
   ],
   "source": [
    "nums = [80, 60, 30, 40, 20, 10]\n",
    "longestBitonicSubsequence_dp(nums)"
   ]
  },
  {
   "cell_type": "code",
   "execution_count": 45,
   "id": "c96db416",
   "metadata": {},
   "outputs": [
    {
     "data": {
      "text/plain": [
       "5"
      ]
     },
     "execution_count": 45,
     "metadata": {},
     "output_type": "execute_result"
    }
   ],
   "source": [
    "nums = [12, 11, 40, 5, 3, 1]\n",
    "longestBitonicSubsequence_dp(nums)"
   ]
  },
  {
   "cell_type": "code",
   "execution_count": null,
   "id": "ca9425db",
   "metadata": {},
   "outputs": [],
   "source": []
  }
 ],
 "metadata": {
  "kernelspec": {
   "display_name": "Python 3",
   "language": "python",
   "name": "python3"
  },
  "language_info": {
   "codemirror_mode": {
    "name": "ipython",
    "version": 3
   },
   "file_extension": ".py",
   "mimetype": "text/x-python",
   "name": "python",
   "nbconvert_exporter": "python",
   "pygments_lexer": "ipython3",
   "version": "3.8.8"
  }
 },
 "nbformat": 4,
 "nbformat_minor": 5
}
