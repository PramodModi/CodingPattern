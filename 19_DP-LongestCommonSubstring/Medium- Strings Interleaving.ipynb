{
 "cells": [
  {
   "cell_type": "markdown",
   "id": "f2783a10",
   "metadata": {},
   "source": [
    "## Problem: Interleaving String\n",
    "LeetCode: 97. Interleaving String\n",
    "\n",
    "https://leetcode.com/problems/interleaving-string/\n",
    "\n",
    "Given strings s1, s2, and s3, find whether s3 is formed by an interleaving of s1 and s2.\n",
    "\n",
    "An interleaving of two strings s and t is a configuration where s and t are divided into n and m \n",
    "substrings respectively, such that:\n",
    "\n",
    "    s = s1 + s2 + ... + sn\n",
    "    t = t1 + t2 + ... + tm\n",
    "    |n - m| <= 1\n",
    "    The interleaving is s1 + t1 + s2 + t2 + s3 + t3 + ... or t1 + s1 + t2 + s2 + t3 + s3 + ...\n",
    "    Note: a + b is the concatenation of strings a and b.\n",
    "\n",
    " \n",
    "\n",
    "Example 1:\n",
    "\n",
    "\n",
    "    Input: s1 = \"aabcc\", s2 = \"dbbca\", s3 = \"aadbbcbcac\"\n",
    "    Output: true\n",
    "    Explanation: One way to obtain s3 is:\n",
    "    Split s1 into s1 = \"aa\" + \"bc\" + \"c\", and s2 into s2 = \"dbbc\" + \"a\".\n",
    "    Interleaving the two splits, we get \"aa\" + \"dbbc\" + \"bc\" + \"a\" + \"c\" = \"aadbbcbcac\".\n",
    "    Since s3 can be obtained by interleaving s1 and s2, we return true.\n",
    "Example 2:\n",
    "\n",
    "    Input: s1 = \"aabcc\", s2 = \"dbbca\", s3 = \"aadbbbaccc\"\n",
    "    Output: false\n",
    "    Explanation: Notice how it is impossible to interleave s2 with any other string to obtain s3.\n",
    "    Example 3:\n",
    "\n",
    "    Input: s1 = \"\", s2 = \"\", s3 = \"\"\n",
    "    Output: true\n",
    " \n",
    "\n",
    "Constraints:\n",
    "\n",
    "    0 <= s1.length, s2.length <= 100\n",
    "    0 <= s3.length <= 200\n",
    "    s1, s2, and s3 consist of lowercase English letters."
   ]
  },
  {
   "cell_type": "markdown",
   "id": "13cf1563",
   "metadata": {},
   "source": [
    "### Approach: \n",
    "Look the letters from s3 and try to match with s1 and s2 one by one. Lets assume, index1, index2 and index3 are current index of s1, s2 and s3 respectively. There are two choices:\n",
    "1. If the letter at index1 matches with letter at index3, then recursively match the remaining of s1 and s3.\n",
    "2. If the letter at index2 matches with letter at index3, then recursively match the remaining of s2 and s3."
   ]
  },
  {
   "cell_type": "code",
   "execution_count": 6,
   "id": "3721ce1e",
   "metadata": {},
   "outputs": [],
   "source": [
    "def interleaving(s1, s2, s3):\n",
    "    return interleaving_rec(s1,s2,s3, 0,0,0)\n",
    "\n",
    "def interleaving_rec(s1,s2,s3, index1, index2, index3):\n",
    "    if index1 == len(s1) and index2 == len(s2) and index3 == len(s3):\n",
    "        return True\n",
    "    if index3 == len(s3):\n",
    "        return False\n",
    "    s1MatchesS3 = False\n",
    "    s2MatchesS3 = False\n",
    "    if index1 < len(s1) and s1[index1] == s3[index3]:\n",
    "        s1MatchesS3 = interleaving_rec(s1,s2,s3, index1+1, index2, index3+1)\n",
    "    if index2 < len(s2) and s2[index2] == s3[index3]:\n",
    "        s2MatchesS3 = interleaving_rec(s1,s2,s3, index1, index2+1, index3+1)\n",
    "    return s1MatchesS3 or s2MatchesS3\n",
    "        \n",
    "    "
   ]
  },
  {
   "cell_type": "code",
   "execution_count": 7,
   "id": "29f205de",
   "metadata": {},
   "outputs": [
    {
     "data": {
      "text/plain": [
       "True"
      ]
     },
     "execution_count": 7,
     "metadata": {},
     "output_type": "execute_result"
    }
   ],
   "source": [
    "s1 = \"aabcc\"\n",
    "s2 = \"dbbca\"\n",
    "s3 = \"aadbbcbcac\"\n",
    "interleaving(s1, s2, s3)"
   ]
  },
  {
   "cell_type": "code",
   "execution_count": 8,
   "id": "d236ed60",
   "metadata": {},
   "outputs": [
    {
     "data": {
      "text/plain": [
       "False"
      ]
     },
     "execution_count": 8,
     "metadata": {},
     "output_type": "execute_result"
    }
   ],
   "source": [
    "s1 = \"aabcc\"\n",
    "s2 = \"dbbca\"\n",
    "s3 = \"aadbbbaccc\"\n",
    "interleaving(s1, s2, s3)"
   ]
  },
  {
   "cell_type": "code",
   "execution_count": 9,
   "id": "51821c2f",
   "metadata": {},
   "outputs": [
    {
     "data": {
      "text/plain": [
       "True"
      ]
     },
     "execution_count": 9,
     "metadata": {},
     "output_type": "execute_result"
    }
   ],
   "source": [
    "s1=\"abcdef\"\n",
    "s2=\"mnop\"\n",
    "s3=\"mnaobcdepf\"\n",
    "interleaving(s1, s2, s3)"
   ]
  },
  {
   "cell_type": "markdown",
   "id": "33719589",
   "metadata": {},
   "source": [
    "### Memoization"
   ]
  },
  {
   "cell_type": "code",
   "execution_count": 11,
   "id": "7d2e54a1",
   "metadata": {},
   "outputs": [],
   "source": [
    "def interleaving_mem(s1, s2, s3):\n",
    "    mem = {}\n",
    "    return interleavingmem_rec(s1,s2,s3, 0,0,0, mem)\n",
    "\n",
    "def interleavingmem_rec(s1,s2,s3, index1, index2, index3, mem):\n",
    "    if index1 == len(s1) and index2 == len(s2) and index3 == len(s3):\n",
    "        return True\n",
    "    if index3 == len(s3):\n",
    "        return False\n",
    "    key = str(index1) + str(index2) + str(index3)\n",
    "    if key in mem:\n",
    "        return mem[key]\n",
    "    s1MatchesS3 = False\n",
    "    s2MatchesS3 = False\n",
    "    if index1 < len(s1) and s1[index1] == s3[index3]:\n",
    "        s1MatchesS3 = interleavingmem_rec(s1,s2,s3, index1+1, index2, index3+1, mem)\n",
    "    if index2 < len(s2) and s2[index2] == s3[index3]:\n",
    "        s2MatchesS3 = interleavingmem_rec(s1,s2,s3, index1, index2+1, index3+1, mem)\n",
    "    mem[key] = s1MatchesS3 or s2MatchesS3\n",
    "    return mem[key]"
   ]
  },
  {
   "cell_type": "code",
   "execution_count": 12,
   "id": "11cf74be",
   "metadata": {},
   "outputs": [
    {
     "data": {
      "text/plain": [
       "True"
      ]
     },
     "execution_count": 12,
     "metadata": {},
     "output_type": "execute_result"
    }
   ],
   "source": [
    "s1 = \"aabcc\"\n",
    "s2 = \"dbbca\"\n",
    "s3 = \"aadbbcbcac\"\n",
    "interleaving_mem(s1, s2, s3)"
   ]
  },
  {
   "cell_type": "code",
   "execution_count": 13,
   "id": "ce3db1dc",
   "metadata": {},
   "outputs": [
    {
     "data": {
      "text/plain": [
       "False"
      ]
     },
     "execution_count": 13,
     "metadata": {},
     "output_type": "execute_result"
    }
   ],
   "source": [
    "s1 = \"aabcc\"\n",
    "s2 = \"dbbca\"\n",
    "s3 = \"aadbbbaccc\"\n",
    "interleaving_mem(s1, s2, s3)"
   ]
  },
  {
   "cell_type": "code",
   "execution_count": 14,
   "id": "d38ce5a4",
   "metadata": {},
   "outputs": [
    {
     "data": {
      "text/plain": [
       "True"
      ]
     },
     "execution_count": 14,
     "metadata": {},
     "output_type": "execute_result"
    }
   ],
   "source": [
    "s1=\"abcdef\"\n",
    "s2=\"mnop\"\n",
    "s3=\"mnaobcdepf\"\n",
    "interleaving_mem(s1, s2, s3)"
   ]
  },
  {
   "cell_type": "markdown",
   "id": "e1c42052",
   "metadata": {},
   "source": [
    "### DP"
   ]
  },
  {
   "cell_type": "code",
   "execution_count": 71,
   "id": "a5f21e3a",
   "metadata": {},
   "outputs": [],
   "source": [
    "def interleaving_dp(s1, s2, s3):\n",
    "    n = len(s1)\n",
    "    m = len(s2)\n",
    "    p = len(s3)\n",
    "    if p != n+m:\n",
    "        return False\n",
    "    dp = [[False] * (m+1) for _ in range(n+1)]\n",
    "        \n",
    "    for i in range(0, n+1):\n",
    "        for j in range(0, m+1):\n",
    "            if i == 0 and j == 0:\n",
    "                dp[i][j] = True\n",
    "            elif i == 0 and s2[j-1] == s3[i+j-1]:\n",
    "                dp[i][j] = dp[i][j-1]\n",
    "            elif j == 0 and s1[i-1] == s3[i+j-1]:\n",
    "                dp[i][j] = dp[i-1][j]\n",
    "            else:\n",
    "                if i > 0 and s1[i-1] == s3[i+j-1]:\n",
    "                    dp[i][j] = dp[i-1][j]\n",
    "                if j > 0 and s2[j-1] == s3[i+j-1]:\n",
    "                    dp[i][j] = dp[i][j] or dp[i][j-1]\n",
    "    return dp[-1][-1]\n",
    "            \n",
    "        "
   ]
  },
  {
   "cell_type": "code",
   "execution_count": 72,
   "id": "bd6b24bb",
   "metadata": {},
   "outputs": [
    {
     "data": {
      "text/plain": [
       "True"
      ]
     },
     "execution_count": 72,
     "metadata": {},
     "output_type": "execute_result"
    }
   ],
   "source": [
    "s1 = \"aabcc\"\n",
    "s2 = \"dbbca\"\n",
    "s3 = \"aadbbcbcac\"\n",
    "interleaving_dp(s1, s2, s3)"
   ]
  },
  {
   "cell_type": "code",
   "execution_count": 73,
   "id": "47d44a32",
   "metadata": {},
   "outputs": [
    {
     "data": {
      "text/plain": [
       "False"
      ]
     },
     "execution_count": 73,
     "metadata": {},
     "output_type": "execute_result"
    }
   ],
   "source": [
    "s1 = \"aabcc\"\n",
    "s2 = \"dbbca\"\n",
    "s3 = \"aadbbbaccc\"\n",
    "interleaving_dp(s1, s2, s3)"
   ]
  },
  {
   "cell_type": "code",
   "execution_count": 74,
   "id": "b3dbe859",
   "metadata": {},
   "outputs": [
    {
     "data": {
      "text/plain": [
       "True"
      ]
     },
     "execution_count": 74,
     "metadata": {},
     "output_type": "execute_result"
    }
   ],
   "source": [
    "s1=\"abcdef\"\n",
    "s2=\"mnop\"\n",
    "s3=\"mnaobcdepf\"\n",
    "interleaving_dp(s1, s2, s3)"
   ]
  },
  {
   "cell_type": "code",
   "execution_count": 75,
   "id": "cf9a2cc0",
   "metadata": {},
   "outputs": [
    {
     "data": {
      "text/plain": [
       "True"
      ]
     },
     "execution_count": 75,
     "metadata": {},
     "output_type": "execute_result"
    }
   ],
   "source": [
    "s1=\"\"\n",
    "s2=\"\"\n",
    "s3=\"\"\n",
    "interleaving_dp(s1, s2, s3)"
   ]
  },
  {
   "cell_type": "code",
   "execution_count": 76,
   "id": "69055559",
   "metadata": {},
   "outputs": [
    {
     "data": {
      "text/plain": [
       "True"
      ]
     },
     "execution_count": 76,
     "metadata": {},
     "output_type": "execute_result"
    }
   ],
   "source": [
    "s1=\"ab\"\n",
    "s2=\"bc\"\n",
    "s3=\"babc\"\n",
    "interleaving_dp(s1, s2, s3)"
   ]
  },
  {
   "cell_type": "code",
   "execution_count": 77,
   "id": "744a2c12",
   "metadata": {},
   "outputs": [
    {
     "data": {
      "text/plain": [
       "False"
      ]
     },
     "execution_count": 77,
     "metadata": {},
     "output_type": "execute_result"
    }
   ],
   "source": [
    "s1=\"db\"\n",
    "s2=\"b\"\n",
    "s3=\"cbb\"\n",
    "interleaving_dp(s1, s2, s3)"
   ]
  },
  {
   "cell_type": "code",
   "execution_count": null,
   "id": "43c40c23",
   "metadata": {},
   "outputs": [],
   "source": []
  }
 ],
 "metadata": {
  "kernelspec": {
   "display_name": "Python 3",
   "language": "python",
   "name": "python3"
  },
  "language_info": {
   "codemirror_mode": {
    "name": "ipython",
    "version": 3
   },
   "file_extension": ".py",
   "mimetype": "text/x-python",
   "name": "python",
   "nbconvert_exporter": "python",
   "pygments_lexer": "ipython3",
   "version": "3.8.8"
  }
 },
 "nbformat": 4,
 "nbformat_minor": 5
}
