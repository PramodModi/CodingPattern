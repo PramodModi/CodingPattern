{
 "cells": [
  {
   "cell_type": "markdown",
   "id": "66ff0c4c",
   "metadata": {},
   "source": [
    "## Problem: Find all missing numbers\n",
    "LeetCode: 448. Find All Numbers Disappeared in an Array\n",
    "\n",
    "https://leetcode.com/problems/find-all-numbers-disappeared-in-an-array/\n",
    "\n",
    "Given an array nums of n integers where nums[i] is in the range [1, n], return an array of all the integers in the range [1, n] that do not appear in nums.\n",
    "\n",
    " \n",
    "\n",
    "Example 1:\n",
    "\n",
    "    Input: nums = [4,3,2,7,8,2,3,1]\n",
    "    Output: [5,6]\n",
    "Example 2:\n",
    "\n",
    "    Input: nums = [1,1]\n",
    "    Output: [2]\n",
    " \n",
    "\n",
    "Constraints:\n",
    "\n",
    "    n == nums.length\n",
    "    1 <= n <= 105\n",
    "    1 <= nums[i] <= n\n"
   ]
  },
  {
   "cell_type": "markdown",
   "id": "28effcce",
   "metadata": {},
   "source": [
    "### Approach:\n",
    "Steps are very much same as find first missing number. https://github.com/PramodModi/CodingPattern/blob/main/06_CyclicSort/Easy-Find%20the%20missing%20number.ipynb\n",
    "\n",
    "Here, in place of return for 1st missing number, store all missing numbers.\n",
    "\n",
    "One more important point, numbers are in the range on length of array, so we do not have to check if number is bigger than length of array.\n",
    "\n",
    "In \"first missing number\" problem, numbers were ranging from 0, however, in this problem numbers are range from 1. So carefull for indexing."
   ]
  },
  {
   "cell_type": "code",
   "execution_count": 5,
   "id": "51012e4d",
   "metadata": {},
   "outputs": [],
   "source": [
    "def findDisappearedNumbers(nums):\n",
    "    n = len(nums)\n",
    "    i = 0\n",
    "    while i < n:\n",
    "        j = nums[i] - 1\n",
    "        if nums[i] != nums[j]:\n",
    "            nums[i], nums[j] = nums[j], nums[i]\n",
    "        else:\n",
    "            i += 1\n",
    "    result = []\n",
    "    for i in range(n):\n",
    "        if nums[i] != i+1:\n",
    "            result.append(i+1)\n",
    "    return result"
   ]
  },
  {
   "cell_type": "code",
   "execution_count": 6,
   "id": "88346b1b",
   "metadata": {},
   "outputs": [
    {
     "data": {
      "text/plain": [
       "[5, 6]"
      ]
     },
     "execution_count": 6,
     "metadata": {},
     "output_type": "execute_result"
    }
   ],
   "source": [
    "nums = [4,3,2,7,8,2,3,1]\n",
    "findDisappearedNumbers(nums)"
   ]
  },
  {
   "cell_type": "code",
   "execution_count": 7,
   "id": "039a3ec1",
   "metadata": {},
   "outputs": [
    {
     "data": {
      "text/plain": [
       "[2]"
      ]
     },
     "execution_count": 7,
     "metadata": {},
     "output_type": "execute_result"
    }
   ],
   "source": [
    "nums = [1,1]\n",
    "findDisappearedNumbers(nums)"
   ]
  },
  {
   "cell_type": "code",
   "execution_count": null,
   "id": "09526280",
   "metadata": {},
   "outputs": [],
   "source": []
  },
  {
   "cell_type": "code",
   "execution_count": null,
   "id": "965bbc60",
   "metadata": {},
   "outputs": [],
   "source": []
  }
 ],
 "metadata": {
  "kernelspec": {
   "display_name": "Python 3",
   "language": "python",
   "name": "python3"
  },
  "language_info": {
   "codemirror_mode": {
    "name": "ipython",
    "version": 3
   },
   "file_extension": ".py",
   "mimetype": "text/x-python",
   "name": "python",
   "nbconvert_exporter": "python",
   "pygments_lexer": "ipython3",
   "version": "3.8.8"
  }
 },
 "nbformat": 4,
 "nbformat_minor": 5
}
