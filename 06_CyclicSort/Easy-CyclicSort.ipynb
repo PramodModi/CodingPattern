{
 "cells": [
  {
   "cell_type": "markdown",
   "id": "b4d369bb",
   "metadata": {},
   "source": [
    "## Problem: CyclicSort\n",
    "\n",
    "We are given an array containing n objects. Each object, when created, was assigned a unique number from 1 to n based on their creation sequence. This means that the object with sequence number 3 was created just before the object with sequence number 4.\n",
    "\n",
    "Write a function to sort the objects in-place on their creation sequence number in O(n) and without any extra space.\n",
    "\n",
    "For simplicity, let’s assume we are passed an integer array containing only the sequence numbers, though each number is actually an object. As we know, the input array contains numbers in the range of 1 to n. We can use this fact to devise an efficient way to sort the numbers. Since all numbers are unique, we can try placing each number at its correct place, i.e., placing 1 at index 0, placing 2 at index 1, and so on.\n",
    "\n",
    "Example1:\n",
    "\n",
    "    nums: [3, 1, 5, 4, 2]\n",
    "    output: [1,2,3,4,5]\n",
    "    \n",
    "Example2:\n",
    "\n",
    "    nums: [2, 6, 4, 3, 1, 5]\n",
    "    output: [1,2,3,4,5,6]\n",
    "    \n",
    "Example3:\n",
    "    \n",
    "    nums: [1, 5, 6, 4, 3, 2]\n",
    "    output : [1,2,3,4,5,6]"
   ]
  },
  {
   "cell_type": "markdown",
   "id": "7f60053a",
   "metadata": {},
   "source": [
    "### Approach:\n",
    "\n",
    "#### What is Cyclic sort pattern: \n",
    "This pattern describes an interesting approach to deal with problems involving arrays containing numbers in a given range.\n",
    "\n",
    "<b> For example, take the following problem:</b>\n",
    "\n",
    "    You are given an unsorted array containing numbers taken from the range 1 to n The array can have duplicates, which means that some numbers will be missing. Find all the missing numbers.\n",
    "\n",
    "To efficiently solve this problem, we can use the fact that the input array contains numbers in the range of 1 to n. For example, to efficiently sort the array, we can try placing each number in its correct place, i.e., placing 1 at index 0, placing 2 at index 1, and so on. Once we are done with the sorting, we can iterate the array to find all indices that are missing the correct numbers. These will be our required numbers.\n",
    "\n",
    "Steps:\n",
    "\n",
    "    we iterate the array one number at a time, and if the current number we are iterating is not at the correct index, we swap it with the number at its correct index. This way we will go through all numbers and place them in their correct indices, hence, sorting the whole array.\n"
   ]
  },
  {
   "cell_type": "code",
   "execution_count": 6,
   "id": "38a7d3c7",
   "metadata": {},
   "outputs": [],
   "source": [
    "def cyclicSort(nums):\n",
    "    i = 0\n",
    "    while i < len(nums):\n",
    "        j = nums[i]-1\n",
    "        if nums[i] != nums[j]:\n",
    "            nums[i], nums[j] = nums[j], nums[i]\n",
    "        else:\n",
    "            i += 1\n",
    "    return nums\n",
    "        "
   ]
  },
  {
   "cell_type": "code",
   "execution_count": 7,
   "id": "10c36289",
   "metadata": {},
   "outputs": [
    {
     "data": {
      "text/plain": [
       "[1, 2, 3, 4, 5, 6]"
      ]
     },
     "execution_count": 7,
     "metadata": {},
     "output_type": "execute_result"
    }
   ],
   "source": [
    "nums = [1, 5, 6, 4, 3, 2]\n",
    "cyclicSort(nums)"
   ]
  },
  {
   "cell_type": "code",
   "execution_count": 8,
   "id": "97297cae",
   "metadata": {},
   "outputs": [
    {
     "data": {
      "text/plain": [
       "[1, 2, 3, 4, 5]"
      ]
     },
     "execution_count": 8,
     "metadata": {},
     "output_type": "execute_result"
    }
   ],
   "source": [
    "nums = [3, 1, 5, 4, 2]\n",
    "cyclicSort(nums)"
   ]
  },
  {
   "cell_type": "code",
   "execution_count": null,
   "id": "d2d4370c",
   "metadata": {},
   "outputs": [],
   "source": []
  }
 ],
 "metadata": {
  "kernelspec": {
   "display_name": "Python 3",
   "language": "python",
   "name": "python3"
  },
  "language_info": {
   "codemirror_mode": {
    "name": "ipython",
    "version": 3
   },
   "file_extension": ".py",
   "mimetype": "text/x-python",
   "name": "python",
   "nbconvert_exporter": "python",
   "pygments_lexer": "ipython3",
   "version": "3.8.8"
  }
 },
 "nbformat": 4,
 "nbformat_minor": 5
}
