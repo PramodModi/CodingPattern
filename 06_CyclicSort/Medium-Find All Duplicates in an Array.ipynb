{
 "cells": [
  {
   "cell_type": "markdown",
   "id": "65da7a62",
   "metadata": {},
   "source": [
    "## Problem: Find All Duplicates in an Array\n",
    "LeetCode: 442. Find All Duplicates in an Array\n",
    "\n",
    "https://leetcode.com/problems/find-all-duplicates-in-an-array/description/\n",
    "\n",
    "Given an integer array nums of length n where all the integers of nums are in the range [1, n] and each integer appears once or twice, return an array of all the integers that appears twice.\n",
    "\n",
    "You must write an algorithm that runs in O(n) time and uses only constant extra space.\n",
    "\n",
    " \n",
    "\n",
    "Example 1:\n",
    "\n",
    "    Input: nums = [4,3,2,7,8,2,3,1]\n",
    "    Output: [2,3]\n",
    "Example 2:\n",
    "\n",
    "    Input: nums = [1,1,2]\n",
    "    Output: [1]\n",
    "Example 3:\n",
    "\n",
    "    Input: nums = [1]\n",
    "    Output: []\n"
   ]
  },
  {
   "cell_type": "markdown",
   "id": "6adf882c",
   "metadata": {},
   "source": [
    "### Approach: \n",
    "\n",
    "Steps are very much same as find first missing number. https://github.com/PramodModi/CodingPattern/blob/main/06_CyclicSort/Easy-Find%20the%20missing%20number.ipynb\n",
    "\n",
    "Here, in place of return for 1st missing number, store all missing numbers.\n",
    "\n",
    "One more important point, numbers are in the range on length of array, so we do not have to check if number is bigger than length of array.\n",
    "\n",
    "In \"first missing number\" problem, numbers were ranging from 0, however, in this problem numbers are range from 1. So carefull for indexing."
   ]
  },
  {
   "cell_type": "code",
   "execution_count": 1,
   "id": "566dbba8",
   "metadata": {},
   "outputs": [],
   "source": [
    "def findDuplicates(nums):\n",
    "    i = 0\n",
    "    while i < len(nums):\n",
    "        j = nums[i]-1\n",
    "        if nums[i] != nums[j]: \n",
    "            nums[i], nums[j] = nums[j], nums[i]\n",
    "        else:\n",
    "            i += 1\n",
    "    result = []\n",
    "    i = 0\n",
    "    while i < len(nums):\n",
    "        if nums[i] != i+1:\n",
    "            result.append(nums[i])\n",
    "        i += 1\n",
    "    return result"
   ]
  },
  {
   "cell_type": "code",
   "execution_count": 2,
   "id": "ee8600c1",
   "metadata": {},
   "outputs": [
    {
     "data": {
      "text/plain": [
       "[3, 2]"
      ]
     },
     "execution_count": 2,
     "metadata": {},
     "output_type": "execute_result"
    }
   ],
   "source": [
    "nums = [4,3,2,7,8,2,3,1]\n",
    "findDuplicates(nums)"
   ]
  },
  {
   "cell_type": "code",
   "execution_count": 3,
   "id": "4f744ae7",
   "metadata": {},
   "outputs": [
    {
     "data": {
      "text/plain": [
       "[1]"
      ]
     },
     "execution_count": 3,
     "metadata": {},
     "output_type": "execute_result"
    }
   ],
   "source": [
    "nums = [1,1,2]\n",
    "findDuplicates(nums)"
   ]
  },
  {
   "cell_type": "code",
   "execution_count": null,
   "id": "5bdaaafc",
   "metadata": {},
   "outputs": [],
   "source": []
  }
 ],
 "metadata": {
  "kernelspec": {
   "display_name": "Python 3",
   "language": "python",
   "name": "python3"
  },
  "language_info": {
   "codemirror_mode": {
    "name": "ipython",
    "version": 3
   },
   "file_extension": ".py",
   "mimetype": "text/x-python",
   "name": "python",
   "nbconvert_exporter": "python",
   "pygments_lexer": "ipython3",
   "version": "3.8.8"
  }
 },
 "nbformat": 4,
 "nbformat_minor": 5
}
