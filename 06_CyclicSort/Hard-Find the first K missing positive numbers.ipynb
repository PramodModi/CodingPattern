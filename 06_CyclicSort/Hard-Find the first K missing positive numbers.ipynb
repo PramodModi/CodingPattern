{
 "cells": [
  {
   "cell_type": "markdown",
   "id": "42bf338c",
   "metadata": {},
   "source": [
    "## Problem: Find the first K missing positive numbers\n",
    "\n",
    "LeetCode: No\n",
    "\n",
    "Given an unsorted array containing numbers and a number ‘k’, find the first ‘k’ missing positive numbers in the array.\n",
    "\n",
    "Example 1:\n",
    "\n",
    "    Input: [3, -1, 4, 5, 5], k=3\n",
    "    Output: [1, 2, 6]\n",
    "    Explanation: The smallest missing positive numbers are 1, 2 and 6.\n",
    "Example 2:\n",
    "\n",
    "    Input: [2, 3, 4], k=3\n",
    "    Output: [1, 5, 6]\n",
    "    Explanation: The smallest missing positive numbers are 1, 5 and 6.\n",
    "Example 3:\n",
    "\n",
    "    Input: [-2, -3, 4], k=2\n",
    "    Output: [1, 2]\n",
    "    Explanation: The smallest missing positive numbers are 1 and 2."
   ]
  },
  {
   "cell_type": "markdown",
   "id": "31e67b51",
   "metadata": {},
   "source": [
    "### Approach: \n",
    "As we need to find first K missing numbers, we can be look the numbers in the range from 1 to n, where n is the length of array. Now, as number range is fixed from 1 to n, this problem belongs to Cyclic Sort pattern. By using cyclic Sort, will place all numbers at the right index. Iterate the array, misssing number is the index, where number is not equal to the index where it should supppose to be. Means nums[index] != index.\n",
    "\n",
    "Numbers in array can be negative and positive even more than size of array length.\n",
    "\n",
    "    Example, array: [1,0,20], here number range is from 0 to 20, but array length = 3. \n",
    "So, while sorting the array, we shold consider number which are below length of array and positive number only.\n",
    "\n",
    "Since, we are considering range [1, n] so, always consider index = nums[i]-1\n",
    "\n",
    "Post sorting, iterate the array and store missing number. \n",
    "\n",
    "However, there is possibility to have lesser than K numbers missing in the range of n. So we need to add numbers beyond n to have K missing numbers."
   ]
  },
  {
   "cell_type": "code",
   "execution_count": 3,
   "id": "ede207ed",
   "metadata": {},
   "outputs": [],
   "source": [
    "def findFirstKMissingPositive(nums, k):\n",
    "    i = 0\n",
    "    n = len(nums)\n",
    "    \n",
    "    while i < n:\n",
    "        j = nums[i]-1\n",
    "        if nums[i] > 0 and nums[i] <=n and nums[i] != nums[j]:\n",
    "            nums[i], nums[j] = nums[j], nums[i]\n",
    "        else:\n",
    "            i += 1\n",
    "    \n",
    "    result = []\n",
    "    numbers = set()\n",
    "    \n",
    "    for i in range(n):\n",
    "        if nums[i] != i+1:\n",
    "            if len(result) < k:\n",
    "                result.append(i+1)\n",
    "                numbers.add(nums[i])\n",
    "    j = n + 1\n",
    "    while len(result) < k:\n",
    "        if j not in numbers:\n",
    "            result.append(j)\n",
    "            numbers.add(j)\n",
    "        j += 1\n",
    "    return result\n",
    "        "
   ]
  },
  {
   "cell_type": "code",
   "execution_count": 4,
   "id": "7e3ea14c",
   "metadata": {},
   "outputs": [
    {
     "data": {
      "text/plain": [
       "[1, 2, 6]"
      ]
     },
     "execution_count": 4,
     "metadata": {},
     "output_type": "execute_result"
    }
   ],
   "source": [
    "nums = [3, -1, 4, 5, 5]\n",
    "k=3\n",
    "findFirstKMissingPositive(nums, k)"
   ]
  },
  {
   "cell_type": "code",
   "execution_count": 5,
   "id": "6d1fb0e6",
   "metadata": {},
   "outputs": [
    {
     "data": {
      "text/plain": [
       "[1, 5, 6]"
      ]
     },
     "execution_count": 5,
     "metadata": {},
     "output_type": "execute_result"
    }
   ],
   "source": [
    "nums = [2, 3, 4]\n",
    "k=3\n",
    "findFirstKMissingPositive(nums, k)"
   ]
  },
  {
   "cell_type": "code",
   "execution_count": 6,
   "id": "a98bd9f1",
   "metadata": {},
   "outputs": [
    {
     "data": {
      "text/plain": [
       "[1, 2]"
      ]
     },
     "execution_count": 6,
     "metadata": {},
     "output_type": "execute_result"
    }
   ],
   "source": [
    "nums = [-2, -3, 4]\n",
    "k=2\n",
    "findFirstKMissingPositive(nums, k)"
   ]
  },
  {
   "cell_type": "code",
   "execution_count": 7,
   "id": "a7346e8d",
   "metadata": {},
   "outputs": [
    {
     "data": {
      "text/plain": [
       "[4, 7]"
      ]
     },
     "execution_count": 7,
     "metadata": {},
     "output_type": "execute_result"
    }
   ],
   "source": [
    "nums = [2, 1, 3, 6, 5]\n",
    "k=2\n",
    "findFirstKMissingPositive(nums, k)"
   ]
  },
  {
   "cell_type": "code",
   "execution_count": null,
   "id": "07a41e88",
   "metadata": {},
   "outputs": [],
   "source": []
  }
 ],
 "metadata": {
  "kernelspec": {
   "display_name": "Python 3",
   "language": "python",
   "name": "python3"
  },
  "language_info": {
   "codemirror_mode": {
    "name": "ipython",
    "version": 3
   },
   "file_extension": ".py",
   "mimetype": "text/x-python",
   "name": "python",
   "nbconvert_exporter": "python",
   "pygments_lexer": "ipython3",
   "version": "3.8.8"
  }
 },
 "nbformat": 4,
 "nbformat_minor": 5
}
