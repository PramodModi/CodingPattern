{
 "cells": [
  {
   "cell_type": "markdown",
   "id": "702be9e3",
   "metadata": {},
   "source": [
    "## Problem: Missing Number\n",
    "LeetCode: 268. Missing Number\n",
    "https://leetcode.com/problems/missing-number/description/\n",
    "\n",
    "Given an array nums containing n distinct numbers in the range [0, n], return the only number in the range that is missing from the array.\n",
    "\n",
    "Basically return the first missing number.\n",
    "\n",
    "Example 1:\n",
    "\n",
    "    Input: nums = [3,0,1]\n",
    "    Output: 2\n",
    "    Explanation: n = 3 since there are 3 numbers, so all numbers are in the range [0,3]. 2 is the missing number in the range since it does not appear in nums.\n",
    "Example 2:\n",
    "\n",
    "    Input: nums = [0,1]\n",
    "    Output: 2\n",
    "    Explanation: n = 2 since there are 2 numbers, so all numbers are in the range [0,2]. 2 is the missing number in the range since it does not appear in nums.\n",
    "Example 3:\n",
    "\n",
    "    Input: nums = [9,6,4,2,3,5,7,0,1]\n",
    "    Output: 8\n",
    "    Explanation: n = 9 since there are 9 numbers, so all numbers are in the range [0,9]. 8 is the missing number in the range since it does not appear in nums.\n",
    " \n",
    "\n",
    "Constraints:\n",
    "\n",
    "    n == nums.length\n",
    "    1 <= n <= 104\n",
    "    0 <= nums[i] <= n\n",
    "    All the numbers of nums are unique."
   ]
  },
  {
   "cell_type": "markdown",
   "id": "8db2ddc1",
   "metadata": {},
   "source": [
    "### Approach:\n",
    "As the number range is given, so this problem belongs to Cyclic Sort pattern. By using cyclic Sort, will place all numbers at the right index. Iterate the array, misssing number is the index, where number is not equal to the index where it is. Means nums[index] != index.\n",
    "\n",
    "Since number range can be 0 to M, however, array leangth can be 0 to N. Example, array: [1,0,20], here number range is from 0 to 20, but array length = 3. So, while sorting the array, we shold consider number which are below length of array.\n",
    "\n",
    "Ex:\n",
    "\n",
    "    array = [1,0,20]\n",
    "    sort = [0,1, 20]\n",
    "    \n",
    "    First missing number = 2. As, at index 2, number is 20 not 2."
   ]
  },
  {
   "cell_type": "code",
   "execution_count": 2,
   "id": "4db04f08",
   "metadata": {},
   "outputs": [],
   "source": [
    "def missingNumber(nums):\n",
    "    n = len(nums)\n",
    "    i = 0\n",
    "    while i < len(nums):\n",
    "        if nums[i] < n and nums[i] != i:\n",
    "            j = nums[i]\n",
    "            nums[i], nums[j] = nums[j], nums[i]\n",
    "        else:\n",
    "            i += 1\n",
    "    for i in range(n):\n",
    "        if nums[i] != i:\n",
    "            return i\n",
    "    return n"
   ]
  },
  {
   "cell_type": "code",
   "execution_count": 3,
   "id": "0029a390",
   "metadata": {},
   "outputs": [
    {
     "data": {
      "text/plain": [
       "2"
      ]
     },
     "execution_count": 3,
     "metadata": {},
     "output_type": "execute_result"
    }
   ],
   "source": [
    "nums = [1,0,20]\n",
    "missingNumber(nums)"
   ]
  },
  {
   "cell_type": "code",
   "execution_count": 4,
   "id": "7ae7c069",
   "metadata": {},
   "outputs": [
    {
     "data": {
      "text/plain": [
       "2"
      ]
     },
     "execution_count": 4,
     "metadata": {},
     "output_type": "execute_result"
    }
   ],
   "source": [
    "nums = [3,0,1]\n",
    "missingNumber(nums)"
   ]
  },
  {
   "cell_type": "code",
   "execution_count": 5,
   "id": "d73a6bc5",
   "metadata": {},
   "outputs": [
    {
     "data": {
      "text/plain": [
       "2"
      ]
     },
     "execution_count": 5,
     "metadata": {},
     "output_type": "execute_result"
    }
   ],
   "source": [
    "nums = [0,1]\n",
    "missingNumber(nums)"
   ]
  },
  {
   "cell_type": "code",
   "execution_count": 6,
   "id": "a45d7938",
   "metadata": {},
   "outputs": [
    {
     "data": {
      "text/plain": [
       "8"
      ]
     },
     "execution_count": 6,
     "metadata": {},
     "output_type": "execute_result"
    }
   ],
   "source": [
    "nums = [9,6,4,2,3,5,7,0,1]\n",
    "missingNumber(nums)"
   ]
  },
  {
   "cell_type": "code",
   "execution_count": null,
   "id": "6aa3a26b",
   "metadata": {},
   "outputs": [],
   "source": []
  }
 ],
 "metadata": {
  "kernelspec": {
   "display_name": "Python 3",
   "language": "python",
   "name": "python3"
  },
  "language_info": {
   "codemirror_mode": {
    "name": "ipython",
    "version": 3
   },
   "file_extension": ".py",
   "mimetype": "text/x-python",
   "name": "python",
   "nbconvert_exporter": "python",
   "pygments_lexer": "ipython3",
   "version": "3.8.8"
  }
 },
 "nbformat": 4,
 "nbformat_minor": 5
}
