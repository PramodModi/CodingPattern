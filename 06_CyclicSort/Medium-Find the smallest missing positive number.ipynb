{
 "cells": [
  {
   "cell_type": "markdown",
   "id": "aadc5cbc",
   "metadata": {},
   "source": [
    "## Problem: Find the smallest missing positive number\n",
    "LeetCode: 41. First Missing Positive\n",
    "\n",
    "https://leetcode.com/problems/first-missing-positive/description/\n",
    "\n",
    "Given an unsorted integer array nums, return the smallest missing positive integer.\n",
    "\n",
    "You must implement an algorithm that runs in O(n) time and uses O(1) auxiliary space.\n",
    "\n",
    " \n",
    "\n",
    "Example 1:\n",
    "\n",
    "    Input: nums = [1,2,0]\n",
    "    Output: 3\n",
    "    Explanation: The numbers in the range [1,2] are all in the array.\n",
    "Example 2:\n",
    "\n",
    "    Input: nums = [3,4,-1,1]\n",
    "    Output: 2\n",
    "    Explanation: 1 is in the array but 2 is missing.\n",
    "Example 3:\n",
    "\n",
    "    Input: nums = [7,8,9,11,12]\n",
    "    Output: 1\n",
    "    Explanation: The smallest positive integer 1 is missing.\n",
    "\n",
    "\n",
    "Constraints:\n",
    "\n",
    "    1 <= nums.length <= 105\n",
    "    -231 <= nums[i] <= 231 - 1"
   ]
  },
  {
   "cell_type": "markdown",
   "id": "17a4e522",
   "metadata": {},
   "source": [
    "### Approach:\n",
    "\n",
    "As we need to find minimum positive small number, we can be look the number in the range from 1 to n, where n is the length of array. Now, as number range is fixed from 1 to n, this problem belongs to Cyclic Sort pattern. By using cyclic Sort, will place all numbers at the right index. Iterate the array, misssing number is the index, where number is not equal to the index where it should supppose to be. Means nums[index] != index.\n",
    "\n",
    "Numbers in array can be negative and positive even more than size of array length.\n",
    "\n",
    "    Example, array: [1,0,20], here number range is from 0 to 20, but array length = 3. \n",
    "So, while sorting the array, we shold consider number which are below length of array and positive number only.\n",
    "\n",
    "Ex:\n",
    "\n",
    "    array = [1,0,20]\n",
    "    sort = [0,1, 20]\n",
    "    \n",
    "    First missing number = 2. As, at index 2, number is 20 not 2.\n",
    "\n",
    "Since, we are considering range [1, n] so, always consider index = nums[i]-1"
   ]
  },
  {
   "cell_type": "code",
   "execution_count": 9,
   "id": "d2a0bae8",
   "metadata": {},
   "outputs": [],
   "source": [
    "def firstMissingPositive(nums):\n",
    "    i = 0\n",
    "    n = len(nums)\n",
    "    while i < n:\n",
    "        j = nums[i] -1\n",
    "        if nums[i] > 0 and nums[i] <= n and nums[i] != nums[j]:\n",
    "            nums[i], nums[j] = nums[j], nums[i]\n",
    "        else:\n",
    "            i += 1\n",
    "    print(nums)\n",
    "    for i in range(n):\n",
    "        if nums[i] != i+1:\n",
    "            return i+1\n",
    "    return n+1"
   ]
  },
  {
   "cell_type": "code",
   "execution_count": 10,
   "id": "f2454b92",
   "metadata": {},
   "outputs": [
    {
     "name": "stdout",
     "output_type": "stream",
     "text": [
      "[1, 2, 0]\n"
     ]
    },
    {
     "data": {
      "text/plain": [
       "3"
      ]
     },
     "execution_count": 10,
     "metadata": {},
     "output_type": "execute_result"
    }
   ],
   "source": [
    "nums = [1,2,0]\n",
    "firstMissingPositive(nums)"
   ]
  },
  {
   "cell_type": "code",
   "execution_count": 11,
   "id": "dac87d4c",
   "metadata": {},
   "outputs": [
    {
     "name": "stdout",
     "output_type": "stream",
     "text": [
      "[1, -1, 3, 4]\n"
     ]
    },
    {
     "data": {
      "text/plain": [
       "2"
      ]
     },
     "execution_count": 11,
     "metadata": {},
     "output_type": "execute_result"
    }
   ],
   "source": [
    "nums = [3,4,-1,1]\n",
    "firstMissingPositive(nums)"
   ]
  },
  {
   "cell_type": "code",
   "execution_count": 12,
   "id": "0b03536f",
   "metadata": {},
   "outputs": [
    {
     "name": "stdout",
     "output_type": "stream",
     "text": [
      "[7, 8, 9, 11, 12]\n"
     ]
    },
    {
     "data": {
      "text/plain": [
       "1"
      ]
     },
     "execution_count": 12,
     "metadata": {},
     "output_type": "execute_result"
    }
   ],
   "source": [
    "nums = [7,8,9,11,12]\n",
    "firstMissingPositive(nums)"
   ]
  },
  {
   "cell_type": "code",
   "execution_count": null,
   "id": "dfcdb2ac",
   "metadata": {},
   "outputs": [],
   "source": []
  },
  {
   "cell_type": "code",
   "execution_count": null,
   "id": "670f8bd3",
   "metadata": {},
   "outputs": [],
   "source": []
  }
 ],
 "metadata": {
  "kernelspec": {
   "display_name": "Python 3",
   "language": "python",
   "name": "python3"
  },
  "language_info": {
   "codemirror_mode": {
    "name": "ipython",
    "version": 3
   },
   "file_extension": ".py",
   "mimetype": "text/x-python",
   "name": "python",
   "nbconvert_exporter": "python",
   "pygments_lexer": "ipython3",
   "version": "3.8.8"
  }
 },
 "nbformat": 4,
 "nbformat_minor": 5
}
