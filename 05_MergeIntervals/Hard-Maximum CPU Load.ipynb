{
 "cells": [
  {
   "cell_type": "markdown",
   "id": "cbf4681d",
   "metadata": {},
   "source": [
    "## Problem: Maximum CPU Load\n",
    "\n",
    "We are given a list of Jobs. Each job has a Start time, an End time, and a CPU load when it is running. Our goal is to find the maximum CPU load at any time if all the jobs are running on the same machine.\n",
    "\n",
    "Example 1:\n",
    "\n",
    "    Jobs: [[1,4,3], [2,5,4], [7,9,6]]\n",
    "    Output: 7\n",
    "    Explanation: Since [1,4,3] and [2,5,4] overlap, their maximum CPU load (3+4=7) will be when both the jobs are running at the same time i.e., during the time interval (2,4).\n",
    "Example 2:\n",
    "\n",
    "    Jobs: [[6,7,10], [2,4,11], [8,12,15]]\n",
    "    Output: 15"
   ]
  },
  {
   "cell_type": "markdown",
   "id": "b2905bcb",
   "metadata": {},
   "source": [
    "### Approach:\n",
    "This is actually a merge interval problem. While merging the intervals, add CPU load for overlapped intrvals. That is the max CPU load during overload period between two intervals.\n",
    "Once merged, then find the max CPU overload.\n",
    "\n",
    "To know the steps of merge interval, visit \"https://github.com/PramodModi/CodingPattern/blob/main/05_MergeIntervals/Medium-%20Merge%20Intervals.ipynb\"\n",
    "\n"
   ]
  },
  {
   "cell_type": "code",
   "execution_count": 11,
   "id": "724ad36e",
   "metadata": {},
   "outputs": [],
   "source": [
    "def maxCPULoad(jobs):\n",
    "    jobs.sort() # Sort based on start time\n",
    "    job = jobs[0]\n",
    "    \n",
    "    mergeJobs = []\n",
    "    \n",
    "    for i in range(1, len(jobs)):\n",
    "        if job[1] > jobs[i][0]:\n",
    "            job = [job[0], max(job[1], jobs[i][1]), job[2] + jobs[i][2]]\n",
    "        else:\n",
    "            mergeJobs.append(job)\n",
    "            job = jobs[i]\n",
    "    mergeJobs.append(job)\n",
    "    maxCPU = max(job[2] for job in mergeJobs)\n",
    "    return maxCPU\n",
    "        \n",
    "        \n",
    "    "
   ]
  },
  {
   "cell_type": "code",
   "execution_count": 12,
   "id": "858bc212",
   "metadata": {},
   "outputs": [
    {
     "data": {
      "text/plain": [
       "7"
      ]
     },
     "execution_count": 12,
     "metadata": {},
     "output_type": "execute_result"
    }
   ],
   "source": [
    "jobs = [[1,4,3], [2,5,4], [7,9,6]]\n",
    "maxCPULoad(jobs)"
   ]
  },
  {
   "cell_type": "code",
   "execution_count": 13,
   "id": "3dd2b9c1",
   "metadata": {},
   "outputs": [
    {
     "data": {
      "text/plain": [
       "15"
      ]
     },
     "execution_count": 13,
     "metadata": {},
     "output_type": "execute_result"
    }
   ],
   "source": [
    "jobs = [[6,7,10], [2,4,11], [8,12,15]]\n",
    "maxCPULoad(jobs)"
   ]
  },
  {
   "cell_type": "code",
   "execution_count": null,
   "id": "fe632e34",
   "metadata": {},
   "outputs": [],
   "source": []
  }
 ],
 "metadata": {
  "kernelspec": {
   "display_name": "Python 3",
   "language": "python",
   "name": "python3"
  },
  "language_info": {
   "codemirror_mode": {
    "name": "ipython",
    "version": 3
   },
   "file_extension": ".py",
   "mimetype": "text/x-python",
   "name": "python",
   "nbconvert_exporter": "python",
   "pygments_lexer": "ipython3",
   "version": "3.8.8"
  }
 },
 "nbformat": 4,
 "nbformat_minor": 5
}
