{
 "cells": [
  {
   "cell_type": "markdown",
   "id": "334d17a7",
   "metadata": {},
   "source": [
    "## Problem: Employee Free Time\n",
    "\n",
    "LeetCode: https://leetcode.com/problems/employee-free-time/\n",
    "\n",
    "We are given a list schedule of employees, which represents the working time for each employee.\n",
    "\n",
    "Each employee has a list of non-overlapping Intervals, and these intervals are in sorted order.\n",
    "\n",
    "Return the list of finite intervals representing common, positive-length free time for all employees, also in sorted order.\n",
    "\n",
    "Example 1:\n",
    "\n",
    "    Input: schedule = [[[1,2],[5,6]],[[1,3]],[[4,10]]]\n",
    "    Output: [[3,4]]\n",
    "    Explanation:\n",
    "    There are a total of three employees, and all common\n",
    "    free time intervals would be [-inf, 1], [3, 4], [10, inf].\n",
    "    We discard any intervals that contain inf as they aren't finite.\n",
    " \n",
    "\n",
    "Example 2:\n",
    "\n",
    "    Input: schedule = [[[1,3],[6,7]],[[2,4]],[[2,5],[9,12]]]\n",
    "    Output: [[5,6],[7,9]]\n",
    "\n",
    "Example 3:\n",
    "    \n",
    "    Input: Employee Working Hours=[[[1,3], [5,6]], [[2,3], [6,8]]]\n",
    "    Output: [3,5]\n",
    "    Explanation: All the employees are free between [3,5].\n",
    "\n",
    "Example 2:\n",
    "\n",
    "    Input: Employee Working Hours=[[[1,3], [9,12]], [[2,4]], [[6,8]]]\n",
    "    Output: [4,6], [8,9]"
   ]
  },
  {
   "cell_type": "code",
   "execution_count": null,
   "id": "d116a37f",
   "metadata": {},
   "outputs": [],
   "source": [
    "import heapq\n",
    "def findEmployeeFreeTime(schedules):\n",
    "    minHeap = []\n",
    "    k = len(schedules)\n",
    "    for i in range"
   ]
  }
 ],
 "metadata": {
  "kernelspec": {
   "display_name": "Python 3",
   "language": "python",
   "name": "python3"
  },
  "language_info": {
   "codemirror_mode": {
    "name": "ipython",
    "version": 3
   },
   "file_extension": ".py",
   "mimetype": "text/x-python",
   "name": "python",
   "nbconvert_exporter": "python",
   "pygments_lexer": "ipython3",
   "version": "3.8.8"
  }
 },
 "nbformat": 4,
 "nbformat_minor": 5
}
