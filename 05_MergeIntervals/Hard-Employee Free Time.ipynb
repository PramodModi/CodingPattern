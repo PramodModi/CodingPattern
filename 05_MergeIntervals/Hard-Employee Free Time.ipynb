{
 "cells": [
  {
   "cell_type": "markdown",
   "id": "334d17a7",
   "metadata": {},
   "source": [
    "## Problem: Employee Free Time\n",
    "\n",
    "LeetCode: https://leetcode.com/problems/employee-free-time/\n",
    "\n",
    "We are given a list schedule of employees, which represents the working time for each employee.\n",
    "\n",
    "Each employee has a list of non-overlapping Intervals, and these intervals are in sorted order.\n",
    "\n",
    "Return the list of finite intervals representing common, positive-length free time for all employees, also in sorted order.\n",
    "\n",
    "Example 1:\n",
    "\n",
    "    Input: schedule = [[[1,2],[5,6]],[[1,3]],[[4,10]]]\n",
    "    Output: [[3,4]]\n",
    "    Explanation:\n",
    "    There are a total of three employees, and all common\n",
    "    free time intervals would be [-inf, 1], [3, 4], [10, inf].\n",
    "    We discard any intervals that contain inf as they aren't finite.\n",
    " \n",
    "\n",
    "Example 2:\n",
    "\n",
    "    Input: schedule = [[[1,3],[6,7]],[[2,4]],[[2,5],[9,12]]]\n",
    "    Output: [[5,6],[7,9]]\n",
    "\n",
    "Example 3:\n",
    "    \n",
    "    Input: Employee Working Hours=[[[1,3], [5,6]], [[2,3], [6,8]]]\n",
    "    Output: [3,5]\n",
    "    Explanation: All the employees are free between [3,5].\n",
    "\n",
    "Example 2:\n",
    "\n",
    "    Input: Employee Working Hours=[[[1,3], [9,12]], [[2,4]], [[6,8]]]\n",
    "    Output: [4,6], [8,9]"
   ]
  },
  {
   "cell_type": "markdown",
   "id": "d636f13c",
   "metadata": {},
   "source": [
    "### Approach:\n",
    "Basically we need to find the non overlap time in this problem. One solution is that, merge all schedule in a one list, sort the list based on start time. Iterate the list if end time of prev interval is smaller than start time of next interval, that is the free time. \n",
    "\n",
    "    Ex: [[[1,3], [9,12]], [[2,4]], [[6,8]]] \n",
    "    Merge the list: [[1,3],[9,12],[2,4],[6,8]] \n",
    "    Sort based on start time: [[1,3],[2,4],[6,8],[9,12]] \n",
    "    Iterate and get the free time when end time of prev is smaller than start time of next.\n",
    "    Result = [[4,6],[8,9]]\n",
    "\n",
    "Here, we did not use the extra information provided, that each list is already sorted. Basically this problem is similar to merge the sorted list.\n",
    "\n",
    "We will use Min Heap . As lists are sorted, insert first element from all lists. Popup first element, store it called prevInterval. Compare prevInterval with next from heap. Store the free time, if prevInterval end time is lesser than next Interval start time. Push the interval from the list, from where popped interval belongs to. Minheap should sort based on start time of interval.\n",
    "\n",
    "So, push tuple (startTime, interval position in the list, list index). After popping element from heap. Based on interval position and list index, you can get the interval for comparision, and insert next interval from the list index if there are. If not, then pop the next element from list and repeat the same till heap is empty."
   ]
  },
  {
   "cell_type": "code",
   "execution_count": 1,
   "id": "d116a37f",
   "metadata": {},
   "outputs": [],
   "source": [
    "import heapq\n",
    "def findEmployeeFreeTime(schedule):\n",
    "    minHeap = []\n",
    "    k = len(schedule)\n",
    "    for i in range(k):\n",
    "        heapq.heappush(minHeap, (schedule[i][0][0], 0, i))\n",
    "    prevInterval = None\n",
    "    result = []\n",
    "    while minHeap:\n",
    "        element = minHeap[0]\n",
    "        heapq.heappop(minHeap)\n",
    "        employeeIndex = element[2]\n",
    "        schedulePos = element[1]\n",
    "        interval = schedule[employeeIndex][schedulePos]\n",
    "        if not prevInterval:\n",
    "            prevInterval = interval\n",
    "        else:\n",
    "            if interval[0] - prevInterval[1] > 0:\n",
    "                result.append([prevInterval[1], interval[0]])\n",
    "            prevInterval = interval\n",
    "        nextPos = schedulePos+1\n",
    "        if nextPos < len(schedule[employeeIndex]):\n",
    "            heapq.heappush(minHeap, (schedule[employeeIndex][nextPos][0], nextPos, employeeIndex))\n",
    "    return result       \n",
    "    "
   ]
  },
  {
   "cell_type": "code",
   "execution_count": 2,
   "id": "d896ce3f",
   "metadata": {},
   "outputs": [
    {
     "data": {
      "text/plain": [
       "[[3, 4]]"
      ]
     },
     "execution_count": 2,
     "metadata": {},
     "output_type": "execute_result"
    }
   ],
   "source": [
    "schedule = [[[1,2],[5,6]],[[1,3]],[[4,10]]]\n",
    "findEmployeeFreeTime(schedule)"
   ]
  },
  {
   "cell_type": "code",
   "execution_count": 3,
   "id": "580b3865",
   "metadata": {},
   "outputs": [
    {
     "data": {
      "text/plain": [
       "[[5, 6], [7, 9]]"
      ]
     },
     "execution_count": 3,
     "metadata": {},
     "output_type": "execute_result"
    }
   ],
   "source": [
    "schedule = [[[1,3],[6,7]],[[2,4]],[[2,5],[9,12]]]\n",
    "findEmployeeFreeTime(schedule)"
   ]
  },
  {
   "cell_type": "code",
   "execution_count": 4,
   "id": "51b4297d",
   "metadata": {},
   "outputs": [
    {
     "data": {
      "text/plain": [
       "[[4, 6], [8, 9]]"
      ]
     },
     "execution_count": 4,
     "metadata": {},
     "output_type": "execute_result"
    }
   ],
   "source": [
    "schedule =[[[1,3], [9,12]], [[2,4]], [[6,8]]]\n",
    "findEmployeeFreeTime(schedule)"
   ]
  },
  {
   "cell_type": "code",
   "execution_count": null,
   "id": "60781f56",
   "metadata": {},
   "outputs": [],
   "source": []
  }
 ],
 "metadata": {
  "kernelspec": {
   "display_name": "Python 3",
   "language": "python",
   "name": "python3"
  },
  "language_info": {
   "codemirror_mode": {
    "name": "ipython",
    "version": 3
   },
   "file_extension": ".py",
   "mimetype": "text/x-python",
   "name": "python",
   "nbconvert_exporter": "python",
   "pygments_lexer": "ipython3",
   "version": "3.8.8"
  }
 },
 "nbformat": 4,
 "nbformat_minor": 5
}
