{
 "cells": [
  {
   "cell_type": "markdown",
   "id": "c79c53a3",
   "metadata": {},
   "source": [
    "## Problem:  Merge Intervals\n",
    "LeetCode: 56. Merge Intervals\n",
    "\n",
    "https://leetcode.com/problems/merge-intervals/\n",
    "\n",
    "Given an array of intervals where intervals[i] = [starti, endi], merge all overlapping intervals, and return an array of the non-overlapping intervals that cover all the intervals in the input.\n",
    "\n",
    " \n",
    "\n",
    "Example 1:\n",
    "\n",
    "    Input: intervals = [[1,3],[2,6],[8,10],[15,18]]\n",
    "    Output: [[1,6],[8,10],[15,18]]\n",
    "    Explanation: Since intervals [1,3] and [2,6] overlap, merge them into [1,6].\n",
    "Example 2:\n",
    "\n",
    "    Input: intervals = [[1,4],[4,5]]\n",
    "    Output: [[1,5]]\n",
    "    Explanation: Intervals [1,4] and [4,5] are considered overlapping.\n",
    " \n",
    "\n",
    "Constraints:\n",
    "\n",
    "    1 <= intervals.length <= 104\n",
    "    intervals[i].length == 2\n",
    "    0 <= starti <= endi <= 104"
   ]
  },
  {
   "cell_type": "markdown",
   "id": "1ce0c26c",
   "metadata": {},
   "source": [
    "### Approach:\n",
    "The Goal is to merge the intervals when they are overlapped. So, first we need to find the overlap. If there are two intervals a and b and intervals are sorted with start time. Then Condition of overlap is a.end >= b.start. That means, 2nd interval (b) starts before ending of 1st interval(a), so both intervals need to be merged.\n",
    "Ex: a = [1,3] b = [2, 4] , here a.end > b.start, so merged both. merged intrval = [1, 4].\n",
    "Merged interval = [a.start, max(a.end, b.end)] \n",
    "\n",
    "Steps:\n",
    "1. sort the intervals with start time. Python by default sort based on 1st value in pair.\n",
    "2. compare current interval with previous interval\n",
    "3. If overlapped then merge both as mentioned above\n",
    "4. If not then store it in output list."
   ]
  },
  {
   "cell_type": "code",
   "execution_count": 5,
   "id": "861343f8",
   "metadata": {},
   "outputs": [],
   "source": [
    "def merge(intervals):\n",
    "    intervals.sort()\n",
    "    result  = []\n",
    "    interval = intervals[0]\n",
    "    for i in range(1, len(intervals)):\n",
    "        if interval[1] >= intervals[i][0]:\n",
    "            interval = [interval[0], max(interval[1], intervals[i][1])]\n",
    "        else:\n",
    "            result.append(interval)\n",
    "            interval = intervals[i]\n",
    "    result.append(interval)\n",
    "    return result"
   ]
  },
  {
   "cell_type": "code",
   "execution_count": 6,
   "id": "8a6d9e01",
   "metadata": {},
   "outputs": [
    {
     "data": {
      "text/plain": [
       "[[1, 6], [8, 10], [15, 18]]"
      ]
     },
     "execution_count": 6,
     "metadata": {},
     "output_type": "execute_result"
    }
   ],
   "source": [
    "intervals = [[1,3],[2,6],[8,10],[15,18]]\n",
    "merge(intervals)"
   ]
  },
  {
   "cell_type": "code",
   "execution_count": 7,
   "id": "bc6310d8",
   "metadata": {},
   "outputs": [
    {
     "data": {
      "text/plain": [
       "[[1, 5]]"
      ]
     },
     "execution_count": 7,
     "metadata": {},
     "output_type": "execute_result"
    }
   ],
   "source": [
    "intervals = [[1,4],[4,5]]\n",
    "merge(intervals)"
   ]
  },
  {
   "cell_type": "code",
   "execution_count": null,
   "id": "1dc41830",
   "metadata": {},
   "outputs": [],
   "source": []
  }
 ],
 "metadata": {
  "kernelspec": {
   "display_name": "Python 3",
   "language": "python",
   "name": "python3"
  },
  "language_info": {
   "codemirror_mode": {
    "name": "ipython",
    "version": 3
   },
   "file_extension": ".py",
   "mimetype": "text/x-python",
   "name": "python",
   "nbconvert_exporter": "python",
   "pygments_lexer": "ipython3",
   "version": "3.8.8"
  }
 },
 "nbformat": 4,
 "nbformat_minor": 5
}
