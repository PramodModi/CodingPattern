{
 "cells": [
  {
   "cell_type": "markdown",
   "id": "9f456656",
   "metadata": {},
   "source": [
    "## Problem: Conflicting Appointments\n",
    "\n",
    "https://leetcode.com/problems/meeting-rooms/\n",
    "\n",
    "Given an array of intervals representing ‘N’ appointments, find out if a person can attend all the appointments.\n",
    "\n",
    "Example 1:\n",
    "\n",
    "    Appointments: [[1,4], [2,5], [7,9]]\n",
    "    Output: false\n",
    "    Explanation: Since [1,4] and [2,5] overlap, a person cannot attend both of these appointments.\n",
    "Example 2:\n",
    "\n",
    "    Appointments: [[6,7], [2,4], [8,12]]\n",
    "    Output: true\n",
    "    Explanation: None of the appointments overlap, therefore a person can attend all of them.\n",
    "Example 3:\n",
    "\n",
    "    Appointments: [[4,5], [2,3], [3,6]]\n",
    "    Output: false\n"
   ]
  },
  {
   "cell_type": "code",
   "execution_count": 1,
   "id": "8072494d",
   "metadata": {},
   "outputs": [],
   "source": [
    "def canAttendAllAppointments(appointments):\n",
    "    appointments.sort()\n",
    "    for i in range(1, len(appointments)):\n",
    "        if appointments[i-1][1] > appointments[i][0]:\n",
    "            return False\n",
    "    return True\n",
    "    "
   ]
  },
  {
   "cell_type": "code",
   "execution_count": 2,
   "id": "53d8bc54",
   "metadata": {},
   "outputs": [
    {
     "data": {
      "text/plain": [
       "False"
      ]
     },
     "execution_count": 2,
     "metadata": {},
     "output_type": "execute_result"
    }
   ],
   "source": [
    "appointments = [[1,4], [2,5], [7,9]]\n",
    "canAttendAllAppointments(appointments)"
   ]
  },
  {
   "cell_type": "code",
   "execution_count": 3,
   "id": "32dc4e4d",
   "metadata": {},
   "outputs": [
    {
     "data": {
      "text/plain": [
       "True"
      ]
     },
     "execution_count": 3,
     "metadata": {},
     "output_type": "execute_result"
    }
   ],
   "source": [
    "appointments = [[6,7], [2,4], [8,12]]\n",
    "canAttendAllAppointments(appointments)"
   ]
  },
  {
   "cell_type": "code",
   "execution_count": null,
   "id": "04f96030",
   "metadata": {},
   "outputs": [],
   "source": []
  }
 ],
 "metadata": {
  "kernelspec": {
   "display_name": "Python 3",
   "language": "python",
   "name": "python3"
  },
  "language_info": {
   "codemirror_mode": {
    "name": "ipython",
    "version": 3
   },
   "file_extension": ".py",
   "mimetype": "text/x-python",
   "name": "python",
   "nbconvert_exporter": "python",
   "pygments_lexer": "ipython3",
   "version": "3.8.8"
  }
 },
 "nbformat": 4,
 "nbformat_minor": 5
}
