{
 "cells": [
  {
   "cell_type": "markdown",
   "id": "78e7594b",
   "metadata": {},
   "source": [
    "## Problem: Car Pooling\n",
    "Leetcode: 1094. Car Pooling\n",
    "\n",
    "https://leetcode.com/problems/car-pooling/\n",
    "\n",
    "There is a car with capacity empty seats. The vehicle only drives east (i.e., it cannot turn around and drive west).\n",
    "\n",
    "You are given the integer capacity and an array trips where trips[i] = [numPassengersi, fromi, toi] indicates that the ith trip has numPassengersi passengers and the locations to pick them up and drop them off are fromi and toi respectively. The locations are given as the number of kilometers due east from the car's initial location.\n",
    "\n",
    "Return true if it is possible to pick up and drop off all passengers for all the given trips, or false otherwise.\n",
    "\n",
    " \n",
    "\n",
    "Example 1:\n",
    "\n",
    "    Input: trips = [[2,1,5],[3,3,7]], capacity = 4\n",
    "    Output: false\n",
    "Example 2:\n",
    "\n",
    "    Input: trips = [[2,1,5],[3,3,7]], capacity = 5\n",
    "    Output: true\n",
    " \n",
    "\n",
    "Constraints:\n",
    "\n",
    "    1 <= trips.length <= 1000\n",
    "    trips[i].length == 3\n",
    "    1 <= numPassengersi <= 100\n",
    "    0 <= fromi < toi <= 1000\n",
    "    1 <= capacity <= 105"
   ]
  },
  {
   "cell_type": "markdown",
   "id": "a51cfedf",
   "metadata": {},
   "source": [
    "### Approach:\n",
    "We need to find total number of Passengers during all trips. Passenger will get down (reduce number of passenger) when trip is over. Passenger will get in when trip start. passenger will keep adding even during overlap of trip.\n",
    "\n",
    "Keep checking the number of passenger, if number of passenger is greater than capacity then return False.\n",
    "\n",
    "Steps:\n",
    "1. Sort the trips based on start time.\n",
    "2. Number of passenfer = 1st trip's passenger.\n",
    "3. As we need to reduce number of passengers on trip end, so somehow we must keep track of end trip. Also, not necessary that trip which will start first will end first. \n",
    "4. Keep end trip in minheap, to get the latest end trip. Also, we need to reduce the number of passenger, so need to keep number of passenger boarded in that trip as well.\n",
    "    minHeap will have (endTrip, numberOfpassengerBoarded). MinHeap will sort based on endTrip.\n",
    "    \n",
    " 5. Before start the trip, check if the first trip itself has passnger more than capacity, if yes then return False. This is the edge case.\n",
    " 6. There is a possibility that there are multiple end trip in the minHeap, which is smaller than current trip. So, need to reduce all pagengers in ended trip.\n",
    " 7. So, use while loop and remove such end trip from min heap.\n",
    " "
   ]
  },
  {
   "cell_type": "code",
   "execution_count": 17,
   "id": "3b5961a3",
   "metadata": {},
   "outputs": [],
   "source": [
    "import heapq\n",
    "def carPooling(trips, capacity):\n",
    "    trips.sort(key = lambda x: x[1])\n",
    "    trip = []\n",
    "    heapq.heappush(trip, (trips[0][2], trips[0][0]))\n",
    "    numPassengers = trips[0][0]\n",
    "    if numPassengers > capacity:\n",
    "        return False\n",
    "    for i in range(1, len(trips)):\n",
    "        while trip and trip[0][0] <= trips[i][1]:\n",
    "            numPassengers -= trip[0][1]\n",
    "            heapq.heappop(trip)\n",
    "        numPassengers += trips[i][0]\n",
    "        if numPassengers > capacity:\n",
    "            return False\n",
    "        heapq.heappush(trip, (trips[i][2], trips[i][0]))\n",
    "    return True"
   ]
  },
  {
   "cell_type": "code",
   "execution_count": 18,
   "id": "ac3508f5",
   "metadata": {},
   "outputs": [
    {
     "data": {
      "text/plain": [
       "True"
      ]
     },
     "execution_count": 18,
     "metadata": {},
     "output_type": "execute_result"
    }
   ],
   "source": [
    "trips =[[3,2,7],[3,7,9],[8,3,9]]\n",
    "capacity = 11\n",
    "carPooling(trips, capacity)"
   ]
  },
  {
   "cell_type": "code",
   "execution_count": 19,
   "id": "d18aafbf",
   "metadata": {},
   "outputs": [
    {
     "data": {
      "text/plain": [
       "True"
      ]
     },
     "execution_count": 19,
     "metadata": {},
     "output_type": "execute_result"
    }
   ],
   "source": [
    "trips =[[3,2,7],[3,7,9],[8,3,9]]\n",
    "capacity = 11\n",
    "carPooling(trips, capacity)"
   ]
  },
  {
   "cell_type": "code",
   "execution_count": 20,
   "id": "ee0b501c",
   "metadata": {},
   "outputs": [
    {
     "data": {
      "text/plain": [
       "True"
      ]
     },
     "execution_count": 20,
     "metadata": {},
     "output_type": "execute_result"
    }
   ],
   "source": [
    "trips =[[3,2,8],[4,4,6],[10,8,9]]\n",
    "capacity = 11\n",
    "carPooling(trips, capacity)"
   ]
  },
  {
   "cell_type": "code",
   "execution_count": 16,
   "id": "aae1be75",
   "metadata": {},
   "outputs": [
    {
     "data": {
      "text/plain": [
       "False"
      ]
     },
     "execution_count": 16,
     "metadata": {},
     "output_type": "execute_result"
    }
   ],
   "source": [
    "trips = [[9,0,1],[3,3,7]]\n",
    "capacity = 4\n",
    "carPooling(trips, capacity)"
   ]
  },
  {
   "cell_type": "code",
   "execution_count": null,
   "id": "5e885bae",
   "metadata": {},
   "outputs": [],
   "source": []
  }
 ],
 "metadata": {
  "kernelspec": {
   "display_name": "Python 3",
   "language": "python",
   "name": "python3"
  },
  "language_info": {
   "codemirror_mode": {
    "name": "ipython",
    "version": 3
   },
   "file_extension": ".py",
   "mimetype": "text/x-python",
   "name": "python",
   "nbconvert_exporter": "python",
   "pygments_lexer": "ipython3",
   "version": "3.8.8"
  }
 },
 "nbformat": 4,
 "nbformat_minor": 5
}
