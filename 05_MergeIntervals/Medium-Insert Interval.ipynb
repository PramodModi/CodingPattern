{
 "cells": [
  {
   "cell_type": "markdown",
   "id": "45c8b4cc",
   "metadata": {},
   "source": [
    "## Problem: Insert Interval\n",
    "LeetCode: 57. Insert Interval\n",
    "\n",
    "https://leetcode.com/problems/insert-interval/\n",
    "\n",
    "You are given an array of non-overlapping intervals intervals where intervals[i] = [starti, endi] represent the start and the end of the ith interval and intervals is sorted in ascending order by starti. You are also given an interval newInterval = [start, end] that represents the start and end of another interval.\n",
    "\n",
    "Insert newInterval into intervals such that intervals is still sorted in ascending order by starti and intervals still does not have any overlapping intervals (merge overlapping intervals if necessary).\n",
    "\n",
    "Return intervals after the insertion.\n",
    "\n",
    " \n",
    "\n",
    "Example 1:\n",
    "\n",
    "    Input: intervals = [[1,3],[6,9]], newInterval = [2,5]\n",
    "    Output: [[1,5],[6,9]]\n",
    "Example 2:\n",
    "\n",
    "    Input: intervals = [[1,2],[3,5],[6,7],[8,10],[12,16]], newInterval = [4,8]\n",
    "    Output: [[1,2],[3,10],[12,16]]\n",
    "    Explanation: Because the new interval [4,8] overlaps with [3,5],[6,7],[8,10].\n",
    " \n",
    "\n",
    "Constraints:\n",
    "\n",
    "    0 <= intervals.length <= 104\n",
    "    intervals[i].length == 2\n",
    "    0 <= starti <= endi <= 105\n",
    "    intervals is sorted by starti in ascending order.\n",
    "    newInterval.length == 2\n",
    "    0 <= start <= end <= 105"
   ]
  },
  {
   "cell_type": "markdown",
   "id": "0f817c31",
   "metadata": {},
   "source": [
    "### Approach:\n",
    "This problem has two parts. First to insert the new interval in sorted intervals. Then merge intervals.\n",
    "1. Insert the interval in sorted intervals.\n",
    "    As intervals list is sorted based on start position, so if newInterval'start is less than interval's start at first position in intervals list, then newInterval will be inserted at 0th position.\n",
    "    If not, then need to find the right position in the interval list to insert newInterval. As intervals list is sorted, so will use binary search algorithm to insert the newInterval.\n",
    "    \n",
    "2. Once insertion is done, now merge the overlapped intervals in the list. You can find the steps here \"https://github.com/PramodModi/CodingPattern/blob/main/05_MergeIntervals/Medium-%20Merge%20Intervals.ipynb\"\n"
   ]
  },
  {
   "cell_type": "code",
   "execution_count": 1,
   "id": "cef6c0a0",
   "metadata": {},
   "outputs": [],
   "source": [
    "def insert(intervals, newInterval):\n",
    "    if len(intervals) == 0 or intervals[0][0] >= newInterval[0]:\n",
    "        intervals.insert(0, newInterval)\n",
    "    else:\n",
    "        left, right = 0, len(intervals)-1\n",
    "        while left<=right:\n",
    "            mid = left + (right-left)//2\n",
    "            if intervals[mid][0] < newInterval[0]:\n",
    "                left = mid + 1\n",
    "            elif intervals[mid][0] > newInterval[0]:\n",
    "                right = mid-1\n",
    "            else:\n",
    "                left = mid \n",
    "                break\n",
    "        intervals.insert(left, newInterval)\n",
    "    ## Merge\n",
    "    result = []\n",
    "    interval = intervals[0]\n",
    "    for i in range(1, len(intervals)):\n",
    "        if interval[1] >= intervals[i][0]:\n",
    "            interval = [interval[0], max(interval[1], intervals[i][1])]\n",
    "        else:\n",
    "            result.append(interval)\n",
    "            interval = intervals[i]\n",
    "    result.append(interval)\n",
    "    return result"
   ]
  },
  {
   "cell_type": "code",
   "execution_count": 2,
   "id": "2df776b9",
   "metadata": {},
   "outputs": [
    {
     "data": {
      "text/plain": [
       "[[1, 5], [6, 9]]"
      ]
     },
     "execution_count": 2,
     "metadata": {},
     "output_type": "execute_result"
    }
   ],
   "source": [
    "intervals = [[1,3],[6,9]]\n",
    "newInterval = [2,5]\n",
    "insert(intervals, newInterval)"
   ]
  },
  {
   "cell_type": "code",
   "execution_count": 3,
   "id": "c71d640f",
   "metadata": {},
   "outputs": [
    {
     "data": {
      "text/plain": [
       "[[1, 2], [3, 10], [12, 16]]"
      ]
     },
     "execution_count": 3,
     "metadata": {},
     "output_type": "execute_result"
    }
   ],
   "source": [
    "intervals = [[1,2],[3,5],[6,7],[8,10],[12,16]]\n",
    "newInterval = [4,8]\n",
    "insert(intervals, newInterval)"
   ]
  },
  {
   "cell_type": "code",
   "execution_count": null,
   "id": "9d42a330",
   "metadata": {},
   "outputs": [],
   "source": []
  }
 ],
 "metadata": {
  "kernelspec": {
   "display_name": "Python 3",
   "language": "python",
   "name": "python3"
  },
  "language_info": {
   "codemirror_mode": {
    "name": "ipython",
    "version": 3
   },
   "file_extension": ".py",
   "mimetype": "text/x-python",
   "name": "python",
   "nbconvert_exporter": "python",
   "pygments_lexer": "ipython3",
   "version": "3.8.8"
  }
 },
 "nbformat": 4,
 "nbformat_minor": 5
}
