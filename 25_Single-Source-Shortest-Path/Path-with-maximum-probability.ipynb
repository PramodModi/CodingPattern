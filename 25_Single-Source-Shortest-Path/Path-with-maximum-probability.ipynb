{
 "cells": [
  {
   "attachments": {
    "bad6bcb7-663a-46cb-a9ce-0affbdb6d0df.png": {
     "image/png": "[encoded data removed]"
    }
   },
   "cell_type": "markdown",
   "id": "8a1d0119-1dd4-4fb6-a167-38b312f5d6f3",
   "metadata": {},
   "source": [
    "## Problems: Path with maximum probability\n",
    "\n",
    "LeetCode: 1514\n",
    "\n",
    "https://leetcode.com/problems/path-with-maximum-probability/description/\n",
    "\n",
    "You are given an undirected weighted graph of n nodes (0-indexed), represented by an edge list where edges[i] = [a, b] is an undirected edge connecting the nodes a and b with a probability of success of traversing that edge succProb[i].\n",
    "\n",
    "Given two nodes start and end, find the path with the maximum probability of success to go from start to end and return its success probability.\n",
    "\n",
    "If there is no path from start to end, return 0. Your answer will be accepted if it differs from the correct answer by at most 1e-5.\n",
    "\n",
    " \n",
    "\n",
    "Example 1:\n",
    "\n",
    "![image.png](attachment:bad6bcb7-663a-46cb-a9ce-0affbdb6d0df.png)\n",
    "\n",
    "    Input: n = 3, edges = [[0,1],[1,2],[0,2]], succProb = [0.5,0.5,0.2], start = 0, end = 2\n",
    "    Output: 0.25000\n",
    "    Explanation: There are two paths from start to end, one having a probability of success = 0.2 and the other has 0.5 * 0.5 = 0.25.\n",
    "Example 2:\n",
    "\n",
    "\n",
    "\n",
    "    Input: n = 3, edges = [[0,1],[1,2],[0,2]], succProb = [0.5,0.5,0.3], start = 0, end = 2\n",
    "    Output: 0.30000\n",
    "Example 3:\n",
    "\n",
    "\n",
    "\n",
    "    Input: n = 3, edges = [[0,1]], succProb = [0.5], start = 0, end = 2\n",
    "    Output: 0.00000\n",
    "    Explanation: There is no path between 0 and 2.\n",
    " \n",
    "\n",
    "Constraints:\n",
    "\n",
    "    2 <= n <= 10^4\n",
    "    0 <= start, end < n\n",
    "    start != end\n",
    "    0 <= a, b < n\n",
    "    a != b\n",
    "    0 <= succProb.length == edges.length <= 2*10^4\n",
    "    0 <= succProb[i] <= 1\n",
    "    There is at most one edge between every two nodes."
   ]
  },
  {
   "cell_type": "markdown",
   "id": "89277ff8-291b-4a45-9ae5-028da9d06946",
   "metadata": {},
   "source": [
    "## Approach: Dijkstra's Algorithm\n",
    "\n",
    "Dijkstra's algorithm takes into account the weights of the edges and always guarantees to find the highest probability from the source node to any other node in the graph.\n",
    "\n",
    "We start from the starting node start, and consider its neighbors one by one, updating the probability to each neighboring node nxt_node if the probability of reaching nxt_node through the current node cur_node is higher than the previous stored probability of reaching nxt_node (by other paths). In order to always select the node with the highest reaching probability, we use a priority queue pq to store the nodes to visit, where the node with the highest probability of being reached from the starting node has the highest priority.\n",
    "\n"
   ]
  },
  {
   "cell_type": "code",
   "execution_count": 3,
   "id": "741cda2e-452d-428a-8f08-7a7f4d217770",
   "metadata": {},
   "outputs": [],
   "source": [
    "import heapq\n",
    "def maxProbability(n, edges, succProb, start_node, end_node):\n",
    "    graph = {}\n",
    "    for i, (s,d) in enumerate(edges):\n",
    "        if s not in graph:\n",
    "            graph[s] = []\n",
    "        if d not in graph:\n",
    "            graph[d] = []\n",
    "        graph[s].append((succProb[i], d))\n",
    "        graph[d].append((succProb[i], s))\n",
    "\n",
    "    maxProb = [0.0] * n\n",
    "    maxProb[start_node] = 1.0\n",
    "    maxHeap = []\n",
    "    heapq.heappush(maxHeap, (-1.0, start_node))\n",
    "    while maxHeap:\n",
    "        currentProb, currentNode = heapq.heappop(maxHeap)\n",
    "        if currentNode == end_node:\n",
    "            return -currentProb\n",
    "        if -currentProb < maxProb[currentNode]:\n",
    "            continue\n",
    "        if currentNode not in graph:\n",
    "            continue\n",
    "        for nextProb, nextNode in graph[currentNode]:\n",
    "            if -nextProb*currentProb > maxProb[nextNode]:\n",
    "                maxProb[nextNode] = -nextProb*currentProb\n",
    "                heapq.heappush(maxHeap, (-maxProb[nextNode], nextNode))\n",
    "    return 0.0"
   ]
  },
  {
   "cell_type": "code",
   "execution_count": 4,
   "id": "79debb9b-df99-40ea-95c1-16da2204633f",
   "metadata": {},
   "outputs": [
    {
     "data": {
      "text/plain": [
       "0.25"
      ]
     },
     "execution_count": 4,
     "metadata": {},
     "output_type": "execute_result"
    }
   ],
   "source": [
    "n = 3\n",
    "edges = [[0,1],[1,2],[0,2]]\n",
    "succProb = [0.5,0.5,0.2]\n",
    "start = 0\n",
    "end = 2\n",
    "maxProbability(n, edges, succProb, start, end)"
   ]
  },
  {
   "cell_type": "code",
   "execution_count": 5,
   "id": "d9b39a03-dfd4-47f8-bd9b-915522fd9a85",
   "metadata": {},
   "outputs": [
    {
     "data": {
      "text/plain": [
       "0.3"
      ]
     },
     "execution_count": 5,
     "metadata": {},
     "output_type": "execute_result"
    }
   ],
   "source": [
    "n = 3\n",
    "edges = [[0,1],[1,2],[0,2]]\n",
    "succProb = [0.5,0.5,0.3]\n",
    "start = 0\n",
    "end = 2\n",
    "maxProbability(n, edges, succProb, start, end)"
   ]
  },
  {
   "cell_type": "code",
   "execution_count": null,
   "id": "f566db27-34d8-47ec-8be2-1922d4422576",
   "metadata": {},
   "outputs": [],
   "source": []
  }
 ],
 "metadata": {
  "kernelspec": {
   "display_name": "Python 3 (ipykernel)",
   "language": "python",
   "name": "python3"
  },
  "language_info": {
   "codemirror_mode": {
    "name": "ipython",
    "version": 3
   },
   "file_extension": ".py",
   "mimetype": "text/x-python",
   "name": "python",
   "nbconvert_exporter": "python",
   "pygments_lexer": "ipython3",
   "version": "3.8.18"
  }
 },
 "nbformat": 4,
 "nbformat_minor": 5
}
