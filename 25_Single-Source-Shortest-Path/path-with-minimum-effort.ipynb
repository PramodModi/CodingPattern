{
 "cells": [
  {
   "attachments": {
    "7588153b-653c-4803-8541-e8cd090a2461.png": {
     "image/png": "[encoded data removed]"
    }
   },
   "cell_type": "markdown",
   "id": "9165e721-6ad5-4db0-baad-3c6b3f6f83f6",
   "metadata": {},
   "source": [
    "## Problem: Path with minimum effort\n",
    "\n",
    "LeetCode: 1631\n",
    "https://leetcode.com/problems/path-with-minimum-effort/description/\n",
    "\n",
    "You are a hiker preparing for an upcoming hike. You are given heights, a 2D array of size rows x columns, where heights[row][col] represents the height of cell (row, col). You are situated in the top-left cell, (0, 0), and you hope to travel to the bottom-right cell, (rows-1, columns-1) (i.e., 0-indexed). You can move up, down, left, or right, and you wish to find a route that requires the minimum effort.\n",
    "\n",
    "A route's effort is the maximum absolute difference in heights between two consecutive cells of the route.\n",
    "\n",
    "Return the minimum effort required to travel from the top-left cell to the bottom-right cell.\n",
    "\n",
    " \n",
    "\n",
    "Example 1:\n",
    "\n",
    "![image.png](attachment:7588153b-653c-4803-8541-e8cd090a2461.png)\n",
    "\n",
    "    Input: heights = [[1,2,2],[3,8,2],[5,3,5]]\n",
    "    Output: 2\n",
    "    Explanation: The route of [1,3,5,3,5] has a maximum absolute difference of 2 in consecutive cells.\n",
    "    This is better than the route of [1,2,2,2,5], where the maximum absolute difference is 3.\n",
    "Example 2:\n",
    "\n",
    "\n",
    "\n",
    "    Input: heights = [[1,2,3],[3,8,4],[5,3,5]]\n",
    "    Output: 1\n",
    "    Explanation: The route of [1,2,3,4,5] has a maximum absolute difference of 1 in consecutive cells, which is better than route [1,3,5,3,5].\n",
    "Example 3:\n",
    "\n",
    "\n",
    "    Input: heights = [[1,2,1,1,1],[1,2,1,2,1],[1,2,1,2,1],[1,2,1,2,1],[1,1,1,2,1]]\n",
    "    Output: 0\n",
    "    Explanation: This route does not require any effort.\n",
    " \n",
    "\n",
    "Constraints:\n",
    "\n",
    "    rows == heights.length\n",
    "    columns == heights[i].length\n",
    "    1 <= rows, columns <= 100\n",
    "    1 <= heights[i][j] <= 106"
   ]
  },
  {
   "cell_type": "markdown",
   "id": "76119b23-1305-4b6e-b2b5-163307dd5b36",
   "metadata": {},
   "source": [
    "## Approach: Dijkstra's Algorithm\n",
    "\n",
    "If we observe, the problem is similar to finding the shortest path from a source cell to a destination cell. Here, the shortest path is the one with minimum absolute difference between every adjacent cells in that path.\n",
    "\n",
    "The absolute difference between adjacent cells A and B can be perceived as the weight of an edge from cell A to cell B. Thus, we could use Dijkstra's Algorithm which is used to find the shortest path in a weighted graph with a slight modification of criteria for the shortest path."
   ]
  },
  {
   "cell_type": "code",
   "execution_count": 10,
   "id": "2739ef72-8b07-46d4-a325-107e5119c919",
   "metadata": {},
   "outputs": [],
   "source": [
    "import heapq\n",
    "def minimumEffortPath(heights):\n",
    "        m = len(heights)\n",
    "        n = len(heights[0])\n",
    "        diff = [[float(\"inf\")]*n for _ in range(m)]\n",
    "        visited = [[False]* n for _ in range(m)]\n",
    "        minHeap = []\n",
    "        heapq.heappush(minHeap, (0, 0,0)) # difference, row, col\n",
    "        diff[0][0] = 0\n",
    "        while minHeap:\n",
    "            currentDiff, row, col = heapq.heappop(minHeap)\n",
    "            visited[row][col] = True\n",
    "            nebrs = getNebrs(row, col, heights)\n",
    "            for r, c in nebrs:\n",
    "                if visited[r][c]:\n",
    "                    continue\n",
    "                nextDiff = abs(heights[r][c] - heights[row][col])\n",
    "                maxDiff = max(nextDiff, diff[row][col] )\n",
    "                if maxDiff < diff[r][c]:\n",
    "                    diff[r][c] = maxDiff\n",
    "                    heapq.heappush(minHeap, (diff[r][c], r,c))\n",
    "        return diff[-1][-1]\n",
    "\n",
    "def getNebrs(row, col, heights):\n",
    "    nebrs = []\n",
    "    if row> 0:\n",
    "        nebrs.append((row-1, col))\n",
    "    if row < len(heights)-1:\n",
    "        nebrs.append((row+1, col))\n",
    "    if col > 0:\n",
    "        nebrs.append((row, col-1))\n",
    "    if col < len(heights[0])-1:\n",
    "        nebrs.append((row, col+1))\n",
    "    return nebrs\n",
    "        "
   ]
  },
  {
   "cell_type": "code",
   "execution_count": 11,
   "id": "d2719f9b-4a64-4716-bed1-caa3d007a38d",
   "metadata": {},
   "outputs": [
    {
     "data": {
      "text/plain": [
       "1"
      ]
     },
     "execution_count": 11,
     "metadata": {},
     "output_type": "execute_result"
    }
   ],
   "source": [
    "heights = [[1,2,3],[3,8,4],[5,3,5]]\n",
    "minimumEffortPath(heights)"
   ]
  },
  {
   "cell_type": "code",
   "execution_count": 12,
   "id": "733cb4d5-54fc-473c-85f4-33e2e21c9b6f",
   "metadata": {},
   "outputs": [
    {
     "data": {
      "text/plain": [
       "2"
      ]
     },
     "execution_count": 12,
     "metadata": {},
     "output_type": "execute_result"
    }
   ],
   "source": [
    "heights = [[1,2,2],[3,8,2],[5,3,5]]\n",
    "minimumEffortPath(heights)"
   ]
  },
  {
   "cell_type": "code",
   "execution_count": null,
   "id": "6feee19d-564d-44fb-9454-2cdeb4977591",
   "metadata": {},
   "outputs": [],
   "source": []
  }
 ],
 "metadata": {
  "kernelspec": {
   "display_name": "Python 3 (ipykernel)",
   "language": "python",
   "name": "python3"
  },
  "language_info": {
   "codemirror_mode": {
    "name": "ipython",
    "version": 3
   },
   "file_extension": ".py",
   "mimetype": "text/x-python",
   "name": "python",
   "nbconvert_exporter": "python",
   "pygments_lexer": "ipython3",
   "version": "3.8.18"
  }
 },
 "nbformat": 4,
 "nbformat_minor": 5
}
