{
 "cells": [
  {
   "attachments": {
    "57703330-c9a5-4dd6-a1ef-363beda2f0fa.png": {
     "image/png": "[encoded data removed]"
    }
   },
   "cell_type": "markdown",
   "id": "49ce08fa-5674-47ac-b05e-fb5b5bce4ce6",
   "metadata": {},
   "source": [
    "## Problem: Network Delay Time\n",
    "LeetCode: 743\n",
    "\n",
    "https://leetcode.com/problems/network-delay-time/description/\n",
    "\n",
    "You are given a network of n nodes, labeled from 1 to n. You are also given times, a list of travel times as directed edges times[i] = (ui, vi, wi), where ui is the source node, vi is the target node, and wi is the time it takes for a signal to travel from source to target.\n",
    "\n",
    "We will send a signal from a given node k. Return the minimum time it takes for all the n nodes to receive the signal. If it is impossible for all the n nodes to receive the signal, return -1.\n",
    "\n",
    " \n",
    "\n",
    "Example 1:\n",
    "\n",
    "![image.png](attachment:57703330-c9a5-4dd6-a1ef-363beda2f0fa.png)\n",
    "\n",
    "    Input: times = [[2,1,1],[2,3,1],[3,4,1]], n = 4, k = 2\n",
    "    Output: 2\n",
    "Example 2:\n",
    "\n",
    "    Input: times = [[1,2,1]], n = 2, k = 1\n",
    "    Output: 1\n",
    "Example 3:\n",
    "\n",
    "    Input: times = [[1,2,1]], n = 2, k = 2\n",
    "    Output: -1\n",
    " \n",
    "\n",
    "Constraints:\n",
    "\n",
    "    1 <= k <= n <= 100\n",
    "    1 <= times.length <= 6000\n",
    "    times[i].length == 3\n",
    "    1 <= ui, vi <= n\n",
    "    ui != vi\n",
    "    0 <= wi <= 100\n",
    "    All the pairs (ui, vi) are unique. (i.e., no multiple edges.)"
   ]
  },
  {
   "cell_type": "markdown",
   "id": "ae0ab107-1748-4dc1-9afc-dbdc6ed37b45",
   "metadata": {},
   "source": [
    "## Dijkstra Algorithm:\n",
    "“Dijkstra’s algorithm” solves the “single-source shortest path” problem in a weighted directed graph with non-negative weights.\n",
    "It uses a “greedy approach”. Each step selects the “minimum weight” from the currently reached vertices to find the “shortest path” to other vertices.\n",
    "\n",
    "Time complexity : O(V+ElogV)\n",
    "Space Complexity : O(V)"
   ]
  },
  {
   "cell_type": "markdown",
   "id": "dc39fff3-b989-4c35-b122-9015d917eded",
   "metadata": {},
   "source": [
    "## Approach:\n",
    "objective of this problem is to find the fastest path from node kkk to every other node. This is a typical use case for the Single Source Shortest Path algorithm. Hence, In this approach, we will use Dijkstra's Algorithm to find the fastest path to every node from node k.\n",
    "We will start with node kkk and then iterate over every adjacent node neighborNode.\n",
    "we will use a priority queue to traverse the nodes in increasing order of the time required to reach them. Therefore, in each iteration, we will visit the node with the shortest travel time. This will help us in finding the fastest time path first.\n",
    "Since need to find the time taken to receive signal for all nodes, so result would be the max time."
   ]
  },
  {
   "cell_type": "code",
   "execution_count": 41,
   "id": "084f6b94-4061-49b5-8f50-81a7ec53713c",
   "metadata": {},
   "outputs": [],
   "source": [
    "import heapq as hq\n",
    "def networkDelayTime(times, n, k):\n",
    "    adj = {}\n",
    "    for time in times:\n",
    "        sNode = time[0]\n",
    "        destNode = time[1]\n",
    "        t = time[2]\n",
    "        if sNode not in adj:\n",
    "            adj[sNode] = []\n",
    "        adj[sNode].append((t,destNode))\n",
    "    signalReceivedTime = [float(\"inf\")] * (n+1)\n",
    "    signalReceivedTime[k] = 0\n",
    "    dijkstra(adj, signalReceivedTime, k)\n",
    "    result = max(signalReceivedTime[1:])\n",
    "    return result if result != float(\"inf\") else -1\n",
    "\n",
    "def dijkstra(adj, signalReceivedTime, k):\n",
    "    minHeap = []\n",
    "    hq.heappush(minHeap, (0, k))\n",
    "    while minHeap:\n",
    "        t, node = hq.heappop(minHeap)\n",
    "        if t > signalReceivedTime[node]:\n",
    "            continue\n",
    "        if node not in adj:\n",
    "            continue\n",
    "        for pair in adj[node]:\n",
    "            desTime = pair[0]\n",
    "            destNode = pair[1]\n",
    "            if signalReceivedTime[destNode] > t + desTime:\n",
    "                signalReceivedTime[destNode] = t + desTime\n",
    "                hq.heappush(minHeap, (signalReceivedTime[destNode], destNode))\n",
    "        \n",
    "    \n",
    "    "
   ]
  },
  {
   "cell_type": "code",
   "execution_count": 42,
   "id": "23e82898-0922-4b32-94cc-9c39fdf6e01d",
   "metadata": {},
   "outputs": [
    {
     "data": {
      "text/plain": [
       "2"
      ]
     },
     "execution_count": 42,
     "metadata": {},
     "output_type": "execute_result"
    }
   ],
   "source": [
    "times = [[2,1,1],[2,3,1],[3,4,1]]\n",
    "n = 4\n",
    "k = 2\n",
    "networkDelayTime(times, n, k)"
   ]
  },
  {
   "cell_type": "code",
   "execution_count": 43,
   "id": "e7c20222-7f3c-4f24-8501-b92ba2dab2f3",
   "metadata": {},
   "outputs": [
    {
     "data": {
      "text/plain": [
       "1"
      ]
     },
     "execution_count": 43,
     "metadata": {},
     "output_type": "execute_result"
    }
   ],
   "source": [
    "times = [[1,2,1]]\n",
    "n = 2\n",
    "k = 1\n",
    "networkDelayTime(times, n, k)"
   ]
  },
  {
   "cell_type": "code",
   "execution_count": 44,
   "id": "54146d27-8663-43e8-bd19-19b2c1f4ed61",
   "metadata": {},
   "outputs": [
    {
     "data": {
      "text/plain": [
       "-1"
      ]
     },
     "execution_count": 44,
     "metadata": {},
     "output_type": "execute_result"
    }
   ],
   "source": [
    "times = [[1,2,1]]\n",
    "n = 2\n",
    "k = 2\n",
    "networkDelayTime(times, n, k)"
   ]
  },
  {
   "cell_type": "code",
   "execution_count": null,
   "id": "1816a823-abfa-4611-97ba-76f4c30e32d7",
   "metadata": {},
   "outputs": [],
   "source": []
  }
 ],
 "metadata": {
  "kernelspec": {
   "display_name": "Python 3 (ipykernel)",
   "language": "python",
   "name": "python3"
  },
  "language_info": {
   "codemirror_mode": {
    "name": "ipython",
    "version": 3
   },
   "file_extension": ".py",
   "mimetype": "text/x-python",
   "name": "python",
   "nbconvert_exporter": "python",
   "pygments_lexer": "ipython3",
   "version": "3.8.18"
  }
 },
 "nbformat": 4,
 "nbformat_minor": 5
}
