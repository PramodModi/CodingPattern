{
 "cells": [
  {
   "attachments": {
    "bf8684f4-ca17-43e1-a908-8d1e79e81952.png": {
     "image/png": "[encoded data removed]"
    }
   },
   "cell_type": "markdown",
   "id": "25a4544e-4051-4e45-8977-af29a668ee70",
   "metadata": {},
   "source": [
    "## Problem: Cheapest flights within k stops\n",
    "LeetCode: 787\n",
    "\n",
    "https://leetcode.com/problems/cheapest-flights-within-k-stops/description/\n",
    "\n",
    "There are n cities connected by some number of flights. You are given an array flights where flights[i] = [fromi, toi, pricei] indicates that there is a flight from city fromi to city toi with cost pricei.\n",
    "\n",
    "You are also given three integers src, dst, and k, return the cheapest price from src to dst with at most k stops. If there is no such route, return -1.\n",
    "\n",
    " \n",
    "\n",
    "Example 1:\n",
    "\n",
    "![image.png](attachment:bf8684f4-ca17-43e1-a908-8d1e79e81952.png)\n",
    "\n",
    "    Input: n = 4, flights = [[0,1,100],[1,2,100],[2,0,100],[1,3,600],[2,3,200]], src = 0, dst = 3, k = 1\n",
    "    Output: 700\n",
    "    Explanation:\n",
    "    The graph is shown above.\n",
    "    The optimal path with at most 1 stop from city 0 to 3 is marked in red and has cost 100 + 600 = 700.\n",
    "    Note that the path through cities [0,1,2,3] is cheaper but is invalid because it uses 2 stops.\n",
    "Example 2:\n",
    "\n",
    "\n",
    "    Input: n = 3, flights = [[0,1,100],[1,2,100],[0,2,500]], src = 0, dst = 2, k = 1\n",
    "    Output: 200\n",
    "    Explanation:\n",
    "    The graph is shown above.\n",
    "    The optimal path with at most 1 stop from city 0 to 2 is marked in red and has cost 100 + 100 = 200.\n",
    "Example 3:\n",
    "\n",
    "\n",
    "    Input: n = 3, flights = [[0,1,100],[1,2,100],[0,2,500]], src = 0, dst = 2, k = 0\n",
    "    Output: 500\n",
    "    Explanation:\n",
    "    The graph is shown above.\n",
    "    The optimal path with no stops from city 0 to 2 is marked in red and has cost 500.\n",
    " \n",
    "\n",
    "Constraints:\n",
    "\n",
    "    1 <= n <= 100\n",
    "    0 <= flights.length <= (n * (n - 1) / 2)\n",
    "    flights[i].length == 3\n",
    "    0 <= fromi, toi < n\n",
    "    fromi != toi\n",
    "    1 <= pricei <= 104\n",
    "    There will not be any multiple flights between two cities.\n",
    "    0 <= src, dst, k < n\n",
    "    src != dst"
   ]
  },
  {
   "cell_type": "markdown",
   "id": "ef6335fb-8978-46b1-95eb-22b04c93f45a",
   "metadata": {},
   "source": [
    "## Approach : Use Dijkstra's Algorithm\n",
    "\n",
    "If we observe, the problem is similar to finding the shortest path from a source cell to a destination cell. Here, the shortest path is the one with minimum absolute difference between every adjacent cells in that path. Also, since there is height associated with each cell, simple BFS traversal won't be sufficient.\n",
    "\n",
    "The absolute difference between adjacent cells A and B can be perceived as the weight of an edge from cell A to cell B. Thus, we could use Dijkstra's Algorithm which is used to find the shortest path in a weighted graph with a slight modification of criteria for the shortest path."
   ]
  },
  {
   "cell_type": "code",
   "execution_count": 3,
   "id": "951160e7-78b9-4373-8473-f1e009fca48b",
   "metadata": {},
   "outputs": [],
   "source": [
    "## Time Complexity : O(m.n.log(m.n)), Space Complexity: O(m.n)\n",
    "import heapq\n",
    "def findCheapestPrice(n, flights, src, dst, k):\n",
    "    adj = {}\n",
    "    for flight in flights:\n",
    "        s = flight[0]\n",
    "        d = flight[1]\n",
    "        cost = flight[2]\n",
    "        if s not in adj:\n",
    "            adj[s] = []\n",
    "        adj[s].append((cost, d))\n",
    "    \n",
    "    stopList = [float(\"inf\")] * n\n",
    "    costList = [float(\"inf\")] * n\n",
    "\n",
    "    return dijkstra(adj, stopList, costList, src, dst, k)\n",
    "        \n",
    "\n",
    "def dijkstra(adj, stopList, costList, src, dst, k):\n",
    "    stopList[src] = 0\n",
    "    costList[src] = 0\n",
    "    minHeap = []\n",
    "    heapq.heappush(minHeap, (0, src, 0)) #cost, src, stop\n",
    "    while minHeap:\n",
    "        cost, s, stop = heapq.heappop(minHeap)\n",
    "        if s == dst:\n",
    "            return cost\n",
    "        if s not in adj:\n",
    "            continue\n",
    "        if stop <= k:\n",
    "            for pair in adj[s]:\n",
    "                newCost, d = pair\n",
    "                if costList[d] > newCost + cost or stop + 1 < stopList[d]:\n",
    "                    stopList[d] = stop+1\n",
    "                    costList[d] = newCost + cost\n",
    "                    heapq.heappush(minHeap, (cost + newCost, d, stop + 1))\n",
    "    return -1"
   ]
  },
  {
   "cell_type": "code",
   "execution_count": 4,
   "id": "7b1a9370-12d8-4499-8b27-06fdd1de995a",
   "metadata": {},
   "outputs": [
    {
     "data": {
      "text/plain": [
       "700"
      ]
     },
     "execution_count": 4,
     "metadata": {},
     "output_type": "execute_result"
    }
   ],
   "source": [
    "n = 4\n",
    "flights = [[0,1,100],[1,2,100],[2,0,100],[1,3,600],[2,3,200]]\n",
    "src = 0\n",
    "dst = 3\n",
    "k = 1\n",
    "findCheapestPrice(n, flights, src, dst, k)"
   ]
  },
  {
   "cell_type": "code",
   "execution_count": 5,
   "id": "4e21cdbc-db07-40bf-9933-f3bea4978bc5",
   "metadata": {},
   "outputs": [
    {
     "data": {
      "text/plain": [
       "500"
      ]
     },
     "execution_count": 5,
     "metadata": {},
     "output_type": "execute_result"
    }
   ],
   "source": [
    "n = 3\n",
    "flights = [[0,1,100],[1,2,100],[0,2,500]]\n",
    "src = 0\n",
    "dst = 2\n",
    "k = 0\n",
    "findCheapestPrice(n, flights, src, dst, k)"
   ]
  },
  {
   "cell_type": "code",
   "execution_count": null,
   "id": "1c67b112-a42a-4ea4-881d-801e2d28fea9",
   "metadata": {},
   "outputs": [],
   "source": []
  }
 ],
 "metadata": {
  "kernelspec": {
   "display_name": "Python 3 (ipykernel)",
   "language": "python",
   "name": "python3"
  },
  "language_info": {
   "codemirror_mode": {
    "name": "ipython",
    "version": 3
   },
   "file_extension": ".py",
   "mimetype": "text/x-python",
   "name": "python",
   "nbconvert_exporter": "python",
   "pygments_lexer": "ipython3",
   "version": "3.8.18"
  }
 },
 "nbformat": 4,
 "nbformat_minor": 5
}
