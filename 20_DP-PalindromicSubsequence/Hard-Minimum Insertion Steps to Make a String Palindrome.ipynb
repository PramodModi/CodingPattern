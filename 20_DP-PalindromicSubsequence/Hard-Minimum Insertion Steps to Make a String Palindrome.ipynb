{
 "cells": [
  {
   "cell_type": "markdown",
   "id": "103e00c6",
   "metadata": {},
   "source": [
    "## Problem: Minimum Insertion Steps to Make a String Palindrome\n",
    "LeetCode: 1312. Minimum Insertion Steps to Make a String Palindrome\n",
    "\n",
    "https://leetcode.com/problems/minimum-insertion-steps-to-make-a-string-palindrome/description/\n",
    "\n",
    "Given a string s. In one step you can insert any character at any index of the string.\n",
    "\n",
    "Return the minimum number of steps to make s palindrome.\n",
    "\n",
    "A Palindrome String is one that reads the same backward as well as forward.\n",
    "\n",
    " \n",
    "\n",
    "Example 1:\n",
    "\n",
    "    Input: s = \"zzazz\"\n",
    "    Output: 0\n",
    "    Explanation: The string \"zzazz\" is already palindrome we do not need any insertions.\n",
    "Example 2:\n",
    "\n",
    "    Input: s = \"mbadm\"\n",
    "    Output: 2\n",
    "    Explanation: String can be \"mbdadbm\" or \"mdbabdm\".\n",
    "Example 3:\n",
    "\n",
    "    Input: s = \"leetcode\"\n",
    "    Output: 5\n",
    "    Explanation: Inserting 5 characters the string becomes \"leetcodocteel\".\n",
    " \n",
    "\n",
    "Constraints:\n",
    "\n",
    "    1 <= s.length <= 500\n",
    "    s consists of lowercase English letters."
   ]
  },
  {
   "cell_type": "markdown",
   "id": "af780a60",
   "metadata": {},
   "source": [
    "### Approach:\n",
    "\n",
    "This is same as \"Longest Palindromic Subsequence\" with little modification. The letters which are not part of the palindrom, insert those letters. Basically, minimum insertion = length of string - longest palindromic subsequence."
   ]
  },
  {
   "cell_type": "code",
   "execution_count": 1,
   "id": "2250eba4",
   "metadata": {},
   "outputs": [],
   "source": [
    "def minInsertions(s):\n",
    "    return len(s) - longestPalindromicSubseq(s)\n",
    "\n",
    "def longestPalindromicSubseq(s):\n",
    "    n = len(s)\n",
    "    dp = [[0] * n for _ in range(n)]\n",
    "    \n",
    "    for i in range(n):\n",
    "        dp[i][i] = 1\n",
    "        \n",
    "    for i in range(n-1, -1, -1):\n",
    "        for j in range(i+1, n, 1):\n",
    "            if s[i] == s[j]:\n",
    "                dp[i][j] = 2 + dp[i+1][j-1]\n",
    "            else:\n",
    "                dp[i][j] = max(dp[i+1][j], dp[i][j-1])\n",
    "    return dp[0][n-1]\n",
    "    "
   ]
  },
  {
   "cell_type": "code",
   "execution_count": 2,
   "id": "eb850b85",
   "metadata": {},
   "outputs": [
    {
     "data": {
      "text/plain": [
       "0"
      ]
     },
     "execution_count": 2,
     "metadata": {},
     "output_type": "execute_result"
    }
   ],
   "source": [
    "s = \"zzazz\"\n",
    "minInsertions(s)"
   ]
  },
  {
   "cell_type": "code",
   "execution_count": 3,
   "id": "f7ce20d5",
   "metadata": {},
   "outputs": [
    {
     "data": {
      "text/plain": [
       "2"
      ]
     },
     "execution_count": 3,
     "metadata": {},
     "output_type": "execute_result"
    }
   ],
   "source": [
    "s = \"mbadm\"\n",
    "minInsertions(s)"
   ]
  },
  {
   "cell_type": "code",
   "execution_count": 4,
   "id": "9cba69c3",
   "metadata": {},
   "outputs": [
    {
     "data": {
      "text/plain": [
       "5"
      ]
     },
     "execution_count": 4,
     "metadata": {},
     "output_type": "execute_result"
    }
   ],
   "source": [
    "s = \"leetcode\"\n",
    "minInsertions(s)"
   ]
  },
  {
   "cell_type": "code",
   "execution_count": null,
   "id": "0a96e16e",
   "metadata": {},
   "outputs": [],
   "source": []
  }
 ],
 "metadata": {
  "kernelspec": {
   "display_name": "Python 3",
   "language": "python",
   "name": "python3"
  },
  "language_info": {
   "codemirror_mode": {
    "name": "ipython",
    "version": 3
   },
   "file_extension": ".py",
   "mimetype": "text/x-python",
   "name": "python",
   "nbconvert_exporter": "python",
   "pygments_lexer": "ipython3",
   "version": "3.8.8"
  }
 },
 "nbformat": 4,
 "nbformat_minor": 5
}
