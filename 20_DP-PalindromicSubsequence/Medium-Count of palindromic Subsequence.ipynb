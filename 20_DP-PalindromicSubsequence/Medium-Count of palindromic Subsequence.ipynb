{
 "cells": [
  {
   "cell_type": "markdown",
   "id": "88201764",
   "metadata": {},
   "source": [
    "## Problem: \n",
    "\n",
    "Given a string, find the total number of palindromic substrings in it. Please note we need to find the total number of substrings and not subsequences.\n",
    "\n",
    "Example 1:\n",
    "\n",
    "    Input: \"abdbca\"\n",
    "    Output: 7\n",
    "    Explanation: Here are the palindromic substrings, \"a\", \"b\", \"d\", \"b\", \"c\", \"a\", \"bdb\".\n",
    "Example 2:\n",
    "\n",
    "    Input: = \"cddpd\"\n",
    "    Output: 7\n",
    "    Explanation: Here are the palindromic substrings, \"c\", \"d\", \"d\", \"p\", \"d\", \"dd\", \"dpd\".\n",
    "Example 3:\n",
    "\n",
    "    Input: = \"pqr\"\n",
    "    Output: 3\n",
    "    Explanation: Here are the palindromic substrings,\"p\", \"q\", \"r\"."
   ]
  },
  {
   "cell_type": "markdown",
   "id": "93295cc4",
   "metadata": {},
   "source": [
    "### Approach:\n",
    "The approach is same as to find the longest palindromic substring. Only difference is that inplace of maxLength, we will keep adding count."
   ]
  },
  {
   "cell_type": "code",
   "execution_count": 1,
   "id": "53fc4f6d",
   "metadata": {},
   "outputs": [],
   "source": [
    "def countPalindrom(s):\n",
    "    n = len(s)\n",
    "    count = n \n",
    "    for i in range(1,n):\n",
    "        count += getPalindrom(s, i-1, i+1)\n",
    "        count += getPalindrom(s, i-1, i)\n",
    "         \n",
    "    return count\n",
    "\n",
    "def getPalindrom(s, left, right):\n",
    "    count = 0\n",
    "    while left >= 0 and right < len(s):\n",
    "        if s[left] == s[right]:\n",
    "            count += 1\n",
    "            left -= 1\n",
    "            right += 1\n",
    "        else:\n",
    "            break\n",
    "    return count"
   ]
  },
  {
   "cell_type": "code",
   "execution_count": 2,
   "id": "8963b68b",
   "metadata": {},
   "outputs": [
    {
     "data": {
      "text/plain": [
       "7"
      ]
     },
     "execution_count": 2,
     "metadata": {},
     "output_type": "execute_result"
    }
   ],
   "source": [
    "s = \"abdbca\"\n",
    "countPalindrom(s)"
   ]
  },
  {
   "cell_type": "code",
   "execution_count": 3,
   "id": "0190cc2b",
   "metadata": {},
   "outputs": [
    {
     "data": {
      "text/plain": [
       "6"
      ]
     },
     "execution_count": 3,
     "metadata": {},
     "output_type": "execute_result"
    }
   ],
   "source": [
    "s = \"aaa\"\n",
    "countPalindrom(s)"
   ]
  },
  {
   "cell_type": "code",
   "execution_count": 4,
   "id": "59be1180",
   "metadata": {},
   "outputs": [
    {
     "data": {
      "text/plain": [
       "3"
      ]
     },
     "execution_count": 4,
     "metadata": {},
     "output_type": "execute_result"
    }
   ],
   "source": [
    "s = \"pqr\"\n",
    "countPalindrom(s)"
   ]
  },
  {
   "cell_type": "code",
   "execution_count": 5,
   "id": "9874a516",
   "metadata": {},
   "outputs": [
    {
     "data": {
      "text/plain": [
       "7"
      ]
     },
     "execution_count": 5,
     "metadata": {},
     "output_type": "execute_result"
    }
   ],
   "source": [
    "s = \"cddpd\"\n",
    "countPalindrom(s)"
   ]
  },
  {
   "cell_type": "code",
   "execution_count": null,
   "id": "b32897a3",
   "metadata": {},
   "outputs": [],
   "source": []
  }
 ],
 "metadata": {
  "kernelspec": {
   "display_name": "Python 3",
   "language": "python",
   "name": "python3"
  },
  "language_info": {
   "codemirror_mode": {
    "name": "ipython",
    "version": 3
   },
   "file_extension": ".py",
   "mimetype": "text/x-python",
   "name": "python",
   "nbconvert_exporter": "python",
   "pygments_lexer": "ipython3",
   "version": "3.8.8"
  }
 },
 "nbformat": 4,
 "nbformat_minor": 5
}
