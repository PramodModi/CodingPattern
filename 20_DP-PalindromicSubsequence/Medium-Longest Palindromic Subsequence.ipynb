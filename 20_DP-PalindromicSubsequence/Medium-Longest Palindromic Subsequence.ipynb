{
 "cells": [
  {
   "cell_type": "markdown",
   "id": "481b9b44",
   "metadata": {},
   "source": [
    "## Problem: Longest Palindromic Subsequence\n",
    "LeetCode: 516. Longest Palindromic Subsequence\n",
    "\n",
    "https://leetcode.com/problems/longest-palindromic-subsequence/\n",
    "\n",
    "Given a string s, find the longest palindromic subsequence's length in s.\n",
    "\n",
    "A subsequence is a sequence that can be derived from another sequence by deleting some or no elements without changing the order of the remaining elements.\n",
    "\n",
    " \n",
    "\n",
    "Example 1:\n",
    "\n",
    "    Input: s = \"bbbab\"\n",
    "    Output: 4\n",
    "    Explanation: One possible longest palindromic subsequence is \"bbbb\".\n",
    "Example 2:\n",
    "\n",
    "    Input: s = \"cbbd\"\n",
    "    Output: 2\n",
    "    Explanation: One possible longest palindromic subsequence is \"bb\".\n",
    " \n",
    "\n",
    "Constraints:\n",
    "\n",
    "    1 <= s.length <= 1000\n",
    "    s consists only of lowercase English letters."
   ]
  },
  {
   "cell_type": "markdown",
   "id": "070e7a8e",
   "metadata": {},
   "source": [
    "### Approach:\n",
    "We can look from both end, startIndex and lastIndex. If letters matches, then count will be increamented by 2 and then recursively call for rest of the sequence. Otherwise two recursive call by moving one index while keeping another index same. Take the maximum."
   ]
  },
  {
   "cell_type": "code",
   "execution_count": 3,
   "id": "49254d5c",
   "metadata": {},
   "outputs": [],
   "source": [
    "def longestPalindromeSubseq_rec(s):\n",
    "    return lps_rec(s, 0, len(s)-1)\n",
    "def lps_rec(s, startIndex, lastIndex):\n",
    "    if startIndex > lastIndex:\n",
    "        return 0\n",
    "    if startIndex == lastIndex:#one leatter is a palindrom\n",
    "        return 1\n",
    "    if s[startIndex] == s[lastIndex]:\n",
    "        return 2 + lps_rec(s, startIndex +1, lastIndex -1 )\n",
    "    return max(lps_rec(s, startIndex +1, lastIndex), lps_rec(s, startIndex, lastIndex -1 ))"
   ]
  },
  {
   "cell_type": "code",
   "execution_count": 4,
   "id": "a8808d4a",
   "metadata": {},
   "outputs": [
    {
     "data": {
      "text/plain": [
       "4"
      ]
     },
     "execution_count": 4,
     "metadata": {},
     "output_type": "execute_result"
    }
   ],
   "source": [
    "s = \"bbbab\"\n",
    "longestPalindromeSubseq_rec(s)"
   ]
  },
  {
   "cell_type": "code",
   "execution_count": 5,
   "id": "962c5fb8",
   "metadata": {},
   "outputs": [
    {
     "data": {
      "text/plain": [
       "2"
      ]
     },
     "execution_count": 5,
     "metadata": {},
     "output_type": "execute_result"
    }
   ],
   "source": [
    "s = \"cbbd\"\n",
    "longestPalindromeSubseq_rec(s)"
   ]
  },
  {
   "cell_type": "code",
   "execution_count": 6,
   "id": "3b96b1d7",
   "metadata": {},
   "outputs": [
    {
     "data": {
      "text/plain": [
       "5"
      ]
     },
     "execution_count": 6,
     "metadata": {},
     "output_type": "execute_result"
    }
   ],
   "source": [
    "s = \"abdbca\"\n",
    "longestPalindromeSubseq_rec(s)"
   ]
  },
  {
   "cell_type": "code",
   "execution_count": 7,
   "id": "12a6cc34",
   "metadata": {},
   "outputs": [
    {
     "data": {
      "text/plain": [
       "1"
      ]
     },
     "execution_count": 7,
     "metadata": {},
     "output_type": "execute_result"
    }
   ],
   "source": [
    "s = \"pqr\"\n",
    "longestPalindromeSubseq_rec(s)"
   ]
  },
  {
   "cell_type": "markdown",
   "id": "b9558cd6",
   "metadata": {},
   "source": [
    "### Memoization"
   ]
  },
  {
   "cell_type": "code",
   "execution_count": 9,
   "id": "291961b5",
   "metadata": {},
   "outputs": [],
   "source": [
    "def longestPalindromeSubseq_mem(s):\n",
    "    mem = {}\n",
    "    return lps_mem(s, 0, len(s)-1, mem)\n",
    "def lps_mem(s, startIndex, lastIndex, mem):\n",
    "    if startIndex > lastIndex:\n",
    "        return 0\n",
    "    if startIndex == lastIndex:#one leatter is a palindrom\n",
    "        return 1\n",
    "    key = str(startIndex) + \"-\" + str(lastIndex)\n",
    "    if key in mem:\n",
    "        return mem[key]\n",
    "    if s[startIndex] == s[lastIndex]:\n",
    "        mem[key] =  2 + lps_mem(s, startIndex +1, lastIndex -1, mem )\n",
    "    else:\n",
    "        mem[key] = max(lps_mem(s, startIndex +1, lastIndex, mem), lps_mem(s, startIndex, lastIndex -1, mem ))\n",
    "    return mem[key]"
   ]
  },
  {
   "cell_type": "code",
   "execution_count": 10,
   "id": "7a4d66e4",
   "metadata": {},
   "outputs": [
    {
     "data": {
      "text/plain": [
       "4"
      ]
     },
     "execution_count": 10,
     "metadata": {},
     "output_type": "execute_result"
    }
   ],
   "source": [
    "s = \"bbbab\"\n",
    "longestPalindromeSubseq_mem(s)"
   ]
  },
  {
   "cell_type": "code",
   "execution_count": 11,
   "id": "6fbb6ecc",
   "metadata": {},
   "outputs": [
    {
     "data": {
      "text/plain": [
       "2"
      ]
     },
     "execution_count": 11,
     "metadata": {},
     "output_type": "execute_result"
    }
   ],
   "source": [
    "s = \"cbbd\"\n",
    "longestPalindromeSubseq_mem(s)"
   ]
  },
  {
   "cell_type": "code",
   "execution_count": 12,
   "id": "6684d008",
   "metadata": {},
   "outputs": [
    {
     "data": {
      "text/plain": [
       "5"
      ]
     },
     "execution_count": 12,
     "metadata": {},
     "output_type": "execute_result"
    }
   ],
   "source": [
    "s = \"abdbca\"\n",
    "longestPalindromeSubseq_mem(s)"
   ]
  },
  {
   "cell_type": "code",
   "execution_count": 13,
   "id": "760d5d58",
   "metadata": {},
   "outputs": [
    {
     "data": {
      "text/plain": [
       "1"
      ]
     },
     "execution_count": 13,
     "metadata": {},
     "output_type": "execute_result"
    }
   ],
   "source": [
    "s = \"pqr\"\n",
    "longestPalindromeSubseq_mem(s)"
   ]
  },
  {
   "cell_type": "markdown",
   "id": "6af00f32",
   "metadata": {},
   "source": [
    "### DP"
   ]
  },
  {
   "cell_type": "code",
   "execution_count": 29,
   "id": "a8f8d75d",
   "metadata": {},
   "outputs": [],
   "source": [
    "def longestPalindromeSubseq_dp(s):\n",
    "    n = len(s)\n",
    "    dp = [[0] * (n) for _ in range(n)]\n",
    "    \n",
    "    ## Since one element is also a plaindrom.\n",
    "    \n",
    "    for i in range(n):\n",
    "        dp[i][i] = 1\n",
    "    \n",
    "    for i in range(n-1,-1,-1): # Start index\n",
    "        for j in range(i+1, n, 1): # end index\n",
    "            if s[i]==s[j]:\n",
    "                dp[i][j] = 2 + dp[i+1][j-1]\n",
    "            else:\n",
    "                dp[i][j] = max(dp[i][j-1], dp[i+1][j])\n",
    "    return dp[0][n-1]"
   ]
  },
  {
   "cell_type": "code",
   "execution_count": 30,
   "id": "bd0d568a",
   "metadata": {},
   "outputs": [
    {
     "data": {
      "text/plain": [
       "4"
      ]
     },
     "execution_count": 30,
     "metadata": {},
     "output_type": "execute_result"
    }
   ],
   "source": [
    "s = \"bbbab\"\n",
    "longestPalindromeSubseq_dp(s)"
   ]
  },
  {
   "cell_type": "code",
   "execution_count": 31,
   "id": "060e98f2",
   "metadata": {},
   "outputs": [
    {
     "data": {
      "text/plain": [
       "2"
      ]
     },
     "execution_count": 31,
     "metadata": {},
     "output_type": "execute_result"
    }
   ],
   "source": [
    "s = \"cbbd\"\n",
    "longestPalindromeSubseq_dp(s)"
   ]
  },
  {
   "cell_type": "code",
   "execution_count": 32,
   "id": "714e03df",
   "metadata": {},
   "outputs": [
    {
     "data": {
      "text/plain": [
       "5"
      ]
     },
     "execution_count": 32,
     "metadata": {},
     "output_type": "execute_result"
    }
   ],
   "source": [
    "s = \"abdbca\"\n",
    "longestPalindromeSubseq_dp(s)"
   ]
  },
  {
   "cell_type": "code",
   "execution_count": 33,
   "id": "bc38fd0f",
   "metadata": {},
   "outputs": [
    {
     "data": {
      "text/plain": [
       "1"
      ]
     },
     "execution_count": 33,
     "metadata": {},
     "output_type": "execute_result"
    }
   ],
   "source": [
    "s = \"pqr\"\n",
    "longestPalindromeSubseq_dp(s)"
   ]
  },
  {
   "cell_type": "code",
   "execution_count": null,
   "id": "73c3437a",
   "metadata": {},
   "outputs": [],
   "source": []
  }
 ],
 "metadata": {
  "kernelspec": {
   "display_name": "Python 3",
   "language": "python",
   "name": "python3"
  },
  "language_info": {
   "codemirror_mode": {
    "name": "ipython",
    "version": 3
   },
   "file_extension": ".py",
   "mimetype": "text/x-python",
   "name": "python",
   "nbconvert_exporter": "python",
   "pygments_lexer": "ipython3",
   "version": "3.8.8"
  }
 },
 "nbformat": 4,
 "nbformat_minor": 5
}
