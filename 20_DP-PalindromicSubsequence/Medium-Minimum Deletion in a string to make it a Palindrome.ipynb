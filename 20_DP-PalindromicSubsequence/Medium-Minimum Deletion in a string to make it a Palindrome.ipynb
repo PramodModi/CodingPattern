{
 "cells": [
  {
   "cell_type": "markdown",
   "id": "8f85028e",
   "metadata": {},
   "source": [
    "## Problem: Minimum Deletion in a string to make it a Palindrome\n",
    "\n",
    "Given a string, find the minimum number of characters that we can remove to make it a palindrome.\n",
    "\n",
    "Example 1:\n",
    "\n",
    "    Input: \"abdbca\"\n",
    "    Output: 1\n",
    "    Explanation: By removing \"c\", we get a palindrome \"abdba\".\n",
    "Example 2:\n",
    "\n",
    "    Input: = \"cddpd\"\n",
    "    Output: 2\n",
    "    Explanation: Deleting \"cp\", we get a palindrome \"ddd\".\n",
    "Example 3:\n",
    "\n",
    "    Input: = \"pqr\"\n",
    "    Output: 2\n",
    "    Explanation: We have to remove any two characters to get a palindrome,\n",
    "    e.g. if we remove \"pq\", we get palindrome \"r\"."
   ]
  },
  {
   "cell_type": "markdown",
   "id": "60bfafd0",
   "metadata": {},
   "source": [
    "### Approach:\n",
    "\n",
    "This is same as \"Longest Palindromic Subsequence\" with little modification. The letters which are not part of the palindrom, remove those letters. Basically, minimum deletion = length of string - longest palindromic subsequence.\n",
    "\n",
    "Palindromic Subsequence: https://github.com/PramodModi/CodingPattern/blob/main/20_DP-PalindromicSubsequence/Medium-Longest%20Palindromic%20Subsequence.ipynb"
   ]
  },
  {
   "cell_type": "code",
   "execution_count": 5,
   "id": "2aedfbb2",
   "metadata": {},
   "outputs": [],
   "source": [
    "def minDelPalindrom(s):\n",
    "    return len(s) - longestPalindromicSubseq(s)\n",
    "\n",
    "def longestPalindromicSubseq(s):\n",
    "    n = len(s)\n",
    "    dp = [[0]*n for _ in range(n)]\n",
    "    for i in range(n):\n",
    "        dp[i][i] = 1\n",
    "        \n",
    "    for i in range(n-1, -1, -1):\n",
    "        for j in range(i+1, n, 1):\n",
    "            if s[i] == s[j]:\n",
    "                dp[i][j] = 2 + dp[i+1][j-1]\n",
    "            else:\n",
    "                dp[i][j] = max(dp[i+1][j], dp[i][j-1])\n",
    "    return dp[0][n-1]"
   ]
  },
  {
   "cell_type": "code",
   "execution_count": 6,
   "id": "a877ce31",
   "metadata": {},
   "outputs": [
    {
     "data": {
      "text/plain": [
       "1"
      ]
     },
     "execution_count": 6,
     "metadata": {},
     "output_type": "execute_result"
    }
   ],
   "source": [
    "s = \"abdbca\"\n",
    "minDelPalindrom(s)"
   ]
  },
  {
   "cell_type": "code",
   "execution_count": 7,
   "id": "96f11414",
   "metadata": {},
   "outputs": [
    {
     "data": {
      "text/plain": [
       "2"
      ]
     },
     "execution_count": 7,
     "metadata": {},
     "output_type": "execute_result"
    }
   ],
   "source": [
    "s = \"cddpd\"\n",
    "minDelPalindrom(s)"
   ]
  },
  {
   "cell_type": "code",
   "execution_count": 8,
   "id": "0c43d4ec",
   "metadata": {},
   "outputs": [
    {
     "data": {
      "text/plain": [
       "2"
      ]
     },
     "execution_count": 8,
     "metadata": {},
     "output_type": "execute_result"
    }
   ],
   "source": [
    "s = \"pqr\"\n",
    "minDelPalindrom(s)"
   ]
  },
  {
   "cell_type": "code",
   "execution_count": null,
   "id": "f0323c16",
   "metadata": {},
   "outputs": [],
   "source": []
  }
 ],
 "metadata": {
  "kernelspec": {
   "display_name": "Python 3 (ipykernel)",
   "language": "python",
   "name": "python3"
  },
  "language_info": {
   "codemirror_mode": {
    "name": "ipython",
    "version": 3
   },
   "file_extension": ".py",
   "mimetype": "text/x-python",
   "name": "python",
   "nbconvert_exporter": "python",
   "pygments_lexer": "ipython3",
   "version": "3.8.18"
  }
 },
 "nbformat": 4,
 "nbformat_minor": 5
}
