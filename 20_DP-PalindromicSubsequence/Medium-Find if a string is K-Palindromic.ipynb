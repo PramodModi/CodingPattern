{
 "cells": [
  {
   "cell_type": "markdown",
   "id": "5418da46",
   "metadata": {},
   "source": [
    "## Problem: Find if a string is K-Palindromic\n",
    "LeetCode:\n",
    "\n",
    "https://leetcode.com/problems/valid-palindrome-iii/\n",
    "\n",
    "Any string will be called K-palindromic if it can be transformed into a palindrome by removing at most K characters from it.\n",
    "\n",
    "Example1:\n",
    "\n",
    "    s = \"abcdeca\" , k =2\n",
    "    output = True\n",
    "    \n",
    "Example2:\n",
    "\n",
    "    s = \"abbababa\" , k =1\n",
    "    output = True"
   ]
  },
  {
   "cell_type": "markdown",
   "id": "0e156db5",
   "metadata": {},
   "source": [
    "### Approach: \n",
    "\n",
    "This problem is very much similar to finding the minimum deletions in a string to make it a palindrome. If the “minimum deletion count” is not more than K, the string will be K-palindromic.\n",
    "\n",
    "Minimum Deletion to make Palindrom: https://github.com/PramodModi/CodingPattern/blob/main/20_DP-PalindromicSubsequence/Medium-Minimum%20Deletion%20in%20a%20string%20to%20make%20it%20a%20Palindrome.ipynb\n",
    "\n",
    "Palindromic Subsequence: https://github.com/PramodModi/CodingPattern/blob/main/20_DP-PalindromicSubsequence/Medium-Longest%20Palindromic%20Subsequence.ipynb\n"
   ]
  },
  {
   "cell_type": "code",
   "execution_count": 6,
   "id": "eb8d7b19",
   "metadata": {},
   "outputs": [],
   "source": [
    "def kPalindromic(s, k):\n",
    "    return k >= len(s) - longestPalindromicSubseq(s)\n",
    "\n",
    "def longestPalindromicSubseq(s):\n",
    "    n = len(s)\n",
    "    dp = [[0]*n for _ in range(n)]\n",
    "    \n",
    "    for i in range(n):\n",
    "        dp[i][i] = 1\n",
    "    \n",
    "    for i in range(n-1, -1, -1):\n",
    "        for j in range(i+1, n , 1):\n",
    "            if s[i] == s[j]:\n",
    "                dp[i][j] = 2 + dp[i+1][j-1]\n",
    "            else:\n",
    "                dp[i][j] = max(dp[i+1][j], dp[i][j-1])\n",
    "    return dp[0][n-1]"
   ]
  },
  {
   "cell_type": "code",
   "execution_count": 7,
   "id": "a7e0dd6b",
   "metadata": {},
   "outputs": [
    {
     "data": {
      "text/plain": [
       "True"
      ]
     },
     "execution_count": 7,
     "metadata": {},
     "output_type": "execute_result"
    }
   ],
   "source": [
    "s = \"abcdeca\" \n",
    "k =2\n",
    "kPalindromic(s, k)"
   ]
  },
  {
   "cell_type": "code",
   "execution_count": 8,
   "id": "176737bc",
   "metadata": {},
   "outputs": [
    {
     "data": {
      "text/plain": [
       "True"
      ]
     },
     "execution_count": 8,
     "metadata": {},
     "output_type": "execute_result"
    }
   ],
   "source": [
    "s = \"abbababa\"\n",
    "k =1\n",
    "kPalindromic(s, k)"
   ]
  },
  {
   "cell_type": "code",
   "execution_count": 9,
   "id": "8b883713",
   "metadata": {},
   "outputs": [
    {
     "data": {
      "text/plain": [
       "False"
      ]
     },
     "execution_count": 9,
     "metadata": {},
     "output_type": "execute_result"
    }
   ],
   "source": [
    "s = \"abcabde\"\n",
    "k =1\n",
    "kPalindromic(s, k)"
   ]
  },
  {
   "cell_type": "code",
   "execution_count": null,
   "id": "eadd5d84",
   "metadata": {},
   "outputs": [],
   "source": []
  }
 ],
 "metadata": {
  "kernelspec": {
   "display_name": "Python 3 (ipykernel)",
   "language": "python",
   "name": "python3"
  },
  "language_info": {
   "codemirror_mode": {
    "name": "ipython",
    "version": 3
   },
   "file_extension": ".py",
   "mimetype": "text/x-python",
   "name": "python",
   "nbconvert_exporter": "python",
   "pygments_lexer": "ipython3",
   "version": "3.8.18"
  }
 },
 "nbformat": 4,
 "nbformat_minor": 5
}
