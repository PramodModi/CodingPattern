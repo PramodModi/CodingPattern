{
 "cells": [
  {
   "cell_type": "markdown",
   "id": "a948df7c",
   "metadata": {},
   "source": [
    "## Problem: Palindromic Partitioning\n",
    "LeetCode: 132. Palindrome Partitioning II\n",
    "\n",
    "https://leetcode.com/problems/palindrome-partitioning-ii/\n",
    "\n",
    "Given a string, we want to cut it into pieces such that each piece is a palindrome. Write a function to return the minimum number of cuts needed.\n",
    "\n",
    "Example1:\n",
    "\n",
    "    Input: \"abdbca\"\n",
    "    Output: 3\n",
    "    Explanation: Palindrome pieces are \"a\", \"bdb\", \"c\", \"a\".\n",
    "Example 2:\n",
    "\n",
    "    Input: = \"cddpd\"\n",
    "    Output: 2\n",
    "    Explanation: Palindrome pieces are \"c\", \"d\", \"dpd\".\n",
    "Example 3:\n",
    "\n",
    "    Input: = \"pqr\"\n",
    "    Output: 2\n",
    "    Explanation: Palindrome pieces are \"p\", \"q\", \"r\".\n",
    "Example 4:\n",
    "\n",
    "    Input: = \"pp\"\n",
    "    Output: 0\n",
    "    Explanation: We do not need to cut, as \"pp\" is a palindrome."
   ]
  },
  {
   "cell_type": "markdown",
   "id": "cf26a970",
   "metadata": {},
   "source": [
    "### Approach: Recurssive\n",
    "Start from index i = 0, and go to each index forward (j), check if the string ranging from (i, j) is palindrom. If yes, then one possible cut at the index of j. Keep the i at same place, and keep moving the j and repeat the same in recursive call. Keep the minimum cut at each possible j. J will always start from i, as we have to check palindrom for string (i to j).\n",
    "So, for at index i, you will have minimum cut needed. Similarly find the minimum cut for all i.\n"
   ]
  },
  {
   "cell_type": "code",
   "execution_count": 57,
   "id": "1b623aaa",
   "metadata": {},
   "outputs": [],
   "source": [
    "def minCut_rec(s):\n",
    "    return minCut(s, 0) - 1\n",
    "\n",
    "def minCut(s, index):\n",
    "    if index >= len(s):\n",
    "        return 0\n",
    "    mincut = float(\"inf\")\n",
    "    for j in range(index, len(s), 1 ):\n",
    "        if isPalindrom(s, index, j):\n",
    "            mincut = min(mincut, 1 + minCut(s, j + 1))\n",
    "    return mincut\n",
    "\n",
    "def isPalindrom(s, left, right):\n",
    "    while left < right:\n",
    "        if s[left] != s[right]:\n",
    "            return False\n",
    "        left += 1\n",
    "        right -=1 \n",
    "    return True\n",
    "            "
   ]
  },
  {
   "cell_type": "code",
   "execution_count": 58,
   "id": "d17bc0cf",
   "metadata": {},
   "outputs": [
    {
     "data": {
      "text/plain": [
       "3"
      ]
     },
     "execution_count": 58,
     "metadata": {},
     "output_type": "execute_result"
    }
   ],
   "source": [
    "s = \"abdbca\"\n",
    "minCut_rec(s)"
   ]
  },
  {
   "cell_type": "code",
   "execution_count": 59,
   "id": "a6586f38",
   "metadata": {},
   "outputs": [
    {
     "data": {
      "text/plain": [
       "1"
      ]
     },
     "execution_count": 59,
     "metadata": {},
     "output_type": "execute_result"
    }
   ],
   "source": [
    "s = \"aab\"\n",
    "minCut_rec(s)"
   ]
  },
  {
   "cell_type": "code",
   "execution_count": 60,
   "id": "cf51b977",
   "metadata": {},
   "outputs": [
    {
     "data": {
      "text/plain": [
       "2"
      ]
     },
     "execution_count": 60,
     "metadata": {},
     "output_type": "execute_result"
    }
   ],
   "source": [
    "s = \"cddpd\"\n",
    "minCut_rec(s)"
   ]
  },
  {
   "cell_type": "markdown",
   "id": "5b107b49",
   "metadata": {},
   "source": [
    "### Memoization:"
   ]
  },
  {
   "cell_type": "code",
   "execution_count": 154,
   "id": "9b86a486",
   "metadata": {},
   "outputs": [],
   "source": [
    "def minCut_mem(s):\n",
    "    mem = [-1] * (len(s))\n",
    "    return minCut(s, 0, mem) - 1\n",
    "\n",
    "def minCut(s, index, mem):\n",
    "    if index >= len(s):\n",
    "        return 0\n",
    "    if mem[index] != -1:\n",
    "        return mem[index]\n",
    "    mincut = len(s)\n",
    "    for j in range(index, len(s), 1 ):\n",
    "        if isPalindrom(s, index, j):\n",
    "            mincut = min(mincut, 1 + minCut(s, j + 1, mem))\n",
    "    mem[index] = mincut\n",
    "    return mincut\n",
    "\n",
    "def isPalindrom(s, left, right):\n",
    "    while left < right:\n",
    "        if s[left] != s[right]:\n",
    "            return False\n",
    "        left += 1\n",
    "        right -=1 \n",
    "    return True"
   ]
  },
  {
   "cell_type": "code",
   "execution_count": 155,
   "id": "8cbcb444",
   "metadata": {},
   "outputs": [
    {
     "data": {
      "text/plain": [
       "3"
      ]
     },
     "execution_count": 155,
     "metadata": {},
     "output_type": "execute_result"
    }
   ],
   "source": [
    "s = \"abdbca\"\n",
    "minCut_mem(s)"
   ]
  },
  {
   "cell_type": "code",
   "execution_count": 156,
   "id": "7bf8e4d1",
   "metadata": {},
   "outputs": [
    {
     "data": {
      "text/plain": [
       "1"
      ]
     },
     "execution_count": 156,
     "metadata": {},
     "output_type": "execute_result"
    }
   ],
   "source": [
    "s = \"aab\"\n",
    "minCut_mem(s)"
   ]
  },
  {
   "cell_type": "code",
   "execution_count": 157,
   "id": "dfb0a64e",
   "metadata": {},
   "outputs": [
    {
     "data": {
      "text/plain": [
       "2"
      ]
     },
     "execution_count": 157,
     "metadata": {},
     "output_type": "execute_result"
    }
   ],
   "source": [
    "s = \"cddpd\"\n",
    "minCut_mem(s)"
   ]
  },
  {
   "cell_type": "code",
   "execution_count": 158,
   "id": "c2c522b3",
   "metadata": {},
   "outputs": [
    {
     "data": {
      "text/plain": [
       "2"
      ]
     },
     "execution_count": 158,
     "metadata": {},
     "output_type": "execute_result"
    }
   ],
   "source": [
    "s = \"pqr\"\n",
    "minCut_mem(s)"
   ]
  },
  {
   "cell_type": "code",
   "execution_count": 159,
   "id": "4b80ca38",
   "metadata": {},
   "outputs": [
    {
     "data": {
      "text/plain": [
       "0"
      ]
     },
     "execution_count": 159,
     "metadata": {},
     "output_type": "execute_result"
    }
   ],
   "source": [
    "s = \"pp\"\n",
    "minCut_mem(s)"
   ]
  },
  {
   "cell_type": "markdown",
   "id": "977f5e24",
   "metadata": {},
   "source": [
    "### DP"
   ]
  },
  {
   "cell_type": "code",
   "execution_count": 160,
   "id": "732dae23",
   "metadata": {},
   "outputs": [],
   "source": [
    "def minCut_dp(s):\n",
    "    n = len(s)\n",
    "    dp = [0] * (n+1)\n",
    "    for i in range(n-1, -1, -1):\n",
    "        mincut = n\n",
    "        for j in range(i, n, 1):\n",
    "            if isPalindrom(s, i, j):\n",
    "                mincut = min(mincut, 1 + dp[j+1])\n",
    "        dp[i] = mincut\n",
    "    \n",
    "    return dp[0]-1\n",
    "\n",
    "def isPalindrom(s, left, right):\n",
    "    while left < right:\n",
    "        if s[left] != s[right]:\n",
    "            return False\n",
    "        left += 1\n",
    "        right -=1 \n",
    "    return True"
   ]
  },
  {
   "cell_type": "code",
   "execution_count": 149,
   "id": "8b7e3d10",
   "metadata": {},
   "outputs": [
    {
     "data": {
      "text/plain": [
       "1"
      ]
     },
     "execution_count": 149,
     "metadata": {},
     "output_type": "execute_result"
    }
   ],
   "source": [
    "s = \"aab\"\n",
    "minCut_dp(s)"
   ]
  },
  {
   "cell_type": "code",
   "execution_count": 150,
   "id": "5c8d993e",
   "metadata": {},
   "outputs": [
    {
     "data": {
      "text/plain": [
       "3"
      ]
     },
     "execution_count": 150,
     "metadata": {},
     "output_type": "execute_result"
    }
   ],
   "source": [
    "s = \"abdbca\"\n",
    "minCut_dp(s)"
   ]
  },
  {
   "cell_type": "code",
   "execution_count": 151,
   "id": "410d98cc",
   "metadata": {},
   "outputs": [
    {
     "data": {
      "text/plain": [
       "2"
      ]
     },
     "execution_count": 151,
     "metadata": {},
     "output_type": "execute_result"
    }
   ],
   "source": [
    "s = \"cddpd\"\n",
    "minCut_dp(s)"
   ]
  },
  {
   "cell_type": "code",
   "execution_count": 152,
   "id": "305d1820",
   "metadata": {},
   "outputs": [
    {
     "data": {
      "text/plain": [
       "2"
      ]
     },
     "execution_count": 152,
     "metadata": {},
     "output_type": "execute_result"
    }
   ],
   "source": [
    "s = \"pqr\"\n",
    "minCut_dp(s)"
   ]
  },
  {
   "cell_type": "code",
   "execution_count": 153,
   "id": "d44891c7",
   "metadata": {},
   "outputs": [
    {
     "data": {
      "text/plain": [
       "0"
      ]
     },
     "execution_count": 153,
     "metadata": {},
     "output_type": "execute_result"
    }
   ],
   "source": [
    "s = \"pp\"\n",
    "minCut_dp(s)"
   ]
  },
  {
   "cell_type": "code",
   "execution_count": null,
   "id": "3ea621b1",
   "metadata": {},
   "outputs": [],
   "source": []
  }
 ],
 "metadata": {
  "kernelspec": {
   "display_name": "Python 3",
   "language": "python",
   "name": "python3"
  },
  "language_info": {
   "codemirror_mode": {
    "name": "ipython",
    "version": 3
   },
   "file_extension": ".py",
   "mimetype": "text/x-python",
   "name": "python",
   "nbconvert_exporter": "python",
   "pygments_lexer": "ipython3",
   "version": "3.8.8"
  }
 },
 "nbformat": 4,
 "nbformat_minor": 5
}
