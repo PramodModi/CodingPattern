{
 "cells": [
  {
   "cell_type": "markdown",
   "id": "f1974456",
   "metadata": {},
   "source": [
    "## Problem: Longest Palindromic Substring\n",
    "LeeCode: 5. Longest Palindromic Substring\n",
    "\n",
    "https://leetcode.com/problems/longest-palindromic-substring/description/\n",
    "\n",
    "Given a string s, return the longest palindromic substring in s.\n",
    "\n",
    "Example 1:\n",
    "\n",
    "    Input: s = \"babad\"\n",
    "    Output: \"bab\"\n",
    "    Explanation: \"aba\" is also a valid answer.\n",
    "Example 2:\n",
    "\n",
    "    Input: s = \"cbbd\"\n",
    "    Output: \"bb\"\n",
    " \n",
    "\n",
    "Constraints:\n",
    "\n",
    "    1 <= s.length <= 1000\n",
    "    s consist of only digits and English letters."
   ]
  },
  {
   "cell_type": "markdown",
   "id": "a2b1dfbc",
   "metadata": {},
   "source": [
    "### Approach:\n",
    "This problem is asking for substring not for subsequence. \n",
    "The approach we can take:\n",
    "1. For odd number of letters: at index i, check for both direction (i-1) and (i+1). Keep checking If letters are same at (i-1) and (i+1) otherwise break. Return left and right indexes. Calculate the length of substring (right-left+1).\n",
    "2. For even number of letters: at index i, check for i and i+1 . Keep checking If letters are same at (i) and (i+1) otherwise break. Return left and right indexes. Calculate the length of substring (right-left+1).\n",
    "\n",
    "Both should be run for eaxh index in string. Retun maximum length ."
   ]
  },
  {
   "cell_type": "code",
   "execution_count": 3,
   "id": "b71d7969",
   "metadata": {},
   "outputs": [],
   "source": [
    "def longestPalindrome(s):\n",
    "    maxLength = [0,1]\n",
    "    for i in range(1, len(s)):\n",
    "        oddLength = getPalindrom(s, i-1, i+1)\n",
    "        evenLength = getPalindrom(s, i-1, i)\n",
    "        maxOddEvenLength = max(oddLength, evenLength, key = lambda x : x[1]-x[0])\n",
    "        maxLength = max(maxLength, maxOddEvenLength, key = lambda x : x[1]-x[0])\n",
    "    return s[maxLength[0]:maxLength[1]]\n",
    "\n",
    "def getPalindrom(s, left, right):\n",
    "    while left >= 0 and right < len(s):\n",
    "        if s[left] != s[right]:\n",
    "            break\n",
    "        left -=1\n",
    "        right += 1\n",
    "    return[left + 1, right]"
   ]
  },
  {
   "cell_type": "code",
   "execution_count": 4,
   "id": "fd3b3f04",
   "metadata": {},
   "outputs": [
    {
     "data": {
      "text/plain": [
       "'bab'"
      ]
     },
     "execution_count": 4,
     "metadata": {},
     "output_type": "execute_result"
    }
   ],
   "source": [
    "s = \"babad\"\n",
    "longestPalindrome(s)"
   ]
  },
  {
   "cell_type": "code",
   "execution_count": 5,
   "id": "5d327c23",
   "metadata": {},
   "outputs": [
    {
     "data": {
      "text/plain": [
       "'bb'"
      ]
     },
     "execution_count": 5,
     "metadata": {},
     "output_type": "execute_result"
    }
   ],
   "source": [
    "s = \"cbbd\"\n",
    "longestPalindrome(s)"
   ]
  },
  {
   "cell_type": "markdown",
   "id": "c9b8c7c0",
   "metadata": {},
   "source": [
    "### Memoization"
   ]
  },
  {
   "cell_type": "code",
   "execution_count": 8,
   "id": "d0bbbe09",
   "metadata": {},
   "outputs": [],
   "source": [
    "def longestPalindrome_mem(s):\n",
    "    mem = {}\n",
    "    maxLength = [0,1]\n",
    "    for i in range(1, len(s)):\n",
    "        oddLength = getPalindrom_mem(s, i-1, i+1, mem)\n",
    "        evenLength = getPalindrom_mem(s, i-1, i, mem)\n",
    "        maxOddEvenLength = max(oddLength, evenLength, key = lambda x : x[1]-x[0])\n",
    "        maxLength = max(maxLength, maxOddEvenLength, key = lambda x : x[1]-x[0])\n",
    "    return s[maxLength[0]:maxLength[1]]\n",
    "\n",
    "def getPalindrom_mem(s, left, right, mem):\n",
    "    key = str(left)+ \"-\" + str(right)\n",
    "    if key in mem:\n",
    "        return mem[key]\n",
    "    while left >= 0 and right < len(s):\n",
    "        if s[left] != s[right]:\n",
    "            break\n",
    "        left -=1\n",
    "        right += 1\n",
    "    mem[key] = [left + 1, right]\n",
    "    return mem[key]"
   ]
  },
  {
   "cell_type": "code",
   "execution_count": 9,
   "id": "125043ef",
   "metadata": {},
   "outputs": [
    {
     "data": {
      "text/plain": [
       "'bab'"
      ]
     },
     "execution_count": 9,
     "metadata": {},
     "output_type": "execute_result"
    }
   ],
   "source": [
    "s = \"babad\"\n",
    "longestPalindrome_mem(s)"
   ]
  },
  {
   "cell_type": "code",
   "execution_count": 10,
   "id": "c06944f7",
   "metadata": {},
   "outputs": [
    {
     "data": {
      "text/plain": [
       "'bb'"
      ]
     },
     "execution_count": 10,
     "metadata": {},
     "output_type": "execute_result"
    }
   ],
   "source": [
    "s = \"cbbd\"\n",
    "longestPalindrome_mem(s)"
   ]
  },
  {
   "cell_type": "code",
   "execution_count": null,
   "id": "e58dbbdb",
   "metadata": {},
   "outputs": [],
   "source": []
  }
 ],
 "metadata": {
  "kernelspec": {
   "display_name": "Python 3",
   "language": "python",
   "name": "python3"
  },
  "language_info": {
   "codemirror_mode": {
    "name": "ipython",
    "version": 3
   },
   "file_extension": ".py",
   "mimetype": "text/x-python",
   "name": "python",
   "nbconvert_exporter": "python",
   "pygments_lexer": "ipython3",
   "version": "3.8.8"
  }
 },
 "nbformat": 4,
 "nbformat_minor": 5
}
