{
 "cells": [
  {
   "attachments": {
    "image.png": {
     "image/png": "[encoded data removed]"
    }
   },
   "cell_type": "markdown",
   "id": "69e8bc2a",
   "metadata": {},
   "source": [
    "## Problem: Detect Cycles in 2D Grid\n",
    "https://leetcode.com/problems/detect-cycles-in-2d-grid/\n",
    "\n",
    "Given a 2D array of characters grid of size m x n, you need to find if there exists any cycle consisting of the same value in grid.\n",
    "\n",
    "A cycle is a path of length 4 or more in the grid that starts and ends at the same cell. From a given cell, you can move to one of the cells adjacent to it - in one of the four directions (up, down, left, or right), if it has the same value of the current cell.\n",
    "\n",
    "Also, you cannot move to the cell that you visited in your last move. For example, the cycle (1, 1) -> (1, 2) -> (1, 1) is invalid because from (1, 2) we visited (1, 1) which was the last visited cell.\n",
    "\n",
    "Return true if any cycle of the same value exists in grid, otherwise, return false.\n",
    "\n",
    " \n",
    "\n",
    "Example 1:\n",
    "\n",
    "![image.png](attachment:image.png)\n",
    "\n",
    "    Input: grid = [[\"a\",\"a\",\"a\",\"a\"],[\"a\",\"b\",\"b\",\"a\"],[\"a\",\"b\",\"b\",\"a\"],[\"a\",\"a\",\"a\",\"a\"]]\n",
    "    Output: true\n",
    "    Explanation: There are two valid cycles shown in different colors in the image below:\n",
    "\n",
    "Example 2:\n",
    "\n",
    "\n",
    "\n",
    "    Input: grid = [[\"c\",\"c\",\"c\",\"a\"],[\"c\",\"d\",\"c\",\"c\"],[\"c\",\"c\",\"e\",\"c\"],[\"f\",\"c\",\"c\",\"c\"]]\n",
    "    Output: true\n",
    "    Explanation: There is only one valid cycle highlighted in the image below:\n",
    "\n",
    "Example 3:\n",
    "\n",
    "\n",
    "\n",
    "    Input: grid = [[\"a\",\"b\",\"b\"],[\"b\",\"z\",\"b\"],[\"b\",\"b\",\"a\"]]\n",
    "    Output: false\n",
    " \n",
    "\n",
    "Constraints:\n",
    "\n",
    "    m == grid.length\n",
    "    n == grid[i].length\n",
    "    1 <= m, n <= 500\n",
    "    grid consists only of lowercase English letters.\n"
   ]
  },
  {
   "cell_type": "raw",
   "id": "da6701f5",
   "metadata": {},
   "source": [
    "Approach:\n",
    "It is very similar to other Island pattern problems. Only changes is to return True or False, if cycle detects.\n",
    "Here couple of important points, which leads to slight change in the code:\n",
    "1. Avoid the parent in the cycle. Means, if cell at (0,0)has same value as its neighbouring cell ((1,0) for ex), then it is not cycle.\n",
    "2. Since to have cycle initial cell and all other cells should have same value. That means we should not change the value of cell rather we will keep visited cells separately.\n",
    "\n",
    "For point1, will pass the parent coordinate. If neighbouring cell is the parent, then do not do any thing. Neighbouring cell is parent means, if a->b and a<-b then avoid.\n",
    "To say it is cyclic:\n",
    "1. Cell's neighbour should have the same value and should have already visited. \n"
   ]
  },
  {
   "cell_type": "code",
   "execution_count": 96,
   "id": "31e1fe39",
   "metadata": {},
   "outputs": [],
   "source": [
    "def containsCycle(grid):\n",
    "    n = len(grid)\n",
    "    m = len(grid[0])\n",
    "    visited = [[False] * m for _ in range(n)]\n",
    "    for i in range(len(grid)):\n",
    "        for j in range(len(grid[i])):\n",
    "            if visited[i][j] == False:\n",
    "                if explore(i, j, grid,visited, -1,-1): ## Here, -1, and -1 is the parent coordinate, started with -1\n",
    "                    return True\n",
    "    return False\n",
    "\n",
    "def explore(row, col, grid, visited,pr, pc):\n",
    "    value = grid[row][col]\n",
    "    visited[row][col] = True\n",
    "    nbrs = getNeighbours(row, col, grid)\n",
    "    for nr, nc in nbrs:\n",
    "        if grid[nr][nc] != value or (nr == pr and nc == pc):\n",
    "            continue\n",
    "        if visited[nr][nc]:\n",
    "                return True\n",
    "        if explore(nr, nc, grid, visited,row, col):\n",
    "            return True\n",
    "    return False\n",
    "\n",
    "def getNeighbours(row, col, grid):\n",
    "    nrs = []\n",
    "    if row > 0:\n",
    "        nrs.append((row-1, col))\n",
    "    if row < len(grid)-1:\n",
    "        nrs.append((row+1, col))\n",
    "    if col > 0:\n",
    "        nrs.append((row, col-1))\n",
    "    if col<len(grid[row]) - 1:\n",
    "        nrs.append((row, col+1))\n",
    "    return nrs"
   ]
  },
  {
   "cell_type": "code",
   "execution_count": 97,
   "id": "76d7b60c",
   "metadata": {},
   "outputs": [
    {
     "data": {
      "text/plain": [
       "True"
      ]
     },
     "execution_count": 97,
     "metadata": {},
     "output_type": "execute_result"
    }
   ],
   "source": [
    "grid = [[\"a\",\"a\",\"a\",\"a\"],[\"a\",\"b\",\"b\",\"a\"],[\"a\",\"b\",\"b\",\"a\"],[\"a\",\"a\",\"a\",\"a\"]]\n",
    "containsCycle(grid)"
   ]
  },
  {
   "cell_type": "code",
   "execution_count": 98,
   "id": "3023f5b0",
   "metadata": {},
   "outputs": [
    {
     "data": {
      "text/plain": [
       "False"
      ]
     },
     "execution_count": 98,
     "metadata": {},
     "output_type": "execute_result"
    }
   ],
   "source": [
    "grid = [[\"a\",\"b\",\"b\"],[\"b\",\"z\",\"b\"],[\"b\",\"b\",\"a\"]]\n",
    "containsCycle(grid)"
   ]
  },
  {
   "cell_type": "code",
   "execution_count": 99,
   "id": "d3c5caf7",
   "metadata": {},
   "outputs": [
    {
     "data": {
      "text/plain": [
       "True"
      ]
     },
     "execution_count": 99,
     "metadata": {},
     "output_type": "execute_result"
    }
   ],
   "source": [
    "grid = [[\"c\",\"c\",\"c\",\"a\"],[\"c\",\"d\",\"c\",\"c\"],[\"c\",\"c\",\"e\",\"c\"],[\"f\",\"c\",\"c\",\"c\"]]\n",
    "containsCycle(grid)"
   ]
  },
  {
   "cell_type": "code",
   "execution_count": null,
   "id": "03f99db4",
   "metadata": {},
   "outputs": [],
   "source": []
  }
 ],
 "metadata": {
  "kernelspec": {
   "display_name": "Python 3",
   "language": "python",
   "name": "python3"
  },
  "language_info": {
   "codemirror_mode": {
    "name": "ipython",
    "version": 3
   },
   "file_extension": ".py",
   "mimetype": "text/x-python",
   "name": "python",
   "nbconvert_exporter": "python",
   "pygments_lexer": "ipython3",
   "version": "3.8.8"
  }
 },
 "nbformat": 4,
 "nbformat_minor": 5
}
