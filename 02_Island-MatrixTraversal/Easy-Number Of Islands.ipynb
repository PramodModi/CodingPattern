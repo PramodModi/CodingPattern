{
 "cells": [
  {
   "cell_type": "markdown",
   "id": "4532ec50",
   "metadata": {},
   "source": [
    "## Problem: Number of Islands\n",
    "LeetCode: 200. Number of Islands\n",
    "https://leetcode.com/problems/number-of-islands/\n",
    "\n",
    "Given an m x n 2D binary grid grid which represents a map of '1's (land) and '0's (water), return the number of islands.\n",
    "\n",
    "An island is surrounded by water and is formed by connecting adjacent lands horizontally or vertically. You may assume all four edges of the grid are all surrounded by water.\n",
    "\n",
    " \n",
    "\n",
    "Example 1:\n",
    "\n",
    "    Input: grid = [\n",
    "      [\"1\",\"1\",\"1\",\"1\",\"0\"],\n",
    "      [\"1\",\"1\",\"0\",\"1\",\"0\"],\n",
    "      [\"1\",\"1\",\"0\",\"0\",\"0\"],\n",
    "      [\"0\",\"0\",\"0\",\"0\",\"0\"]\n",
    "    ]\n",
    "    Output: 1\n",
    "Example 2:\n",
    "\n",
    "    Input: grid = [\n",
    "      [\"1\",\"1\",\"0\",\"0\",\"0\"],\n",
    "      [\"1\",\"1\",\"0\",\"0\",\"0\"],\n",
    "      [\"0\",\"0\",\"1\",\"0\",\"0\"],\n",
    "      [\"0\",\"0\",\"0\",\"1\",\"1\"]\n",
    "    ]\n",
    "    Output: 3\n",
    " \n",
    "\n",
    "Constraints:\n",
    "\n",
    "    m == grid.length\n",
    "    n == grid[i].length\n",
    "    1 <= m, n <= 300\n",
    "    grid[i][j] is '0' or '1'."
   ]
  },
  {
   "cell_type": "raw",
   "id": "0f8b5a36",
   "metadata": {},
   "source": [
    "Approach:\n",
    "Island problems have simple technique to visit each cells, mark visited cell either modifying the matrix or taking auxiliary matrix with boolean values. Thi helps to avoid multiple time visit of same cell.\n",
    "You can use DFS or BFS to solve it.\n"
   ]
  },
  {
   "cell_type": "code",
   "execution_count": 3,
   "id": "1266889b",
   "metadata": {},
   "outputs": [],
   "source": [
    "## DFS Technique\n",
    "def numIslands(grid):\n",
    "    num = 0\n",
    "    \n",
    "    for i in range(len(grid)):\n",
    "        for j in range(len(grid[i])):\n",
    "            if grid[i][j] == \"1\":\n",
    "                num += getIland(i, j, grid)\n",
    "    return num\n",
    "\n",
    "def getIland(row, col, grid):\n",
    "    \n",
    "    grid[row][col] = \"2\"\n",
    "    \n",
    "    nrs = getNeighbours(row, col, grid)\n",
    "    for r, c in nrs:\n",
    "        if grid[r][c] == \"1\":\n",
    "            getIland(r, c, grid)\n",
    "    return 1\n",
    "\n",
    "def getNeighbours(row, col, grid):\n",
    "    nrs = []\n",
    "    if row > 0:\n",
    "        nrs.append((row-1, col))\n",
    "    if row < len(grid)-1:\n",
    "        nrs.append((row+1, col))\n",
    "    if col > 0:\n",
    "        nrs.append((row, col-1))\n",
    "    if col<len(grid[row]) - 1:\n",
    "        nrs.append((row, col+1))\n",
    "    return nrs\n",
    "                   \n",
    "    \n"
   ]
  },
  {
   "cell_type": "code",
   "execution_count": 4,
   "id": "a51a3cfd",
   "metadata": {},
   "outputs": [
    {
     "data": {
      "text/plain": [
       "3"
      ]
     },
     "execution_count": 4,
     "metadata": {},
     "output_type": "execute_result"
    }
   ],
   "source": [
    "grid = [\n",
    "  [\"1\",\"1\",\"0\",\"0\",\"0\"],\n",
    "  [\"1\",\"1\",\"0\",\"0\",\"0\"],\n",
    "  [\"0\",\"0\",\"1\",\"0\",\"0\"],\n",
    "  [\"0\",\"0\",\"0\",\"1\",\"1\"]\n",
    "]\n",
    "numIslands(grid)"
   ]
  },
  {
   "cell_type": "code",
   "execution_count": 5,
   "id": "c4ec2632",
   "metadata": {},
   "outputs": [
    {
     "data": {
      "text/plain": [
       "1"
      ]
     },
     "execution_count": 5,
     "metadata": {},
     "output_type": "execute_result"
    }
   ],
   "source": [
    "grid = [\n",
    "  [\"1\",\"1\",\"1\",\"1\",\"0\"],\n",
    "  [\"1\",\"1\",\"0\",\"1\",\"0\"],\n",
    "  [\"1\",\"1\",\"0\",\"0\",\"0\"],\n",
    "  [\"0\",\"0\",\"0\",\"0\",\"0\"]\n",
    "]\n",
    "numIslands(grid)"
   ]
  },
  {
   "cell_type": "code",
   "execution_count": 31,
   "id": "352f70fe",
   "metadata": {},
   "outputs": [],
   "source": [
    "## BFS Technique\n",
    "from collections import deque\n",
    "def numIslandsBFS(grid):\n",
    "    num = 0\n",
    "    \n",
    "    for i in range(len(grid)):\n",
    "        for j in range(len(grid[i])):\n",
    "            if grid[i][j] == \"1\":\n",
    "                num += getIlandBFS(i, j, grid)\n",
    "    return num\n",
    "\n",
    "def getIlandBFS(row, col, grid):\n",
    "    nrs = deque([(row, col)])\n",
    "    while nrs:\n",
    "        r, c = nrs.popleft()\n",
    "        grid[r][c] = \"2\"\n",
    "        nbrs = getNeighbours(r, c, grid)\n",
    "        for nr, nc in nbrs:\n",
    "            if grid[nr][nc] == \"1\":\n",
    "                nrs.append((nr, nc))\n",
    "                \n",
    "    return 1\n",
    "\n",
    "def getNeighbours(row, col, grid):\n",
    "    nrs = []\n",
    "    if row > 0:\n",
    "        nrs.append((row-1, col))\n",
    "    if row < len(grid)-1:\n",
    "        nrs.append((row+1, col))\n",
    "    if col > 0:\n",
    "        nrs.append((row, col-1))\n",
    "    if col<len(grid[row]) - 1:\n",
    "        nrs.append((row, col+1))\n",
    "    return nrs"
   ]
  },
  {
   "cell_type": "code",
   "execution_count": 32,
   "id": "c2b04141",
   "metadata": {},
   "outputs": [
    {
     "data": {
      "text/plain": [
       "3"
      ]
     },
     "execution_count": 32,
     "metadata": {},
     "output_type": "execute_result"
    }
   ],
   "source": [
    "grid = [\n",
    "  [\"1\",\"1\",\"0\",\"0\",\"0\"],\n",
    "  [\"1\",\"1\",\"0\",\"0\",\"0\"],\n",
    "  [\"0\",\"0\",\"1\",\"0\",\"0\"],\n",
    "  [\"0\",\"0\",\"0\",\"1\",\"1\"]\n",
    "]\n",
    "numIslandsBFS(grid)"
   ]
  },
  {
   "cell_type": "code",
   "execution_count": 33,
   "id": "0f054152",
   "metadata": {},
   "outputs": [
    {
     "data": {
      "text/plain": [
       "1"
      ]
     },
     "execution_count": 33,
     "metadata": {},
     "output_type": "execute_result"
    }
   ],
   "source": [
    "grid = [\n",
    "  [\"1\",\"1\",\"1\",\"1\",\"0\"],\n",
    "  [\"1\",\"1\",\"0\",\"1\",\"0\"],\n",
    "  [\"1\",\"1\",\"0\",\"0\",\"0\"],\n",
    "  [\"0\",\"0\",\"0\",\"0\",\"0\"]\n",
    "]\n",
    "numIslandsBFS(grid)"
   ]
  },
  {
   "cell_type": "code",
   "execution_count": null,
   "id": "db19a989",
   "metadata": {},
   "outputs": [],
   "source": []
  }
 ],
 "metadata": {
  "kernelspec": {
   "display_name": "Python 3",
   "language": "python",
   "name": "python3"
  },
  "language_info": {
   "codemirror_mode": {
    "name": "ipython",
    "version": 3
   },
   "file_extension": ".py",
   "mimetype": "text/x-python",
   "name": "python",
   "nbconvert_exporter": "python",
   "pygments_lexer": "ipython3",
   "version": "3.8.8"
  }
 },
 "nbformat": 4,
 "nbformat_minor": 5
}
