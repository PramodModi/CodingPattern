{
 "cells": [
  {
   "attachments": {
    "image.png": {
     "image/png": "[encoded data removed]"
    }
   },
   "cell_type": "markdown",
   "id": "798a57a6",
   "metadata": {},
   "source": [
    "## Problem: Island Perimeter\n",
    "463. Island Perimeter\n",
    "https://leetcode.com/problems/island-perimeter/\n",
    "\n",
    "You are given row x col grid representing a map where grid[i][j] = 1 represents land and grid[i][j] = 0 represents water.\n",
    "\n",
    "Grid cells are connected horizontally/vertically (not diagonally). The grid is completely surrounded by water, and there is exactly one island (i.e., one or more connected land cells).\n",
    "\n",
    "The island doesn't have \"lakes\", meaning the water inside isn't connected to the water around the island. One cell is a square with side length 1. The grid is rectangular, width and height don't exceed 100. Determine the perimeter of the island.\n",
    "\n",
    " \n",
    "\n",
    "Example 1:\n",
    "\n",
    "![image.png](attachment:image.png)\n",
    "\n",
    "    Input: grid = [[0,1,0,0],[1,1,1,0],[0,1,0,0],[1,1,0,0]]\n",
    "    Output: 16\n",
    "    Explanation: The perimeter is the 16 yellow stripes in the image above.\n",
    "Example 2:\n",
    "\n",
    "    Input: grid = [[1]]\n",
    "    Output: 4\n",
    "Example 3:\n",
    "\n",
    "    Input: grid = [[1,0]]\n",
    "    Output: 4\n",
    " \n",
    "\n",
    "Constraints:\n",
    "\n",
    "row == grid.length\n",
    "col == grid[i].length\n",
    "1 <= row, col <= 100\n",
    "grid[i][j] is 0 or 1."
   ]
  },
  {
   "cell_type": "raw",
   "id": "796fb101",
   "metadata": {},
   "source": [
    "Approach: Look at the following conditions for cells having value 1:\n",
    "1. If there is one cell: perimeter = 4\n",
    "2. If there is two conneted cells : Perimeter = 4 + 4 -1-1 = 4 - number of neighbour of cell1 - number of neighbour of cell2\n",
    "3. If there is three connected cells: Perimeter = 4+4+4 -2 -1-1 = 4 - number of neighbour of cell1 - number of neighbour of cell2 - number of neighbour of cell3\n",
    "\n",
    "So, in general:\n",
    "1. Need to find the number of neighbours having value 1, reduce it from 4 (4 is the perimeter of cell1).\n",
    "2. perimeter contribution by cell1 = 4 - number of neighbours of cell1.\n",
    "\n",
    "If there is only 1 cell, then perimeter = 4\n",
    "if number of cells = 2, then contribution of perimeter of cell1 = 4 - 1 (one neighbour)\n",
    "                        contribution of perimeter of cell2 = 4 - 1 (one neighbour)\n",
    "                        perimeter = 6"
   ]
  },
  {
   "cell_type": "code",
   "execution_count": 19,
   "id": "7733381d",
   "metadata": {},
   "outputs": [],
   "source": [
    "\n",
    "def islandPerimeter(grid):\n",
    "    \n",
    "    perimeter = 0\n",
    "    for i in range(len(grid)):\n",
    "        for j in range(len(grid[i])):\n",
    "            if grid[i][j] == 1:\n",
    "                perimeter += (4 - getNeighbours(i, j , grid))\n",
    "    return perimeter\n",
    "    \n",
    "\n",
    "def getNeighbours(row, col, grid):\n",
    "    count = 0\n",
    "    if row > 0 and grid[row-1][col]:\n",
    "        count += 1\n",
    "    if col > 0 and grid[row][col-1]:\n",
    "        count += 1\n",
    "    if row < len(grid)-1 and grid[row+1][col]:\n",
    "        count += 1\n",
    "    if col < len(grid[row])-1 and grid[row][col+1]:\n",
    "        count += 1\n",
    "    return count\n"
   ]
  },
  {
   "cell_type": "code",
   "execution_count": 20,
   "id": "d54ba8d5",
   "metadata": {},
   "outputs": [
    {
     "data": {
      "text/plain": [
       "16"
      ]
     },
     "execution_count": 20,
     "metadata": {},
     "output_type": "execute_result"
    }
   ],
   "source": [
    "grid = [[0,1,0,0],[1,1,1,0],[0,1,0,0],[1,1,0,0]]\n",
    "islandPerimeter(grid)"
   ]
  },
  {
   "cell_type": "code",
   "execution_count": null,
   "id": "9c328c30",
   "metadata": {},
   "outputs": [],
   "source": []
  }
 ],
 "metadata": {
  "kernelspec": {
   "display_name": "Python 3",
   "language": "python",
   "name": "python3"
  },
  "language_info": {
   "codemirror_mode": {
    "name": "ipython",
    "version": 3
   },
   "file_extension": ".py",
   "mimetype": "text/x-python",
   "name": "python",
   "nbconvert_exporter": "python",
   "pygments_lexer": "ipython3",
   "version": "3.8.8"
  }
 },
 "nbformat": 4,
 "nbformat_minor": 5
}
