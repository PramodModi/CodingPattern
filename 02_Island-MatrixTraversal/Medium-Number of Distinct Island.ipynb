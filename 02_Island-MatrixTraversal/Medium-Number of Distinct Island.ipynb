{
 "cells": [
  {
   "attachments": {
    "image.png": {
     "image/png": "[encoded data removed]"
    }
   },
   "cell_type": "markdown",
   "id": "8b5195eb",
   "metadata": {},
   "source": [
    "## Problem: Number of Distinct Island\n",
    "https://takeuforward.org/data-structure/number-of-distinct-islands/\n",
    "\n",
    "Given a boolean 2D matrix grid of size N x M. You have to find the number of distinct islands where a group of connected 1s (horizontally or vertically) forms an island. Two islands are considered to be distinct if and only if one island is equal to another (not rotated or reflected).\n",
    "\n",
    "Example 1:\n",
    "    \n",
    "    Input: grid = \n",
    "    [[1, 1, 0, 0, 0], \n",
    "    [1, 1, 0, 0, 0], \n",
    "    [0, 0, 0, 1, 1], \n",
    "    [0, 0, 0, 1, 1]]\n",
    "\n",
    "![image.png](attachment:image.png)\n",
    "\n",
    "    Output: 1\n",
    "    Explanation: Island at the top left corner is the same as the island at the bottom right corner.\n",
    "\n",
    "Example 2:\n",
    "    \n",
    "    Input: grid = \n",
    "    [[1, 1, 0, 1, 1], \n",
    "    [1, 0, 0, 0, 0], \n",
    "    [0, 0, 0, 0, 1], \n",
    "    [1, 1, 0, 1, 1]]\n",
    "    Output: 3 \n",
    "    Explanation: There are 1, 1 at the top left corner; 1, 1 at the top right corner and 1 at the bottom right corner. We ignore the island 1, 1 at the bottom left corner since 1, 1 it is identical to the top right corner."
   ]
  },
  {
   "cell_type": "markdown",
   "id": "30e1dd91",
   "metadata": {},
   "source": [
    "### Approach:\n",
    "    This is simlar to number of island problem. Only difference here is we need to find distinct island. So, in place of number of island, will use set and store the relative coordinates of all neighboiring cells having value 1. 1st cell will have coordinate (0, 0), right side cell =(0,1), bottom left cell = (1,0) and botton right(1,1).\n",
    "\n",
    "Then return the length of set.\n",
    "    "
   ]
  },
  {
   "cell_type": "code",
   "execution_count": 32,
   "id": "c898b371",
   "metadata": {},
   "outputs": [],
   "source": [
    "def countOfDistinctIslands(grid):\n",
    "    s = set()\n",
    "    \n",
    "    for i in range(len(grid)):\n",
    "        for j in range(len(grid[i])):\n",
    "            if grid[i][j] == 1:\n",
    "                coordinates =[]\n",
    "                getIsland(i,j,grid, coordinates)\n",
    "                s.add(\"\".join(coordinates))\n",
    "    return len(s)\n",
    "\n",
    "def getIsland(row,col,grid, coordinates):\n",
    "    grid[row][col] = 2\n",
    "    coordinates.append(str((0,0)))\n",
    "    nbrs = getNeighbours(row, col, grid)\n",
    "    for nr, nc in nbrs:\n",
    "        if grid[nr][nc] == 1:\n",
    "            coordinates.append(str((nr-row, nc-col)))\n",
    "            getIsland(nr,nc,grid, coordinates)\n",
    "    \n",
    "            \n",
    "    \n",
    "def getNeighbours(row, col, grid):\n",
    "    nrs = []\n",
    "    if row > 0:\n",
    "        nrs.append((row-1, col))\n",
    "    if row < len(grid)-1:\n",
    "        nrs.append((row+1, col))\n",
    "    if col > 0:\n",
    "        nrs.append((row, col-1))\n",
    "    if col<len(grid[row]) - 1:\n",
    "        nrs.append((row, col+1))\n",
    "    return nrs            \n",
    "    "
   ]
  },
  {
   "cell_type": "code",
   "execution_count": 33,
   "id": "4d47f540",
   "metadata": {},
   "outputs": [
    {
     "data": {
      "text/plain": [
       "1"
      ]
     },
     "execution_count": 33,
     "metadata": {},
     "output_type": "execute_result"
    }
   ],
   "source": [
    "grid = [[1, 1, 0, 0, 0],[1, 1, 0, 0, 0],[0, 0, 0, 1, 1], [0, 0, 0, 1, 1]]\n",
    "countOfDistinctIslands(grid)"
   ]
  },
  {
   "cell_type": "code",
   "execution_count": 34,
   "id": "fceaee39",
   "metadata": {},
   "outputs": [
    {
     "data": {
      "text/plain": [
       "3"
      ]
     },
     "execution_count": 34,
     "metadata": {},
     "output_type": "execute_result"
    }
   ],
   "source": [
    "grid = [[1, 1, 0, 1, 1], \n",
    "[1, 0, 0, 0, 0], \n",
    "[0, 0, 0, 0, 1], \n",
    "[1, 1, 0, 1, 1]]\n",
    "countOfDistinctIslands(grid)"
   ]
  },
  {
   "cell_type": "code",
   "execution_count": null,
   "id": "6c7a3628",
   "metadata": {},
   "outputs": [],
   "source": []
  }
 ],
 "metadata": {
  "kernelspec": {
   "display_name": "Python 3",
   "language": "python",
   "name": "python3"
  },
  "language_info": {
   "codemirror_mode": {
    "name": "ipython",
    "version": 3
   },
   "file_extension": ".py",
   "mimetype": "text/x-python",
   "name": "python",
   "nbconvert_exporter": "python",
   "pygments_lexer": "ipython3",
   "version": "3.8.8"
  }
 },
 "nbformat": 4,
 "nbformat_minor": 5
}
