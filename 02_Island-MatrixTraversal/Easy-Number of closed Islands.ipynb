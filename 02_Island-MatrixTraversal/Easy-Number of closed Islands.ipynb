{
 "cells": [
  {
   "attachments": {
    "image.png": {
     "image/png": "[encoded data removed]"
    }
   },
   "cell_type": "markdown",
   "id": "2d503c8f",
   "metadata": {},
   "source": [
    "## Problem: Number of closed Islands\n",
    "LeetCode: 1254. Number of Closed Islands\n",
    "https://leetcode.com/problems/number-of-closed-islands/description/\n",
    "\n",
    "Given a 2D grid consists of <B>0s (land)</B> and <B>1s (water)</B>.  An island is a maximal 4-directionally connected group of 0s and a closed island is an island totally (all left, top, right, bottom) surrounded by 1s.\n",
    "\n",
    "Return the number of closed islands.\n",
    "\n",
    " \n",
    "\n",
    "Example 1:\n",
    "\n",
    "![image.png](attachment:image.png)\n",
    "\n",
    "    Input: grid = [[1,1,1,1,1,1,1,0],[1,0,0,0,0,1,1,0],[1,0,1,0,1,1,1,0],[1,0,0,0,0,1,0,1],[1,1,1,1,1,1,1,0]]\n",
    "    Output: 2\n",
    "    Explanation: \n",
    "    Islands in gray are closed because they are completely surrounded by water (group of 1s).\n",
    "Example 2:\n",
    "\n",
    "\n",
    "\n",
    "    Input: grid = [[0,0,1,0,0],[0,1,0,1,0],[0,1,1,1,0]]\n",
    "    Output: 1\n",
    "Example 3:\n",
    "\n",
    "    Input: grid = [[1,1,1,1,1,1,1],\n",
    "                   [1,0,0,0,0,0,1],\n",
    "                   [1,0,1,1,1,0,1],\n",
    "                   [1,0,1,0,1,0,1],\n",
    "                   [1,0,1,1,1,0,1],\n",
    "                   [1,0,0,0,0,0,1],\n",
    "                   [1,1,1,1,1,1,1]]\n",
    "    Output: 2\n",
    " \n",
    "\n",
    "Constraints:\n",
    "\n",
    "    1 <= grid.length, grid[0].length <= 100\n",
    "    0 <= grid[i][j] <=1"
   ]
  },
  {
   "cell_type": "markdown",
   "id": "3591bb87",
   "metadata": {},
   "source": [
    "### Approach:\n",
    "Island problems have simple technique to visit each cells, mark visited cell either modifying the matrix or taking auxiliary matrix with boolean values. This helps to avoid multiple time visit of same cell.\n",
    "You can use DFS or BFS to solve it.\n",
    "Here, as 0 represents the land, so start with cell having value = 0.\n",
    "Do the DFS, and check the value of neighbouring cells, if it is also 0, then continue DFS else return 1 (count). To avoid revisiting the cells, set the visited cell's value as 2.\n",
    "Count would be accoumulated in the main loop.\n",
    "Trick: \n",
    "1. Start main loop from 1st row and col. Not from 0th. And end last row and col. As touching border would not be closed island.\n",
    "2. In DFS, keep checking if the cell is touching to the border, if yes then entire land in not a closed island, return 0\n",
    "3. If return value is zero, then save it in 'ans' variable and continue visiting the cells and updating it by 2 to mark that these cells are visited, it will avoid repeating the cells visit, also the cout is already save as 0.\n",
    "4. Return ans. Note, 'ans' variable is initialized as 1, if no bordering cells encountered during DFS then it is a closed island and hence, return ans whose value is 1."
   ]
  },
  {
   "cell_type": "code",
   "execution_count": 21,
   "id": "83ce7e45",
   "metadata": {},
   "outputs": [],
   "source": [
    "def closedIsland(grid):\n",
    "    count= 0\n",
    "    for i in range(1, len(grid)-1):\n",
    "        for j in range(1, len(grid[i])-1):\n",
    "            if grid[i][j] == 0:\n",
    "                count += explore(i, j, grid)\n",
    "    return count\n",
    "\n",
    "def explore(row, col, grid):\n",
    "    if row == 0 or col == 0 or row == len(grid)-1 or col == len(grid[row]) -1:\n",
    "        return 0\n",
    "    ans = 1\n",
    "    grid[row][col] = 2\n",
    "    nbrs = getNeighbours(row, col, grid)\n",
    "    for nr,nc in nbrs:\n",
    "        if grid[nr][nc] == 0:\n",
    "            if explore(nr,nc, grid) == 0:\n",
    "                ans = 0\n",
    "    return ans\n",
    "\n",
    "def getNeighbours(row, col, grid):\n",
    "    nbrs = []\n",
    "    if row>0:\n",
    "        nbrs.append((row-1, col))\n",
    "    if col>0:\n",
    "        nbrs.append((row, col-1))\n",
    "    if row < len(grid)-1:\n",
    "        nbrs.append((row+1, col))\n",
    "    if col < len(grid[row])-1:\n",
    "        nbrs.append((row, col+1))\n",
    "    return nbrs"
   ]
  },
  {
   "cell_type": "code",
   "execution_count": 22,
   "id": "ea5e3e3b",
   "metadata": {},
   "outputs": [
    {
     "data": {
      "text/plain": [
       "2"
      ]
     },
     "execution_count": 22,
     "metadata": {},
     "output_type": "execute_result"
    }
   ],
   "source": [
    "grid = [[1,1,1,1,1,1,1,0],\n",
    "        [1,0,0,0,0,1,1,0],\n",
    "        [1,0,1,0,1,1,1,0],\n",
    "        [1,0,0,0,0,1,0,1],\n",
    "        [1,1,1,1,1,1,1,0]]\n",
    "closedIsland(grid)"
   ]
  },
  {
   "cell_type": "code",
   "execution_count": 23,
   "id": "83625064",
   "metadata": {},
   "outputs": [
    {
     "data": {
      "text/plain": [
       "5"
      ]
     },
     "execution_count": 23,
     "metadata": {},
     "output_type": "execute_result"
    }
   ],
   "source": [
    "grid = [[0,0,1,1,0,1,0,0,1,0],\n",
    "        [1,1,0,1,1,0,1,1,1,0],\n",
    "        [1,0,1,1,1,0,0,1,1,0],\n",
    "        [0,1,1,0,0,0,0,1,0,1],\n",
    "        [0,0,0,0,0,0,1,1,1,0],\n",
    "        [0,1,0,1,0,1,0,1,1,1],\n",
    "        [1,0,1,0,1,1,0,0,0,1],\n",
    "        [1,1,1,1,1,1,0,0,0,0],\n",
    "        [1,1,1,0,0,1,0,1,0,1],\n",
    "        [1,1,1,0,1,1,0,1,1,0]]\n",
    "closedIsland(grid)"
   ]
  },
  {
   "cell_type": "code",
   "execution_count": null,
   "id": "485fbace",
   "metadata": {},
   "outputs": [],
   "source": []
  }
 ],
 "metadata": {
  "kernelspec": {
   "display_name": "Python 3",
   "language": "python",
   "name": "python3"
  },
  "language_info": {
   "codemirror_mode": {
    "name": "ipython",
    "version": 3
   },
   "file_extension": ".py",
   "mimetype": "text/x-python",
   "name": "python",
   "nbconvert_exporter": "python",
   "pygments_lexer": "ipython3",
   "version": "3.8.8"
  }
 },
 "nbformat": 4,
 "nbformat_minor": 5
}
