{
 "cells": [
  {
   "cell_type": "markdown",
   "id": "bcd19bd9",
   "metadata": {},
   "source": [
    "## Problem : Subset\n",
    "LeetCode: 78. Subsets\n",
    "\n",
    "https://leetcode.com/problems/subsets/\n",
    "\n",
    "Given an integer array nums of unique elements, return all possible \n",
    "subsets (the power set).\n",
    "\n",
    "The solution set must not contain duplicate subsets. Return the solution in any order.\n",
    "\n",
    " \n",
    "Example 1:\n",
    "\n",
    "    Input: nums = [1,2,3]\n",
    "    Output: [[],[1],[2],[1,2],[3],[1,3],[2,3],[1,2,3]]\n",
    "Example 2:\n",
    "\n",
    "    Input: nums = [0]\n",
    "    Output: [[],[0]]\n",
    " \n",
    "\n",
    "Constraints:\n",
    "\n",
    "    1 <= nums.length <= 10\n",
    "    -10 <= nums[i] <= 10\n",
    "    All the numbers of nums are unique."
   ]
  },
  {
   "cell_type": "markdown",
   "id": "79eade20",
   "metadata": {},
   "source": [
    "Steps:\n",
    "    \n",
    "1. Create a list result to store result.\n",
    "2. Create a temp list to store each value and then copy it to result. \n",
    "3. Call a recursive method, by passing array, temp list, res list and index = 0\n",
    "Base case: \n",
    "\n",
    "    No base case\n",
    "    \n",
    "4. Run a for loop from index to len(array) \n",
    "5. Add num ( = array[i]) to temp\n",
    "6. Call recursive method, by passing array, temp list, res list, and I+1 as index.\n",
    "7. Now, do the backtracking by pop out the value from temp. "
   ]
  },
  {
   "cell_type": "code",
   "execution_count": 4,
   "id": "8181d171",
   "metadata": {},
   "outputs": [],
   "source": [
    "def subset(nums):\n",
    "    result = []\n",
    "    susetRec(nums, result,[], 0)\n",
    "    return result\n",
    "\n",
    "def susetRec(nums, result, temp, index):\n",
    "    result.append(temp[:])\n",
    "    for i in range(index, len(nums)):\n",
    "        temp.append(nums[i])\n",
    "        susetRec(nums, result, temp, i+1)\n",
    "        temp.pop()\n",
    "        \n",
    "        "
   ]
  },
  {
   "cell_type": "code",
   "execution_count": 5,
   "id": "7a71ca9a",
   "metadata": {},
   "outputs": [
    {
     "data": {
      "text/plain": [
       "[[], [1], [1, 2], [1, 2, 3], [1, 3], [2], [2, 3], [3]]"
      ]
     },
     "execution_count": 5,
     "metadata": {},
     "output_type": "execute_result"
    }
   ],
   "source": [
    "nums = [1,2,3]\n",
    "subset(nums)"
   ]
  }
 ],
 "metadata": {
  "kernelspec": {
   "display_name": "Python 3",
   "language": "python",
   "name": "python3"
  },
  "language_info": {
   "codemirror_mode": {
    "name": "ipython",
    "version": 3
   },
   "file_extension": ".py",
   "mimetype": "text/x-python",
   "name": "python",
   "nbconvert_exporter": "python",
   "pygments_lexer": "ipython3",
   "version": "3.8.8"
  }
 },
 "nbformat": 4,
 "nbformat_minor": 5
}
