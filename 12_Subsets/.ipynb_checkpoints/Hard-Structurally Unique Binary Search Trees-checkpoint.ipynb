{
 "cells": [
  {
   "cell_type": "markdown",
   "id": "8ab835cb",
   "metadata": {},
   "source": [
    "## Problem: Structurally Unique Binary Search Trees\n",
    "LeetCode : 95. Unique Binary Search Trees II\n",
    "\n",
    "https://leetcode.com/problems/unique-binary-search-trees-ii/\n",
    "\n",
    "Given an integer n, return all the structurally unique BST's (binary search trees), which has exactly n nodes of unique values from 1 to n. Return the answer in any order.\n",
    "\n",
    " \n",
    "\n",
    "Example 1:\n",
    "\n",
    "\n",
    "    Input: n = 3\n",
    "    Output: [[1,null,2,null,3],[1,null,3,2],[2,1,3],[3,1,null,null,2],[3,2,null,1]]\n",
    "Example 2:\n",
    "\n",
    "    Input: n = 1\n",
    "    Output: [[1]]\n",
    " \n",
    "\n",
    "Constraints:\n",
    "\n",
    "    1 <= n <= 8"
   ]
  },
  {
   "cell_type": "markdown",
   "id": "03140c00",
   "metadata": {},
   "source": [
    "### Approach:\n",
    "We will use recursive methods to generate left and right subtrees. Pass 1 as the strat node and n as the total node in recursive method.\n",
    "Use loop in recursive method, i being root, pass (start, i-1) for left and (i+1, n) for right.\n",
    "Once we have left and right children, will create trees from combinations of left and right nodes.\n",
    "Run the loop for left, and inner loop for right. for each left node and its right nodem create the node and push into result.\n",
    "\n",
    "Base case: If start node > end, then it can not form the BST, so enter None in result.\n",
    "\n",
    "\n",
    "Memoization:\n",
    "\n",
    "Since our algorithm has overlapping subproblems, can we use memoization to improve it? We could, but every time we return the result of a subproblem from the cache, we have to clone the result list because these trees will be used as the left or right child of a tree. This cloning is equivalent to reconstructing the trees, therefore, the overall time complexity of the memoized algorithm will also be the same.\n"
   ]
  },
  {
   "cell_type": "code",
   "execution_count": 22,
   "id": "4cc9b9e9",
   "metadata": {},
   "outputs": [],
   "source": [
    "class Node:\n",
    "    def __init__(self, value, left = None, right = None):\n",
    "        self.val = value\n",
    "        self.left = left\n",
    "        self.right = right\n",
    "        \n",
    "def generateTrees(n):\n",
    "    return generateTreesRec(1, n)\n",
    "def generateTreesRec(start, end):\n",
    "    result = []\n",
    "    if start> end:\n",
    "        result.append(None)\n",
    "        return result\n",
    "    for i in range(start, end+1):\n",
    "        left = generateTreesRec(start, i-1)\n",
    "        right = generateTreesRec(i+1, end)\n",
    "        for l in left:\n",
    "            for r in right:\n",
    "                root = Node(i, l, r)\n",
    "                result.append(root)\n",
    "    return result\n",
    "                \n",
    "        \n",
    "    "
   ]
  },
  {
   "cell_type": "code",
   "execution_count": 23,
   "id": "69b1d07f",
   "metadata": {},
   "outputs": [],
   "source": [
    "def printTree(root):\n",
    "    if root:\n",
    "        print(root.val)\n",
    "        printTree(root.left)\n",
    "        printTree(root.right)\n",
    "        \n",
    "        "
   ]
  },
  {
   "cell_type": "code",
   "execution_count": 24,
   "id": "a8c2bc86",
   "metadata": {},
   "outputs": [
    {
     "name": "stdout",
     "output_type": "stream",
     "text": [
      "Tree  0\n",
      "1\n",
      "2\n",
      "3\n",
      "Tree  1\n",
      "1\n",
      "3\n",
      "2\n",
      "Tree  2\n",
      "2\n",
      "1\n",
      "3\n",
      "Tree  3\n",
      "3\n",
      "1\n",
      "2\n",
      "Tree  4\n",
      "3\n",
      "2\n",
      "1\n"
     ]
    }
   ],
   "source": [
    "result = generateTrees(3)\n",
    "for i,r in enumerate(result):\n",
    "    print(\"Tree \", i)\n",
    "    printTree(r)"
   ]
  },
  {
   "cell_type": "code",
   "execution_count": null,
   "id": "21faf3b4",
   "metadata": {},
   "outputs": [],
   "source": []
  }
 ],
 "metadata": {
  "kernelspec": {
   "display_name": "Python 3",
   "language": "python",
   "name": "python3"
  },
  "language_info": {
   "codemirror_mode": {
    "name": "ipython",
    "version": 3
   },
   "file_extension": ".py",
   "mimetype": "text/x-python",
   "name": "python",
   "nbconvert_exporter": "python",
   "pygments_lexer": "ipython3",
   "version": "3.8.8"
  }
 },
 "nbformat": 4,
 "nbformat_minor": 5
}
