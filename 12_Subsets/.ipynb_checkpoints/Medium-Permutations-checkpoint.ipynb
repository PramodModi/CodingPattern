{
 "cells": [
  {
   "cell_type": "markdown",
   "id": "1fae429a",
   "metadata": {},
   "source": [
    "## Problem: Permutations\n",
    "Leet Code: 46. Permutations\n",
    "\n",
    "https://leetcode.com/problems/permutations/\n",
    "\n",
    "Given an array nums of distinct integers, return all the possible permutations. You can return the answer in any order.\n",
    "\n",
    "Example 1:\n",
    "\n",
    "    Input: nums = [1,2,3]\n",
    "    Output: [[1,2,3],[1,3,2],[2,1,3],[2,3,1],[3,1,2],[3,2,1]]\n",
    "Example 2:\n",
    "\n",
    "    Input: nums = [0,1]\n",
    "    Output: [[0,1],[1,0]]\n",
    "Example 3:\n",
    "\n",
    "    Input: nums = [1]\n",
    "    Output: [[1]]\n",
    " \n",
    "\n",
    "Constraints:\n",
    "\n",
    "    1 <= nums.length <= 6\n",
    "    -10 <= nums[i] <= 10\n",
    "    All the integers of nums are unique."
   ]
  },
  {
   "cell_type": "code",
   "execution_count": 4,
   "id": "a2faece4",
   "metadata": {},
   "outputs": [],
   "source": [
    "def permutations(nums):\n",
    "    result = []\n",
    "    permutationRec(nums, result, 0)\n",
    "    return result\n",
    "\n",
    "def permutationRec(nums, result, index):\n",
    "    if index == len(nums):\n",
    "        result.append(nums[:])\n",
    "        return\n",
    "    for i in range(index, len(nums)):\n",
    "        swap(nums, i, index)\n",
    "        permutationRec(nums, result, index+1)\n",
    "        swap(nums, i, index)\n",
    "        \n",
    "def swap(nums, idx1, idx2):\n",
    "    nums[idx1], nums[idx2] = nums[idx2], nums[idx1]"
   ]
  },
  {
   "cell_type": "code",
   "execution_count": 5,
   "id": "4cf660fa",
   "metadata": {},
   "outputs": [
    {
     "data": {
      "text/plain": [
       "[[1, 2, 3], [1, 3, 2], [2, 1, 3], [2, 3, 1], [3, 2, 1], [3, 1, 2]]"
      ]
     },
     "execution_count": 5,
     "metadata": {},
     "output_type": "execute_result"
    }
   ],
   "source": [
    "nums = [1,2,3]\n",
    "permutations(nums)"
   ]
  },
  {
   "cell_type": "code",
   "execution_count": null,
   "id": "4fccbbfe",
   "metadata": {},
   "outputs": [],
   "source": []
  }
 ],
 "metadata": {
  "kernelspec": {
   "display_name": "Python 3",
   "language": "python",
   "name": "python3"
  },
  "language_info": {
   "codemirror_mode": {
    "name": "ipython",
    "version": 3
   },
   "file_extension": ".py",
   "mimetype": "text/x-python",
   "name": "python",
   "nbconvert_exporter": "python",
   "pygments_lexer": "ipython3",
   "version": "3.8.8"
  }
 },
 "nbformat": 4,
 "nbformat_minor": 5
}
