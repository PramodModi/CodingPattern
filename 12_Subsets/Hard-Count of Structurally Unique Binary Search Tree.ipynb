{
 "cells": [
  {
   "cell_type": "markdown",
   "id": "6a254c84",
   "metadata": {},
   "source": [
    "## Problem: Count of Structurally Unique Binary Search Tree\n",
    "LeetCode: 96. Unique Binary Search Trees\n",
    "\n",
    "https://leetcode.com/problems/unique-binary-search-trees/\n",
    "\n",
    "Given an integer n, return the number of structurally unique BST's (binary search trees) which has exactly n nodes of unique values from 1 to n.\n",
    "\n",
    " \n",
    "\n",
    "Example 1:\n",
    "\n",
    "\n",
    "    Input: n = 3\n",
    "    Output: 5\n",
    "Example 2:\n",
    "\n",
    "    Input: n = 1\n",
    "    Output: 1\n",
    " \n",
    "\n",
    "Constraints:\n",
    "\n",
    "    1 <= n <= 19\n"
   ]
  },
  {
   "cell_type": "markdown",
   "id": "a50bbcc6",
   "metadata": {},
   "source": [
    "## Approach: \n",
    "\n",
    "First of all how to count the number of binary search tree (BST):\n",
    "    If there are are l combinations in left subtree and r combinations in right subtree. Then total number of combinations of binary search tree = l * r\n",
    "    If there is 1 node or zero then count = 1\n",
    "    \n",
    "Steps:\n",
    "1. Will use the recursive method. Base case, if number of node is leas than and equal to 1, then return 1.\n",
    "2. run the loop, from 1 to n+1.\n",
    "3. run the recursive method to get the number of left combinations and right combinations.\n",
    "    Consider i as root, pass i-1 for left combinations and n-i for right combinnations.\n",
    "4. Count += left combinations * right combinations.\n",
    "5. Return the count.\n",
    "\n",
    "Since the count is getting calculated for left and right, so there may be repeated calculations. Example: if commbinations is already calculated for n =3 for left part, then again we may calculate for n = 3 for right part.\n",
    "To avoid that, we will use memoization. Will keep the result for each n.\n",
    "\n",
    "At the begining of recursive method, first we check if we have result for given n in memory (hash map), then return that otherwise do the calculation. Also, before returning the result, store it in hash map."
   ]
  },
  {
   "cell_type": "code",
   "execution_count": 1,
   "id": "e8cc534f",
   "metadata": {},
   "outputs": [],
   "source": [
    "def countTrees(n):\n",
    "    return countTreesRec({},n)\n",
    "def countTreesRec(memoization, n):\n",
    "    if n in memoization:\n",
    "        return memoization[n]\n",
    "    if n <= 1:\n",
    "        return 1\n",
    "    count = 0    \n",
    "    for i in range(1, n+1):\n",
    "        leftCount = countTreesRec(memoization, i-1)\n",
    "        rightCount = countTreesRec(memoization, n-i)\n",
    "        count += leftCount*rightCount\n",
    "    memoization[n] = count\n",
    "    return count"
   ]
  },
  {
   "cell_type": "code",
   "execution_count": 2,
   "id": "00bc8e1d",
   "metadata": {},
   "outputs": [
    {
     "data": {
      "text/plain": [
       "5"
      ]
     },
     "execution_count": 2,
     "metadata": {},
     "output_type": "execute_result"
    }
   ],
   "source": [
    "countTrees(3)"
   ]
  },
  {
   "cell_type": "code",
   "execution_count": 3,
   "id": "658ebd10",
   "metadata": {},
   "outputs": [
    {
     "data": {
      "text/plain": [
       "1"
      ]
     },
     "execution_count": 3,
     "metadata": {},
     "output_type": "execute_result"
    }
   ],
   "source": [
    "countTrees(1)"
   ]
  },
  {
   "cell_type": "markdown",
   "id": "20dd6486",
   "metadata": {},
   "source": [
    "### DP Approach\n",
    "\n",
    "Since it is asking for number of combinations and we have seen above that it is overlapping sub problem, so we can use DP.\n",
    "\n",
    "Base case : count = 1 for n = 0 and n =1\n",
    "dp[0] = 1\n",
    "dp[1] = 1\n",
    "\n",
    "count = count + leftNode * rightNode\n",
    "dp[i] += dp[j-1] * dp[i-j], here i is the root, j-1 is left and i-j is the right.\n",
    "\n",
    "where i and j are loop variable.\n",
    "for i in range(2, n+1)\n",
    "    for j in range(1, i+1)"
   ]
  },
  {
   "cell_type": "code",
   "execution_count": 14,
   "id": "5b89d8eb",
   "metadata": {},
   "outputs": [],
   "source": [
    "def countTrees_dp(n):\n",
    "    dp = [0]*(n+1)\n",
    "    dp[0] = 1\n",
    "    dp[1] = 1\n",
    "    for i in range(2, n+1):\n",
    "        for j in range(1, i+1):\n",
    "            dp[i] +=  dp[j-1] * dp[i-j]\n",
    "    return dp[-1]"
   ]
  },
  {
   "cell_type": "code",
   "execution_count": 15,
   "id": "4e604131",
   "metadata": {},
   "outputs": [
    {
     "data": {
      "text/plain": [
       "5"
      ]
     },
     "execution_count": 15,
     "metadata": {},
     "output_type": "execute_result"
    }
   ],
   "source": [
    "countTrees_dp(3)"
   ]
  },
  {
   "cell_type": "code",
   "execution_count": 16,
   "id": "547490f1",
   "metadata": {},
   "outputs": [
    {
     "data": {
      "text/plain": [
       "2"
      ]
     },
     "execution_count": 16,
     "metadata": {},
     "output_type": "execute_result"
    }
   ],
   "source": [
    "countTrees_dp(2)"
   ]
  },
  {
   "cell_type": "code",
   "execution_count": 13,
   "id": "a55cf791",
   "metadata": {},
   "outputs": [
    {
     "data": {
      "text/plain": [
       "1"
      ]
     },
     "execution_count": 13,
     "metadata": {},
     "output_type": "execute_result"
    }
   ],
   "source": [
    "countTrees_dp(1)"
   ]
  },
  {
   "cell_type": "code",
   "execution_count": null,
   "id": "64bbdcbb",
   "metadata": {},
   "outputs": [],
   "source": []
  }
 ],
 "metadata": {
  "kernelspec": {
   "display_name": "Python 3",
   "language": "python",
   "name": "python3"
  },
  "language_info": {
   "codemirror_mode": {
    "name": "ipython",
    "version": 3
   },
   "file_extension": ".py",
   "mimetype": "text/x-python",
   "name": "python",
   "nbconvert_exporter": "python",
   "pygments_lexer": "ipython3",
   "version": "3.8.8"
  }
 },
 "nbformat": 4,
 "nbformat_minor": 5
}
