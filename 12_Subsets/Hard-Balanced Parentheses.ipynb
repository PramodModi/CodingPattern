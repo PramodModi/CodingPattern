{
 "cells": [
  {
   "cell_type": "markdown",
   "id": "e4648080",
   "metadata": {},
   "source": [
    "## Problem: Balanced Parentheses\n",
    "LeetCode : 22. Generate Parentheses\n",
    "\n",
    "https://leetcode.com/problems/generate-parentheses/\n",
    "\n",
    "Given n pairs of parentheses, write a function to generate all combinations of well-formed parentheses.\n",
    "\n",
    " \n",
    "\n",
    "Example 1:\n",
    "\n",
    "    Input: n = 3\n",
    "    Output: [\"((()))\",\"(()())\",\"(())()\",\"()(())\",\"()()()\"]\n",
    "Example 2:\n",
    "\n",
    "    Input: n = 1\n",
    "    Output: [\"()\"]\n",
    " \n",
    "\n",
    "Constraints:\n",
    "\n",
    "    1 <= n <= 8"
   ]
  },
  {
   "cell_type": "code",
   "execution_count": 7,
   "id": "4ea5ad5a",
   "metadata": {},
   "outputs": [],
   "source": [
    "def generateParenthesis(n):\n",
    "    result = []\n",
    "    parenthesis(n, n, result, \"\")\n",
    "    return result\n",
    "def parenthesis(open, close, result, temp):\n",
    "    if open == 0 and close == 0:\n",
    "        result.append(temp)\n",
    "        return\n",
    "    if open > 0:\n",
    "        parenthesis(open-1, close, result, temp+\"(\")\n",
    "    if close > 0 and close > open:\n",
    "        parenthesis(open, close-1, result, temp+\")\")\n",
    "            \n",
    "            \n",
    "            "
   ]
  },
  {
   "cell_type": "code",
   "execution_count": 8,
   "id": "1130712b",
   "metadata": {},
   "outputs": [
    {
     "data": {
      "text/plain": [
       "['()']"
      ]
     },
     "execution_count": 8,
     "metadata": {},
     "output_type": "execute_result"
    }
   ],
   "source": [
    "generateParenthesis(1)"
   ]
  },
  {
   "cell_type": "code",
   "execution_count": 9,
   "id": "95958af4",
   "metadata": {},
   "outputs": [
    {
     "data": {
      "text/plain": [
       "['((()))', '(()())', '(())()', '()(())', '()()()']"
      ]
     },
     "execution_count": 9,
     "metadata": {},
     "output_type": "execute_result"
    }
   ],
   "source": [
    "generateParenthesis(3)"
   ]
  },
  {
   "cell_type": "code",
   "execution_count": null,
   "id": "d8456ef5",
   "metadata": {},
   "outputs": [],
   "source": []
  }
 ],
 "metadata": {
  "kernelspec": {
   "display_name": "Python 3",
   "language": "python",
   "name": "python3"
  },
  "language_info": {
   "codemirror_mode": {
    "name": "ipython",
    "version": 3
   },
   "file_extension": ".py",
   "mimetype": "text/x-python",
   "name": "python",
   "nbconvert_exporter": "python",
   "pygments_lexer": "ipython3",
   "version": "3.8.8"
  }
 },
 "nbformat": 4,
 "nbformat_minor": 5
}
