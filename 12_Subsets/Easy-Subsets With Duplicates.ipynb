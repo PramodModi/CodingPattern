{
 "cells": [
  {
   "cell_type": "markdown",
   "id": "af6e4e00",
   "metadata": {},
   "source": [
    "## Problem: Subsets With Duplicates\n",
    "LeetCode : 90. Subsets II\n",
    "\n",
    "https://leetcode.com/problems/subsets-ii/\n",
    "\n",
    "Given an integer array nums that may contain duplicates, return all possible subsets (the power set).\n",
    "\n",
    "The solution set must not contain duplicate subsets. Return the solution in any order.\n",
    "\n",
    "Example 1:\n",
    "\n",
    "    Input: nums = [1,2,2]\n",
    "    Output: [[],[1],[1,2],[1,2,2],[2],[2,2]]\n",
    "Example 2:\n",
    "\n",
    "    Input: nums = [0]\n",
    "    Output: [[],[0]]\n",
    " \n",
    "\n",
    "Constraints:\n",
    "\n",
    "    1 <= nums.length <= 10\n",
    "    -10 <= nums[i] <= 10"
   ]
  },
  {
   "cell_type": "code",
   "execution_count": 3,
   "id": "3370936c",
   "metadata": {},
   "outputs": [],
   "source": [
    "def subSets(nums):\n",
    "    nums.sort()\n",
    "    result = []\n",
    "    subsetRec(nums, result, [], 0)\n",
    "    return result\n",
    "def subsetRec(nums, result, temp, index):\n",
    "    result.append(temp[:])\n",
    "    for i in range(index, len(nums)):\n",
    "        if i != index and nums[i-1] == nums[i]:\n",
    "            continue\n",
    "        temp.append(nums[i])\n",
    "        subsetRec(nums, result, temp, i+1)\n",
    "        temp.pop()\n",
    "    \n",
    "        "
   ]
  },
  {
   "cell_type": "code",
   "execution_count": 4,
   "id": "f979fdec",
   "metadata": {},
   "outputs": [
    {
     "data": {
      "text/plain": [
       "[[], [1], [1, 2], [1, 2, 2], [2], [2, 2]]"
      ]
     },
     "execution_count": 4,
     "metadata": {},
     "output_type": "execute_result"
    }
   ],
   "source": [
    "nums = [1,2,2]\n",
    "subSets(nums)"
   ]
  },
  {
   "cell_type": "code",
   "execution_count": null,
   "id": "fa4c68f9",
   "metadata": {},
   "outputs": [],
   "source": []
  }
 ],
 "metadata": {
  "kernelspec": {
   "display_name": "Python 3",
   "language": "python",
   "name": "python3"
  },
  "language_info": {
   "codemirror_mode": {
    "name": "ipython",
    "version": 3
   },
   "file_extension": ".py",
   "mimetype": "text/x-python",
   "name": "python",
   "nbconvert_exporter": "python",
   "pygments_lexer": "ipython3",
   "version": "3.8.8"
  }
 },
 "nbformat": 4,
 "nbformat_minor": 5
}
