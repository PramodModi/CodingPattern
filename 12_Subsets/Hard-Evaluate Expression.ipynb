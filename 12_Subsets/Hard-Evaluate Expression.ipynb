{
 "cells": [
  {
   "cell_type": "markdown",
   "id": "fd904678",
   "metadata": {},
   "source": [
    "## Problem: Evaluate Expression\n",
    "LeetCode : 241. Different Ways to Add Parentheses\n",
    "\n",
    "https://leetcode.com/problems/different-ways-to-add-parentheses/\n",
    "\n",
    "Given a string expression of numbers and operators, return all possible results from computing all the different possible ways to group numbers and operators. You may return the answer in any order.\n",
    "\n",
    "The test cases are generated such that the output values fit in a 32-bit integer and the number of different results does not exceed 104.\n",
    "\n",
    " \n",
    "\n",
    "Example 1:\n",
    "\n",
    "    Input: expression = \"2-1-1\"\n",
    "    Output: [0,2]\n",
    "    Explanation:\n",
    "    ((2-1)-1) = 0 \n",
    "    (2-(1-1)) = 2\n",
    "Example 2:\n",
    "\n",
    "    Input: expression = \"2*3-4*5\"\n",
    "    Output: [-34,-14,-10,-10,10]\n",
    "    Explanation:\n",
    "    (2*(3-(4*5))) = -34 \n",
    "    ((2*3)-(4*5)) = -14 \n",
    "    ((2*(3-4))*5) = -10 \n",
    "    (2*((3-4)*5)) = -10 \n",
    "    (((2*3)-4)*5) = 10\n",
    " \n",
    "\n",
    "Constraints:\n",
    "\n",
    "    1 <= expression.length <= 20\n",
    "    expression consists of digits and the operator '+', '-', and '*'.\n",
    "    All the integer values in the input expression are in the range [0, 99]."
   ]
  },
  {
   "cell_type": "markdown",
   "id": "cbf0976c",
   "metadata": {},
   "source": [
    "### Approach:\n",
    "Think about this experssion : exp = \"2+3\". What steps you will take?\n",
    "1. iterate the loop, once get the '+' sign at index 'i', find the left part by dividing the string exp[:i] and right part exp[i+1:]\n",
    "2. Add the left part and right part, return the result.\n",
    "3. Left or right part may have more than one values, so stroe leftpart and rightpart in a list and run the loop for each value in left against each value in right.\n",
    "    Example: exp = \"2 * 3-4 * 5\"\n",
    "    Here, we may have to calculate. 2* (3- (4 * 5)) and 2 * (3-4)*5\n",
    "            so, left part = [2]\n",
    "                right part = [-17, -5]\n",
    "            hence, for each value of left part, we have to run loop for each value of right part.\n",
    "            \n",
    "This is exactly the soltion, by using recurssion method.\n",
    "\n",
    "Memoization:\n",
    "\n",
    "    Expression can be duplicated, like \"1+2+1+2\", since we already have result for \"1+2\" so no need to calculate it again. To avoid recalculation, we will use memoization, expression would be key and calculation as a value.\n",
    "\n",
    "Problem can have '+', '-', and '*' operators, so do the operation based on the operator.\n",
    "\n",
    "\n"
   ]
  },
  {
   "cell_type": "code",
   "execution_count": 25,
   "id": "dd588ae0",
   "metadata": {},
   "outputs": [],
   "source": [
    "def diffWaysToCompute(input):\n",
    "    memoization = {}\n",
    "    return diffWaysToComputeRec(input, memoization)\n",
    "\n",
    "def diffWaysToComputeRec(input, memoization):\n",
    "    if input in memoization:\n",
    "        return (memoization[input])\n",
    "    result = []\n",
    "    if input.isnumeric():\n",
    "        result.append(int(input))\n",
    "    else:\n",
    "        for i in range(len(input)):\n",
    "            if not input[i].isnumeric():\n",
    "                leftPart = diffWaysToComputeRec(input[:i], memoization)\n",
    "                rightPart = diffWaysToComputeRec(input[i+1:], memoization)\n",
    "                for l in leftPart:\n",
    "                    for r in rightPart:\n",
    "                        if input[i] == \"+\":\n",
    "                            result.append( l+r)\n",
    "                        if input[i] == \"-\":\n",
    "                            result.append( l-r)\n",
    "                        if input[i] == \"*\":\n",
    "                            result.append( l*r)\n",
    "    memoization[input] = result\n",
    "    return result\n",
    "    "
   ]
  },
  {
   "cell_type": "code",
   "execution_count": 26,
   "id": "59a3ff58",
   "metadata": {},
   "outputs": [
    {
     "data": {
      "text/plain": [
       "[2, 0]"
      ]
     },
     "execution_count": 26,
     "metadata": {},
     "output_type": "execute_result"
    }
   ],
   "source": [
    "input = \"2-1-1\"\n",
    "diffWaysToCompute(input)"
   ]
  },
  {
   "cell_type": "code",
   "execution_count": 27,
   "id": "bc2f8f96",
   "metadata": {},
   "outputs": [
    {
     "data": {
      "text/plain": [
       "[-34, -10, -14, -10, 10]"
      ]
     },
     "execution_count": 27,
     "metadata": {},
     "output_type": "execute_result"
    }
   ],
   "source": [
    "input = \"2*3-4*5\"\n",
    "diffWaysToCompute(input)"
   ]
  },
  {
   "cell_type": "code",
   "execution_count": null,
   "id": "86f9d0de",
   "metadata": {},
   "outputs": [],
   "source": []
  }
 ],
 "metadata": {
  "kernelspec": {
   "display_name": "Python 3",
   "language": "python",
   "name": "python3"
  },
  "language_info": {
   "codemirror_mode": {
    "name": "ipython",
    "version": 3
   },
   "file_extension": ".py",
   "mimetype": "text/x-python",
   "name": "python",
   "nbconvert_exporter": "python",
   "pygments_lexer": "ipython3",
   "version": "3.8.8"
  }
 },
 "nbformat": 4,
 "nbformat_minor": 5
}
