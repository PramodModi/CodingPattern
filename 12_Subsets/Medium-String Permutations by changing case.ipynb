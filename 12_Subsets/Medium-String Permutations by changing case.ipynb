{
 "cells": [
  {
   "cell_type": "markdown",
   "id": "2cb38887",
   "metadata": {},
   "source": [
    "## Problem: String Permutations by changing case\n",
    "LeetCode : 784. Letter Case Permutation\n",
    "\n",
    "https://leetcode.com/problems/letter-case-permutation/description/\n",
    "\n",
    "Given a string s, you can transform every letter individually to be lowercase or uppercase to create another string.\n",
    "\n",
    "Return a list of all possible strings we could create. Return the output in any order.\n",
    "\n",
    " \n",
    "\n",
    "Example 1:\n",
    "\n",
    "    Input: s = \"a1b2\"\n",
    "    Output: [\"a1b2\",\"a1B2\",\"A1b2\",\"A1B2\"]\n",
    "Example 2:\n",
    "\n",
    "    Input: s = \"3z4\"\n",
    "    Output: [\"3z4\",\"3Z4\"]\n",
    " \n",
    "\n",
    "Constraints:\n",
    "\n",
    "    1 <= s.length <= 12\n",
    "    s consists of lowercase English letters, uppercase English letters, and digits."
   ]
  },
  {
   "cell_type": "markdown",
   "id": "170e36d2",
   "metadata": {},
   "source": [
    "### Approach:\n",
    "\n",
    "This problem falls in Subset permutation pattern. In permutation problem we used backtracking and copying temp values in result in each iteration. On each iteration, we pulled one item at a time from array and updated the temp list, and append in the rsult with all items from temp list. For each recurssive calls we keep increasing the index. In this problem, rather than taking each item out, we take the letter at agiven index, check if it is alphabet, then change it to another case (upper to lower and vice versa) and again placed in the string. Do the back tracking at the end.\n",
    "\n",
    "Steps:\n",
    "1. Call recursive method, with string, result (a list to hold the result), and 0 (start index).\n",
    "2. Append the result from string (the original string)\n",
    "3. Run a loop start from given index\n",
    "4. Check the character at the index i, if it is alphabet, the modify the case and update the string.\n",
    "5. Call recursive method with modified string and pass index as i+1\n",
    "6. Do backtracking, by changing the character as same as earlier."
   ]
  },
  {
   "cell_type": "code",
   "execution_count": 36,
   "id": "94c092b6",
   "metadata": {},
   "outputs": [],
   "source": [
    "def letterCasePermutation(s):\n",
    "        result = []\n",
    "        temp = s\n",
    "        helper(s, result,0)\n",
    "        return result\n",
    "def helper(s, result, index):\n",
    "    result.append(s)\n",
    "    for i in range(index, len(s)):\n",
    "        c = s[i]\n",
    "        if not c.isalpha():\n",
    "            continue\n",
    "        if c.islower():\n",
    "            c = c.upper()\n",
    "        else:\n",
    "            c = c.lower()\n",
    "        s = s[:i] + c + s[i+1:]\n",
    "        helper(s, result,i+1)\n",
    "        if c.islower():\n",
    "            c = c.upper()\n",
    "        else:\n",
    "            c = c.lower()\n",
    "        s = s[:i] + c + s[i+1:]\n",
    "        "
   ]
  },
  {
   "cell_type": "code",
   "execution_count": 37,
   "id": "d68efbf5",
   "metadata": {},
   "outputs": [
    {
     "data": {
      "text/plain": [
       "['a1b2', 'A1b2', 'A1B2', 'a1B2']"
      ]
     },
     "execution_count": 37,
     "metadata": {},
     "output_type": "execute_result"
    }
   ],
   "source": [
    "s = \"a1b2\"\n",
    "letterCasePermutation(s)\n",
    "\n",
    "#Output: [\"a1b2\",\"a1B2\",\"A1b2\",\"A1B2\"]"
   ]
  },
  {
   "cell_type": "code",
   "execution_count": 38,
   "id": "f5dd9b0f",
   "metadata": {},
   "outputs": [
    {
     "data": {
      "text/plain": [
       "['C', 'c']"
      ]
     },
     "execution_count": 38,
     "metadata": {},
     "output_type": "execute_result"
    }
   ],
   "source": [
    "s = \"C\"\n",
    "letterCasePermutation(s)"
   ]
  },
  {
   "cell_type": "code",
   "execution_count": null,
   "id": "121ac460",
   "metadata": {},
   "outputs": [],
   "source": []
  }
 ],
 "metadata": {
  "kernelspec": {
   "display_name": "Python 3",
   "language": "python",
   "name": "python3"
  },
  "language_info": {
   "codemirror_mode": {
    "name": "ipython",
    "version": 3
   },
   "file_extension": ".py",
   "mimetype": "text/x-python",
   "name": "python",
   "nbconvert_exporter": "python",
   "pygments_lexer": "ipython3",
   "version": "3.8.8"
  }
 },
 "nbformat": 4,
 "nbformat_minor": 5
}
